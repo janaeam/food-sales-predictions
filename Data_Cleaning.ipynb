{
  "nbformat": 4,
  "nbformat_minor": 0,
  "metadata": {
    "colab": {
      "name": "Data_Cleaning.ipynb",
      "provenance": [],
      "collapsed_sections": [],
      "include_colab_link": true
    },
    "kernelspec": {
      "name": "python3",
      "display_name": "Python 3"
    },
    "language_info": {
      "name": "python"
    }
  },
  "cells": [
    {
      "cell_type": "markdown",
      "metadata": {
        "id": "view-in-github",
        "colab_type": "text"
      },
      "source": [
        "<a href=\"https://colab.research.google.com/github/janaeam/food-sales-predictions/blob/main/Data_Cleaning.ipynb\" target=\"_parent\"><img src=\"https://colab.research.google.com/assets/colab-badge.svg\" alt=\"Open In Colab\"/></a>"
      ]
    },
    {
      "cell_type": "markdown",
      "metadata": {
        "id": "l0e-FBGkbIyi"
      },
      "source": [
        "# Getting to Know My Data\n",
        "\n"
      ]
    },
    {
      "cell_type": "code",
      "metadata": {
        "id": "w84yAjARaMWV"
      },
      "source": [
        "import pandas as pd"
      ],
      "execution_count": 2,
      "outputs": []
    },
    {
      "cell_type": "code",
      "metadata": {
        "colab": {
          "base_uri": "https://localhost:8080/"
        },
        "id": "UO-JM52n9jIM",
        "outputId": "d2acaab5-2a8b-4fb6-a4f6-66df4a9c12cb"
      },
      "source": [
        "from google.colab import drive\n",
        "drive.mount('/content/drive')"
      ],
      "execution_count": 3,
      "outputs": [
        {
          "output_type": "stream",
          "text": [
            "Mounted at /content/drive\n"
          ],
          "name": "stdout"
        }
      ]
    },
    {
      "cell_type": "code",
      "metadata": {
        "id": "rRSsGCKAaROD"
      },
      "source": [
        "\n",
        "\n",
        "filename = '/content/drive/MyDrive/Coding Dojo/Project 1/sales_predictions.csv'\n",
        "sales = pd.read_csv(filename)"
      ],
      "execution_count": 4,
      "outputs": []
    },
    {
      "cell_type": "code",
      "metadata": {
        "colab": {
          "base_uri": "https://localhost:8080/",
          "height": 307
        },
        "id": "MkToetXaa_8D",
        "outputId": "0007d567-3fe5-4f8c-9dd0-b0cc728602c4"
      },
      "source": [
        "sales.head()"
      ],
      "execution_count": 5,
      "outputs": [
        {
          "output_type": "execute_result",
          "data": {
            "text/html": [
              "<div>\n",
              "<style scoped>\n",
              "    .dataframe tbody tr th:only-of-type {\n",
              "        vertical-align: middle;\n",
              "    }\n",
              "\n",
              "    .dataframe tbody tr th {\n",
              "        vertical-align: top;\n",
              "    }\n",
              "\n",
              "    .dataframe thead th {\n",
              "        text-align: right;\n",
              "    }\n",
              "</style>\n",
              "<table border=\"1\" class=\"dataframe\">\n",
              "  <thead>\n",
              "    <tr style=\"text-align: right;\">\n",
              "      <th></th>\n",
              "      <th>Item_Identifier</th>\n",
              "      <th>Item_Weight</th>\n",
              "      <th>Item_Fat_Content</th>\n",
              "      <th>Item_Visibility</th>\n",
              "      <th>Item_Type</th>\n",
              "      <th>Item_MRP</th>\n",
              "      <th>Outlet_Identifier</th>\n",
              "      <th>Outlet_Establishment_Year</th>\n",
              "      <th>Outlet_Size</th>\n",
              "      <th>Outlet_Location_Type</th>\n",
              "      <th>Outlet_Type</th>\n",
              "      <th>Item_Outlet_Sales</th>\n",
              "    </tr>\n",
              "  </thead>\n",
              "  <tbody>\n",
              "    <tr>\n",
              "      <th>0</th>\n",
              "      <td>FDA15</td>\n",
              "      <td>9.30</td>\n",
              "      <td>Low Fat</td>\n",
              "      <td>0.016047</td>\n",
              "      <td>Dairy</td>\n",
              "      <td>249.8092</td>\n",
              "      <td>OUT049</td>\n",
              "      <td>1999</td>\n",
              "      <td>Medium</td>\n",
              "      <td>Tier 1</td>\n",
              "      <td>Supermarket Type1</td>\n",
              "      <td>3735.1380</td>\n",
              "    </tr>\n",
              "    <tr>\n",
              "      <th>1</th>\n",
              "      <td>DRC01</td>\n",
              "      <td>5.92</td>\n",
              "      <td>Regular</td>\n",
              "      <td>0.019278</td>\n",
              "      <td>Soft Drinks</td>\n",
              "      <td>48.2692</td>\n",
              "      <td>OUT018</td>\n",
              "      <td>2009</td>\n",
              "      <td>Medium</td>\n",
              "      <td>Tier 3</td>\n",
              "      <td>Supermarket Type2</td>\n",
              "      <td>443.4228</td>\n",
              "    </tr>\n",
              "    <tr>\n",
              "      <th>2</th>\n",
              "      <td>FDN15</td>\n",
              "      <td>17.50</td>\n",
              "      <td>Low Fat</td>\n",
              "      <td>0.016760</td>\n",
              "      <td>Meat</td>\n",
              "      <td>141.6180</td>\n",
              "      <td>OUT049</td>\n",
              "      <td>1999</td>\n",
              "      <td>Medium</td>\n",
              "      <td>Tier 1</td>\n",
              "      <td>Supermarket Type1</td>\n",
              "      <td>2097.2700</td>\n",
              "    </tr>\n",
              "    <tr>\n",
              "      <th>3</th>\n",
              "      <td>FDX07</td>\n",
              "      <td>19.20</td>\n",
              "      <td>Regular</td>\n",
              "      <td>0.000000</td>\n",
              "      <td>Fruits and Vegetables</td>\n",
              "      <td>182.0950</td>\n",
              "      <td>OUT010</td>\n",
              "      <td>1998</td>\n",
              "      <td>NaN</td>\n",
              "      <td>Tier 3</td>\n",
              "      <td>Grocery Store</td>\n",
              "      <td>732.3800</td>\n",
              "    </tr>\n",
              "    <tr>\n",
              "      <th>4</th>\n",
              "      <td>NCD19</td>\n",
              "      <td>8.93</td>\n",
              "      <td>Low Fat</td>\n",
              "      <td>0.000000</td>\n",
              "      <td>Household</td>\n",
              "      <td>53.8614</td>\n",
              "      <td>OUT013</td>\n",
              "      <td>1987</td>\n",
              "      <td>High</td>\n",
              "      <td>Tier 3</td>\n",
              "      <td>Supermarket Type1</td>\n",
              "      <td>994.7052</td>\n",
              "    </tr>\n",
              "  </tbody>\n",
              "</table>\n",
              "</div>"
            ],
            "text/plain": [
              "  Item_Identifier  Item_Weight  ...        Outlet_Type  Item_Outlet_Sales\n",
              "0           FDA15         9.30  ...  Supermarket Type1          3735.1380\n",
              "1           DRC01         5.92  ...  Supermarket Type2           443.4228\n",
              "2           FDN15        17.50  ...  Supermarket Type1          2097.2700\n",
              "3           FDX07        19.20  ...      Grocery Store           732.3800\n",
              "4           NCD19         8.93  ...  Supermarket Type1           994.7052\n",
              "\n",
              "[5 rows x 12 columns]"
            ]
          },
          "metadata": {
            "tags": []
          },
          "execution_count": 5
        }
      ]
    },
    {
      "cell_type": "code",
      "metadata": {
        "colab": {
          "base_uri": "https://localhost:8080/"
        },
        "id": "7NfBv44XbCeL",
        "outputId": "2ffa0c2e-bbf7-4a5a-91b3-191b46aa66b8"
      },
      "source": [
        "# Are the dtypes consistent with the presumed column category\n",
        "\n",
        "sales.dtypes"
      ],
      "execution_count": 6,
      "outputs": [
        {
          "output_type": "execute_result",
          "data": {
            "text/plain": [
              "Item_Identifier               object\n",
              "Item_Weight                  float64\n",
              "Item_Fat_Content              object\n",
              "Item_Visibility              float64\n",
              "Item_Type                     object\n",
              "Item_MRP                     float64\n",
              "Outlet_Identifier             object\n",
              "Outlet_Establishment_Year      int64\n",
              "Outlet_Size                   object\n",
              "Outlet_Location_Type          object\n",
              "Outlet_Type                   object\n",
              "Item_Outlet_Sales            float64\n",
              "dtype: object"
            ]
          },
          "metadata": {
            "tags": []
          },
          "execution_count": 6
        }
      ]
    },
    {
      "cell_type": "code",
      "metadata": {
        "colab": {
          "base_uri": "https://localhost:8080/"
        },
        "id": "7W_p3keMbyH8",
        "outputId": "ccf9655e-deda-4375-faf8-9363e931ab5f"
      },
      "source": [
        "# Which columns have missing values?\n",
        "\n",
        "sales.info()"
      ],
      "execution_count": 7,
      "outputs": [
        {
          "output_type": "stream",
          "text": [
            "<class 'pandas.core.frame.DataFrame'>\n",
            "RangeIndex: 8523 entries, 0 to 8522\n",
            "Data columns (total 12 columns):\n",
            " #   Column                     Non-Null Count  Dtype  \n",
            "---  ------                     --------------  -----  \n",
            " 0   Item_Identifier            8523 non-null   object \n",
            " 1   Item_Weight                7060 non-null   float64\n",
            " 2   Item_Fat_Content           8523 non-null   object \n",
            " 3   Item_Visibility            8523 non-null   float64\n",
            " 4   Item_Type                  8523 non-null   object \n",
            " 5   Item_MRP                   8523 non-null   float64\n",
            " 6   Outlet_Identifier          8523 non-null   object \n",
            " 7   Outlet_Establishment_Year  8523 non-null   int64  \n",
            " 8   Outlet_Size                6113 non-null   object \n",
            " 9   Outlet_Location_Type       8523 non-null   object \n",
            " 10  Outlet_Type                8523 non-null   object \n",
            " 11  Item_Outlet_Sales          8523 non-null   float64\n",
            "dtypes: float64(4), int64(1), object(7)\n",
            "memory usage: 799.2+ KB\n"
          ],
          "name": "stdout"
        }
      ]
    },
    {
      "cell_type": "markdown",
      "metadata": {
        "id": "fQ_GZjorWd6d"
      },
      "source": [
        "Item_Weight and Outlet_Size columns are both missing data\n",
        "\n",
        "I will explore further below"
      ]
    },
    {
      "cell_type": "markdown",
      "metadata": {
        "id": "EMImvFSxTfQJ"
      },
      "source": [
        "# Checking each column for unique value counts"
      ]
    },
    {
      "cell_type": "code",
      "metadata": {
        "colab": {
          "base_uri": "https://localhost:8080/"
        },
        "id": "YBB12Tvz9g6x",
        "outputId": "0978f7c4-dcf2-461f-b19c-aeeabdae74e2"
      },
      "source": [
        "sales['Item_Fat_Content'].value_counts()"
      ],
      "execution_count": 8,
      "outputs": [
        {
          "output_type": "execute_result",
          "data": {
            "text/plain": [
              "Low Fat    5089\n",
              "Regular    2889\n",
              "LF          316\n",
              "reg         117\n",
              "low fat     112\n",
              "Name: Item_Fat_Content, dtype: int64"
            ]
          },
          "metadata": {
            "tags": []
          },
          "execution_count": 8
        }
      ]
    },
    {
      "cell_type": "code",
      "metadata": {
        "id": "RdQ6n42Ipoud"
      },
      "source": [
        "sales.loc[ : , 'Item_Fat_Content'].replace( {'LF' : 'Low Fat',\n",
        "                                            'low fat' : 'Low Fat',\n",
        "                                             'reg' : 'Regular'}, inplace=True)"
      ],
      "execution_count": 9,
      "outputs": []
    },
    {
      "cell_type": "code",
      "metadata": {
        "colab": {
          "base_uri": "https://localhost:8080/"
        },
        "id": "1qFqMy9rs1Li",
        "outputId": "36f7a5c1-e7f5-419b-cbde-cd7c1bf4a380"
      },
      "source": [
        "sales['Item_Fat_Content'].value_counts()"
      ],
      "execution_count": 10,
      "outputs": [
        {
          "output_type": "execute_result",
          "data": {
            "text/plain": [
              "Low Fat    5517\n",
              "Regular    3006\n",
              "Name: Item_Fat_Content, dtype: int64"
            ]
          },
          "metadata": {
            "tags": []
          },
          "execution_count": 10
        }
      ]
    },
    {
      "cell_type": "code",
      "metadata": {
        "colab": {
          "base_uri": "https://localhost:8080/"
        },
        "id": "OF7c5d7y-aUz",
        "outputId": "a642aecc-cc4c-4bb5-c5e0-b328aa166e7f"
      },
      "source": [
        "sales['Item_Identifier'].value_counts()"
      ],
      "execution_count": 11,
      "outputs": [
        {
          "output_type": "execute_result",
          "data": {
            "text/plain": [
              "FDW13    10\n",
              "FDG33    10\n",
              "FDF56     9\n",
              "FDP25     9\n",
              "FDQ40     9\n",
              "         ..\n",
              "FDE52     1\n",
              "FDQ60     1\n",
              "FDO33     1\n",
              "FDN52     1\n",
              "FDT35     1\n",
              "Name: Item_Identifier, Length: 1559, dtype: int64"
            ]
          },
          "metadata": {
            "tags": []
          },
          "execution_count": 11
        }
      ]
    },
    {
      "cell_type": "code",
      "metadata": {
        "colab": {
          "base_uri": "https://localhost:8080/"
        },
        "id": "B3G59-WT-8ry",
        "outputId": "2e1049ad-ded0-4b31-c513-ae30dc70fe98"
      },
      "source": [
        "sales['Item_MRP'].value_counts()"
      ],
      "execution_count": 12,
      "outputs": [
        {
          "output_type": "execute_result",
          "data": {
            "text/plain": [
              "172.0422    7\n",
              "188.1872    6\n",
              "170.5422    6\n",
              "109.5228    6\n",
              "196.5084    6\n",
              "           ..\n",
              "212.8218    1\n",
              "190.3872    1\n",
              "162.6868    1\n",
              "189.1214    1\n",
              "51.3008     1\n",
              "Name: Item_MRP, Length: 5938, dtype: int64"
            ]
          },
          "metadata": {
            "tags": []
          },
          "execution_count": 12
        }
      ]
    },
    {
      "cell_type": "code",
      "metadata": {
        "colab": {
          "base_uri": "https://localhost:8080/"
        },
        "id": "cSdlzLqS_0Yo",
        "outputId": "c1b488da-203f-4aba-a38f-ef6c9d228618"
      },
      "source": [
        "sales['Item_Outlet_Sales'].value_counts()"
      ],
      "execution_count": 13,
      "outputs": [
        {
          "output_type": "execute_result",
          "data": {
            "text/plain": [
              "958.7520     17\n",
              "1342.2528    16\n",
              "1845.5976    15\n",
              "703.0848     15\n",
              "1278.3360    14\n",
              "             ..\n",
              "3167.8764     1\n",
              "2226.4352     1\n",
              "1684.4740     1\n",
              "1574.6170     1\n",
              "6692.6216     1\n",
              "Name: Item_Outlet_Sales, Length: 3493, dtype: int64"
            ]
          },
          "metadata": {
            "tags": []
          },
          "execution_count": 13
        }
      ]
    },
    {
      "cell_type": "code",
      "metadata": {
        "colab": {
          "base_uri": "https://localhost:8080/"
        },
        "id": "QDlPaJkq__RV",
        "outputId": "3fcb0b04-fe5b-47a9-d261-999a5b1d8522"
      },
      "source": [
        "sales['Item_Type'].value_counts()"
      ],
      "execution_count": 14,
      "outputs": [
        {
          "output_type": "execute_result",
          "data": {
            "text/plain": [
              "Fruits and Vegetables    1232\n",
              "Snack Foods              1200\n",
              "Household                 910\n",
              "Frozen Foods              856\n",
              "Dairy                     682\n",
              "Canned                    649\n",
              "Baking Goods              648\n",
              "Health and Hygiene        520\n",
              "Soft Drinks               445\n",
              "Meat                      425\n",
              "Breads                    251\n",
              "Hard Drinks               214\n",
              "Others                    169\n",
              "Starchy Foods             148\n",
              "Breakfast                 110\n",
              "Seafood                    64\n",
              "Name: Item_Type, dtype: int64"
            ]
          },
          "metadata": {
            "tags": []
          },
          "execution_count": 14
        }
      ]
    },
    {
      "cell_type": "code",
      "metadata": {
        "colab": {
          "base_uri": "https://localhost:8080/"
        },
        "id": "oauVANoEAJhv",
        "outputId": "72bc98e7-861b-4007-b17c-f37a502d1676"
      },
      "source": [
        "sales['Item_Weight'].value_counts()"
      ],
      "execution_count": 15,
      "outputs": [
        {
          "output_type": "execute_result",
          "data": {
            "text/plain": [
              "12.150    86\n",
              "17.600    82\n",
              "13.650    77\n",
              "11.800    76\n",
              "15.100    68\n",
              "          ..\n",
              "7.560      2\n",
              "9.420      1\n",
              "5.400      1\n",
              "6.520      1\n",
              "7.685      1\n",
              "Name: Item_Weight, Length: 415, dtype: int64"
            ]
          },
          "metadata": {
            "tags": []
          },
          "execution_count": 15
        }
      ]
    },
    {
      "cell_type": "code",
      "metadata": {
        "colab": {
          "base_uri": "https://localhost:8080/"
        },
        "id": "jE6oQo13K5zQ",
        "outputId": "a2f1fd4e-c852-4da7-e984-0898d6be6bc3"
      },
      "source": [
        "sales['Outlet_Establishment_Year'].value_counts()"
      ],
      "execution_count": 16,
      "outputs": [
        {
          "output_type": "execute_result",
          "data": {
            "text/plain": [
              "1985    1463\n",
              "1987     932\n",
              "1999     930\n",
              "1997     930\n",
              "2004     930\n",
              "2002     929\n",
              "2009     928\n",
              "2007     926\n",
              "1998     555\n",
              "Name: Outlet_Establishment_Year, dtype: int64"
            ]
          },
          "metadata": {
            "tags": []
          },
          "execution_count": 16
        }
      ]
    },
    {
      "cell_type": "code",
      "metadata": {
        "colab": {
          "base_uri": "https://localhost:8080/"
        },
        "id": "yWhWzx0IQLC7",
        "outputId": "c31848cb-d282-4fb5-8a79-e3eb537ffe7d"
      },
      "source": [
        "sales['Outlet_Identifier'].value_counts()"
      ],
      "execution_count": 17,
      "outputs": [
        {
          "output_type": "execute_result",
          "data": {
            "text/plain": [
              "OUT027    935\n",
              "OUT013    932\n",
              "OUT049    930\n",
              "OUT035    930\n",
              "OUT046    930\n",
              "OUT045    929\n",
              "OUT018    928\n",
              "OUT017    926\n",
              "OUT010    555\n",
              "OUT019    528\n",
              "Name: Outlet_Identifier, dtype: int64"
            ]
          },
          "metadata": {
            "tags": []
          },
          "execution_count": 17
        }
      ]
    },
    {
      "cell_type": "code",
      "metadata": {
        "colab": {
          "base_uri": "https://localhost:8080/"
        },
        "id": "WpFNa_2XQOzE",
        "outputId": "6abd11f0-ad4e-4ed9-9ffc-38932e001252"
      },
      "source": [
        "sales['Outlet_Location_Type'].value_counts()"
      ],
      "execution_count": 18,
      "outputs": [
        {
          "output_type": "execute_result",
          "data": {
            "text/plain": [
              "Tier 3    3350\n",
              "Tier 2    2785\n",
              "Tier 1    2388\n",
              "Name: Outlet_Location_Type, dtype: int64"
            ]
          },
          "metadata": {
            "tags": []
          },
          "execution_count": 18
        }
      ]
    },
    {
      "cell_type": "code",
      "metadata": {
        "colab": {
          "base_uri": "https://localhost:8080/"
        },
        "id": "1Y6pzxpyQW6l",
        "outputId": "d1b9ed54-9ade-47a5-95c1-8ebf4bf0b76e"
      },
      "source": [
        "sales['Outlet_Size'].value_counts()"
      ],
      "execution_count": 19,
      "outputs": [
        {
          "output_type": "execute_result",
          "data": {
            "text/plain": [
              "Medium    2793\n",
              "Small     2388\n",
              "High       932\n",
              "Name: Outlet_Size, dtype: int64"
            ]
          },
          "metadata": {
            "tags": []
          },
          "execution_count": 19
        }
      ]
    },
    {
      "cell_type": "code",
      "metadata": {
        "colab": {
          "base_uri": "https://localhost:8080/"
        },
        "id": "NGLmTk-FQ3ez",
        "outputId": "8f02db57-e3e2-4d71-aa08-151002b360aa"
      },
      "source": [
        "sales['Outlet_Type'].value_counts()"
      ],
      "execution_count": 20,
      "outputs": [
        {
          "output_type": "execute_result",
          "data": {
            "text/plain": [
              "Supermarket Type1    5577\n",
              "Grocery Store        1083\n",
              "Supermarket Type3     935\n",
              "Supermarket Type2     928\n",
              "Name: Outlet_Type, dtype: int64"
            ]
          },
          "metadata": {
            "tags": []
          },
          "execution_count": 20
        }
      ]
    },
    {
      "cell_type": "markdown",
      "metadata": {
        "id": "rkpSQde7RRnU"
      },
      "source": [
        "## Columns to Drop\n",
        "\n",
        "I will drop only the \"Item_Visibility\" column for now. Initially I thought this column would prove to be useful in predicting sales baased on the visibility of each individual product, however, since the lowest visibility products, including those with zero visibility, account for the majority of the dataset (77%). There is no need to qualify this coulumn's data values beecause it is irrelevent. \n",
        "Also, the products with the highest visibiilty, both above .3 and .2, account for only 1.4%, further proving this column's irrelevance.\n",
        "\n",
        "#### It is my belief that we can assume the product's visibility value has very little to do with it's sale value."
      ]
    },
    {
      "cell_type": "code",
      "metadata": {
        "colab": {
          "base_uri": "https://localhost:8080/"
        },
        "id": "bxsZEFv5ADg6",
        "outputId": "c92b530c-c140-4d4c-84cd-5f8126317749"
      },
      "source": [
        "vis_filter = sales['Item_Visibility'].count()\n",
        "vis_filter1 = (sales['Item_Visibility'] >= .0) & (sales['Item_Visibility'] < .1)\n",
        "vis_filter2 = (sales['Item_Visibility'] >= .1) & (sales['Item_Visibility'] < .2)\n",
        "vis_filter3 = (sales['Item_Visibility'] >= .2) & (sales['Item_Visibility'] < .3)\n",
        "vis_filter4 = sales['Item_Visibility'] >= .3\n",
        "\n",
        "vis_count1 = sales.loc[vis_filter1, 'Item_Visibility'].count()\n",
        "vis_count2 = sales.loc[vis_filter2, 'Item_Visibility'].count()\n",
        "vis_count3 = sales.loc[vis_filter3, 'Item_Visibility'].count()\n",
        "vis_count4 = sales.loc[vis_filter4, 'Item_Visibility'].count()\n",
        "\n",
        "print(vis_count1)\n",
        "print(round(vis_count1/vis_filter, 2))\n",
        "print(vis_count2)\n",
        "print(round(vis_count2/vis_filter, 2))\n",
        "print(vis_count3)\n",
        "print(round(vis_count3/vis_filter, 3))\n",
        "print(vis_count4)\n",
        "print(round(vis_count4/vis_filter, 4))"
      ],
      "execution_count": 21,
      "outputs": [
        {
          "output_type": "stream",
          "text": [
            "6593\n",
            "0.77\n",
            "1796\n",
            "0.21\n",
            "122\n",
            "0.014\n",
            "12\n",
            "0.0014\n"
          ],
          "name": "stdout"
        }
      ]
    },
    {
      "cell_type": "code",
      "metadata": {
        "id": "EW139y8tTCTq"
      },
      "source": [
        "sales.drop(columns = 'Item_Visibility', inplace = True)"
      ],
      "execution_count": 22,
      "outputs": []
    },
    {
      "cell_type": "markdown",
      "metadata": {
        "id": "_XFNeUzxWtxz"
      },
      "source": [
        "## Exploring the relevance of missing data in the Item_Weight and Outlet_Size columns"
      ]
    },
    {
      "cell_type": "markdown",
      "metadata": {
        "id": "cB1RAy0lXzd6"
      },
      "source": [
        "\n",
        "\n",
        "---\n",
        "\n",
        "----- First... look at Outlet_Size column"
      ]
    },
    {
      "cell_type": "code",
      "metadata": {
        "colab": {
          "base_uri": "https://localhost:8080/",
          "height": 307
        },
        "id": "9U2xMveaew_F",
        "outputId": "5c12312a-ddd9-42b4-d057-cdb7477e6fef"
      },
      "source": [
        "outlet_missing = sales['Outlet_Size'].isna()\n",
        "sales.loc[outlet_missing, :].head()"
      ],
      "execution_count": 23,
      "outputs": [
        {
          "output_type": "execute_result",
          "data": {
            "text/html": [
              "<div>\n",
              "<style scoped>\n",
              "    .dataframe tbody tr th:only-of-type {\n",
              "        vertical-align: middle;\n",
              "    }\n",
              "\n",
              "    .dataframe tbody tr th {\n",
              "        vertical-align: top;\n",
              "    }\n",
              "\n",
              "    .dataframe thead th {\n",
              "        text-align: right;\n",
              "    }\n",
              "</style>\n",
              "<table border=\"1\" class=\"dataframe\">\n",
              "  <thead>\n",
              "    <tr style=\"text-align: right;\">\n",
              "      <th></th>\n",
              "      <th>Item_Identifier</th>\n",
              "      <th>Item_Weight</th>\n",
              "      <th>Item_Fat_Content</th>\n",
              "      <th>Item_Type</th>\n",
              "      <th>Item_MRP</th>\n",
              "      <th>Outlet_Identifier</th>\n",
              "      <th>Outlet_Establishment_Year</th>\n",
              "      <th>Outlet_Size</th>\n",
              "      <th>Outlet_Location_Type</th>\n",
              "      <th>Outlet_Type</th>\n",
              "      <th>Item_Outlet_Sales</th>\n",
              "    </tr>\n",
              "  </thead>\n",
              "  <tbody>\n",
              "    <tr>\n",
              "      <th>3</th>\n",
              "      <td>FDX07</td>\n",
              "      <td>19.200</td>\n",
              "      <td>Regular</td>\n",
              "      <td>Fruits and Vegetables</td>\n",
              "      <td>182.0950</td>\n",
              "      <td>OUT010</td>\n",
              "      <td>1998</td>\n",
              "      <td>NaN</td>\n",
              "      <td>Tier 3</td>\n",
              "      <td>Grocery Store</td>\n",
              "      <td>732.3800</td>\n",
              "    </tr>\n",
              "    <tr>\n",
              "      <th>8</th>\n",
              "      <td>FDH17</td>\n",
              "      <td>16.200</td>\n",
              "      <td>Regular</td>\n",
              "      <td>Frozen Foods</td>\n",
              "      <td>96.9726</td>\n",
              "      <td>OUT045</td>\n",
              "      <td>2002</td>\n",
              "      <td>NaN</td>\n",
              "      <td>Tier 2</td>\n",
              "      <td>Supermarket Type1</td>\n",
              "      <td>1076.5986</td>\n",
              "    </tr>\n",
              "    <tr>\n",
              "      <th>9</th>\n",
              "      <td>FDU28</td>\n",
              "      <td>19.200</td>\n",
              "      <td>Regular</td>\n",
              "      <td>Frozen Foods</td>\n",
              "      <td>187.8214</td>\n",
              "      <td>OUT017</td>\n",
              "      <td>2007</td>\n",
              "      <td>NaN</td>\n",
              "      <td>Tier 2</td>\n",
              "      <td>Supermarket Type1</td>\n",
              "      <td>4710.5350</td>\n",
              "    </tr>\n",
              "    <tr>\n",
              "      <th>25</th>\n",
              "      <td>NCD06</td>\n",
              "      <td>13.000</td>\n",
              "      <td>Low Fat</td>\n",
              "      <td>Household</td>\n",
              "      <td>45.9060</td>\n",
              "      <td>OUT017</td>\n",
              "      <td>2007</td>\n",
              "      <td>NaN</td>\n",
              "      <td>Tier 2</td>\n",
              "      <td>Supermarket Type1</td>\n",
              "      <td>838.9080</td>\n",
              "    </tr>\n",
              "    <tr>\n",
              "      <th>28</th>\n",
              "      <td>FDE51</td>\n",
              "      <td>5.925</td>\n",
              "      <td>Regular</td>\n",
              "      <td>Dairy</td>\n",
              "      <td>45.5086</td>\n",
              "      <td>OUT010</td>\n",
              "      <td>1998</td>\n",
              "      <td>NaN</td>\n",
              "      <td>Tier 3</td>\n",
              "      <td>Grocery Store</td>\n",
              "      <td>178.4344</td>\n",
              "    </tr>\n",
              "  </tbody>\n",
              "</table>\n",
              "</div>"
            ],
            "text/plain": [
              "   Item_Identifier  Item_Weight  ...        Outlet_Type Item_Outlet_Sales\n",
              "3            FDX07       19.200  ...      Grocery Store          732.3800\n",
              "8            FDH17       16.200  ...  Supermarket Type1         1076.5986\n",
              "9            FDU28       19.200  ...  Supermarket Type1         4710.5350\n",
              "25           NCD06       13.000  ...  Supermarket Type1          838.9080\n",
              "28           FDE51        5.925  ...      Grocery Store          178.4344\n",
              "\n",
              "[5 rows x 11 columns]"
            ]
          },
          "metadata": {
            "tags": []
          },
          "execution_count": 23
        }
      ]
    },
    {
      "cell_type": "code",
      "metadata": {
        "colab": {
          "base_uri": "https://localhost:8080/"
        },
        "id": "9D6pEgHffkfU",
        "outputId": "b5648edb-7ef7-4452-be6e-aa9ec49459d9"
      },
      "source": [
        "sales[outlet_missing].shape"
      ],
      "execution_count": 24,
      "outputs": [
        {
          "output_type": "execute_result",
          "data": {
            "text/plain": [
              "(2410, 11)"
            ]
          },
          "metadata": {
            "tags": []
          },
          "execution_count": 24
        }
      ]
    },
    {
      "cell_type": "code",
      "metadata": {
        "colab": {
          "base_uri": "https://localhost:8080/"
        },
        "id": "v13zcCG930E1",
        "outputId": "edc36516-ffb4-494f-c8b4-c2e523a834d9"
      },
      "source": [
        "# Checking value counts with the outlet_missing filter on the Outlet_Identifier column to see how \n",
        "# the missing Outlet_Size values compare to the Outlet_Identifier value counts already checked above\n",
        "\n",
        "sales.loc[outlet_missing, 'Outlet_Identifier'].value_counts()"
      ],
      "execution_count": 25,
      "outputs": [
        {
          "output_type": "execute_result",
          "data": {
            "text/plain": [
              "OUT045    929\n",
              "OUT017    926\n",
              "OUT010    555\n",
              "Name: Outlet_Identifier, dtype: int64"
            ]
          },
          "metadata": {
            "tags": []
          },
          "execution_count": 25
        }
      ]
    },
    {
      "cell_type": "code",
      "metadata": {
        "colab": {
          "base_uri": "https://localhost:8080/"
        },
        "id": "ift-485z3Bty",
        "outputId": "37f4188e-682d-4a59-9205-612c754101ca"
      },
      "source": [
        "# Checking how the Outlet_Type and Outlet_Identifier columns compare together with the missing\n",
        "# values from the Outlet_Size column\n",
        "\n",
        "sales.loc[outlet_missing, ['Outlet_Identifier', 'Outlet_Type', 'Outlet_Establishment_Year', 'Outlet_Location_Type']].value_counts()"
      ],
      "execution_count": 26,
      "outputs": [
        {
          "output_type": "execute_result",
          "data": {
            "text/plain": [
              "Outlet_Identifier  Outlet_Type        Outlet_Establishment_Year  Outlet_Location_Type\n",
              "OUT045             Supermarket Type1  2002                       Tier 2                  929\n",
              "OUT017             Supermarket Type1  2007                       Tier 2                  926\n",
              "OUT010             Grocery Store      1998                       Tier 3                  555\n",
              "dtype: int64"
            ]
          },
          "metadata": {
            "tags": []
          },
          "execution_count": 26
        }
      ]
    },
    {
      "cell_type": "markdown",
      "metadata": {
        "id": "ZWP0iKdC_L2i"
      },
      "source": [
        "#### In the above cell where the value counts for the Outlet_Type column \"Supermarket Type1\" accounted for 5577 cells I will check to see if all the other Outlet_Type rows with \"Supermarket Type1\" contain a consistent Outlet_Size as this will allow me to see what the Outlet_Size values should be."
      ]
    },
    {
      "cell_type": "code",
      "metadata": {
        "colab": {
          "base_uri": "https://localhost:8080/"
        },
        "cellView": "code",
        "id": "UPXkdhRB3BfV",
        "outputId": "5afb43dd-a5d7-4fd7-d871-25120bf9f926"
      },
      "source": [
        "# Checking value counts with the outlet_missing filter on the Outlet_Type column to see how \n",
        "# the missing Outlet_Size values compare to the Outlet_Type value counts already checked above\n",
        "\n",
        "print(sales.loc[outlet_missing, 'Outlet_Type'].value_counts())\n",
        "print(sales.loc[outlet_missing, 'Outlet_Establishment_Year'].value_counts()) #All Years correspond with missing values\n",
        "print(sales.loc[outlet_missing, 'Outlet_Location_Type'].value_counts()) #Tier 3 = 555 (same as Grocery and OUT010 and 1998)\n",
        "print(sales.loc[outlet_missing, 'Item_Outlet_Sales'].value_counts().sort_values())\n",
        "print(sales.loc[outlet_missing, 'Item_Outlet_Sales'].max())"
      ],
      "execution_count": 27,
      "outputs": [
        {
          "output_type": "stream",
          "text": [
            "Supermarket Type1    1855\n",
            "Grocery Store         555\n",
            "Name: Outlet_Type, dtype: int64\n",
            "2002    929\n",
            "2007    926\n",
            "1998    555\n",
            "Name: Outlet_Establishment_Year, dtype: int64\n",
            "Tier 2    1855\n",
            "Tier 3     555\n",
            "Name: Outlet_Location_Type, dtype: int64\n",
            "95.8752      1\n",
            "237.6906     1\n",
            "8760.5964    1\n",
            "2366.9190    1\n",
            "2646.5550    1\n",
            "            ..\n",
            "2302.3364    5\n",
            "1230.3984    6\n",
            "1225.0720    6\n",
            "958.7520     6\n",
            "838.9080     7\n",
            "Name: Item_Outlet_Sales, Length: 1627, dtype: int64\n",
            "9664.7528\n"
          ],
          "name": "stdout"
        }
      ]
    },
    {
      "cell_type": "code",
      "metadata": {
        "colab": {
          "base_uri": "https://localhost:8080/"
        },
        "id": "4sJ5lJk-2dGW",
        "outputId": "3bb2ba8a-2a96-456c-cbf8-afb56b361c78"
      },
      "source": [
        "# there's no clear correlation between location tier and store size\n",
        "tier1_filter = sales['Outlet_Location_Type'] == 'Tier 1'\n",
        "tier2_filter = sales['Outlet_Location_Type'] == 'Tier 2'\n",
        "tier3_filter = sales['Outlet_Location_Type'] == 'Tier 3'\n",
        "\n",
        "print(sales.loc[tier1_filter, 'Outlet_Size'].value_counts())\n",
        "print(sales.loc[tier2_filter, 'Outlet_Size'].value_counts())\n",
        "print(sales.loc[tier3_filter, 'Outlet_Size'].value_counts())"
      ],
      "execution_count": 28,
      "outputs": [
        {
          "output_type": "stream",
          "text": [
            "Small     1458\n",
            "Medium     930\n",
            "Name: Outlet_Size, dtype: int64\n",
            "Small    930\n",
            "Name: Outlet_Size, dtype: int64\n",
            "Medium    1863\n",
            "High       932\n",
            "Name: Outlet_Size, dtype: int64\n"
          ],
          "name": "stdout"
        }
      ]
    },
    {
      "cell_type": "code",
      "metadata": {
        "colab": {
          "base_uri": "https://localhost:8080/"
        },
        "id": "XEM8-ZOiQfCv",
        "outputId": "9ec31cc2-2f42-45e2-a385-05e6e0f308da"
      },
      "source": [
        "# These 3 years only correlate with the missing values ... no evidence of store size imputation\n",
        "\n",
        "year98est_filter = sales['Outlet_Establishment_Year'] == 1998\n",
        "year02est_filter = sales['Outlet_Establishment_Year'] == 2002\n",
        "year07est_filter = sales['Outlet_Establishment_Year'] == 2007\n",
        "\n",
        "print(sales.loc[year98est_filter, 'Outlet_Size'].value_counts())\n",
        "print(sales.loc[year02est_filter, 'Outlet_Size'].value_counts())\n",
        "print(sales.loc[year07est_filter, 'Outlet_Size'].value_counts())"
      ],
      "execution_count": 29,
      "outputs": [
        {
          "output_type": "stream",
          "text": [
            "Series([], Name: Outlet_Size, dtype: int64)\n",
            "Series([], Name: Outlet_Size, dtype: int64)\n",
            "Series([], Name: Outlet_Size, dtype: int64)\n"
          ],
          "name": "stdout"
        }
      ]
    },
    {
      "cell_type": "code",
      "metadata": {
        "colab": {
          "base_uri": "https://localhost:8080/"
        },
        "id": "ZDl3snzr4D8f",
        "outputId": "6b510e4e-f87e-4c34-8f7e-8156c61942cd"
      },
      "source": [
        "# Grocery Store is only listed as Small. All other rows that contain 'Grocery Store' show NAN for the Outlet Size \n",
        "\n",
        "sup1Type_filter = sales['Outlet_Type'] == 'Supermarket Type1'\n",
        "grocType_filter = sales['Outlet_Type'] == 'Grocery Store'\n",
        "\n",
        "print(sales.loc[sup1Type_filter, 'Outlet_Size'].value_counts())\n",
        "print(sales.loc[grocType_filter, 'Outlet_Size'].value_counts())"
      ],
      "execution_count": 30,
      "outputs": [
        {
          "output_type": "stream",
          "text": [
            "Small     1860\n",
            "High       932\n",
            "Medium     930\n",
            "Name: Outlet_Size, dtype: int64\n",
            "Small    528\n",
            "Name: Outlet_Size, dtype: int64\n"
          ],
          "name": "stdout"
        }
      ]
    },
    {
      "cell_type": "code",
      "metadata": {
        "colab": {
          "base_uri": "https://localhost:8080/",
          "height": 417
        },
        "id": "mCfniV03Kz1U",
        "outputId": "109b305d-a7a0-49a4-8a96-0ddbe7eaf3d5"
      },
      "source": [
        "# All rows containing OUT010, 1998 and Grocery Store occupy the same 555 rows.\n",
        "# These 555 rows are missing a value for Outlet Size and are all in location Tier 3.\n",
        "# I believe that since the only other mention of Grocery is small and that Tier 3 is \n",
        "\n",
        "sales.loc[outlet_missing & tier3_filter, [ 'Outlet_Type', 'Outlet_Identifier', 'Outlet_Establishment_Year']]"
      ],
      "execution_count": 31,
      "outputs": [
        {
          "output_type": "execute_result",
          "data": {
            "text/html": [
              "<div>\n",
              "<style scoped>\n",
              "    .dataframe tbody tr th:only-of-type {\n",
              "        vertical-align: middle;\n",
              "    }\n",
              "\n",
              "    .dataframe tbody tr th {\n",
              "        vertical-align: top;\n",
              "    }\n",
              "\n",
              "    .dataframe thead th {\n",
              "        text-align: right;\n",
              "    }\n",
              "</style>\n",
              "<table border=\"1\" class=\"dataframe\">\n",
              "  <thead>\n",
              "    <tr style=\"text-align: right;\">\n",
              "      <th></th>\n",
              "      <th>Outlet_Type</th>\n",
              "      <th>Outlet_Identifier</th>\n",
              "      <th>Outlet_Establishment_Year</th>\n",
              "    </tr>\n",
              "  </thead>\n",
              "  <tbody>\n",
              "    <tr>\n",
              "      <th>3</th>\n",
              "      <td>Grocery Store</td>\n",
              "      <td>OUT010</td>\n",
              "      <td>1998</td>\n",
              "    </tr>\n",
              "    <tr>\n",
              "      <th>28</th>\n",
              "      <td>Grocery Store</td>\n",
              "      <td>OUT010</td>\n",
              "      <td>1998</td>\n",
              "    </tr>\n",
              "    <tr>\n",
              "      <th>30</th>\n",
              "      <td>Grocery Store</td>\n",
              "      <td>OUT010</td>\n",
              "      <td>1998</td>\n",
              "    </tr>\n",
              "    <tr>\n",
              "      <th>45</th>\n",
              "      <td>Grocery Store</td>\n",
              "      <td>OUT010</td>\n",
              "      <td>1998</td>\n",
              "    </tr>\n",
              "    <tr>\n",
              "      <th>65</th>\n",
              "      <td>Grocery Store</td>\n",
              "      <td>OUT010</td>\n",
              "      <td>1998</td>\n",
              "    </tr>\n",
              "    <tr>\n",
              "      <th>...</th>\n",
              "      <td>...</td>\n",
              "      <td>...</td>\n",
              "      <td>...</td>\n",
              "    </tr>\n",
              "    <tr>\n",
              "      <th>8400</th>\n",
              "      <td>Grocery Store</td>\n",
              "      <td>OUT010</td>\n",
              "      <td>1998</td>\n",
              "    </tr>\n",
              "    <tr>\n",
              "      <th>8432</th>\n",
              "      <td>Grocery Store</td>\n",
              "      <td>OUT010</td>\n",
              "      <td>1998</td>\n",
              "    </tr>\n",
              "    <tr>\n",
              "      <th>8473</th>\n",
              "      <td>Grocery Store</td>\n",
              "      <td>OUT010</td>\n",
              "      <td>1998</td>\n",
              "    </tr>\n",
              "    <tr>\n",
              "      <th>8486</th>\n",
              "      <td>Grocery Store</td>\n",
              "      <td>OUT010</td>\n",
              "      <td>1998</td>\n",
              "    </tr>\n",
              "    <tr>\n",
              "      <th>8509</th>\n",
              "      <td>Grocery Store</td>\n",
              "      <td>OUT010</td>\n",
              "      <td>1998</td>\n",
              "    </tr>\n",
              "  </tbody>\n",
              "</table>\n",
              "<p>555 rows × 3 columns</p>\n",
              "</div>"
            ],
            "text/plain": [
              "        Outlet_Type Outlet_Identifier  Outlet_Establishment_Year\n",
              "3     Grocery Store            OUT010                       1998\n",
              "28    Grocery Store            OUT010                       1998\n",
              "30    Grocery Store            OUT010                       1998\n",
              "45    Grocery Store            OUT010                       1998\n",
              "65    Grocery Store            OUT010                       1998\n",
              "...             ...               ...                        ...\n",
              "8400  Grocery Store            OUT010                       1998\n",
              "8432  Grocery Store            OUT010                       1998\n",
              "8473  Grocery Store            OUT010                       1998\n",
              "8486  Grocery Store            OUT010                       1998\n",
              "8509  Grocery Store            OUT010                       1998\n",
              "\n",
              "[555 rows x 3 columns]"
            ]
          },
          "metadata": {
            "tags": []
          },
          "execution_count": 31
        }
      ]
    },
    {
      "cell_type": "code",
      "metadata": {
        "colab": {
          "base_uri": "https://localhost:8080/"
        },
        "id": "Lk8tHVSA50Op",
        "outputId": "6136a249-483a-43ba-b921-9100f0e304e7"
      },
      "source": [
        "# Without further exploring the Item Sales agaisnt other information there is no clear correlation\n",
        "# between the item sales and Outlet Size\n",
        "\n",
        "size = sales['Outlet_Size'] == 'Small'\n",
        "\n",
        "itSales1_filter = sales['Item_Outlet_Sales'] <= 100\n",
        "itSales2_filter = (sales['Item_Outlet_Sales'] >= 101) & (sales['Item_Outlet_Sales'] <= 200)\n",
        "itSales3_filter = (sales['Item_Outlet_Sales'] >= 201) & (sales['Item_Outlet_Sales'] <= 300)\n",
        "itSales4_filter = (sales['Item_Outlet_Sales'] >= 301) & (sales['Item_Outlet_Sales'] <= 400)\n",
        "itSales5_filter = (sales['Item_Outlet_Sales'] >= 401) & (sales['Item_Outlet_Sales'] <= 500)\n",
        "itSales6_filter = (sales['Item_Outlet_Sales'] >= 501) & (sales['Item_Outlet_Sales'] <= 600)\n",
        "itSales7_filter = (sales['Item_Outlet_Sales'] >= 601) & (sales['Item_Outlet_Sales'] <= 700)\n",
        "itSales8_filter = (sales['Item_Outlet_Sales'] >= 701) & (sales['Item_Outlet_Sales'] <= 800)\n",
        "itSales9_filter = (sales['Item_Outlet_Sales'] >= 801) & (sales['Item_Outlet_Sales'] <= 900)\n",
        "itSales10_filter = sales['Item_Outlet_Sales'] >= 901\n",
        "\n",
        "print(sales.loc[itSales1_filter, 'Outlet_Size'].value_counts())\n",
        "print(sales.loc[itSales1_filter & outlet_missing, 'Item_Outlet_Sales'].count())\n",
        "print(sales.loc[itSales2_filter, 'Outlet_Size'].value_counts())\n",
        "print(sales.loc[itSales2_filter & outlet_missing, 'Item_Outlet_Sales'].count())\n",
        "print(sales.loc[itSales3_filter, 'Outlet_Size'].value_counts())\n",
        "print(sales.loc[itSales3_filter & outlet_missing, 'Item_Outlet_Sales'].count())\n",
        "print(sales.loc[itSales4_filter, 'Outlet_Size'].value_counts())\n",
        "print(sales.loc[itSales4_filter & outlet_missing, 'Item_Outlet_Sales'].count())\n",
        "print(sales.loc[itSales5_filter, 'Outlet_Size'].value_counts())\n",
        "print(sales.loc[itSales5_filter & outlet_missing, 'Item_Outlet_Sales'].count())\n",
        "print(sales.loc[itSales6_filter, 'Outlet_Size'].value_counts())\n",
        "print(sales.loc[itSales6_filter & outlet_missing, 'Item_Outlet_Sales'].count())\n",
        "print(sales.loc[itSales7_filter, 'Outlet_Size'].value_counts())\n",
        "print(sales.loc[itSales7_filter & outlet_missing, 'Item_Outlet_Sales'].count())\n",
        "print(sales.loc[itSales8_filter, 'Outlet_Size'].value_counts())\n",
        "print(sales.loc[itSales8_filter & outlet_missing, 'Item_Outlet_Sales'].count())\n",
        "print(sales.loc[itSales9_filter, 'Outlet_Size'].value_counts())\n",
        "print(sales.loc[itSales9_filter & outlet_missing, 'Item_Outlet_Sales'].count())\n",
        "print(sales.loc[itSales10_filter, 'Outlet_Size'].value_counts())\n",
        "print(sales.loc[itSales10_filter & outlet_missing, 'Item_Outlet_Sales'].count())"
      ],
      "execution_count": 32,
      "outputs": [
        {
          "output_type": "stream",
          "text": [
            "Small     54\n",
            "Medium     3\n",
            "High       1\n",
            "Name: Outlet_Size, dtype: int64\n",
            "66\n",
            "Small     148\n",
            "Medium     17\n",
            "High       10\n",
            "Name: Outlet_Size, dtype: int64\n",
            "179\n",
            "Small     107\n",
            "Medium     27\n",
            "High       17\n",
            "Name: Outlet_Size, dtype: int64\n",
            "104\n",
            "Small     106\n",
            "Medium     37\n",
            "High       30\n",
            "Name: Outlet_Size, dtype: int64\n",
            "96\n",
            "Small     95\n",
            "Medium    52\n",
            "High      15\n",
            "Name: Outlet_Size, dtype: int64\n",
            "92\n",
            "Small     84\n",
            "Medium    69\n",
            "High      25\n",
            "Name: Outlet_Size, dtype: int64\n",
            "98\n",
            "Small     70\n",
            "Medium    67\n",
            "High      36\n",
            "Name: Outlet_Size, dtype: int64\n",
            "70\n",
            "Small     83\n",
            "Medium    71\n",
            "High      28\n",
            "Name: Outlet_Size, dtype: int64\n",
            "93\n",
            "Medium    69\n",
            "Small     67\n",
            "High      21\n",
            "Name: Outlet_Size, dtype: int64\n",
            "76\n",
            "Medium    2380\n",
            "Small     1571\n",
            "High       749\n",
            "Name: Outlet_Size, dtype: int64\n",
            "1533\n"
          ],
          "name": "stdout"
        }
      ]
    },
    {
      "cell_type": "code",
      "metadata": {
        "colab": {
          "base_uri": "https://localhost:8080/"
        },
        "id": "sCSWpOuMBEnc",
        "outputId": "eff3e0a9-eac3-47ac-fcff-7b7241509491"
      },
      "source": [
        "# Further proof that Grocery Story is either listed as Small in the Outlet Size column or Nan\n",
        "# There are 555 rows containing Grocery and no specification of Outlet Size\n",
        "# There are 528 rows containing Grocery and Small Outlet Size\n",
        "\n",
        "print(sales.loc[grocType_filter, 'Outlet_Type'].value_counts())\n",
        "print(sales[grocType_filter & ~outlet_missing].count())"
      ],
      "execution_count": 33,
      "outputs": [
        {
          "output_type": "stream",
          "text": [
            "Grocery Store    1083\n",
            "Name: Outlet_Type, dtype: int64\n",
            "Item_Identifier              528\n",
            "Item_Weight                    0\n",
            "Item_Fat_Content             528\n",
            "Item_Type                    528\n",
            "Item_MRP                     528\n",
            "Outlet_Identifier            528\n",
            "Outlet_Establishment_Year    528\n",
            "Outlet_Size                  528\n",
            "Outlet_Location_Type         528\n",
            "Outlet_Type                  528\n",
            "Item_Outlet_Sales            528\n",
            "dtype: int64\n"
          ],
          "name": "stdout"
        }
      ]
    },
    {
      "cell_type": "code",
      "metadata": {
        "colab": {
          "base_uri": "https://localhost:8080/"
        },
        "id": "8xiL6_CKEy-K",
        "outputId": "abbe7a7e-8543-4706-f395-255d4b81138c"
      },
      "source": [
        "sales[grocType_filter & outlet_missing].count()"
      ],
      "execution_count": 34,
      "outputs": [
        {
          "output_type": "execute_result",
          "data": {
            "text/plain": [
              "Item_Identifier              555\n",
              "Item_Weight                  555\n",
              "Item_Fat_Content             555\n",
              "Item_Type                    555\n",
              "Item_MRP                     555\n",
              "Outlet_Identifier            555\n",
              "Outlet_Establishment_Year    555\n",
              "Outlet_Size                    0\n",
              "Outlet_Location_Type         555\n",
              "Outlet_Type                  555\n",
              "Item_Outlet_Sales            555\n",
              "dtype: int64"
            ]
          },
          "metadata": {
            "tags": []
          },
          "execution_count": 34
        }
      ]
    },
    {
      "cell_type": "code",
      "metadata": {
        "colab": {
          "base_uri": "https://localhost:8080/"
        },
        "id": "n6Z7RuFjFtxN",
        "outputId": "e6bc6ebb-bcc9-4ee9-8839-4bdedd4ccfea"
      },
      "source": [
        "# Further proving that these Outlet Idenifier numbers are missing from the Outlet Size column\n",
        "# this not help impute size for these outlet stores\n",
        "\n",
        "OUT045_filter = sales['Outlet_Identifier'] == 'OUT045'\n",
        "OUT017_filter = sales['Outlet_Identifier'] == 'OUT017'\n",
        "OUT010_filter = sales['Outlet_Identifier'] == 'OUT010'\n",
        "\n",
        "sales.loc[OUT010_filter | OUT017_filter | OUT045_filter, 'Outlet_Size'].count()"
      ],
      "execution_count": 35,
      "outputs": [
        {
          "output_type": "execute_result",
          "data": {
            "text/plain": [
              "0"
            ]
          },
          "metadata": {
            "tags": []
          },
          "execution_count": 35
        }
      ]
    },
    {
      "cell_type": "markdown",
      "metadata": {
        "id": "itKkVwuUeiuA"
      },
      "source": [
        "\n",
        "\n",
        "---\n",
        "\n",
        "---- Second... Look at Item_Weight column\n"
      ]
    },
    {
      "cell_type": "code",
      "metadata": {
        "colab": {
          "base_uri": "https://localhost:8080/",
          "height": 307
        },
        "id": "UIeFXGHzdn7e",
        "outputId": "9c1ea5f3-7609-45fc-a963-8205cf3c8b51"
      },
      "source": [
        "weight_missing = sales['Item_Weight'].isna()\n",
        "sales.loc[weight_missing, :].head()"
      ],
      "execution_count": 36,
      "outputs": [
        {
          "output_type": "execute_result",
          "data": {
            "text/html": [
              "<div>\n",
              "<style scoped>\n",
              "    .dataframe tbody tr th:only-of-type {\n",
              "        vertical-align: middle;\n",
              "    }\n",
              "\n",
              "    .dataframe tbody tr th {\n",
              "        vertical-align: top;\n",
              "    }\n",
              "\n",
              "    .dataframe thead th {\n",
              "        text-align: right;\n",
              "    }\n",
              "</style>\n",
              "<table border=\"1\" class=\"dataframe\">\n",
              "  <thead>\n",
              "    <tr style=\"text-align: right;\">\n",
              "      <th></th>\n",
              "      <th>Item_Identifier</th>\n",
              "      <th>Item_Weight</th>\n",
              "      <th>Item_Fat_Content</th>\n",
              "      <th>Item_Type</th>\n",
              "      <th>Item_MRP</th>\n",
              "      <th>Outlet_Identifier</th>\n",
              "      <th>Outlet_Establishment_Year</th>\n",
              "      <th>Outlet_Size</th>\n",
              "      <th>Outlet_Location_Type</th>\n",
              "      <th>Outlet_Type</th>\n",
              "      <th>Item_Outlet_Sales</th>\n",
              "    </tr>\n",
              "  </thead>\n",
              "  <tbody>\n",
              "    <tr>\n",
              "      <th>7</th>\n",
              "      <td>FDP10</td>\n",
              "      <td>NaN</td>\n",
              "      <td>Low Fat</td>\n",
              "      <td>Snack Foods</td>\n",
              "      <td>107.7622</td>\n",
              "      <td>OUT027</td>\n",
              "      <td>1985</td>\n",
              "      <td>Medium</td>\n",
              "      <td>Tier 3</td>\n",
              "      <td>Supermarket Type3</td>\n",
              "      <td>4022.7636</td>\n",
              "    </tr>\n",
              "    <tr>\n",
              "      <th>18</th>\n",
              "      <td>DRI11</td>\n",
              "      <td>NaN</td>\n",
              "      <td>Low Fat</td>\n",
              "      <td>Hard Drinks</td>\n",
              "      <td>113.2834</td>\n",
              "      <td>OUT027</td>\n",
              "      <td>1985</td>\n",
              "      <td>Medium</td>\n",
              "      <td>Tier 3</td>\n",
              "      <td>Supermarket Type3</td>\n",
              "      <td>2303.6680</td>\n",
              "    </tr>\n",
              "    <tr>\n",
              "      <th>21</th>\n",
              "      <td>FDW12</td>\n",
              "      <td>NaN</td>\n",
              "      <td>Regular</td>\n",
              "      <td>Baking Goods</td>\n",
              "      <td>144.5444</td>\n",
              "      <td>OUT027</td>\n",
              "      <td>1985</td>\n",
              "      <td>Medium</td>\n",
              "      <td>Tier 3</td>\n",
              "      <td>Supermarket Type3</td>\n",
              "      <td>4064.0432</td>\n",
              "    </tr>\n",
              "    <tr>\n",
              "      <th>23</th>\n",
              "      <td>FDC37</td>\n",
              "      <td>NaN</td>\n",
              "      <td>Low Fat</td>\n",
              "      <td>Baking Goods</td>\n",
              "      <td>107.6938</td>\n",
              "      <td>OUT019</td>\n",
              "      <td>1985</td>\n",
              "      <td>Small</td>\n",
              "      <td>Tier 1</td>\n",
              "      <td>Grocery Store</td>\n",
              "      <td>214.3876</td>\n",
              "    </tr>\n",
              "    <tr>\n",
              "      <th>29</th>\n",
              "      <td>FDC14</td>\n",
              "      <td>NaN</td>\n",
              "      <td>Regular</td>\n",
              "      <td>Canned</td>\n",
              "      <td>43.6454</td>\n",
              "      <td>OUT019</td>\n",
              "      <td>1985</td>\n",
              "      <td>Small</td>\n",
              "      <td>Tier 1</td>\n",
              "      <td>Grocery Store</td>\n",
              "      <td>125.8362</td>\n",
              "    </tr>\n",
              "  </tbody>\n",
              "</table>\n",
              "</div>"
            ],
            "text/plain": [
              "   Item_Identifier  Item_Weight  ...        Outlet_Type Item_Outlet_Sales\n",
              "7            FDP10          NaN  ...  Supermarket Type3         4022.7636\n",
              "18           DRI11          NaN  ...  Supermarket Type3         2303.6680\n",
              "21           FDW12          NaN  ...  Supermarket Type3         4064.0432\n",
              "23           FDC37          NaN  ...      Grocery Store          214.3876\n",
              "29           FDC14          NaN  ...      Grocery Store          125.8362\n",
              "\n",
              "[5 rows x 11 columns]"
            ]
          },
          "metadata": {
            "tags": []
          },
          "execution_count": 36
        }
      ]
    },
    {
      "cell_type": "code",
      "metadata": {
        "colab": {
          "base_uri": "https://localhost:8080/"
        },
        "id": "ESI0A1eChDYE",
        "outputId": "220bb57d-6479-4852-a894-77fc314534aa"
      },
      "source": [
        "sales[weight_missing].shape"
      ],
      "execution_count": 37,
      "outputs": [
        {
          "output_type": "execute_result",
          "data": {
            "text/plain": [
              "(1463, 11)"
            ]
          },
          "metadata": {
            "tags": []
          },
          "execution_count": 37
        }
      ]
    },
    {
      "cell_type": "code",
      "metadata": {
        "colab": {
          "base_uri": "https://localhost:8080/"
        },
        "id": "znfgDHFo9MiI",
        "outputId": "69fb83be-d593-4e00-f5dc-fef21fad7687"
      },
      "source": [
        "sales['Item_Weight'].value_counts()"
      ],
      "execution_count": 38,
      "outputs": [
        {
          "output_type": "execute_result",
          "data": {
            "text/plain": [
              "12.150    86\n",
              "17.600    82\n",
              "13.650    77\n",
              "11.800    76\n",
              "15.100    68\n",
              "          ..\n",
              "7.560      2\n",
              "9.420      1\n",
              "5.400      1\n",
              "6.520      1\n",
              "7.685      1\n",
              "Name: Item_Weight, Length: 415, dtype: int64"
            ]
          },
          "metadata": {
            "tags": []
          },
          "execution_count": 38
        }
      ]
    },
    {
      "cell_type": "code",
      "metadata": {
        "colab": {
          "base_uri": "https://localhost:8080/"
        },
        "id": "Uf8aKdSI-XGK",
        "outputId": "e346816a-42a5-48ae-ecca-839d14d762bb"
      },
      "source": [
        "sales.loc[weight_missing, 'Item_Type'].value_counts()"
      ],
      "execution_count": 39,
      "outputs": [
        {
          "output_type": "execute_result",
          "data": {
            "text/plain": [
              "Fruits and Vegetables    213\n",
              "Snack Foods              212\n",
              "Household                151\n",
              "Frozen Foods             138\n",
              "Dairy                    116\n",
              "Baking Goods             112\n",
              "Canned                   110\n",
              "Health and Hygiene        90\n",
              "Meat                      88\n",
              "Soft Drinks               71\n",
              "Breads                    47\n",
              "Others                    32\n",
              "Hard Drinks               31\n",
              "Breakfast                 21\n",
              "Starchy Foods             18\n",
              "Seafood                   13\n",
              "Name: Item_Type, dtype: int64"
            ]
          },
          "metadata": {
            "tags": []
          },
          "execution_count": 39
        }
      ]
    },
    {
      "cell_type": "code",
      "metadata": {
        "colab": {
          "base_uri": "https://localhost:8080/",
          "height": 944
        },
        "id": "hxp2VIH0CCp6",
        "outputId": "67b13d12-7f57-4bfd-cdd3-2f48f992b4da"
      },
      "source": [
        "sales.loc[weight_missing, :].groupby(['Item_Type','Item_Fat_Content'])[['Item_Weight','Item_MRP']].count()\n"
      ],
      "execution_count": 40,
      "outputs": [
        {
          "output_type": "execute_result",
          "data": {
            "text/html": [
              "<div>\n",
              "<style scoped>\n",
              "    .dataframe tbody tr th:only-of-type {\n",
              "        vertical-align: middle;\n",
              "    }\n",
              "\n",
              "    .dataframe tbody tr th {\n",
              "        vertical-align: top;\n",
              "    }\n",
              "\n",
              "    .dataframe thead th {\n",
              "        text-align: right;\n",
              "    }\n",
              "</style>\n",
              "<table border=\"1\" class=\"dataframe\">\n",
              "  <thead>\n",
              "    <tr style=\"text-align: right;\">\n",
              "      <th></th>\n",
              "      <th></th>\n",
              "      <th>Item_Weight</th>\n",
              "      <th>Item_MRP</th>\n",
              "    </tr>\n",
              "    <tr>\n",
              "      <th>Item_Type</th>\n",
              "      <th>Item_Fat_Content</th>\n",
              "      <th></th>\n",
              "      <th></th>\n",
              "    </tr>\n",
              "  </thead>\n",
              "  <tbody>\n",
              "    <tr>\n",
              "      <th rowspan=\"2\" valign=\"top\">Baking Goods</th>\n",
              "      <th>Low Fat</th>\n",
              "      <td>0</td>\n",
              "      <td>67</td>\n",
              "    </tr>\n",
              "    <tr>\n",
              "      <th>Regular</th>\n",
              "      <td>0</td>\n",
              "      <td>45</td>\n",
              "    </tr>\n",
              "    <tr>\n",
              "      <th rowspan=\"2\" valign=\"top\">Breads</th>\n",
              "      <th>Low Fat</th>\n",
              "      <td>0</td>\n",
              "      <td>27</td>\n",
              "    </tr>\n",
              "    <tr>\n",
              "      <th>Regular</th>\n",
              "      <td>0</td>\n",
              "      <td>20</td>\n",
              "    </tr>\n",
              "    <tr>\n",
              "      <th rowspan=\"2\" valign=\"top\">Breakfast</th>\n",
              "      <th>Low Fat</th>\n",
              "      <td>0</td>\n",
              "      <td>7</td>\n",
              "    </tr>\n",
              "    <tr>\n",
              "      <th>Regular</th>\n",
              "      <td>0</td>\n",
              "      <td>14</td>\n",
              "    </tr>\n",
              "    <tr>\n",
              "      <th rowspan=\"2\" valign=\"top\">Canned</th>\n",
              "      <th>Low Fat</th>\n",
              "      <td>0</td>\n",
              "      <td>55</td>\n",
              "    </tr>\n",
              "    <tr>\n",
              "      <th>Regular</th>\n",
              "      <td>0</td>\n",
              "      <td>55</td>\n",
              "    </tr>\n",
              "    <tr>\n",
              "      <th rowspan=\"2\" valign=\"top\">Dairy</th>\n",
              "      <th>Low Fat</th>\n",
              "      <td>0</td>\n",
              "      <td>64</td>\n",
              "    </tr>\n",
              "    <tr>\n",
              "      <th>Regular</th>\n",
              "      <td>0</td>\n",
              "      <td>52</td>\n",
              "    </tr>\n",
              "    <tr>\n",
              "      <th rowspan=\"2\" valign=\"top\">Frozen Foods</th>\n",
              "      <th>Low Fat</th>\n",
              "      <td>0</td>\n",
              "      <td>75</td>\n",
              "    </tr>\n",
              "    <tr>\n",
              "      <th>Regular</th>\n",
              "      <td>0</td>\n",
              "      <td>63</td>\n",
              "    </tr>\n",
              "    <tr>\n",
              "      <th rowspan=\"2\" valign=\"top\">Fruits and Vegetables</th>\n",
              "      <th>Low Fat</th>\n",
              "      <td>0</td>\n",
              "      <td>112</td>\n",
              "    </tr>\n",
              "    <tr>\n",
              "      <th>Regular</th>\n",
              "      <td>0</td>\n",
              "      <td>101</td>\n",
              "    </tr>\n",
              "    <tr>\n",
              "      <th>Hard Drinks</th>\n",
              "      <th>Low Fat</th>\n",
              "      <td>0</td>\n",
              "      <td>31</td>\n",
              "    </tr>\n",
              "    <tr>\n",
              "      <th>Health and Hygiene</th>\n",
              "      <th>Low Fat</th>\n",
              "      <td>0</td>\n",
              "      <td>90</td>\n",
              "    </tr>\n",
              "    <tr>\n",
              "      <th>Household</th>\n",
              "      <th>Low Fat</th>\n",
              "      <td>0</td>\n",
              "      <td>151</td>\n",
              "    </tr>\n",
              "    <tr>\n",
              "      <th rowspan=\"2\" valign=\"top\">Meat</th>\n",
              "      <th>Low Fat</th>\n",
              "      <td>0</td>\n",
              "      <td>38</td>\n",
              "    </tr>\n",
              "    <tr>\n",
              "      <th>Regular</th>\n",
              "      <td>0</td>\n",
              "      <td>50</td>\n",
              "    </tr>\n",
              "    <tr>\n",
              "      <th>Others</th>\n",
              "      <th>Low Fat</th>\n",
              "      <td>0</td>\n",
              "      <td>32</td>\n",
              "    </tr>\n",
              "    <tr>\n",
              "      <th rowspan=\"2\" valign=\"top\">Seafood</th>\n",
              "      <th>Low Fat</th>\n",
              "      <td>0</td>\n",
              "      <td>8</td>\n",
              "    </tr>\n",
              "    <tr>\n",
              "      <th>Regular</th>\n",
              "      <td>0</td>\n",
              "      <td>5</td>\n",
              "    </tr>\n",
              "    <tr>\n",
              "      <th rowspan=\"2\" valign=\"top\">Snack Foods</th>\n",
              "      <th>Low Fat</th>\n",
              "      <td>0</td>\n",
              "      <td>127</td>\n",
              "    </tr>\n",
              "    <tr>\n",
              "      <th>Regular</th>\n",
              "      <td>0</td>\n",
              "      <td>85</td>\n",
              "    </tr>\n",
              "    <tr>\n",
              "      <th rowspan=\"2\" valign=\"top\">Soft Drinks</th>\n",
              "      <th>Low Fat</th>\n",
              "      <td>0</td>\n",
              "      <td>59</td>\n",
              "    </tr>\n",
              "    <tr>\n",
              "      <th>Regular</th>\n",
              "      <td>0</td>\n",
              "      <td>12</td>\n",
              "    </tr>\n",
              "    <tr>\n",
              "      <th rowspan=\"2\" valign=\"top\">Starchy Foods</th>\n",
              "      <th>Low Fat</th>\n",
              "      <td>0</td>\n",
              "      <td>8</td>\n",
              "    </tr>\n",
              "    <tr>\n",
              "      <th>Regular</th>\n",
              "      <td>0</td>\n",
              "      <td>10</td>\n",
              "    </tr>\n",
              "  </tbody>\n",
              "</table>\n",
              "</div>"
            ],
            "text/plain": [
              "                                        Item_Weight  Item_MRP\n",
              "Item_Type             Item_Fat_Content                       \n",
              "Baking Goods          Low Fat                     0        67\n",
              "                      Regular                     0        45\n",
              "Breads                Low Fat                     0        27\n",
              "                      Regular                     0        20\n",
              "Breakfast             Low Fat                     0         7\n",
              "                      Regular                     0        14\n",
              "Canned                Low Fat                     0        55\n",
              "                      Regular                     0        55\n",
              "Dairy                 Low Fat                     0        64\n",
              "                      Regular                     0        52\n",
              "Frozen Foods          Low Fat                     0        75\n",
              "                      Regular                     0        63\n",
              "Fruits and Vegetables Low Fat                     0       112\n",
              "                      Regular                     0       101\n",
              "Hard Drinks           Low Fat                     0        31\n",
              "Health and Hygiene    Low Fat                     0        90\n",
              "Household             Low Fat                     0       151\n",
              "Meat                  Low Fat                     0        38\n",
              "                      Regular                     0        50\n",
              "Others                Low Fat                     0        32\n",
              "Seafood               Low Fat                     0         8\n",
              "                      Regular                     0         5\n",
              "Snack Foods           Low Fat                     0       127\n",
              "                      Regular                     0        85\n",
              "Soft Drinks           Low Fat                     0        59\n",
              "                      Regular                     0        12\n",
              "Starchy Foods         Low Fat                     0         8\n",
              "                      Regular                     0        10"
            ]
          },
          "metadata": {
            "tags": []
          },
          "execution_count": 40
        }
      ]
    },
    {
      "cell_type": "code",
      "metadata": {
        "colab": {
          "base_uri": "https://localhost:8080/",
          "height": 944
        },
        "id": "SKMa-pLZESX0",
        "outputId": "d088af4b-8dad-4e3f-9ade-7e0af41d4e30"
      },
      "source": [
        "sales.loc[~weight_missing, :].groupby(['Item_Type','Item_Fat_Content'])[['Item_Weight','Item_MRP']].count()"
      ],
      "execution_count": 41,
      "outputs": [
        {
          "output_type": "execute_result",
          "data": {
            "text/html": [
              "<div>\n",
              "<style scoped>\n",
              "    .dataframe tbody tr th:only-of-type {\n",
              "        vertical-align: middle;\n",
              "    }\n",
              "\n",
              "    .dataframe tbody tr th {\n",
              "        vertical-align: top;\n",
              "    }\n",
              "\n",
              "    .dataframe thead th {\n",
              "        text-align: right;\n",
              "    }\n",
              "</style>\n",
              "<table border=\"1\" class=\"dataframe\">\n",
              "  <thead>\n",
              "    <tr style=\"text-align: right;\">\n",
              "      <th></th>\n",
              "      <th></th>\n",
              "      <th>Item_Weight</th>\n",
              "      <th>Item_MRP</th>\n",
              "    </tr>\n",
              "    <tr>\n",
              "      <th>Item_Type</th>\n",
              "      <th>Item_Fat_Content</th>\n",
              "      <th></th>\n",
              "      <th></th>\n",
              "    </tr>\n",
              "  </thead>\n",
              "  <tbody>\n",
              "    <tr>\n",
              "      <th rowspan=\"2\" valign=\"top\">Baking Goods</th>\n",
              "      <th>Low Fat</th>\n",
              "      <td>262</td>\n",
              "      <td>262</td>\n",
              "    </tr>\n",
              "    <tr>\n",
              "      <th>Regular</th>\n",
              "      <td>274</td>\n",
              "      <td>274</td>\n",
              "    </tr>\n",
              "    <tr>\n",
              "      <th rowspan=\"2\" valign=\"top\">Breads</th>\n",
              "      <th>Low Fat</th>\n",
              "      <td>113</td>\n",
              "      <td>113</td>\n",
              "    </tr>\n",
              "    <tr>\n",
              "      <th>Regular</th>\n",
              "      <td>91</td>\n",
              "      <td>91</td>\n",
              "    </tr>\n",
              "    <tr>\n",
              "      <th rowspan=\"2\" valign=\"top\">Breakfast</th>\n",
              "      <th>Low Fat</th>\n",
              "      <td>34</td>\n",
              "      <td>34</td>\n",
              "    </tr>\n",
              "    <tr>\n",
              "      <th>Regular</th>\n",
              "      <td>55</td>\n",
              "      <td>55</td>\n",
              "    </tr>\n",
              "    <tr>\n",
              "      <th rowspan=\"2\" valign=\"top\">Canned</th>\n",
              "      <th>Low Fat</th>\n",
              "      <td>286</td>\n",
              "      <td>286</td>\n",
              "    </tr>\n",
              "    <tr>\n",
              "      <th>Regular</th>\n",
              "      <td>253</td>\n",
              "      <td>253</td>\n",
              "    </tr>\n",
              "    <tr>\n",
              "      <th rowspan=\"2\" valign=\"top\">Dairy</th>\n",
              "      <th>Low Fat</th>\n",
              "      <td>354</td>\n",
              "      <td>354</td>\n",
              "    </tr>\n",
              "    <tr>\n",
              "      <th>Regular</th>\n",
              "      <td>212</td>\n",
              "      <td>212</td>\n",
              "    </tr>\n",
              "    <tr>\n",
              "      <th rowspan=\"2\" valign=\"top\">Frozen Foods</th>\n",
              "      <th>Low Fat</th>\n",
              "      <td>375</td>\n",
              "      <td>375</td>\n",
              "    </tr>\n",
              "    <tr>\n",
              "      <th>Regular</th>\n",
              "      <td>343</td>\n",
              "      <td>343</td>\n",
              "    </tr>\n",
              "    <tr>\n",
              "      <th rowspan=\"2\" valign=\"top\">Fruits and Vegetables</th>\n",
              "      <th>Low Fat</th>\n",
              "      <td>518</td>\n",
              "      <td>518</td>\n",
              "    </tr>\n",
              "    <tr>\n",
              "      <th>Regular</th>\n",
              "      <td>501</td>\n",
              "      <td>501</td>\n",
              "    </tr>\n",
              "    <tr>\n",
              "      <th>Hard Drinks</th>\n",
              "      <th>Low Fat</th>\n",
              "      <td>183</td>\n",
              "      <td>183</td>\n",
              "    </tr>\n",
              "    <tr>\n",
              "      <th>Health and Hygiene</th>\n",
              "      <th>Low Fat</th>\n",
              "      <td>430</td>\n",
              "      <td>430</td>\n",
              "    </tr>\n",
              "    <tr>\n",
              "      <th>Household</th>\n",
              "      <th>Low Fat</th>\n",
              "      <td>759</td>\n",
              "      <td>759</td>\n",
              "    </tr>\n",
              "    <tr>\n",
              "      <th rowspan=\"2\" valign=\"top\">Meat</th>\n",
              "      <th>Low Fat</th>\n",
              "      <td>132</td>\n",
              "      <td>132</td>\n",
              "    </tr>\n",
              "    <tr>\n",
              "      <th>Regular</th>\n",
              "      <td>205</td>\n",
              "      <td>205</td>\n",
              "    </tr>\n",
              "    <tr>\n",
              "      <th>Others</th>\n",
              "      <th>Low Fat</th>\n",
              "      <td>137</td>\n",
              "      <td>137</td>\n",
              "    </tr>\n",
              "    <tr>\n",
              "      <th rowspan=\"2\" valign=\"top\">Seafood</th>\n",
              "      <th>Low Fat</th>\n",
              "      <td>29</td>\n",
              "      <td>29</td>\n",
              "    </tr>\n",
              "    <tr>\n",
              "      <th>Regular</th>\n",
              "      <td>22</td>\n",
              "      <td>22</td>\n",
              "    </tr>\n",
              "    <tr>\n",
              "      <th rowspan=\"2\" valign=\"top\">Snack Foods</th>\n",
              "      <th>Low Fat</th>\n",
              "      <td>565</td>\n",
              "      <td>565</td>\n",
              "    </tr>\n",
              "    <tr>\n",
              "      <th>Regular</th>\n",
              "      <td>423</td>\n",
              "      <td>423</td>\n",
              "    </tr>\n",
              "    <tr>\n",
              "      <th rowspan=\"2\" valign=\"top\">Soft Drinks</th>\n",
              "      <th>Low Fat</th>\n",
              "      <td>315</td>\n",
              "      <td>315</td>\n",
              "    </tr>\n",
              "    <tr>\n",
              "      <th>Regular</th>\n",
              "      <td>59</td>\n",
              "      <td>59</td>\n",
              "    </tr>\n",
              "    <tr>\n",
              "      <th rowspan=\"2\" valign=\"top\">Starchy Foods</th>\n",
              "      <th>Low Fat</th>\n",
              "      <td>74</td>\n",
              "      <td>74</td>\n",
              "    </tr>\n",
              "    <tr>\n",
              "      <th>Regular</th>\n",
              "      <td>56</td>\n",
              "      <td>56</td>\n",
              "    </tr>\n",
              "  </tbody>\n",
              "</table>\n",
              "</div>"
            ],
            "text/plain": [
              "                                        Item_Weight  Item_MRP\n",
              "Item_Type             Item_Fat_Content                       \n",
              "Baking Goods          Low Fat                   262       262\n",
              "                      Regular                   274       274\n",
              "Breads                Low Fat                   113       113\n",
              "                      Regular                    91        91\n",
              "Breakfast             Low Fat                    34        34\n",
              "                      Regular                    55        55\n",
              "Canned                Low Fat                   286       286\n",
              "                      Regular                   253       253\n",
              "Dairy                 Low Fat                   354       354\n",
              "                      Regular                   212       212\n",
              "Frozen Foods          Low Fat                   375       375\n",
              "                      Regular                   343       343\n",
              "Fruits and Vegetables Low Fat                   518       518\n",
              "                      Regular                   501       501\n",
              "Hard Drinks           Low Fat                   183       183\n",
              "Health and Hygiene    Low Fat                   430       430\n",
              "Household             Low Fat                   759       759\n",
              "Meat                  Low Fat                   132       132\n",
              "                      Regular                   205       205\n",
              "Others                Low Fat                   137       137\n",
              "Seafood               Low Fat                    29        29\n",
              "                      Regular                    22        22\n",
              "Snack Foods           Low Fat                   565       565\n",
              "                      Regular                   423       423\n",
              "Soft Drinks           Low Fat                   315       315\n",
              "                      Regular                    59        59\n",
              "Starchy Foods         Low Fat                    74        74\n",
              "                      Regular                    56        56"
            ]
          },
          "metadata": {
            "tags": []
          },
          "execution_count": 41
        }
      ]
    },
    {
      "cell_type": "code",
      "metadata": {
        "colab": {
          "base_uri": "https://localhost:8080/"
        },
        "id": "Tf2pucJn-rYk",
        "outputId": "335c8100-b61b-48e7-e495-8327432bbe9f"
      },
      "source": [
        "sales.groupby(['Item_Type'])['Item_Weight'].mean()"
      ],
      "execution_count": 42,
      "outputs": [
        {
          "output_type": "execute_result",
          "data": {
            "text/plain": [
              "Item_Type\n",
              "Baking Goods             12.277108\n",
              "Breads                   11.346936\n",
              "Breakfast                12.768202\n",
              "Canned                   12.305705\n",
              "Dairy                    13.426069\n",
              "Frozen Foods             12.867061\n",
              "Fruits and Vegetables    13.224769\n",
              "Hard Drinks              11.400328\n",
              "Health and Hygiene       13.142314\n",
              "Household                13.384736\n",
              "Meat                     12.817344\n",
              "Others                   13.853285\n",
              "Seafood                  12.552843\n",
              "Snack Foods              12.987880\n",
              "Soft Drinks              11.847460\n",
              "Starchy Foods            13.690731\n",
              "Name: Item_Weight, dtype: float64"
            ]
          },
          "metadata": {
            "tags": []
          },
          "execution_count": 42
        }
      ]
    },
    {
      "cell_type": "code",
      "metadata": {
        "colab": {
          "base_uri": "https://localhost:8080/"
        },
        "id": "Eupk3Q1o_rKB",
        "outputId": "8a9a01cd-4731-43e4-a7d1-5847011ccf37"
      },
      "source": [
        "sales.groupby(['Item_Type'])['Item_Weight'].max()"
      ],
      "execution_count": 43,
      "outputs": [
        {
          "output_type": "execute_result",
          "data": {
            "text/plain": [
              "Item_Type\n",
              "Baking Goods             20.85\n",
              "Breads                   20.85\n",
              "Breakfast                21.10\n",
              "Canned                   21.35\n",
              "Dairy                    20.70\n",
              "Frozen Foods             20.85\n",
              "Fruits and Vegetables    21.35\n",
              "Hard Drinks              19.70\n",
              "Health and Hygiene       21.25\n",
              "Household                21.25\n",
              "Meat                     21.25\n",
              "Others                   20.50\n",
              "Seafood                  20.75\n",
              "Snack Foods              21.25\n",
              "Soft Drinks              20.75\n",
              "Starchy Foods            21.20\n",
              "Name: Item_Weight, dtype: float64"
            ]
          },
          "metadata": {
            "tags": []
          },
          "execution_count": 43
        }
      ]
    },
    {
      "cell_type": "code",
      "metadata": {
        "colab": {
          "base_uri": "https://localhost:8080/"
        },
        "id": "89bapIJS_4WE",
        "outputId": "36153088-04cd-4949-fe86-c69fa13cf80c"
      },
      "source": [
        "print(sales.groupby(['Item_Type'])['Item_Weight'].min())"
      ],
      "execution_count": 44,
      "outputs": [
        {
          "output_type": "stream",
          "text": [
            "Item_Type\n",
            "Baking Goods             4.880\n",
            "Breads                   4.635\n",
            "Breakfast                6.425\n",
            "Canned                   4.615\n",
            "Dairy                    4.805\n",
            "Frozen Foods             4.555\n",
            "Fruits and Vegetables    5.460\n",
            "Hard Drinks              4.610\n",
            "Health and Hygiene       5.175\n",
            "Household                5.030\n",
            "Meat                     5.150\n",
            "Others                   5.500\n",
            "Seafood                  5.365\n",
            "Snack Foods              5.095\n",
            "Soft Drinks              4.590\n",
            "Starchy Foods            6.695\n",
            "Name: Item_Weight, dtype: float64\n"
          ],
          "name": "stdout"
        }
      ]
    },
    {
      "cell_type": "code",
      "metadata": {
        "colab": {
          "base_uri": "https://localhost:8080/"
        },
        "id": "RFfNnaV-J8yg",
        "outputId": "79b069a3-b3dc-410b-8eac-86b468077ad5"
      },
      "source": [
        "sales.loc[weight_missing, 'Item_Identifier'].count()"
      ],
      "execution_count": 45,
      "outputs": [
        {
          "output_type": "execute_result",
          "data": {
            "text/plain": [
              "1463"
            ]
          },
          "metadata": {
            "tags": []
          },
          "execution_count": 45
        }
      ]
    },
    {
      "cell_type": "code",
      "metadata": {
        "colab": {
          "base_uri": "https://localhost:8080/"
        },
        "id": "nPiRvEYiOy-u",
        "outputId": "55610a8b-2078-4fda-8aee-88e8a2465d05"
      },
      "source": [
        "sales.loc[weight_missing, 'Item_Identifier'].nunique()"
      ],
      "execution_count": 46,
      "outputs": [
        {
          "output_type": "execute_result",
          "data": {
            "text/plain": [
              "1142"
            ]
          },
          "metadata": {
            "tags": []
          },
          "execution_count": 46
        }
      ]
    },
    {
      "cell_type": "code",
      "metadata": {
        "colab": {
          "base_uri": "https://localhost:8080/"
        },
        "id": "enwOy6T0BUzf",
        "outputId": "74fffa92-a226-4339-9c81-d75045ca7a00"
      },
      "source": [
        "sales.groupby(['Item_Type', 'Item_Identifier'])['Item_Weight'].count()"
      ],
      "execution_count": 47,
      "outputs": [
        {
          "output_type": "execute_result",
          "data": {
            "text/plain": [
              "Item_Type      Item_Identifier\n",
              "Baking Goods   FDA11              4\n",
              "               FDA23              5\n",
              "               FDA35              3\n",
              "               FDA36              2\n",
              "               FDA47              5\n",
              "                                 ..\n",
              "Starchy Foods  FDG59              5\n",
              "               FDH35              5\n",
              "               FDH47              6\n",
              "               FDI35              3\n",
              "               FDZ34              3\n",
              "Name: Item_Weight, Length: 1559, dtype: int64"
            ]
          },
          "metadata": {
            "tags": []
          },
          "execution_count": 47
        }
      ]
    },
    {
      "cell_type": "code",
      "metadata": {
        "colab": {
          "base_uri": "https://localhost:8080/"
        },
        "id": "CwMQqOYRFNJY",
        "outputId": "799c66e5-750e-4b5e-8805-fff06122222f"
      },
      "source": [
        "# Found 2 of the NAN values that share a Type ID with 8 others. Easy to know\n",
        "# these weights are specific to this Type ID\n",
        "\n",
        "typeID_FDW13 = sales['Item_Identifier'] == 'FDW13'\n",
        "\n",
        "sales['Item_Weight'][typeID_FDW13].fillna(8.5)"
      ],
      "execution_count": 48,
      "outputs": [
        {
          "output_type": "execute_result",
          "data": {
            "text/plain": [
              "256     8.5\n",
              "1141    8.5\n",
              "2190    8.5\n",
              "3928    8.5\n",
              "3978    8.5\n",
              "6499    8.5\n",
              "6587    8.5\n",
              "7029    8.5\n",
              "8025    8.5\n",
              "8032    8.5\n",
              "Name: Item_Weight, dtype: float64"
            ]
          },
          "metadata": {
            "tags": []
          },
          "execution_count": 48
        }
      ]
    },
    {
      "cell_type": "markdown",
      "metadata": {
        "id": "MLDFncyRvIWZ"
      },
      "source": [
        "I have no idea how to make these values apply. I tried renaming the dataframe, but it not work. I also tried creating a function, but I obviously still have no idea how to work with those. Either way, I will be moving on from this strategy and filling in all missing values by either creating another category or by imputing the \"best fit\" for that column."
      ]
    },
    {
      "cell_type": "code",
      "metadata": {
        "id": "WTbDHx77Kpkr"
      },
      "source": [
        "sales['Outlet_Size'].fillna('Not Specified', inplace=True)"
      ],
      "execution_count": 49,
      "outputs": []
    },
    {
      "cell_type": "code",
      "metadata": {
        "colab": {
          "base_uri": "https://localhost:8080/"
        },
        "id": "5hZJ8A3zLgBl",
        "outputId": "5e13646d-def9-4e73-e0a9-2efafa7edb8e"
      },
      "source": [
        "sales['Outlet_Size'].value_counts()"
      ],
      "execution_count": 50,
      "outputs": [
        {
          "output_type": "execute_result",
          "data": {
            "text/plain": [
              "Medium           2793\n",
              "Not Specified    2410\n",
              "Small            2388\n",
              "High              932\n",
              "Name: Outlet_Size, dtype: int64"
            ]
          },
          "metadata": {
            "tags": []
          },
          "execution_count": 50
        }
      ]
    },
    {
      "cell_type": "code",
      "metadata": {
        "id": "Zh8B9oxRv4WI"
      },
      "source": [
        "sales['Item_Weight'].fillna(0.000, inplace=True)"
      ],
      "execution_count": 51,
      "outputs": []
    },
    {
      "cell_type": "code",
      "metadata": {
        "colab": {
          "base_uri": "https://localhost:8080/"
        },
        "id": "F7LJ2pE3PnYw",
        "outputId": "6a501c10-f5bf-4711-a669-672076f39196"
      },
      "source": [
        "sales['Item_Weight'].value_counts()"
      ],
      "execution_count": 52,
      "outputs": [
        {
          "output_type": "execute_result",
          "data": {
            "text/plain": [
              "0.000     1463\n",
              "12.150      86\n",
              "17.600      82\n",
              "13.650      77\n",
              "11.800      76\n",
              "          ... \n",
              "5.675        2\n",
              "9.420        1\n",
              "6.520        1\n",
              "7.685        1\n",
              "5.400        1\n",
              "Name: Item_Weight, Length: 416, dtype: int64"
            ]
          },
          "metadata": {
            "tags": []
          },
          "execution_count": 52
        }
      ]
    },
    {
      "cell_type": "code",
      "metadata": {
        "colab": {
          "base_uri": "https://localhost:8080/"
        },
        "id": "xlz3dGRsP-pw",
        "outputId": "5eed5227-6ae4-4d53-8670-6ca863c7370c"
      },
      "source": [
        "sales.isnull().sum()"
      ],
      "execution_count": 53,
      "outputs": [
        {
          "output_type": "execute_result",
          "data": {
            "text/plain": [
              "Item_Identifier              0\n",
              "Item_Weight                  0\n",
              "Item_Fat_Content             0\n",
              "Item_Type                    0\n",
              "Item_MRP                     0\n",
              "Outlet_Identifier            0\n",
              "Outlet_Establishment_Year    0\n",
              "Outlet_Size                  0\n",
              "Outlet_Location_Type         0\n",
              "Outlet_Type                  0\n",
              "Item_Outlet_Sales            0\n",
              "dtype: int64"
            ]
          },
          "metadata": {
            "tags": []
          },
          "execution_count": 53
        }
      ]
    },
    {
      "cell_type": "markdown",
      "metadata": {
        "id": "D2RaEQjgXc0H"
      },
      "source": [
        "## Removing Unwanted Data Observations"
      ]
    },
    {
      "cell_type": "code",
      "metadata": {
        "id": "JEJLUdXYTMJU",
        "colab": {
          "base_uri": "https://localhost:8080/"
        },
        "outputId": "f14255a4-07f3-4be7-f9bd-6e721400f0f2"
      },
      "source": [
        "# Checking for duplicates\n",
        "\n",
        "sales.duplicated().any()"
      ],
      "execution_count": 54,
      "outputs": [
        {
          "output_type": "execute_result",
          "data": {
            "text/plain": [
              "False"
            ]
          },
          "metadata": {
            "tags": []
          },
          "execution_count": 54
        }
      ]
    },
    {
      "cell_type": "markdown",
      "metadata": {
        "id": "kHo3B2T77cd9"
      },
      "source": [
        "# Part 3"
      ]
    },
    {
      "cell_type": "code",
      "metadata": {
        "id": "bKhxX0nyTa4j"
      },
      "source": [
        "import matplotlib.pyplot as plt\n",
        "import numpy as np\n",
        "import seaborn as sns"
      ],
      "execution_count": 55,
      "outputs": []
    },
    {
      "cell_type": "code",
      "metadata": {
        "id": "P0aFATvXYG-g",
        "colab": {
          "base_uri": "https://localhost:8080/"
        },
        "outputId": "526044d7-274d-4674-d528-6574e10f9546"
      },
      "source": [
        "uniqueItems = sales.groupby(['Outlet_Establishment_Year'])['Outlet_Identifier'].nunique()\n",
        "\n",
        "uniqueItems"
      ],
      "execution_count": 56,
      "outputs": [
        {
          "output_type": "execute_result",
          "data": {
            "text/plain": [
              "Outlet_Establishment_Year\n",
              "1985    2\n",
              "1987    1\n",
              "1997    1\n",
              "1998    1\n",
              "1999    1\n",
              "2002    1\n",
              "2004    1\n",
              "2007    1\n",
              "2009    1\n",
              "Name: Outlet_Identifier, dtype: int64"
            ]
          },
          "metadata": {
            "tags": []
          },
          "execution_count": 56
        }
      ]
    },
    {
      "cell_type": "code",
      "metadata": {
        "id": "521EWnipat9D",
        "colab": {
          "base_uri": "https://localhost:8080/",
          "height": 300
        },
        "outputId": "95444441-a4dc-49ae-abc9-127be45c3ad5"
      },
      "source": [
        "plt.bar(uniqueItems.index, uniqueItems.values)\n",
        "plt.yticks(np.arange(3), [0, 1, 2])\n",
        "plt.title('Number of Outlets Established by Year', fontsize = 16)\n",
        "plt.ylabel('Count', fontsize= 13)\n",
        "plt.xlabel('Year of Establishment', fontsize = 13);"
      ],
      "execution_count": 57,
      "outputs": [
        {
          "output_type": "display_data",
          "data": {
            "image/png": "[encoded data removed]",
            "text/plain": [
              "<Figure size 432x288 with 1 Axes>"
            ]
          },
          "metadata": {
            "tags": [],
            "needs_background": "light"
          }
        }
      ]
    },
    {
      "cell_type": "code",
      "metadata": {
        "colab": {
          "base_uri": "https://localhost:8080/"
        },
        "id": "TEonY0G_XXEc",
        "outputId": "2b468d78-0b99-464d-dc38-6d61db45044e"
      },
      "source": [
        "itemsSold = sales.groupby(['Outlet_Establishment_Year', 'Outlet_Identifier'])['Item_Identifier'].nunique()\n",
        "\n",
        "itemsSold"
      ],
      "execution_count": 58,
      "outputs": [
        {
          "output_type": "execute_result",
          "data": {
            "text/plain": [
              "Outlet_Establishment_Year  Outlet_Identifier\n",
              "1985                       OUT019               528\n",
              "                           OUT027               935\n",
              "1987                       OUT013               932\n",
              "1997                       OUT046               930\n",
              "1998                       OUT010               555\n",
              "1999                       OUT049               930\n",
              "2002                       OUT045               929\n",
              "2004                       OUT035               930\n",
              "2007                       OUT017               926\n",
              "2009                       OUT018               928\n",
              "Name: Item_Identifier, dtype: int64"
            ]
          },
          "metadata": {
            "tags": []
          },
          "execution_count": 58
        }
      ]
    },
    {
      "cell_type": "code",
      "metadata": {
        "colab": {
          "base_uri": "https://localhost:8080/"
        },
        "id": "wXVfP2BUSetK",
        "outputId": "13c92971-c7e1-408d-d4f1-cda18a402d06"
      },
      "source": [
        "soldbyOutlet = itemsSold.index.droplevel(level=0)\n",
        "\n",
        "soldbyOutlet"
      ],
      "execution_count": 59,
      "outputs": [
        {
          "output_type": "execute_result",
          "data": {
            "text/plain": [
              "Index(['OUT019', 'OUT027', 'OUT013', 'OUT046', 'OUT010', 'OUT049', 'OUT045',\n",
              "       'OUT035', 'OUT017', 'OUT018'],\n",
              "      dtype='object', name='Outlet_Identifier')"
            ]
          },
          "metadata": {
            "tags": []
          },
          "execution_count": 59
        }
      ]
    },
    {
      "cell_type": "code",
      "metadata": {
        "id": "frsdgwtnffS9",
        "colab": {
          "base_uri": "https://localhost:8080/"
        },
        "outputId": "dc16bb07-55e3-4873-c0d5-f65cc4e4664c"
      },
      "source": [
        "itemsSold.values"
      ],
      "execution_count": 60,
      "outputs": [
        {
          "output_type": "execute_result",
          "data": {
            "text/plain": [
              "array([528, 935, 932, 930, 555, 930, 929, 930, 926, 928])"
            ]
          },
          "metadata": {
            "tags": []
          },
          "execution_count": 60
        }
      ]
    },
    {
      "cell_type": "code",
      "metadata": {
        "id": "iGA62RRhjhO5",
        "colab": {
          "base_uri": "https://localhost:8080/",
          "height": 332
        },
        "outputId": "a4c1242c-1362-48f4-d1a0-7a7fa1280e43"
      },
      "source": [
        "sns.barplot(x = soldbyOutlet, y = itemsSold.values)\n",
        "plt.xticks(rotation= 90);\n",
        "plt.title('Number of Items Sold by Outlet', fontsize = 18)\n",
        "plt.xlabel('Outlet Identifier', fontsize = 15)\n",
        "plt.xlabel('(in order of Year Established 1985-2009)', fontsize = 13)\n",
        "plt.ylabel('Total', fontsize = 15);"
      ],
      "execution_count": 61,
      "outputs": [
        {
          "output_type": "display_data",
          "data": {
            "image/png": "[encoded data removed]",
            "text/plain": [
              "<Figure size 432x288 with 1 Axes>"
            ]
          },
          "metadata": {
            "tags": [],
            "needs_background": "light"
          }
        }
      ]
    },
    {
      "cell_type": "code",
      "metadata": {
        "colab": {
          "base_uri": "https://localhost:8080/"
        },
        "id": "CQpv-M4CUteW",
        "outputId": "69991924-b76c-4f96-933f-d47b834e971c"
      },
      "source": [
        "salesbyLocation = sales.groupby(['Outlet_Location_Type'])['Item_Outlet_Sales'].mean()\n",
        "\n",
        "salesbyLocation"
      ],
      "execution_count": 62,
      "outputs": [
        {
          "output_type": "execute_result",
          "data": {
            "text/plain": [
              "Outlet_Location_Type\n",
              "Tier 1    1876.909159\n",
              "Tier 2    2323.990559\n",
              "Tier 3    2279.627651\n",
              "Name: Item_Outlet_Sales, dtype: float64"
            ]
          },
          "metadata": {
            "tags": []
          },
          "execution_count": 62
        }
      ]
    },
    {
      "cell_type": "code",
      "metadata": {
        "colab": {
          "base_uri": "https://localhost:8080/",
          "height": 297
        },
        "id": "74YkWKLrZBtW",
        "outputId": "a232cd7d-e438-4e2a-d75e-0e5e3cf16919"
      },
      "source": [
        "plt.bar(salesbyLocation.index, salesbyLocation.values);\n",
        "plt.title('Sales by Location', fontsize = 16)\n",
        "plt.xlabel('Outlet Location Tier')\n",
        "plt.ylabel('Total Sales');"
      ],
      "execution_count": 63,
      "outputs": [
        {
          "output_type": "display_data",
          "data": {
            "image/png": "[encoded data removed]",
            "text/plain": [
              "<Figure size 432x288 with 1 Axes>"
            ]
          },
          "metadata": {
            "tags": [],
            "needs_background": "light"
          }
        }
      ]
    },
    {
      "cell_type": "markdown",
      "metadata": {
        "id": "b9iD8hPs6PJS"
      },
      "source": [
        "# Part 4"
      ]
    },
    {
      "cell_type": "code",
      "metadata": {
        "id": "iWzbVl56Zpu5",
        "outputId": "36e1e77f-a003-44d1-b753-993f5fcd248e",
        "colab": {
          "base_uri": "https://localhost:8080/"
        }
      },
      "source": [
        "sales.info()"
      ],
      "execution_count": 64,
      "outputs": [
        {
          "output_type": "stream",
          "text": [
            "<class 'pandas.core.frame.DataFrame'>\n",
            "RangeIndex: 8523 entries, 0 to 8522\n",
            "Data columns (total 11 columns):\n",
            " #   Column                     Non-Null Count  Dtype  \n",
            "---  ------                     --------------  -----  \n",
            " 0   Item_Identifier            8523 non-null   object \n",
            " 1   Item_Weight                8523 non-null   float64\n",
            " 2   Item_Fat_Content           8523 non-null   object \n",
            " 3   Item_Type                  8523 non-null   object \n",
            " 4   Item_MRP                   8523 non-null   float64\n",
            " 5   Outlet_Identifier          8523 non-null   object \n",
            " 6   Outlet_Establishment_Year  8523 non-null   int64  \n",
            " 7   Outlet_Size                8523 non-null   object \n",
            " 8   Outlet_Location_Type       8523 non-null   object \n",
            " 9   Outlet_Type                8523 non-null   object \n",
            " 10  Item_Outlet_Sales          8523 non-null   float64\n",
            "dtypes: float64(3), int64(1), object(7)\n",
            "memory usage: 732.6+ KB\n"
          ],
          "name": "stdout"
        }
      ]
    },
    {
      "cell_type": "code",
      "metadata": {
        "id": "_IGS6OUk6YlZ",
        "outputId": "e74680ec-738d-4c71-bfe1-4635764dc9b8",
        "colab": {
          "base_uri": "https://localhost:8080/",
          "height": 393
        }
      },
      "source": [
        "plt.style.use('seaborn-muted')\n",
        "plt.figure(figsize = (9,6))\n",
        "sales['Item_MRP'].hist(bins = 30, color='#77AC30', edgecolor='white');\n",
        "plt.xlim(left = 0, right = 275)\n",
        "plt.ylim(top=475)\n",
        "plt.xlabel('MRP', fontsize = 16)\n",
        "plt.ylabel('Number of Items at MRP', fontsize = 16)\n",
        "plt.grid(axis = 'x')"
      ],
      "execution_count": 120,
      "outputs": [
        {
          "output_type": "display_data",
          "data": {
            "image/png": "[encoded data removed]",
            "text/plain": [
              "<Figure size 648x432 with 1 Axes>"
            ]
          },
          "metadata": {
            "tags": []
          }
        }
      ]
    },
    {
      "cell_type": "code",
      "metadata": {
        "id": "LW0dKDER6w9X",
        "outputId": "9d7b9f08-5853-47d9-ef9f-d60dde6df2a5",
        "colab": {
          "base_uri": "https://localhost:8080/"
        }
      },
      "source": [
        "plt.style.available"
      ],
      "execution_count": 91,
      "outputs": [
        {
          "output_type": "execute_result",
          "data": {
            "text/plain": [
              "['Solarize_Light2',\n",
              " '_classic_test_patch',\n",
              " 'bmh',\n",
              " 'classic',\n",
              " 'dark_background',\n",
              " 'fast',\n",
              " 'fivethirtyeight',\n",
              " 'ggplot',\n",
              " 'grayscale',\n",
              " 'seaborn',\n",
              " 'seaborn-bright',\n",
              " 'seaborn-colorblind',\n",
              " 'seaborn-dark',\n",
              " 'seaborn-dark-palette',\n",
              " 'seaborn-darkgrid',\n",
              " 'seaborn-deep',\n",
              " 'seaborn-muted',\n",
              " 'seaborn-notebook',\n",
              " 'seaborn-paper',\n",
              " 'seaborn-pastel',\n",
              " 'seaborn-poster',\n",
              " 'seaborn-talk',\n",
              " 'seaborn-ticks',\n",
              " 'seaborn-white',\n",
              " 'seaborn-whitegrid',\n",
              " 'tableau-colorblind10']"
            ]
          },
          "metadata": {
            "tags": []
          },
          "execution_count": 91
        }
      ]
    },
    {
      "cell_type": "code",
      "metadata": {
        "id": "1LIWqvLmCgwM",
        "outputId": "3faf98ca-66ed-4832-94c5-4a3ab06eb638",
        "colab": {
          "base_uri": "https://localhost:8080/"
        }
      },
      "source": [
        "sales.info()"
      ],
      "execution_count": 124,
      "outputs": [
        {
          "output_type": "stream",
          "text": [
            "<class 'pandas.core.frame.DataFrame'>\n",
            "RangeIndex: 8523 entries, 0 to 8522\n",
            "Data columns (total 11 columns):\n",
            " #   Column                     Non-Null Count  Dtype  \n",
            "---  ------                     --------------  -----  \n",
            " 0   Item_Identifier            8523 non-null   object \n",
            " 1   Item_Weight                8523 non-null   float64\n",
            " 2   Item_Fat_Content           8523 non-null   object \n",
            " 3   Item_Type                  8523 non-null   object \n",
            " 4   Item_MRP                   8523 non-null   float64\n",
            " 5   Outlet_Identifier          8523 non-null   object \n",
            " 6   Outlet_Establishment_Year  8523 non-null   int64  \n",
            " 7   Outlet_Size                8523 non-null   object \n",
            " 8   Outlet_Location_Type       8523 non-null   object \n",
            " 9   Outlet_Type                8523 non-null   object \n",
            " 10  Item_Outlet_Sales          8523 non-null   float64\n",
            "dtypes: float64(3), int64(1), object(7)\n",
            "memory usage: 732.6+ KB\n"
          ],
          "name": "stdout"
        }
      ]
    },
    {
      "cell_type": "code",
      "metadata": {
        "id": "c1v6uMLyCBFL",
        "outputId": "4602369c-ebd6-4a57-fc58-85933650f424",
        "colab": {
          "base_uri": "https://localhost:8080/"
        }
      },
      "source": [
        "sales['Outlet_Size'].value_counts()"
      ],
      "execution_count": 123,
      "outputs": [
        {
          "output_type": "execute_result",
          "data": {
            "text/plain": [
              "Medium           2793\n",
              "Not Specified    2410\n",
              "Small            2388\n",
              "High              932\n",
              "Name: Outlet_Size, dtype: int64"
            ]
          },
          "metadata": {
            "tags": []
          },
          "execution_count": 123
        }
      ]
    },
    {
      "cell_type": "code",
      "metadata": {
        "id": "VF7hmuAs73KL",
        "outputId": "656add40-b4f3-442e-ad75-311a66b74cbb",
        "colab": {
          "base_uri": "https://localhost:8080/",
          "height": 495
        }
      },
      "source": [
        "plt.style.use('seaborn-talk')\n",
        "small = sales.loc[sales['Outlet_Size']=='Small', 'Item_Outlet_Sales'].values\n",
        "medium = sales.loc[sales['Outlet_Size']=='Medium', 'Item_Outlet_Sales'].values\n",
        "high = sales.loc[sales['Outlet_Size']=='High', 'Item_Outlet_Sales'].values\n",
        "plt.boxplot([small, medium, high], labels=['Smaller', 'Medium', 'Larger']);"
      ],
      "execution_count": 128,
      "outputs": [
        {
          "output_type": "stream",
          "text": [
            "/usr/local/lib/python3.7/dist-packages/numpy/core/_asarray.py:83: VisibleDeprecationWarning: Creating an ndarray from ragged nested sequences (which is a list-or-tuple of lists-or-tuples-or ndarrays with different lengths or shapes) is deprecated. If you meant to do this, you must specify 'dtype=object' when creating the ndarray\n",
            "  return array(a, dtype, copy=False, order=order)\n"
          ],
          "name": "stderr"
        },
        {
          "output_type": "display_data",
          "data": {
            "image/png": "[encoded data removed]",
            "text/plain": [
              "<Figure size 748.8x514.8 with 1 Axes>"
            ]
          },
          "metadata": {
            "tags": []
          }
        }
      ]
    },
    {
      "cell_type": "code",
      "metadata": {
        "id": "dL_lZ4AaDVr6",
        "outputId": "80df6ba0-1fe7-4024-fddf-32e4184a8cfc",
        "colab": {
          "base_uri": "https://localhost:8080/",
          "height": 460
        }
      },
      "source": [
        "sns.boxplot(x= 'Outlet_Size', y= 'Item_Outlet_Sales',  data= sales)\n",
        "plt.ylabel('Outlet Sales by Item', fontsize=16)\n",
        "plt.xlabel('Outlet Sales by Size', fontsize = 16);"
      ],
      "execution_count": 139,
      "outputs": [
        {
          "output_type": "display_data",
          "data": {
            "image/png": "[encoded data removed]",
            "text/plain": [
              "<Figure size 748.8x514.8 with 1 Axes>"
            ]
          },
          "metadata": {
            "tags": []
          }
        }
      ]
    },
    {
      "cell_type": "code",
      "metadata": {
        "id": "Lho73-Z7EE6B",
        "outputId": "7c7a5870-cae8-4e70-f25b-cedb36f827c4",
        "colab": {
          "base_uri": "https://localhost:8080/",
          "height": 523
        }
      },
      "source": [
        "# The only true correlation is between the item MRP and the item sales. Makes sense\n",
        "corr = sales.corr()\n",
        "\n",
        "sns.heatmap(corr, cmap= 'Pastel2', annot =True);\n",
        "plt.xticks(np.array([0.3,1.3,2,3.2]), rotation=30);"
      ],
      "execution_count": 224,
      "outputs": [
        {
          "output_type": "display_data",
          "data": {
            "image/png": "[encoded data removed]",
            "text/plain": [
              "<Figure size 748.8x514.8 with 2 Axes>"
            ]
          },
          "metadata": {
            "tags": []
          }
        }
      ]
    },
    {
      "cell_type": "code",
      "metadata": {
        "id": "sCMcxdNNGE9N",
        "outputId": "a6b51d8c-8c44-450b-a72c-85fd2f91a743",
        "colab": {
          "base_uri": "https://localhost:8080/",
          "height": 523
        }
      },
      "source": [
        "# The next 3 heat maps will be based on the size of the Outlet\n",
        "# filtering will be done in order from smallest sq footage to highest\n",
        "\n",
        "sm_filter = sales.loc[sales['Outlet_Size']=='Small', :]\n",
        "sm_filter = sm_filter.corr()\n",
        "\n",
        "sns.heatmap(sm_filter, cmap = 'Purples', annot=True);\n",
        "plt.xticks(np.array([0.3,1.3,2,3.2]), rotation=30);"
      ],
      "execution_count": 225,
      "outputs": [
        {
          "output_type": "display_data",
          "data": {
            "image/png": "[encoded data removed]",
            "text/plain": [
              "<Figure size 748.8x514.8 with 2 Axes>"
            ]
          },
          "metadata": {
            "tags": []
          }
        }
      ]
    },
    {
      "cell_type": "code",
      "metadata": {
        "id": "_DsHVbtwHQRs",
        "outputId": "718da03f-5d59-46f2-fa88-c0b5f132aa87",
        "colab": {
          "base_uri": "https://localhost:8080/",
          "height": 654
        }
      },
      "source": [
        "md_filter = sales.loc[sales['Outlet_Size']=='Medium', :]\n",
        "md_filter = md_filter.corr()\n",
        "\n",
        "sns.heatmap(md_filter, cmap = 'Reds', annot=True);\n",
        "plt.xticks([0.3,1.3,2,3.2], ['Item Weight', 'Item MRP', 'Outlet Establishment Year', 'Item Outlet Sales'], rotation=30)"
      ],
      "execution_count": 223,
      "outputs": [
        {
          "output_type": "execute_result",
          "data": {
            "text/plain": [
              "([<matplotlib.axis.XTick at 0x7f30b6d73650>,\n",
              "  <matplotlib.axis.XTick at 0x7f30b6762410>,\n",
              "  <matplotlib.axis.XTick at 0x7f30b6743110>,\n",
              "  <matplotlib.axis.XTick at 0x7f30b674eb10>],\n",
              " [Text(0.5, 0, 'Item Weight'),\n",
              "  Text(1.5, 0, 'Item MRP'),\n",
              "  Text(2.5, 0, 'Outlet Establishment Year'),\n",
              "  Text(3.5, 0, 'Item Outlet Sales')])"
            ]
          },
          "metadata": {
            "tags": []
          },
          "execution_count": 223
        },
        {
          "output_type": "display_data",
          "data": {
            "image/png": "[encoded data removed]",
            "text/plain": [
              "<Figure size 748.8x514.8 with 2 Axes>"
            ]
          },
          "metadata": {
            "tags": []
          }
        }
      ]
    },
    {
      "cell_type": "code",
      "metadata": {
        "id": "XzGNvHCEHm7E",
        "outputId": "846aac4d-2d4a-4d5f-c63d-757bfb9ff101",
        "colab": {
          "base_uri": "https://localhost:8080/",
          "height": 462
        }
      },
      "source": [
        "lg_filter = sales.loc[sales['Outlet_Size']=='High', ['Item_Weight', 'Item_MRP', 'Item_Outlet_Sales']]\n",
        "lg_filter = lg_filter.corr()\n",
        "\n",
        "sns.heatmap(lg_filter, cmap = 'copper_r', annot=True);\n",
        "plt.yticks(rotation=360)"
      ],
      "execution_count": 177,
      "outputs": [
        {
          "output_type": "execute_result",
          "data": {
            "text/plain": [
              "(array([0.5, 1.5, 2.5]), <a list of 3 Text major ticklabel objects>)"
            ]
          },
          "metadata": {
            "tags": []
          },
          "execution_count": 177
        },
        {
          "output_type": "display_data",
          "data": {
            "image/png": "[encoded data removed]",
            "text/plain": [
              "<Figure size 748.8x514.8 with 2 Axes>"
            ]
          },
          "metadata": {
            "tags": []
          }
        }
      ]
    },
    {
      "cell_type": "code",
      "metadata": {
        "id": "qOtSofNKH9cz"
      },
      "source": [
        ""
      ],
      "execution_count": null,
      "outputs": []
    }
  ]
}