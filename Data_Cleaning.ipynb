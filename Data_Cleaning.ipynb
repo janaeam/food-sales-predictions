{
  "nbformat": 4,
  "nbformat_minor": 0,
  "metadata": {
    "colab": {
      "name": "Data_Cleaning.ipynb",
      "provenance": [],
      "collapsed_sections": [],
      "include_colab_link": true
    },
    "kernelspec": {
      "name": "python3",
      "display_name": "Python 3"
    },
    "language_info": {
      "name": "python"
    }
  },
  "cells": [
    {
      "cell_type": "markdown",
      "metadata": {
        "id": "view-in-github",
        "colab_type": "text"
      },
      "source": [
        "<a href=\"https://colab.research.google.com/github/janaeam/food-sales-predictions/blob/main/Data_Cleaning.ipynb\" target=\"_parent\"><img src=\"https://colab.research.google.com/assets/colab-badge.svg\" alt=\"Open In Colab\"/></a>"
      ]
    },
    {
      "cell_type": "markdown",
      "metadata": {
        "id": "l0e-FBGkbIyi"
      },
      "source": [
        "# Getting to Know My Data\n",
        "\n"
      ]
    },
    {
      "cell_type": "code",
      "metadata": {
        "id": "w84yAjARaMWV"
      },
      "source": [
        "import pandas as pd"
      ],
      "execution_count": 180,
      "outputs": []
    },
    {
      "cell_type": "code",
      "metadata": {
        "colab": {
          "base_uri": "https://localhost:8080/"
        },
        "id": "qfcZoGp-sbWw",
        "outputId": "4aeb499e-02f9-4ffa-d16b-a95c1f816064"
      },
      "source": [
        "from google.colab import drive\n",
        "drive.mount('/content/drive')"
      ],
      "execution_count": 181,
      "outputs": [
        {
          "output_type": "stream",
          "text": [
            "Drive already mounted at /content/drive; to attempt to forcibly remount, call drive.mount(\"/content/drive\", force_remount=True).\n"
          ],
          "name": "stdout"
        }
      ]
    },
    {
      "cell_type": "code",
      "metadata": {
        "id": "rRSsGCKAaROD"
      },
      "source": [
        "filename = '/content/drive/MyDrive/Coding Dojo/Project 1/sales_predictions.csv'\n",
        "sales = pd.read_csv(filename)"
      ],
      "execution_count": 182,
      "outputs": []
    },
    {
      "cell_type": "code",
      "metadata": {
        "colab": {
          "base_uri": "https://localhost:8080/",
          "height": 206
        },
        "id": "MkToetXaa_8D",
        "outputId": "611ff6e0-534d-4db0-969a-652b6d0ae107"
      },
      "source": [
        "sales.head()"
      ],
      "execution_count": 183,
      "outputs": [
        {
          "output_type": "execute_result",
          "data": {
            "text/html": [
              "<div>\n",
              "<style scoped>\n",
              "    .dataframe tbody tr th:only-of-type {\n",
              "        vertical-align: middle;\n",
              "    }\n",
              "\n",
              "    .dataframe tbody tr th {\n",
              "        vertical-align: top;\n",
              "    }\n",
              "\n",
              "    .dataframe thead th {\n",
              "        text-align: right;\n",
              "    }\n",
              "</style>\n",
              "<table border=\"1\" class=\"dataframe\">\n",
              "  <thead>\n",
              "    <tr style=\"text-align: right;\">\n",
              "      <th></th>\n",
              "      <th>Item_Identifier</th>\n",
              "      <th>Item_Weight</th>\n",
              "      <th>Item_Fat_Content</th>\n",
              "      <th>Item_Visibility</th>\n",
              "      <th>Item_Type</th>\n",
              "      <th>Item_MRP</th>\n",
              "      <th>Outlet_Identifier</th>\n",
              "      <th>Outlet_Establishment_Year</th>\n",
              "      <th>Outlet_Size</th>\n",
              "      <th>Outlet_Location_Type</th>\n",
              "      <th>Outlet_Type</th>\n",
              "      <th>Item_Outlet_Sales</th>\n",
              "    </tr>\n",
              "  </thead>\n",
              "  <tbody>\n",
              "    <tr>\n",
              "      <th>0</th>\n",
              "      <td>FDA15</td>\n",
              "      <td>9.30</td>\n",
              "      <td>Low Fat</td>\n",
              "      <td>0.016047</td>\n",
              "      <td>Dairy</td>\n",
              "      <td>249.8092</td>\n",
              "      <td>OUT049</td>\n",
              "      <td>1999</td>\n",
              "      <td>Medium</td>\n",
              "      <td>Tier 1</td>\n",
              "      <td>Supermarket Type1</td>\n",
              "      <td>3735.1380</td>\n",
              "    </tr>\n",
              "    <tr>\n",
              "      <th>1</th>\n",
              "      <td>DRC01</td>\n",
              "      <td>5.92</td>\n",
              "      <td>Regular</td>\n",
              "      <td>0.019278</td>\n",
              "      <td>Soft Drinks</td>\n",
              "      <td>48.2692</td>\n",
              "      <td>OUT018</td>\n",
              "      <td>2009</td>\n",
              "      <td>Medium</td>\n",
              "      <td>Tier 3</td>\n",
              "      <td>Supermarket Type2</td>\n",
              "      <td>443.4228</td>\n",
              "    </tr>\n",
              "    <tr>\n",
              "      <th>2</th>\n",
              "      <td>FDN15</td>\n",
              "      <td>17.50</td>\n",
              "      <td>Low Fat</td>\n",
              "      <td>0.016760</td>\n",
              "      <td>Meat</td>\n",
              "      <td>141.6180</td>\n",
              "      <td>OUT049</td>\n",
              "      <td>1999</td>\n",
              "      <td>Medium</td>\n",
              "      <td>Tier 1</td>\n",
              "      <td>Supermarket Type1</td>\n",
              "      <td>2097.2700</td>\n",
              "    </tr>\n",
              "    <tr>\n",
              "      <th>3</th>\n",
              "      <td>FDX07</td>\n",
              "      <td>19.20</td>\n",
              "      <td>Regular</td>\n",
              "      <td>0.000000</td>\n",
              "      <td>Fruits and Vegetables</td>\n",
              "      <td>182.0950</td>\n",
              "      <td>OUT010</td>\n",
              "      <td>1998</td>\n",
              "      <td>NaN</td>\n",
              "      <td>Tier 3</td>\n",
              "      <td>Grocery Store</td>\n",
              "      <td>732.3800</td>\n",
              "    </tr>\n",
              "    <tr>\n",
              "      <th>4</th>\n",
              "      <td>NCD19</td>\n",
              "      <td>8.93</td>\n",
              "      <td>Low Fat</td>\n",
              "      <td>0.000000</td>\n",
              "      <td>Household</td>\n",
              "      <td>53.8614</td>\n",
              "      <td>OUT013</td>\n",
              "      <td>1987</td>\n",
              "      <td>High</td>\n",
              "      <td>Tier 3</td>\n",
              "      <td>Supermarket Type1</td>\n",
              "      <td>994.7052</td>\n",
              "    </tr>\n",
              "  </tbody>\n",
              "</table>\n",
              "</div>"
            ],
            "text/plain": [
              "  Item_Identifier  Item_Weight  ...        Outlet_Type  Item_Outlet_Sales\n",
              "0           FDA15         9.30  ...  Supermarket Type1          3735.1380\n",
              "1           DRC01         5.92  ...  Supermarket Type2           443.4228\n",
              "2           FDN15        17.50  ...  Supermarket Type1          2097.2700\n",
              "3           FDX07        19.20  ...      Grocery Store           732.3800\n",
              "4           NCD19         8.93  ...  Supermarket Type1           994.7052\n",
              "\n",
              "[5 rows x 12 columns]"
            ]
          },
          "metadata": {
            "tags": []
          },
          "execution_count": 183
        }
      ]
    },
    {
      "cell_type": "code",
      "metadata": {
        "colab": {
          "base_uri": "https://localhost:8080/"
        },
        "id": "7NfBv44XbCeL",
        "outputId": "effab235-265a-49ee-a533-c5cc3b1f6a95"
      },
      "source": [
        "# Are the dtypes consistent with the presumed column category\n",
        "\n",
        "sales.dtypes"
      ],
      "execution_count": 184,
      "outputs": [
        {
          "output_type": "execute_result",
          "data": {
            "text/plain": [
              "Item_Identifier               object\n",
              "Item_Weight                  float64\n",
              "Item_Fat_Content              object\n",
              "Item_Visibility              float64\n",
              "Item_Type                     object\n",
              "Item_MRP                     float64\n",
              "Outlet_Identifier             object\n",
              "Outlet_Establishment_Year      int64\n",
              "Outlet_Size                   object\n",
              "Outlet_Location_Type          object\n",
              "Outlet_Type                   object\n",
              "Item_Outlet_Sales            float64\n",
              "dtype: object"
            ]
          },
          "metadata": {
            "tags": []
          },
          "execution_count": 184
        }
      ]
    },
    {
      "cell_type": "code",
      "metadata": {
        "colab": {
          "base_uri": "https://localhost:8080/"
        },
        "id": "7W_p3keMbyH8",
        "outputId": "3120035d-e89a-4bc1-ac63-f8f45bb78a19"
      },
      "source": [
        "# Which columns have missing values?\n",
        "\n",
        "sales.info()"
      ],
      "execution_count": 185,
      "outputs": [
        {
          "output_type": "stream",
          "text": [
            "<class 'pandas.core.frame.DataFrame'>\n",
            "RangeIndex: 8523 entries, 0 to 8522\n",
            "Data columns (total 12 columns):\n",
            " #   Column                     Non-Null Count  Dtype  \n",
            "---  ------                     --------------  -----  \n",
            " 0   Item_Identifier            8523 non-null   object \n",
            " 1   Item_Weight                7060 non-null   float64\n",
            " 2   Item_Fat_Content           8523 non-null   object \n",
            " 3   Item_Visibility            8523 non-null   float64\n",
            " 4   Item_Type                  8523 non-null   object \n",
            " 5   Item_MRP                   8523 non-null   float64\n",
            " 6   Outlet_Identifier          8523 non-null   object \n",
            " 7   Outlet_Establishment_Year  8523 non-null   int64  \n",
            " 8   Outlet_Size                6113 non-null   object \n",
            " 9   Outlet_Location_Type       8523 non-null   object \n",
            " 10  Outlet_Type                8523 non-null   object \n",
            " 11  Item_Outlet_Sales          8523 non-null   float64\n",
            "dtypes: float64(4), int64(1), object(7)\n",
            "memory usage: 799.2+ KB\n"
          ],
          "name": "stdout"
        }
      ]
    },
    {
      "cell_type": "markdown",
      "metadata": {
        "id": "fQ_GZjorWd6d"
      },
      "source": [
        "Item_Weight and Outlet_Size columns are both missing data\n",
        "\n",
        "I will explore further below"
      ]
    },
    {
      "cell_type": "markdown",
      "metadata": {
        "id": "EMImvFSxTfQJ"
      },
      "source": [
        "# Checking each column for unique value counts"
      ]
    },
    {
      "cell_type": "code",
      "metadata": {
        "colab": {
          "base_uri": "https://localhost:8080/"
        },
        "id": "YBB12Tvz9g6x",
        "outputId": "c6f086ff-ac97-4dbc-c40b-b530bd25dd43"
      },
      "source": [
        "sales['Item_Fat_Content'].value_counts()"
      ],
      "execution_count": 186,
      "outputs": [
        {
          "output_type": "execute_result",
          "data": {
            "text/plain": [
              "Low Fat    5089\n",
              "Regular    2889\n",
              "LF          316\n",
              "reg         117\n",
              "low fat     112\n",
              "Name: Item_Fat_Content, dtype: int64"
            ]
          },
          "metadata": {
            "tags": []
          },
          "execution_count": 186
        }
      ]
    },
    {
      "cell_type": "code",
      "metadata": {
        "id": "RdQ6n42Ipoud"
      },
      "source": [
        "sales.loc[ : , 'Item_Fat_Content'].replace( {'LF' : 'Low Fat',\n",
        "                                            'low fat' : 'Low Fat',\n",
        "                                             'reg' : 'Regular'}, inplace=True)"
      ],
      "execution_count": 187,
      "outputs": []
    },
    {
      "cell_type": "code",
      "metadata": {
        "colab": {
          "base_uri": "https://localhost:8080/"
        },
        "id": "1qFqMy9rs1Li",
        "outputId": "1a08bce1-af49-4946-9abc-4798a8fc585a"
      },
      "source": [
        "sales['Item_Fat_Content'].value_counts()"
      ],
      "execution_count": 188,
      "outputs": [
        {
          "output_type": "execute_result",
          "data": {
            "text/plain": [
              "Low Fat    5517\n",
              "Regular    3006\n",
              "Name: Item_Fat_Content, dtype: int64"
            ]
          },
          "metadata": {
            "tags": []
          },
          "execution_count": 188
        }
      ]
    },
    {
      "cell_type": "code",
      "metadata": {
        "colab": {
          "base_uri": "https://localhost:8080/"
        },
        "id": "OF7c5d7y-aUz",
        "outputId": "1e0288fe-1b13-4a58-f549-5249dce4df3f"
      },
      "source": [
        "sales['Item_Identifier'].value_counts()"
      ],
      "execution_count": 189,
      "outputs": [
        {
          "output_type": "execute_result",
          "data": {
            "text/plain": [
              "FDW13    10\n",
              "FDG33    10\n",
              "FDX04     9\n",
              "FDV38     9\n",
              "FDO19     9\n",
              "         ..\n",
              "FDT35     1\n",
              "FDK57     1\n",
              "DRF48     1\n",
              "FDO33     1\n",
              "FDQ60     1\n",
              "Name: Item_Identifier, Length: 1559, dtype: int64"
            ]
          },
          "metadata": {
            "tags": []
          },
          "execution_count": 189
        }
      ]
    },
    {
      "cell_type": "code",
      "metadata": {
        "colab": {
          "base_uri": "https://localhost:8080/"
        },
        "id": "B3G59-WT-8ry",
        "outputId": "bc29fb36-b657-461d-d935-f5b8b680d2e1"
      },
      "source": [
        "sales['Item_MRP'].value_counts()"
      ],
      "execution_count": 190,
      "outputs": [
        {
          "output_type": "execute_result",
          "data": {
            "text/plain": [
              "172.0422    7\n",
              "188.1872    6\n",
              "170.5422    6\n",
              "109.5228    6\n",
              "196.5084    6\n",
              "           ..\n",
              "212.8218    1\n",
              "190.3872    1\n",
              "162.6868    1\n",
              "189.1214    1\n",
              "51.3008     1\n",
              "Name: Item_MRP, Length: 5938, dtype: int64"
            ]
          },
          "metadata": {
            "tags": []
          },
          "execution_count": 190
        }
      ]
    },
    {
      "cell_type": "code",
      "metadata": {
        "colab": {
          "base_uri": "https://localhost:8080/"
        },
        "id": "cSdlzLqS_0Yo",
        "outputId": "514551c5-5c78-47ff-ee0e-3c43962967b5"
      },
      "source": [
        "sales['Item_Outlet_Sales'].value_counts()"
      ],
      "execution_count": 191,
      "outputs": [
        {
          "output_type": "execute_result",
          "data": {
            "text/plain": [
              "958.7520     17\n",
              "1342.2528    16\n",
              "1845.5976    15\n",
              "703.0848     15\n",
              "1278.3360    14\n",
              "             ..\n",
              "3167.8764     1\n",
              "2226.4352     1\n",
              "1684.4740     1\n",
              "1574.6170     1\n",
              "6692.6216     1\n",
              "Name: Item_Outlet_Sales, Length: 3493, dtype: int64"
            ]
          },
          "metadata": {
            "tags": []
          },
          "execution_count": 191
        }
      ]
    },
    {
      "cell_type": "code",
      "metadata": {
        "colab": {
          "base_uri": "https://localhost:8080/"
        },
        "id": "QDlPaJkq__RV",
        "outputId": "dcd55df3-272e-457c-d2f5-bf037bc46182"
      },
      "source": [
        "sales['Item_Type'].value_counts()"
      ],
      "execution_count": 192,
      "outputs": [
        {
          "output_type": "execute_result",
          "data": {
            "text/plain": [
              "Fruits and Vegetables    1232\n",
              "Snack Foods              1200\n",
              "Household                 910\n",
              "Frozen Foods              856\n",
              "Dairy                     682\n",
              "Canned                    649\n",
              "Baking Goods              648\n",
              "Health and Hygiene        520\n",
              "Soft Drinks               445\n",
              "Meat                      425\n",
              "Breads                    251\n",
              "Hard Drinks               214\n",
              "Others                    169\n",
              "Starchy Foods             148\n",
              "Breakfast                 110\n",
              "Seafood                    64\n",
              "Name: Item_Type, dtype: int64"
            ]
          },
          "metadata": {
            "tags": []
          },
          "execution_count": 192
        }
      ]
    },
    {
      "cell_type": "code",
      "metadata": {
        "colab": {
          "base_uri": "https://localhost:8080/"
        },
        "id": "oauVANoEAJhv",
        "outputId": "04d41317-b1c4-42fb-8edb-89a6d2c34b40"
      },
      "source": [
        "sales['Item_Weight'].value_counts()"
      ],
      "execution_count": 193,
      "outputs": [
        {
          "output_type": "execute_result",
          "data": {
            "text/plain": [
              "12.150    86\n",
              "17.600    82\n",
              "13.650    77\n",
              "11.800    76\n",
              "15.100    68\n",
              "          ..\n",
              "7.560      2\n",
              "9.420      1\n",
              "5.400      1\n",
              "6.520      1\n",
              "7.685      1\n",
              "Name: Item_Weight, Length: 415, dtype: int64"
            ]
          },
          "metadata": {
            "tags": []
          },
          "execution_count": 193
        }
      ]
    },
    {
      "cell_type": "code",
      "metadata": {
        "colab": {
          "base_uri": "https://localhost:8080/"
        },
        "id": "jE6oQo13K5zQ",
        "outputId": "66eff982-2f3b-4891-dffc-735367a073a5"
      },
      "source": [
        "sales['Outlet_Establishment_Year'].value_counts()"
      ],
      "execution_count": 194,
      "outputs": [
        {
          "output_type": "execute_result",
          "data": {
            "text/plain": [
              "1985    1463\n",
              "1987     932\n",
              "1999     930\n",
              "1997     930\n",
              "2004     930\n",
              "2002     929\n",
              "2009     928\n",
              "2007     926\n",
              "1998     555\n",
              "Name: Outlet_Establishment_Year, dtype: int64"
            ]
          },
          "metadata": {
            "tags": []
          },
          "execution_count": 194
        }
      ]
    },
    {
      "cell_type": "code",
      "metadata": {
        "colab": {
          "base_uri": "https://localhost:8080/"
        },
        "id": "yWhWzx0IQLC7",
        "outputId": "26a0844d-819f-4a46-a503-9bbb5c54cd16"
      },
      "source": [
        "sales['Outlet_Identifier'].value_counts()"
      ],
      "execution_count": 195,
      "outputs": [
        {
          "output_type": "execute_result",
          "data": {
            "text/plain": [
              "OUT027    935\n",
              "OUT013    932\n",
              "OUT046    930\n",
              "OUT049    930\n",
              "OUT035    930\n",
              "OUT045    929\n",
              "OUT018    928\n",
              "OUT017    926\n",
              "OUT010    555\n",
              "OUT019    528\n",
              "Name: Outlet_Identifier, dtype: int64"
            ]
          },
          "metadata": {
            "tags": []
          },
          "execution_count": 195
        }
      ]
    },
    {
      "cell_type": "code",
      "metadata": {
        "colab": {
          "base_uri": "https://localhost:8080/"
        },
        "id": "WpFNa_2XQOzE",
        "outputId": "640dd058-14f3-4abd-cdc9-1c8a5ff862a7"
      },
      "source": [
        "sales['Outlet_Location_Type'].value_counts()"
      ],
      "execution_count": 196,
      "outputs": [
        {
          "output_type": "execute_result",
          "data": {
            "text/plain": [
              "Tier 3    3350\n",
              "Tier 2    2785\n",
              "Tier 1    2388\n",
              "Name: Outlet_Location_Type, dtype: int64"
            ]
          },
          "metadata": {
            "tags": []
          },
          "execution_count": 196
        }
      ]
    },
    {
      "cell_type": "code",
      "metadata": {
        "colab": {
          "base_uri": "https://localhost:8080/"
        },
        "id": "1Y6pzxpyQW6l",
        "outputId": "a85287ef-200f-4755-f8ea-e9e142e844b3"
      },
      "source": [
        "sales['Outlet_Size'].value_counts()"
      ],
      "execution_count": 197,
      "outputs": [
        {
          "output_type": "execute_result",
          "data": {
            "text/plain": [
              "Medium    2793\n",
              "Small     2388\n",
              "High       932\n",
              "Name: Outlet_Size, dtype: int64"
            ]
          },
          "metadata": {
            "tags": []
          },
          "execution_count": 197
        }
      ]
    },
    {
      "cell_type": "code",
      "metadata": {
        "colab": {
          "base_uri": "https://localhost:8080/"
        },
        "id": "NGLmTk-FQ3ez",
        "outputId": "a687bd1f-a946-449a-cfd9-42b55af86167"
      },
      "source": [
        "sales['Outlet_Type'].value_counts()"
      ],
      "execution_count": 198,
      "outputs": [
        {
          "output_type": "execute_result",
          "data": {
            "text/plain": [
              "Supermarket Type1    5577\n",
              "Grocery Store        1083\n",
              "Supermarket Type3     935\n",
              "Supermarket Type2     928\n",
              "Name: Outlet_Type, dtype: int64"
            ]
          },
          "metadata": {
            "tags": []
          },
          "execution_count": 198
        }
      ]
    },
    {
      "cell_type": "markdown",
      "metadata": {
        "id": "rkpSQde7RRnU"
      },
      "source": [
        "## Columns to Drop\n",
        "\n",
        "I will drop only the \"Item_Visibility\" column for now. Initially I thought this column would prove to be useful in predicting sales baased on the visibility of each individual product, however, since the lowest visibility products, including those with zero visibility, account for the majority of the dataset (77%). There is no need to qualify this coulumn's data values beecause it is irrelevent. \n",
        "Also, the products with the highest visibiilty, both above .3 and .2, account for only 1.4%, further proving this column's irrelevance.\n",
        "\n",
        "#### It is my belief that we can assume the product's visibility value has very little to do with it's sale value."
      ]
    },
    {
      "cell_type": "code",
      "metadata": {
        "colab": {
          "base_uri": "https://localhost:8080/"
        },
        "id": "bxsZEFv5ADg6",
        "outputId": "eefb1ec5-14f5-4e98-a842-a303a03936ab"
      },
      "source": [
        "vis_filter = sales['Item_Visibility'].count()\n",
        "vis_filter1 = (sales['Item_Visibility'] >= .0) & (sales['Item_Visibility'] < .1)\n",
        "vis_filter2 = (sales['Item_Visibility'] >= .1) & (sales['Item_Visibility'] < .2)\n",
        "vis_filter3 = (sales['Item_Visibility'] >= .2) & (sales['Item_Visibility'] < .3)\n",
        "vis_filter4 = sales['Item_Visibility'] >= .3\n",
        "\n",
        "vis_count1 = sales.loc[vis_filter1, 'Item_Visibility'].count()\n",
        "vis_count2 = sales.loc[vis_filter2, 'Item_Visibility'].count()\n",
        "vis_count3 = sales.loc[vis_filter3, 'Item_Visibility'].count()\n",
        "vis_count4 = sales.loc[vis_filter4, 'Item_Visibility'].count()\n",
        "\n",
        "print(vis_count1)\n",
        "print(round(vis_count1/vis_filter, 2))\n",
        "print(vis_count2)\n",
        "print(round(vis_count2/vis_filter, 2))\n",
        "print(vis_count3)\n",
        "print(round(vis_count3/vis_filter, 3))\n",
        "print(vis_count4)\n",
        "print(round(vis_count4/vis_filter, 4))"
      ],
      "execution_count": 199,
      "outputs": [
        {
          "output_type": "stream",
          "text": [
            "6593\n",
            "0.77\n",
            "1796\n",
            "0.21\n",
            "122\n",
            "0.014\n",
            "12\n",
            "0.0014\n"
          ],
          "name": "stdout"
        }
      ]
    },
    {
      "cell_type": "code",
      "metadata": {
        "id": "EW139y8tTCTq"
      },
      "source": [
        "sales.drop(columns = 'Item_Visibility', inplace = True)"
      ],
      "execution_count": 200,
      "outputs": []
    },
    {
      "cell_type": "markdown",
      "metadata": {
        "id": "_XFNeUzxWtxz"
      },
      "source": [
        "## Exploring the relevance of missing data in the Item_Weight and Outlet_Size columns"
      ]
    },
    {
      "cell_type": "markdown",
      "metadata": {
        "id": "cB1RAy0lXzd6"
      },
      "source": [
        "\n",
        "\n",
        "---\n",
        "\n",
        "----- First... look at Outlet_Size column"
      ]
    },
    {
      "cell_type": "code",
      "metadata": {
        "colab": {
          "base_uri": "https://localhost:8080/",
          "height": 206
        },
        "id": "9U2xMveaew_F",
        "outputId": "95d332af-217f-4778-cdfa-e3623ef575e4"
      },
      "source": [
        "outlet_missing = sales['Outlet_Size'].isna()\n",
        "sales.loc[outlet_missing, :].head()"
      ],
      "execution_count": 201,
      "outputs": [
        {
          "output_type": "execute_result",
          "data": {
            "text/html": [
              "<div>\n",
              "<style scoped>\n",
              "    .dataframe tbody tr th:only-of-type {\n",
              "        vertical-align: middle;\n",
              "    }\n",
              "\n",
              "    .dataframe tbody tr th {\n",
              "        vertical-align: top;\n",
              "    }\n",
              "\n",
              "    .dataframe thead th {\n",
              "        text-align: right;\n",
              "    }\n",
              "</style>\n",
              "<table border=\"1\" class=\"dataframe\">\n",
              "  <thead>\n",
              "    <tr style=\"text-align: right;\">\n",
              "      <th></th>\n",
              "      <th>Item_Identifier</th>\n",
              "      <th>Item_Weight</th>\n",
              "      <th>Item_Fat_Content</th>\n",
              "      <th>Item_Type</th>\n",
              "      <th>Item_MRP</th>\n",
              "      <th>Outlet_Identifier</th>\n",
              "      <th>Outlet_Establishment_Year</th>\n",
              "      <th>Outlet_Size</th>\n",
              "      <th>Outlet_Location_Type</th>\n",
              "      <th>Outlet_Type</th>\n",
              "      <th>Item_Outlet_Sales</th>\n",
              "    </tr>\n",
              "  </thead>\n",
              "  <tbody>\n",
              "    <tr>\n",
              "      <th>3</th>\n",
              "      <td>FDX07</td>\n",
              "      <td>19.200</td>\n",
              "      <td>Regular</td>\n",
              "      <td>Fruits and Vegetables</td>\n",
              "      <td>182.0950</td>\n",
              "      <td>OUT010</td>\n",
              "      <td>1998</td>\n",
              "      <td>NaN</td>\n",
              "      <td>Tier 3</td>\n",
              "      <td>Grocery Store</td>\n",
              "      <td>732.3800</td>\n",
              "    </tr>\n",
              "    <tr>\n",
              "      <th>8</th>\n",
              "      <td>FDH17</td>\n",
              "      <td>16.200</td>\n",
              "      <td>Regular</td>\n",
              "      <td>Frozen Foods</td>\n",
              "      <td>96.9726</td>\n",
              "      <td>OUT045</td>\n",
              "      <td>2002</td>\n",
              "      <td>NaN</td>\n",
              "      <td>Tier 2</td>\n",
              "      <td>Supermarket Type1</td>\n",
              "      <td>1076.5986</td>\n",
              "    </tr>\n",
              "    <tr>\n",
              "      <th>9</th>\n",
              "      <td>FDU28</td>\n",
              "      <td>19.200</td>\n",
              "      <td>Regular</td>\n",
              "      <td>Frozen Foods</td>\n",
              "      <td>187.8214</td>\n",
              "      <td>OUT017</td>\n",
              "      <td>2007</td>\n",
              "      <td>NaN</td>\n",
              "      <td>Tier 2</td>\n",
              "      <td>Supermarket Type1</td>\n",
              "      <td>4710.5350</td>\n",
              "    </tr>\n",
              "    <tr>\n",
              "      <th>25</th>\n",
              "      <td>NCD06</td>\n",
              "      <td>13.000</td>\n",
              "      <td>Low Fat</td>\n",
              "      <td>Household</td>\n",
              "      <td>45.9060</td>\n",
              "      <td>OUT017</td>\n",
              "      <td>2007</td>\n",
              "      <td>NaN</td>\n",
              "      <td>Tier 2</td>\n",
              "      <td>Supermarket Type1</td>\n",
              "      <td>838.9080</td>\n",
              "    </tr>\n",
              "    <tr>\n",
              "      <th>28</th>\n",
              "      <td>FDE51</td>\n",
              "      <td>5.925</td>\n",
              "      <td>Regular</td>\n",
              "      <td>Dairy</td>\n",
              "      <td>45.5086</td>\n",
              "      <td>OUT010</td>\n",
              "      <td>1998</td>\n",
              "      <td>NaN</td>\n",
              "      <td>Tier 3</td>\n",
              "      <td>Grocery Store</td>\n",
              "      <td>178.4344</td>\n",
              "    </tr>\n",
              "  </tbody>\n",
              "</table>\n",
              "</div>"
            ],
            "text/plain": [
              "   Item_Identifier  Item_Weight  ...        Outlet_Type Item_Outlet_Sales\n",
              "3            FDX07       19.200  ...      Grocery Store          732.3800\n",
              "8            FDH17       16.200  ...  Supermarket Type1         1076.5986\n",
              "9            FDU28       19.200  ...  Supermarket Type1         4710.5350\n",
              "25           NCD06       13.000  ...  Supermarket Type1          838.9080\n",
              "28           FDE51        5.925  ...      Grocery Store          178.4344\n",
              "\n",
              "[5 rows x 11 columns]"
            ]
          },
          "metadata": {
            "tags": []
          },
          "execution_count": 201
        }
      ]
    },
    {
      "cell_type": "code",
      "metadata": {
        "colab": {
          "base_uri": "https://localhost:8080/"
        },
        "id": "9D6pEgHffkfU",
        "outputId": "67aa1bab-3a93-4c7f-f4eb-b9f637c67e13"
      },
      "source": [
        "sales[outlet_missing].shape"
      ],
      "execution_count": 202,
      "outputs": [
        {
          "output_type": "execute_result",
          "data": {
            "text/plain": [
              "(2410, 11)"
            ]
          },
          "metadata": {
            "tags": []
          },
          "execution_count": 202
        }
      ]
    },
    {
      "cell_type": "code",
      "metadata": {
        "colab": {
          "base_uri": "https://localhost:8080/"
        },
        "id": "v13zcCG930E1",
        "outputId": "c143a9b6-e616-4411-e84f-5e3feca4242f"
      },
      "source": [
        "# Checking value counts with the outlet_missing filter on the Outlet_Identifier column to see how \n",
        "# the missing Outlet_Size values compare to the Outlet_Identifier value counts already checked above\n",
        "\n",
        "sales.loc[outlet_missing, 'Outlet_Identifier'].value_counts()"
      ],
      "execution_count": 203,
      "outputs": [
        {
          "output_type": "execute_result",
          "data": {
            "text/plain": [
              "OUT045    929\n",
              "OUT017    926\n",
              "OUT010    555\n",
              "Name: Outlet_Identifier, dtype: int64"
            ]
          },
          "metadata": {
            "tags": []
          },
          "execution_count": 203
        }
      ]
    },
    {
      "cell_type": "code",
      "metadata": {
        "colab": {
          "base_uri": "https://localhost:8080/"
        },
        "id": "ift-485z3Bty",
        "outputId": "18aa8dbc-04ae-43a8-96fc-bb3b7530530a"
      },
      "source": [
        "# Checking how the Outlet_Type and Outlet_Identifier columns compare together with the missing\n",
        "# values from the Outlet_Size column\n",
        "\n",
        "sales.loc[outlet_missing, ['Outlet_Identifier', 'Outlet_Type', 'Outlet_Establishment_Year', 'Outlet_Location_Type']].value_counts()"
      ],
      "execution_count": 204,
      "outputs": [
        {
          "output_type": "execute_result",
          "data": {
            "text/plain": [
              "Outlet_Identifier  Outlet_Type        Outlet_Establishment_Year  Outlet_Location_Type\n",
              "OUT045             Supermarket Type1  2002                       Tier 2                  929\n",
              "OUT017             Supermarket Type1  2007                       Tier 2                  926\n",
              "OUT010             Grocery Store      1998                       Tier 3                  555\n",
              "dtype: int64"
            ]
          },
          "metadata": {
            "tags": []
          },
          "execution_count": 204
        }
      ]
    },
    {
      "cell_type": "markdown",
      "metadata": {
        "id": "ZWP0iKdC_L2i"
      },
      "source": [
        "#### In the above cell where the value counts for the Outlet_Type column \"Supermarket Type1\" accounted for 5577 cells I will check to see if all the other Outlet_Type rows with \"Supermarket Type1\" contain a consistent Outlet_Size as this will allow me to see what the Outlet_Size values should be."
      ]
    },
    {
      "cell_type": "code",
      "metadata": {
        "colab": {
          "base_uri": "https://localhost:8080/"
        },
        "cellView": "code",
        "id": "UPXkdhRB3BfV",
        "outputId": "6ad7587b-cf1c-4a86-ed24-960fbf52749d"
      },
      "source": [
        "# Checking value counts with the outlet_missing filter on the Outlet_Type column to see how \n",
        "# the missing Outlet_Size values compare to the Outlet_Type value counts already checked above\n",
        "\n",
        "print(sales.loc[outlet_missing, 'Outlet_Type'].value_counts())\n",
        "print(sales.loc[outlet_missing, 'Outlet_Establishment_Year'].value_counts()) #All Years correspond with missing values\n",
        "print(sales.loc[outlet_missing, 'Outlet_Location_Type'].value_counts()) #Tier 3 = 555 (same as Grocery and OUT010 and 1998)\n",
        "print(sales.loc[outlet_missing, 'Item_Outlet_Sales'].value_counts().sort_values())\n",
        "print(sales.loc[outlet_missing, 'Item_Outlet_Sales'].max())"
      ],
      "execution_count": 205,
      "outputs": [
        {
          "output_type": "stream",
          "text": [
            "Supermarket Type1    1855\n",
            "Grocery Store         555\n",
            "Name: Outlet_Type, dtype: int64\n",
            "2002    929\n",
            "2007    926\n",
            "1998    555\n",
            "Name: Outlet_Establishment_Year, dtype: int64\n",
            "Tier 2    1855\n",
            "Tier 3     555\n",
            "Name: Outlet_Location_Type, dtype: int64\n",
            "95.8752      1\n",
            "237.6906     1\n",
            "8760.5964    1\n",
            "2366.9190    1\n",
            "2646.5550    1\n",
            "            ..\n",
            "2302.3364    5\n",
            "1230.3984    6\n",
            "1225.0720    6\n",
            "958.7520     6\n",
            "838.9080     7\n",
            "Name: Item_Outlet_Sales, Length: 1627, dtype: int64\n",
            "9664.7528\n"
          ],
          "name": "stdout"
        }
      ]
    },
    {
      "cell_type": "code",
      "metadata": {
        "colab": {
          "base_uri": "https://localhost:8080/"
        },
        "id": "4sJ5lJk-2dGW",
        "outputId": "5e5ee1ee-262c-4609-c6f9-aed7e7271956"
      },
      "source": [
        "# there's no clear correlation between location tier and store size\n",
        "tier1_filter = sales['Outlet_Location_Type'] == 'Tier 1'\n",
        "tier2_filter = sales['Outlet_Location_Type'] == 'Tier 2'\n",
        "tier3_filter = sales['Outlet_Location_Type'] == 'Tier 3'\n",
        "\n",
        "print(sales.loc[tier1_filter, 'Outlet_Size'].value_counts())\n",
        "print(sales.loc[tier2_filter, 'Outlet_Size'].value_counts())\n",
        "print(sales.loc[tier3_filter, 'Outlet_Size'].value_counts())"
      ],
      "execution_count": 206,
      "outputs": [
        {
          "output_type": "stream",
          "text": [
            "Small     1458\n",
            "Medium     930\n",
            "Name: Outlet_Size, dtype: int64\n",
            "Small    930\n",
            "Name: Outlet_Size, dtype: int64\n",
            "Medium    1863\n",
            "High       932\n",
            "Name: Outlet_Size, dtype: int64\n"
          ],
          "name": "stdout"
        }
      ]
    },
    {
      "cell_type": "code",
      "metadata": {
        "colab": {
          "base_uri": "https://localhost:8080/"
        },
        "id": "XEM8-ZOiQfCv",
        "outputId": "d2141a4f-1b37-44e7-f93f-a29f5dfce3f0"
      },
      "source": [
        "# These 3 years only correlate with the missing values ... no evidence of store size imputation\n",
        "\n",
        "year98est_filter = sales['Outlet_Establishment_Year'] == 1998\n",
        "year02est_filter = sales['Outlet_Establishment_Year'] == 2002\n",
        "year07est_filter = sales['Outlet_Establishment_Year'] == 2007\n",
        "\n",
        "print(sales.loc[year98est_filter, 'Outlet_Size'].value_counts())\n",
        "print(sales.loc[year02est_filter, 'Outlet_Size'].value_counts())\n",
        "print(sales.loc[year07est_filter, 'Outlet_Size'].value_counts())"
      ],
      "execution_count": 207,
      "outputs": [
        {
          "output_type": "stream",
          "text": [
            "Series([], Name: Outlet_Size, dtype: int64)\n",
            "Series([], Name: Outlet_Size, dtype: int64)\n",
            "Series([], Name: Outlet_Size, dtype: int64)\n"
          ],
          "name": "stdout"
        }
      ]
    },
    {
      "cell_type": "code",
      "metadata": {
        "colab": {
          "base_uri": "https://localhost:8080/"
        },
        "id": "ZDl3snzr4D8f",
        "outputId": "f264147b-25aa-48c0-e122-bb7d241cb91e"
      },
      "source": [
        "# Grocery Store is only listed as Small. All other rows that contain 'Grocery Store' show NAN for the Outlet Size \n",
        "\n",
        "sup1Type_filter = sales['Outlet_Type'] == 'Supermarket Type1'\n",
        "grocType_filter = sales['Outlet_Type'] == 'Grocery Store'\n",
        "\n",
        "print(sales.loc[sup1Type_filter, 'Outlet_Size'].value_counts())\n",
        "print(sales.loc[grocType_filter, 'Outlet_Size'].value_counts())"
      ],
      "execution_count": 208,
      "outputs": [
        {
          "output_type": "stream",
          "text": [
            "Small     1860\n",
            "High       932\n",
            "Medium     930\n",
            "Name: Outlet_Size, dtype: int64\n",
            "Small    528\n",
            "Name: Outlet_Size, dtype: int64\n"
          ],
          "name": "stdout"
        }
      ]
    },
    {
      "cell_type": "code",
      "metadata": {
        "colab": {
          "base_uri": "https://localhost:8080/",
          "height": 423
        },
        "id": "mCfniV03Kz1U",
        "outputId": "4ca5a252-f29c-4781-f6f0-2694c647973c"
      },
      "source": [
        "# All rows containing OUT010, 1998 and Grocery Store occupy the same 555 rows.\n",
        "# These 555 rows are missing a value for Outlet Size and are all in location Tier 3.\n",
        "# I believe that since the only other mention of Grocery is small and that Tier 3 is \n",
        "\n",
        "sales.loc[outlet_missing & tier3_filter, [ 'Outlet_Type', 'Outlet_Identifier', 'Outlet_Establishment_Year']]"
      ],
      "execution_count": 209,
      "outputs": [
        {
          "output_type": "execute_result",
          "data": {
            "text/html": [
              "<div>\n",
              "<style scoped>\n",
              "    .dataframe tbody tr th:only-of-type {\n",
              "        vertical-align: middle;\n",
              "    }\n",
              "\n",
              "    .dataframe tbody tr th {\n",
              "        vertical-align: top;\n",
              "    }\n",
              "\n",
              "    .dataframe thead th {\n",
              "        text-align: right;\n",
              "    }\n",
              "</style>\n",
              "<table border=\"1\" class=\"dataframe\">\n",
              "  <thead>\n",
              "    <tr style=\"text-align: right;\">\n",
              "      <th></th>\n",
              "      <th>Outlet_Type</th>\n",
              "      <th>Outlet_Identifier</th>\n",
              "      <th>Outlet_Establishment_Year</th>\n",
              "    </tr>\n",
              "  </thead>\n",
              "  <tbody>\n",
              "    <tr>\n",
              "      <th>3</th>\n",
              "      <td>Grocery Store</td>\n",
              "      <td>OUT010</td>\n",
              "      <td>1998</td>\n",
              "    </tr>\n",
              "    <tr>\n",
              "      <th>28</th>\n",
              "      <td>Grocery Store</td>\n",
              "      <td>OUT010</td>\n",
              "      <td>1998</td>\n",
              "    </tr>\n",
              "    <tr>\n",
              "      <th>30</th>\n",
              "      <td>Grocery Store</td>\n",
              "      <td>OUT010</td>\n",
              "      <td>1998</td>\n",
              "    </tr>\n",
              "    <tr>\n",
              "      <th>45</th>\n",
              "      <td>Grocery Store</td>\n",
              "      <td>OUT010</td>\n",
              "      <td>1998</td>\n",
              "    </tr>\n",
              "    <tr>\n",
              "      <th>65</th>\n",
              "      <td>Grocery Store</td>\n",
              "      <td>OUT010</td>\n",
              "      <td>1998</td>\n",
              "    </tr>\n",
              "    <tr>\n",
              "      <th>...</th>\n",
              "      <td>...</td>\n",
              "      <td>...</td>\n",
              "      <td>...</td>\n",
              "    </tr>\n",
              "    <tr>\n",
              "      <th>8400</th>\n",
              "      <td>Grocery Store</td>\n",
              "      <td>OUT010</td>\n",
              "      <td>1998</td>\n",
              "    </tr>\n",
              "    <tr>\n",
              "      <th>8432</th>\n",
              "      <td>Grocery Store</td>\n",
              "      <td>OUT010</td>\n",
              "      <td>1998</td>\n",
              "    </tr>\n",
              "    <tr>\n",
              "      <th>8473</th>\n",
              "      <td>Grocery Store</td>\n",
              "      <td>OUT010</td>\n",
              "      <td>1998</td>\n",
              "    </tr>\n",
              "    <tr>\n",
              "      <th>8486</th>\n",
              "      <td>Grocery Store</td>\n",
              "      <td>OUT010</td>\n",
              "      <td>1998</td>\n",
              "    </tr>\n",
              "    <tr>\n",
              "      <th>8509</th>\n",
              "      <td>Grocery Store</td>\n",
              "      <td>OUT010</td>\n",
              "      <td>1998</td>\n",
              "    </tr>\n",
              "  </tbody>\n",
              "</table>\n",
              "<p>555 rows × 3 columns</p>\n",
              "</div>"
            ],
            "text/plain": [
              "        Outlet_Type Outlet_Identifier  Outlet_Establishment_Year\n",
              "3     Grocery Store            OUT010                       1998\n",
              "28    Grocery Store            OUT010                       1998\n",
              "30    Grocery Store            OUT010                       1998\n",
              "45    Grocery Store            OUT010                       1998\n",
              "65    Grocery Store            OUT010                       1998\n",
              "...             ...               ...                        ...\n",
              "8400  Grocery Store            OUT010                       1998\n",
              "8432  Grocery Store            OUT010                       1998\n",
              "8473  Grocery Store            OUT010                       1998\n",
              "8486  Grocery Store            OUT010                       1998\n",
              "8509  Grocery Store            OUT010                       1998\n",
              "\n",
              "[555 rows x 3 columns]"
            ]
          },
          "metadata": {
            "tags": []
          },
          "execution_count": 209
        }
      ]
    },
    {
      "cell_type": "code",
      "metadata": {
        "colab": {
          "base_uri": "https://localhost:8080/"
        },
        "id": "Lk8tHVSA50Op",
        "outputId": "567068de-9e4c-49af-cb7a-f43ee4def80a"
      },
      "source": [
        "# Without further exploring the Item Sales agaisnt other information there is no clear correlation\n",
        "# between the item sales and Outlet Size\n",
        "\n",
        "size = sales['Outlet_Size'] == 'Small'\n",
        "\n",
        "itSales1_filter = sales['Item_Outlet_Sales'] <= 100\n",
        "itSales2_filter = (sales['Item_Outlet_Sales'] >= 101) & (sales['Item_Outlet_Sales'] <= 200)\n",
        "itSales3_filter = (sales['Item_Outlet_Sales'] >= 201) & (sales['Item_Outlet_Sales'] <= 300)\n",
        "itSales4_filter = (sales['Item_Outlet_Sales'] >= 301) & (sales['Item_Outlet_Sales'] <= 400)\n",
        "itSales5_filter = (sales['Item_Outlet_Sales'] >= 401) & (sales['Item_Outlet_Sales'] <= 500)\n",
        "itSales6_filter = (sales['Item_Outlet_Sales'] >= 501) & (sales['Item_Outlet_Sales'] <= 600)\n",
        "itSales7_filter = (sales['Item_Outlet_Sales'] >= 601) & (sales['Item_Outlet_Sales'] <= 700)\n",
        "itSales8_filter = (sales['Item_Outlet_Sales'] >= 701) & (sales['Item_Outlet_Sales'] <= 800)\n",
        "itSales9_filter = (sales['Item_Outlet_Sales'] >= 801) & (sales['Item_Outlet_Sales'] <= 900)\n",
        "itSales10_filter = sales['Item_Outlet_Sales'] >= 901\n",
        "\n",
        "print(sales.loc[itSales1_filter, 'Outlet_Size'].value_counts())\n",
        "print(sales.loc[itSales1_filter & outlet_missing, 'Item_Outlet_Sales'].count())\n",
        "print(sales.loc[itSales2_filter, 'Outlet_Size'].value_counts())\n",
        "print(sales.loc[itSales2_filter & outlet_missing, 'Item_Outlet_Sales'].count())\n",
        "print(sales.loc[itSales3_filter, 'Outlet_Size'].value_counts())\n",
        "print(sales.loc[itSales3_filter & outlet_missing, 'Item_Outlet_Sales'].count())\n",
        "print(sales.loc[itSales4_filter, 'Outlet_Size'].value_counts())\n",
        "print(sales.loc[itSales4_filter & outlet_missing, 'Item_Outlet_Sales'].count())\n",
        "print(sales.loc[itSales5_filter, 'Outlet_Size'].value_counts())\n",
        "print(sales.loc[itSales5_filter & outlet_missing, 'Item_Outlet_Sales'].count())\n",
        "print(sales.loc[itSales6_filter, 'Outlet_Size'].value_counts())\n",
        "print(sales.loc[itSales6_filter & outlet_missing, 'Item_Outlet_Sales'].count())\n",
        "print(sales.loc[itSales7_filter, 'Outlet_Size'].value_counts())\n",
        "print(sales.loc[itSales7_filter & outlet_missing, 'Item_Outlet_Sales'].count())\n",
        "print(sales.loc[itSales8_filter, 'Outlet_Size'].value_counts())\n",
        "print(sales.loc[itSales8_filter & outlet_missing, 'Item_Outlet_Sales'].count())\n",
        "print(sales.loc[itSales9_filter, 'Outlet_Size'].value_counts())\n",
        "print(sales.loc[itSales9_filter & outlet_missing, 'Item_Outlet_Sales'].count())\n",
        "print(sales.loc[itSales10_filter, 'Outlet_Size'].value_counts())\n",
        "print(sales.loc[itSales10_filter & outlet_missing, 'Item_Outlet_Sales'].count())"
      ],
      "execution_count": 210,
      "outputs": [
        {
          "output_type": "stream",
          "text": [
            "Small     54\n",
            "Medium     3\n",
            "High       1\n",
            "Name: Outlet_Size, dtype: int64\n",
            "66\n",
            "Small     148\n",
            "Medium     17\n",
            "High       10\n",
            "Name: Outlet_Size, dtype: int64\n",
            "179\n",
            "Small     107\n",
            "Medium     27\n",
            "High       17\n",
            "Name: Outlet_Size, dtype: int64\n",
            "104\n",
            "Small     106\n",
            "Medium     37\n",
            "High       30\n",
            "Name: Outlet_Size, dtype: int64\n",
            "96\n",
            "Small     95\n",
            "Medium    52\n",
            "High      15\n",
            "Name: Outlet_Size, dtype: int64\n",
            "92\n",
            "Small     84\n",
            "Medium    69\n",
            "High      25\n",
            "Name: Outlet_Size, dtype: int64\n",
            "98\n",
            "Small     70\n",
            "Medium    67\n",
            "High      36\n",
            "Name: Outlet_Size, dtype: int64\n",
            "70\n",
            "Small     83\n",
            "Medium    71\n",
            "High      28\n",
            "Name: Outlet_Size, dtype: int64\n",
            "93\n",
            "Medium    69\n",
            "Small     67\n",
            "High      21\n",
            "Name: Outlet_Size, dtype: int64\n",
            "76\n",
            "Medium    2380\n",
            "Small     1571\n",
            "High       749\n",
            "Name: Outlet_Size, dtype: int64\n",
            "1533\n"
          ],
          "name": "stdout"
        }
      ]
    },
    {
      "cell_type": "code",
      "metadata": {
        "colab": {
          "base_uri": "https://localhost:8080/"
        },
        "id": "sCSWpOuMBEnc",
        "outputId": "2d5b3fc7-f5b3-4471-857b-9c33694f9a0e"
      },
      "source": [
        "# Further proof that Grocery Story is either listed as Small in the Outlet Size column or Nan\n",
        "# There are 555 rows containing Grocery and no specification of Outlet Size\n",
        "# There are 528 rows containing Grocery and Small Outlet Size\n",
        "\n",
        "print(sales.loc[grocType_filter, 'Outlet_Type'].value_counts())\n",
        "print(sales[grocType_filter & ~outlet_missing].count())"
      ],
      "execution_count": 211,
      "outputs": [
        {
          "output_type": "stream",
          "text": [
            "Grocery Store    1083\n",
            "Name: Outlet_Type, dtype: int64\n",
            "Item_Identifier              528\n",
            "Item_Weight                    0\n",
            "Item_Fat_Content             528\n",
            "Item_Type                    528\n",
            "Item_MRP                     528\n",
            "Outlet_Identifier            528\n",
            "Outlet_Establishment_Year    528\n",
            "Outlet_Size                  528\n",
            "Outlet_Location_Type         528\n",
            "Outlet_Type                  528\n",
            "Item_Outlet_Sales            528\n",
            "dtype: int64\n"
          ],
          "name": "stdout"
        }
      ]
    },
    {
      "cell_type": "code",
      "metadata": {
        "colab": {
          "base_uri": "https://localhost:8080/"
        },
        "id": "8xiL6_CKEy-K",
        "outputId": "442e4543-9d95-4424-8a1a-b11d22f7667c"
      },
      "source": [
        "sales[Groc_filter & outlet_missing].count()"
      ],
      "execution_count": 212,
      "outputs": [
        {
          "output_type": "execute_result",
          "data": {
            "text/plain": [
              "Item_Identifier              555\n",
              "Item_Weight                  555\n",
              "Item_Fat_Content             555\n",
              "Item_Type                    555\n",
              "Item_MRP                     555\n",
              "Outlet_Identifier            555\n",
              "Outlet_Establishment_Year    555\n",
              "Outlet_Size                    0\n",
              "Outlet_Location_Type         555\n",
              "Outlet_Type                  555\n",
              "Item_Outlet_Sales            555\n",
              "dtype: int64"
            ]
          },
          "metadata": {
            "tags": []
          },
          "execution_count": 212
        }
      ]
    },
    {
      "cell_type": "code",
      "metadata": {
        "colab": {
          "base_uri": "https://localhost:8080/"
        },
        "id": "n6Z7RuFjFtxN",
        "outputId": "6d8781ad-8431-4c93-871a-9184fe1155bb"
      },
      "source": [
        "# Further proving that these Outlet Idenifier numbers are missing from the Outlet Size column\n",
        "# this not help impute size for these outlet stores\n",
        "\n",
        "OUT045_filter = sales['Outlet_Identifier'] == 'OUT045'\n",
        "OUT017_filter = sales['Outlet_Identifier'] == 'OUT017'\n",
        "OUT010_filter = sales['Outlet_Identifier'] == 'OUT010'\n",
        "\n",
        "sales.loc[OUT010_filter | OUT017_filter | OUT045_filter, 'Outlet_Size'].count()"
      ],
      "execution_count": 213,
      "outputs": [
        {
          "output_type": "execute_result",
          "data": {
            "text/plain": [
              "0"
            ]
          },
          "metadata": {
            "tags": []
          },
          "execution_count": 213
        }
      ]
    },
    {
      "cell_type": "markdown",
      "metadata": {
        "id": "itKkVwuUeiuA"
      },
      "source": [
        "\n",
        "\n",
        "---\n",
        "\n",
        "---- Second... Look at Item_Weight column\n"
      ]
    },
    {
      "cell_type": "code",
      "metadata": {
        "colab": {
          "base_uri": "https://localhost:8080/",
          "height": 206
        },
        "id": "UIeFXGHzdn7e",
        "outputId": "c5d3e6ba-57f4-4a4c-a600-0b58dd5ea943"
      },
      "source": [
        "weight_missing = sales['Item_Weight'].isna()\n",
        "sales.loc[weight_missing, :].head()"
      ],
      "execution_count": 214,
      "outputs": [
        {
          "output_type": "execute_result",
          "data": {
            "text/html": [
              "<div>\n",
              "<style scoped>\n",
              "    .dataframe tbody tr th:only-of-type {\n",
              "        vertical-align: middle;\n",
              "    }\n",
              "\n",
              "    .dataframe tbody tr th {\n",
              "        vertical-align: top;\n",
              "    }\n",
              "\n",
              "    .dataframe thead th {\n",
              "        text-align: right;\n",
              "    }\n",
              "</style>\n",
              "<table border=\"1\" class=\"dataframe\">\n",
              "  <thead>\n",
              "    <tr style=\"text-align: right;\">\n",
              "      <th></th>\n",
              "      <th>Item_Identifier</th>\n",
              "      <th>Item_Weight</th>\n",
              "      <th>Item_Fat_Content</th>\n",
              "      <th>Item_Type</th>\n",
              "      <th>Item_MRP</th>\n",
              "      <th>Outlet_Identifier</th>\n",
              "      <th>Outlet_Establishment_Year</th>\n",
              "      <th>Outlet_Size</th>\n",
              "      <th>Outlet_Location_Type</th>\n",
              "      <th>Outlet_Type</th>\n",
              "      <th>Item_Outlet_Sales</th>\n",
              "    </tr>\n",
              "  </thead>\n",
              "  <tbody>\n",
              "    <tr>\n",
              "      <th>7</th>\n",
              "      <td>FDP10</td>\n",
              "      <td>NaN</td>\n",
              "      <td>Low Fat</td>\n",
              "      <td>Snack Foods</td>\n",
              "      <td>107.7622</td>\n",
              "      <td>OUT027</td>\n",
              "      <td>1985</td>\n",
              "      <td>Medium</td>\n",
              "      <td>Tier 3</td>\n",
              "      <td>Supermarket Type3</td>\n",
              "      <td>4022.7636</td>\n",
              "    </tr>\n",
              "    <tr>\n",
              "      <th>18</th>\n",
              "      <td>DRI11</td>\n",
              "      <td>NaN</td>\n",
              "      <td>Low Fat</td>\n",
              "      <td>Hard Drinks</td>\n",
              "      <td>113.2834</td>\n",
              "      <td>OUT027</td>\n",
              "      <td>1985</td>\n",
              "      <td>Medium</td>\n",
              "      <td>Tier 3</td>\n",
              "      <td>Supermarket Type3</td>\n",
              "      <td>2303.6680</td>\n",
              "    </tr>\n",
              "    <tr>\n",
              "      <th>21</th>\n",
              "      <td>FDW12</td>\n",
              "      <td>NaN</td>\n",
              "      <td>Regular</td>\n",
              "      <td>Baking Goods</td>\n",
              "      <td>144.5444</td>\n",
              "      <td>OUT027</td>\n",
              "      <td>1985</td>\n",
              "      <td>Medium</td>\n",
              "      <td>Tier 3</td>\n",
              "      <td>Supermarket Type3</td>\n",
              "      <td>4064.0432</td>\n",
              "    </tr>\n",
              "    <tr>\n",
              "      <th>23</th>\n",
              "      <td>FDC37</td>\n",
              "      <td>NaN</td>\n",
              "      <td>Low Fat</td>\n",
              "      <td>Baking Goods</td>\n",
              "      <td>107.6938</td>\n",
              "      <td>OUT019</td>\n",
              "      <td>1985</td>\n",
              "      <td>Small</td>\n",
              "      <td>Tier 1</td>\n",
              "      <td>Grocery Store</td>\n",
              "      <td>214.3876</td>\n",
              "    </tr>\n",
              "    <tr>\n",
              "      <th>29</th>\n",
              "      <td>FDC14</td>\n",
              "      <td>NaN</td>\n",
              "      <td>Regular</td>\n",
              "      <td>Canned</td>\n",
              "      <td>43.6454</td>\n",
              "      <td>OUT019</td>\n",
              "      <td>1985</td>\n",
              "      <td>Small</td>\n",
              "      <td>Tier 1</td>\n",
              "      <td>Grocery Store</td>\n",
              "      <td>125.8362</td>\n",
              "    </tr>\n",
              "  </tbody>\n",
              "</table>\n",
              "</div>"
            ],
            "text/plain": [
              "   Item_Identifier  Item_Weight  ...        Outlet_Type Item_Outlet_Sales\n",
              "7            FDP10          NaN  ...  Supermarket Type3         4022.7636\n",
              "18           DRI11          NaN  ...  Supermarket Type3         2303.6680\n",
              "21           FDW12          NaN  ...  Supermarket Type3         4064.0432\n",
              "23           FDC37          NaN  ...      Grocery Store          214.3876\n",
              "29           FDC14          NaN  ...      Grocery Store          125.8362\n",
              "\n",
              "[5 rows x 11 columns]"
            ]
          },
          "metadata": {
            "tags": []
          },
          "execution_count": 214
        }
      ]
    },
    {
      "cell_type": "code",
      "metadata": {
        "colab": {
          "base_uri": "https://localhost:8080/"
        },
        "id": "ESI0A1eChDYE",
        "outputId": "d708fba0-e671-42f0-e99a-872b16e8f80f"
      },
      "source": [
        "sales[weight_missing].shape"
      ],
      "execution_count": 215,
      "outputs": [
        {
          "output_type": "execute_result",
          "data": {
            "text/plain": [
              "(1463, 11)"
            ]
          },
          "metadata": {
            "tags": []
          },
          "execution_count": 215
        }
      ]
    },
    {
      "cell_type": "markdown",
      "metadata": {
        "id": "D2RaEQjgXc0H"
      },
      "source": [
        "## Removing Unwanted Data Observations"
      ]
    },
    {
      "cell_type": "code",
      "metadata": {
        "colab": {
          "base_uri": "https://localhost:8080/"
        },
        "id": "JEJLUdXYTMJU",
        "outputId": "6f9ce1c6-24ca-4156-8b6e-c39a2971ada0"
      },
      "source": [
        "# Checking for duplicates\n",
        "\n",
        "sales.duplicated().any()"
      ],
      "execution_count": 216,
      "outputs": [
        {
          "output_type": "execute_result",
          "data": {
            "text/plain": [
              "False"
            ]
          },
          "metadata": {
            "tags": []
          },
          "execution_count": 216
        }
      ]
    },
    {
      "cell_type": "code",
      "metadata": {
        "id": "bKhxX0nyTa4j"
      },
      "source": [
        ""
      ],
      "execution_count": 216,
      "outputs": []
    }
  ]
}