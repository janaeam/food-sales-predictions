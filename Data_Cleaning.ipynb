{
  "nbformat": 4,
  "nbformat_minor": 0,
  "metadata": {
    "colab": {
      "name": "Data_Cleaning.ipynb",
      "provenance": [],
      "collapsed_sections": [],
      "include_colab_link": true
    },
    "kernelspec": {
      "name": "python3",
      "display_name": "Python 3"
    },
    "language_info": {
      "name": "python"
    }
  },
  "cells": [
    {
      "cell_type": "markdown",
      "metadata": {
        "id": "view-in-github",
        "colab_type": "text"
      },
      "source": [
        "<a href=\"https://colab.research.google.com/github/janaeam/food-sales-predictions/blob/main/Data_Cleaning.ipynb\" target=\"_parent\"><img src=\"https://colab.research.google.com/assets/colab-badge.svg\" alt=\"Open In Colab\"/></a>"
      ]
    },
    {
      "cell_type": "markdown",
      "metadata": {
        "id": "l0e-FBGkbIyi"
      },
      "source": [
        "# Getting to Know My Data\n",
        "\n"
      ]
    },
    {
      "cell_type": "code",
      "metadata": {
        "id": "w84yAjARaMWV"
      },
      "source": [
        "import pandas as pd"
      ],
      "execution_count": 1,
      "outputs": []
    },
    {
      "cell_type": "code",
      "metadata": {
        "colab": {
          "base_uri": "https://localhost:8080/"
        },
        "id": "UO-JM52n9jIM",
        "outputId": "4f04bc84-56ef-4fbc-93e2-df3a31e5d6b2"
      },
      "source": [
        "from google.colab import drive\n",
        "drive.mount('/content/drive')"
      ],
      "execution_count": 2,
      "outputs": [
        {
          "output_type": "stream",
          "text": [
            "Drive already mounted at /content/drive; to attempt to forcibly remount, call drive.mount(\"/content/drive\", force_remount=True).\n"
          ],
          "name": "stdout"
        }
      ]
    },
    {
      "cell_type": "code",
      "metadata": {
        "id": "rRSsGCKAaROD"
      },
      "source": [
        "\n",
        "\n",
        "filename = '/content/drive/MyDrive/Coding Dojo/Project 1/sales_predictions.csv'\n",
        "sales = pd.read_csv(filename)"
      ],
      "execution_count": 3,
      "outputs": []
    },
    {
      "cell_type": "code",
      "metadata": {
        "colab": {
          "base_uri": "https://localhost:8080/",
          "height": 307
        },
        "id": "MkToetXaa_8D",
        "outputId": "ca5ed77d-e49e-42b5-a1b4-adc71663709d"
      },
      "source": [
        "sales.head()"
      ],
      "execution_count": 4,
      "outputs": [
        {
          "output_type": "execute_result",
          "data": {
            "text/html": [
              "<div>\n",
              "<style scoped>\n",
              "    .dataframe tbody tr th:only-of-type {\n",
              "        vertical-align: middle;\n",
              "    }\n",
              "\n",
              "    .dataframe tbody tr th {\n",
              "        vertical-align: top;\n",
              "    }\n",
              "\n",
              "    .dataframe thead th {\n",
              "        text-align: right;\n",
              "    }\n",
              "</style>\n",
              "<table border=\"1\" class=\"dataframe\">\n",
              "  <thead>\n",
              "    <tr style=\"text-align: right;\">\n",
              "      <th></th>\n",
              "      <th>Item_Identifier</th>\n",
              "      <th>Item_Weight</th>\n",
              "      <th>Item_Fat_Content</th>\n",
              "      <th>Item_Visibility</th>\n",
              "      <th>Item_Type</th>\n",
              "      <th>Item_MRP</th>\n",
              "      <th>Outlet_Identifier</th>\n",
              "      <th>Outlet_Establishment_Year</th>\n",
              "      <th>Outlet_Size</th>\n",
              "      <th>Outlet_Location_Type</th>\n",
              "      <th>Outlet_Type</th>\n",
              "      <th>Item_Outlet_Sales</th>\n",
              "    </tr>\n",
              "  </thead>\n",
              "  <tbody>\n",
              "    <tr>\n",
              "      <th>0</th>\n",
              "      <td>FDA15</td>\n",
              "      <td>9.30</td>\n",
              "      <td>Low Fat</td>\n",
              "      <td>0.016047</td>\n",
              "      <td>Dairy</td>\n",
              "      <td>249.8092</td>\n",
              "      <td>OUT049</td>\n",
              "      <td>1999</td>\n",
              "      <td>Medium</td>\n",
              "      <td>Tier 1</td>\n",
              "      <td>Supermarket Type1</td>\n",
              "      <td>3735.1380</td>\n",
              "    </tr>\n",
              "    <tr>\n",
              "      <th>1</th>\n",
              "      <td>DRC01</td>\n",
              "      <td>5.92</td>\n",
              "      <td>Regular</td>\n",
              "      <td>0.019278</td>\n",
              "      <td>Soft Drinks</td>\n",
              "      <td>48.2692</td>\n",
              "      <td>OUT018</td>\n",
              "      <td>2009</td>\n",
              "      <td>Medium</td>\n",
              "      <td>Tier 3</td>\n",
              "      <td>Supermarket Type2</td>\n",
              "      <td>443.4228</td>\n",
              "    </tr>\n",
              "    <tr>\n",
              "      <th>2</th>\n",
              "      <td>FDN15</td>\n",
              "      <td>17.50</td>\n",
              "      <td>Low Fat</td>\n",
              "      <td>0.016760</td>\n",
              "      <td>Meat</td>\n",
              "      <td>141.6180</td>\n",
              "      <td>OUT049</td>\n",
              "      <td>1999</td>\n",
              "      <td>Medium</td>\n",
              "      <td>Tier 1</td>\n",
              "      <td>Supermarket Type1</td>\n",
              "      <td>2097.2700</td>\n",
              "    </tr>\n",
              "    <tr>\n",
              "      <th>3</th>\n",
              "      <td>FDX07</td>\n",
              "      <td>19.20</td>\n",
              "      <td>Regular</td>\n",
              "      <td>0.000000</td>\n",
              "      <td>Fruits and Vegetables</td>\n",
              "      <td>182.0950</td>\n",
              "      <td>OUT010</td>\n",
              "      <td>1998</td>\n",
              "      <td>NaN</td>\n",
              "      <td>Tier 3</td>\n",
              "      <td>Grocery Store</td>\n",
              "      <td>732.3800</td>\n",
              "    </tr>\n",
              "    <tr>\n",
              "      <th>4</th>\n",
              "      <td>NCD19</td>\n",
              "      <td>8.93</td>\n",
              "      <td>Low Fat</td>\n",
              "      <td>0.000000</td>\n",
              "      <td>Household</td>\n",
              "      <td>53.8614</td>\n",
              "      <td>OUT013</td>\n",
              "      <td>1987</td>\n",
              "      <td>High</td>\n",
              "      <td>Tier 3</td>\n",
              "      <td>Supermarket Type1</td>\n",
              "      <td>994.7052</td>\n",
              "    </tr>\n",
              "  </tbody>\n",
              "</table>\n",
              "</div>"
            ],
            "text/plain": [
              "  Item_Identifier  Item_Weight  ...        Outlet_Type  Item_Outlet_Sales\n",
              "0           FDA15         9.30  ...  Supermarket Type1          3735.1380\n",
              "1           DRC01         5.92  ...  Supermarket Type2           443.4228\n",
              "2           FDN15        17.50  ...  Supermarket Type1          2097.2700\n",
              "3           FDX07        19.20  ...      Grocery Store           732.3800\n",
              "4           NCD19         8.93  ...  Supermarket Type1           994.7052\n",
              "\n",
              "[5 rows x 12 columns]"
            ]
          },
          "metadata": {
            "tags": []
          },
          "execution_count": 4
        }
      ]
    },
    {
      "cell_type": "code",
      "metadata": {
        "colab": {
          "base_uri": "https://localhost:8080/"
        },
        "id": "7NfBv44XbCeL",
        "outputId": "c38d403e-992e-42ee-c04a-41d16a130916"
      },
      "source": [
        "# Are the dtypes consistent with the presumed column category\n",
        "\n",
        "sales.dtypes"
      ],
      "execution_count": 5,
      "outputs": [
        {
          "output_type": "execute_result",
          "data": {
            "text/plain": [
              "Item_Identifier               object\n",
              "Item_Weight                  float64\n",
              "Item_Fat_Content              object\n",
              "Item_Visibility              float64\n",
              "Item_Type                     object\n",
              "Item_MRP                     float64\n",
              "Outlet_Identifier             object\n",
              "Outlet_Establishment_Year      int64\n",
              "Outlet_Size                   object\n",
              "Outlet_Location_Type          object\n",
              "Outlet_Type                   object\n",
              "Item_Outlet_Sales            float64\n",
              "dtype: object"
            ]
          },
          "metadata": {
            "tags": []
          },
          "execution_count": 5
        }
      ]
    },
    {
      "cell_type": "code",
      "metadata": {
        "colab": {
          "base_uri": "https://localhost:8080/"
        },
        "id": "7W_p3keMbyH8",
        "outputId": "6329a879-90db-47b6-9821-edc5ca4eff73"
      },
      "source": [
        "# Which columns have missing values?\n",
        "\n",
        "sales.info()"
      ],
      "execution_count": 6,
      "outputs": [
        {
          "output_type": "stream",
          "text": [
            "<class 'pandas.core.frame.DataFrame'>\n",
            "RangeIndex: 8523 entries, 0 to 8522\n",
            "Data columns (total 12 columns):\n",
            " #   Column                     Non-Null Count  Dtype  \n",
            "---  ------                     --------------  -----  \n",
            " 0   Item_Identifier            8523 non-null   object \n",
            " 1   Item_Weight                7060 non-null   float64\n",
            " 2   Item_Fat_Content           8523 non-null   object \n",
            " 3   Item_Visibility            8523 non-null   float64\n",
            " 4   Item_Type                  8523 non-null   object \n",
            " 5   Item_MRP                   8523 non-null   float64\n",
            " 6   Outlet_Identifier          8523 non-null   object \n",
            " 7   Outlet_Establishment_Year  8523 non-null   int64  \n",
            " 8   Outlet_Size                6113 non-null   object \n",
            " 9   Outlet_Location_Type       8523 non-null   object \n",
            " 10  Outlet_Type                8523 non-null   object \n",
            " 11  Item_Outlet_Sales          8523 non-null   float64\n",
            "dtypes: float64(4), int64(1), object(7)\n",
            "memory usage: 799.2+ KB\n"
          ],
          "name": "stdout"
        }
      ]
    },
    {
      "cell_type": "markdown",
      "metadata": {
        "id": "fQ_GZjorWd6d"
      },
      "source": [
        "Item_Weight and Outlet_Size columns are both missing data\n",
        "\n",
        "I will explore further below"
      ]
    },
    {
      "cell_type": "markdown",
      "metadata": {
        "id": "EMImvFSxTfQJ"
      },
      "source": [
        "# Checking each column for unique value counts"
      ]
    },
    {
      "cell_type": "code",
      "metadata": {
        "colab": {
          "base_uri": "https://localhost:8080/"
        },
        "id": "YBB12Tvz9g6x",
        "outputId": "5d020e68-1f74-4c49-cd62-b3ee01e60f24"
      },
      "source": [
        "sales['Item_Fat_Content'].value_counts()"
      ],
      "execution_count": 7,
      "outputs": [
        {
          "output_type": "execute_result",
          "data": {
            "text/plain": [
              "Low Fat    5089\n",
              "Regular    2889\n",
              "LF          316\n",
              "reg         117\n",
              "low fat     112\n",
              "Name: Item_Fat_Content, dtype: int64"
            ]
          },
          "metadata": {
            "tags": []
          },
          "execution_count": 7
        }
      ]
    },
    {
      "cell_type": "code",
      "metadata": {
        "id": "RdQ6n42Ipoud"
      },
      "source": [
        "sales.loc[ : , 'Item_Fat_Content'].replace( {'LF' : 'Low Fat',\n",
        "                                            'low fat' : 'Low Fat',\n",
        "                                             'reg' : 'Regular'}, inplace=True)"
      ],
      "execution_count": 8,
      "outputs": []
    },
    {
      "cell_type": "code",
      "metadata": {
        "colab": {
          "base_uri": "https://localhost:8080/"
        },
        "id": "1qFqMy9rs1Li",
        "outputId": "40922192-4984-40d1-abd5-4122fdf1e450"
      },
      "source": [
        "sales['Item_Fat_Content'].value_counts()"
      ],
      "execution_count": 9,
      "outputs": [
        {
          "output_type": "execute_result",
          "data": {
            "text/plain": [
              "Low Fat    5517\n",
              "Regular    3006\n",
              "Name: Item_Fat_Content, dtype: int64"
            ]
          },
          "metadata": {
            "tags": []
          },
          "execution_count": 9
        }
      ]
    },
    {
      "cell_type": "code",
      "metadata": {
        "colab": {
          "base_uri": "https://localhost:8080/"
        },
        "id": "OF7c5d7y-aUz",
        "outputId": "d7efddec-462a-4836-a14e-1e3a6c3b2b85"
      },
      "source": [
        "sales['Item_Identifier'].value_counts()"
      ],
      "execution_count": 10,
      "outputs": [
        {
          "output_type": "execute_result",
          "data": {
            "text/plain": [
              "FDW13    10\n",
              "FDG33    10\n",
              "FDX20     9\n",
              "NCB18     9\n",
              "DRN47     9\n",
              "         ..\n",
              "FDE52     1\n",
              "FDQ60     1\n",
              "FDN52     1\n",
              "FDY43     1\n",
              "FDT35     1\n",
              "Name: Item_Identifier, Length: 1559, dtype: int64"
            ]
          },
          "metadata": {
            "tags": []
          },
          "execution_count": 10
        }
      ]
    },
    {
      "cell_type": "code",
      "metadata": {
        "colab": {
          "base_uri": "https://localhost:8080/"
        },
        "id": "B3G59-WT-8ry",
        "outputId": "e8f8c846-21c9-4086-b79a-53c51573b62e"
      },
      "source": [
        "sales['Item_MRP'].value_counts()"
      ],
      "execution_count": 11,
      "outputs": [
        {
          "output_type": "execute_result",
          "data": {
            "text/plain": [
              "172.0422    7\n",
              "188.1872    6\n",
              "170.5422    6\n",
              "109.5228    6\n",
              "196.5084    6\n",
              "           ..\n",
              "212.8218    1\n",
              "190.3872    1\n",
              "162.6868    1\n",
              "189.1214    1\n",
              "51.3008     1\n",
              "Name: Item_MRP, Length: 5938, dtype: int64"
            ]
          },
          "metadata": {
            "tags": []
          },
          "execution_count": 11
        }
      ]
    },
    {
      "cell_type": "code",
      "metadata": {
        "colab": {
          "base_uri": "https://localhost:8080/"
        },
        "id": "cSdlzLqS_0Yo",
        "outputId": "cccec51e-f9c7-4c83-c748-ee6bcc538efa"
      },
      "source": [
        "sales['Item_Outlet_Sales'].value_counts()"
      ],
      "execution_count": 12,
      "outputs": [
        {
          "output_type": "execute_result",
          "data": {
            "text/plain": [
              "958.7520     17\n",
              "1342.2528    16\n",
              "1845.5976    15\n",
              "703.0848     15\n",
              "1278.3360    14\n",
              "             ..\n",
              "3167.8764     1\n",
              "2226.4352     1\n",
              "1684.4740     1\n",
              "1574.6170     1\n",
              "6692.6216     1\n",
              "Name: Item_Outlet_Sales, Length: 3493, dtype: int64"
            ]
          },
          "metadata": {
            "tags": []
          },
          "execution_count": 12
        }
      ]
    },
    {
      "cell_type": "code",
      "metadata": {
        "colab": {
          "base_uri": "https://localhost:8080/"
        },
        "id": "QDlPaJkq__RV",
        "outputId": "98ad8600-dae1-4a9e-a46d-93df2fed44c3"
      },
      "source": [
        "sales['Item_Type'].value_counts()"
      ],
      "execution_count": 13,
      "outputs": [
        {
          "output_type": "execute_result",
          "data": {
            "text/plain": [
              "Fruits and Vegetables    1232\n",
              "Snack Foods              1200\n",
              "Household                 910\n",
              "Frozen Foods              856\n",
              "Dairy                     682\n",
              "Canned                    649\n",
              "Baking Goods              648\n",
              "Health and Hygiene        520\n",
              "Soft Drinks               445\n",
              "Meat                      425\n",
              "Breads                    251\n",
              "Hard Drinks               214\n",
              "Others                    169\n",
              "Starchy Foods             148\n",
              "Breakfast                 110\n",
              "Seafood                    64\n",
              "Name: Item_Type, dtype: int64"
            ]
          },
          "metadata": {
            "tags": []
          },
          "execution_count": 13
        }
      ]
    },
    {
      "cell_type": "code",
      "metadata": {
        "colab": {
          "base_uri": "https://localhost:8080/"
        },
        "id": "oauVANoEAJhv",
        "outputId": "687c4bfc-3d9a-476e-f62c-a3d4e1a6b118"
      },
      "source": [
        "sales['Item_Weight'].value_counts()"
      ],
      "execution_count": 14,
      "outputs": [
        {
          "output_type": "execute_result",
          "data": {
            "text/plain": [
              "12.150    86\n",
              "17.600    82\n",
              "13.650    77\n",
              "11.800    76\n",
              "15.100    68\n",
              "          ..\n",
              "7.560      2\n",
              "9.420      1\n",
              "5.400      1\n",
              "6.520      1\n",
              "7.685      1\n",
              "Name: Item_Weight, Length: 415, dtype: int64"
            ]
          },
          "metadata": {
            "tags": []
          },
          "execution_count": 14
        }
      ]
    },
    {
      "cell_type": "code",
      "metadata": {
        "colab": {
          "base_uri": "https://localhost:8080/"
        },
        "id": "jE6oQo13K5zQ",
        "outputId": "feb6f7b3-3a16-4eab-c4e6-86d25c3ce37d"
      },
      "source": [
        "sales['Outlet_Establishment_Year'].value_counts()"
      ],
      "execution_count": 15,
      "outputs": [
        {
          "output_type": "execute_result",
          "data": {
            "text/plain": [
              "1985    1463\n",
              "1987     932\n",
              "1999     930\n",
              "1997     930\n",
              "2004     930\n",
              "2002     929\n",
              "2009     928\n",
              "2007     926\n",
              "1998     555\n",
              "Name: Outlet_Establishment_Year, dtype: int64"
            ]
          },
          "metadata": {
            "tags": []
          },
          "execution_count": 15
        }
      ]
    },
    {
      "cell_type": "code",
      "metadata": {
        "colab": {
          "base_uri": "https://localhost:8080/"
        },
        "id": "yWhWzx0IQLC7",
        "outputId": "75f8dca2-e981-4e42-c5ca-d50f810a1d08"
      },
      "source": [
        "sales['Outlet_Identifier'].value_counts()"
      ],
      "execution_count": 16,
      "outputs": [
        {
          "output_type": "execute_result",
          "data": {
            "text/plain": [
              "OUT027    935\n",
              "OUT013    932\n",
              "OUT035    930\n",
              "OUT049    930\n",
              "OUT046    930\n",
              "OUT045    929\n",
              "OUT018    928\n",
              "OUT017    926\n",
              "OUT010    555\n",
              "OUT019    528\n",
              "Name: Outlet_Identifier, dtype: int64"
            ]
          },
          "metadata": {
            "tags": []
          },
          "execution_count": 16
        }
      ]
    },
    {
      "cell_type": "code",
      "metadata": {
        "colab": {
          "base_uri": "https://localhost:8080/"
        },
        "id": "WpFNa_2XQOzE",
        "outputId": "8ca47040-8738-4fb2-d930-3b2be871ab7e"
      },
      "source": [
        "sales['Outlet_Location_Type'].value_counts()"
      ],
      "execution_count": 17,
      "outputs": [
        {
          "output_type": "execute_result",
          "data": {
            "text/plain": [
              "Tier 3    3350\n",
              "Tier 2    2785\n",
              "Tier 1    2388\n",
              "Name: Outlet_Location_Type, dtype: int64"
            ]
          },
          "metadata": {
            "tags": []
          },
          "execution_count": 17
        }
      ]
    },
    {
      "cell_type": "code",
      "metadata": {
        "colab": {
          "base_uri": "https://localhost:8080/"
        },
        "id": "1Y6pzxpyQW6l",
        "outputId": "f2198e42-b25f-4b2d-8d8e-52b05ebecfba"
      },
      "source": [
        "sales['Outlet_Size'].value_counts()"
      ],
      "execution_count": 18,
      "outputs": [
        {
          "output_type": "execute_result",
          "data": {
            "text/plain": [
              "Medium    2793\n",
              "Small     2388\n",
              "High       932\n",
              "Name: Outlet_Size, dtype: int64"
            ]
          },
          "metadata": {
            "tags": []
          },
          "execution_count": 18
        }
      ]
    },
    {
      "cell_type": "code",
      "metadata": {
        "colab": {
          "base_uri": "https://localhost:8080/"
        },
        "id": "NGLmTk-FQ3ez",
        "outputId": "9d723ae1-021e-4fc0-c994-1692bfd60422"
      },
      "source": [
        "sales['Outlet_Type'].value_counts()"
      ],
      "execution_count": 19,
      "outputs": [
        {
          "output_type": "execute_result",
          "data": {
            "text/plain": [
              "Supermarket Type1    5577\n",
              "Grocery Store        1083\n",
              "Supermarket Type3     935\n",
              "Supermarket Type2     928\n",
              "Name: Outlet_Type, dtype: int64"
            ]
          },
          "metadata": {
            "tags": []
          },
          "execution_count": 19
        }
      ]
    },
    {
      "cell_type": "markdown",
      "metadata": {
        "id": "rkpSQde7RRnU"
      },
      "source": [
        "## Columns to Drop\n",
        "\n",
        "I will drop only the \"Item_Visibility\" column for now. Initially I thought this column would prove to be useful in predicting sales baased on the visibility of each individual product, however, since the lowest visibility products, including those with zero visibility, account for the majority of the dataset (77%). There is no need to qualify this coulumn's data values beecause it is irrelevent. \n",
        "Also, the products with the highest visibiilty, both above .3 and .2, account for only 1.4%, further proving this column's irrelevance.\n",
        "\n",
        "#### It is my belief that we can assume the product's visibility value has very little to do with it's sale value."
      ]
    },
    {
      "cell_type": "code",
      "metadata": {
        "colab": {
          "base_uri": "https://localhost:8080/"
        },
        "id": "bxsZEFv5ADg6",
        "outputId": "952b68c7-6b90-47d4-9bb3-71f1e2d26608"
      },
      "source": [
        "vis_filter = sales['Item_Visibility'].count()\n",
        "vis_filter1 = (sales['Item_Visibility'] >= .0) & (sales['Item_Visibility'] < .1)\n",
        "vis_filter2 = (sales['Item_Visibility'] >= .1) & (sales['Item_Visibility'] < .2)\n",
        "vis_filter3 = (sales['Item_Visibility'] >= .2) & (sales['Item_Visibility'] < .3)\n",
        "vis_filter4 = sales['Item_Visibility'] >= .3\n",
        "\n",
        "vis_count1 = sales.loc[vis_filter1, 'Item_Visibility'].count()\n",
        "vis_count2 = sales.loc[vis_filter2, 'Item_Visibility'].count()\n",
        "vis_count3 = sales.loc[vis_filter3, 'Item_Visibility'].count()\n",
        "vis_count4 = sales.loc[vis_filter4, 'Item_Visibility'].count()\n",
        "\n",
        "print(vis_count1)\n",
        "print(round(vis_count1/vis_filter, 2))\n",
        "print(vis_count2)\n",
        "print(round(vis_count2/vis_filter, 2))\n",
        "print(vis_count3)\n",
        "print(round(vis_count3/vis_filter, 3))\n",
        "print(vis_count4)\n",
        "print(round(vis_count4/vis_filter, 4))"
      ],
      "execution_count": 20,
      "outputs": [
        {
          "output_type": "stream",
          "text": [
            "6593\n",
            "0.77\n",
            "1796\n",
            "0.21\n",
            "122\n",
            "0.014\n",
            "12\n",
            "0.0014\n"
          ],
          "name": "stdout"
        }
      ]
    },
    {
      "cell_type": "code",
      "metadata": {
        "id": "EW139y8tTCTq"
      },
      "source": [
        "sales.drop(columns = 'Item_Visibility', inplace = True)"
      ],
      "execution_count": 21,
      "outputs": []
    },
    {
      "cell_type": "markdown",
      "metadata": {
        "id": "_XFNeUzxWtxz"
      },
      "source": [
        "## Exploring the relevance of missing data in the Item_Weight and Outlet_Size columns"
      ]
    },
    {
      "cell_type": "markdown",
      "metadata": {
        "id": "cB1RAy0lXzd6"
      },
      "source": [
        "\n",
        "\n",
        "---\n",
        "\n",
        "----- First... look at Outlet_Size column"
      ]
    },
    {
      "cell_type": "code",
      "metadata": {
        "colab": {
          "base_uri": "https://localhost:8080/",
          "height": 307
        },
        "id": "9U2xMveaew_F",
        "outputId": "d6c8df1e-a775-4ae2-dbd9-5c120afb4590"
      },
      "source": [
        "outlet_missing = sales['Outlet_Size'].isna()\n",
        "sales.loc[outlet_missing, :].head()"
      ],
      "execution_count": 22,
      "outputs": [
        {
          "output_type": "execute_result",
          "data": {
            "text/html": [
              "<div>\n",
              "<style scoped>\n",
              "    .dataframe tbody tr th:only-of-type {\n",
              "        vertical-align: middle;\n",
              "    }\n",
              "\n",
              "    .dataframe tbody tr th {\n",
              "        vertical-align: top;\n",
              "    }\n",
              "\n",
              "    .dataframe thead th {\n",
              "        text-align: right;\n",
              "    }\n",
              "</style>\n",
              "<table border=\"1\" class=\"dataframe\">\n",
              "  <thead>\n",
              "    <tr style=\"text-align: right;\">\n",
              "      <th></th>\n",
              "      <th>Item_Identifier</th>\n",
              "      <th>Item_Weight</th>\n",
              "      <th>Item_Fat_Content</th>\n",
              "      <th>Item_Type</th>\n",
              "      <th>Item_MRP</th>\n",
              "      <th>Outlet_Identifier</th>\n",
              "      <th>Outlet_Establishment_Year</th>\n",
              "      <th>Outlet_Size</th>\n",
              "      <th>Outlet_Location_Type</th>\n",
              "      <th>Outlet_Type</th>\n",
              "      <th>Item_Outlet_Sales</th>\n",
              "    </tr>\n",
              "  </thead>\n",
              "  <tbody>\n",
              "    <tr>\n",
              "      <th>3</th>\n",
              "      <td>FDX07</td>\n",
              "      <td>19.200</td>\n",
              "      <td>Regular</td>\n",
              "      <td>Fruits and Vegetables</td>\n",
              "      <td>182.0950</td>\n",
              "      <td>OUT010</td>\n",
              "      <td>1998</td>\n",
              "      <td>NaN</td>\n",
              "      <td>Tier 3</td>\n",
              "      <td>Grocery Store</td>\n",
              "      <td>732.3800</td>\n",
              "    </tr>\n",
              "    <tr>\n",
              "      <th>8</th>\n",
              "      <td>FDH17</td>\n",
              "      <td>16.200</td>\n",
              "      <td>Regular</td>\n",
              "      <td>Frozen Foods</td>\n",
              "      <td>96.9726</td>\n",
              "      <td>OUT045</td>\n",
              "      <td>2002</td>\n",
              "      <td>NaN</td>\n",
              "      <td>Tier 2</td>\n",
              "      <td>Supermarket Type1</td>\n",
              "      <td>1076.5986</td>\n",
              "    </tr>\n",
              "    <tr>\n",
              "      <th>9</th>\n",
              "      <td>FDU28</td>\n",
              "      <td>19.200</td>\n",
              "      <td>Regular</td>\n",
              "      <td>Frozen Foods</td>\n",
              "      <td>187.8214</td>\n",
              "      <td>OUT017</td>\n",
              "      <td>2007</td>\n",
              "      <td>NaN</td>\n",
              "      <td>Tier 2</td>\n",
              "      <td>Supermarket Type1</td>\n",
              "      <td>4710.5350</td>\n",
              "    </tr>\n",
              "    <tr>\n",
              "      <th>25</th>\n",
              "      <td>NCD06</td>\n",
              "      <td>13.000</td>\n",
              "      <td>Low Fat</td>\n",
              "      <td>Household</td>\n",
              "      <td>45.9060</td>\n",
              "      <td>OUT017</td>\n",
              "      <td>2007</td>\n",
              "      <td>NaN</td>\n",
              "      <td>Tier 2</td>\n",
              "      <td>Supermarket Type1</td>\n",
              "      <td>838.9080</td>\n",
              "    </tr>\n",
              "    <tr>\n",
              "      <th>28</th>\n",
              "      <td>FDE51</td>\n",
              "      <td>5.925</td>\n",
              "      <td>Regular</td>\n",
              "      <td>Dairy</td>\n",
              "      <td>45.5086</td>\n",
              "      <td>OUT010</td>\n",
              "      <td>1998</td>\n",
              "      <td>NaN</td>\n",
              "      <td>Tier 3</td>\n",
              "      <td>Grocery Store</td>\n",
              "      <td>178.4344</td>\n",
              "    </tr>\n",
              "  </tbody>\n",
              "</table>\n",
              "</div>"
            ],
            "text/plain": [
              "   Item_Identifier  Item_Weight  ...        Outlet_Type Item_Outlet_Sales\n",
              "3            FDX07       19.200  ...      Grocery Store          732.3800\n",
              "8            FDH17       16.200  ...  Supermarket Type1         1076.5986\n",
              "9            FDU28       19.200  ...  Supermarket Type1         4710.5350\n",
              "25           NCD06       13.000  ...  Supermarket Type1          838.9080\n",
              "28           FDE51        5.925  ...      Grocery Store          178.4344\n",
              "\n",
              "[5 rows x 11 columns]"
            ]
          },
          "metadata": {
            "tags": []
          },
          "execution_count": 22
        }
      ]
    },
    {
      "cell_type": "code",
      "metadata": {
        "colab": {
          "base_uri": "https://localhost:8080/"
        },
        "id": "9D6pEgHffkfU",
        "outputId": "06738f21-331f-4474-cacc-891c83abfaba"
      },
      "source": [
        "sales[outlet_missing].shape"
      ],
      "execution_count": 23,
      "outputs": [
        {
          "output_type": "execute_result",
          "data": {
            "text/plain": [
              "(2410, 11)"
            ]
          },
          "metadata": {
            "tags": []
          },
          "execution_count": 23
        }
      ]
    },
    {
      "cell_type": "code",
      "metadata": {
        "colab": {
          "base_uri": "https://localhost:8080/"
        },
        "id": "v13zcCG930E1",
        "outputId": "7d90b3ad-beed-40f3-f772-50151fb7dc99"
      },
      "source": [
        "# Checking value counts with the outlet_missing filter on the Outlet_Identifier column to see how \n",
        "# the missing Outlet_Size values compare to the Outlet_Identifier value counts already checked above\n",
        "\n",
        "sales.loc[outlet_missing, 'Outlet_Identifier'].value_counts()"
      ],
      "execution_count": 24,
      "outputs": [
        {
          "output_type": "execute_result",
          "data": {
            "text/plain": [
              "OUT045    929\n",
              "OUT017    926\n",
              "OUT010    555\n",
              "Name: Outlet_Identifier, dtype: int64"
            ]
          },
          "metadata": {
            "tags": []
          },
          "execution_count": 24
        }
      ]
    },
    {
      "cell_type": "code",
      "metadata": {
        "colab": {
          "base_uri": "https://localhost:8080/"
        },
        "id": "ift-485z3Bty",
        "outputId": "510ffed2-fdd1-4997-9cbc-9dafb7e451a2"
      },
      "source": [
        "# Checking how the Outlet_Type and Outlet_Identifier columns compare together with the missing\n",
        "# values from the Outlet_Size column\n",
        "\n",
        "sales.loc[outlet_missing, ['Outlet_Identifier', 'Outlet_Type', 'Outlet_Establishment_Year', 'Outlet_Location_Type']].value_counts()"
      ],
      "execution_count": 25,
      "outputs": [
        {
          "output_type": "execute_result",
          "data": {
            "text/plain": [
              "Outlet_Identifier  Outlet_Type        Outlet_Establishment_Year  Outlet_Location_Type\n",
              "OUT045             Supermarket Type1  2002                       Tier 2                  929\n",
              "OUT017             Supermarket Type1  2007                       Tier 2                  926\n",
              "OUT010             Grocery Store      1998                       Tier 3                  555\n",
              "dtype: int64"
            ]
          },
          "metadata": {
            "tags": []
          },
          "execution_count": 25
        }
      ]
    },
    {
      "cell_type": "markdown",
      "metadata": {
        "id": "ZWP0iKdC_L2i"
      },
      "source": [
        "#### In the above cell where the value counts for the Outlet_Type column \"Supermarket Type1\" accounted for 5577 cells I will check to see if all the other Outlet_Type rows with \"Supermarket Type1\" contain a consistent Outlet_Size as this will allow me to see what the Outlet_Size values should be."
      ]
    },
    {
      "cell_type": "code",
      "metadata": {
        "colab": {
          "base_uri": "https://localhost:8080/"
        },
        "cellView": "code",
        "id": "UPXkdhRB3BfV",
        "outputId": "c12423cd-42ba-46b1-82a0-23b492cd47d7"
      },
      "source": [
        "# Checking value counts with the outlet_missing filter on the Outlet_Type column to see how \n",
        "# the missing Outlet_Size values compare to the Outlet_Type value counts already checked above\n",
        "\n",
        "print(sales.loc[outlet_missing, 'Outlet_Type'].value_counts())\n",
        "print(sales.loc[outlet_missing, 'Outlet_Establishment_Year'].value_counts()) #All Years correspond with missing values\n",
        "print(sales.loc[outlet_missing, 'Outlet_Location_Type'].value_counts()) #Tier 3 = 555 (same as Grocery and OUT010 and 1998)\n",
        "print(sales.loc[outlet_missing, 'Item_Outlet_Sales'].value_counts().sort_values())\n",
        "print(sales.loc[outlet_missing, 'Item_Outlet_Sales'].max())"
      ],
      "execution_count": 26,
      "outputs": [
        {
          "output_type": "stream",
          "text": [
            "Supermarket Type1    1855\n",
            "Grocery Store         555\n",
            "Name: Outlet_Type, dtype: int64\n",
            "2002    929\n",
            "2007    926\n",
            "1998    555\n",
            "Name: Outlet_Establishment_Year, dtype: int64\n",
            "Tier 2    1855\n",
            "Tier 3     555\n",
            "Name: Outlet_Location_Type, dtype: int64\n",
            "95.8752      1\n",
            "237.6906     1\n",
            "8760.5964    1\n",
            "2366.9190    1\n",
            "2646.5550    1\n",
            "            ..\n",
            "2302.3364    5\n",
            "1230.3984    6\n",
            "1225.0720    6\n",
            "958.7520     6\n",
            "838.9080     7\n",
            "Name: Item_Outlet_Sales, Length: 1627, dtype: int64\n",
            "9664.7528\n"
          ],
          "name": "stdout"
        }
      ]
    },
    {
      "cell_type": "code",
      "metadata": {
        "colab": {
          "base_uri": "https://localhost:8080/"
        },
        "id": "4sJ5lJk-2dGW",
        "outputId": "4b7d1d1f-71b5-4063-86e6-3c179f846734"
      },
      "source": [
        "# there's no clear correlation between location tier and store size\n",
        "tier1_filter = sales['Outlet_Location_Type'] == 'Tier 1'\n",
        "tier2_filter = sales['Outlet_Location_Type'] == 'Tier 2'\n",
        "tier3_filter = sales['Outlet_Location_Type'] == 'Tier 3'\n",
        "\n",
        "print(sales.loc[tier1_filter, 'Outlet_Size'].value_counts())\n",
        "print(sales.loc[tier2_filter, 'Outlet_Size'].value_counts())\n",
        "print(sales.loc[tier3_filter, 'Outlet_Size'].value_counts())"
      ],
      "execution_count": 27,
      "outputs": [
        {
          "output_type": "stream",
          "text": [
            "Small     1458\n",
            "Medium     930\n",
            "Name: Outlet_Size, dtype: int64\n",
            "Small    930\n",
            "Name: Outlet_Size, dtype: int64\n",
            "Medium    1863\n",
            "High       932\n",
            "Name: Outlet_Size, dtype: int64\n"
          ],
          "name": "stdout"
        }
      ]
    },
    {
      "cell_type": "code",
      "metadata": {
        "colab": {
          "base_uri": "https://localhost:8080/"
        },
        "id": "XEM8-ZOiQfCv",
        "outputId": "a2570961-469b-4605-e08b-a13ae01edc29"
      },
      "source": [
        "# These 3 years only correlate with the missing values ... no evidence of store size imputation\n",
        "\n",
        "year98est_filter = sales['Outlet_Establishment_Year'] == 1998\n",
        "year02est_filter = sales['Outlet_Establishment_Year'] == 2002\n",
        "year07est_filter = sales['Outlet_Establishment_Year'] == 2007\n",
        "\n",
        "print(sales.loc[year98est_filter, 'Outlet_Size'].value_counts())\n",
        "print(sales.loc[year02est_filter, 'Outlet_Size'].value_counts())\n",
        "print(sales.loc[year07est_filter, 'Outlet_Size'].value_counts())"
      ],
      "execution_count": 28,
      "outputs": [
        {
          "output_type": "stream",
          "text": [
            "Series([], Name: Outlet_Size, dtype: int64)\n",
            "Series([], Name: Outlet_Size, dtype: int64)\n",
            "Series([], Name: Outlet_Size, dtype: int64)\n"
          ],
          "name": "stdout"
        }
      ]
    },
    {
      "cell_type": "code",
      "metadata": {
        "colab": {
          "base_uri": "https://localhost:8080/"
        },
        "id": "ZDl3snzr4D8f",
        "outputId": "09758620-8b2a-42d6-de68-68c30dfbb5aa"
      },
      "source": [
        "# Grocery Store is only listed as Small. All other rows that contain 'Grocery Store' show NAN for the Outlet Size \n",
        "\n",
        "sup1Type_filter = sales['Outlet_Type'] == 'Supermarket Type1'\n",
        "grocType_filter = sales['Outlet_Type'] == 'Grocery Store'\n",
        "\n",
        "print(sales.loc[sup1Type_filter, 'Outlet_Size'].value_counts())\n",
        "print(sales.loc[grocType_filter, 'Outlet_Size'].value_counts())"
      ],
      "execution_count": 29,
      "outputs": [
        {
          "output_type": "stream",
          "text": [
            "Small     1860\n",
            "High       932\n",
            "Medium     930\n",
            "Name: Outlet_Size, dtype: int64\n",
            "Small    528\n",
            "Name: Outlet_Size, dtype: int64\n"
          ],
          "name": "stdout"
        }
      ]
    },
    {
      "cell_type": "code",
      "metadata": {
        "colab": {
          "base_uri": "https://localhost:8080/",
          "height": 417
        },
        "id": "mCfniV03Kz1U",
        "outputId": "7c7dacef-6716-4362-90f4-d534e1f02e32"
      },
      "source": [
        "# All rows containing OUT010, 1998 and Grocery Store occupy the same 555 rows.\n",
        "# These 555 rows are missing a value for Outlet Size and are all in location Tier 3.\n",
        "# I believe that since the only other mention of Grocery is small and that Tier 3 is \n",
        "\n",
        "sales.loc[outlet_missing & tier3_filter, [ 'Outlet_Type', 'Outlet_Identifier', 'Outlet_Establishment_Year']]"
      ],
      "execution_count": 30,
      "outputs": [
        {
          "output_type": "execute_result",
          "data": {
            "text/html": [
              "<div>\n",
              "<style scoped>\n",
              "    .dataframe tbody tr th:only-of-type {\n",
              "        vertical-align: middle;\n",
              "    }\n",
              "\n",
              "    .dataframe tbody tr th {\n",
              "        vertical-align: top;\n",
              "    }\n",
              "\n",
              "    .dataframe thead th {\n",
              "        text-align: right;\n",
              "    }\n",
              "</style>\n",
              "<table border=\"1\" class=\"dataframe\">\n",
              "  <thead>\n",
              "    <tr style=\"text-align: right;\">\n",
              "      <th></th>\n",
              "      <th>Outlet_Type</th>\n",
              "      <th>Outlet_Identifier</th>\n",
              "      <th>Outlet_Establishment_Year</th>\n",
              "    </tr>\n",
              "  </thead>\n",
              "  <tbody>\n",
              "    <tr>\n",
              "      <th>3</th>\n",
              "      <td>Grocery Store</td>\n",
              "      <td>OUT010</td>\n",
              "      <td>1998</td>\n",
              "    </tr>\n",
              "    <tr>\n",
              "      <th>28</th>\n",
              "      <td>Grocery Store</td>\n",
              "      <td>OUT010</td>\n",
              "      <td>1998</td>\n",
              "    </tr>\n",
              "    <tr>\n",
              "      <th>30</th>\n",
              "      <td>Grocery Store</td>\n",
              "      <td>OUT010</td>\n",
              "      <td>1998</td>\n",
              "    </tr>\n",
              "    <tr>\n",
              "      <th>45</th>\n",
              "      <td>Grocery Store</td>\n",
              "      <td>OUT010</td>\n",
              "      <td>1998</td>\n",
              "    </tr>\n",
              "    <tr>\n",
              "      <th>65</th>\n",
              "      <td>Grocery Store</td>\n",
              "      <td>OUT010</td>\n",
              "      <td>1998</td>\n",
              "    </tr>\n",
              "    <tr>\n",
              "      <th>...</th>\n",
              "      <td>...</td>\n",
              "      <td>...</td>\n",
              "      <td>...</td>\n",
              "    </tr>\n",
              "    <tr>\n",
              "      <th>8400</th>\n",
              "      <td>Grocery Store</td>\n",
              "      <td>OUT010</td>\n",
              "      <td>1998</td>\n",
              "    </tr>\n",
              "    <tr>\n",
              "      <th>8432</th>\n",
              "      <td>Grocery Store</td>\n",
              "      <td>OUT010</td>\n",
              "      <td>1998</td>\n",
              "    </tr>\n",
              "    <tr>\n",
              "      <th>8473</th>\n",
              "      <td>Grocery Store</td>\n",
              "      <td>OUT010</td>\n",
              "      <td>1998</td>\n",
              "    </tr>\n",
              "    <tr>\n",
              "      <th>8486</th>\n",
              "      <td>Grocery Store</td>\n",
              "      <td>OUT010</td>\n",
              "      <td>1998</td>\n",
              "    </tr>\n",
              "    <tr>\n",
              "      <th>8509</th>\n",
              "      <td>Grocery Store</td>\n",
              "      <td>OUT010</td>\n",
              "      <td>1998</td>\n",
              "    </tr>\n",
              "  </tbody>\n",
              "</table>\n",
              "<p>555 rows × 3 columns</p>\n",
              "</div>"
            ],
            "text/plain": [
              "        Outlet_Type Outlet_Identifier  Outlet_Establishment_Year\n",
              "3     Grocery Store            OUT010                       1998\n",
              "28    Grocery Store            OUT010                       1998\n",
              "30    Grocery Store            OUT010                       1998\n",
              "45    Grocery Store            OUT010                       1998\n",
              "65    Grocery Store            OUT010                       1998\n",
              "...             ...               ...                        ...\n",
              "8400  Grocery Store            OUT010                       1998\n",
              "8432  Grocery Store            OUT010                       1998\n",
              "8473  Grocery Store            OUT010                       1998\n",
              "8486  Grocery Store            OUT010                       1998\n",
              "8509  Grocery Store            OUT010                       1998\n",
              "\n",
              "[555 rows x 3 columns]"
            ]
          },
          "metadata": {
            "tags": []
          },
          "execution_count": 30
        }
      ]
    },
    {
      "cell_type": "code",
      "metadata": {
        "colab": {
          "base_uri": "https://localhost:8080/"
        },
        "id": "Lk8tHVSA50Op",
        "outputId": "2865e919-c40f-45df-f06e-308e87dccf99"
      },
      "source": [
        "# Without further exploring the Item Sales agaisnt other information there is no clear correlation\n",
        "# between the item sales and Outlet Size\n",
        "\n",
        "size = sales['Outlet_Size'] == 'Small'\n",
        "\n",
        "itSales1_filter = sales['Item_Outlet_Sales'] <= 100\n",
        "itSales2_filter = (sales['Item_Outlet_Sales'] >= 101) & (sales['Item_Outlet_Sales'] <= 200)\n",
        "itSales3_filter = (sales['Item_Outlet_Sales'] >= 201) & (sales['Item_Outlet_Sales'] <= 300)\n",
        "itSales4_filter = (sales['Item_Outlet_Sales'] >= 301) & (sales['Item_Outlet_Sales'] <= 400)\n",
        "itSales5_filter = (sales['Item_Outlet_Sales'] >= 401) & (sales['Item_Outlet_Sales'] <= 500)\n",
        "itSales6_filter = (sales['Item_Outlet_Sales'] >= 501) & (sales['Item_Outlet_Sales'] <= 600)\n",
        "itSales7_filter = (sales['Item_Outlet_Sales'] >= 601) & (sales['Item_Outlet_Sales'] <= 700)\n",
        "itSales8_filter = (sales['Item_Outlet_Sales'] >= 701) & (sales['Item_Outlet_Sales'] <= 800)\n",
        "itSales9_filter = (sales['Item_Outlet_Sales'] >= 801) & (sales['Item_Outlet_Sales'] <= 900)\n",
        "itSales10_filter = sales['Item_Outlet_Sales'] >= 901\n",
        "\n",
        "print(sales.loc[itSales1_filter, 'Outlet_Size'].value_counts())\n",
        "print(sales.loc[itSales1_filter & outlet_missing, 'Item_Outlet_Sales'].count())\n",
        "print(sales.loc[itSales2_filter, 'Outlet_Size'].value_counts())\n",
        "print(sales.loc[itSales2_filter & outlet_missing, 'Item_Outlet_Sales'].count())\n",
        "print(sales.loc[itSales3_filter, 'Outlet_Size'].value_counts())\n",
        "print(sales.loc[itSales3_filter & outlet_missing, 'Item_Outlet_Sales'].count())\n",
        "print(sales.loc[itSales4_filter, 'Outlet_Size'].value_counts())\n",
        "print(sales.loc[itSales4_filter & outlet_missing, 'Item_Outlet_Sales'].count())\n",
        "print(sales.loc[itSales5_filter, 'Outlet_Size'].value_counts())\n",
        "print(sales.loc[itSales5_filter & outlet_missing, 'Item_Outlet_Sales'].count())\n",
        "print(sales.loc[itSales6_filter, 'Outlet_Size'].value_counts())\n",
        "print(sales.loc[itSales6_filter & outlet_missing, 'Item_Outlet_Sales'].count())\n",
        "print(sales.loc[itSales7_filter, 'Outlet_Size'].value_counts())\n",
        "print(sales.loc[itSales7_filter & outlet_missing, 'Item_Outlet_Sales'].count())\n",
        "print(sales.loc[itSales8_filter, 'Outlet_Size'].value_counts())\n",
        "print(sales.loc[itSales8_filter & outlet_missing, 'Item_Outlet_Sales'].count())\n",
        "print(sales.loc[itSales9_filter, 'Outlet_Size'].value_counts())\n",
        "print(sales.loc[itSales9_filter & outlet_missing, 'Item_Outlet_Sales'].count())\n",
        "print(sales.loc[itSales10_filter, 'Outlet_Size'].value_counts())\n",
        "print(sales.loc[itSales10_filter & outlet_missing, 'Item_Outlet_Sales'].count())"
      ],
      "execution_count": 31,
      "outputs": [
        {
          "output_type": "stream",
          "text": [
            "Small     54\n",
            "Medium     3\n",
            "High       1\n",
            "Name: Outlet_Size, dtype: int64\n",
            "66\n",
            "Small     148\n",
            "Medium     17\n",
            "High       10\n",
            "Name: Outlet_Size, dtype: int64\n",
            "179\n",
            "Small     107\n",
            "Medium     27\n",
            "High       17\n",
            "Name: Outlet_Size, dtype: int64\n",
            "104\n",
            "Small     106\n",
            "Medium     37\n",
            "High       30\n",
            "Name: Outlet_Size, dtype: int64\n",
            "96\n",
            "Small     95\n",
            "Medium    52\n",
            "High      15\n",
            "Name: Outlet_Size, dtype: int64\n",
            "92\n",
            "Small     84\n",
            "Medium    69\n",
            "High      25\n",
            "Name: Outlet_Size, dtype: int64\n",
            "98\n",
            "Small     70\n",
            "Medium    67\n",
            "High      36\n",
            "Name: Outlet_Size, dtype: int64\n",
            "70\n",
            "Small     83\n",
            "Medium    71\n",
            "High      28\n",
            "Name: Outlet_Size, dtype: int64\n",
            "93\n",
            "Medium    69\n",
            "Small     67\n",
            "High      21\n",
            "Name: Outlet_Size, dtype: int64\n",
            "76\n",
            "Medium    2380\n",
            "Small     1571\n",
            "High       749\n",
            "Name: Outlet_Size, dtype: int64\n",
            "1533\n"
          ],
          "name": "stdout"
        }
      ]
    },
    {
      "cell_type": "code",
      "metadata": {
        "colab": {
          "base_uri": "https://localhost:8080/"
        },
        "id": "sCSWpOuMBEnc",
        "outputId": "1997136b-8093-424e-ada1-89ddcbb75294"
      },
      "source": [
        "# Further proof that Grocery Story is either listed as Small in the Outlet Size column or Nan\n",
        "# There are 555 rows containing Grocery and no specification of Outlet Size\n",
        "# There are 528 rows containing Grocery and Small Outlet Size\n",
        "\n",
        "print(sales.loc[grocType_filter, 'Outlet_Type'].value_counts())\n",
        "print(sales[grocType_filter & ~outlet_missing].count())"
      ],
      "execution_count": 32,
      "outputs": [
        {
          "output_type": "stream",
          "text": [
            "Grocery Store    1083\n",
            "Name: Outlet_Type, dtype: int64\n",
            "Item_Identifier              528\n",
            "Item_Weight                    0\n",
            "Item_Fat_Content             528\n",
            "Item_Type                    528\n",
            "Item_MRP                     528\n",
            "Outlet_Identifier            528\n",
            "Outlet_Establishment_Year    528\n",
            "Outlet_Size                  528\n",
            "Outlet_Location_Type         528\n",
            "Outlet_Type                  528\n",
            "Item_Outlet_Sales            528\n",
            "dtype: int64\n"
          ],
          "name": "stdout"
        }
      ]
    },
    {
      "cell_type": "code",
      "metadata": {
        "colab": {
          "base_uri": "https://localhost:8080/"
        },
        "id": "8xiL6_CKEy-K",
        "outputId": "c0ebb14d-5d21-4eae-dca1-4b7894e396af"
      },
      "source": [
        "sales[grocType_filter & outlet_missing].count()"
      ],
      "execution_count": 33,
      "outputs": [
        {
          "output_type": "execute_result",
          "data": {
            "text/plain": [
              "Item_Identifier              555\n",
              "Item_Weight                  555\n",
              "Item_Fat_Content             555\n",
              "Item_Type                    555\n",
              "Item_MRP                     555\n",
              "Outlet_Identifier            555\n",
              "Outlet_Establishment_Year    555\n",
              "Outlet_Size                    0\n",
              "Outlet_Location_Type         555\n",
              "Outlet_Type                  555\n",
              "Item_Outlet_Sales            555\n",
              "dtype: int64"
            ]
          },
          "metadata": {
            "tags": []
          },
          "execution_count": 33
        }
      ]
    },
    {
      "cell_type": "code",
      "metadata": {
        "colab": {
          "base_uri": "https://localhost:8080/"
        },
        "id": "n6Z7RuFjFtxN",
        "outputId": "c0065144-7ef4-4ebd-f831-f1613ea9c80f"
      },
      "source": [
        "# Further proving that these Outlet Idenifier numbers are missing from the Outlet Size column\n",
        "# this not help impute size for these outlet stores\n",
        "\n",
        "OUT045_filter = sales['Outlet_Identifier'] == 'OUT045'\n",
        "OUT017_filter = sales['Outlet_Identifier'] == 'OUT017'\n",
        "OUT010_filter = sales['Outlet_Identifier'] == 'OUT010'\n",
        "\n",
        "sales.loc[OUT010_filter | OUT017_filter | OUT045_filter, 'Outlet_Size'].count()"
      ],
      "execution_count": 34,
      "outputs": [
        {
          "output_type": "execute_result",
          "data": {
            "text/plain": [
              "0"
            ]
          },
          "metadata": {
            "tags": []
          },
          "execution_count": 34
        }
      ]
    },
    {
      "cell_type": "markdown",
      "metadata": {
        "id": "itKkVwuUeiuA"
      },
      "source": [
        "\n",
        "\n",
        "---\n",
        "\n",
        "---- Second... Look at Item_Weight column\n"
      ]
    },
    {
      "cell_type": "code",
      "metadata": {
        "colab": {
          "base_uri": "https://localhost:8080/",
          "height": 307
        },
        "id": "UIeFXGHzdn7e",
        "outputId": "79ebb35f-878d-48b3-81b7-17276217f5e5"
      },
      "source": [
        "weight_missing = sales['Item_Weight'].isna()\n",
        "sales.loc[weight_missing, :].head()"
      ],
      "execution_count": 35,
      "outputs": [
        {
          "output_type": "execute_result",
          "data": {
            "text/html": [
              "<div>\n",
              "<style scoped>\n",
              "    .dataframe tbody tr th:only-of-type {\n",
              "        vertical-align: middle;\n",
              "    }\n",
              "\n",
              "    .dataframe tbody tr th {\n",
              "        vertical-align: top;\n",
              "    }\n",
              "\n",
              "    .dataframe thead th {\n",
              "        text-align: right;\n",
              "    }\n",
              "</style>\n",
              "<table border=\"1\" class=\"dataframe\">\n",
              "  <thead>\n",
              "    <tr style=\"text-align: right;\">\n",
              "      <th></th>\n",
              "      <th>Item_Identifier</th>\n",
              "      <th>Item_Weight</th>\n",
              "      <th>Item_Fat_Content</th>\n",
              "      <th>Item_Type</th>\n",
              "      <th>Item_MRP</th>\n",
              "      <th>Outlet_Identifier</th>\n",
              "      <th>Outlet_Establishment_Year</th>\n",
              "      <th>Outlet_Size</th>\n",
              "      <th>Outlet_Location_Type</th>\n",
              "      <th>Outlet_Type</th>\n",
              "      <th>Item_Outlet_Sales</th>\n",
              "    </tr>\n",
              "  </thead>\n",
              "  <tbody>\n",
              "    <tr>\n",
              "      <th>7</th>\n",
              "      <td>FDP10</td>\n",
              "      <td>NaN</td>\n",
              "      <td>Low Fat</td>\n",
              "      <td>Snack Foods</td>\n",
              "      <td>107.7622</td>\n",
              "      <td>OUT027</td>\n",
              "      <td>1985</td>\n",
              "      <td>Medium</td>\n",
              "      <td>Tier 3</td>\n",
              "      <td>Supermarket Type3</td>\n",
              "      <td>4022.7636</td>\n",
              "    </tr>\n",
              "    <tr>\n",
              "      <th>18</th>\n",
              "      <td>DRI11</td>\n",
              "      <td>NaN</td>\n",
              "      <td>Low Fat</td>\n",
              "      <td>Hard Drinks</td>\n",
              "      <td>113.2834</td>\n",
              "      <td>OUT027</td>\n",
              "      <td>1985</td>\n",
              "      <td>Medium</td>\n",
              "      <td>Tier 3</td>\n",
              "      <td>Supermarket Type3</td>\n",
              "      <td>2303.6680</td>\n",
              "    </tr>\n",
              "    <tr>\n",
              "      <th>21</th>\n",
              "      <td>FDW12</td>\n",
              "      <td>NaN</td>\n",
              "      <td>Regular</td>\n",
              "      <td>Baking Goods</td>\n",
              "      <td>144.5444</td>\n",
              "      <td>OUT027</td>\n",
              "      <td>1985</td>\n",
              "      <td>Medium</td>\n",
              "      <td>Tier 3</td>\n",
              "      <td>Supermarket Type3</td>\n",
              "      <td>4064.0432</td>\n",
              "    </tr>\n",
              "    <tr>\n",
              "      <th>23</th>\n",
              "      <td>FDC37</td>\n",
              "      <td>NaN</td>\n",
              "      <td>Low Fat</td>\n",
              "      <td>Baking Goods</td>\n",
              "      <td>107.6938</td>\n",
              "      <td>OUT019</td>\n",
              "      <td>1985</td>\n",
              "      <td>Small</td>\n",
              "      <td>Tier 1</td>\n",
              "      <td>Grocery Store</td>\n",
              "      <td>214.3876</td>\n",
              "    </tr>\n",
              "    <tr>\n",
              "      <th>29</th>\n",
              "      <td>FDC14</td>\n",
              "      <td>NaN</td>\n",
              "      <td>Regular</td>\n",
              "      <td>Canned</td>\n",
              "      <td>43.6454</td>\n",
              "      <td>OUT019</td>\n",
              "      <td>1985</td>\n",
              "      <td>Small</td>\n",
              "      <td>Tier 1</td>\n",
              "      <td>Grocery Store</td>\n",
              "      <td>125.8362</td>\n",
              "    </tr>\n",
              "  </tbody>\n",
              "</table>\n",
              "</div>"
            ],
            "text/plain": [
              "   Item_Identifier  Item_Weight  ...        Outlet_Type Item_Outlet_Sales\n",
              "7            FDP10          NaN  ...  Supermarket Type3         4022.7636\n",
              "18           DRI11          NaN  ...  Supermarket Type3         2303.6680\n",
              "21           FDW12          NaN  ...  Supermarket Type3         4064.0432\n",
              "23           FDC37          NaN  ...      Grocery Store          214.3876\n",
              "29           FDC14          NaN  ...      Grocery Store          125.8362\n",
              "\n",
              "[5 rows x 11 columns]"
            ]
          },
          "metadata": {
            "tags": []
          },
          "execution_count": 35
        }
      ]
    },
    {
      "cell_type": "code",
      "metadata": {
        "colab": {
          "base_uri": "https://localhost:8080/"
        },
        "id": "ESI0A1eChDYE",
        "outputId": "f763881c-6b8e-42bb-987c-340c874b24c6"
      },
      "source": [
        "sales[weight_missing].shape"
      ],
      "execution_count": 36,
      "outputs": [
        {
          "output_type": "execute_result",
          "data": {
            "text/plain": [
              "(1463, 11)"
            ]
          },
          "metadata": {
            "tags": []
          },
          "execution_count": 36
        }
      ]
    },
    {
      "cell_type": "code",
      "metadata": {
        "colab": {
          "base_uri": "https://localhost:8080/"
        },
        "id": "znfgDHFo9MiI",
        "outputId": "6461c1a3-09eb-4dba-dd00-0dbca71721ab"
      },
      "source": [
        "sales['Item_Weight'].value_counts()"
      ],
      "execution_count": 37,
      "outputs": [
        {
          "output_type": "execute_result",
          "data": {
            "text/plain": [
              "12.150    86\n",
              "17.600    82\n",
              "13.650    77\n",
              "11.800    76\n",
              "15.100    68\n",
              "          ..\n",
              "7.560      2\n",
              "9.420      1\n",
              "5.400      1\n",
              "6.520      1\n",
              "7.685      1\n",
              "Name: Item_Weight, Length: 415, dtype: int64"
            ]
          },
          "metadata": {
            "tags": []
          },
          "execution_count": 37
        }
      ]
    },
    {
      "cell_type": "code",
      "metadata": {
        "colab": {
          "base_uri": "https://localhost:8080/"
        },
        "id": "Uf8aKdSI-XGK",
        "outputId": "263c9058-ca36-4599-99b2-c91cedd7ff80"
      },
      "source": [
        "sales.loc[weight_missing, 'Item_Type'].value_counts()"
      ],
      "execution_count": 38,
      "outputs": [
        {
          "output_type": "execute_result",
          "data": {
            "text/plain": [
              "Fruits and Vegetables    213\n",
              "Snack Foods              212\n",
              "Household                151\n",
              "Frozen Foods             138\n",
              "Dairy                    116\n",
              "Baking Goods             112\n",
              "Canned                   110\n",
              "Health and Hygiene        90\n",
              "Meat                      88\n",
              "Soft Drinks               71\n",
              "Breads                    47\n",
              "Others                    32\n",
              "Hard Drinks               31\n",
              "Breakfast                 21\n",
              "Starchy Foods             18\n",
              "Seafood                   13\n",
              "Name: Item_Type, dtype: int64"
            ]
          },
          "metadata": {
            "tags": []
          },
          "execution_count": 38
        }
      ]
    },
    {
      "cell_type": "code",
      "metadata": {
        "colab": {
          "base_uri": "https://localhost:8080/",
          "height": 942
        },
        "id": "hxp2VIH0CCp6",
        "outputId": "75786e5c-b31f-4809-b8c3-f0b2b1b5da0d"
      },
      "source": [
        "sales.loc[weight_missing, :].groupby(['Item_Type','Item_Fat_Content'])[['Item_Weight','Item_MRP']].count()\n"
      ],
      "execution_count": 39,
      "outputs": [
        {
          "output_type": "execute_result",
          "data": {
            "text/html": [
              "<div>\n",
              "<style scoped>\n",
              "    .dataframe tbody tr th:only-of-type {\n",
              "        vertical-align: middle;\n",
              "    }\n",
              "\n",
              "    .dataframe tbody tr th {\n",
              "        vertical-align: top;\n",
              "    }\n",
              "\n",
              "    .dataframe thead th {\n",
              "        text-align: right;\n",
              "    }\n",
              "</style>\n",
              "<table border=\"1\" class=\"dataframe\">\n",
              "  <thead>\n",
              "    <tr style=\"text-align: right;\">\n",
              "      <th></th>\n",
              "      <th></th>\n",
              "      <th>Item_Weight</th>\n",
              "      <th>Item_MRP</th>\n",
              "    </tr>\n",
              "    <tr>\n",
              "      <th>Item_Type</th>\n",
              "      <th>Item_Fat_Content</th>\n",
              "      <th></th>\n",
              "      <th></th>\n",
              "    </tr>\n",
              "  </thead>\n",
              "  <tbody>\n",
              "    <tr>\n",
              "      <th rowspan=\"2\" valign=\"top\">Baking Goods</th>\n",
              "      <th>Low Fat</th>\n",
              "      <td>0</td>\n",
              "      <td>67</td>\n",
              "    </tr>\n",
              "    <tr>\n",
              "      <th>Regular</th>\n",
              "      <td>0</td>\n",
              "      <td>45</td>\n",
              "    </tr>\n",
              "    <tr>\n",
              "      <th rowspan=\"2\" valign=\"top\">Breads</th>\n",
              "      <th>Low Fat</th>\n",
              "      <td>0</td>\n",
              "      <td>27</td>\n",
              "    </tr>\n",
              "    <tr>\n",
              "      <th>Regular</th>\n",
              "      <td>0</td>\n",
              "      <td>20</td>\n",
              "    </tr>\n",
              "    <tr>\n",
              "      <th rowspan=\"2\" valign=\"top\">Breakfast</th>\n",
              "      <th>Low Fat</th>\n",
              "      <td>0</td>\n",
              "      <td>7</td>\n",
              "    </tr>\n",
              "    <tr>\n",
              "      <th>Regular</th>\n",
              "      <td>0</td>\n",
              "      <td>14</td>\n",
              "    </tr>\n",
              "    <tr>\n",
              "      <th rowspan=\"2\" valign=\"top\">Canned</th>\n",
              "      <th>Low Fat</th>\n",
              "      <td>0</td>\n",
              "      <td>55</td>\n",
              "    </tr>\n",
              "    <tr>\n",
              "      <th>Regular</th>\n",
              "      <td>0</td>\n",
              "      <td>55</td>\n",
              "    </tr>\n",
              "    <tr>\n",
              "      <th rowspan=\"2\" valign=\"top\">Dairy</th>\n",
              "      <th>Low Fat</th>\n",
              "      <td>0</td>\n",
              "      <td>64</td>\n",
              "    </tr>\n",
              "    <tr>\n",
              "      <th>Regular</th>\n",
              "      <td>0</td>\n",
              "      <td>52</td>\n",
              "    </tr>\n",
              "    <tr>\n",
              "      <th rowspan=\"2\" valign=\"top\">Frozen Foods</th>\n",
              "      <th>Low Fat</th>\n",
              "      <td>0</td>\n",
              "      <td>75</td>\n",
              "    </tr>\n",
              "    <tr>\n",
              "      <th>Regular</th>\n",
              "      <td>0</td>\n",
              "      <td>63</td>\n",
              "    </tr>\n",
              "    <tr>\n",
              "      <th rowspan=\"2\" valign=\"top\">Fruits and Vegetables</th>\n",
              "      <th>Low Fat</th>\n",
              "      <td>0</td>\n",
              "      <td>112</td>\n",
              "    </tr>\n",
              "    <tr>\n",
              "      <th>Regular</th>\n",
              "      <td>0</td>\n",
              "      <td>101</td>\n",
              "    </tr>\n",
              "    <tr>\n",
              "      <th>Hard Drinks</th>\n",
              "      <th>Low Fat</th>\n",
              "      <td>0</td>\n",
              "      <td>31</td>\n",
              "    </tr>\n",
              "    <tr>\n",
              "      <th>Health and Hygiene</th>\n",
              "      <th>Low Fat</th>\n",
              "      <td>0</td>\n",
              "      <td>90</td>\n",
              "    </tr>\n",
              "    <tr>\n",
              "      <th>Household</th>\n",
              "      <th>Low Fat</th>\n",
              "      <td>0</td>\n",
              "      <td>151</td>\n",
              "    </tr>\n",
              "    <tr>\n",
              "      <th rowspan=\"2\" valign=\"top\">Meat</th>\n",
              "      <th>Low Fat</th>\n",
              "      <td>0</td>\n",
              "      <td>38</td>\n",
              "    </tr>\n",
              "    <tr>\n",
              "      <th>Regular</th>\n",
              "      <td>0</td>\n",
              "      <td>50</td>\n",
              "    </tr>\n",
              "    <tr>\n",
              "      <th>Others</th>\n",
              "      <th>Low Fat</th>\n",
              "      <td>0</td>\n",
              "      <td>32</td>\n",
              "    </tr>\n",
              "    <tr>\n",
              "      <th rowspan=\"2\" valign=\"top\">Seafood</th>\n",
              "      <th>Low Fat</th>\n",
              "      <td>0</td>\n",
              "      <td>8</td>\n",
              "    </tr>\n",
              "    <tr>\n",
              "      <th>Regular</th>\n",
              "      <td>0</td>\n",
              "      <td>5</td>\n",
              "    </tr>\n",
              "    <tr>\n",
              "      <th rowspan=\"2\" valign=\"top\">Snack Foods</th>\n",
              "      <th>Low Fat</th>\n",
              "      <td>0</td>\n",
              "      <td>127</td>\n",
              "    </tr>\n",
              "    <tr>\n",
              "      <th>Regular</th>\n",
              "      <td>0</td>\n",
              "      <td>85</td>\n",
              "    </tr>\n",
              "    <tr>\n",
              "      <th rowspan=\"2\" valign=\"top\">Soft Drinks</th>\n",
              "      <th>Low Fat</th>\n",
              "      <td>0</td>\n",
              "      <td>59</td>\n",
              "    </tr>\n",
              "    <tr>\n",
              "      <th>Regular</th>\n",
              "      <td>0</td>\n",
              "      <td>12</td>\n",
              "    </tr>\n",
              "    <tr>\n",
              "      <th rowspan=\"2\" valign=\"top\">Starchy Foods</th>\n",
              "      <th>Low Fat</th>\n",
              "      <td>0</td>\n",
              "      <td>8</td>\n",
              "    </tr>\n",
              "    <tr>\n",
              "      <th>Regular</th>\n",
              "      <td>0</td>\n",
              "      <td>10</td>\n",
              "    </tr>\n",
              "  </tbody>\n",
              "</table>\n",
              "</div>"
            ],
            "text/plain": [
              "                                        Item_Weight  Item_MRP\n",
              "Item_Type             Item_Fat_Content                       \n",
              "Baking Goods          Low Fat                     0        67\n",
              "                      Regular                     0        45\n",
              "Breads                Low Fat                     0        27\n",
              "                      Regular                     0        20\n",
              "Breakfast             Low Fat                     0         7\n",
              "                      Regular                     0        14\n",
              "Canned                Low Fat                     0        55\n",
              "                      Regular                     0        55\n",
              "Dairy                 Low Fat                     0        64\n",
              "                      Regular                     0        52\n",
              "Frozen Foods          Low Fat                     0        75\n",
              "                      Regular                     0        63\n",
              "Fruits and Vegetables Low Fat                     0       112\n",
              "                      Regular                     0       101\n",
              "Hard Drinks           Low Fat                     0        31\n",
              "Health and Hygiene    Low Fat                     0        90\n",
              "Household             Low Fat                     0       151\n",
              "Meat                  Low Fat                     0        38\n",
              "                      Regular                     0        50\n",
              "Others                Low Fat                     0        32\n",
              "Seafood               Low Fat                     0         8\n",
              "                      Regular                     0         5\n",
              "Snack Foods           Low Fat                     0       127\n",
              "                      Regular                     0        85\n",
              "Soft Drinks           Low Fat                     0        59\n",
              "                      Regular                     0        12\n",
              "Starchy Foods         Low Fat                     0         8\n",
              "                      Regular                     0        10"
            ]
          },
          "metadata": {
            "tags": []
          },
          "execution_count": 39
        }
      ]
    },
    {
      "cell_type": "code",
      "metadata": {
        "colab": {
          "base_uri": "https://localhost:8080/",
          "height": 942
        },
        "id": "SKMa-pLZESX0",
        "outputId": "d8c396fd-2d1d-4861-d886-7365c707cbaa"
      },
      "source": [
        "sales.loc[~weight_missing, :].groupby(['Item_Type','Item_Fat_Content'])[['Item_Weight','Item_MRP']].count()"
      ],
      "execution_count": 40,
      "outputs": [
        {
          "output_type": "execute_result",
          "data": {
            "text/html": [
              "<div>\n",
              "<style scoped>\n",
              "    .dataframe tbody tr th:only-of-type {\n",
              "        vertical-align: middle;\n",
              "    }\n",
              "\n",
              "    .dataframe tbody tr th {\n",
              "        vertical-align: top;\n",
              "    }\n",
              "\n",
              "    .dataframe thead th {\n",
              "        text-align: right;\n",
              "    }\n",
              "</style>\n",
              "<table border=\"1\" class=\"dataframe\">\n",
              "  <thead>\n",
              "    <tr style=\"text-align: right;\">\n",
              "      <th></th>\n",
              "      <th></th>\n",
              "      <th>Item_Weight</th>\n",
              "      <th>Item_MRP</th>\n",
              "    </tr>\n",
              "    <tr>\n",
              "      <th>Item_Type</th>\n",
              "      <th>Item_Fat_Content</th>\n",
              "      <th></th>\n",
              "      <th></th>\n",
              "    </tr>\n",
              "  </thead>\n",
              "  <tbody>\n",
              "    <tr>\n",
              "      <th rowspan=\"2\" valign=\"top\">Baking Goods</th>\n",
              "      <th>Low Fat</th>\n",
              "      <td>262</td>\n",
              "      <td>262</td>\n",
              "    </tr>\n",
              "    <tr>\n",
              "      <th>Regular</th>\n",
              "      <td>274</td>\n",
              "      <td>274</td>\n",
              "    </tr>\n",
              "    <tr>\n",
              "      <th rowspan=\"2\" valign=\"top\">Breads</th>\n",
              "      <th>Low Fat</th>\n",
              "      <td>113</td>\n",
              "      <td>113</td>\n",
              "    </tr>\n",
              "    <tr>\n",
              "      <th>Regular</th>\n",
              "      <td>91</td>\n",
              "      <td>91</td>\n",
              "    </tr>\n",
              "    <tr>\n",
              "      <th rowspan=\"2\" valign=\"top\">Breakfast</th>\n",
              "      <th>Low Fat</th>\n",
              "      <td>34</td>\n",
              "      <td>34</td>\n",
              "    </tr>\n",
              "    <tr>\n",
              "      <th>Regular</th>\n",
              "      <td>55</td>\n",
              "      <td>55</td>\n",
              "    </tr>\n",
              "    <tr>\n",
              "      <th rowspan=\"2\" valign=\"top\">Canned</th>\n",
              "      <th>Low Fat</th>\n",
              "      <td>286</td>\n",
              "      <td>286</td>\n",
              "    </tr>\n",
              "    <tr>\n",
              "      <th>Regular</th>\n",
              "      <td>253</td>\n",
              "      <td>253</td>\n",
              "    </tr>\n",
              "    <tr>\n",
              "      <th rowspan=\"2\" valign=\"top\">Dairy</th>\n",
              "      <th>Low Fat</th>\n",
              "      <td>354</td>\n",
              "      <td>354</td>\n",
              "    </tr>\n",
              "    <tr>\n",
              "      <th>Regular</th>\n",
              "      <td>212</td>\n",
              "      <td>212</td>\n",
              "    </tr>\n",
              "    <tr>\n",
              "      <th rowspan=\"2\" valign=\"top\">Frozen Foods</th>\n",
              "      <th>Low Fat</th>\n",
              "      <td>375</td>\n",
              "      <td>375</td>\n",
              "    </tr>\n",
              "    <tr>\n",
              "      <th>Regular</th>\n",
              "      <td>343</td>\n",
              "      <td>343</td>\n",
              "    </tr>\n",
              "    <tr>\n",
              "      <th rowspan=\"2\" valign=\"top\">Fruits and Vegetables</th>\n",
              "      <th>Low Fat</th>\n",
              "      <td>518</td>\n",
              "      <td>518</td>\n",
              "    </tr>\n",
              "    <tr>\n",
              "      <th>Regular</th>\n",
              "      <td>501</td>\n",
              "      <td>501</td>\n",
              "    </tr>\n",
              "    <tr>\n",
              "      <th>Hard Drinks</th>\n",
              "      <th>Low Fat</th>\n",
              "      <td>183</td>\n",
              "      <td>183</td>\n",
              "    </tr>\n",
              "    <tr>\n",
              "      <th>Health and Hygiene</th>\n",
              "      <th>Low Fat</th>\n",
              "      <td>430</td>\n",
              "      <td>430</td>\n",
              "    </tr>\n",
              "    <tr>\n",
              "      <th>Household</th>\n",
              "      <th>Low Fat</th>\n",
              "      <td>759</td>\n",
              "      <td>759</td>\n",
              "    </tr>\n",
              "    <tr>\n",
              "      <th rowspan=\"2\" valign=\"top\">Meat</th>\n",
              "      <th>Low Fat</th>\n",
              "      <td>132</td>\n",
              "      <td>132</td>\n",
              "    </tr>\n",
              "    <tr>\n",
              "      <th>Regular</th>\n",
              "      <td>205</td>\n",
              "      <td>205</td>\n",
              "    </tr>\n",
              "    <tr>\n",
              "      <th>Others</th>\n",
              "      <th>Low Fat</th>\n",
              "      <td>137</td>\n",
              "      <td>137</td>\n",
              "    </tr>\n",
              "    <tr>\n",
              "      <th rowspan=\"2\" valign=\"top\">Seafood</th>\n",
              "      <th>Low Fat</th>\n",
              "      <td>29</td>\n",
              "      <td>29</td>\n",
              "    </tr>\n",
              "    <tr>\n",
              "      <th>Regular</th>\n",
              "      <td>22</td>\n",
              "      <td>22</td>\n",
              "    </tr>\n",
              "    <tr>\n",
              "      <th rowspan=\"2\" valign=\"top\">Snack Foods</th>\n",
              "      <th>Low Fat</th>\n",
              "      <td>565</td>\n",
              "      <td>565</td>\n",
              "    </tr>\n",
              "    <tr>\n",
              "      <th>Regular</th>\n",
              "      <td>423</td>\n",
              "      <td>423</td>\n",
              "    </tr>\n",
              "    <tr>\n",
              "      <th rowspan=\"2\" valign=\"top\">Soft Drinks</th>\n",
              "      <th>Low Fat</th>\n",
              "      <td>315</td>\n",
              "      <td>315</td>\n",
              "    </tr>\n",
              "    <tr>\n",
              "      <th>Regular</th>\n",
              "      <td>59</td>\n",
              "      <td>59</td>\n",
              "    </tr>\n",
              "    <tr>\n",
              "      <th rowspan=\"2\" valign=\"top\">Starchy Foods</th>\n",
              "      <th>Low Fat</th>\n",
              "      <td>74</td>\n",
              "      <td>74</td>\n",
              "    </tr>\n",
              "    <tr>\n",
              "      <th>Regular</th>\n",
              "      <td>56</td>\n",
              "      <td>56</td>\n",
              "    </tr>\n",
              "  </tbody>\n",
              "</table>\n",
              "</div>"
            ],
            "text/plain": [
              "                                        Item_Weight  Item_MRP\n",
              "Item_Type             Item_Fat_Content                       \n",
              "Baking Goods          Low Fat                   262       262\n",
              "                      Regular                   274       274\n",
              "Breads                Low Fat                   113       113\n",
              "                      Regular                    91        91\n",
              "Breakfast             Low Fat                    34        34\n",
              "                      Regular                    55        55\n",
              "Canned                Low Fat                   286       286\n",
              "                      Regular                   253       253\n",
              "Dairy                 Low Fat                   354       354\n",
              "                      Regular                   212       212\n",
              "Frozen Foods          Low Fat                   375       375\n",
              "                      Regular                   343       343\n",
              "Fruits and Vegetables Low Fat                   518       518\n",
              "                      Regular                   501       501\n",
              "Hard Drinks           Low Fat                   183       183\n",
              "Health and Hygiene    Low Fat                   430       430\n",
              "Household             Low Fat                   759       759\n",
              "Meat                  Low Fat                   132       132\n",
              "                      Regular                   205       205\n",
              "Others                Low Fat                   137       137\n",
              "Seafood               Low Fat                    29        29\n",
              "                      Regular                    22        22\n",
              "Snack Foods           Low Fat                   565       565\n",
              "                      Regular                   423       423\n",
              "Soft Drinks           Low Fat                   315       315\n",
              "                      Regular                    59        59\n",
              "Starchy Foods         Low Fat                    74        74\n",
              "                      Regular                    56        56"
            ]
          },
          "metadata": {
            "tags": []
          },
          "execution_count": 40
        }
      ]
    },
    {
      "cell_type": "code",
      "metadata": {
        "colab": {
          "base_uri": "https://localhost:8080/"
        },
        "id": "Tf2pucJn-rYk",
        "outputId": "e58c8b29-3e33-457d-fe29-effc4c73dc0f"
      },
      "source": [
        "sales.groupby(['Item_Type'])['Item_Weight'].mean()"
      ],
      "execution_count": 41,
      "outputs": [
        {
          "output_type": "execute_result",
          "data": {
            "text/plain": [
              "Item_Type\n",
              "Baking Goods             12.277108\n",
              "Breads                   11.346936\n",
              "Breakfast                12.768202\n",
              "Canned                   12.305705\n",
              "Dairy                    13.426069\n",
              "Frozen Foods             12.867061\n",
              "Fruits and Vegetables    13.224769\n",
              "Hard Drinks              11.400328\n",
              "Health and Hygiene       13.142314\n",
              "Household                13.384736\n",
              "Meat                     12.817344\n",
              "Others                   13.853285\n",
              "Seafood                  12.552843\n",
              "Snack Foods              12.987880\n",
              "Soft Drinks              11.847460\n",
              "Starchy Foods            13.690731\n",
              "Name: Item_Weight, dtype: float64"
            ]
          },
          "metadata": {
            "tags": []
          },
          "execution_count": 41
        }
      ]
    },
    {
      "cell_type": "code",
      "metadata": {
        "colab": {
          "base_uri": "https://localhost:8080/"
        },
        "id": "Eupk3Q1o_rKB",
        "outputId": "7e24da8f-6555-443d-f5cd-341b06b6e513"
      },
      "source": [
        "sales.groupby(['Item_Type'])['Item_Weight'].max()"
      ],
      "execution_count": 42,
      "outputs": [
        {
          "output_type": "execute_result",
          "data": {
            "text/plain": [
              "Item_Type\n",
              "Baking Goods             20.85\n",
              "Breads                   20.85\n",
              "Breakfast                21.10\n",
              "Canned                   21.35\n",
              "Dairy                    20.70\n",
              "Frozen Foods             20.85\n",
              "Fruits and Vegetables    21.35\n",
              "Hard Drinks              19.70\n",
              "Health and Hygiene       21.25\n",
              "Household                21.25\n",
              "Meat                     21.25\n",
              "Others                   20.50\n",
              "Seafood                  20.75\n",
              "Snack Foods              21.25\n",
              "Soft Drinks              20.75\n",
              "Starchy Foods            21.20\n",
              "Name: Item_Weight, dtype: float64"
            ]
          },
          "metadata": {
            "tags": []
          },
          "execution_count": 42
        }
      ]
    },
    {
      "cell_type": "code",
      "metadata": {
        "colab": {
          "base_uri": "https://localhost:8080/"
        },
        "id": "89bapIJS_4WE",
        "outputId": "9416cad7-e171-4e3f-b3c6-446a5f24260f"
      },
      "source": [
        "print(sales.groupby(['Item_Type'])['Item_Weight'].min())"
      ],
      "execution_count": 43,
      "outputs": [
        {
          "output_type": "stream",
          "text": [
            "Item_Type\n",
            "Baking Goods             4.880\n",
            "Breads                   4.635\n",
            "Breakfast                6.425\n",
            "Canned                   4.615\n",
            "Dairy                    4.805\n",
            "Frozen Foods             4.555\n",
            "Fruits and Vegetables    5.460\n",
            "Hard Drinks              4.610\n",
            "Health and Hygiene       5.175\n",
            "Household                5.030\n",
            "Meat                     5.150\n",
            "Others                   5.500\n",
            "Seafood                  5.365\n",
            "Snack Foods              5.095\n",
            "Soft Drinks              4.590\n",
            "Starchy Foods            6.695\n",
            "Name: Item_Weight, dtype: float64\n"
          ],
          "name": "stdout"
        }
      ]
    },
    {
      "cell_type": "code",
      "metadata": {
        "colab": {
          "base_uri": "https://localhost:8080/"
        },
        "id": "RFfNnaV-J8yg",
        "outputId": "aab6d14b-a255-482f-fcd8-30f8bd30b0e2"
      },
      "source": [
        "sales.loc[weight_missing, 'Item_Identifier'].count()"
      ],
      "execution_count": 44,
      "outputs": [
        {
          "output_type": "execute_result",
          "data": {
            "text/plain": [
              "1463"
            ]
          },
          "metadata": {
            "tags": []
          },
          "execution_count": 44
        }
      ]
    },
    {
      "cell_type": "code",
      "metadata": {
        "colab": {
          "base_uri": "https://localhost:8080/"
        },
        "id": "nPiRvEYiOy-u",
        "outputId": "9c4ff695-ce15-4e24-e092-c80536ae92ab"
      },
      "source": [
        "sales.loc[weight_missing, 'Item_Identifier'].nunique()"
      ],
      "execution_count": 45,
      "outputs": [
        {
          "output_type": "execute_result",
          "data": {
            "text/plain": [
              "1142"
            ]
          },
          "metadata": {
            "tags": []
          },
          "execution_count": 45
        }
      ]
    },
    {
      "cell_type": "code",
      "metadata": {
        "colab": {
          "base_uri": "https://localhost:8080/"
        },
        "id": "enwOy6T0BUzf",
        "outputId": "70b7c9f9-9028-4184-b23e-f491033d4655"
      },
      "source": [
        "sales.groupby(['Item_Type', 'Item_Identifier'])['Item_Weight'].count()"
      ],
      "execution_count": 46,
      "outputs": [
        {
          "output_type": "execute_result",
          "data": {
            "text/plain": [
              "Item_Type      Item_Identifier\n",
              "Baking Goods   FDA11              4\n",
              "               FDA23              5\n",
              "               FDA35              3\n",
              "               FDA36              2\n",
              "               FDA47              5\n",
              "                                 ..\n",
              "Starchy Foods  FDG59              5\n",
              "               FDH35              5\n",
              "               FDH47              6\n",
              "               FDI35              3\n",
              "               FDZ34              3\n",
              "Name: Item_Weight, Length: 1559, dtype: int64"
            ]
          },
          "metadata": {
            "tags": []
          },
          "execution_count": 46
        }
      ]
    },
    {
      "cell_type": "code",
      "metadata": {
        "colab": {
          "base_uri": "https://localhost:8080/"
        },
        "id": "CwMQqOYRFNJY",
        "outputId": "f53b98c7-b2bc-4c82-ccad-184bbf2718e3"
      },
      "source": [
        "# Found 2 of the NAN values that share a Type ID with 8 others. Easy to know\n",
        "# these weights are specific to this Type ID\n",
        "\n",
        "typeID_FDW13 = sales['Item_Identifier'] == 'FDW13'\n",
        "\n",
        "sales['Item_Weight'][typeID_FDW13].fillna(8.5)"
      ],
      "execution_count": 47,
      "outputs": [
        {
          "output_type": "execute_result",
          "data": {
            "text/plain": [
              "256     8.5\n",
              "1141    8.5\n",
              "2190    8.5\n",
              "3928    8.5\n",
              "3978    8.5\n",
              "6499    8.5\n",
              "6587    8.5\n",
              "7029    8.5\n",
              "8025    8.5\n",
              "8032    8.5\n",
              "Name: Item_Weight, dtype: float64"
            ]
          },
          "metadata": {
            "tags": []
          },
          "execution_count": 47
        }
      ]
    },
    {
      "cell_type": "markdown",
      "metadata": {
        "id": "MLDFncyRvIWZ"
      },
      "source": [
        "I have no idea how to make these values apply. I tried renaming the dataframe, but it not work. I also tried creating a function, but I obviously still have no idea how to work with those. Either way, I will be moving on from this strategy and filling in all missing values by either creating another category or by imputing the \"best fit\" for that column."
      ]
    },
    {
      "cell_type": "code",
      "metadata": {
        "id": "WTbDHx77Kpkr"
      },
      "source": [
        "sales['Outlet_Size'].fillna('Not Specified', inplace=True)"
      ],
      "execution_count": 48,
      "outputs": []
    },
    {
      "cell_type": "code",
      "metadata": {
        "colab": {
          "base_uri": "https://localhost:8080/"
        },
        "id": "5hZJ8A3zLgBl",
        "outputId": "d9fd496c-5639-43fa-c31a-a185a4cd99ff"
      },
      "source": [
        "sales['Outlet_Size'].value_counts()"
      ],
      "execution_count": 49,
      "outputs": [
        {
          "output_type": "execute_result",
          "data": {
            "text/plain": [
              "Medium           2793\n",
              "Not Specified    2410\n",
              "Small            2388\n",
              "High              932\n",
              "Name: Outlet_Size, dtype: int64"
            ]
          },
          "metadata": {
            "tags": []
          },
          "execution_count": 49
        }
      ]
    },
    {
      "cell_type": "code",
      "metadata": {
        "id": "Zh8B9oxRv4WI"
      },
      "source": [
        "sales['Item_Weight'].fillna(0.000, inplace=True)"
      ],
      "execution_count": 50,
      "outputs": []
    },
    {
      "cell_type": "code",
      "metadata": {
        "colab": {
          "base_uri": "https://localhost:8080/"
        },
        "id": "F7LJ2pE3PnYw",
        "outputId": "592a2bd8-31b0-4635-ef9e-357029502fee"
      },
      "source": [
        "sales['Item_Weight'].value_counts()"
      ],
      "execution_count": 51,
      "outputs": [
        {
          "output_type": "execute_result",
          "data": {
            "text/plain": [
              "0.000     1463\n",
              "12.150      86\n",
              "17.600      82\n",
              "13.650      77\n",
              "11.800      76\n",
              "          ... \n",
              "5.675        2\n",
              "9.420        1\n",
              "6.520        1\n",
              "7.685        1\n",
              "5.400        1\n",
              "Name: Item_Weight, Length: 416, dtype: int64"
            ]
          },
          "metadata": {
            "tags": []
          },
          "execution_count": 51
        }
      ]
    },
    {
      "cell_type": "code",
      "metadata": {
        "colab": {
          "base_uri": "https://localhost:8080/"
        },
        "id": "xlz3dGRsP-pw",
        "outputId": "af07ec3e-fc30-48c6-cd7d-ac6cac1b3667"
      },
      "source": [
        "sales.isnull().sum()"
      ],
      "execution_count": 52,
      "outputs": [
        {
          "output_type": "execute_result",
          "data": {
            "text/plain": [
              "Item_Identifier              0\n",
              "Item_Weight                  0\n",
              "Item_Fat_Content             0\n",
              "Item_Type                    0\n",
              "Item_MRP                     0\n",
              "Outlet_Identifier            0\n",
              "Outlet_Establishment_Year    0\n",
              "Outlet_Size                  0\n",
              "Outlet_Location_Type         0\n",
              "Outlet_Type                  0\n",
              "Item_Outlet_Sales            0\n",
              "dtype: int64"
            ]
          },
          "metadata": {
            "tags": []
          },
          "execution_count": 52
        }
      ]
    },
    {
      "cell_type": "markdown",
      "metadata": {
        "id": "D2RaEQjgXc0H"
      },
      "source": [
        "## Removing Unwanted Data Observations"
      ]
    },
    {
      "cell_type": "code",
      "metadata": {
        "id": "JEJLUdXYTMJU",
        "colab": {
          "base_uri": "https://localhost:8080/"
        },
        "outputId": "6e53db57-db34-4e57-947a-aa7979515744"
      },
      "source": [
        "# Checking for duplicates\n",
        "\n",
        "sales.duplicated().any()"
      ],
      "execution_count": 53,
      "outputs": [
        {
          "output_type": "execute_result",
          "data": {
            "text/plain": [
              "False"
            ]
          },
          "metadata": {
            "tags": []
          },
          "execution_count": 53
        }
      ]
    },
    {
      "cell_type": "markdown",
      "metadata": {
        "id": "kHo3B2T77cd9"
      },
      "source": [
        "# Part 3"
      ]
    },
    {
      "cell_type": "code",
      "metadata": {
        "id": "bKhxX0nyTa4j"
      },
      "source": [
        "import matplotlib.pyplot as plt\n",
        "import numpy as np\n",
        "import seaborn as sns"
      ],
      "execution_count": 54,
      "outputs": []
    },
    {
      "cell_type": "code",
      "metadata": {
        "id": "P0aFATvXYG-g",
        "colab": {
          "base_uri": "https://localhost:8080/"
        },
        "outputId": "6679d9cb-7aaa-48a8-cabf-718bedb89b39"
      },
      "source": [
        "uniqueItems = sales.groupby(['Outlet_Establishment_Year'])['Outlet_Identifier'].nunique()\n",
        "\n",
        "uniqueItems"
      ],
      "execution_count": 55,
      "outputs": [
        {
          "output_type": "execute_result",
          "data": {
            "text/plain": [
              "Outlet_Establishment_Year\n",
              "1985    2\n",
              "1987    1\n",
              "1997    1\n",
              "1998    1\n",
              "1999    1\n",
              "2002    1\n",
              "2004    1\n",
              "2007    1\n",
              "2009    1\n",
              "Name: Outlet_Identifier, dtype: int64"
            ]
          },
          "metadata": {
            "tags": []
          },
          "execution_count": 55
        }
      ]
    },
    {
      "cell_type": "code",
      "metadata": {
        "id": "521EWnipat9D",
        "colab": {
          "base_uri": "https://localhost:8080/",
          "height": 300
        },
        "outputId": "4d0265b6-50fa-4ca7-d747-921457b3123e"
      },
      "source": [
        "plt.bar(uniqueItems.index, uniqueItems.values)\n",
        "plt.yticks(np.arange(3), [0, 1, 2])\n",
        "plt.title('Number of Outlets Established by Year', fontsize = 16)\n",
        "plt.ylabel('Count', fontsize= 13)\n",
        "plt.xlabel('Year of Establishment', fontsize = 13);"
      ],
      "execution_count": 56,
      "outputs": [
        {
          "output_type": "display_data",
          "data": {
            "image/png": "[encoded data removed]",
            "text/plain": [
              "<Figure size 432x288 with 1 Axes>"
            ]
          },
          "metadata": {
            "tags": [],
            "needs_background": "light"
          }
        }
      ]
    },
    {
      "cell_type": "code",
      "metadata": {
        "colab": {
          "base_uri": "https://localhost:8080/"
        },
        "id": "TEonY0G_XXEc",
        "outputId": "5c545d87-4183-47a8-f3d2-03afb89b5541"
      },
      "source": [
        "itemsSold = sales.groupby(['Outlet_Establishment_Year', 'Outlet_Identifier'])['Item_Identifier'].nunique()\n",
        "\n",
        "itemsSold"
      ],
      "execution_count": 57,
      "outputs": [
        {
          "output_type": "execute_result",
          "data": {
            "text/plain": [
              "Outlet_Establishment_Year  Outlet_Identifier\n",
              "1985                       OUT019               528\n",
              "                           OUT027               935\n",
              "1987                       OUT013               932\n",
              "1997                       OUT046               930\n",
              "1998                       OUT010               555\n",
              "1999                       OUT049               930\n",
              "2002                       OUT045               929\n",
              "2004                       OUT035               930\n",
              "2007                       OUT017               926\n",
              "2009                       OUT018               928\n",
              "Name: Item_Identifier, dtype: int64"
            ]
          },
          "metadata": {
            "tags": []
          },
          "execution_count": 57
        }
      ]
    },
    {
      "cell_type": "code",
      "metadata": {
        "colab": {
          "base_uri": "https://localhost:8080/"
        },
        "id": "wXVfP2BUSetK",
        "outputId": "f8b5eebb-15f3-46ed-905a-41cdd47fd6fa"
      },
      "source": [
        "soldbyOutlet = itemsSold.index.droplevel(level=0)\n",
        "\n",
        "soldbyOutlet"
      ],
      "execution_count": 58,
      "outputs": [
        {
          "output_type": "execute_result",
          "data": {
            "text/plain": [
              "Index(['OUT019', 'OUT027', 'OUT013', 'OUT046', 'OUT010', 'OUT049', 'OUT045',\n",
              "       'OUT035', 'OUT017', 'OUT018'],\n",
              "      dtype='object', name='Outlet_Identifier')"
            ]
          },
          "metadata": {
            "tags": []
          },
          "execution_count": 58
        }
      ]
    },
    {
      "cell_type": "code",
      "metadata": {
        "id": "frsdgwtnffS9",
        "colab": {
          "base_uri": "https://localhost:8080/"
        },
        "outputId": "0b4d89be-477b-4db0-8f64-e54914692a9a"
      },
      "source": [
        "itemsSold.values"
      ],
      "execution_count": 59,
      "outputs": [
        {
          "output_type": "execute_result",
          "data": {
            "text/plain": [
              "array([528, 935, 932, 930, 555, 930, 929, 930, 926, 928])"
            ]
          },
          "metadata": {
            "tags": []
          },
          "execution_count": 59
        }
      ]
    },
    {
      "cell_type": "code",
      "metadata": {
        "id": "iGA62RRhjhO5",
        "colab": {
          "base_uri": "https://localhost:8080/",
          "height": 332
        },
        "outputId": "47b7649a-4a48-41c9-894d-1e5da2d63d73"
      },
      "source": [
        "sns.barplot(x = soldbyOutlet, y = itemsSold.values)\n",
        "plt.xticks(rotation= 90);\n",
        "plt.title('Number of Items Sold by Outlet', fontsize = 18)\n",
        "plt.xlabel('Outlet Identifier', fontsize = 15)\n",
        "plt.xlabel('(in order of Year Established 1985-2009)', fontsize = 13)\n",
        "plt.ylabel('Total', fontsize = 15);"
      ],
      "execution_count": 60,
      "outputs": [
        {
          "output_type": "display_data",
          "data": {
            "image/png": "[encoded data removed]",
            "text/plain": [
              "<Figure size 432x288 with 1 Axes>"
            ]
          },
          "metadata": {
            "tags": [],
            "needs_background": "light"
          }
        }
      ]
    },
    {
      "cell_type": "code",
      "metadata": {
        "colab": {
          "base_uri": "https://localhost:8080/"
        },
        "id": "CQpv-M4CUteW",
        "outputId": "ba5bdf81-2538-4a01-a470-fbdb9dcc11c6"
      },
      "source": [
        "salesbyLocation = sales.groupby(['Outlet_Location_Type'])['Item_Outlet_Sales'].mean()\n",
        "\n",
        "salesbyLocation"
      ],
      "execution_count": 61,
      "outputs": [
        {
          "output_type": "execute_result",
          "data": {
            "text/plain": [
              "Outlet_Location_Type\n",
              "Tier 1    1876.909159\n",
              "Tier 2    2323.990559\n",
              "Tier 3    2279.627651\n",
              "Name: Item_Outlet_Sales, dtype: float64"
            ]
          },
          "metadata": {
            "tags": []
          },
          "execution_count": 61
        }
      ]
    },
    {
      "cell_type": "code",
      "metadata": {
        "colab": {
          "base_uri": "https://localhost:8080/",
          "height": 297
        },
        "id": "74YkWKLrZBtW",
        "outputId": "5d1ada5a-94cf-495e-b11a-1314aa555f33"
      },
      "source": [
        "plt.bar(salesbyLocation.index, salesbyLocation.values);\n",
        "plt.title('Sales by Location', fontsize = 16)\n",
        "plt.xlabel('Outlet Location Tier')\n",
        "plt.ylabel('Total Sales');"
      ],
      "execution_count": 62,
      "outputs": [
        {
          "output_type": "display_data",
          "data": {
            "image/png": "[encoded data removed]",
            "text/plain": [
              "<Figure size 432x288 with 1 Axes>"
            ]
          },
          "metadata": {
            "tags": [],
            "needs_background": "light"
          }
        }
      ]
    },
    {
      "cell_type": "markdown",
      "metadata": {
        "id": "b9iD8hPs6PJS"
      },
      "source": [
        "# Part 4"
      ]
    },
    {
      "cell_type": "code",
      "metadata": {
        "id": "iWzbVl56Zpu5",
        "colab": {
          "base_uri": "https://localhost:8080/"
        },
        "outputId": "b3bcf695-faa1-42b1-923d-60355719f751"
      },
      "source": [
        "sales.info()"
      ],
      "execution_count": 63,
      "outputs": [
        {
          "output_type": "stream",
          "text": [
            "<class 'pandas.core.frame.DataFrame'>\n",
            "RangeIndex: 8523 entries, 0 to 8522\n",
            "Data columns (total 11 columns):\n",
            " #   Column                     Non-Null Count  Dtype  \n",
            "---  ------                     --------------  -----  \n",
            " 0   Item_Identifier            8523 non-null   object \n",
            " 1   Item_Weight                8523 non-null   float64\n",
            " 2   Item_Fat_Content           8523 non-null   object \n",
            " 3   Item_Type                  8523 non-null   object \n",
            " 4   Item_MRP                   8523 non-null   float64\n",
            " 5   Outlet_Identifier          8523 non-null   object \n",
            " 6   Outlet_Establishment_Year  8523 non-null   int64  \n",
            " 7   Outlet_Size                8523 non-null   object \n",
            " 8   Outlet_Location_Type       8523 non-null   object \n",
            " 9   Outlet_Type                8523 non-null   object \n",
            " 10  Item_Outlet_Sales          8523 non-null   float64\n",
            "dtypes: float64(3), int64(1), object(7)\n",
            "memory usage: 732.6+ KB\n"
          ],
          "name": "stdout"
        }
      ]
    },
    {
      "cell_type": "code",
      "metadata": {
        "id": "_IGS6OUk6YlZ",
        "colab": {
          "base_uri": "https://localhost:8080/",
          "height": 393
        },
        "outputId": "127fbd48-35f4-4f5a-e703-72d27130184d"
      },
      "source": [
        "plt.style.use('seaborn-muted')\n",
        "plt.figure(figsize = (9,6))\n",
        "sales['Item_MRP'].hist(bins = 30, color='#77AC30', edgecolor='white');\n",
        "plt.xlim(left = 0, right = 275)\n",
        "plt.ylim(top=475)\n",
        "plt.xlabel('MRP', fontsize = 16)\n",
        "plt.ylabel('Number of Items at MRP', fontsize = 16)\n",
        "plt.grid(axis = 'x')"
      ],
      "execution_count": 64,
      "outputs": [
        {
          "output_type": "display_data",
          "data": {
            "image/png": "[encoded data removed]",
            "text/plain": [
              "<Figure size 648x432 with 1 Axes>"
            ]
          },
          "metadata": {
            "tags": [],
            "needs_background": "light"
          }
        }
      ]
    },
    {
      "cell_type": "code",
      "metadata": {
        "id": "LW0dKDER6w9X",
        "colab": {
          "base_uri": "https://localhost:8080/"
        },
        "outputId": "b60d4af8-1db6-4903-deb0-5d427332b32e"
      },
      "source": [
        "plt.style.available"
      ],
      "execution_count": 65,
      "outputs": [
        {
          "output_type": "execute_result",
          "data": {
            "text/plain": [
              "['Solarize_Light2',\n",
              " '_classic_test_patch',\n",
              " 'bmh',\n",
              " 'classic',\n",
              " 'dark_background',\n",
              " 'fast',\n",
              " 'fivethirtyeight',\n",
              " 'ggplot',\n",
              " 'grayscale',\n",
              " 'seaborn',\n",
              " 'seaborn-bright',\n",
              " 'seaborn-colorblind',\n",
              " 'seaborn-dark',\n",
              " 'seaborn-dark-palette',\n",
              " 'seaborn-darkgrid',\n",
              " 'seaborn-deep',\n",
              " 'seaborn-muted',\n",
              " 'seaborn-notebook',\n",
              " 'seaborn-paper',\n",
              " 'seaborn-pastel',\n",
              " 'seaborn-poster',\n",
              " 'seaborn-talk',\n",
              " 'seaborn-ticks',\n",
              " 'seaborn-white',\n",
              " 'seaborn-whitegrid',\n",
              " 'tableau-colorblind10']"
            ]
          },
          "metadata": {
            "tags": []
          },
          "execution_count": 65
        }
      ]
    },
    {
      "cell_type": "code",
      "metadata": {
        "id": "1LIWqvLmCgwM",
        "colab": {
          "base_uri": "https://localhost:8080/"
        },
        "outputId": "618dac8b-ba77-4269-bf9e-a04206ee6717"
      },
      "source": [
        "sales.info()"
      ],
      "execution_count": 66,
      "outputs": [
        {
          "output_type": "stream",
          "text": [
            "<class 'pandas.core.frame.DataFrame'>\n",
            "RangeIndex: 8523 entries, 0 to 8522\n",
            "Data columns (total 11 columns):\n",
            " #   Column                     Non-Null Count  Dtype  \n",
            "---  ------                     --------------  -----  \n",
            " 0   Item_Identifier            8523 non-null   object \n",
            " 1   Item_Weight                8523 non-null   float64\n",
            " 2   Item_Fat_Content           8523 non-null   object \n",
            " 3   Item_Type                  8523 non-null   object \n",
            " 4   Item_MRP                   8523 non-null   float64\n",
            " 5   Outlet_Identifier          8523 non-null   object \n",
            " 6   Outlet_Establishment_Year  8523 non-null   int64  \n",
            " 7   Outlet_Size                8523 non-null   object \n",
            " 8   Outlet_Location_Type       8523 non-null   object \n",
            " 9   Outlet_Type                8523 non-null   object \n",
            " 10  Item_Outlet_Sales          8523 non-null   float64\n",
            "dtypes: float64(3), int64(1), object(7)\n",
            "memory usage: 732.6+ KB\n"
          ],
          "name": "stdout"
        }
      ]
    },
    {
      "cell_type": "code",
      "metadata": {
        "id": "c1v6uMLyCBFL",
        "colab": {
          "base_uri": "https://localhost:8080/"
        },
        "outputId": "958d26f6-9f65-49b9-cbe4-39221ae70d43"
      },
      "source": [
        "sales['Outlet_Size'].value_counts()"
      ],
      "execution_count": 67,
      "outputs": [
        {
          "output_type": "execute_result",
          "data": {
            "text/plain": [
              "Medium           2793\n",
              "Not Specified    2410\n",
              "Small            2388\n",
              "High              932\n",
              "Name: Outlet_Size, dtype: int64"
            ]
          },
          "metadata": {
            "tags": []
          },
          "execution_count": 67
        }
      ]
    },
    {
      "cell_type": "code",
      "metadata": {
        "id": "VF7hmuAs73KL",
        "colab": {
          "base_uri": "https://localhost:8080/",
          "height": 497
        },
        "outputId": "c43da620-aec8-4b0e-f319-e0a011ed83c8"
      },
      "source": [
        "plt.style.use('seaborn-talk')\n",
        "small = sales.loc[sales['Outlet_Size']=='Small', 'Item_Outlet_Sales'].values\n",
        "medium = sales.loc[sales['Outlet_Size']=='Medium', 'Item_Outlet_Sales'].values\n",
        "high = sales.loc[sales['Outlet_Size']=='High', 'Item_Outlet_Sales'].values\n",
        "plt.boxplot([small, medium, high], labels=['Smaller', 'Medium', 'Larger']);"
      ],
      "execution_count": 68,
      "outputs": [
        {
          "output_type": "stream",
          "text": [
            "/usr/local/lib/python3.7/dist-packages/numpy/core/_asarray.py:83: VisibleDeprecationWarning: Creating an ndarray from ragged nested sequences (which is a list-or-tuple of lists-or-tuples-or ndarrays with different lengths or shapes) is deprecated. If you meant to do this, you must specify 'dtype=object' when creating the ndarray\n",
            "  return array(a, dtype, copy=False, order=order)\n"
          ],
          "name": "stderr"
        },
        {
          "output_type": "display_data",
          "data": {
            "image/png": "[encoded data removed]",
            "text/plain": [
              "<Figure size 748.8x514.8 with 1 Axes>"
            ]
          },
          "metadata": {
            "tags": [],
            "needs_background": "light"
          }
        }
      ]
    },
    {
      "cell_type": "code",
      "metadata": {
        "id": "dL_lZ4AaDVr6",
        "colab": {
          "base_uri": "https://localhost:8080/",
          "height": 450
        },
        "outputId": "ab673fb0-f6cc-4239-b7cc-81c870bcf75b"
      },
      "source": [
        "sns.boxplot(x= 'Outlet_Size', y= 'Item_Outlet_Sales',  data= sales)\n",
        "plt.ylabel('Outlet Sales by Item', fontsize=16)\n",
        "plt.xlabel('Outlet Sales by Size', fontsize = 16);"
      ],
      "execution_count": 69,
      "outputs": [
        {
          "output_type": "display_data",
          "data": {
            "image/png": "[encoded data removed]",
            "text/plain": [
              "<Figure size 748.8x514.8 with 1 Axes>"
            ]
          },
          "metadata": {
            "tags": [],
            "needs_background": "light"
          }
        }
      ]
    },
    {
      "cell_type": "code",
      "metadata": {
        "id": "Lho73-Z7EE6B",
        "colab": {
          "base_uri": "https://localhost:8080/",
          "height": 466
        },
        "outputId": "f9557250-5761-440f-b50f-1acf26579515"
      },
      "source": [
        "# The only true correlation is between the item MRP and the item sales. Makes sense\n",
        "corr = sales.corr()\n",
        "\n",
        "sns.heatmap(corr, cmap= 'Pastel2', annot =True);\n",
        "plt.xticks(np.array([0.3,1.3,2,3.2]), rotation=30);"
      ],
      "execution_count": 70,
      "outputs": [
        {
          "output_type": "display_data",
          "data": {
            "image/png": "[encoded data removed]",
            "text/plain": [
              "<Figure size 748.8x514.8 with 2 Axes>"
            ]
          },
          "metadata": {
            "tags": [],
            "needs_background": "light"
          }
        }
      ]
    },
    {
      "cell_type": "code",
      "metadata": {
        "id": "sCMcxdNNGE9N",
        "colab": {
          "base_uri": "https://localhost:8080/",
          "height": 466
        },
        "outputId": "045e4fbc-9a71-4c70-e778-e2655df1f439"
      },
      "source": [
        "# The next 3 heat maps will be based on the size of the Outlet\n",
        "# filtering will be done in order from smallest sq footage to highest\n",
        "\n",
        "sm_filter = sales.loc[sales['Outlet_Size']=='Small', :]\n",
        "sm_filter = sm_filter.corr()\n",
        "\n",
        "sns.heatmap(sm_filter, cmap = 'Purples', annot=True);\n",
        "plt.xticks(np.array([0.3,1.3,2,3.2]), rotation=30);"
      ],
      "execution_count": 71,
      "outputs": [
        {
          "output_type": "display_data",
          "data": {
            "image/png": "[encoded data removed]",
            "text/plain": [
              "<Figure size 748.8x514.8 with 2 Axes>"
            ]
          },
          "metadata": {
            "tags": [],
            "needs_background": "light"
          }
        }
      ]
    },
    {
      "cell_type": "code",
      "metadata": {
        "id": "_DsHVbtwHQRs",
        "colab": {
          "base_uri": "https://localhost:8080/",
          "height": 590
        },
        "outputId": "a457f03e-3745-4c59-9ed2-615791b454ec"
      },
      "source": [
        "md_filter = sales.loc[sales['Outlet_Size']=='Medium', :]\n",
        "md_filter = md_filter.corr()\n",
        "\n",
        "sns.heatmap(md_filter, cmap = 'Reds', annot=True);\n",
        "plt.xticks([0.3,1.3,2,3.2], ['Item Weight', 'Item MRP', 'Outlet Establishment Year', 'Item Outlet Sales'], rotation=30)"
      ],
      "execution_count": 72,
      "outputs": [
        {
          "output_type": "execute_result",
          "data": {
            "text/plain": [
              "([<matplotlib.axis.XTick at 0x7fb9e23383d0>,\n",
              "  <matplotlib.axis.XTick at 0x7fb9e2338390>,\n",
              "  <matplotlib.axis.XTick at 0x7fb9e229d650>,\n",
              "  <matplotlib.axis.XTick at 0x7fb9e22a3990>],\n",
              " [Text(0.5, 0, 'Item Weight'),\n",
              "  Text(1.5, 0, 'Item MRP'),\n",
              "  Text(2.5, 0, 'Outlet Establishment Year'),\n",
              "  Text(3.5, 0, 'Item Outlet Sales')])"
            ]
          },
          "metadata": {
            "tags": []
          },
          "execution_count": 72
        },
        {
          "output_type": "display_data",
          "data": {
            "image/png": "[encoded data removed]",
            "text/plain": [
              "<Figure size 748.8x514.8 with 2 Axes>"
            ]
          },
          "metadata": {
            "tags": [],
            "needs_background": "light"
          }
        }
      ]
    },
    {
      "cell_type": "code",
      "metadata": {
        "id": "XzGNvHCEHm7E",
        "colab": {
          "base_uri": "https://localhost:8080/",
          "height": 438
        },
        "outputId": "8b921eef-c0cf-4f49-f1ae-3c26e2a1f711"
      },
      "source": [
        "lg_filter = sales.loc[sales['Outlet_Size']=='High', ['Item_Weight', 'Item_MRP', 'Item_Outlet_Sales']]\n",
        "lg_filter = lg_filter.corr()\n",
        "\n",
        "sns.heatmap(lg_filter, cmap = 'copper_r', annot=True);\n",
        "plt.yticks(rotation=360)"
      ],
      "execution_count": 73,
      "outputs": [
        {
          "output_type": "execute_result",
          "data": {
            "text/plain": [
              "(array([0.5, 1.5, 2.5]), <a list of 3 Text major ticklabel objects>)"
            ]
          },
          "metadata": {
            "tags": []
          },
          "execution_count": 73
        },
        {
          "output_type": "display_data",
          "data": {
            "image/png": "[encoded data removed]",
            "text/plain": [
              "<Figure size 748.8x514.8 with 2 Axes>"
            ]
          },
          "metadata": {
            "tags": [],
            "needs_background": "light"
          }
        }
      ]
    },
    {
      "cell_type": "markdown",
      "metadata": {
        "id": "gCexfOAvmlqJ"
      },
      "source": [
        "# Part 5"
      ]
    },
    {
      "cell_type": "code",
      "metadata": {
        "id": "ku0-QQOTkfZ3"
      },
      "source": [
        "from sklearn.linear_model import LinearRegression\n",
        "from sklearn.neighbors import KNeighborsRegressor\n",
        "from sklearn.preprocessing import StandardScaler\n",
        "from sklearn.metrics import r2_score, mean_squared_error, mean_absolute_error"
      ],
      "execution_count": 74,
      "outputs": []
    },
    {
      "cell_type": "code",
      "metadata": {
        "id": "qOtSofNKH9cz",
        "colab": {
          "base_uri": "https://localhost:8080/"
        },
        "outputId": "567922f6-439e-4c12-87fa-b6ab6c45daa2"
      },
      "source": [
        "sales.info()"
      ],
      "execution_count": 75,
      "outputs": [
        {
          "output_type": "stream",
          "text": [
            "<class 'pandas.core.frame.DataFrame'>\n",
            "RangeIndex: 8523 entries, 0 to 8522\n",
            "Data columns (total 11 columns):\n",
            " #   Column                     Non-Null Count  Dtype  \n",
            "---  ------                     --------------  -----  \n",
            " 0   Item_Identifier            8523 non-null   object \n",
            " 1   Item_Weight                8523 non-null   float64\n",
            " 2   Item_Fat_Content           8523 non-null   object \n",
            " 3   Item_Type                  8523 non-null   object \n",
            " 4   Item_MRP                   8523 non-null   float64\n",
            " 5   Outlet_Identifier          8523 non-null   object \n",
            " 6   Outlet_Establishment_Year  8523 non-null   int64  \n",
            " 7   Outlet_Size                8523 non-null   object \n",
            " 8   Outlet_Location_Type       8523 non-null   object \n",
            " 9   Outlet_Type                8523 non-null   object \n",
            " 10  Item_Outlet_Sales          8523 non-null   float64\n",
            "dtypes: float64(3), int64(1), object(7)\n",
            "memory usage: 732.6+ KB\n"
          ],
          "name": "stdout"
        }
      ]
    },
    {
      "cell_type": "code",
      "metadata": {
        "id": "oq6be8Dcmre0",
        "colab": {
          "base_uri": "https://localhost:8080/"
        },
        "outputId": "65ec17ad-3332-4b40-8055-917c2954b29c"
      },
      "source": [
        "sales['Outlet_Size'].value_counts()"
      ],
      "execution_count": 76,
      "outputs": [
        {
          "output_type": "execute_result",
          "data": {
            "text/plain": [
              "Medium           2793\n",
              "Not Specified    2410\n",
              "Small            2388\n",
              "High              932\n",
              "Name: Outlet_Size, dtype: int64"
            ]
          },
          "metadata": {
            "tags": []
          },
          "execution_count": 76
        }
      ]
    },
    {
      "cell_type": "code",
      "metadata": {
        "id": "SBZ-ifo-nb_w",
        "colab": {
          "base_uri": "https://localhost:8080/",
          "height": 307
        },
        "outputId": "769f6925-bc95-46d4-d8c1-fb6853faff1e"
      },
      "source": [
        "# Outlet_Size is ordinal so I am replacing the store sizes with numbered columns.\n",
        "# For now I am keeping the Not Specified data as it's a substantial portion of this\n",
        "# ths columns data. I don't want to rid of this column because I believe this column\n",
        "# in terms of predicting individual item sales. However, it's possible the Outlet_Identifier\n",
        "# is a sufficient replacement for the outlet size column.\n",
        "\n",
        "mod_sales = sales\n",
        "mod_sales['Outlet_Size'] = sales['Outlet_Size'].replace({'Not Specified' : 0,\n",
        "                                                     'Small' : 1,\n",
        "                                                     'Medium' : 2,\n",
        "                                                     'High' : 3})\n",
        "mod_sales.head()"
      ],
      "execution_count": 77,
      "outputs": [
        {
          "output_type": "execute_result",
          "data": {
            "text/html": [
              "<div>\n",
              "<style scoped>\n",
              "    .dataframe tbody tr th:only-of-type {\n",
              "        vertical-align: middle;\n",
              "    }\n",
              "\n",
              "    .dataframe tbody tr th {\n",
              "        vertical-align: top;\n",
              "    }\n",
              "\n",
              "    .dataframe thead th {\n",
              "        text-align: right;\n",
              "    }\n",
              "</style>\n",
              "<table border=\"1\" class=\"dataframe\">\n",
              "  <thead>\n",
              "    <tr style=\"text-align: right;\">\n",
              "      <th></th>\n",
              "      <th>Item_Identifier</th>\n",
              "      <th>Item_Weight</th>\n",
              "      <th>Item_Fat_Content</th>\n",
              "      <th>Item_Type</th>\n",
              "      <th>Item_MRP</th>\n",
              "      <th>Outlet_Identifier</th>\n",
              "      <th>Outlet_Establishment_Year</th>\n",
              "      <th>Outlet_Size</th>\n",
              "      <th>Outlet_Location_Type</th>\n",
              "      <th>Outlet_Type</th>\n",
              "      <th>Item_Outlet_Sales</th>\n",
              "    </tr>\n",
              "  </thead>\n",
              "  <tbody>\n",
              "    <tr>\n",
              "      <th>0</th>\n",
              "      <td>FDA15</td>\n",
              "      <td>9.30</td>\n",
              "      <td>Low Fat</td>\n",
              "      <td>Dairy</td>\n",
              "      <td>249.8092</td>\n",
              "      <td>OUT049</td>\n",
              "      <td>1999</td>\n",
              "      <td>2</td>\n",
              "      <td>Tier 1</td>\n",
              "      <td>Supermarket Type1</td>\n",
              "      <td>3735.1380</td>\n",
              "    </tr>\n",
              "    <tr>\n",
              "      <th>1</th>\n",
              "      <td>DRC01</td>\n",
              "      <td>5.92</td>\n",
              "      <td>Regular</td>\n",
              "      <td>Soft Drinks</td>\n",
              "      <td>48.2692</td>\n",
              "      <td>OUT018</td>\n",
              "      <td>2009</td>\n",
              "      <td>2</td>\n",
              "      <td>Tier 3</td>\n",
              "      <td>Supermarket Type2</td>\n",
              "      <td>443.4228</td>\n",
              "    </tr>\n",
              "    <tr>\n",
              "      <th>2</th>\n",
              "      <td>FDN15</td>\n",
              "      <td>17.50</td>\n",
              "      <td>Low Fat</td>\n",
              "      <td>Meat</td>\n",
              "      <td>141.6180</td>\n",
              "      <td>OUT049</td>\n",
              "      <td>1999</td>\n",
              "      <td>2</td>\n",
              "      <td>Tier 1</td>\n",
              "      <td>Supermarket Type1</td>\n",
              "      <td>2097.2700</td>\n",
              "    </tr>\n",
              "    <tr>\n",
              "      <th>3</th>\n",
              "      <td>FDX07</td>\n",
              "      <td>19.20</td>\n",
              "      <td>Regular</td>\n",
              "      <td>Fruits and Vegetables</td>\n",
              "      <td>182.0950</td>\n",
              "      <td>OUT010</td>\n",
              "      <td>1998</td>\n",
              "      <td>0</td>\n",
              "      <td>Tier 3</td>\n",
              "      <td>Grocery Store</td>\n",
              "      <td>732.3800</td>\n",
              "    </tr>\n",
              "    <tr>\n",
              "      <th>4</th>\n",
              "      <td>NCD19</td>\n",
              "      <td>8.93</td>\n",
              "      <td>Low Fat</td>\n",
              "      <td>Household</td>\n",
              "      <td>53.8614</td>\n",
              "      <td>OUT013</td>\n",
              "      <td>1987</td>\n",
              "      <td>3</td>\n",
              "      <td>Tier 3</td>\n",
              "      <td>Supermarket Type1</td>\n",
              "      <td>994.7052</td>\n",
              "    </tr>\n",
              "  </tbody>\n",
              "</table>\n",
              "</div>"
            ],
            "text/plain": [
              "  Item_Identifier  Item_Weight  ...        Outlet_Type Item_Outlet_Sales\n",
              "0           FDA15         9.30  ...  Supermarket Type1         3735.1380\n",
              "1           DRC01         5.92  ...  Supermarket Type2          443.4228\n",
              "2           FDN15        17.50  ...  Supermarket Type1         2097.2700\n",
              "3           FDX07        19.20  ...      Grocery Store          732.3800\n",
              "4           NCD19         8.93  ...  Supermarket Type1          994.7052\n",
              "\n",
              "[5 rows x 11 columns]"
            ]
          },
          "metadata": {
            "tags": []
          },
          "execution_count": 77
        }
      ]
    },
    {
      "cell_type": "code",
      "metadata": {
        "id": "lLorBvWAok4y",
        "colab": {
          "base_uri": "https://localhost:8080/",
          "height": 434
        },
        "outputId": "434a7d45-7759-4c41-fcfc-c1b5a31f68b6"
      },
      "source": [
        "# This confirms that I will not use the Item_Weight initially as a column for my features.\n",
        "# There are way too many zero'd figures to rely on this column to teach our model appropriately.\n",
        "# Removing the rows with zeros at this point will impact this dataset too greatly so I may\n",
        "# run another model with the rows containing zeros filtered out. It will just be a smaller dataset.\n",
        "\n",
        "mod_sales.loc[:,:].hist(bins=25,\n",
        "                 figsize=(16, 10),\n",
        "                 xlabelsize='10',\n",
        "                 ylabelsize='10', xrot=-25);"
      ],
      "execution_count": 78,
      "outputs": [
        {
          "output_type": "display_data",
          "data": {
            "image/png": "[encoded data removed]",
            "text/plain": [
              "<Figure size 1152x720 with 6 Axes>"
            ]
          },
          "metadata": {
            "tags": [],
            "needs_background": "light"
          }
        }
      ]
    },
    {
      "cell_type": "code",
      "metadata": {
        "id": "ukcRBnFz-4wF",
        "colab": {
          "base_uri": "https://localhost:8080/"
        },
        "outputId": "d0ce5851-278a-4df5-e8a4-879d5d46a7e4"
      },
      "source": [
        "sales['Item_Fat_Content'].value_counts()"
      ],
      "execution_count": 79,
      "outputs": [
        {
          "output_type": "execute_result",
          "data": {
            "text/plain": [
              "Low Fat    5517\n",
              "Regular    3006\n",
              "Name: Item_Fat_Content, dtype: int64"
            ]
          },
          "metadata": {
            "tags": []
          },
          "execution_count": 79
        }
      ]
    },
    {
      "cell_type": "code",
      "metadata": {
        "id": "ig0ZtVHy8LBh"
      },
      "source": [
        "# The Item_Fat_Content column can be considered ordinal\n",
        "\n",
        "mod_sales['Item_Fat_Content'].replace({'Low Fat' : 0,\n",
        "                                   'Regular' : 1}, inplace=True)"
      ],
      "execution_count": 80,
      "outputs": []
    },
    {
      "cell_type": "code",
      "metadata": {
        "id": "iJexNucv_IsB",
        "colab": {
          "base_uri": "https://localhost:8080/",
          "height": 307
        },
        "outputId": "23974013-3fc6-4758-eb8c-4f7ff7550ab4"
      },
      "source": [
        "mod_sales.head()"
      ],
      "execution_count": 81,
      "outputs": [
        {
          "output_type": "execute_result",
          "data": {
            "text/html": [
              "<div>\n",
              "<style scoped>\n",
              "    .dataframe tbody tr th:only-of-type {\n",
              "        vertical-align: middle;\n",
              "    }\n",
              "\n",
              "    .dataframe tbody tr th {\n",
              "        vertical-align: top;\n",
              "    }\n",
              "\n",
              "    .dataframe thead th {\n",
              "        text-align: right;\n",
              "    }\n",
              "</style>\n",
              "<table border=\"1\" class=\"dataframe\">\n",
              "  <thead>\n",
              "    <tr style=\"text-align: right;\">\n",
              "      <th></th>\n",
              "      <th>Item_Identifier</th>\n",
              "      <th>Item_Weight</th>\n",
              "      <th>Item_Fat_Content</th>\n",
              "      <th>Item_Type</th>\n",
              "      <th>Item_MRP</th>\n",
              "      <th>Outlet_Identifier</th>\n",
              "      <th>Outlet_Establishment_Year</th>\n",
              "      <th>Outlet_Size</th>\n",
              "      <th>Outlet_Location_Type</th>\n",
              "      <th>Outlet_Type</th>\n",
              "      <th>Item_Outlet_Sales</th>\n",
              "    </tr>\n",
              "  </thead>\n",
              "  <tbody>\n",
              "    <tr>\n",
              "      <th>0</th>\n",
              "      <td>FDA15</td>\n",
              "      <td>9.30</td>\n",
              "      <td>0</td>\n",
              "      <td>Dairy</td>\n",
              "      <td>249.8092</td>\n",
              "      <td>OUT049</td>\n",
              "      <td>1999</td>\n",
              "      <td>2</td>\n",
              "      <td>Tier 1</td>\n",
              "      <td>Supermarket Type1</td>\n",
              "      <td>3735.1380</td>\n",
              "    </tr>\n",
              "    <tr>\n",
              "      <th>1</th>\n",
              "      <td>DRC01</td>\n",
              "      <td>5.92</td>\n",
              "      <td>1</td>\n",
              "      <td>Soft Drinks</td>\n",
              "      <td>48.2692</td>\n",
              "      <td>OUT018</td>\n",
              "      <td>2009</td>\n",
              "      <td>2</td>\n",
              "      <td>Tier 3</td>\n",
              "      <td>Supermarket Type2</td>\n",
              "      <td>443.4228</td>\n",
              "    </tr>\n",
              "    <tr>\n",
              "      <th>2</th>\n",
              "      <td>FDN15</td>\n",
              "      <td>17.50</td>\n",
              "      <td>0</td>\n",
              "      <td>Meat</td>\n",
              "      <td>141.6180</td>\n",
              "      <td>OUT049</td>\n",
              "      <td>1999</td>\n",
              "      <td>2</td>\n",
              "      <td>Tier 1</td>\n",
              "      <td>Supermarket Type1</td>\n",
              "      <td>2097.2700</td>\n",
              "    </tr>\n",
              "    <tr>\n",
              "      <th>3</th>\n",
              "      <td>FDX07</td>\n",
              "      <td>19.20</td>\n",
              "      <td>1</td>\n",
              "      <td>Fruits and Vegetables</td>\n",
              "      <td>182.0950</td>\n",
              "      <td>OUT010</td>\n",
              "      <td>1998</td>\n",
              "      <td>0</td>\n",
              "      <td>Tier 3</td>\n",
              "      <td>Grocery Store</td>\n",
              "      <td>732.3800</td>\n",
              "    </tr>\n",
              "    <tr>\n",
              "      <th>4</th>\n",
              "      <td>NCD19</td>\n",
              "      <td>8.93</td>\n",
              "      <td>0</td>\n",
              "      <td>Household</td>\n",
              "      <td>53.8614</td>\n",
              "      <td>OUT013</td>\n",
              "      <td>1987</td>\n",
              "      <td>3</td>\n",
              "      <td>Tier 3</td>\n",
              "      <td>Supermarket Type1</td>\n",
              "      <td>994.7052</td>\n",
              "    </tr>\n",
              "  </tbody>\n",
              "</table>\n",
              "</div>"
            ],
            "text/plain": [
              "  Item_Identifier  Item_Weight  ...        Outlet_Type Item_Outlet_Sales\n",
              "0           FDA15         9.30  ...  Supermarket Type1         3735.1380\n",
              "1           DRC01         5.92  ...  Supermarket Type2          443.4228\n",
              "2           FDN15        17.50  ...  Supermarket Type1         2097.2700\n",
              "3           FDX07        19.20  ...      Grocery Store          732.3800\n",
              "4           NCD19         8.93  ...  Supermarket Type1          994.7052\n",
              "\n",
              "[5 rows x 11 columns]"
            ]
          },
          "metadata": {
            "tags": []
          },
          "execution_count": 81
        }
      ]
    },
    {
      "cell_type": "code",
      "metadata": {
        "id": "kB18thyI_KYx",
        "colab": {
          "base_uri": "https://localhost:8080/"
        },
        "outputId": "2f0c38e3-8acf-4415-a2ae-6ac5726cdaa9"
      },
      "source": [
        "sales['Item_Type'].value_counts()"
      ],
      "execution_count": 82,
      "outputs": [
        {
          "output_type": "execute_result",
          "data": {
            "text/plain": [
              "Fruits and Vegetables    1232\n",
              "Snack Foods              1200\n",
              "Household                 910\n",
              "Frozen Foods              856\n",
              "Dairy                     682\n",
              "Canned                    649\n",
              "Baking Goods              648\n",
              "Health and Hygiene        520\n",
              "Soft Drinks               445\n",
              "Meat                      425\n",
              "Breads                    251\n",
              "Hard Drinks               214\n",
              "Others                    169\n",
              "Starchy Foods             148\n",
              "Breakfast                 110\n",
              "Seafood                    64\n",
              "Name: Item_Type, dtype: int64"
            ]
          },
          "metadata": {
            "tags": []
          },
          "execution_count": 82
        }
      ]
    },
    {
      "cell_type": "code",
      "metadata": {
        "id": "1pBoFIYW_guc",
        "colab": {
          "base_uri": "https://localhost:8080/"
        },
        "outputId": "b81199cb-30b4-408d-f1f5-024f5758b2c0"
      },
      "source": [
        "sales['Outlet_Establishment_Year'].value_counts()"
      ],
      "execution_count": 83,
      "outputs": [
        {
          "output_type": "execute_result",
          "data": {
            "text/plain": [
              "1985    1463\n",
              "1987     932\n",
              "1999     930\n",
              "1997     930\n",
              "2004     930\n",
              "2002     929\n",
              "2009     928\n",
              "2007     926\n",
              "1998     555\n",
              "Name: Outlet_Establishment_Year, dtype: int64"
            ]
          },
          "metadata": {
            "tags": []
          },
          "execution_count": 83
        }
      ]
    },
    {
      "cell_type": "code",
      "metadata": {
        "id": "hTjI195GAMhx"
      },
      "source": [
        "# The Outlet_Establishment_Year column is also ordinal\n",
        "\n",
        "mod_sales['Outlet_Establishment_Year'].replace({1985 : 0,\n",
        "                                            1987 : 1,\n",
        "                                            1997 : 2,\n",
        "                                            1998 : 3,\n",
        "                                            1999 : 4,\n",
        "                                            2002 : 5,\n",
        "                                            2004 : 6,\n",
        "                                            2007 : 7,\n",
        "                                            2009 : 8}, inplace= True)"
      ],
      "execution_count": 84,
      "outputs": []
    },
    {
      "cell_type": "code",
      "metadata": {
        "id": "quEDxPeWCju7",
        "colab": {
          "base_uri": "https://localhost:8080/",
          "height": 307
        },
        "outputId": "57ce86ab-3aaf-4bd9-d28a-b118ffd88913"
      },
      "source": [
        "mod_sales.head()"
      ],
      "execution_count": 85,
      "outputs": [
        {
          "output_type": "execute_result",
          "data": {
            "text/html": [
              "<div>\n",
              "<style scoped>\n",
              "    .dataframe tbody tr th:only-of-type {\n",
              "        vertical-align: middle;\n",
              "    }\n",
              "\n",
              "    .dataframe tbody tr th {\n",
              "        vertical-align: top;\n",
              "    }\n",
              "\n",
              "    .dataframe thead th {\n",
              "        text-align: right;\n",
              "    }\n",
              "</style>\n",
              "<table border=\"1\" class=\"dataframe\">\n",
              "  <thead>\n",
              "    <tr style=\"text-align: right;\">\n",
              "      <th></th>\n",
              "      <th>Item_Identifier</th>\n",
              "      <th>Item_Weight</th>\n",
              "      <th>Item_Fat_Content</th>\n",
              "      <th>Item_Type</th>\n",
              "      <th>Item_MRP</th>\n",
              "      <th>Outlet_Identifier</th>\n",
              "      <th>Outlet_Establishment_Year</th>\n",
              "      <th>Outlet_Size</th>\n",
              "      <th>Outlet_Location_Type</th>\n",
              "      <th>Outlet_Type</th>\n",
              "      <th>Item_Outlet_Sales</th>\n",
              "    </tr>\n",
              "  </thead>\n",
              "  <tbody>\n",
              "    <tr>\n",
              "      <th>0</th>\n",
              "      <td>FDA15</td>\n",
              "      <td>9.30</td>\n",
              "      <td>0</td>\n",
              "      <td>Dairy</td>\n",
              "      <td>249.8092</td>\n",
              "      <td>OUT049</td>\n",
              "      <td>4</td>\n",
              "      <td>2</td>\n",
              "      <td>Tier 1</td>\n",
              "      <td>Supermarket Type1</td>\n",
              "      <td>3735.1380</td>\n",
              "    </tr>\n",
              "    <tr>\n",
              "      <th>1</th>\n",
              "      <td>DRC01</td>\n",
              "      <td>5.92</td>\n",
              "      <td>1</td>\n",
              "      <td>Soft Drinks</td>\n",
              "      <td>48.2692</td>\n",
              "      <td>OUT018</td>\n",
              "      <td>8</td>\n",
              "      <td>2</td>\n",
              "      <td>Tier 3</td>\n",
              "      <td>Supermarket Type2</td>\n",
              "      <td>443.4228</td>\n",
              "    </tr>\n",
              "    <tr>\n",
              "      <th>2</th>\n",
              "      <td>FDN15</td>\n",
              "      <td>17.50</td>\n",
              "      <td>0</td>\n",
              "      <td>Meat</td>\n",
              "      <td>141.6180</td>\n",
              "      <td>OUT049</td>\n",
              "      <td>4</td>\n",
              "      <td>2</td>\n",
              "      <td>Tier 1</td>\n",
              "      <td>Supermarket Type1</td>\n",
              "      <td>2097.2700</td>\n",
              "    </tr>\n",
              "    <tr>\n",
              "      <th>3</th>\n",
              "      <td>FDX07</td>\n",
              "      <td>19.20</td>\n",
              "      <td>1</td>\n",
              "      <td>Fruits and Vegetables</td>\n",
              "      <td>182.0950</td>\n",
              "      <td>OUT010</td>\n",
              "      <td>3</td>\n",
              "      <td>0</td>\n",
              "      <td>Tier 3</td>\n",
              "      <td>Grocery Store</td>\n",
              "      <td>732.3800</td>\n",
              "    </tr>\n",
              "    <tr>\n",
              "      <th>4</th>\n",
              "      <td>NCD19</td>\n",
              "      <td>8.93</td>\n",
              "      <td>0</td>\n",
              "      <td>Household</td>\n",
              "      <td>53.8614</td>\n",
              "      <td>OUT013</td>\n",
              "      <td>1</td>\n",
              "      <td>3</td>\n",
              "      <td>Tier 3</td>\n",
              "      <td>Supermarket Type1</td>\n",
              "      <td>994.7052</td>\n",
              "    </tr>\n",
              "  </tbody>\n",
              "</table>\n",
              "</div>"
            ],
            "text/plain": [
              "  Item_Identifier  Item_Weight  ...        Outlet_Type Item_Outlet_Sales\n",
              "0           FDA15         9.30  ...  Supermarket Type1         3735.1380\n",
              "1           DRC01         5.92  ...  Supermarket Type2          443.4228\n",
              "2           FDN15        17.50  ...  Supermarket Type1         2097.2700\n",
              "3           FDX07        19.20  ...      Grocery Store          732.3800\n",
              "4           NCD19         8.93  ...  Supermarket Type1          994.7052\n",
              "\n",
              "[5 rows x 11 columns]"
            ]
          },
          "metadata": {
            "tags": []
          },
          "execution_count": 85
        }
      ]
    },
    {
      "cell_type": "code",
      "metadata": {
        "id": "6n-QP5itCmn0",
        "colab": {
          "base_uri": "https://localhost:8080/"
        },
        "outputId": "0806eb8b-544b-4f41-b572-5961789a5949"
      },
      "source": [
        "sales['Outlet_Type'].value_counts()"
      ],
      "execution_count": 86,
      "outputs": [
        {
          "output_type": "execute_result",
          "data": {
            "text/plain": [
              "Supermarket Type1    5577\n",
              "Grocery Store        1083\n",
              "Supermarket Type3     935\n",
              "Supermarket Type2     928\n",
              "Name: Outlet_Type, dtype: int64"
            ]
          },
          "metadata": {
            "tags": []
          },
          "execution_count": 86
        }
      ]
    },
    {
      "cell_type": "code",
      "metadata": {
        "id": "zZMCw_4BC2Kr"
      },
      "source": [
        "# I am going to the values on the Outle_Type column and make those ordinal as well.\n",
        "# They are pretty much alreay in order\n",
        "\n",
        "mod_sales['Outlet_Type'].replace({'Grocery Store' : 0,\n",
        "                              'Supermarket Type1' : 1,\n",
        "                              'Supermarket Type2' : 2,\n",
        "                              'Supermarket Type3' : 3}, inplace=True)"
      ],
      "execution_count": 87,
      "outputs": []
    },
    {
      "cell_type": "code",
      "metadata": {
        "id": "QcEgxDlyDJ3v",
        "colab": {
          "base_uri": "https://localhost:8080/",
          "height": 240
        },
        "outputId": "fb9a60f2-5c01-4b29-fe26-b0092cdbe681"
      },
      "source": [
        "mod_sales.head()"
      ],
      "execution_count": 88,
      "outputs": [
        {
          "output_type": "execute_result",
          "data": {
            "text/html": [
              "<div>\n",
              "<style scoped>\n",
              "    .dataframe tbody tr th:only-of-type {\n",
              "        vertical-align: middle;\n",
              "    }\n",
              "\n",
              "    .dataframe tbody tr th {\n",
              "        vertical-align: top;\n",
              "    }\n",
              "\n",
              "    .dataframe thead th {\n",
              "        text-align: right;\n",
              "    }\n",
              "</style>\n",
              "<table border=\"1\" class=\"dataframe\">\n",
              "  <thead>\n",
              "    <tr style=\"text-align: right;\">\n",
              "      <th></th>\n",
              "      <th>Item_Identifier</th>\n",
              "      <th>Item_Weight</th>\n",
              "      <th>Item_Fat_Content</th>\n",
              "      <th>Item_Type</th>\n",
              "      <th>Item_MRP</th>\n",
              "      <th>Outlet_Identifier</th>\n",
              "      <th>Outlet_Establishment_Year</th>\n",
              "      <th>Outlet_Size</th>\n",
              "      <th>Outlet_Location_Type</th>\n",
              "      <th>Outlet_Type</th>\n",
              "      <th>Item_Outlet_Sales</th>\n",
              "    </tr>\n",
              "  </thead>\n",
              "  <tbody>\n",
              "    <tr>\n",
              "      <th>0</th>\n",
              "      <td>FDA15</td>\n",
              "      <td>9.30</td>\n",
              "      <td>0</td>\n",
              "      <td>Dairy</td>\n",
              "      <td>249.8092</td>\n",
              "      <td>OUT049</td>\n",
              "      <td>4</td>\n",
              "      <td>2</td>\n",
              "      <td>Tier 1</td>\n",
              "      <td>1</td>\n",
              "      <td>3735.1380</td>\n",
              "    </tr>\n",
              "    <tr>\n",
              "      <th>1</th>\n",
              "      <td>DRC01</td>\n",
              "      <td>5.92</td>\n",
              "      <td>1</td>\n",
              "      <td>Soft Drinks</td>\n",
              "      <td>48.2692</td>\n",
              "      <td>OUT018</td>\n",
              "      <td>8</td>\n",
              "      <td>2</td>\n",
              "      <td>Tier 3</td>\n",
              "      <td>2</td>\n",
              "      <td>443.4228</td>\n",
              "    </tr>\n",
              "    <tr>\n",
              "      <th>2</th>\n",
              "      <td>FDN15</td>\n",
              "      <td>17.50</td>\n",
              "      <td>0</td>\n",
              "      <td>Meat</td>\n",
              "      <td>141.6180</td>\n",
              "      <td>OUT049</td>\n",
              "      <td>4</td>\n",
              "      <td>2</td>\n",
              "      <td>Tier 1</td>\n",
              "      <td>1</td>\n",
              "      <td>2097.2700</td>\n",
              "    </tr>\n",
              "    <tr>\n",
              "      <th>3</th>\n",
              "      <td>FDX07</td>\n",
              "      <td>19.20</td>\n",
              "      <td>1</td>\n",
              "      <td>Fruits and Vegetables</td>\n",
              "      <td>182.0950</td>\n",
              "      <td>OUT010</td>\n",
              "      <td>3</td>\n",
              "      <td>0</td>\n",
              "      <td>Tier 3</td>\n",
              "      <td>0</td>\n",
              "      <td>732.3800</td>\n",
              "    </tr>\n",
              "    <tr>\n",
              "      <th>4</th>\n",
              "      <td>NCD19</td>\n",
              "      <td>8.93</td>\n",
              "      <td>0</td>\n",
              "      <td>Household</td>\n",
              "      <td>53.8614</td>\n",
              "      <td>OUT013</td>\n",
              "      <td>1</td>\n",
              "      <td>3</td>\n",
              "      <td>Tier 3</td>\n",
              "      <td>1</td>\n",
              "      <td>994.7052</td>\n",
              "    </tr>\n",
              "  </tbody>\n",
              "</table>\n",
              "</div>"
            ],
            "text/plain": [
              "  Item_Identifier  Item_Weight  ...  Outlet_Type Item_Outlet_Sales\n",
              "0           FDA15         9.30  ...            1         3735.1380\n",
              "1           DRC01         5.92  ...            2          443.4228\n",
              "2           FDN15        17.50  ...            1         2097.2700\n",
              "3           FDX07        19.20  ...            0          732.3800\n",
              "4           NCD19         8.93  ...            1          994.7052\n",
              "\n",
              "[5 rows x 11 columns]"
            ]
          },
          "metadata": {
            "tags": []
          },
          "execution_count": 88
        }
      ]
    },
    {
      "cell_type": "code",
      "metadata": {
        "id": "gJAF_e-FFS_W",
        "colab": {
          "base_uri": "https://localhost:8080/"
        },
        "outputId": "4c6f3af2-d481-4755-f75c-7cdae672c765"
      },
      "source": [
        "sales['Outlet_Location_Type'].value_counts()"
      ],
      "execution_count": 89,
      "outputs": [
        {
          "output_type": "execute_result",
          "data": {
            "text/plain": [
              "Tier 3    3350\n",
              "Tier 2    2785\n",
              "Tier 1    2388\n",
              "Name: Outlet_Location_Type, dtype: int64"
            ]
          },
          "metadata": {
            "tags": []
          },
          "execution_count": 89
        }
      ]
    },
    {
      "cell_type": "code",
      "metadata": {
        "id": "JOIxV4uKE6Ah"
      },
      "source": [
        "# Outlet_Location_Type is already nubered as well so I will also arrange this as ordinal\n",
        "\n",
        "mod_sales['Outlet_Location_Type'].replace({'Tier 1' : 1,\n",
        "                                           'Tier 2' : 2,\n",
        "                                           'Tier 3' : 3}, inplace=True)"
      ],
      "execution_count": 90,
      "outputs": []
    },
    {
      "cell_type": "code",
      "metadata": {
        "id": "lFcSBrSAFpgy",
        "colab": {
          "base_uri": "https://localhost:8080/",
          "height": 240
        },
        "outputId": "ab53e956-76d5-4808-f9aa-a658f09cdd60"
      },
      "source": [
        "mod_sales.head()"
      ],
      "execution_count": 91,
      "outputs": [
        {
          "output_type": "execute_result",
          "data": {
            "text/html": [
              "<div>\n",
              "<style scoped>\n",
              "    .dataframe tbody tr th:only-of-type {\n",
              "        vertical-align: middle;\n",
              "    }\n",
              "\n",
              "    .dataframe tbody tr th {\n",
              "        vertical-align: top;\n",
              "    }\n",
              "\n",
              "    .dataframe thead th {\n",
              "        text-align: right;\n",
              "    }\n",
              "</style>\n",
              "<table border=\"1\" class=\"dataframe\">\n",
              "  <thead>\n",
              "    <tr style=\"text-align: right;\">\n",
              "      <th></th>\n",
              "      <th>Item_Identifier</th>\n",
              "      <th>Item_Weight</th>\n",
              "      <th>Item_Fat_Content</th>\n",
              "      <th>Item_Type</th>\n",
              "      <th>Item_MRP</th>\n",
              "      <th>Outlet_Identifier</th>\n",
              "      <th>Outlet_Establishment_Year</th>\n",
              "      <th>Outlet_Size</th>\n",
              "      <th>Outlet_Location_Type</th>\n",
              "      <th>Outlet_Type</th>\n",
              "      <th>Item_Outlet_Sales</th>\n",
              "    </tr>\n",
              "  </thead>\n",
              "  <tbody>\n",
              "    <tr>\n",
              "      <th>0</th>\n",
              "      <td>FDA15</td>\n",
              "      <td>9.30</td>\n",
              "      <td>0</td>\n",
              "      <td>Dairy</td>\n",
              "      <td>249.8092</td>\n",
              "      <td>OUT049</td>\n",
              "      <td>4</td>\n",
              "      <td>2</td>\n",
              "      <td>1</td>\n",
              "      <td>1</td>\n",
              "      <td>3735.1380</td>\n",
              "    </tr>\n",
              "    <tr>\n",
              "      <th>1</th>\n",
              "      <td>DRC01</td>\n",
              "      <td>5.92</td>\n",
              "      <td>1</td>\n",
              "      <td>Soft Drinks</td>\n",
              "      <td>48.2692</td>\n",
              "      <td>OUT018</td>\n",
              "      <td>8</td>\n",
              "      <td>2</td>\n",
              "      <td>3</td>\n",
              "      <td>2</td>\n",
              "      <td>443.4228</td>\n",
              "    </tr>\n",
              "    <tr>\n",
              "      <th>2</th>\n",
              "      <td>FDN15</td>\n",
              "      <td>17.50</td>\n",
              "      <td>0</td>\n",
              "      <td>Meat</td>\n",
              "      <td>141.6180</td>\n",
              "      <td>OUT049</td>\n",
              "      <td>4</td>\n",
              "      <td>2</td>\n",
              "      <td>1</td>\n",
              "      <td>1</td>\n",
              "      <td>2097.2700</td>\n",
              "    </tr>\n",
              "    <tr>\n",
              "      <th>3</th>\n",
              "      <td>FDX07</td>\n",
              "      <td>19.20</td>\n",
              "      <td>1</td>\n",
              "      <td>Fruits and Vegetables</td>\n",
              "      <td>182.0950</td>\n",
              "      <td>OUT010</td>\n",
              "      <td>3</td>\n",
              "      <td>0</td>\n",
              "      <td>3</td>\n",
              "      <td>0</td>\n",
              "      <td>732.3800</td>\n",
              "    </tr>\n",
              "    <tr>\n",
              "      <th>4</th>\n",
              "      <td>NCD19</td>\n",
              "      <td>8.93</td>\n",
              "      <td>0</td>\n",
              "      <td>Household</td>\n",
              "      <td>53.8614</td>\n",
              "      <td>OUT013</td>\n",
              "      <td>1</td>\n",
              "      <td>3</td>\n",
              "      <td>3</td>\n",
              "      <td>1</td>\n",
              "      <td>994.7052</td>\n",
              "    </tr>\n",
              "  </tbody>\n",
              "</table>\n",
              "</div>"
            ],
            "text/plain": [
              "  Item_Identifier  Item_Weight  ...  Outlet_Type Item_Outlet_Sales\n",
              "0           FDA15         9.30  ...            1         3735.1380\n",
              "1           DRC01         5.92  ...            2          443.4228\n",
              "2           FDN15        17.50  ...            1         2097.2700\n",
              "3           FDX07        19.20  ...            0          732.3800\n",
              "4           NCD19         8.93  ...            1          994.7052\n",
              "\n",
              "[5 rows x 11 columns]"
            ]
          },
          "metadata": {
            "tags": []
          },
          "execution_count": 91
        }
      ]
    },
    {
      "cell_type": "code",
      "metadata": {
        "id": "TAyDa4jmFzE0",
        "colab": {
          "base_uri": "https://localhost:8080/"
        },
        "outputId": "52ab4d83-8422-4027-ff0c-80b869fd5212"
      },
      "source": [
        "# The last 2 columns I will change are the Item_Type and Outlet_Identifier. I will transform\n",
        "# these based on nominal assigment as there isn't an obvious order. The Outlet_Identifier\n",
        "# could be based on year established or some other factor to make it ordinal, but since I\n",
        "# am changing the Item_Type column nominally I will include both columns at the same time.\n",
        "# I am adapting code from this website: https://towardsdatascience.com/understanding-feature-engineering-part-2-categorical-data-f54324193e63\n",
        "\n",
        "from sklearn.preprocessing import LabelEncoder\n",
        "\n",
        "le_item = LabelEncoder()\n",
        "item_labels = le_item.fit_transform(mod_sales['Item_Type'])\n",
        "transform_item = {index: label for index, label in enumerate(le_item.classes_)}\n",
        "\n",
        "transform_item\n"
      ],
      "execution_count": 92,
      "outputs": [
        {
          "output_type": "execute_result",
          "data": {
            "text/plain": [
              "{0: 'Baking Goods',\n",
              " 1: 'Breads',\n",
              " 2: 'Breakfast',\n",
              " 3: 'Canned',\n",
              " 4: 'Dairy',\n",
              " 5: 'Frozen Foods',\n",
              " 6: 'Fruits and Vegetables',\n",
              " 7: 'Hard Drinks',\n",
              " 8: 'Health and Hygiene',\n",
              " 9: 'Household',\n",
              " 10: 'Meat',\n",
              " 11: 'Others',\n",
              " 12: 'Seafood',\n",
              " 13: 'Snack Foods',\n",
              " 14: 'Soft Drinks',\n",
              " 15: 'Starchy Foods'}"
            ]
          },
          "metadata": {
            "tags": []
          },
          "execution_count": 92
        }
      ]
    },
    {
      "cell_type": "code",
      "metadata": {
        "id": "g_o0U74YRfTY",
        "colab": {
          "base_uri": "https://localhost:8080/"
        },
        "outputId": "a85e3c97-1b46-4807-d77b-66e232e1110d"
      },
      "source": [
        "# I guess these are a little more ordinal than I had expected. They have been alphabetized\n",
        "# and chronologically numbered. I guess that's the 'enumerate' part.\n",
        "\n",
        "le_OI = LabelEncoder()\n",
        "OI_labels = le_OI.fit_transform(mod_sales['Outlet_Identifier'])\n",
        "transform_OI = {index: label for index, label in enumerate(le_OI.classes_)}\n",
        "\n",
        "transform_OI"
      ],
      "execution_count": 93,
      "outputs": [
        {
          "output_type": "execute_result",
          "data": {
            "text/plain": [
              "{0: 'OUT010',\n",
              " 1: 'OUT013',\n",
              " 2: 'OUT017',\n",
              " 3: 'OUT018',\n",
              " 4: 'OUT019',\n",
              " 5: 'OUT027',\n",
              " 6: 'OUT035',\n",
              " 7: 'OUT045',\n",
              " 8: 'OUT046',\n",
              " 9: 'OUT049'}"
            ]
          },
          "metadata": {
            "tags": []
          },
          "execution_count": 93
        }
      ]
    },
    {
      "cell_type": "code",
      "metadata": {
        "id": "j3aPGG_4IdAt"
      },
      "source": [
        "mod_sales.insert(4, 'transformed_Item_Type', item_labels)"
      ],
      "execution_count": 94,
      "outputs": []
    },
    {
      "cell_type": "code",
      "metadata": {
        "id": "IvtgOu-LR6Pm"
      },
      "source": [
        "mod_sales.insert(7, 'transformed_Outlet_Identifier', OI_labels)"
      ],
      "execution_count": 95,
      "outputs": []
    },
    {
      "cell_type": "code",
      "metadata": {
        "id": "85598CbkIwH7",
        "colab": {
          "base_uri": "https://localhost:8080/",
          "height": 240
        },
        "outputId": "b43d1fc5-430f-46e0-be67-9a3acc7b5249"
      },
      "source": [
        "mod_sales.head()"
      ],
      "execution_count": 96,
      "outputs": [
        {
          "output_type": "execute_result",
          "data": {
            "text/html": [
              "<div>\n",
              "<style scoped>\n",
              "    .dataframe tbody tr th:only-of-type {\n",
              "        vertical-align: middle;\n",
              "    }\n",
              "\n",
              "    .dataframe tbody tr th {\n",
              "        vertical-align: top;\n",
              "    }\n",
              "\n",
              "    .dataframe thead th {\n",
              "        text-align: right;\n",
              "    }\n",
              "</style>\n",
              "<table border=\"1\" class=\"dataframe\">\n",
              "  <thead>\n",
              "    <tr style=\"text-align: right;\">\n",
              "      <th></th>\n",
              "      <th>Item_Identifier</th>\n",
              "      <th>Item_Weight</th>\n",
              "      <th>Item_Fat_Content</th>\n",
              "      <th>Item_Type</th>\n",
              "      <th>transformed_Item_Type</th>\n",
              "      <th>Item_MRP</th>\n",
              "      <th>Outlet_Identifier</th>\n",
              "      <th>transformed_Outlet_Identifier</th>\n",
              "      <th>Outlet_Establishment_Year</th>\n",
              "      <th>Outlet_Size</th>\n",
              "      <th>Outlet_Location_Type</th>\n",
              "      <th>Outlet_Type</th>\n",
              "      <th>Item_Outlet_Sales</th>\n",
              "    </tr>\n",
              "  </thead>\n",
              "  <tbody>\n",
              "    <tr>\n",
              "      <th>0</th>\n",
              "      <td>FDA15</td>\n",
              "      <td>9.30</td>\n",
              "      <td>0</td>\n",
              "      <td>Dairy</td>\n",
              "      <td>4</td>\n",
              "      <td>249.8092</td>\n",
              "      <td>OUT049</td>\n",
              "      <td>9</td>\n",
              "      <td>4</td>\n",
              "      <td>2</td>\n",
              "      <td>1</td>\n",
              "      <td>1</td>\n",
              "      <td>3735.1380</td>\n",
              "    </tr>\n",
              "    <tr>\n",
              "      <th>1</th>\n",
              "      <td>DRC01</td>\n",
              "      <td>5.92</td>\n",
              "      <td>1</td>\n",
              "      <td>Soft Drinks</td>\n",
              "      <td>14</td>\n",
              "      <td>48.2692</td>\n",
              "      <td>OUT018</td>\n",
              "      <td>3</td>\n",
              "      <td>8</td>\n",
              "      <td>2</td>\n",
              "      <td>3</td>\n",
              "      <td>2</td>\n",
              "      <td>443.4228</td>\n",
              "    </tr>\n",
              "    <tr>\n",
              "      <th>2</th>\n",
              "      <td>FDN15</td>\n",
              "      <td>17.50</td>\n",
              "      <td>0</td>\n",
              "      <td>Meat</td>\n",
              "      <td>10</td>\n",
              "      <td>141.6180</td>\n",
              "      <td>OUT049</td>\n",
              "      <td>9</td>\n",
              "      <td>4</td>\n",
              "      <td>2</td>\n",
              "      <td>1</td>\n",
              "      <td>1</td>\n",
              "      <td>2097.2700</td>\n",
              "    </tr>\n",
              "    <tr>\n",
              "      <th>3</th>\n",
              "      <td>FDX07</td>\n",
              "      <td>19.20</td>\n",
              "      <td>1</td>\n",
              "      <td>Fruits and Vegetables</td>\n",
              "      <td>6</td>\n",
              "      <td>182.0950</td>\n",
              "      <td>OUT010</td>\n",
              "      <td>0</td>\n",
              "      <td>3</td>\n",
              "      <td>0</td>\n",
              "      <td>3</td>\n",
              "      <td>0</td>\n",
              "      <td>732.3800</td>\n",
              "    </tr>\n",
              "    <tr>\n",
              "      <th>4</th>\n",
              "      <td>NCD19</td>\n",
              "      <td>8.93</td>\n",
              "      <td>0</td>\n",
              "      <td>Household</td>\n",
              "      <td>9</td>\n",
              "      <td>53.8614</td>\n",
              "      <td>OUT013</td>\n",
              "      <td>1</td>\n",
              "      <td>1</td>\n",
              "      <td>3</td>\n",
              "      <td>3</td>\n",
              "      <td>1</td>\n",
              "      <td>994.7052</td>\n",
              "    </tr>\n",
              "  </tbody>\n",
              "</table>\n",
              "</div>"
            ],
            "text/plain": [
              "  Item_Identifier  Item_Weight  ...  Outlet_Type Item_Outlet_Sales\n",
              "0           FDA15         9.30  ...            1         3735.1380\n",
              "1           DRC01         5.92  ...            2          443.4228\n",
              "2           FDN15        17.50  ...            1         2097.2700\n",
              "3           FDX07        19.20  ...            0          732.3800\n",
              "4           NCD19         8.93  ...            1          994.7052\n",
              "\n",
              "[5 rows x 13 columns]"
            ]
          },
          "metadata": {
            "tags": []
          },
          "execution_count": 96
        }
      ]
    },
    {
      "cell_type": "code",
      "metadata": {
        "id": "NTilZh9FTqpT"
      },
      "source": [
        "# Adding the one_hot encoding to the two columns that were numbered more ordianl than nominal\n",
        "\n",
        "from sklearn.preprocessing import OneHotEncoder"
      ],
      "execution_count": 97,
      "outputs": []
    },
    {
      "cell_type": "code",
      "metadata": {
        "id": "w9kSumcnULmG"
      },
      "source": [
        "ohe_item = OneHotEncoder()\n",
        "item_feature_arr = ohe_item.fit_transform(mod_sales[['transformed_Item_Type']]).toarray()\n",
        "item_feature_labels = list(le_item.classes_)\n",
        "item_features = pd.DataFrame(item_feature_arr, columns= item_feature_labels)\n",
        "\n",
        "ohe_OI = OneHotEncoder()\n",
        "OI_feature_arr = ohe_OI.fit_transform(mod_sales[['transformed_Outlet_Identifier']]).toarray()\n",
        "OI_feature_labels = ['Outlet_Identifier_' + str(cls_label) for cls_label in le_OI.classes_]\n",
        "OI_features = pd.DataFrame(OI_feature_arr, columns= OI_feature_labels)"
      ],
      "execution_count": 98,
      "outputs": []
    },
    {
      "cell_type": "code",
      "metadata": {
        "id": "ePWALCCYRY22",
        "colab": {
          "base_uri": "https://localhost:8080/",
          "height": 554
        },
        "outputId": "2579fb38-4652-4183-e5af-4c65a67dd560"
      },
      "source": [
        "mod_sales_ohe = pd.concat([mod_sales, item_features, OI_features], axis=1)\n",
        "columns = sum([['Item_Identifier', 'Item_Weight',\t'Item_Fat_Content',\t'Item_Type',\n",
        "                'transformed_Item_Type'], item_feature_labels, ['Item_MRP', 'Outlet_Identifier',\t\n",
        "                                                                 'transformed_Outlet_Identifier'], \n",
        "               OI_feature_labels, ['Outlet_Establishment_Year',\t'Outlet_Size',\t'Outlet_Location_Type',\t\n",
        "                                   'Outlet_Type',\t'Item_Outlet_Sales']], [])\n",
        "mod_sales_ohe"
      ],
      "execution_count": 99,
      "outputs": [
        {
          "output_type": "execute_result",
          "data": {
            "text/html": [
              "<div>\n",
              "<style scoped>\n",
              "    .dataframe tbody tr th:only-of-type {\n",
              "        vertical-align: middle;\n",
              "    }\n",
              "\n",
              "    .dataframe tbody tr th {\n",
              "        vertical-align: top;\n",
              "    }\n",
              "\n",
              "    .dataframe thead th {\n",
              "        text-align: right;\n",
              "    }\n",
              "</style>\n",
              "<table border=\"1\" class=\"dataframe\">\n",
              "  <thead>\n",
              "    <tr style=\"text-align: right;\">\n",
              "      <th></th>\n",
              "      <th>Item_Identifier</th>\n",
              "      <th>Item_Weight</th>\n",
              "      <th>Item_Fat_Content</th>\n",
              "      <th>Item_Type</th>\n",
              "      <th>transformed_Item_Type</th>\n",
              "      <th>Item_MRP</th>\n",
              "      <th>Outlet_Identifier</th>\n",
              "      <th>transformed_Outlet_Identifier</th>\n",
              "      <th>Outlet_Establishment_Year</th>\n",
              "      <th>Outlet_Size</th>\n",
              "      <th>Outlet_Location_Type</th>\n",
              "      <th>Outlet_Type</th>\n",
              "      <th>Item_Outlet_Sales</th>\n",
              "      <th>Baking Goods</th>\n",
              "      <th>Breads</th>\n",
              "      <th>Breakfast</th>\n",
              "      <th>Canned</th>\n",
              "      <th>Dairy</th>\n",
              "      <th>Frozen Foods</th>\n",
              "      <th>Fruits and Vegetables</th>\n",
              "      <th>Hard Drinks</th>\n",
              "      <th>Health and Hygiene</th>\n",
              "      <th>Household</th>\n",
              "      <th>Meat</th>\n",
              "      <th>Others</th>\n",
              "      <th>Seafood</th>\n",
              "      <th>Snack Foods</th>\n",
              "      <th>Soft Drinks</th>\n",
              "      <th>Starchy Foods</th>\n",
              "      <th>Outlet_Identifier_OUT010</th>\n",
              "      <th>Outlet_Identifier_OUT013</th>\n",
              "      <th>Outlet_Identifier_OUT017</th>\n",
              "      <th>Outlet_Identifier_OUT018</th>\n",
              "      <th>Outlet_Identifier_OUT019</th>\n",
              "      <th>Outlet_Identifier_OUT027</th>\n",
              "      <th>Outlet_Identifier_OUT035</th>\n",
              "      <th>Outlet_Identifier_OUT045</th>\n",
              "      <th>Outlet_Identifier_OUT046</th>\n",
              "      <th>Outlet_Identifier_OUT049</th>\n",
              "    </tr>\n",
              "  </thead>\n",
              "  <tbody>\n",
              "    <tr>\n",
              "      <th>0</th>\n",
              "      <td>FDA15</td>\n",
              "      <td>9.300</td>\n",
              "      <td>0</td>\n",
              "      <td>Dairy</td>\n",
              "      <td>4</td>\n",
              "      <td>249.8092</td>\n",
              "      <td>OUT049</td>\n",
              "      <td>9</td>\n",
              "      <td>4</td>\n",
              "      <td>2</td>\n",
              "      <td>1</td>\n",
              "      <td>1</td>\n",
              "      <td>3735.1380</td>\n",
              "      <td>0.0</td>\n",
              "      <td>0.0</td>\n",
              "      <td>0.0</td>\n",
              "      <td>0.0</td>\n",
              "      <td>1.0</td>\n",
              "      <td>0.0</td>\n",
              "      <td>0.0</td>\n",
              "      <td>0.0</td>\n",
              "      <td>0.0</td>\n",
              "      <td>0.0</td>\n",
              "      <td>0.0</td>\n",
              "      <td>0.0</td>\n",
              "      <td>0.0</td>\n",
              "      <td>0.0</td>\n",
              "      <td>0.0</td>\n",
              "      <td>0.0</td>\n",
              "      <td>0.0</td>\n",
              "      <td>0.0</td>\n",
              "      <td>0.0</td>\n",
              "      <td>0.0</td>\n",
              "      <td>0.0</td>\n",
              "      <td>0.0</td>\n",
              "      <td>0.0</td>\n",
              "      <td>0.0</td>\n",
              "      <td>0.0</td>\n",
              "      <td>1.0</td>\n",
              "    </tr>\n",
              "    <tr>\n",
              "      <th>1</th>\n",
              "      <td>DRC01</td>\n",
              "      <td>5.920</td>\n",
              "      <td>1</td>\n",
              "      <td>Soft Drinks</td>\n",
              "      <td>14</td>\n",
              "      <td>48.2692</td>\n",
              "      <td>OUT018</td>\n",
              "      <td>3</td>\n",
              "      <td>8</td>\n",
              "      <td>2</td>\n",
              "      <td>3</td>\n",
              "      <td>2</td>\n",
              "      <td>443.4228</td>\n",
              "      <td>0.0</td>\n",
              "      <td>0.0</td>\n",
              "      <td>0.0</td>\n",
              "      <td>0.0</td>\n",
              "      <td>0.0</td>\n",
              "      <td>0.0</td>\n",
              "      <td>0.0</td>\n",
              "      <td>0.0</td>\n",
              "      <td>0.0</td>\n",
              "      <td>0.0</td>\n",
              "      <td>0.0</td>\n",
              "      <td>0.0</td>\n",
              "      <td>0.0</td>\n",
              "      <td>0.0</td>\n",
              "      <td>1.0</td>\n",
              "      <td>0.0</td>\n",
              "      <td>0.0</td>\n",
              "      <td>0.0</td>\n",
              "      <td>0.0</td>\n",
              "      <td>1.0</td>\n",
              "      <td>0.0</td>\n",
              "      <td>0.0</td>\n",
              "      <td>0.0</td>\n",
              "      <td>0.0</td>\n",
              "      <td>0.0</td>\n",
              "      <td>0.0</td>\n",
              "    </tr>\n",
              "    <tr>\n",
              "      <th>2</th>\n",
              "      <td>FDN15</td>\n",
              "      <td>17.500</td>\n",
              "      <td>0</td>\n",
              "      <td>Meat</td>\n",
              "      <td>10</td>\n",
              "      <td>141.6180</td>\n",
              "      <td>OUT049</td>\n",
              "      <td>9</td>\n",
              "      <td>4</td>\n",
              "      <td>2</td>\n",
              "      <td>1</td>\n",
              "      <td>1</td>\n",
              "      <td>2097.2700</td>\n",
              "      <td>0.0</td>\n",
              "      <td>0.0</td>\n",
              "      <td>0.0</td>\n",
              "      <td>0.0</td>\n",
              "      <td>0.0</td>\n",
              "      <td>0.0</td>\n",
              "      <td>0.0</td>\n",
              "      <td>0.0</td>\n",
              "      <td>0.0</td>\n",
              "      <td>0.0</td>\n",
              "      <td>1.0</td>\n",
              "      <td>0.0</td>\n",
              "      <td>0.0</td>\n",
              "      <td>0.0</td>\n",
              "      <td>0.0</td>\n",
              "      <td>0.0</td>\n",
              "      <td>0.0</td>\n",
              "      <td>0.0</td>\n",
              "      <td>0.0</td>\n",
              "      <td>0.0</td>\n",
              "      <td>0.0</td>\n",
              "      <td>0.0</td>\n",
              "      <td>0.0</td>\n",
              "      <td>0.0</td>\n",
              "      <td>0.0</td>\n",
              "      <td>1.0</td>\n",
              "    </tr>\n",
              "    <tr>\n",
              "      <th>3</th>\n",
              "      <td>FDX07</td>\n",
              "      <td>19.200</td>\n",
              "      <td>1</td>\n",
              "      <td>Fruits and Vegetables</td>\n",
              "      <td>6</td>\n",
              "      <td>182.0950</td>\n",
              "      <td>OUT010</td>\n",
              "      <td>0</td>\n",
              "      <td>3</td>\n",
              "      <td>0</td>\n",
              "      <td>3</td>\n",
              "      <td>0</td>\n",
              "      <td>732.3800</td>\n",
              "      <td>0.0</td>\n",
              "      <td>0.0</td>\n",
              "      <td>0.0</td>\n",
              "      <td>0.0</td>\n",
              "      <td>0.0</td>\n",
              "      <td>0.0</td>\n",
              "      <td>1.0</td>\n",
              "      <td>0.0</td>\n",
              "      <td>0.0</td>\n",
              "      <td>0.0</td>\n",
              "      <td>0.0</td>\n",
              "      <td>0.0</td>\n",
              "      <td>0.0</td>\n",
              "      <td>0.0</td>\n",
              "      <td>0.0</td>\n",
              "      <td>0.0</td>\n",
              "      <td>1.0</td>\n",
              "      <td>0.0</td>\n",
              "      <td>0.0</td>\n",
              "      <td>0.0</td>\n",
              "      <td>0.0</td>\n",
              "      <td>0.0</td>\n",
              "      <td>0.0</td>\n",
              "      <td>0.0</td>\n",
              "      <td>0.0</td>\n",
              "      <td>0.0</td>\n",
              "    </tr>\n",
              "    <tr>\n",
              "      <th>4</th>\n",
              "      <td>NCD19</td>\n",
              "      <td>8.930</td>\n",
              "      <td>0</td>\n",
              "      <td>Household</td>\n",
              "      <td>9</td>\n",
              "      <td>53.8614</td>\n",
              "      <td>OUT013</td>\n",
              "      <td>1</td>\n",
              "      <td>1</td>\n",
              "      <td>3</td>\n",
              "      <td>3</td>\n",
              "      <td>1</td>\n",
              "      <td>994.7052</td>\n",
              "      <td>0.0</td>\n",
              "      <td>0.0</td>\n",
              "      <td>0.0</td>\n",
              "      <td>0.0</td>\n",
              "      <td>0.0</td>\n",
              "      <td>0.0</td>\n",
              "      <td>0.0</td>\n",
              "      <td>0.0</td>\n",
              "      <td>0.0</td>\n",
              "      <td>1.0</td>\n",
              "      <td>0.0</td>\n",
              "      <td>0.0</td>\n",
              "      <td>0.0</td>\n",
              "      <td>0.0</td>\n",
              "      <td>0.0</td>\n",
              "      <td>0.0</td>\n",
              "      <td>0.0</td>\n",
              "      <td>1.0</td>\n",
              "      <td>0.0</td>\n",
              "      <td>0.0</td>\n",
              "      <td>0.0</td>\n",
              "      <td>0.0</td>\n",
              "      <td>0.0</td>\n",
              "      <td>0.0</td>\n",
              "      <td>0.0</td>\n",
              "      <td>0.0</td>\n",
              "    </tr>\n",
              "    <tr>\n",
              "      <th>...</th>\n",
              "      <td>...</td>\n",
              "      <td>...</td>\n",
              "      <td>...</td>\n",
              "      <td>...</td>\n",
              "      <td>...</td>\n",
              "      <td>...</td>\n",
              "      <td>...</td>\n",
              "      <td>...</td>\n",
              "      <td>...</td>\n",
              "      <td>...</td>\n",
              "      <td>...</td>\n",
              "      <td>...</td>\n",
              "      <td>...</td>\n",
              "      <td>...</td>\n",
              "      <td>...</td>\n",
              "      <td>...</td>\n",
              "      <td>...</td>\n",
              "      <td>...</td>\n",
              "      <td>...</td>\n",
              "      <td>...</td>\n",
              "      <td>...</td>\n",
              "      <td>...</td>\n",
              "      <td>...</td>\n",
              "      <td>...</td>\n",
              "      <td>...</td>\n",
              "      <td>...</td>\n",
              "      <td>...</td>\n",
              "      <td>...</td>\n",
              "      <td>...</td>\n",
              "      <td>...</td>\n",
              "      <td>...</td>\n",
              "      <td>...</td>\n",
              "      <td>...</td>\n",
              "      <td>...</td>\n",
              "      <td>...</td>\n",
              "      <td>...</td>\n",
              "      <td>...</td>\n",
              "      <td>...</td>\n",
              "      <td>...</td>\n",
              "    </tr>\n",
              "    <tr>\n",
              "      <th>8518</th>\n",
              "      <td>FDF22</td>\n",
              "      <td>6.865</td>\n",
              "      <td>0</td>\n",
              "      <td>Snack Foods</td>\n",
              "      <td>13</td>\n",
              "      <td>214.5218</td>\n",
              "      <td>OUT013</td>\n",
              "      <td>1</td>\n",
              "      <td>1</td>\n",
              "      <td>3</td>\n",
              "      <td>3</td>\n",
              "      <td>1</td>\n",
              "      <td>2778.3834</td>\n",
              "      <td>0.0</td>\n",
              "      <td>0.0</td>\n",
              "      <td>0.0</td>\n",
              "      <td>0.0</td>\n",
              "      <td>0.0</td>\n",
              "      <td>0.0</td>\n",
              "      <td>0.0</td>\n",
              "      <td>0.0</td>\n",
              "      <td>0.0</td>\n",
              "      <td>0.0</td>\n",
              "      <td>0.0</td>\n",
              "      <td>0.0</td>\n",
              "      <td>0.0</td>\n",
              "      <td>1.0</td>\n",
              "      <td>0.0</td>\n",
              "      <td>0.0</td>\n",
              "      <td>0.0</td>\n",
              "      <td>1.0</td>\n",
              "      <td>0.0</td>\n",
              "      <td>0.0</td>\n",
              "      <td>0.0</td>\n",
              "      <td>0.0</td>\n",
              "      <td>0.0</td>\n",
              "      <td>0.0</td>\n",
              "      <td>0.0</td>\n",
              "      <td>0.0</td>\n",
              "    </tr>\n",
              "    <tr>\n",
              "      <th>8519</th>\n",
              "      <td>FDS36</td>\n",
              "      <td>8.380</td>\n",
              "      <td>1</td>\n",
              "      <td>Baking Goods</td>\n",
              "      <td>0</td>\n",
              "      <td>108.1570</td>\n",
              "      <td>OUT045</td>\n",
              "      <td>7</td>\n",
              "      <td>5</td>\n",
              "      <td>0</td>\n",
              "      <td>2</td>\n",
              "      <td>1</td>\n",
              "      <td>549.2850</td>\n",
              "      <td>1.0</td>\n",
              "      <td>0.0</td>\n",
              "      <td>0.0</td>\n",
              "      <td>0.0</td>\n",
              "      <td>0.0</td>\n",
              "      <td>0.0</td>\n",
              "      <td>0.0</td>\n",
              "      <td>0.0</td>\n",
              "      <td>0.0</td>\n",
              "      <td>0.0</td>\n",
              "      <td>0.0</td>\n",
              "      <td>0.0</td>\n",
              "      <td>0.0</td>\n",
              "      <td>0.0</td>\n",
              "      <td>0.0</td>\n",
              "      <td>0.0</td>\n",
              "      <td>0.0</td>\n",
              "      <td>0.0</td>\n",
              "      <td>0.0</td>\n",
              "      <td>0.0</td>\n",
              "      <td>0.0</td>\n",
              "      <td>0.0</td>\n",
              "      <td>0.0</td>\n",
              "      <td>1.0</td>\n",
              "      <td>0.0</td>\n",
              "      <td>0.0</td>\n",
              "    </tr>\n",
              "    <tr>\n",
              "      <th>8520</th>\n",
              "      <td>NCJ29</td>\n",
              "      <td>10.600</td>\n",
              "      <td>0</td>\n",
              "      <td>Health and Hygiene</td>\n",
              "      <td>8</td>\n",
              "      <td>85.1224</td>\n",
              "      <td>OUT035</td>\n",
              "      <td>6</td>\n",
              "      <td>6</td>\n",
              "      <td>1</td>\n",
              "      <td>2</td>\n",
              "      <td>1</td>\n",
              "      <td>1193.1136</td>\n",
              "      <td>0.0</td>\n",
              "      <td>0.0</td>\n",
              "      <td>0.0</td>\n",
              "      <td>0.0</td>\n",
              "      <td>0.0</td>\n",
              "      <td>0.0</td>\n",
              "      <td>0.0</td>\n",
              "      <td>0.0</td>\n",
              "      <td>1.0</td>\n",
              "      <td>0.0</td>\n",
              "      <td>0.0</td>\n",
              "      <td>0.0</td>\n",
              "      <td>0.0</td>\n",
              "      <td>0.0</td>\n",
              "      <td>0.0</td>\n",
              "      <td>0.0</td>\n",
              "      <td>0.0</td>\n",
              "      <td>0.0</td>\n",
              "      <td>0.0</td>\n",
              "      <td>0.0</td>\n",
              "      <td>0.0</td>\n",
              "      <td>0.0</td>\n",
              "      <td>1.0</td>\n",
              "      <td>0.0</td>\n",
              "      <td>0.0</td>\n",
              "      <td>0.0</td>\n",
              "    </tr>\n",
              "    <tr>\n",
              "      <th>8521</th>\n",
              "      <td>FDN46</td>\n",
              "      <td>7.210</td>\n",
              "      <td>1</td>\n",
              "      <td>Snack Foods</td>\n",
              "      <td>13</td>\n",
              "      <td>103.1332</td>\n",
              "      <td>OUT018</td>\n",
              "      <td>3</td>\n",
              "      <td>8</td>\n",
              "      <td>2</td>\n",
              "      <td>3</td>\n",
              "      <td>2</td>\n",
              "      <td>1845.5976</td>\n",
              "      <td>0.0</td>\n",
              "      <td>0.0</td>\n",
              "      <td>0.0</td>\n",
              "      <td>0.0</td>\n",
              "      <td>0.0</td>\n",
              "      <td>0.0</td>\n",
              "      <td>0.0</td>\n",
              "      <td>0.0</td>\n",
              "      <td>0.0</td>\n",
              "      <td>0.0</td>\n",
              "      <td>0.0</td>\n",
              "      <td>0.0</td>\n",
              "      <td>0.0</td>\n",
              "      <td>1.0</td>\n",
              "      <td>0.0</td>\n",
              "      <td>0.0</td>\n",
              "      <td>0.0</td>\n",
              "      <td>0.0</td>\n",
              "      <td>0.0</td>\n",
              "      <td>1.0</td>\n",
              "      <td>0.0</td>\n",
              "      <td>0.0</td>\n",
              "      <td>0.0</td>\n",
              "      <td>0.0</td>\n",
              "      <td>0.0</td>\n",
              "      <td>0.0</td>\n",
              "    </tr>\n",
              "    <tr>\n",
              "      <th>8522</th>\n",
              "      <td>DRG01</td>\n",
              "      <td>14.800</td>\n",
              "      <td>0</td>\n",
              "      <td>Soft Drinks</td>\n",
              "      <td>14</td>\n",
              "      <td>75.4670</td>\n",
              "      <td>OUT046</td>\n",
              "      <td>8</td>\n",
              "      <td>2</td>\n",
              "      <td>1</td>\n",
              "      <td>1</td>\n",
              "      <td>1</td>\n",
              "      <td>765.6700</td>\n",
              "      <td>0.0</td>\n",
              "      <td>0.0</td>\n",
              "      <td>0.0</td>\n",
              "      <td>0.0</td>\n",
              "      <td>0.0</td>\n",
              "      <td>0.0</td>\n",
              "      <td>0.0</td>\n",
              "      <td>0.0</td>\n",
              "      <td>0.0</td>\n",
              "      <td>0.0</td>\n",
              "      <td>0.0</td>\n",
              "      <td>0.0</td>\n",
              "      <td>0.0</td>\n",
              "      <td>0.0</td>\n",
              "      <td>1.0</td>\n",
              "      <td>0.0</td>\n",
              "      <td>0.0</td>\n",
              "      <td>0.0</td>\n",
              "      <td>0.0</td>\n",
              "      <td>0.0</td>\n",
              "      <td>0.0</td>\n",
              "      <td>0.0</td>\n",
              "      <td>0.0</td>\n",
              "      <td>0.0</td>\n",
              "      <td>1.0</td>\n",
              "      <td>0.0</td>\n",
              "    </tr>\n",
              "  </tbody>\n",
              "</table>\n",
              "<p>8523 rows × 39 columns</p>\n",
              "</div>"
            ],
            "text/plain": [
              "     Item_Identifier  ...  Outlet_Identifier_OUT049\n",
              "0              FDA15  ...                       1.0\n",
              "1              DRC01  ...                       0.0\n",
              "2              FDN15  ...                       1.0\n",
              "3              FDX07  ...                       0.0\n",
              "4              NCD19  ...                       0.0\n",
              "...              ...  ...                       ...\n",
              "8518           FDF22  ...                       0.0\n",
              "8519           FDS36  ...                       0.0\n",
              "8520           NCJ29  ...                       0.0\n",
              "8521           FDN46  ...                       0.0\n",
              "8522           DRG01  ...                       0.0\n",
              "\n",
              "[8523 rows x 39 columns]"
            ]
          },
          "metadata": {
            "tags": []
          },
          "execution_count": 99
        }
      ]
    },
    {
      "cell_type": "code",
      "metadata": {
        "id": "5EQOkB4bguDC",
        "colab": {
          "base_uri": "https://localhost:8080/",
          "height": 257
        },
        "outputId": "6d0e6b52-5b4f-4ce4-8ab0-ce13e2183495"
      },
      "source": [
        "# First feature matrix utilizing all data from dataset except columns that contain strings and\n",
        "# wrongly ordered columns that then were broken into categories in a OneHot situation\n",
        "\n",
        "ms_filter = mod_sales_ohe.loc[:, ['Item_Identifier', 'transformed_Item_Type', 'transformed_Outlet_Identifier', 'Item_Type', 'Outlet_Identifier', 'Item_Outlet_Sales']]\n",
        "mod_sales_X = mod_sales_ohe.drop(columns = ms_filter)\n",
        "\n",
        "mod_sales_X.head()"
      ],
      "execution_count": 100,
      "outputs": [
        {
          "output_type": "execute_result",
          "data": {
            "text/html": [
              "<div>\n",
              "<style scoped>\n",
              "    .dataframe tbody tr th:only-of-type {\n",
              "        vertical-align: middle;\n",
              "    }\n",
              "\n",
              "    .dataframe tbody tr th {\n",
              "        vertical-align: top;\n",
              "    }\n",
              "\n",
              "    .dataframe thead th {\n",
              "        text-align: right;\n",
              "    }\n",
              "</style>\n",
              "<table border=\"1\" class=\"dataframe\">\n",
              "  <thead>\n",
              "    <tr style=\"text-align: right;\">\n",
              "      <th></th>\n",
              "      <th>Item_Weight</th>\n",
              "      <th>Item_Fat_Content</th>\n",
              "      <th>Item_MRP</th>\n",
              "      <th>Outlet_Establishment_Year</th>\n",
              "      <th>Outlet_Size</th>\n",
              "      <th>Outlet_Location_Type</th>\n",
              "      <th>Outlet_Type</th>\n",
              "      <th>Baking Goods</th>\n",
              "      <th>Breads</th>\n",
              "      <th>Breakfast</th>\n",
              "      <th>Canned</th>\n",
              "      <th>Dairy</th>\n",
              "      <th>Frozen Foods</th>\n",
              "      <th>Fruits and Vegetables</th>\n",
              "      <th>Hard Drinks</th>\n",
              "      <th>Health and Hygiene</th>\n",
              "      <th>Household</th>\n",
              "      <th>Meat</th>\n",
              "      <th>Others</th>\n",
              "      <th>Seafood</th>\n",
              "      <th>Snack Foods</th>\n",
              "      <th>Soft Drinks</th>\n",
              "      <th>Starchy Foods</th>\n",
              "      <th>Outlet_Identifier_OUT010</th>\n",
              "      <th>Outlet_Identifier_OUT013</th>\n",
              "      <th>Outlet_Identifier_OUT017</th>\n",
              "      <th>Outlet_Identifier_OUT018</th>\n",
              "      <th>Outlet_Identifier_OUT019</th>\n",
              "      <th>Outlet_Identifier_OUT027</th>\n",
              "      <th>Outlet_Identifier_OUT035</th>\n",
              "      <th>Outlet_Identifier_OUT045</th>\n",
              "      <th>Outlet_Identifier_OUT046</th>\n",
              "      <th>Outlet_Identifier_OUT049</th>\n",
              "    </tr>\n",
              "  </thead>\n",
              "  <tbody>\n",
              "    <tr>\n",
              "      <th>0</th>\n",
              "      <td>9.30</td>\n",
              "      <td>0</td>\n",
              "      <td>249.8092</td>\n",
              "      <td>4</td>\n",
              "      <td>2</td>\n",
              "      <td>1</td>\n",
              "      <td>1</td>\n",
              "      <td>0.0</td>\n",
              "      <td>0.0</td>\n",
              "      <td>0.0</td>\n",
              "      <td>0.0</td>\n",
              "      <td>1.0</td>\n",
              "      <td>0.0</td>\n",
              "      <td>0.0</td>\n",
              "      <td>0.0</td>\n",
              "      <td>0.0</td>\n",
              "      <td>0.0</td>\n",
              "      <td>0.0</td>\n",
              "      <td>0.0</td>\n",
              "      <td>0.0</td>\n",
              "      <td>0.0</td>\n",
              "      <td>0.0</td>\n",
              "      <td>0.0</td>\n",
              "      <td>0.0</td>\n",
              "      <td>0.0</td>\n",
              "      <td>0.0</td>\n",
              "      <td>0.0</td>\n",
              "      <td>0.0</td>\n",
              "      <td>0.0</td>\n",
              "      <td>0.0</td>\n",
              "      <td>0.0</td>\n",
              "      <td>0.0</td>\n",
              "      <td>1.0</td>\n",
              "    </tr>\n",
              "    <tr>\n",
              "      <th>1</th>\n",
              "      <td>5.92</td>\n",
              "      <td>1</td>\n",
              "      <td>48.2692</td>\n",
              "      <td>8</td>\n",
              "      <td>2</td>\n",
              "      <td>3</td>\n",
              "      <td>2</td>\n",
              "      <td>0.0</td>\n",
              "      <td>0.0</td>\n",
              "      <td>0.0</td>\n",
              "      <td>0.0</td>\n",
              "      <td>0.0</td>\n",
              "      <td>0.0</td>\n",
              "      <td>0.0</td>\n",
              "      <td>0.0</td>\n",
              "      <td>0.0</td>\n",
              "      <td>0.0</td>\n",
              "      <td>0.0</td>\n",
              "      <td>0.0</td>\n",
              "      <td>0.0</td>\n",
              "      <td>0.0</td>\n",
              "      <td>1.0</td>\n",
              "      <td>0.0</td>\n",
              "      <td>0.0</td>\n",
              "      <td>0.0</td>\n",
              "      <td>0.0</td>\n",
              "      <td>1.0</td>\n",
              "      <td>0.0</td>\n",
              "      <td>0.0</td>\n",
              "      <td>0.0</td>\n",
              "      <td>0.0</td>\n",
              "      <td>0.0</td>\n",
              "      <td>0.0</td>\n",
              "    </tr>\n",
              "    <tr>\n",
              "      <th>2</th>\n",
              "      <td>17.50</td>\n",
              "      <td>0</td>\n",
              "      <td>141.6180</td>\n",
              "      <td>4</td>\n",
              "      <td>2</td>\n",
              "      <td>1</td>\n",
              "      <td>1</td>\n",
              "      <td>0.0</td>\n",
              "      <td>0.0</td>\n",
              "      <td>0.0</td>\n",
              "      <td>0.0</td>\n",
              "      <td>0.0</td>\n",
              "      <td>0.0</td>\n",
              "      <td>0.0</td>\n",
              "      <td>0.0</td>\n",
              "      <td>0.0</td>\n",
              "      <td>0.0</td>\n",
              "      <td>1.0</td>\n",
              "      <td>0.0</td>\n",
              "      <td>0.0</td>\n",
              "      <td>0.0</td>\n",
              "      <td>0.0</td>\n",
              "      <td>0.0</td>\n",
              "      <td>0.0</td>\n",
              "      <td>0.0</td>\n",
              "      <td>0.0</td>\n",
              "      <td>0.0</td>\n",
              "      <td>0.0</td>\n",
              "      <td>0.0</td>\n",
              "      <td>0.0</td>\n",
              "      <td>0.0</td>\n",
              "      <td>0.0</td>\n",
              "      <td>1.0</td>\n",
              "    </tr>\n",
              "    <tr>\n",
              "      <th>3</th>\n",
              "      <td>19.20</td>\n",
              "      <td>1</td>\n",
              "      <td>182.0950</td>\n",
              "      <td>3</td>\n",
              "      <td>0</td>\n",
              "      <td>3</td>\n",
              "      <td>0</td>\n",
              "      <td>0.0</td>\n",
              "      <td>0.0</td>\n",
              "      <td>0.0</td>\n",
              "      <td>0.0</td>\n",
              "      <td>0.0</td>\n",
              "      <td>0.0</td>\n",
              "      <td>1.0</td>\n",
              "      <td>0.0</td>\n",
              "      <td>0.0</td>\n",
              "      <td>0.0</td>\n",
              "      <td>0.0</td>\n",
              "      <td>0.0</td>\n",
              "      <td>0.0</td>\n",
              "      <td>0.0</td>\n",
              "      <td>0.0</td>\n",
              "      <td>0.0</td>\n",
              "      <td>1.0</td>\n",
              "      <td>0.0</td>\n",
              "      <td>0.0</td>\n",
              "      <td>0.0</td>\n",
              "      <td>0.0</td>\n",
              "      <td>0.0</td>\n",
              "      <td>0.0</td>\n",
              "      <td>0.0</td>\n",
              "      <td>0.0</td>\n",
              "      <td>0.0</td>\n",
              "    </tr>\n",
              "    <tr>\n",
              "      <th>4</th>\n",
              "      <td>8.93</td>\n",
              "      <td>0</td>\n",
              "      <td>53.8614</td>\n",
              "      <td>1</td>\n",
              "      <td>3</td>\n",
              "      <td>3</td>\n",
              "      <td>1</td>\n",
              "      <td>0.0</td>\n",
              "      <td>0.0</td>\n",
              "      <td>0.0</td>\n",
              "      <td>0.0</td>\n",
              "      <td>0.0</td>\n",
              "      <td>0.0</td>\n",
              "      <td>0.0</td>\n",
              "      <td>0.0</td>\n",
              "      <td>0.0</td>\n",
              "      <td>1.0</td>\n",
              "      <td>0.0</td>\n",
              "      <td>0.0</td>\n",
              "      <td>0.0</td>\n",
              "      <td>0.0</td>\n",
              "      <td>0.0</td>\n",
              "      <td>0.0</td>\n",
              "      <td>0.0</td>\n",
              "      <td>1.0</td>\n",
              "      <td>0.0</td>\n",
              "      <td>0.0</td>\n",
              "      <td>0.0</td>\n",
              "      <td>0.0</td>\n",
              "      <td>0.0</td>\n",
              "      <td>0.0</td>\n",
              "      <td>0.0</td>\n",
              "      <td>0.0</td>\n",
              "    </tr>\n",
              "  </tbody>\n",
              "</table>\n",
              "</div>"
            ],
            "text/plain": [
              "   Item_Weight  ...  Outlet_Identifier_OUT049\n",
              "0         9.30  ...                       1.0\n",
              "1         5.92  ...                       0.0\n",
              "2        17.50  ...                       1.0\n",
              "3        19.20  ...                       0.0\n",
              "4         8.93  ...                       0.0\n",
              "\n",
              "[5 rows x 33 columns]"
            ]
          },
          "metadata": {
            "tags": []
          },
          "execution_count": 100
        }
      ]
    },
    {
      "cell_type": "code",
      "metadata": {
        "id": "beVxrhGJh7gW",
        "colab": {
          "base_uri": "https://localhost:8080/"
        },
        "outputId": "eda54e2b-0bcd-474e-c544-f308778f87b5"
      },
      "source": [
        "X = mod_sales_X.values\n",
        "X.shape"
      ],
      "execution_count": 101,
      "outputs": [
        {
          "output_type": "execute_result",
          "data": {
            "text/plain": [
              "(8523, 33)"
            ]
          },
          "metadata": {
            "tags": []
          },
          "execution_count": 101
        }
      ]
    },
    {
      "cell_type": "code",
      "metadata": {
        "id": "NNXv1CjxkEGk",
        "colab": {
          "base_uri": "https://localhost:8080/"
        },
        "outputId": "caef76cd-a9bb-48e2-d5cd-febde2728e52"
      },
      "source": [
        "#target vector\n",
        "\n",
        "y = mod_sales.loc[:, 'Item_Outlet_Sales'].values\n",
        "y.shape"
      ],
      "execution_count": 102,
      "outputs": [
        {
          "output_type": "execute_result",
          "data": {
            "text/plain": [
              "(8523,)"
            ]
          },
          "metadata": {
            "tags": []
          },
          "execution_count": 102
        }
      ]
    },
    {
      "cell_type": "code",
      "metadata": {
        "id": "GQhs9q5ckT71"
      },
      "source": [
        "reg = LinearRegression()"
      ],
      "execution_count": 103,
      "outputs": []
    },
    {
      "cell_type": "code",
      "metadata": {
        "id": "RrT89NgWl1ep",
        "colab": {
          "base_uri": "https://localhost:8080/"
        },
        "outputId": "f0f2758c-8ea7-4fc7-85bd-148ce4334ddf"
      },
      "source": [
        "reg.fit(X,y)"
      ],
      "execution_count": 104,
      "outputs": [
        {
          "output_type": "execute_result",
          "data": {
            "text/plain": [
              "LinearRegression(copy_X=True, fit_intercept=True, n_jobs=None, normalize=False)"
            ]
          },
          "metadata": {
            "tags": []
          },
          "execution_count": 104
        }
      ]
    },
    {
      "cell_type": "code",
      "metadata": {
        "id": "for0JwLpl5Df",
        "colab": {
          "base_uri": "https://localhost:8080/"
        },
        "outputId": "6573e232-c6e2-4925-d3a7-de249c884e48"
      },
      "source": [
        "pred = reg.predict(X)\n",
        "pred"
      ],
      "execution_count": 105,
      "outputs": [
        {
          "output_type": "execute_result",
          "data": {
            "text/plain": [
              "array([4004.03125   ,  548.69140625, 2359.87109375, ..., 1521.4453125 ,\n",
              "       1417.77734375, 1206.1875    ])"
            ]
          },
          "metadata": {
            "tags": []
          },
          "execution_count": 105
        }
      ]
    },
    {
      "cell_type": "code",
      "metadata": {
        "id": "mVfhG2WRrk9x",
        "colab": {
          "base_uri": "https://localhost:8080/"
        },
        "outputId": "a0e23900-cc1f-4cf8-9a47-dfaf3362252a"
      },
      "source": [
        "score = reg.score(X, y)\n",
        "\n",
        "score"
      ],
      "execution_count": 106,
      "outputs": [
        {
          "output_type": "execute_result",
          "data": {
            "text/plain": [
              "0.5636881077433815"
            ]
          },
          "metadata": {
            "tags": []
          },
          "execution_count": 106
        }
      ]
    },
    {
      "cell_type": "code",
      "metadata": {
        "id": "frjPdmgRsBBY",
        "colab": {
          "base_uri": "https://localhost:8080/"
        },
        "outputId": "e776ad0b-b4e8-44aa-b0c2-df18c44c3ad7"
      },
      "source": [
        "np.sqrt(mean_squared_error(y, pred))"
      ],
      "execution_count": 107,
      "outputs": [
        {
          "output_type": "execute_result",
          "data": {
            "text/plain": [
              "1127.1435774690665"
            ]
          },
          "metadata": {
            "tags": []
          },
          "execution_count": 107
        }
      ]
    },
    {
      "cell_type": "code",
      "metadata": {
        "id": "O1BfyEJUsyXG",
        "colab": {
          "base_uri": "https://localhost:8080/",
          "height": 377
        },
        "outputId": "af1dc468-e8af-4f79-e6ca-ba99e24e35aa"
      },
      "source": [
        "sales.corr()"
      ],
      "execution_count": 108,
      "outputs": [
        {
          "output_type": "execute_result",
          "data": {
            "text/html": [
              "<div>\n",
              "<style scoped>\n",
              "    .dataframe tbody tr th:only-of-type {\n",
              "        vertical-align: middle;\n",
              "    }\n",
              "\n",
              "    .dataframe tbody tr th {\n",
              "        vertical-align: top;\n",
              "    }\n",
              "\n",
              "    .dataframe thead th {\n",
              "        text-align: right;\n",
              "    }\n",
              "</style>\n",
              "<table border=\"1\" class=\"dataframe\">\n",
              "  <thead>\n",
              "    <tr style=\"text-align: right;\">\n",
              "      <th></th>\n",
              "      <th>Item_Weight</th>\n",
              "      <th>Item_Fat_Content</th>\n",
              "      <th>transformed_Item_Type</th>\n",
              "      <th>Item_MRP</th>\n",
              "      <th>transformed_Outlet_Identifier</th>\n",
              "      <th>Outlet_Establishment_Year</th>\n",
              "      <th>Outlet_Size</th>\n",
              "      <th>Outlet_Location_Type</th>\n",
              "      <th>Outlet_Type</th>\n",
              "      <th>Item_Outlet_Sales</th>\n",
              "    </tr>\n",
              "  </thead>\n",
              "  <tbody>\n",
              "    <tr>\n",
              "      <th>Item_Weight</th>\n",
              "      <td>1.000000</td>\n",
              "      <td>-0.011943</td>\n",
              "      <td>0.019390</td>\n",
              "      <td>0.022859</td>\n",
              "      <td>0.004822</td>\n",
              "      <td>0.471542</td>\n",
              "      <td>-0.120341</td>\n",
              "      <td>-0.067122</td>\n",
              "      <td>-0.308917</td>\n",
              "      <td>-0.053222</td>\n",
              "    </tr>\n",
              "    <tr>\n",
              "      <th>Item_Fat_Content</th>\n",
              "      <td>-0.011943</td>\n",
              "      <td>1.000000</td>\n",
              "      <td>-0.139434</td>\n",
              "      <td>0.006063</td>\n",
              "      <td>0.000764</td>\n",
              "      <td>0.002447</td>\n",
              "      <td>0.001365</td>\n",
              "      <td>-0.001598</td>\n",
              "      <td>0.002199</td>\n",
              "      <td>0.018719</td>\n",
              "    </tr>\n",
              "    <tr>\n",
              "      <th>transformed_Item_Type</th>\n",
              "      <td>0.019390</td>\n",
              "      <td>-0.139434</td>\n",
              "      <td>1.000000</td>\n",
              "      <td>0.032651</td>\n",
              "      <td>0.001656</td>\n",
              "      <td>0.006527</td>\n",
              "      <td>-0.000827</td>\n",
              "      <td>0.003084</td>\n",
              "      <td>0.003053</td>\n",
              "      <td>0.017048</td>\n",
              "    </tr>\n",
              "    <tr>\n",
              "      <th>Item_MRP</th>\n",
              "      <td>0.022859</td>\n",
              "      <td>0.006063</td>\n",
              "      <td>0.032651</td>\n",
              "      <td>1.000000</td>\n",
              "      <td>0.003319</td>\n",
              "      <td>0.004162</td>\n",
              "      <td>0.002473</td>\n",
              "      <td>0.000232</td>\n",
              "      <td>-0.001975</td>\n",
              "      <td>0.567574</td>\n",
              "    </tr>\n",
              "    <tr>\n",
              "      <th>transformed_Outlet_Identifier</th>\n",
              "      <td>0.004822</td>\n",
              "      <td>0.000764</td>\n",
              "      <td>0.001656</td>\n",
              "      <td>0.003319</td>\n",
              "      <td>1.000000</td>\n",
              "      <td>-0.030969</td>\n",
              "      <td>-0.053224</td>\n",
              "      <td>-0.716176</td>\n",
              "      <td>0.099873</td>\n",
              "      <td>0.162325</td>\n",
              "    </tr>\n",
              "    <tr>\n",
              "      <th>Outlet_Establishment_Year</th>\n",
              "      <td>0.471542</td>\n",
              "      <td>0.002447</td>\n",
              "      <td>0.006527</td>\n",
              "      <td>0.004162</td>\n",
              "      <td>-0.030969</td>\n",
              "      <td>1.000000</td>\n",
              "      <td>-0.360690</td>\n",
              "      <td>0.042005</td>\n",
              "      <td>-0.040040</td>\n",
              "      <td>-0.025525</td>\n",
              "    </tr>\n",
              "    <tr>\n",
              "      <th>Outlet_Size</th>\n",
              "      <td>-0.120341</td>\n",
              "      <td>0.001365</td>\n",
              "      <td>-0.000827</td>\n",
              "      <td>0.002473</td>\n",
              "      <td>-0.053224</td>\n",
              "      <td>-0.360690</td>\n",
              "      <td>1.000000</td>\n",
              "      <td>0.290216</td>\n",
              "      <td>0.432062</td>\n",
              "      <td>0.172477</td>\n",
              "    </tr>\n",
              "    <tr>\n",
              "      <th>Outlet_Location_Type</th>\n",
              "      <td>-0.067122</td>\n",
              "      <td>-0.001598</td>\n",
              "      <td>0.003084</td>\n",
              "      <td>0.000232</td>\n",
              "      <td>-0.716176</td>\n",
              "      <td>0.042005</td>\n",
              "      <td>0.290216</td>\n",
              "      <td>1.000000</td>\n",
              "      <td>0.467219</td>\n",
              "      <td>0.089367</td>\n",
              "    </tr>\n",
              "    <tr>\n",
              "      <th>Outlet_Type</th>\n",
              "      <td>-0.308917</td>\n",
              "      <td>0.002199</td>\n",
              "      <td>0.003053</td>\n",
              "      <td>-0.001975</td>\n",
              "      <td>0.099873</td>\n",
              "      <td>-0.040040</td>\n",
              "      <td>0.432062</td>\n",
              "      <td>0.467219</td>\n",
              "      <td>1.000000</td>\n",
              "      <td>0.401522</td>\n",
              "    </tr>\n",
              "    <tr>\n",
              "      <th>Item_Outlet_Sales</th>\n",
              "      <td>-0.053222</td>\n",
              "      <td>0.018719</td>\n",
              "      <td>0.017048</td>\n",
              "      <td>0.567574</td>\n",
              "      <td>0.162325</td>\n",
              "      <td>-0.025525</td>\n",
              "      <td>0.172477</td>\n",
              "      <td>0.089367</td>\n",
              "      <td>0.401522</td>\n",
              "      <td>1.000000</td>\n",
              "    </tr>\n",
              "  </tbody>\n",
              "</table>\n",
              "</div>"
            ],
            "text/plain": [
              "                               Item_Weight  ...  Item_Outlet_Sales\n",
              "Item_Weight                       1.000000  ...          -0.053222\n",
              "Item_Fat_Content                 -0.011943  ...           0.018719\n",
              "transformed_Item_Type             0.019390  ...           0.017048\n",
              "Item_MRP                          0.022859  ...           0.567574\n",
              "transformed_Outlet_Identifier     0.004822  ...           0.162325\n",
              "Outlet_Establishment_Year         0.471542  ...          -0.025525\n",
              "Outlet_Size                      -0.120341  ...           0.172477\n",
              "Outlet_Location_Type             -0.067122  ...           0.089367\n",
              "Outlet_Type                      -0.308917  ...           0.401522\n",
              "Item_Outlet_Sales                -0.053222  ...           1.000000\n",
              "\n",
              "[10 rows x 10 columns]"
            ]
          },
          "metadata": {
            "tags": []
          },
          "execution_count": 108
        }
      ]
    },
    {
      "cell_type": "markdown",
      "metadata": {
        "id": "pVWXUBGt0n3H"
      },
      "source": [
        "\n",
        "\n",
        "\n",
        ">  Removing zero from the Item_Weight column\n",
        "\n",
        "\n",
        "\n",
        "\n"
      ]
    },
    {
      "cell_type": "code",
      "metadata": {
        "id": "OINu-5L6u-Dm"
      },
      "source": [
        "weight_filter = mod_sales_ohe.loc[:, 'Item_Weight'] <= 0\n",
        "mod_sales_weight_filter = mod_sales_X.loc[~weight_filter, :]"
      ],
      "execution_count": 109,
      "outputs": []
    },
    {
      "cell_type": "code",
      "metadata": {
        "id": "K6uxW5dWuNg_"
      },
      "source": [
        "# Second and Third Atempt... feature matrix - removing the zero I imputed in the Item_Weight column\n",
        "# during EDA (nothing weighs 0.000. I imputed to preserve the as much data as possible)\n",
        "\n",
        "mod_sales_X_2nd = mod_sales_weight_filter.loc[:, ['Item_Weight', 'Item_MRP', 'Outlet_Size', 'Outlet_Establishment_Year', 'Outlet_Type', 'Outlet_Location_Type']]\n",
        "mod_sales_X_3rd = mod_sales_weight_filter"
      ],
      "execution_count": 110,
      "outputs": []
    },
    {
      "cell_type": "code",
      "metadata": {
        "id": "HSqaYeIMHLVY",
        "colab": {
          "base_uri": "https://localhost:8080/",
          "height": 223
        },
        "outputId": "fb2f0aea-f57c-4fd4-f0b7-72441e24de23"
      },
      "source": [
        "# With the second attempt I am randomly choosing columns I think will contribute to the model\n",
        "\n",
        "mod_sales_X_2nd.head()"
      ],
      "execution_count": 111,
      "outputs": [
        {
          "output_type": "execute_result",
          "data": {
            "text/html": [
              "<div>\n",
              "<style scoped>\n",
              "    .dataframe tbody tr th:only-of-type {\n",
              "        vertical-align: middle;\n",
              "    }\n",
              "\n",
              "    .dataframe tbody tr th {\n",
              "        vertical-align: top;\n",
              "    }\n",
              "\n",
              "    .dataframe thead th {\n",
              "        text-align: right;\n",
              "    }\n",
              "</style>\n",
              "<table border=\"1\" class=\"dataframe\">\n",
              "  <thead>\n",
              "    <tr style=\"text-align: right;\">\n",
              "      <th></th>\n",
              "      <th>Item_Weight</th>\n",
              "      <th>Item_MRP</th>\n",
              "      <th>Outlet_Size</th>\n",
              "      <th>Outlet_Establishment_Year</th>\n",
              "      <th>Outlet_Type</th>\n",
              "      <th>Outlet_Location_Type</th>\n",
              "    </tr>\n",
              "  </thead>\n",
              "  <tbody>\n",
              "    <tr>\n",
              "      <th>0</th>\n",
              "      <td>9.30</td>\n",
              "      <td>249.8092</td>\n",
              "      <td>2</td>\n",
              "      <td>4</td>\n",
              "      <td>1</td>\n",
              "      <td>1</td>\n",
              "    </tr>\n",
              "    <tr>\n",
              "      <th>1</th>\n",
              "      <td>5.92</td>\n",
              "      <td>48.2692</td>\n",
              "      <td>2</td>\n",
              "      <td>8</td>\n",
              "      <td>2</td>\n",
              "      <td>3</td>\n",
              "    </tr>\n",
              "    <tr>\n",
              "      <th>2</th>\n",
              "      <td>17.50</td>\n",
              "      <td>141.6180</td>\n",
              "      <td>2</td>\n",
              "      <td>4</td>\n",
              "      <td>1</td>\n",
              "      <td>1</td>\n",
              "    </tr>\n",
              "    <tr>\n",
              "      <th>3</th>\n",
              "      <td>19.20</td>\n",
              "      <td>182.0950</td>\n",
              "      <td>0</td>\n",
              "      <td>3</td>\n",
              "      <td>0</td>\n",
              "      <td>3</td>\n",
              "    </tr>\n",
              "    <tr>\n",
              "      <th>4</th>\n",
              "      <td>8.93</td>\n",
              "      <td>53.8614</td>\n",
              "      <td>3</td>\n",
              "      <td>1</td>\n",
              "      <td>1</td>\n",
              "      <td>3</td>\n",
              "    </tr>\n",
              "  </tbody>\n",
              "</table>\n",
              "</div>"
            ],
            "text/plain": [
              "   Item_Weight  Item_MRP  ...  Outlet_Type  Outlet_Location_Type\n",
              "0         9.30  249.8092  ...            1                     1\n",
              "1         5.92   48.2692  ...            2                     3\n",
              "2        17.50  141.6180  ...            1                     1\n",
              "3        19.20  182.0950  ...            0                     3\n",
              "4         8.93   53.8614  ...            1                     3\n",
              "\n",
              "[5 rows x 6 columns]"
            ]
          },
          "metadata": {
            "tags": []
          },
          "execution_count": 111
        }
      ]
    },
    {
      "cell_type": "code",
      "metadata": {
        "id": "g9RUwkcWHNq9",
        "colab": {
          "base_uri": "https://localhost:8080/",
          "height": 257
        },
        "outputId": "7b4c3d48-f2b3-435d-8c50-a797104c31ea"
      },
      "source": [
        "# With the third attempt I am choosing all columns, but I've still removed the zero values I\n",
        "# imputed during EDA\n",
        "\n",
        "mod_sales_X_3rd.head()"
      ],
      "execution_count": 112,
      "outputs": [
        {
          "output_type": "execute_result",
          "data": {
            "text/html": [
              "<div>\n",
              "<style scoped>\n",
              "    .dataframe tbody tr th:only-of-type {\n",
              "        vertical-align: middle;\n",
              "    }\n",
              "\n",
              "    .dataframe tbody tr th {\n",
              "        vertical-align: top;\n",
              "    }\n",
              "\n",
              "    .dataframe thead th {\n",
              "        text-align: right;\n",
              "    }\n",
              "</style>\n",
              "<table border=\"1\" class=\"dataframe\">\n",
              "  <thead>\n",
              "    <tr style=\"text-align: right;\">\n",
              "      <th></th>\n",
              "      <th>Item_Weight</th>\n",
              "      <th>Item_Fat_Content</th>\n",
              "      <th>Item_MRP</th>\n",
              "      <th>Outlet_Establishment_Year</th>\n",
              "      <th>Outlet_Size</th>\n",
              "      <th>Outlet_Location_Type</th>\n",
              "      <th>Outlet_Type</th>\n",
              "      <th>Baking Goods</th>\n",
              "      <th>Breads</th>\n",
              "      <th>Breakfast</th>\n",
              "      <th>Canned</th>\n",
              "      <th>Dairy</th>\n",
              "      <th>Frozen Foods</th>\n",
              "      <th>Fruits and Vegetables</th>\n",
              "      <th>Hard Drinks</th>\n",
              "      <th>Health and Hygiene</th>\n",
              "      <th>Household</th>\n",
              "      <th>Meat</th>\n",
              "      <th>Others</th>\n",
              "      <th>Seafood</th>\n",
              "      <th>Snack Foods</th>\n",
              "      <th>Soft Drinks</th>\n",
              "      <th>Starchy Foods</th>\n",
              "      <th>Outlet_Identifier_OUT010</th>\n",
              "      <th>Outlet_Identifier_OUT013</th>\n",
              "      <th>Outlet_Identifier_OUT017</th>\n",
              "      <th>Outlet_Identifier_OUT018</th>\n",
              "      <th>Outlet_Identifier_OUT019</th>\n",
              "      <th>Outlet_Identifier_OUT027</th>\n",
              "      <th>Outlet_Identifier_OUT035</th>\n",
              "      <th>Outlet_Identifier_OUT045</th>\n",
              "      <th>Outlet_Identifier_OUT046</th>\n",
              "      <th>Outlet_Identifier_OUT049</th>\n",
              "    </tr>\n",
              "  </thead>\n",
              "  <tbody>\n",
              "    <tr>\n",
              "      <th>0</th>\n",
              "      <td>9.30</td>\n",
              "      <td>0</td>\n",
              "      <td>249.8092</td>\n",
              "      <td>4</td>\n",
              "      <td>2</td>\n",
              "      <td>1</td>\n",
              "      <td>1</td>\n",
              "      <td>0.0</td>\n",
              "      <td>0.0</td>\n",
              "      <td>0.0</td>\n",
              "      <td>0.0</td>\n",
              "      <td>1.0</td>\n",
              "      <td>0.0</td>\n",
              "      <td>0.0</td>\n",
              "      <td>0.0</td>\n",
              "      <td>0.0</td>\n",
              "      <td>0.0</td>\n",
              "      <td>0.0</td>\n",
              "      <td>0.0</td>\n",
              "      <td>0.0</td>\n",
              "      <td>0.0</td>\n",
              "      <td>0.0</td>\n",
              "      <td>0.0</td>\n",
              "      <td>0.0</td>\n",
              "      <td>0.0</td>\n",
              "      <td>0.0</td>\n",
              "      <td>0.0</td>\n",
              "      <td>0.0</td>\n",
              "      <td>0.0</td>\n",
              "      <td>0.0</td>\n",
              "      <td>0.0</td>\n",
              "      <td>0.0</td>\n",
              "      <td>1.0</td>\n",
              "    </tr>\n",
              "    <tr>\n",
              "      <th>1</th>\n",
              "      <td>5.92</td>\n",
              "      <td>1</td>\n",
              "      <td>48.2692</td>\n",
              "      <td>8</td>\n",
              "      <td>2</td>\n",
              "      <td>3</td>\n",
              "      <td>2</td>\n",
              "      <td>0.0</td>\n",
              "      <td>0.0</td>\n",
              "      <td>0.0</td>\n",
              "      <td>0.0</td>\n",
              "      <td>0.0</td>\n",
              "      <td>0.0</td>\n",
              "      <td>0.0</td>\n",
              "      <td>0.0</td>\n",
              "      <td>0.0</td>\n",
              "      <td>0.0</td>\n",
              "      <td>0.0</td>\n",
              "      <td>0.0</td>\n",
              "      <td>0.0</td>\n",
              "      <td>0.0</td>\n",
              "      <td>1.0</td>\n",
              "      <td>0.0</td>\n",
              "      <td>0.0</td>\n",
              "      <td>0.0</td>\n",
              "      <td>0.0</td>\n",
              "      <td>1.0</td>\n",
              "      <td>0.0</td>\n",
              "      <td>0.0</td>\n",
              "      <td>0.0</td>\n",
              "      <td>0.0</td>\n",
              "      <td>0.0</td>\n",
              "      <td>0.0</td>\n",
              "    </tr>\n",
              "    <tr>\n",
              "      <th>2</th>\n",
              "      <td>17.50</td>\n",
              "      <td>0</td>\n",
              "      <td>141.6180</td>\n",
              "      <td>4</td>\n",
              "      <td>2</td>\n",
              "      <td>1</td>\n",
              "      <td>1</td>\n",
              "      <td>0.0</td>\n",
              "      <td>0.0</td>\n",
              "      <td>0.0</td>\n",
              "      <td>0.0</td>\n",
              "      <td>0.0</td>\n",
              "      <td>0.0</td>\n",
              "      <td>0.0</td>\n",
              "      <td>0.0</td>\n",
              "      <td>0.0</td>\n",
              "      <td>0.0</td>\n",
              "      <td>1.0</td>\n",
              "      <td>0.0</td>\n",
              "      <td>0.0</td>\n",
              "      <td>0.0</td>\n",
              "      <td>0.0</td>\n",
              "      <td>0.0</td>\n",
              "      <td>0.0</td>\n",
              "      <td>0.0</td>\n",
              "      <td>0.0</td>\n",
              "      <td>0.0</td>\n",
              "      <td>0.0</td>\n",
              "      <td>0.0</td>\n",
              "      <td>0.0</td>\n",
              "      <td>0.0</td>\n",
              "      <td>0.0</td>\n",
              "      <td>1.0</td>\n",
              "    </tr>\n",
              "    <tr>\n",
              "      <th>3</th>\n",
              "      <td>19.20</td>\n",
              "      <td>1</td>\n",
              "      <td>182.0950</td>\n",
              "      <td>3</td>\n",
              "      <td>0</td>\n",
              "      <td>3</td>\n",
              "      <td>0</td>\n",
              "      <td>0.0</td>\n",
              "      <td>0.0</td>\n",
              "      <td>0.0</td>\n",
              "      <td>0.0</td>\n",
              "      <td>0.0</td>\n",
              "      <td>0.0</td>\n",
              "      <td>1.0</td>\n",
              "      <td>0.0</td>\n",
              "      <td>0.0</td>\n",
              "      <td>0.0</td>\n",
              "      <td>0.0</td>\n",
              "      <td>0.0</td>\n",
              "      <td>0.0</td>\n",
              "      <td>0.0</td>\n",
              "      <td>0.0</td>\n",
              "      <td>0.0</td>\n",
              "      <td>1.0</td>\n",
              "      <td>0.0</td>\n",
              "      <td>0.0</td>\n",
              "      <td>0.0</td>\n",
              "      <td>0.0</td>\n",
              "      <td>0.0</td>\n",
              "      <td>0.0</td>\n",
              "      <td>0.0</td>\n",
              "      <td>0.0</td>\n",
              "      <td>0.0</td>\n",
              "    </tr>\n",
              "    <tr>\n",
              "      <th>4</th>\n",
              "      <td>8.93</td>\n",
              "      <td>0</td>\n",
              "      <td>53.8614</td>\n",
              "      <td>1</td>\n",
              "      <td>3</td>\n",
              "      <td>3</td>\n",
              "      <td>1</td>\n",
              "      <td>0.0</td>\n",
              "      <td>0.0</td>\n",
              "      <td>0.0</td>\n",
              "      <td>0.0</td>\n",
              "      <td>0.0</td>\n",
              "      <td>0.0</td>\n",
              "      <td>0.0</td>\n",
              "      <td>0.0</td>\n",
              "      <td>0.0</td>\n",
              "      <td>1.0</td>\n",
              "      <td>0.0</td>\n",
              "      <td>0.0</td>\n",
              "      <td>0.0</td>\n",
              "      <td>0.0</td>\n",
              "      <td>0.0</td>\n",
              "      <td>0.0</td>\n",
              "      <td>0.0</td>\n",
              "      <td>1.0</td>\n",
              "      <td>0.0</td>\n",
              "      <td>0.0</td>\n",
              "      <td>0.0</td>\n",
              "      <td>0.0</td>\n",
              "      <td>0.0</td>\n",
              "      <td>0.0</td>\n",
              "      <td>0.0</td>\n",
              "      <td>0.0</td>\n",
              "    </tr>\n",
              "  </tbody>\n",
              "</table>\n",
              "</div>"
            ],
            "text/plain": [
              "   Item_Weight  ...  Outlet_Identifier_OUT049\n",
              "0         9.30  ...                       1.0\n",
              "1         5.92  ...                       0.0\n",
              "2        17.50  ...                       1.0\n",
              "3        19.20  ...                       0.0\n",
              "4         8.93  ...                       0.0\n",
              "\n",
              "[5 rows x 33 columns]"
            ]
          },
          "metadata": {
            "tags": []
          },
          "execution_count": 112
        }
      ]
    },
    {
      "cell_type": "code",
      "metadata": {
        "id": "YZZIzeOkxZYo",
        "colab": {
          "base_uri": "https://localhost:8080/"
        },
        "outputId": "25a39a55-8c3f-4429-f6c5-3b661d73b9a9"
      },
      "source": [
        "X2 = mod_sales_X_2nd.values\n",
        "X2.shape"
      ],
      "execution_count": 113,
      "outputs": [
        {
          "output_type": "execute_result",
          "data": {
            "text/plain": [
              "(7060, 6)"
            ]
          },
          "metadata": {
            "tags": []
          },
          "execution_count": 113
        }
      ]
    },
    {
      "cell_type": "code",
      "metadata": {
        "id": "dhuZyiLExGiv",
        "colab": {
          "base_uri": "https://localhost:8080/"
        },
        "outputId": "65aafae5-c694-432d-dee4-4bf439758eb1"
      },
      "source": [
        "#target vector\n",
        "\n",
        "y2 = mod_sales_ohe.loc[~weight_filter, 'Item_Outlet_Sales'].values\n",
        "y2.shape"
      ],
      "execution_count": 114,
      "outputs": [
        {
          "output_type": "execute_result",
          "data": {
            "text/plain": [
              "(7060,)"
            ]
          },
          "metadata": {
            "tags": []
          },
          "execution_count": 114
        }
      ]
    },
    {
      "cell_type": "code",
      "metadata": {
        "id": "4t-ZlQP0xfl_"
      },
      "source": [
        "reg2 = LinearRegression(fit_intercept=True)"
      ],
      "execution_count": 115,
      "outputs": []
    },
    {
      "cell_type": "code",
      "metadata": {
        "id": "iy_vtE3-K7HS",
        "colab": {
          "base_uri": "https://localhost:8080/"
        },
        "outputId": "9a477c6a-de0c-40c8-b7aa-a7866b5beb4c"
      },
      "source": [
        "reg2.fit(X2,y2)"
      ],
      "execution_count": 116,
      "outputs": [
        {
          "output_type": "execute_result",
          "data": {
            "text/plain": [
              "LinearRegression(copy_X=True, fit_intercept=True, n_jobs=None, normalize=False)"
            ]
          },
          "metadata": {
            "tags": []
          },
          "execution_count": 116
        }
      ]
    },
    {
      "cell_type": "code",
      "metadata": {
        "id": "yGKftCEIMdxF",
        "colab": {
          "base_uri": "https://localhost:8080/"
        },
        "outputId": "cb6690d9-4a76-43e9-ed4a-8a3683640773"
      },
      "source": [
        "p2 = reg2.predict(X2)\n",
        "p2"
      ],
      "execution_count": 117,
      "outputs": [
        {
          "output_type": "execute_result",
          "data": {
            "text/plain": [
              "array([4230.4893468 ,  987.77867213, 2574.18482421, ..., 1240.21603973,\n",
              "       1822.94685296, 1487.29725482])"
            ]
          },
          "metadata": {
            "tags": []
          },
          "execution_count": 117
        }
      ]
    },
    {
      "cell_type": "code",
      "metadata": {
        "id": "kQI4mhUlyBnB",
        "colab": {
          "base_uri": "https://localhost:8080/"
        },
        "outputId": "fc4d4e09-4ba3-40cc-ba13-ee80c3494a9e"
      },
      "source": [
        "# Muvh Worse!\n",
        "\n",
        "reg2.score(X2,y2)"
      ],
      "execution_count": 118,
      "outputs": [
        {
          "output_type": "execute_result",
          "data": {
            "text/plain": [
              "0.4526393313239391"
            ]
          },
          "metadata": {
            "tags": []
          },
          "execution_count": 118
        }
      ]
    },
    {
      "cell_type": "code",
      "metadata": {
        "id": "NrNlZX7gy-hn",
        "colab": {
          "base_uri": "https://localhost:8080/"
        },
        "outputId": "9f6996c4-d3bf-4bc4-a93d-f353feb8db32"
      },
      "source": [
        "np.sqrt(mean_squared_error(y2, p2))"
      ],
      "execution_count": 119,
      "outputs": [
        {
          "output_type": "execute_result",
          "data": {
            "text/plain": [
              "1134.4215715365553"
            ]
          },
          "metadata": {
            "tags": []
          },
          "execution_count": 119
        }
      ]
    },
    {
      "cell_type": "code",
      "metadata": {
        "id": "XSPuhCHlHaZ7",
        "colab": {
          "base_uri": "https://localhost:8080/"
        },
        "outputId": "3216624e-436a-4b91-8914-daaccea62aaa"
      },
      "source": [
        "# testing with the weight filter and ALL the columns\n",
        "\n",
        "X3 = mod_sales_X_3rd.values\n",
        "X3.shape "
      ],
      "execution_count": 120,
      "outputs": [
        {
          "output_type": "execute_result",
          "data": {
            "text/plain": [
              "(7060, 33)"
            ]
          },
          "metadata": {
            "tags": []
          },
          "execution_count": 120
        }
      ]
    },
    {
      "cell_type": "code",
      "metadata": {
        "id": "CjceM_cHHmfe",
        "colab": {
          "base_uri": "https://localhost:8080/"
        },
        "outputId": "b96a2d57-592a-410c-ec8d-16492fcf3b38"
      },
      "source": [
        "y3 = mod_sales_ohe.loc[~weight_filter, 'Item_Outlet_Sales'].values\n",
        "y3.shape"
      ],
      "execution_count": 121,
      "outputs": [
        {
          "output_type": "execute_result",
          "data": {
            "text/plain": [
              "(7060,)"
            ]
          },
          "metadata": {
            "tags": []
          },
          "execution_count": 121
        }
      ]
    },
    {
      "cell_type": "code",
      "metadata": {
        "id": "LfA9tnEsJxmz",
        "colab": {
          "base_uri": "https://localhost:8080/"
        },
        "outputId": "68aa5071-cee0-4c7b-dfe7-df3b7fc88df2"
      },
      "source": [
        "reg3 = reg2\n",
        "reg3.fit(X3,y3)"
      ],
      "execution_count": 122,
      "outputs": [
        {
          "output_type": "execute_result",
          "data": {
            "text/plain": [
              "LinearRegression(copy_X=True, fit_intercept=True, n_jobs=None, normalize=False)"
            ]
          },
          "metadata": {
            "tags": []
          },
          "execution_count": 122
        }
      ]
    },
    {
      "cell_type": "code",
      "metadata": {
        "id": "bYX0YKrJIv1k",
        "colab": {
          "base_uri": "https://localhost:8080/"
        },
        "outputId": "f0eae961-e9c4-4005-f157-385c6c72d6e1"
      },
      "source": [
        "p3 = reg3.predict(X3)\n",
        "p3"
      ],
      "execution_count": 123,
      "outputs": [
        {
          "output_type": "execute_result",
          "data": {
            "text/plain": [
              "array([3950.12596657,  596.9276011 , 2325.76382262, ..., 1548.24380045,\n",
              "       1442.04406828, 1236.09977952])"
            ]
          },
          "metadata": {
            "tags": []
          },
          "execution_count": 123
        }
      ]
    },
    {
      "cell_type": "code",
      "metadata": {
        "id": "zsWI2yr4JZGn",
        "colab": {
          "base_uri": "https://localhost:8080/"
        },
        "outputId": "2284d617-e65b-44e7-fea6-1da5aae8920e"
      },
      "source": [
        "# Also Worse!\n",
        "\n",
        "reg3.score(X3,y3)"
      ],
      "execution_count": 124,
      "outputs": [
        {
          "output_type": "execute_result",
          "data": {
            "text/plain": [
              "0.507408550458427"
            ]
          },
          "metadata": {
            "tags": []
          },
          "execution_count": 124
        }
      ]
    },
    {
      "cell_type": "code",
      "metadata": {
        "id": "7MKXXnQIKbbI",
        "colab": {
          "base_uri": "https://localhost:8080/"
        },
        "outputId": "9e296d10-2a0b-4b4b-f072-45a4b13cafd2"
      },
      "source": [
        "#This is the lowest so far, but stil seems high\n",
        "\n",
        "np.sqrt(mean_squared_error(y3, p3))"
      ],
      "execution_count": 125,
      "outputs": [
        {
          "output_type": "execute_result",
          "data": {
            "text/plain": [
              "1076.1705843921097"
            ]
          },
          "metadata": {
            "tags": []
          },
          "execution_count": 125
        }
      ]
    },
    {
      "cell_type": "markdown",
      "metadata": {
        "id": "P8bSoZBs1DO0"
      },
      "source": [
        "\n",
        "\n",
        "> Trying only columns that correlate well with the sales column and I combine all the transformed categorical columns as well.\n"
      ]
    },
    {
      "cell_type": "code",
      "metadata": {
        "id": "vxZ7j2Qk2MGc",
        "colab": {
          "base_uri": "https://localhost:8080/"
        },
        "outputId": "d5182824-387d-49de-98da-5527c848c83b"
      },
      "source": [
        "# Am I supposed to get rid of a row from my OneHot stuff?\n",
        "\n",
        "mod_sales_ohe.info()"
      ],
      "execution_count": 126,
      "outputs": [
        {
          "output_type": "stream",
          "text": [
            "<class 'pandas.core.frame.DataFrame'>\n",
            "RangeIndex: 8523 entries, 0 to 8522\n",
            "Data columns (total 39 columns):\n",
            " #   Column                         Non-Null Count  Dtype  \n",
            "---  ------                         --------------  -----  \n",
            " 0   Item_Identifier                8523 non-null   object \n",
            " 1   Item_Weight                    8523 non-null   float64\n",
            " 2   Item_Fat_Content               8523 non-null   int64  \n",
            " 3   Item_Type                      8523 non-null   object \n",
            " 4   transformed_Item_Type          8523 non-null   int64  \n",
            " 5   Item_MRP                       8523 non-null   float64\n",
            " 6   Outlet_Identifier              8523 non-null   object \n",
            " 7   transformed_Outlet_Identifier  8523 non-null   int64  \n",
            " 8   Outlet_Establishment_Year      8523 non-null   int64  \n",
            " 9   Outlet_Size                    8523 non-null   int64  \n",
            " 10  Outlet_Location_Type           8523 non-null   int64  \n",
            " 11  Outlet_Type                    8523 non-null   int64  \n",
            " 12  Item_Outlet_Sales              8523 non-null   float64\n",
            " 13  Baking Goods                   8523 non-null   float64\n",
            " 14  Breads                         8523 non-null   float64\n",
            " 15  Breakfast                      8523 non-null   float64\n",
            " 16  Canned                         8523 non-null   float64\n",
            " 17  Dairy                          8523 non-null   float64\n",
            " 18  Frozen Foods                   8523 non-null   float64\n",
            " 19  Fruits and Vegetables          8523 non-null   float64\n",
            " 20  Hard Drinks                    8523 non-null   float64\n",
            " 21  Health and Hygiene             8523 non-null   float64\n",
            " 22  Household                      8523 non-null   float64\n",
            " 23  Meat                           8523 non-null   float64\n",
            " 24  Others                         8523 non-null   float64\n",
            " 25  Seafood                        8523 non-null   float64\n",
            " 26  Snack Foods                    8523 non-null   float64\n",
            " 27  Soft Drinks                    8523 non-null   float64\n",
            " 28  Starchy Foods                  8523 non-null   float64\n",
            " 29  Outlet_Identifier_OUT010       8523 non-null   float64\n",
            " 30  Outlet_Identifier_OUT013       8523 non-null   float64\n",
            " 31  Outlet_Identifier_OUT017       8523 non-null   float64\n",
            " 32  Outlet_Identifier_OUT018       8523 non-null   float64\n",
            " 33  Outlet_Identifier_OUT019       8523 non-null   float64\n",
            " 34  Outlet_Identifier_OUT027       8523 non-null   float64\n",
            " 35  Outlet_Identifier_OUT035       8523 non-null   float64\n",
            " 36  Outlet_Identifier_OUT045       8523 non-null   float64\n",
            " 37  Outlet_Identifier_OUT046       8523 non-null   float64\n",
            " 38  Outlet_Identifier_OUT049       8523 non-null   float64\n",
            "dtypes: float64(29), int64(7), object(3)\n",
            "memory usage: 2.5+ MB\n"
          ],
          "name": "stdout"
        }
      ]
    },
    {
      "cell_type": "code",
      "metadata": {
        "id": "Bm5UjaT54PPf",
        "colab": {
          "base_uri": "https://localhost:8080/",
          "height": 1000
        },
        "outputId": "1edf080d-82e6-4c9f-bb51-2157846cf834"
      },
      "source": [
        "mod_sales_ohe.corr()"
      ],
      "execution_count": 127,
      "outputs": [
        {
          "output_type": "execute_result",
          "data": {
            "text/html": [
              "<div>\n",
              "<style scoped>\n",
              "    .dataframe tbody tr th:only-of-type {\n",
              "        vertical-align: middle;\n",
              "    }\n",
              "\n",
              "    .dataframe tbody tr th {\n",
              "        vertical-align: top;\n",
              "    }\n",
              "\n",
              "    .dataframe thead th {\n",
              "        text-align: right;\n",
              "    }\n",
              "</style>\n",
              "<table border=\"1\" class=\"dataframe\">\n",
              "  <thead>\n",
              "    <tr style=\"text-align: right;\">\n",
              "      <th></th>\n",
              "      <th>Item_Weight</th>\n",
              "      <th>Item_Fat_Content</th>\n",
              "      <th>transformed_Item_Type</th>\n",
              "      <th>Item_MRP</th>\n",
              "      <th>transformed_Outlet_Identifier</th>\n",
              "      <th>Outlet_Establishment_Year</th>\n",
              "      <th>Outlet_Size</th>\n",
              "      <th>Outlet_Location_Type</th>\n",
              "      <th>Outlet_Type</th>\n",
              "      <th>Item_Outlet_Sales</th>\n",
              "      <th>Baking Goods</th>\n",
              "      <th>Breads</th>\n",
              "      <th>Breakfast</th>\n",
              "      <th>Canned</th>\n",
              "      <th>Dairy</th>\n",
              "      <th>Frozen Foods</th>\n",
              "      <th>Fruits and Vegetables</th>\n",
              "      <th>Hard Drinks</th>\n",
              "      <th>Health and Hygiene</th>\n",
              "      <th>Household</th>\n",
              "      <th>Meat</th>\n",
              "      <th>Others</th>\n",
              "      <th>Seafood</th>\n",
              "      <th>Snack Foods</th>\n",
              "      <th>Soft Drinks</th>\n",
              "      <th>Starchy Foods</th>\n",
              "      <th>Outlet_Identifier_OUT010</th>\n",
              "      <th>Outlet_Identifier_OUT013</th>\n",
              "      <th>Outlet_Identifier_OUT017</th>\n",
              "      <th>Outlet_Identifier_OUT018</th>\n",
              "      <th>Outlet_Identifier_OUT019</th>\n",
              "      <th>Outlet_Identifier_OUT027</th>\n",
              "      <th>Outlet_Identifier_OUT035</th>\n",
              "      <th>Outlet_Identifier_OUT045</th>\n",
              "      <th>Outlet_Identifier_OUT046</th>\n",
              "      <th>Outlet_Identifier_OUT049</th>\n",
              "    </tr>\n",
              "  </thead>\n",
              "  <tbody>\n",
              "    <tr>\n",
              "      <th>Item_Weight</th>\n",
              "      <td>1.000000</td>\n",
              "      <td>-0.011943</td>\n",
              "      <td>0.019390</td>\n",
              "      <td>0.022859</td>\n",
              "      <td>0.004822</td>\n",
              "      <td>0.471542</td>\n",
              "      <td>-0.120341</td>\n",
              "      <td>-0.067122</td>\n",
              "      <td>-0.308917</td>\n",
              "      <td>-0.053222</td>\n",
              "      <td>-0.022098</td>\n",
              "      <td>-0.038687</td>\n",
              "      <td>-0.005688</td>\n",
              "      <td>-0.019221</td>\n",
              "      <td>0.022555</td>\n",
              "      <td>0.007383</td>\n",
              "      <td>0.018392</td>\n",
              "      <td>-0.022500</td>\n",
              "      <td>0.008604</td>\n",
              "      <td>0.027586</td>\n",
              "      <td>-0.017354</td>\n",
              "      <td>0.012817</td>\n",
              "      <td>-0.008758</td>\n",
              "      <td>0.002692</td>\n",
              "      <td>-0.025304</td>\n",
              "      <td>0.028421</td>\n",
              "      <td>0.092845</td>\n",
              "      <td>0.128333</td>\n",
              "      <td>0.118126</td>\n",
              "      <td>0.120806</td>\n",
              "      <td>-0.425567</td>\n",
              "      <td>-0.581302</td>\n",
              "      <td>0.118558</td>\n",
              "      <td>0.108732</td>\n",
              "      <td>0.120596</td>\n",
              "      <td>0.123352</td>\n",
              "    </tr>\n",
              "    <tr>\n",
              "      <th>Item_Fat_Content</th>\n",
              "      <td>-0.011943</td>\n",
              "      <td>1.000000</td>\n",
              "      <td>-0.139434</td>\n",
              "      <td>0.006063</td>\n",
              "      <td>0.000764</td>\n",
              "      <td>0.002447</td>\n",
              "      <td>0.001365</td>\n",
              "      <td>-0.001598</td>\n",
              "      <td>0.002199</td>\n",
              "      <td>0.018719</td>\n",
              "      <td>0.083804</td>\n",
              "      <td>0.032643</td>\n",
              "      <td>0.065711</td>\n",
              "      <td>0.073235</td>\n",
              "      <td>0.021236</td>\n",
              "      <td>0.085041</td>\n",
              "      <td>0.116955</td>\n",
              "      <td>-0.118461</td>\n",
              "      <td>-0.188156</td>\n",
              "      <td>-0.255203</td>\n",
              "      <td>0.118574</td>\n",
              "      <td>-0.104988</td>\n",
              "      <td>0.012594</td>\n",
              "      <td>0.059848</td>\n",
              "      <td>-0.094875</td>\n",
              "      <td>0.025945</td>\n",
              "      <td>0.000254</td>\n",
              "      <td>-0.002132</td>\n",
              "      <td>0.004266</td>\n",
              "      <td>0.002129</td>\n",
              "      <td>-0.004300</td>\n",
              "      <td>0.000183</td>\n",
              "      <td>-0.003154</td>\n",
              "      <td>-0.006029</td>\n",
              "      <td>0.003147</td>\n",
              "      <td>0.004722</td>\n",
              "    </tr>\n",
              "    <tr>\n",
              "      <th>transformed_Item_Type</th>\n",
              "      <td>0.019390</td>\n",
              "      <td>-0.139434</td>\n",
              "      <td>1.000000</td>\n",
              "      <td>0.032651</td>\n",
              "      <td>0.001656</td>\n",
              "      <td>0.006527</td>\n",
              "      <td>-0.000827</td>\n",
              "      <td>0.003084</td>\n",
              "      <td>0.003053</td>\n",
              "      <td>0.017048</td>\n",
              "      <td>-0.492431</td>\n",
              "      <td>-0.257651</td>\n",
              "      <td>-0.141968</td>\n",
              "      <td>-0.288249</td>\n",
              "      <td>-0.226051</td>\n",
              "      <td>-0.176737</td>\n",
              "      <td>-0.119781</td>\n",
              "      <td>-0.008642</td>\n",
              "      <td>0.046825</td>\n",
              "      <td>0.145638</td>\n",
              "      <td>0.150921</td>\n",
              "      <td>0.127486</td>\n",
              "      <td>0.098627</td>\n",
              "      <td>0.555157</td>\n",
              "      <td>0.377637</td>\n",
              "      <td>0.245465</td>\n",
              "      <td>0.000474</td>\n",
              "      <td>-0.003507</td>\n",
              "      <td>0.001083</td>\n",
              "      <td>-0.000659</td>\n",
              "      <td>-0.005167</td>\n",
              "      <td>0.002413</td>\n",
              "      <td>0.008062</td>\n",
              "      <td>0.001647</td>\n",
              "      <td>-0.011157</td>\n",
              "      <td>0.005738</td>\n",
              "    </tr>\n",
              "    <tr>\n",
              "      <th>Item_MRP</th>\n",
              "      <td>0.022859</td>\n",
              "      <td>0.006063</td>\n",
              "      <td>0.032651</td>\n",
              "      <td>1.000000</td>\n",
              "      <td>0.003319</td>\n",
              "      <td>0.004162</td>\n",
              "      <td>0.002473</td>\n",
              "      <td>0.000232</td>\n",
              "      <td>-0.001975</td>\n",
              "      <td>0.567574</td>\n",
              "      <td>-0.067311</td>\n",
              "      <td>-0.000112</td>\n",
              "      <td>0.001460</td>\n",
              "      <td>-0.005666</td>\n",
              "      <td>0.035551</td>\n",
              "      <td>-0.013358</td>\n",
              "      <td>0.023688</td>\n",
              "      <td>-0.010089</td>\n",
              "      <td>-0.041646</td>\n",
              "      <td>0.046815</td>\n",
              "      <td>-0.004086</td>\n",
              "      <td>-0.018595</td>\n",
              "      <td>0.001186</td>\n",
              "      <td>0.033817</td>\n",
              "      <td>-0.035808</td>\n",
              "      <td>0.014613</td>\n",
              "      <td>-0.000912</td>\n",
              "      <td>0.002438</td>\n",
              "      <td>-0.008812</td>\n",
              "      <td>0.003850</td>\n",
              "      <td>-0.004976</td>\n",
              "      <td>-0.006714</td>\n",
              "      <td>0.011969</td>\n",
              "      <td>-0.000239</td>\n",
              "      <td>0.005983</td>\n",
              "      <td>-0.003906</td>\n",
              "    </tr>\n",
              "    <tr>\n",
              "      <th>transformed_Outlet_Identifier</th>\n",
              "      <td>0.004822</td>\n",
              "      <td>0.000764</td>\n",
              "      <td>0.001656</td>\n",
              "      <td>0.003319</td>\n",
              "      <td>1.000000</td>\n",
              "      <td>-0.030969</td>\n",
              "      <td>-0.053224</td>\n",
              "      <td>-0.716176</td>\n",
              "      <td>0.099873</td>\n",
              "      <td>0.162325</td>\n",
              "      <td>-0.003127</td>\n",
              "      <td>0.005310</td>\n",
              "      <td>-0.008959</td>\n",
              "      <td>0.008613</td>\n",
              "      <td>-0.001158</td>\n",
              "      <td>-0.000175</td>\n",
              "      <td>0.000018</td>\n",
              "      <td>0.007251</td>\n",
              "      <td>-0.013406</td>\n",
              "      <td>-0.004322</td>\n",
              "      <td>-0.006264</td>\n",
              "      <td>0.005320</td>\n",
              "      <td>0.007078</td>\n",
              "      <td>0.009187</td>\n",
              "      <td>-0.001936</td>\n",
              "      <td>-0.002500</td>\n",
              "      <td>-0.439298</td>\n",
              "      <td>-0.459730</td>\n",
              "      <td>-0.335006</td>\n",
              "      <td>-0.212202</td>\n",
              "      <td>-0.065426</td>\n",
              "      <td>0.034362</td>\n",
              "      <td>0.157618</td>\n",
              "      <td>0.280807</td>\n",
              "      <td>0.404335</td>\n",
              "      <td>0.527694</td>\n",
              "    </tr>\n",
              "    <tr>\n",
              "      <th>Outlet_Establishment_Year</th>\n",
              "      <td>0.471542</td>\n",
              "      <td>0.002447</td>\n",
              "      <td>0.006527</td>\n",
              "      <td>0.004162</td>\n",
              "      <td>-0.030969</td>\n",
              "      <td>1.000000</td>\n",
              "      <td>-0.360690</td>\n",
              "      <td>0.042005</td>\n",
              "      <td>-0.040040</td>\n",
              "      <td>-0.025525</td>\n",
              "      <td>-0.004599</td>\n",
              "      <td>-0.003676</td>\n",
              "      <td>-0.005702</td>\n",
              "      <td>0.011803</td>\n",
              "      <td>-0.005583</td>\n",
              "      <td>0.004600</td>\n",
              "      <td>-0.003559</td>\n",
              "      <td>0.005986</td>\n",
              "      <td>-0.002362</td>\n",
              "      <td>-0.003830</td>\n",
              "      <td>-0.013434</td>\n",
              "      <td>-0.004509</td>\n",
              "      <td>-0.000798</td>\n",
              "      <td>0.005212</td>\n",
              "      <td>0.007562</td>\n",
              "      <td>0.012824</td>\n",
              "      <td>-0.076434</td>\n",
              "      <td>-0.358163</td>\n",
              "      <td>0.410401</td>\n",
              "      <td>0.538931</td>\n",
              "      <td>-0.356810</td>\n",
              "      <td>-0.487384</td>\n",
              "      <td>0.283207</td>\n",
              "      <td>0.154926</td>\n",
              "      <td>-0.229544</td>\n",
              "      <td>0.026832</td>\n",
              "    </tr>\n",
              "    <tr>\n",
              "      <th>Outlet_Size</th>\n",
              "      <td>-0.120341</td>\n",
              "      <td>0.001365</td>\n",
              "      <td>-0.000827</td>\n",
              "      <td>0.002473</td>\n",
              "      <td>-0.053224</td>\n",
              "      <td>-0.360690</td>\n",
              "      <td>1.000000</td>\n",
              "      <td>0.290216</td>\n",
              "      <td>0.432062</td>\n",
              "      <td>0.172477</td>\n",
              "      <td>-0.003061</td>\n",
              "      <td>-0.003630</td>\n",
              "      <td>0.002102</td>\n",
              "      <td>-0.000940</td>\n",
              "      <td>0.005333</td>\n",
              "      <td>-0.003424</td>\n",
              "      <td>0.007825</td>\n",
              "      <td>-0.001076</td>\n",
              "      <td>0.000945</td>\n",
              "      <td>-0.002271</td>\n",
              "      <td>0.001609</td>\n",
              "      <td>-0.005577</td>\n",
              "      <td>-0.005322</td>\n",
              "      <td>0.003285</td>\n",
              "      <td>-0.008169</td>\n",
              "      <td>0.003615</td>\n",
              "      <td>-0.337167</td>\n",
              "      <td>0.615103</td>\n",
              "      <td>-0.446023</td>\n",
              "      <td>0.260226</td>\n",
              "      <td>-0.068496</td>\n",
              "      <td>0.261326</td>\n",
              "      <td>-0.093281</td>\n",
              "      <td>-0.446833</td>\n",
              "      <td>-0.093281</td>\n",
              "      <td>0.260540</td>\n",
              "    </tr>\n",
              "    <tr>\n",
              "      <th>Outlet_Location_Type</th>\n",
              "      <td>-0.067122</td>\n",
              "      <td>-0.001598</td>\n",
              "      <td>0.003084</td>\n",
              "      <td>0.000232</td>\n",
              "      <td>-0.716176</td>\n",
              "      <td>0.042005</td>\n",
              "      <td>0.290216</td>\n",
              "      <td>1.000000</td>\n",
              "      <td>0.467219</td>\n",
              "      <td>0.089367</td>\n",
              "      <td>-0.003345</td>\n",
              "      <td>0.003987</td>\n",
              "      <td>-0.000532</td>\n",
              "      <td>-0.000138</td>\n",
              "      <td>-0.010098</td>\n",
              "      <td>-0.009422</td>\n",
              "      <td>0.008188</td>\n",
              "      <td>0.001703</td>\n",
              "      <td>0.011645</td>\n",
              "      <td>0.005277</td>\n",
              "      <td>0.003999</td>\n",
              "      <td>-0.014576</td>\n",
              "      <td>-0.005391</td>\n",
              "      <td>-0.001845</td>\n",
              "      <td>-0.001446</td>\n",
              "      <td>0.006957</td>\n",
              "      <td>0.288087</td>\n",
              "      <td>0.382481</td>\n",
              "      <td>-0.048488</td>\n",
              "      <td>0.381559</td>\n",
              "      <td>-0.351898</td>\n",
              "      <td>0.383172</td>\n",
              "      <td>-0.048605</td>\n",
              "      <td>-0.048576</td>\n",
              "      <td>-0.479230</td>\n",
              "      <td>-0.479230</td>\n",
              "    </tr>\n",
              "    <tr>\n",
              "      <th>Outlet_Type</th>\n",
              "      <td>-0.308917</td>\n",
              "      <td>0.002199</td>\n",
              "      <td>0.003053</td>\n",
              "      <td>-0.001975</td>\n",
              "      <td>0.099873</td>\n",
              "      <td>-0.040040</td>\n",
              "      <td>0.432062</td>\n",
              "      <td>0.467219</td>\n",
              "      <td>1.000000</td>\n",
              "      <td>0.401522</td>\n",
              "      <td>-0.005220</td>\n",
              "      <td>0.004787</td>\n",
              "      <td>-0.009312</td>\n",
              "      <td>0.010225</td>\n",
              "      <td>-0.012072</td>\n",
              "      <td>-0.002571</td>\n",
              "      <td>0.006325</td>\n",
              "      <td>0.000884</td>\n",
              "      <td>0.003918</td>\n",
              "      <td>-0.004346</td>\n",
              "      <td>0.004387</td>\n",
              "      <td>-0.011631</td>\n",
              "      <td>-0.003205</td>\n",
              "      <td>0.007851</td>\n",
              "      <td>-0.004995</td>\n",
              "      <td>0.002503</td>\n",
              "      <td>-0.398067</td>\n",
              "      <td>-0.088530</td>\n",
              "      <td>-0.088210</td>\n",
              "      <td>0.350590</td>\n",
              "      <td>-0.387608</td>\n",
              "      <td>0.792834</td>\n",
              "      <td>-0.088424</td>\n",
              "      <td>-0.088370</td>\n",
              "      <td>-0.088424</td>\n",
              "      <td>-0.088424</td>\n",
              "    </tr>\n",
              "    <tr>\n",
              "      <th>Item_Outlet_Sales</th>\n",
              "      <td>-0.053222</td>\n",
              "      <td>0.018719</td>\n",
              "      <td>0.017048</td>\n",
              "      <td>0.567574</td>\n",
              "      <td>0.162325</td>\n",
              "      <td>-0.025525</td>\n",
              "      <td>0.172477</td>\n",
              "      <td>0.089367</td>\n",
              "      <td>0.401522</td>\n",
              "      <td>1.000000</td>\n",
              "      <td>-0.038381</td>\n",
              "      <td>0.002332</td>\n",
              "      <td>-0.004656</td>\n",
              "      <td>0.007387</td>\n",
              "      <td>0.008858</td>\n",
              "      <td>-0.009482</td>\n",
              "      <td>0.025950</td>\n",
              "      <td>-0.003956</td>\n",
              "      <td>-0.025587</td>\n",
              "      <td>0.015701</td>\n",
              "      <td>-0.002995</td>\n",
              "      <td>-0.021267</td>\n",
              "      <td>0.007380</td>\n",
              "      <td>0.022782</td>\n",
              "      <td>-0.024040</td>\n",
              "      <td>0.015039</td>\n",
              "      <td>-0.284883</td>\n",
              "      <td>0.024170</td>\n",
              "      <td>0.032610</td>\n",
              "      <td>-0.038059</td>\n",
              "      <td>-0.277250</td>\n",
              "      <td>0.311192</td>\n",
              "      <td>0.052823</td>\n",
              "      <td>0.002274</td>\n",
              "      <td>0.019803</td>\n",
              "      <td>0.034264</td>\n",
              "    </tr>\n",
              "    <tr>\n",
              "      <th>Baking Goods</th>\n",
              "      <td>-0.022098</td>\n",
              "      <td>0.083804</td>\n",
              "      <td>-0.492431</td>\n",
              "      <td>-0.067311</td>\n",
              "      <td>-0.003127</td>\n",
              "      <td>-0.004599</td>\n",
              "      <td>-0.003061</td>\n",
              "      <td>-0.003345</td>\n",
              "      <td>-0.005220</td>\n",
              "      <td>-0.038381</td>\n",
              "      <td>1.000000</td>\n",
              "      <td>-0.049968</td>\n",
              "      <td>-0.032801</td>\n",
              "      <td>-0.082354</td>\n",
              "      <td>-0.084600</td>\n",
              "      <td>-0.095849</td>\n",
              "      <td>-0.117916</td>\n",
              "      <td>-0.046036</td>\n",
              "      <td>-0.073120</td>\n",
              "      <td>-0.099176</td>\n",
              "      <td>-0.065715</td>\n",
              "      <td>-0.040800</td>\n",
              "      <td>-0.024951</td>\n",
              "      <td>-0.116120</td>\n",
              "      <td>-0.067327</td>\n",
              "      <td>-0.038133</td>\n",
              "      <td>-0.000352</td>\n",
              "      <td>0.003036</td>\n",
              "      <td>0.003694</td>\n",
              "      <td>-0.003632</td>\n",
              "      <td>0.005245</td>\n",
              "      <td>-0.002957</td>\n",
              "      <td>-0.003844</td>\n",
              "      <td>-0.000897</td>\n",
              "      <td>0.007514</td>\n",
              "      <td>-0.006684</td>\n",
              "    </tr>\n",
              "    <tr>\n",
              "      <th>Breads</th>\n",
              "      <td>-0.038687</td>\n",
              "      <td>0.032643</td>\n",
              "      <td>-0.257651</td>\n",
              "      <td>-0.000112</td>\n",
              "      <td>0.005310</td>\n",
              "      <td>-0.003676</td>\n",
              "      <td>-0.003630</td>\n",
              "      <td>0.003987</td>\n",
              "      <td>0.004787</td>\n",
              "      <td>0.002332</td>\n",
              "      <td>-0.049968</td>\n",
              "      <td>1.000000</td>\n",
              "      <td>-0.019918</td>\n",
              "      <td>-0.050010</td>\n",
              "      <td>-0.051373</td>\n",
              "      <td>-0.058204</td>\n",
              "      <td>-0.071605</td>\n",
              "      <td>-0.027955</td>\n",
              "      <td>-0.044402</td>\n",
              "      <td>-0.060225</td>\n",
              "      <td>-0.039906</td>\n",
              "      <td>-0.024776</td>\n",
              "      <td>-0.015152</td>\n",
              "      <td>-0.070514</td>\n",
              "      <td>-0.040885</td>\n",
              "      <td>-0.023156</td>\n",
              "      <td>0.001843</td>\n",
              "      <td>-0.005442</td>\n",
              "      <td>-0.011754</td>\n",
              "      <td>-0.000734</td>\n",
              "      <td>0.001297</td>\n",
              "      <td>0.007693</td>\n",
              "      <td>0.003588</td>\n",
              "      <td>0.012563</td>\n",
              "      <td>-0.003090</td>\n",
              "      <td>-0.005316</td>\n",
              "    </tr>\n",
              "    <tr>\n",
              "      <th>Breakfast</th>\n",
              "      <td>-0.005688</td>\n",
              "      <td>0.065711</td>\n",
              "      <td>-0.141968</td>\n",
              "      <td>0.001460</td>\n",
              "      <td>-0.008959</td>\n",
              "      <td>-0.005702</td>\n",
              "      <td>0.002102</td>\n",
              "      <td>-0.000532</td>\n",
              "      <td>-0.009312</td>\n",
              "      <td>-0.004656</td>\n",
              "      <td>-0.032801</td>\n",
              "      <td>-0.019918</td>\n",
              "      <td>1.000000</td>\n",
              "      <td>-0.032828</td>\n",
              "      <td>-0.033723</td>\n",
              "      <td>-0.038207</td>\n",
              "      <td>-0.047004</td>\n",
              "      <td>-0.018351</td>\n",
              "      <td>-0.029147</td>\n",
              "      <td>-0.039533</td>\n",
              "      <td>-0.026195</td>\n",
              "      <td>-0.016264</td>\n",
              "      <td>-0.009946</td>\n",
              "      <td>-0.046288</td>\n",
              "      <td>-0.026838</td>\n",
              "      <td>-0.015201</td>\n",
              "      <td>0.007740</td>\n",
              "      <td>0.003236</td>\n",
              "      <td>0.000163</td>\n",
              "      <td>0.000077</td>\n",
              "      <td>0.013736</td>\n",
              "      <td>-0.003550</td>\n",
              "      <td>-0.006677</td>\n",
              "      <td>-0.006638</td>\n",
              "      <td>-0.006677</td>\n",
              "      <td>0.003325</td>\n",
              "    </tr>\n",
              "    <tr>\n",
              "      <th>Canned</th>\n",
              "      <td>-0.019221</td>\n",
              "      <td>0.073235</td>\n",
              "      <td>-0.288249</td>\n",
              "      <td>-0.005666</td>\n",
              "      <td>0.008613</td>\n",
              "      <td>0.011803</td>\n",
              "      <td>-0.000940</td>\n",
              "      <td>-0.000138</td>\n",
              "      <td>0.010225</td>\n",
              "      <td>0.007387</td>\n",
              "      <td>-0.082354</td>\n",
              "      <td>-0.050010</td>\n",
              "      <td>-0.032828</td>\n",
              "      <td>1.000000</td>\n",
              "      <td>-0.084670</td>\n",
              "      <td>-0.095929</td>\n",
              "      <td>-0.118015</td>\n",
              "      <td>-0.046074</td>\n",
              "      <td>-0.073181</td>\n",
              "      <td>-0.099258</td>\n",
              "      <td>-0.065770</td>\n",
              "      <td>-0.040834</td>\n",
              "      <td>-0.024972</td>\n",
              "      <td>-0.116217</td>\n",
              "      <td>-0.067383</td>\n",
              "      <td>-0.038165</td>\n",
              "      <td>-0.013019</td>\n",
              "      <td>-0.008461</td>\n",
              "      <td>-0.002149</td>\n",
              "      <td>0.010418</td>\n",
              "      <td>-0.004047</td>\n",
              "      <td>0.001136</td>\n",
              "      <td>0.011611</td>\n",
              "      <td>0.004627</td>\n",
              "      <td>0.001679</td>\n",
              "      <td>-0.005415</td>\n",
              "    </tr>\n",
              "    <tr>\n",
              "      <th>Dairy</th>\n",
              "      <td>0.022555</td>\n",
              "      <td>0.021236</td>\n",
              "      <td>-0.226051</td>\n",
              "      <td>0.035551</td>\n",
              "      <td>-0.001158</td>\n",
              "      <td>-0.005583</td>\n",
              "      <td>0.005333</td>\n",
              "      <td>-0.010098</td>\n",
              "      <td>-0.012072</td>\n",
              "      <td>0.008858</td>\n",
              "      <td>-0.084600</td>\n",
              "      <td>-0.051373</td>\n",
              "      <td>-0.033723</td>\n",
              "      <td>-0.084670</td>\n",
              "      <td>1.000000</td>\n",
              "      <td>-0.098544</td>\n",
              "      <td>-0.121232</td>\n",
              "      <td>-0.047330</td>\n",
              "      <td>-0.075176</td>\n",
              "      <td>-0.101965</td>\n",
              "      <td>-0.067563</td>\n",
              "      <td>-0.041947</td>\n",
              "      <td>-0.025653</td>\n",
              "      <td>-0.119386</td>\n",
              "      <td>-0.069220</td>\n",
              "      <td>-0.039205</td>\n",
              "      <td>-0.002472</td>\n",
              "      <td>0.007514</td>\n",
              "      <td>-0.000135</td>\n",
              "      <td>-0.001746</td>\n",
              "      <td>0.012109</td>\n",
              "      <td>-0.010817</td>\n",
              "      <td>-0.004740</td>\n",
              "      <td>-0.007406</td>\n",
              "      <td>0.004969</td>\n",
              "      <td>0.004969</td>\n",
              "    </tr>\n",
              "    <tr>\n",
              "      <th>Frozen Foods</th>\n",
              "      <td>0.007383</td>\n",
              "      <td>0.085041</td>\n",
              "      <td>-0.176737</td>\n",
              "      <td>-0.013358</td>\n",
              "      <td>-0.000175</td>\n",
              "      <td>0.004600</td>\n",
              "      <td>-0.003424</td>\n",
              "      <td>-0.009422</td>\n",
              "      <td>-0.002571</td>\n",
              "      <td>-0.009482</td>\n",
              "      <td>-0.095849</td>\n",
              "      <td>-0.058204</td>\n",
              "      <td>-0.038207</td>\n",
              "      <td>-0.095929</td>\n",
              "      <td>-0.098544</td>\n",
              "      <td>1.000000</td>\n",
              "      <td>-0.137352</td>\n",
              "      <td>-0.053624</td>\n",
              "      <td>-0.085173</td>\n",
              "      <td>-0.115523</td>\n",
              "      <td>-0.076547</td>\n",
              "      <td>-0.047525</td>\n",
              "      <td>-0.029064</td>\n",
              "      <td>-0.135260</td>\n",
              "      <td>-0.078425</td>\n",
              "      <td>-0.044418</td>\n",
              "      <td>-0.002754</td>\n",
              "      <td>-0.002007</td>\n",
              "      <td>0.016304</td>\n",
              "      <td>-0.001507</td>\n",
              "      <td>-0.006524</td>\n",
              "      <td>-0.006128</td>\n",
              "      <td>-0.001757</td>\n",
              "      <td>-0.015411</td>\n",
              "      <td>0.018274</td>\n",
              "      <td>-0.000505</td>\n",
              "    </tr>\n",
              "    <tr>\n",
              "      <th>Fruits and Vegetables</th>\n",
              "      <td>0.018392</td>\n",
              "      <td>0.116955</td>\n",
              "      <td>-0.119781</td>\n",
              "      <td>0.023688</td>\n",
              "      <td>0.000018</td>\n",
              "      <td>-0.003559</td>\n",
              "      <td>0.007825</td>\n",
              "      <td>0.008188</td>\n",
              "      <td>0.006325</td>\n",
              "      <td>0.025950</td>\n",
              "      <td>-0.117916</td>\n",
              "      <td>-0.071605</td>\n",
              "      <td>-0.047004</td>\n",
              "      <td>-0.118015</td>\n",
              "      <td>-0.121232</td>\n",
              "      <td>-0.137352</td>\n",
              "      <td>1.000000</td>\n",
              "      <td>-0.065970</td>\n",
              "      <td>-0.104782</td>\n",
              "      <td>-0.142120</td>\n",
              "      <td>-0.094171</td>\n",
              "      <td>-0.058467</td>\n",
              "      <td>-0.035755</td>\n",
              "      <td>-0.166402</td>\n",
              "      <td>-0.096481</td>\n",
              "      <td>-0.054645</td>\n",
              "      <td>-0.001657</td>\n",
              "      <td>0.007783</td>\n",
              "      <td>-0.007348</td>\n",
              "      <td>0.000919</td>\n",
              "      <td>-0.004599</td>\n",
              "      <td>0.005173</td>\n",
              "      <td>-0.005813</td>\n",
              "      <td>0.009329</td>\n",
              "      <td>-0.009023</td>\n",
              "      <td>0.003819</td>\n",
              "    </tr>\n",
              "    <tr>\n",
              "      <th>Hard Drinks</th>\n",
              "      <td>-0.022500</td>\n",
              "      <td>-0.118461</td>\n",
              "      <td>-0.008642</td>\n",
              "      <td>-0.010089</td>\n",
              "      <td>0.007251</td>\n",
              "      <td>0.005986</td>\n",
              "      <td>-0.001076</td>\n",
              "      <td>0.001703</td>\n",
              "      <td>0.000884</td>\n",
              "      <td>-0.003956</td>\n",
              "      <td>-0.046036</td>\n",
              "      <td>-0.027955</td>\n",
              "      <td>-0.018351</td>\n",
              "      <td>-0.046074</td>\n",
              "      <td>-0.047330</td>\n",
              "      <td>-0.053624</td>\n",
              "      <td>-0.065970</td>\n",
              "      <td>1.000000</td>\n",
              "      <td>-0.040908</td>\n",
              "      <td>-0.055485</td>\n",
              "      <td>-0.036765</td>\n",
              "      <td>-0.022826</td>\n",
              "      <td>-0.013959</td>\n",
              "      <td>-0.064965</td>\n",
              "      <td>-0.037667</td>\n",
              "      <td>-0.021334</td>\n",
              "      <td>0.006276</td>\n",
              "      <td>-0.000964</td>\n",
              "      <td>-0.003013</td>\n",
              "      <td>-0.003132</td>\n",
              "      <td>-0.016355</td>\n",
              "      <td>-0.001143</td>\n",
              "      <td>-0.003249</td>\n",
              "      <td>0.011248</td>\n",
              "      <td>-0.008060</td>\n",
              "      <td>0.015993</td>\n",
              "    </tr>\n",
              "    <tr>\n",
              "      <th>Health and Hygiene</th>\n",
              "      <td>0.008604</td>\n",
              "      <td>-0.188156</td>\n",
              "      <td>0.046825</td>\n",
              "      <td>-0.041646</td>\n",
              "      <td>-0.013406</td>\n",
              "      <td>-0.002362</td>\n",
              "      <td>0.000945</td>\n",
              "      <td>0.011645</td>\n",
              "      <td>0.003918</td>\n",
              "      <td>-0.025587</td>\n",
              "      <td>-0.073120</td>\n",
              "      <td>-0.044402</td>\n",
              "      <td>-0.029147</td>\n",
              "      <td>-0.073181</td>\n",
              "      <td>-0.075176</td>\n",
              "      <td>-0.085173</td>\n",
              "      <td>-0.104782</td>\n",
              "      <td>-0.040908</td>\n",
              "      <td>1.000000</td>\n",
              "      <td>-0.088129</td>\n",
              "      <td>-0.058396</td>\n",
              "      <td>-0.036255</td>\n",
              "      <td>-0.022172</td>\n",
              "      <td>-0.103186</td>\n",
              "      <td>-0.059828</td>\n",
              "      <td>-0.033885</td>\n",
              "      <td>0.006236</td>\n",
              "      <td>0.006499</td>\n",
              "      <td>0.007094</td>\n",
              "      <td>0.002174</td>\n",
              "      <td>-0.004502</td>\n",
              "      <td>0.004634</td>\n",
              "      <td>-0.010598</td>\n",
              "      <td>-0.002642</td>\n",
              "      <td>-0.001164</td>\n",
              "      <td>-0.007453</td>\n",
              "    </tr>\n",
              "    <tr>\n",
              "      <th>Household</th>\n",
              "      <td>0.027586</td>\n",
              "      <td>-0.255203</td>\n",
              "      <td>0.145638</td>\n",
              "      <td>0.046815</td>\n",
              "      <td>-0.004322</td>\n",
              "      <td>-0.003830</td>\n",
              "      <td>-0.002271</td>\n",
              "      <td>0.005277</td>\n",
              "      <td>-0.004346</td>\n",
              "      <td>0.015701</td>\n",
              "      <td>-0.099176</td>\n",
              "      <td>-0.060225</td>\n",
              "      <td>-0.039533</td>\n",
              "      <td>-0.099258</td>\n",
              "      <td>-0.101965</td>\n",
              "      <td>-0.115523</td>\n",
              "      <td>-0.142120</td>\n",
              "      <td>-0.055485</td>\n",
              "      <td>-0.088129</td>\n",
              "      <td>1.000000</td>\n",
              "      <td>-0.079204</td>\n",
              "      <td>-0.049174</td>\n",
              "      <td>-0.030073</td>\n",
              "      <td>-0.139955</td>\n",
              "      <td>-0.081147</td>\n",
              "      <td>-0.045960</td>\n",
              "      <td>0.011922</td>\n",
              "      <td>0.004249</td>\n",
              "      <td>-0.004723</td>\n",
              "      <td>-0.004979</td>\n",
              "      <td>-0.006894</td>\n",
              "      <td>-0.001009</td>\n",
              "      <td>0.003295</td>\n",
              "      <td>-0.000231</td>\n",
              "      <td>0.004514</td>\n",
              "      <td>-0.005235</td>\n",
              "    </tr>\n",
              "    <tr>\n",
              "      <th>Meat</th>\n",
              "      <td>-0.017354</td>\n",
              "      <td>0.118574</td>\n",
              "      <td>0.150921</td>\n",
              "      <td>-0.004086</td>\n",
              "      <td>-0.006264</td>\n",
              "      <td>-0.013434</td>\n",
              "      <td>0.001609</td>\n",
              "      <td>0.003999</td>\n",
              "      <td>0.004387</td>\n",
              "      <td>-0.002995</td>\n",
              "      <td>-0.065715</td>\n",
              "      <td>-0.039906</td>\n",
              "      <td>-0.026195</td>\n",
              "      <td>-0.065770</td>\n",
              "      <td>-0.067563</td>\n",
              "      <td>-0.076547</td>\n",
              "      <td>-0.094171</td>\n",
              "      <td>-0.036765</td>\n",
              "      <td>-0.058396</td>\n",
              "      <td>-0.079204</td>\n",
              "      <td>1.000000</td>\n",
              "      <td>-0.032584</td>\n",
              "      <td>-0.019927</td>\n",
              "      <td>-0.092737</td>\n",
              "      <td>-0.053769</td>\n",
              "      <td>-0.030454</td>\n",
              "      <td>0.013818</td>\n",
              "      <td>-0.009455</td>\n",
              "      <td>-0.003767</td>\n",
              "      <td>-0.000476</td>\n",
              "      <td>0.012681</td>\n",
              "      <td>0.016172</td>\n",
              "      <td>-0.005834</td>\n",
              "      <td>-0.014399</td>\n",
              "      <td>-0.004105</td>\n",
              "      <td>0.001081</td>\n",
              "    </tr>\n",
              "    <tr>\n",
              "      <th>Others</th>\n",
              "      <td>0.012817</td>\n",
              "      <td>-0.104988</td>\n",
              "      <td>0.127486</td>\n",
              "      <td>-0.018595</td>\n",
              "      <td>0.005320</td>\n",
              "      <td>-0.004509</td>\n",
              "      <td>-0.005577</td>\n",
              "      <td>-0.014576</td>\n",
              "      <td>-0.011631</td>\n",
              "      <td>-0.021267</td>\n",
              "      <td>-0.040800</td>\n",
              "      <td>-0.024776</td>\n",
              "      <td>-0.016264</td>\n",
              "      <td>-0.040834</td>\n",
              "      <td>-0.041947</td>\n",
              "      <td>-0.047525</td>\n",
              "      <td>-0.058467</td>\n",
              "      <td>-0.022826</td>\n",
              "      <td>-0.036255</td>\n",
              "      <td>-0.049174</td>\n",
              "      <td>-0.032584</td>\n",
              "      <td>1.000000</td>\n",
              "      <td>-0.012372</td>\n",
              "      <td>-0.057576</td>\n",
              "      <td>-0.033383</td>\n",
              "      <td>-0.018908</td>\n",
              "      <td>-0.003428</td>\n",
              "      <td>-0.006689</td>\n",
              "      <td>-0.006386</td>\n",
              "      <td>0.004320</td>\n",
              "      <td>0.022799</td>\n",
              "      <td>-0.009533</td>\n",
              "      <td>-0.006588</td>\n",
              "      <td>0.004265</td>\n",
              "      <td>0.009608</td>\n",
              "      <td>-0.003889</td>\n",
              "    </tr>\n",
              "    <tr>\n",
              "      <th>Seafood</th>\n",
              "      <td>-0.008758</td>\n",
              "      <td>0.012594</td>\n",
              "      <td>0.098627</td>\n",
              "      <td>0.001186</td>\n",
              "      <td>0.007078</td>\n",
              "      <td>-0.000798</td>\n",
              "      <td>-0.005322</td>\n",
              "      <td>-0.005391</td>\n",
              "      <td>-0.003205</td>\n",
              "      <td>0.007380</td>\n",
              "      <td>-0.024951</td>\n",
              "      <td>-0.015152</td>\n",
              "      <td>-0.009946</td>\n",
              "      <td>-0.024972</td>\n",
              "      <td>-0.025653</td>\n",
              "      <td>-0.029064</td>\n",
              "      <td>-0.035755</td>\n",
              "      <td>-0.013959</td>\n",
              "      <td>-0.022172</td>\n",
              "      <td>-0.030073</td>\n",
              "      <td>-0.019927</td>\n",
              "      <td>-0.012372</td>\n",
              "      <td>1.000000</td>\n",
              "      <td>-0.035211</td>\n",
              "      <td>-0.020415</td>\n",
              "      <td>-0.011563</td>\n",
              "      <td>-0.000923</td>\n",
              "      <td>-0.008703</td>\n",
              "      <td>-0.008531</td>\n",
              "      <td>0.000138</td>\n",
              "      <td>0.011474</td>\n",
              "      <td>-0.000091</td>\n",
              "      <td>0.004431</td>\n",
              "      <td>0.008827</td>\n",
              "      <td>-0.004287</td>\n",
              "      <td>0.000072</td>\n",
              "    </tr>\n",
              "    <tr>\n",
              "      <th>Snack Foods</th>\n",
              "      <td>0.002692</td>\n",
              "      <td>0.059848</td>\n",
              "      <td>0.555157</td>\n",
              "      <td>0.033817</td>\n",
              "      <td>0.009187</td>\n",
              "      <td>0.005212</td>\n",
              "      <td>0.003285</td>\n",
              "      <td>-0.001845</td>\n",
              "      <td>0.007851</td>\n",
              "      <td>0.022782</td>\n",
              "      <td>-0.116120</td>\n",
              "      <td>-0.070514</td>\n",
              "      <td>-0.046288</td>\n",
              "      <td>-0.116217</td>\n",
              "      <td>-0.119386</td>\n",
              "      <td>-0.135260</td>\n",
              "      <td>-0.166402</td>\n",
              "      <td>-0.064965</td>\n",
              "      <td>-0.103186</td>\n",
              "      <td>-0.139955</td>\n",
              "      <td>-0.092737</td>\n",
              "      <td>-0.057576</td>\n",
              "      <td>-0.035211</td>\n",
              "      <td>1.000000</td>\n",
              "      <td>-0.095011</td>\n",
              "      <td>-0.053813</td>\n",
              "      <td>-0.009764</td>\n",
              "      <td>-0.006725</td>\n",
              "      <td>-0.002576</td>\n",
              "      <td>0.001453</td>\n",
              "      <td>0.000924</td>\n",
              "      <td>0.005782</td>\n",
              "      <td>0.009803</td>\n",
              "      <td>0.002382</td>\n",
              "      <td>-0.011836</td>\n",
              "      <td>0.008721</td>\n",
              "    </tr>\n",
              "    <tr>\n",
              "      <th>Soft Drinks</th>\n",
              "      <td>-0.025304</td>\n",
              "      <td>-0.094875</td>\n",
              "      <td>0.377637</td>\n",
              "      <td>-0.035808</td>\n",
              "      <td>-0.001936</td>\n",
              "      <td>0.007562</td>\n",
              "      <td>-0.008169</td>\n",
              "      <td>-0.001446</td>\n",
              "      <td>-0.004995</td>\n",
              "      <td>-0.024040</td>\n",
              "      <td>-0.067327</td>\n",
              "      <td>-0.040885</td>\n",
              "      <td>-0.026838</td>\n",
              "      <td>-0.067383</td>\n",
              "      <td>-0.069220</td>\n",
              "      <td>-0.078425</td>\n",
              "      <td>-0.096481</td>\n",
              "      <td>-0.037667</td>\n",
              "      <td>-0.059828</td>\n",
              "      <td>-0.081147</td>\n",
              "      <td>-0.053769</td>\n",
              "      <td>-0.033383</td>\n",
              "      <td>-0.020415</td>\n",
              "      <td>-0.095011</td>\n",
              "      <td>1.000000</td>\n",
              "      <td>-0.031201</td>\n",
              "      <td>-0.002090</td>\n",
              "      <td>0.000572</td>\n",
              "      <td>0.009579</td>\n",
              "      <td>-0.004153</td>\n",
              "      <td>-0.003430</td>\n",
              "      <td>-0.006443</td>\n",
              "      <td>0.005825</td>\n",
              "      <td>0.004223</td>\n",
              "      <td>-0.000942</td>\n",
              "      <td>-0.004325</td>\n",
              "    </tr>\n",
              "    <tr>\n",
              "      <th>Starchy Foods</th>\n",
              "      <td>0.028421</td>\n",
              "      <td>0.025945</td>\n",
              "      <td>0.245465</td>\n",
              "      <td>0.014613</td>\n",
              "      <td>-0.002500</td>\n",
              "      <td>0.012824</td>\n",
              "      <td>0.003615</td>\n",
              "      <td>0.006957</td>\n",
              "      <td>0.002503</td>\n",
              "      <td>0.015039</td>\n",
              "      <td>-0.038133</td>\n",
              "      <td>-0.023156</td>\n",
              "      <td>-0.015201</td>\n",
              "      <td>-0.038165</td>\n",
              "      <td>-0.039205</td>\n",
              "      <td>-0.044418</td>\n",
              "      <td>-0.054645</td>\n",
              "      <td>-0.021334</td>\n",
              "      <td>-0.033885</td>\n",
              "      <td>-0.045960</td>\n",
              "      <td>-0.030454</td>\n",
              "      <td>-0.018908</td>\n",
              "      <td>-0.011563</td>\n",
              "      <td>-0.053813</td>\n",
              "      <td>-0.031201</td>\n",
              "      <td>1.000000</td>\n",
              "      <td>-0.002321</td>\n",
              "      <td>0.008105</td>\n",
              "      <td>0.005542</td>\n",
              "      <td>0.002553</td>\n",
              "      <td>-0.019258</td>\n",
              "      <td>-0.006427</td>\n",
              "      <td>0.008213</td>\n",
              "      <td>-0.000380</td>\n",
              "      <td>-0.003311</td>\n",
              "      <td>0.002451</td>\n",
              "    </tr>\n",
              "    <tr>\n",
              "      <th>Outlet_Identifier_OUT010</th>\n",
              "      <td>0.092845</td>\n",
              "      <td>0.000254</td>\n",
              "      <td>0.000474</td>\n",
              "      <td>-0.000912</td>\n",
              "      <td>-0.439298</td>\n",
              "      <td>-0.076434</td>\n",
              "      <td>-0.337167</td>\n",
              "      <td>0.288087</td>\n",
              "      <td>-0.398067</td>\n",
              "      <td>-0.284883</td>\n",
              "      <td>-0.000352</td>\n",
              "      <td>0.001843</td>\n",
              "      <td>0.007740</td>\n",
              "      <td>-0.013019</td>\n",
              "      <td>-0.002472</td>\n",
              "      <td>-0.002754</td>\n",
              "      <td>-0.001657</td>\n",
              "      <td>0.006276</td>\n",
              "      <td>0.006236</td>\n",
              "      <td>0.011922</td>\n",
              "      <td>0.013818</td>\n",
              "      <td>-0.003428</td>\n",
              "      <td>-0.000923</td>\n",
              "      <td>-0.009764</td>\n",
              "      <td>-0.002090</td>\n",
              "      <td>-0.002321</td>\n",
              "      <td>1.000000</td>\n",
              "      <td>-0.092476</td>\n",
              "      <td>-0.092142</td>\n",
              "      <td>-0.092253</td>\n",
              "      <td>-0.067823</td>\n",
              "      <td>-0.092643</td>\n",
              "      <td>-0.092365</td>\n",
              "      <td>-0.092309</td>\n",
              "      <td>-0.092365</td>\n",
              "      <td>-0.092365</td>\n",
              "    </tr>\n",
              "    <tr>\n",
              "      <th>Outlet_Identifier_OUT013</th>\n",
              "      <td>0.128333</td>\n",
              "      <td>-0.002132</td>\n",
              "      <td>-0.003507</td>\n",
              "      <td>0.002438</td>\n",
              "      <td>-0.459730</td>\n",
              "      <td>-0.358163</td>\n",
              "      <td>0.615103</td>\n",
              "      <td>0.382481</td>\n",
              "      <td>-0.088530</td>\n",
              "      <td>0.024170</td>\n",
              "      <td>0.003036</td>\n",
              "      <td>-0.005442</td>\n",
              "      <td>0.003236</td>\n",
              "      <td>-0.008461</td>\n",
              "      <td>0.007514</td>\n",
              "      <td>-0.002007</td>\n",
              "      <td>0.007783</td>\n",
              "      <td>-0.000964</td>\n",
              "      <td>0.006499</td>\n",
              "      <td>0.004249</td>\n",
              "      <td>-0.009455</td>\n",
              "      <td>-0.006689</td>\n",
              "      <td>-0.008703</td>\n",
              "      <td>-0.006725</td>\n",
              "      <td>0.000572</td>\n",
              "      <td>0.008105</td>\n",
              "      <td>-0.092476</td>\n",
              "      <td>1.000000</td>\n",
              "      <td>-0.122333</td>\n",
              "      <td>-0.122481</td>\n",
              "      <td>-0.090046</td>\n",
              "      <td>-0.122999</td>\n",
              "      <td>-0.122629</td>\n",
              "      <td>-0.122555</td>\n",
              "      <td>-0.122629</td>\n",
              "      <td>-0.122629</td>\n",
              "    </tr>\n",
              "    <tr>\n",
              "      <th>Outlet_Identifier_OUT017</th>\n",
              "      <td>0.118126</td>\n",
              "      <td>0.004266</td>\n",
              "      <td>0.001083</td>\n",
              "      <td>-0.008812</td>\n",
              "      <td>-0.335006</td>\n",
              "      <td>0.410401</td>\n",
              "      <td>-0.446023</td>\n",
              "      <td>-0.048488</td>\n",
              "      <td>-0.088210</td>\n",
              "      <td>0.032610</td>\n",
              "      <td>0.003694</td>\n",
              "      <td>-0.011754</td>\n",
              "      <td>0.000163</td>\n",
              "      <td>-0.002149</td>\n",
              "      <td>-0.000135</td>\n",
              "      <td>0.016304</td>\n",
              "      <td>-0.007348</td>\n",
              "      <td>-0.003013</td>\n",
              "      <td>0.007094</td>\n",
              "      <td>-0.004723</td>\n",
              "      <td>-0.003767</td>\n",
              "      <td>-0.006386</td>\n",
              "      <td>-0.008531</td>\n",
              "      <td>-0.002576</td>\n",
              "      <td>0.009579</td>\n",
              "      <td>0.005542</td>\n",
              "      <td>-0.092142</td>\n",
              "      <td>-0.122333</td>\n",
              "      <td>1.000000</td>\n",
              "      <td>-0.122038</td>\n",
              "      <td>-0.089721</td>\n",
              "      <td>-0.122554</td>\n",
              "      <td>-0.122185</td>\n",
              "      <td>-0.122112</td>\n",
              "      <td>-0.122185</td>\n",
              "      <td>-0.122185</td>\n",
              "    </tr>\n",
              "    <tr>\n",
              "      <th>Outlet_Identifier_OUT018</th>\n",
              "      <td>0.120806</td>\n",
              "      <td>0.002129</td>\n",
              "      <td>-0.000659</td>\n",
              "      <td>0.003850</td>\n",
              "      <td>-0.212202</td>\n",
              "      <td>0.538931</td>\n",
              "      <td>0.260226</td>\n",
              "      <td>0.381559</td>\n",
              "      <td>0.350590</td>\n",
              "      <td>-0.038059</td>\n",
              "      <td>-0.003632</td>\n",
              "      <td>-0.000734</td>\n",
              "      <td>0.000077</td>\n",
              "      <td>0.010418</td>\n",
              "      <td>-0.001746</td>\n",
              "      <td>-0.001507</td>\n",
              "      <td>0.000919</td>\n",
              "      <td>-0.003132</td>\n",
              "      <td>0.002174</td>\n",
              "      <td>-0.004979</td>\n",
              "      <td>-0.000476</td>\n",
              "      <td>0.004320</td>\n",
              "      <td>0.000138</td>\n",
              "      <td>0.001453</td>\n",
              "      <td>-0.004153</td>\n",
              "      <td>0.002553</td>\n",
              "      <td>-0.092253</td>\n",
              "      <td>-0.122481</td>\n",
              "      <td>-0.122038</td>\n",
              "      <td>1.000000</td>\n",
              "      <td>-0.089829</td>\n",
              "      <td>-0.122702</td>\n",
              "      <td>-0.122333</td>\n",
              "      <td>-0.122260</td>\n",
              "      <td>-0.122333</td>\n",
              "      <td>-0.122333</td>\n",
              "    </tr>\n",
              "    <tr>\n",
              "      <th>Outlet_Identifier_OUT019</th>\n",
              "      <td>-0.425567</td>\n",
              "      <td>-0.004300</td>\n",
              "      <td>-0.005167</td>\n",
              "      <td>-0.004976</td>\n",
              "      <td>-0.065426</td>\n",
              "      <td>-0.356810</td>\n",
              "      <td>-0.068496</td>\n",
              "      <td>-0.351898</td>\n",
              "      <td>-0.387608</td>\n",
              "      <td>-0.277250</td>\n",
              "      <td>0.005245</td>\n",
              "      <td>0.001297</td>\n",
              "      <td>0.013736</td>\n",
              "      <td>-0.004047</td>\n",
              "      <td>0.012109</td>\n",
              "      <td>-0.006524</td>\n",
              "      <td>-0.004599</td>\n",
              "      <td>-0.016355</td>\n",
              "      <td>-0.004502</td>\n",
              "      <td>-0.006894</td>\n",
              "      <td>0.012681</td>\n",
              "      <td>0.022799</td>\n",
              "      <td>0.011474</td>\n",
              "      <td>0.000924</td>\n",
              "      <td>-0.003430</td>\n",
              "      <td>-0.019258</td>\n",
              "      <td>-0.067823</td>\n",
              "      <td>-0.090046</td>\n",
              "      <td>-0.089721</td>\n",
              "      <td>-0.089829</td>\n",
              "      <td>1.000000</td>\n",
              "      <td>-0.090209</td>\n",
              "      <td>-0.089938</td>\n",
              "      <td>-0.089884</td>\n",
              "      <td>-0.089938</td>\n",
              "      <td>-0.089938</td>\n",
              "    </tr>\n",
              "    <tr>\n",
              "      <th>Outlet_Identifier_OUT027</th>\n",
              "      <td>-0.581302</td>\n",
              "      <td>0.000183</td>\n",
              "      <td>0.002413</td>\n",
              "      <td>-0.006714</td>\n",
              "      <td>0.034362</td>\n",
              "      <td>-0.487384</td>\n",
              "      <td>0.261326</td>\n",
              "      <td>0.383172</td>\n",
              "      <td>0.792834</td>\n",
              "      <td>0.311192</td>\n",
              "      <td>-0.002957</td>\n",
              "      <td>0.007693</td>\n",
              "      <td>-0.003550</td>\n",
              "      <td>0.001136</td>\n",
              "      <td>-0.010817</td>\n",
              "      <td>-0.006128</td>\n",
              "      <td>0.005173</td>\n",
              "      <td>-0.001143</td>\n",
              "      <td>0.004634</td>\n",
              "      <td>-0.001009</td>\n",
              "      <td>0.016172</td>\n",
              "      <td>-0.009533</td>\n",
              "      <td>-0.000091</td>\n",
              "      <td>0.005782</td>\n",
              "      <td>-0.006443</td>\n",
              "      <td>-0.006427</td>\n",
              "      <td>-0.092643</td>\n",
              "      <td>-0.122999</td>\n",
              "      <td>-0.122554</td>\n",
              "      <td>-0.122702</td>\n",
              "      <td>-0.090209</td>\n",
              "      <td>1.000000</td>\n",
              "      <td>-0.122850</td>\n",
              "      <td>-0.122776</td>\n",
              "      <td>-0.122850</td>\n",
              "      <td>-0.122850</td>\n",
              "    </tr>\n",
              "    <tr>\n",
              "      <th>Outlet_Identifier_OUT035</th>\n",
              "      <td>0.118558</td>\n",
              "      <td>-0.003154</td>\n",
              "      <td>0.008062</td>\n",
              "      <td>0.011969</td>\n",
              "      <td>0.157618</td>\n",
              "      <td>0.283207</td>\n",
              "      <td>-0.093281</td>\n",
              "      <td>-0.048605</td>\n",
              "      <td>-0.088424</td>\n",
              "      <td>0.052823</td>\n",
              "      <td>-0.003844</td>\n",
              "      <td>0.003588</td>\n",
              "      <td>-0.006677</td>\n",
              "      <td>0.011611</td>\n",
              "      <td>-0.004740</td>\n",
              "      <td>-0.001757</td>\n",
              "      <td>-0.005813</td>\n",
              "      <td>-0.003249</td>\n",
              "      <td>-0.010598</td>\n",
              "      <td>0.003295</td>\n",
              "      <td>-0.005834</td>\n",
              "      <td>-0.006588</td>\n",
              "      <td>0.004431</td>\n",
              "      <td>0.009803</td>\n",
              "      <td>0.005825</td>\n",
              "      <td>0.008213</td>\n",
              "      <td>-0.092365</td>\n",
              "      <td>-0.122629</td>\n",
              "      <td>-0.122185</td>\n",
              "      <td>-0.122333</td>\n",
              "      <td>-0.089938</td>\n",
              "      <td>-0.122850</td>\n",
              "      <td>1.000000</td>\n",
              "      <td>-0.122407</td>\n",
              "      <td>-0.122481</td>\n",
              "      <td>-0.122481</td>\n",
              "    </tr>\n",
              "    <tr>\n",
              "      <th>Outlet_Identifier_OUT045</th>\n",
              "      <td>0.108732</td>\n",
              "      <td>-0.006029</td>\n",
              "      <td>0.001647</td>\n",
              "      <td>-0.000239</td>\n",
              "      <td>0.280807</td>\n",
              "      <td>0.154926</td>\n",
              "      <td>-0.446833</td>\n",
              "      <td>-0.048576</td>\n",
              "      <td>-0.088370</td>\n",
              "      <td>0.002274</td>\n",
              "      <td>-0.000897</td>\n",
              "      <td>0.012563</td>\n",
              "      <td>-0.006638</td>\n",
              "      <td>0.004627</td>\n",
              "      <td>-0.007406</td>\n",
              "      <td>-0.015411</td>\n",
              "      <td>0.009329</td>\n",
              "      <td>0.011248</td>\n",
              "      <td>-0.002642</td>\n",
              "      <td>-0.000231</td>\n",
              "      <td>-0.014399</td>\n",
              "      <td>0.004265</td>\n",
              "      <td>0.008827</td>\n",
              "      <td>0.002382</td>\n",
              "      <td>0.004223</td>\n",
              "      <td>-0.000380</td>\n",
              "      <td>-0.092309</td>\n",
              "      <td>-0.122555</td>\n",
              "      <td>-0.122112</td>\n",
              "      <td>-0.122260</td>\n",
              "      <td>-0.089884</td>\n",
              "      <td>-0.122776</td>\n",
              "      <td>-0.122407</td>\n",
              "      <td>1.000000</td>\n",
              "      <td>-0.122407</td>\n",
              "      <td>-0.122407</td>\n",
              "    </tr>\n",
              "    <tr>\n",
              "      <th>Outlet_Identifier_OUT046</th>\n",
              "      <td>0.120596</td>\n",
              "      <td>0.003147</td>\n",
              "      <td>-0.011157</td>\n",
              "      <td>0.005983</td>\n",
              "      <td>0.404335</td>\n",
              "      <td>-0.229544</td>\n",
              "      <td>-0.093281</td>\n",
              "      <td>-0.479230</td>\n",
              "      <td>-0.088424</td>\n",
              "      <td>0.019803</td>\n",
              "      <td>0.007514</td>\n",
              "      <td>-0.003090</td>\n",
              "      <td>-0.006677</td>\n",
              "      <td>0.001679</td>\n",
              "      <td>0.004969</td>\n",
              "      <td>0.018274</td>\n",
              "      <td>-0.009023</td>\n",
              "      <td>-0.008060</td>\n",
              "      <td>-0.001164</td>\n",
              "      <td>0.004514</td>\n",
              "      <td>-0.004105</td>\n",
              "      <td>0.009608</td>\n",
              "      <td>-0.004287</td>\n",
              "      <td>-0.011836</td>\n",
              "      <td>-0.000942</td>\n",
              "      <td>-0.003311</td>\n",
              "      <td>-0.092365</td>\n",
              "      <td>-0.122629</td>\n",
              "      <td>-0.122185</td>\n",
              "      <td>-0.122333</td>\n",
              "      <td>-0.089938</td>\n",
              "      <td>-0.122850</td>\n",
              "      <td>-0.122481</td>\n",
              "      <td>-0.122407</td>\n",
              "      <td>1.000000</td>\n",
              "      <td>-0.122481</td>\n",
              "    </tr>\n",
              "    <tr>\n",
              "      <th>Outlet_Identifier_OUT049</th>\n",
              "      <td>0.123352</td>\n",
              "      <td>0.004722</td>\n",
              "      <td>0.005738</td>\n",
              "      <td>-0.003906</td>\n",
              "      <td>0.527694</td>\n",
              "      <td>0.026832</td>\n",
              "      <td>0.260540</td>\n",
              "      <td>-0.479230</td>\n",
              "      <td>-0.088424</td>\n",
              "      <td>0.034264</td>\n",
              "      <td>-0.006684</td>\n",
              "      <td>-0.005316</td>\n",
              "      <td>0.003325</td>\n",
              "      <td>-0.005415</td>\n",
              "      <td>0.004969</td>\n",
              "      <td>-0.000505</td>\n",
              "      <td>0.003819</td>\n",
              "      <td>0.015993</td>\n",
              "      <td>-0.007453</td>\n",
              "      <td>-0.005235</td>\n",
              "      <td>0.001081</td>\n",
              "      <td>-0.003889</td>\n",
              "      <td>0.000072</td>\n",
              "      <td>0.008721</td>\n",
              "      <td>-0.004325</td>\n",
              "      <td>0.002451</td>\n",
              "      <td>-0.092365</td>\n",
              "      <td>-0.122629</td>\n",
              "      <td>-0.122185</td>\n",
              "      <td>-0.122333</td>\n",
              "      <td>-0.089938</td>\n",
              "      <td>-0.122850</td>\n",
              "      <td>-0.122481</td>\n",
              "      <td>-0.122407</td>\n",
              "      <td>-0.122481</td>\n",
              "      <td>1.000000</td>\n",
              "    </tr>\n",
              "  </tbody>\n",
              "</table>\n",
              "</div>"
            ],
            "text/plain": [
              "                               Item_Weight  ...  Outlet_Identifier_OUT049\n",
              "Item_Weight                       1.000000  ...                  0.123352\n",
              "Item_Fat_Content                 -0.011943  ...                  0.004722\n",
              "transformed_Item_Type             0.019390  ...                  0.005738\n",
              "Item_MRP                          0.022859  ...                 -0.003906\n",
              "transformed_Outlet_Identifier     0.004822  ...                  0.527694\n",
              "Outlet_Establishment_Year         0.471542  ...                  0.026832\n",
              "Outlet_Size                      -0.120341  ...                  0.260540\n",
              "Outlet_Location_Type             -0.067122  ...                 -0.479230\n",
              "Outlet_Type                      -0.308917  ...                 -0.088424\n",
              "Item_Outlet_Sales                -0.053222  ...                  0.034264\n",
              "Baking Goods                     -0.022098  ...                 -0.006684\n",
              "Breads                           -0.038687  ...                 -0.005316\n",
              "Breakfast                        -0.005688  ...                  0.003325\n",
              "Canned                           -0.019221  ...                 -0.005415\n",
              "Dairy                             0.022555  ...                  0.004969\n",
              "Frozen Foods                      0.007383  ...                 -0.000505\n",
              "Fruits and Vegetables             0.018392  ...                  0.003819\n",
              "Hard Drinks                      -0.022500  ...                  0.015993\n",
              "Health and Hygiene                0.008604  ...                 -0.007453\n",
              "Household                         0.027586  ...                 -0.005235\n",
              "Meat                             -0.017354  ...                  0.001081\n",
              "Others                            0.012817  ...                 -0.003889\n",
              "Seafood                          -0.008758  ...                  0.000072\n",
              "Snack Foods                       0.002692  ...                  0.008721\n",
              "Soft Drinks                      -0.025304  ...                 -0.004325\n",
              "Starchy Foods                     0.028421  ...                  0.002451\n",
              "Outlet_Identifier_OUT010          0.092845  ...                 -0.092365\n",
              "Outlet_Identifier_OUT013          0.128333  ...                 -0.122629\n",
              "Outlet_Identifier_OUT017          0.118126  ...                 -0.122185\n",
              "Outlet_Identifier_OUT018          0.120806  ...                 -0.122333\n",
              "Outlet_Identifier_OUT019         -0.425567  ...                 -0.089938\n",
              "Outlet_Identifier_OUT027         -0.581302  ...                 -0.122850\n",
              "Outlet_Identifier_OUT035          0.118558  ...                 -0.122481\n",
              "Outlet_Identifier_OUT045          0.108732  ...                 -0.122407\n",
              "Outlet_Identifier_OUT046          0.120596  ...                 -0.122481\n",
              "Outlet_Identifier_OUT049          0.123352  ...                  1.000000\n",
              "\n",
              "[36 rows x 36 columns]"
            ]
          },
          "metadata": {
            "tags": []
          },
          "execution_count": 127
        }
      ]
    },
    {
      "cell_type": "code",
      "metadata": {
        "id": "9H3MTgMRy-eG",
        "colab": {
          "base_uri": "https://localhost:8080/",
          "height": 257
        },
        "outputId": "b5041f4e-a0d5-4c48-c7b2-d23b34713184"
      },
      "source": [
        "# 4th Atempt... feature matrix - choosing columns with higher correlationbut preserving all the\n",
        "# OneHot columns\n",
        "\n",
        "ms_filter2 = mod_sales_ohe.loc[:, ['Item_Identifier', 'Item_Weight', 'transformed_Item_Type', 'transformed_Outlet_Identifier',\n",
        "                                   'Item_Fat_Content', 'Item_Type', 'Outlet_Identifier', 'Item_Outlet_Sales']]\n",
        "mod_sales_X_4th = mod_sales_ohe.drop(columns = ms_filter2)\n",
        "\n",
        "mod_sales_X_4th.head()"
      ],
      "execution_count": 128,
      "outputs": [
        {
          "output_type": "execute_result",
          "data": {
            "text/html": [
              "<div>\n",
              "<style scoped>\n",
              "    .dataframe tbody tr th:only-of-type {\n",
              "        vertical-align: middle;\n",
              "    }\n",
              "\n",
              "    .dataframe tbody tr th {\n",
              "        vertical-align: top;\n",
              "    }\n",
              "\n",
              "    .dataframe thead th {\n",
              "        text-align: right;\n",
              "    }\n",
              "</style>\n",
              "<table border=\"1\" class=\"dataframe\">\n",
              "  <thead>\n",
              "    <tr style=\"text-align: right;\">\n",
              "      <th></th>\n",
              "      <th>Item_MRP</th>\n",
              "      <th>Outlet_Establishment_Year</th>\n",
              "      <th>Outlet_Size</th>\n",
              "      <th>Outlet_Location_Type</th>\n",
              "      <th>Outlet_Type</th>\n",
              "      <th>Baking Goods</th>\n",
              "      <th>Breads</th>\n",
              "      <th>Breakfast</th>\n",
              "      <th>Canned</th>\n",
              "      <th>Dairy</th>\n",
              "      <th>Frozen Foods</th>\n",
              "      <th>Fruits and Vegetables</th>\n",
              "      <th>Hard Drinks</th>\n",
              "      <th>Health and Hygiene</th>\n",
              "      <th>Household</th>\n",
              "      <th>Meat</th>\n",
              "      <th>Others</th>\n",
              "      <th>Seafood</th>\n",
              "      <th>Snack Foods</th>\n",
              "      <th>Soft Drinks</th>\n",
              "      <th>Starchy Foods</th>\n",
              "      <th>Outlet_Identifier_OUT010</th>\n",
              "      <th>Outlet_Identifier_OUT013</th>\n",
              "      <th>Outlet_Identifier_OUT017</th>\n",
              "      <th>Outlet_Identifier_OUT018</th>\n",
              "      <th>Outlet_Identifier_OUT019</th>\n",
              "      <th>Outlet_Identifier_OUT027</th>\n",
              "      <th>Outlet_Identifier_OUT035</th>\n",
              "      <th>Outlet_Identifier_OUT045</th>\n",
              "      <th>Outlet_Identifier_OUT046</th>\n",
              "      <th>Outlet_Identifier_OUT049</th>\n",
              "    </tr>\n",
              "  </thead>\n",
              "  <tbody>\n",
              "    <tr>\n",
              "      <th>0</th>\n",
              "      <td>249.8092</td>\n",
              "      <td>4</td>\n",
              "      <td>2</td>\n",
              "      <td>1</td>\n",
              "      <td>1</td>\n",
              "      <td>0.0</td>\n",
              "      <td>0.0</td>\n",
              "      <td>0.0</td>\n",
              "      <td>0.0</td>\n",
              "      <td>1.0</td>\n",
              "      <td>0.0</td>\n",
              "      <td>0.0</td>\n",
              "      <td>0.0</td>\n",
              "      <td>0.0</td>\n",
              "      <td>0.0</td>\n",
              "      <td>0.0</td>\n",
              "      <td>0.0</td>\n",
              "      <td>0.0</td>\n",
              "      <td>0.0</td>\n",
              "      <td>0.0</td>\n",
              "      <td>0.0</td>\n",
              "      <td>0.0</td>\n",
              "      <td>0.0</td>\n",
              "      <td>0.0</td>\n",
              "      <td>0.0</td>\n",
              "      <td>0.0</td>\n",
              "      <td>0.0</td>\n",
              "      <td>0.0</td>\n",
              "      <td>0.0</td>\n",
              "      <td>0.0</td>\n",
              "      <td>1.0</td>\n",
              "    </tr>\n",
              "    <tr>\n",
              "      <th>1</th>\n",
              "      <td>48.2692</td>\n",
              "      <td>8</td>\n",
              "      <td>2</td>\n",
              "      <td>3</td>\n",
              "      <td>2</td>\n",
              "      <td>0.0</td>\n",
              "      <td>0.0</td>\n",
              "      <td>0.0</td>\n",
              "      <td>0.0</td>\n",
              "      <td>0.0</td>\n",
              "      <td>0.0</td>\n",
              "      <td>0.0</td>\n",
              "      <td>0.0</td>\n",
              "      <td>0.0</td>\n",
              "      <td>0.0</td>\n",
              "      <td>0.0</td>\n",
              "      <td>0.0</td>\n",
              "      <td>0.0</td>\n",
              "      <td>0.0</td>\n",
              "      <td>1.0</td>\n",
              "      <td>0.0</td>\n",
              "      <td>0.0</td>\n",
              "      <td>0.0</td>\n",
              "      <td>0.0</td>\n",
              "      <td>1.0</td>\n",
              "      <td>0.0</td>\n",
              "      <td>0.0</td>\n",
              "      <td>0.0</td>\n",
              "      <td>0.0</td>\n",
              "      <td>0.0</td>\n",
              "      <td>0.0</td>\n",
              "    </tr>\n",
              "    <tr>\n",
              "      <th>2</th>\n",
              "      <td>141.6180</td>\n",
              "      <td>4</td>\n",
              "      <td>2</td>\n",
              "      <td>1</td>\n",
              "      <td>1</td>\n",
              "      <td>0.0</td>\n",
              "      <td>0.0</td>\n",
              "      <td>0.0</td>\n",
              "      <td>0.0</td>\n",
              "      <td>0.0</td>\n",
              "      <td>0.0</td>\n",
              "      <td>0.0</td>\n",
              "      <td>0.0</td>\n",
              "      <td>0.0</td>\n",
              "      <td>0.0</td>\n",
              "      <td>1.0</td>\n",
              "      <td>0.0</td>\n",
              "      <td>0.0</td>\n",
              "      <td>0.0</td>\n",
              "      <td>0.0</td>\n",
              "      <td>0.0</td>\n",
              "      <td>0.0</td>\n",
              "      <td>0.0</td>\n",
              "      <td>0.0</td>\n",
              "      <td>0.0</td>\n",
              "      <td>0.0</td>\n",
              "      <td>0.0</td>\n",
              "      <td>0.0</td>\n",
              "      <td>0.0</td>\n",
              "      <td>0.0</td>\n",
              "      <td>1.0</td>\n",
              "    </tr>\n",
              "    <tr>\n",
              "      <th>3</th>\n",
              "      <td>182.0950</td>\n",
              "      <td>3</td>\n",
              "      <td>0</td>\n",
              "      <td>3</td>\n",
              "      <td>0</td>\n",
              "      <td>0.0</td>\n",
              "      <td>0.0</td>\n",
              "      <td>0.0</td>\n",
              "      <td>0.0</td>\n",
              "      <td>0.0</td>\n",
              "      <td>0.0</td>\n",
              "      <td>1.0</td>\n",
              "      <td>0.0</td>\n",
              "      <td>0.0</td>\n",
              "      <td>0.0</td>\n",
              "      <td>0.0</td>\n",
              "      <td>0.0</td>\n",
              "      <td>0.0</td>\n",
              "      <td>0.0</td>\n",
              "      <td>0.0</td>\n",
              "      <td>0.0</td>\n",
              "      <td>1.0</td>\n",
              "      <td>0.0</td>\n",
              "      <td>0.0</td>\n",
              "      <td>0.0</td>\n",
              "      <td>0.0</td>\n",
              "      <td>0.0</td>\n",
              "      <td>0.0</td>\n",
              "      <td>0.0</td>\n",
              "      <td>0.0</td>\n",
              "      <td>0.0</td>\n",
              "    </tr>\n",
              "    <tr>\n",
              "      <th>4</th>\n",
              "      <td>53.8614</td>\n",
              "      <td>1</td>\n",
              "      <td>3</td>\n",
              "      <td>3</td>\n",
              "      <td>1</td>\n",
              "      <td>0.0</td>\n",
              "      <td>0.0</td>\n",
              "      <td>0.0</td>\n",
              "      <td>0.0</td>\n",
              "      <td>0.0</td>\n",
              "      <td>0.0</td>\n",
              "      <td>0.0</td>\n",
              "      <td>0.0</td>\n",
              "      <td>0.0</td>\n",
              "      <td>1.0</td>\n",
              "      <td>0.0</td>\n",
              "      <td>0.0</td>\n",
              "      <td>0.0</td>\n",
              "      <td>0.0</td>\n",
              "      <td>0.0</td>\n",
              "      <td>0.0</td>\n",
              "      <td>0.0</td>\n",
              "      <td>1.0</td>\n",
              "      <td>0.0</td>\n",
              "      <td>0.0</td>\n",
              "      <td>0.0</td>\n",
              "      <td>0.0</td>\n",
              "      <td>0.0</td>\n",
              "      <td>0.0</td>\n",
              "      <td>0.0</td>\n",
              "      <td>0.0</td>\n",
              "    </tr>\n",
              "  </tbody>\n",
              "</table>\n",
              "</div>"
            ],
            "text/plain": [
              "   Item_MRP  ...  Outlet_Identifier_OUT049\n",
              "0  249.8092  ...                       1.0\n",
              "1   48.2692  ...                       0.0\n",
              "2  141.6180  ...                       1.0\n",
              "3  182.0950  ...                       0.0\n",
              "4   53.8614  ...                       0.0\n",
              "\n",
              "[5 rows x 31 columns]"
            ]
          },
          "metadata": {
            "tags": []
          },
          "execution_count": 128
        }
      ]
    },
    {
      "cell_type": "code",
      "metadata": {
        "id": "EC1IZ1VJ7CK0",
        "colab": {
          "base_uri": "https://localhost:8080/"
        },
        "outputId": "d7977a13-71fc-4f5c-e99d-f9b99a65789b"
      },
      "source": [
        "X4 = mod_sales_X_4th.values\n",
        "X4.shape "
      ],
      "execution_count": 129,
      "outputs": [
        {
          "output_type": "execute_result",
          "data": {
            "text/plain": [
              "(8523, 31)"
            ]
          },
          "metadata": {
            "tags": []
          },
          "execution_count": 129
        }
      ]
    },
    {
      "cell_type": "code",
      "metadata": {
        "id": "fN-cQwZ161L3",
        "colab": {
          "base_uri": "https://localhost:8080/"
        },
        "outputId": "9b0e85d6-07e0-45e8-fb67-30e8573bc2ae"
      },
      "source": [
        "y4 = mod_sales_ohe.loc[:, 'Item_Outlet_Sales'].values\n",
        "y4.shape"
      ],
      "execution_count": 130,
      "outputs": [
        {
          "output_type": "execute_result",
          "data": {
            "text/plain": [
              "(8523,)"
            ]
          },
          "metadata": {
            "tags": []
          },
          "execution_count": 130
        }
      ]
    },
    {
      "cell_type": "code",
      "metadata": {
        "id": "kbWCDeSH7DoV",
        "colab": {
          "base_uri": "https://localhost:8080/"
        },
        "outputId": "46685647-08c6-4e65-80c6-e2c7c112f5c3"
      },
      "source": [
        "reg4 = LinearRegression()\n",
        "reg4.fit(X4,y4)"
      ],
      "execution_count": 131,
      "outputs": [
        {
          "output_type": "execute_result",
          "data": {
            "text/plain": [
              "LinearRegression(copy_X=True, fit_intercept=True, n_jobs=None, normalize=False)"
            ]
          },
          "metadata": {
            "tags": []
          },
          "execution_count": 131
        }
      ]
    },
    {
      "cell_type": "code",
      "metadata": {
        "id": "LCKsO4_F7p7j",
        "colab": {
          "base_uri": "https://localhost:8080/"
        },
        "outputId": "662dde43-a147-4baa-b020-1dec30a2f264"
      },
      "source": [
        "pred4 = reg4.predict(X4)\n",
        "pred4"
      ],
      "execution_count": 132,
      "outputs": [
        {
          "output_type": "execute_result",
          "data": {
            "text/plain": [
              "array([4017.72063024,  512.40779177, 2386.04998159, ..., 1520.04153142,\n",
              "       1392.15728672, 1214.04898021])"
            ]
          },
          "metadata": {
            "tags": []
          },
          "execution_count": 132
        }
      ]
    },
    {
      "cell_type": "code",
      "metadata": {
        "id": "o98Cs2U571WU",
        "colab": {
          "base_uri": "https://localhost:8080/"
        },
        "outputId": "dd14a968-2494-44ed-a828-dc410f99cc2b"
      },
      "source": [
        "# Ummm, I think this is the same as my first attempt which didn't have columns pulled out.\n",
        "# this is 100th of  a percentage that the first attempt.\n",
        "\n",
        "reg4.score(X4,y4)"
      ],
      "execution_count": 133,
      "outputs": [
        {
          "output_type": "execute_result",
          "data": {
            "text/plain": [
              "0.5635845155616708"
            ]
          },
          "metadata": {
            "tags": []
          },
          "execution_count": 133
        }
      ]
    },
    {
      "cell_type": "code",
      "metadata": {
        "id": "T85ArYhhA0i-",
        "colab": {
          "base_uri": "https://localhost:8080/"
        },
        "outputId": "34ef53a8-675c-47b4-9e11-4ca76d93475c"
      },
      "source": [
        "# Slightly less\n",
        "\n",
        "np.sqrt(mean_squared_error(y4, pred4))"
      ],
      "execution_count": 134,
      "outputs": [
        {
          "output_type": "execute_result",
          "data": {
            "text/plain": [
              "1127.277376632579"
            ]
          },
          "metadata": {
            "tags": []
          },
          "execution_count": 134
        }
      ]
    },
    {
      "cell_type": "markdown",
      "metadata": {
        "id": "tJMM8jyX9pzo"
      },
      "source": [
        "\n",
        "\n",
        "> I'm going to run this model only with the columns that correlate well\n"
      ]
    },
    {
      "cell_type": "code",
      "metadata": {
        "id": "y5HhQPvO7-fL",
        "colab": {
          "base_uri": "https://localhost:8080/",
          "height": 203
        },
        "outputId": "6d9e1264-986c-410b-8aa8-c028697343b1"
      },
      "source": [
        "# Fifth Attempt... Feature matrix - I will strictly run columns that correlate well with \n",
        "# the sales column.\n",
        "\n",
        "mod_sales_X_5th = mod_sales.loc[:, ['Item_MRP', 'Outlet_Size', 'Outlet_Type']]\n",
        "\n",
        "mod_sales_X_5th.head()"
      ],
      "execution_count": 135,
      "outputs": [
        {
          "output_type": "execute_result",
          "data": {
            "text/html": [
              "<div>\n",
              "<style scoped>\n",
              "    .dataframe tbody tr th:only-of-type {\n",
              "        vertical-align: middle;\n",
              "    }\n",
              "\n",
              "    .dataframe tbody tr th {\n",
              "        vertical-align: top;\n",
              "    }\n",
              "\n",
              "    .dataframe thead th {\n",
              "        text-align: right;\n",
              "    }\n",
              "</style>\n",
              "<table border=\"1\" class=\"dataframe\">\n",
              "  <thead>\n",
              "    <tr style=\"text-align: right;\">\n",
              "      <th></th>\n",
              "      <th>Item_MRP</th>\n",
              "      <th>Outlet_Size</th>\n",
              "      <th>Outlet_Type</th>\n",
              "    </tr>\n",
              "  </thead>\n",
              "  <tbody>\n",
              "    <tr>\n",
              "      <th>0</th>\n",
              "      <td>249.8092</td>\n",
              "      <td>2</td>\n",
              "      <td>1</td>\n",
              "    </tr>\n",
              "    <tr>\n",
              "      <th>1</th>\n",
              "      <td>48.2692</td>\n",
              "      <td>2</td>\n",
              "      <td>2</td>\n",
              "    </tr>\n",
              "    <tr>\n",
              "      <th>2</th>\n",
              "      <td>141.6180</td>\n",
              "      <td>2</td>\n",
              "      <td>1</td>\n",
              "    </tr>\n",
              "    <tr>\n",
              "      <th>3</th>\n",
              "      <td>182.0950</td>\n",
              "      <td>0</td>\n",
              "      <td>0</td>\n",
              "    </tr>\n",
              "    <tr>\n",
              "      <th>4</th>\n",
              "      <td>53.8614</td>\n",
              "      <td>3</td>\n",
              "      <td>1</td>\n",
              "    </tr>\n",
              "  </tbody>\n",
              "</table>\n",
              "</div>"
            ],
            "text/plain": [
              "   Item_MRP  Outlet_Size  Outlet_Type\n",
              "0  249.8092            2            1\n",
              "1   48.2692            2            2\n",
              "2  141.6180            2            1\n",
              "3  182.0950            0            0\n",
              "4   53.8614            3            1"
            ]
          },
          "metadata": {
            "tags": []
          },
          "execution_count": 135
        }
      ]
    },
    {
      "cell_type": "code",
      "metadata": {
        "id": "artxtvPw_KmF",
        "colab": {
          "base_uri": "https://localhost:8080/"
        },
        "outputId": "f4f859c2-2998-4363-cced-cdc40a47d7da"
      },
      "source": [
        "X5 = mod_sales_X_5th.values\n",
        "y5 = mod_sales_ohe.loc[:, 'Item_Outlet_Sales'].values\n",
        "reg5 = LinearRegression()\n",
        "reg5.fit(X5, y5)"
      ],
      "execution_count": 136,
      "outputs": [
        {
          "output_type": "execute_result",
          "data": {
            "text/plain": [
              "LinearRegression(copy_X=True, fit_intercept=True, n_jobs=None, normalize=False)"
            ]
          },
          "metadata": {
            "tags": []
          },
          "execution_count": 136
        }
      ]
    },
    {
      "cell_type": "code",
      "metadata": {
        "id": "pcb8yQUUZuoC",
        "colab": {
          "base_uri": "https://localhost:8080/"
        },
        "outputId": "12129d75-9e1b-441e-cd90-9bad876a3e5e"
      },
      "source": [
        "X5.shape"
      ],
      "execution_count": 137,
      "outputs": [
        {
          "output_type": "execute_result",
          "data": {
            "text/plain": [
              "(8523, 3)"
            ]
          },
          "metadata": {
            "tags": []
          },
          "execution_count": 137
        }
      ]
    },
    {
      "cell_type": "code",
      "metadata": {
        "id": "CEXiGlZBABGK",
        "colab": {
          "base_uri": "https://localhost:8080/"
        },
        "outputId": "01858d9a-7f11-4fe9-b15b-451820510de8"
      },
      "source": [
        "pred5 = reg5.predict(X5)\n",
        "pred5"
      ],
      "execution_count": 138,
      "outputs": [
        {
          "output_type": "execute_result",
          "data": {
            "text/plain": [
              "array([3697.33796343, 1424.3314988 , 2012.2454084 , ..., 1138.46169983,\n",
              "       2278.84571012,  988.07754052])"
            ]
          },
          "metadata": {
            "tags": []
          },
          "execution_count": 138
        }
      ]
    },
    {
      "cell_type": "code",
      "metadata": {
        "id": "SzJORbsEAHTY",
        "colab": {
          "base_uri": "https://localhost:8080/"
        },
        "outputId": "24a54176-bf00-4ad0-e56b-8eb5b4c2ef53"
      },
      "source": [
        "# Much Worse... The model needs more data to be more accurate\n",
        "\n",
        "reg5.score(X5,y5)"
      ],
      "execution_count": 139,
      "outputs": [
        {
          "output_type": "execute_result",
          "data": {
            "text/plain": [
              "0.4842732779418643"
            ]
          },
          "metadata": {
            "tags": []
          },
          "execution_count": 139
        }
      ]
    },
    {
      "cell_type": "code",
      "metadata": {
        "id": "CZlOu0pNAvTp",
        "colab": {
          "base_uri": "https://localhost:8080/"
        },
        "outputId": "a207c8a5-2dc8-4fd9-f34b-a7d23b9fdbb8"
      },
      "source": [
        "# This is higher. This direction is not helping\n",
        "\n",
        "np.sqrt(mean_squared_error(y5, pred5))"
      ],
      "execution_count": 140,
      "outputs": [
        {
          "output_type": "execute_result",
          "data": {
            "text/plain": [
              "1225.4357130173285"
            ]
          },
          "metadata": {
            "tags": []
          },
          "execution_count": 140
        }
      ]
    },
    {
      "cell_type": "markdown",
      "metadata": {
        "id": "waU2NNJ1CXGR"
      },
      "source": [
        "\n",
        "\n",
        "> Just curious if I add a couple of the columns from the OneHot classifications if it will change the results any. A couple of the Outlets in the Outlet Identifier columns had a higher correlation with the sales column. I believe this means that those sales might conduct higher sales valume or they carry specific items that people specifcally go there to purchase. It's also possible these outlets are located in a more prime area than the other locations that correlate as well.\n",
        "\n"
      ]
    },
    {
      "cell_type": "code",
      "metadata": {
        "id": "U_OtBj-VCWkA",
        "colab": {
          "base_uri": "https://localhost:8080/",
          "height": 203
        },
        "outputId": "d3607b9a-d187-4bbe-8c25-627d566c0705"
      },
      "source": [
        "# Sixth Attempt... I will use the same columns as attempt 5, but I will add the column for\n",
        "# Outlet 027\n",
        "\n",
        "mod_sales_X_6th = mod_sales_ohe.loc[:, ['Item_MRP', 'Outlet_Size', 'Outlet_Type', 'Outlet_Identifier_OUT027']]\n",
        "\n",
        "mod_sales_X_6th.head()"
      ],
      "execution_count": 141,
      "outputs": [
        {
          "output_type": "execute_result",
          "data": {
            "text/html": [
              "<div>\n",
              "<style scoped>\n",
              "    .dataframe tbody tr th:only-of-type {\n",
              "        vertical-align: middle;\n",
              "    }\n",
              "\n",
              "    .dataframe tbody tr th {\n",
              "        vertical-align: top;\n",
              "    }\n",
              "\n",
              "    .dataframe thead th {\n",
              "        text-align: right;\n",
              "    }\n",
              "</style>\n",
              "<table border=\"1\" class=\"dataframe\">\n",
              "  <thead>\n",
              "    <tr style=\"text-align: right;\">\n",
              "      <th></th>\n",
              "      <th>Item_MRP</th>\n",
              "      <th>Outlet_Size</th>\n",
              "      <th>Outlet_Type</th>\n",
              "      <th>Outlet_Identifier_OUT027</th>\n",
              "    </tr>\n",
              "  </thead>\n",
              "  <tbody>\n",
              "    <tr>\n",
              "      <th>0</th>\n",
              "      <td>249.8092</td>\n",
              "      <td>2</td>\n",
              "      <td>1</td>\n",
              "      <td>0.0</td>\n",
              "    </tr>\n",
              "    <tr>\n",
              "      <th>1</th>\n",
              "      <td>48.2692</td>\n",
              "      <td>2</td>\n",
              "      <td>2</td>\n",
              "      <td>0.0</td>\n",
              "    </tr>\n",
              "    <tr>\n",
              "      <th>2</th>\n",
              "      <td>141.6180</td>\n",
              "      <td>2</td>\n",
              "      <td>1</td>\n",
              "      <td>0.0</td>\n",
              "    </tr>\n",
              "    <tr>\n",
              "      <th>3</th>\n",
              "      <td>182.0950</td>\n",
              "      <td>0</td>\n",
              "      <td>0</td>\n",
              "      <td>0.0</td>\n",
              "    </tr>\n",
              "    <tr>\n",
              "      <th>4</th>\n",
              "      <td>53.8614</td>\n",
              "      <td>3</td>\n",
              "      <td>1</td>\n",
              "      <td>0.0</td>\n",
              "    </tr>\n",
              "  </tbody>\n",
              "</table>\n",
              "</div>"
            ],
            "text/plain": [
              "   Item_MRP  Outlet_Size  Outlet_Type  Outlet_Identifier_OUT027\n",
              "0  249.8092            2            1                       0.0\n",
              "1   48.2692            2            2                       0.0\n",
              "2  141.6180            2            1                       0.0\n",
              "3  182.0950            0            0                       0.0\n",
              "4   53.8614            3            1                       0.0"
            ]
          },
          "metadata": {
            "tags": []
          },
          "execution_count": 141
        }
      ]
    },
    {
      "cell_type": "code",
      "metadata": {
        "id": "8QBN-NkcBO7X",
        "colab": {
          "base_uri": "https://localhost:8080/"
        },
        "outputId": "6f4b3beb-bae8-4cf9-9d5b-170c7d1cd0db"
      },
      "source": [
        "X6 = mod_sales_X_6th.values\n",
        "y6 = mod_sales_ohe.loc[:, 'Item_Outlet_Sales'].values\n",
        "reg6 = LinearRegression()\n",
        "reg6.fit(X6, y6)"
      ],
      "execution_count": 142,
      "outputs": [
        {
          "output_type": "execute_result",
          "data": {
            "text/plain": [
              "LinearRegression(copy_X=True, fit_intercept=True, n_jobs=None, normalize=False)"
            ]
          },
          "metadata": {
            "tags": []
          },
          "execution_count": 142
        }
      ]
    },
    {
      "cell_type": "code",
      "metadata": {
        "id": "F3ea3LAOc9gZ",
        "colab": {
          "base_uri": "https://localhost:8080/"
        },
        "outputId": "c3c053a8-15e5-4e1f-98be-418820b083ce"
      },
      "source": [
        "pred6 = reg6.predict(X6)\n",
        "pred6"
      ],
      "execution_count": 143,
      "outputs": [
        {
          "output_type": "execute_result",
          "data": {
            "text/plain": [
              "array([3698.54726404, 1448.11567406, 2013.63203296, ..., 1142.0802381 ,\n",
              "       2302.539964  ,  991.71190387])"
            ]
          },
          "metadata": {
            "tags": []
          },
          "execution_count": 143
        }
      ]
    },
    {
      "cell_type": "code",
      "metadata": {
        "id": "UVlgN0KddeWs",
        "colab": {
          "base_uri": "https://localhost:8080/"
        },
        "outputId": "3a99425f-6ad2-45ab-bdb4-dafcf8e235d7"
      },
      "source": [
        "# A very small improvement. Almost unnoticeable\n",
        "\n",
        "reg6.score(X6,y6)"
      ],
      "execution_count": 144,
      "outputs": [
        {
          "output_type": "execute_result",
          "data": {
            "text/plain": [
              "0.4843293085832434"
            ]
          },
          "metadata": {
            "tags": []
          },
          "execution_count": 144
        }
      ]
    },
    {
      "cell_type": "code",
      "metadata": {
        "id": "aYgVUxmjdj1T",
        "colab": {
          "base_uri": "https://localhost:8080/"
        },
        "outputId": "a7865438-7aa4-49f9-da81-b0dceda2a306"
      },
      "source": [
        "np.sqrt(mean_squared_error(y6, pred6))"
      ],
      "execution_count": 145,
      "outputs": [
        {
          "output_type": "execute_result",
          "data": {
            "text/plain": [
              "1225.3691430578308"
            ]
          },
          "metadata": {
            "tags": []
          },
          "execution_count": 145
        }
      ]
    },
    {
      "cell_type": "markdown",
      "metadata": {
        "id": "m6656Wt_d8eX"
      },
      "source": [
        "\n",
        "\n",
        "> Final Attempt ... I will run the model from the sixth attempt but add in a couple specific Outlets with a negative correlation. The numbers were higher so maybe the effect on the prediction model will help.\n",
        "\n"
      ]
    },
    {
      "cell_type": "code",
      "metadata": {
        "id": "XV6ofGGqd7jT",
        "colab": {
          "base_uri": "https://localhost:8080/",
          "height": 223
        },
        "outputId": "dcbc61b1-adb8-400c-bd50-d8bcc3245975"
      },
      "source": [
        "mod_sales_X_7th = mod_sales_ohe.loc[:, ['Item_MRP', 'Outlet_Size', 'Outlet_Type', 'Outlet_Identifier_OUT027',\n",
        "                                        'Outlet_Identifier_OUT019', 'Outlet_Identifier_OUT010']]\n",
        "\n",
        "mod_sales_X_7th.head()"
      ],
      "execution_count": 146,
      "outputs": [
        {
          "output_type": "execute_result",
          "data": {
            "text/html": [
              "<div>\n",
              "<style scoped>\n",
              "    .dataframe tbody tr th:only-of-type {\n",
              "        vertical-align: middle;\n",
              "    }\n",
              "\n",
              "    .dataframe tbody tr th {\n",
              "        vertical-align: top;\n",
              "    }\n",
              "\n",
              "    .dataframe thead th {\n",
              "        text-align: right;\n",
              "    }\n",
              "</style>\n",
              "<table border=\"1\" class=\"dataframe\">\n",
              "  <thead>\n",
              "    <tr style=\"text-align: right;\">\n",
              "      <th></th>\n",
              "      <th>Item_MRP</th>\n",
              "      <th>Outlet_Size</th>\n",
              "      <th>Outlet_Type</th>\n",
              "      <th>Outlet_Identifier_OUT027</th>\n",
              "      <th>Outlet_Identifier_OUT019</th>\n",
              "      <th>Outlet_Identifier_OUT010</th>\n",
              "    </tr>\n",
              "  </thead>\n",
              "  <tbody>\n",
              "    <tr>\n",
              "      <th>0</th>\n",
              "      <td>249.8092</td>\n",
              "      <td>2</td>\n",
              "      <td>1</td>\n",
              "      <td>0.0</td>\n",
              "      <td>0.0</td>\n",
              "      <td>0.0</td>\n",
              "    </tr>\n",
              "    <tr>\n",
              "      <th>1</th>\n",
              "      <td>48.2692</td>\n",
              "      <td>2</td>\n",
              "      <td>2</td>\n",
              "      <td>0.0</td>\n",
              "      <td>0.0</td>\n",
              "      <td>0.0</td>\n",
              "    </tr>\n",
              "    <tr>\n",
              "      <th>2</th>\n",
              "      <td>141.6180</td>\n",
              "      <td>2</td>\n",
              "      <td>1</td>\n",
              "      <td>0.0</td>\n",
              "      <td>0.0</td>\n",
              "      <td>0.0</td>\n",
              "    </tr>\n",
              "    <tr>\n",
              "      <th>3</th>\n",
              "      <td>182.0950</td>\n",
              "      <td>0</td>\n",
              "      <td>0</td>\n",
              "      <td>0.0</td>\n",
              "      <td>0.0</td>\n",
              "      <td>1.0</td>\n",
              "    </tr>\n",
              "    <tr>\n",
              "      <th>4</th>\n",
              "      <td>53.8614</td>\n",
              "      <td>3</td>\n",
              "      <td>1</td>\n",
              "      <td>0.0</td>\n",
              "      <td>0.0</td>\n",
              "      <td>0.0</td>\n",
              "    </tr>\n",
              "  </tbody>\n",
              "</table>\n",
              "</div>"
            ],
            "text/plain": [
              "   Item_MRP  Outlet_Size  ...  Outlet_Identifier_OUT019  Outlet_Identifier_OUT010\n",
              "0  249.8092            2  ...                       0.0                       0.0\n",
              "1   48.2692            2  ...                       0.0                       0.0\n",
              "2  141.6180            2  ...                       0.0                       0.0\n",
              "3  182.0950            0  ...                       0.0                       1.0\n",
              "4   53.8614            3  ...                       0.0                       0.0\n",
              "\n",
              "[5 rows x 6 columns]"
            ]
          },
          "metadata": {
            "tags": []
          },
          "execution_count": 146
        }
      ]
    },
    {
      "cell_type": "code",
      "metadata": {
        "id": "7n5eJrqnfQ6x",
        "colab": {
          "base_uri": "https://localhost:8080/"
        },
        "outputId": "606df33d-3275-46a9-82d3-5d22b0a5a783"
      },
      "source": [
        "X7 = mod_sales_X_7th.values\n",
        "y7 = mod_sales_ohe.loc[:, 'Item_Outlet_Sales'].values\n",
        "reg7 = LinearRegression()\n",
        "reg7.fit(X7, y7)"
      ],
      "execution_count": 147,
      "outputs": [
        {
          "output_type": "execute_result",
          "data": {
            "text/plain": [
              "LinearRegression(copy_X=True, fit_intercept=True, n_jobs=None, normalize=False)"
            ]
          },
          "metadata": {
            "tags": []
          },
          "execution_count": 147
        }
      ]
    },
    {
      "cell_type": "code",
      "metadata": {
        "id": "Ov_MeYF_d5Ip",
        "colab": {
          "base_uri": "https://localhost:8080/"
        },
        "outputId": "922ac789-4fb2-429f-e5a9-5f8c200b9750"
      },
      "source": [
        "pred7 = reg7.predict(X7)\n",
        "pred7"
      ],
      "execution_count": 148,
      "outputs": [
        {
          "output_type": "execute_result",
          "data": {
            "text/plain": [
              "array([4014.92009318,  541.92769462, 2331.32574109, ..., 1441.53228735,\n",
              "       1395.68216386, 1291.28183346])"
            ]
          },
          "metadata": {
            "tags": []
          },
          "execution_count": 148
        }
      ]
    },
    {
      "cell_type": "code",
      "metadata": {
        "id": "J7ajrXucfhcs",
        "colab": {
          "base_uri": "https://localhost:8080/"
        },
        "outputId": "105f8db5-e072-4c73-ca57-18332ae6df9b"
      },
      "source": [
        "# Definitely better, but still not as good as using all the columns.\n",
        "reg7.score(X7,y7)"
      ],
      "execution_count": 149,
      "outputs": [
        {
          "output_type": "execute_result",
          "data": {
            "text/plain": [
              "0.5620792543807296"
            ]
          },
          "metadata": {
            "tags": []
          },
          "execution_count": 149
        }
      ]
    },
    {
      "cell_type": "code",
      "metadata": {
        "id": "WmK4Y4_RfnN5",
        "colab": {
          "base_uri": "https://localhost:8080/"
        },
        "outputId": "343fee0f-0320-41e4-8217-0f634cc5fe38"
      },
      "source": [
        "np.sqrt(mean_squared_error(y7, pred7))"
      ],
      "execution_count": 150,
      "outputs": [
        {
          "output_type": "execute_result",
          "data": {
            "text/plain": [
              "1129.2197758885277"
            ]
          },
          "metadata": {
            "tags": []
          },
          "execution_count": 150
        }
      ]
    },
    {
      "cell_type": "markdown",
      "metadata": {
        "id": "F1CRldcnf8yL"
      },
      "source": [
        "\n",
        "\n",
        "> I believe I was supposed to delete a column for both of the OneHot columns I converted. I've seen there are other ways to splice and randomize the dataset in order to teach the model to be predict more accurately.\n",
        "\n",
        "\n",
        "\n"
      ]
    },
    {
      "cell_type": "markdown",
      "metadata": {
        "id": "rNBmHSpOvKbh"
      },
      "source": [
        "# Part 6"
      ]
    },
    {
      "cell_type": "code",
      "metadata": {
        "id": "L4Iusw7F29gu",
        "outputId": "1583c391-69a0-4e7d-da15-ae9abc0a59d8",
        "colab": {
          "base_uri": "https://localhost:8080/",
          "height": 307
        }
      },
      "source": [
        "df = pd.read_csv(filename)\n",
        "df.head()"
      ],
      "execution_count": 151,
      "outputs": [
        {
          "output_type": "execute_result",
          "data": {
            "text/html": [
              "<div>\n",
              "<style scoped>\n",
              "    .dataframe tbody tr th:only-of-type {\n",
              "        vertical-align: middle;\n",
              "    }\n",
              "\n",
              "    .dataframe tbody tr th {\n",
              "        vertical-align: top;\n",
              "    }\n",
              "\n",
              "    .dataframe thead th {\n",
              "        text-align: right;\n",
              "    }\n",
              "</style>\n",
              "<table border=\"1\" class=\"dataframe\">\n",
              "  <thead>\n",
              "    <tr style=\"text-align: right;\">\n",
              "      <th></th>\n",
              "      <th>Item_Identifier</th>\n",
              "      <th>Item_Weight</th>\n",
              "      <th>Item_Fat_Content</th>\n",
              "      <th>Item_Visibility</th>\n",
              "      <th>Item_Type</th>\n",
              "      <th>Item_MRP</th>\n",
              "      <th>Outlet_Identifier</th>\n",
              "      <th>Outlet_Establishment_Year</th>\n",
              "      <th>Outlet_Size</th>\n",
              "      <th>Outlet_Location_Type</th>\n",
              "      <th>Outlet_Type</th>\n",
              "      <th>Item_Outlet_Sales</th>\n",
              "    </tr>\n",
              "  </thead>\n",
              "  <tbody>\n",
              "    <tr>\n",
              "      <th>0</th>\n",
              "      <td>FDA15</td>\n",
              "      <td>9.30</td>\n",
              "      <td>Low Fat</td>\n",
              "      <td>0.016047</td>\n",
              "      <td>Dairy</td>\n",
              "      <td>249.8092</td>\n",
              "      <td>OUT049</td>\n",
              "      <td>1999</td>\n",
              "      <td>Medium</td>\n",
              "      <td>Tier 1</td>\n",
              "      <td>Supermarket Type1</td>\n",
              "      <td>3735.1380</td>\n",
              "    </tr>\n",
              "    <tr>\n",
              "      <th>1</th>\n",
              "      <td>DRC01</td>\n",
              "      <td>5.92</td>\n",
              "      <td>Regular</td>\n",
              "      <td>0.019278</td>\n",
              "      <td>Soft Drinks</td>\n",
              "      <td>48.2692</td>\n",
              "      <td>OUT018</td>\n",
              "      <td>2009</td>\n",
              "      <td>Medium</td>\n",
              "      <td>Tier 3</td>\n",
              "      <td>Supermarket Type2</td>\n",
              "      <td>443.4228</td>\n",
              "    </tr>\n",
              "    <tr>\n",
              "      <th>2</th>\n",
              "      <td>FDN15</td>\n",
              "      <td>17.50</td>\n",
              "      <td>Low Fat</td>\n",
              "      <td>0.016760</td>\n",
              "      <td>Meat</td>\n",
              "      <td>141.6180</td>\n",
              "      <td>OUT049</td>\n",
              "      <td>1999</td>\n",
              "      <td>Medium</td>\n",
              "      <td>Tier 1</td>\n",
              "      <td>Supermarket Type1</td>\n",
              "      <td>2097.2700</td>\n",
              "    </tr>\n",
              "    <tr>\n",
              "      <th>3</th>\n",
              "      <td>FDX07</td>\n",
              "      <td>19.20</td>\n",
              "      <td>Regular</td>\n",
              "      <td>0.000000</td>\n",
              "      <td>Fruits and Vegetables</td>\n",
              "      <td>182.0950</td>\n",
              "      <td>OUT010</td>\n",
              "      <td>1998</td>\n",
              "      <td>NaN</td>\n",
              "      <td>Tier 3</td>\n",
              "      <td>Grocery Store</td>\n",
              "      <td>732.3800</td>\n",
              "    </tr>\n",
              "    <tr>\n",
              "      <th>4</th>\n",
              "      <td>NCD19</td>\n",
              "      <td>8.93</td>\n",
              "      <td>Low Fat</td>\n",
              "      <td>0.000000</td>\n",
              "      <td>Household</td>\n",
              "      <td>53.8614</td>\n",
              "      <td>OUT013</td>\n",
              "      <td>1987</td>\n",
              "      <td>High</td>\n",
              "      <td>Tier 3</td>\n",
              "      <td>Supermarket Type1</td>\n",
              "      <td>994.7052</td>\n",
              "    </tr>\n",
              "  </tbody>\n",
              "</table>\n",
              "</div>"
            ],
            "text/plain": [
              "  Item_Identifier  Item_Weight  ...        Outlet_Type  Item_Outlet_Sales\n",
              "0           FDA15         9.30  ...  Supermarket Type1          3735.1380\n",
              "1           DRC01         5.92  ...  Supermarket Type2           443.4228\n",
              "2           FDN15        17.50  ...  Supermarket Type1          2097.2700\n",
              "3           FDX07        19.20  ...      Grocery Store           732.3800\n",
              "4           NCD19         8.93  ...  Supermarket Type1           994.7052\n",
              "\n",
              "[5 rows x 12 columns]"
            ]
          },
          "metadata": {
            "tags": []
          },
          "execution_count": 151
        }
      ]
    },
    {
      "cell_type": "code",
      "metadata": {
        "id": "OJwLErGtgwPv",
        "outputId": "aeb245df-07ce-4a3a-a18a-0e88bb34cd0e",
        "colab": {
          "base_uri": "https://localhost:8080/",
          "height": 240
        }
      },
      "source": [
        "mod_sales.head()"
      ],
      "execution_count": 152,
      "outputs": [
        {
          "output_type": "execute_result",
          "data": {
            "text/html": [
              "<div>\n",
              "<style scoped>\n",
              "    .dataframe tbody tr th:only-of-type {\n",
              "        vertical-align: middle;\n",
              "    }\n",
              "\n",
              "    .dataframe tbody tr th {\n",
              "        vertical-align: top;\n",
              "    }\n",
              "\n",
              "    .dataframe thead th {\n",
              "        text-align: right;\n",
              "    }\n",
              "</style>\n",
              "<table border=\"1\" class=\"dataframe\">\n",
              "  <thead>\n",
              "    <tr style=\"text-align: right;\">\n",
              "      <th></th>\n",
              "      <th>Item_Identifier</th>\n",
              "      <th>Item_Weight</th>\n",
              "      <th>Item_Fat_Content</th>\n",
              "      <th>Item_Type</th>\n",
              "      <th>transformed_Item_Type</th>\n",
              "      <th>Item_MRP</th>\n",
              "      <th>Outlet_Identifier</th>\n",
              "      <th>transformed_Outlet_Identifier</th>\n",
              "      <th>Outlet_Establishment_Year</th>\n",
              "      <th>Outlet_Size</th>\n",
              "      <th>Outlet_Location_Type</th>\n",
              "      <th>Outlet_Type</th>\n",
              "      <th>Item_Outlet_Sales</th>\n",
              "    </tr>\n",
              "  </thead>\n",
              "  <tbody>\n",
              "    <tr>\n",
              "      <th>0</th>\n",
              "      <td>FDA15</td>\n",
              "      <td>9.30</td>\n",
              "      <td>0</td>\n",
              "      <td>Dairy</td>\n",
              "      <td>4</td>\n",
              "      <td>249.8092</td>\n",
              "      <td>OUT049</td>\n",
              "      <td>9</td>\n",
              "      <td>4</td>\n",
              "      <td>2</td>\n",
              "      <td>1</td>\n",
              "      <td>1</td>\n",
              "      <td>3735.1380</td>\n",
              "    </tr>\n",
              "    <tr>\n",
              "      <th>1</th>\n",
              "      <td>DRC01</td>\n",
              "      <td>5.92</td>\n",
              "      <td>1</td>\n",
              "      <td>Soft Drinks</td>\n",
              "      <td>14</td>\n",
              "      <td>48.2692</td>\n",
              "      <td>OUT018</td>\n",
              "      <td>3</td>\n",
              "      <td>8</td>\n",
              "      <td>2</td>\n",
              "      <td>3</td>\n",
              "      <td>2</td>\n",
              "      <td>443.4228</td>\n",
              "    </tr>\n",
              "    <tr>\n",
              "      <th>2</th>\n",
              "      <td>FDN15</td>\n",
              "      <td>17.50</td>\n",
              "      <td>0</td>\n",
              "      <td>Meat</td>\n",
              "      <td>10</td>\n",
              "      <td>141.6180</td>\n",
              "      <td>OUT049</td>\n",
              "      <td>9</td>\n",
              "      <td>4</td>\n",
              "      <td>2</td>\n",
              "      <td>1</td>\n",
              "      <td>1</td>\n",
              "      <td>2097.2700</td>\n",
              "    </tr>\n",
              "    <tr>\n",
              "      <th>3</th>\n",
              "      <td>FDX07</td>\n",
              "      <td>19.20</td>\n",
              "      <td>1</td>\n",
              "      <td>Fruits and Vegetables</td>\n",
              "      <td>6</td>\n",
              "      <td>182.0950</td>\n",
              "      <td>OUT010</td>\n",
              "      <td>0</td>\n",
              "      <td>3</td>\n",
              "      <td>0</td>\n",
              "      <td>3</td>\n",
              "      <td>0</td>\n",
              "      <td>732.3800</td>\n",
              "    </tr>\n",
              "    <tr>\n",
              "      <th>4</th>\n",
              "      <td>NCD19</td>\n",
              "      <td>8.93</td>\n",
              "      <td>0</td>\n",
              "      <td>Household</td>\n",
              "      <td>9</td>\n",
              "      <td>53.8614</td>\n",
              "      <td>OUT013</td>\n",
              "      <td>1</td>\n",
              "      <td>1</td>\n",
              "      <td>3</td>\n",
              "      <td>3</td>\n",
              "      <td>1</td>\n",
              "      <td>994.7052</td>\n",
              "    </tr>\n",
              "  </tbody>\n",
              "</table>\n",
              "</div>"
            ],
            "text/plain": [
              "  Item_Identifier  Item_Weight  ...  Outlet_Type Item_Outlet_Sales\n",
              "0           FDA15         9.30  ...            1         3735.1380\n",
              "1           DRC01         5.92  ...            2          443.4228\n",
              "2           FDN15        17.50  ...            1         2097.2700\n",
              "3           FDX07        19.20  ...            0          732.3800\n",
              "4           NCD19         8.93  ...            1          994.7052\n",
              "\n",
              "[5 rows x 13 columns]"
            ]
          },
          "metadata": {
            "tags": []
          },
          "execution_count": 152
        }
      ]
    },
    {
      "cell_type": "code",
      "metadata": {
        "id": "rv9y8I48vecS",
        "outputId": "f05cacfb-0f72-4d69-8862-196b8d537664",
        "colab": {
          "base_uri": "https://localhost:8080/"
        }
      },
      "source": [
        "mod_sales['Item_Identifier'].nunique"
      ],
      "execution_count": 153,
      "outputs": [
        {
          "output_type": "execute_result",
          "data": {
            "text/plain": [
              "<bound method IndexOpsMixin.nunique of 0       FDA15\n",
              "1       DRC01\n",
              "2       FDN15\n",
              "3       FDX07\n",
              "4       NCD19\n",
              "        ...  \n",
              "8518    FDF22\n",
              "8519    FDS36\n",
              "8520    NCJ29\n",
              "8521    FDN46\n",
              "8522    DRG01\n",
              "Name: Item_Identifier, Length: 8523, dtype: object>"
            ]
          },
          "metadata": {
            "tags": []
          },
          "execution_count": 153
        }
      ]
    },
    {
      "cell_type": "code",
      "metadata": {
        "id": "SNhH_TmQvuje",
        "outputId": "754c4ab6-504f-4812-c475-0a7f5da25301",
        "colab": {
          "base_uri": "https://localhost:8080/"
        }
      },
      "source": [
        "# found this code on: https://github.com/SulaimanShaik/Big_mart-Sales-Analytics/blob/master/Bigmarket_sale_prediction%20Analytics%20Vidhya.ipynb\n",
        "# this will help make the Identifier column not useless... Might show something\n",
        "#    about which types of food sell more for which Outlets\n",
        "\n",
        "#Get the first two characters of ID:\n",
        "mod_sales['Item_Type_Combined'] = mod_sales['Item_Identifier'].apply(lambda x: x[0:2])\n",
        "\n",
        "#Rename them to more intuitive categories:\n",
        "mod_sales['Item_Type_Combined'] = mod_sales['Item_Type_Combined'].map({'FD':'Food',\n",
        "                                                             'NC':'Non-Consumable','DR':'Drinks'})\n",
        "mod_sales['Item_Type_Combined'].value_counts()"
      ],
      "execution_count": 154,
      "outputs": [
        {
          "output_type": "execute_result",
          "data": {
            "text/plain": [
              "Food              6125\n",
              "Non-Consumable    1599\n",
              "Drinks             799\n",
              "Name: Item_Type_Combined, dtype: int64"
            ]
          },
          "metadata": {
            "tags": []
          },
          "execution_count": 154
        }
      ]
    },
    {
      "cell_type": "code",
      "metadata": {
        "id": "JHDKCbjpxSy4",
        "outputId": "eb9bfccf-9b94-44e0-caed-ac694a6aada6",
        "colab": {
          "base_uri": "https://localhost:8080/",
          "height": 381
        }
      },
      "source": [
        "plt.style.use('seaborn')\n",
        "plt.bar(mod_sales['Item_Type_Combined'].value_counts().index, mod_sales['Item_Type_Combined'].value_counts().values);\n",
        "plt.title('Sales Items by Type', fontsize=25)\n",
        "plt.ylabel('Items Sold', fontsize=20)\n",
        "plt.xticks(fontsize=20);"
      ],
      "execution_count": 155,
      "outputs": [
        {
          "output_type": "display_data",
          "data": {
            "image/png": "[encoded data removed]",
            "text/plain": [
              "<Figure size 576x396 with 1 Axes>"
            ]
          },
          "metadata": {
            "tags": []
          }
        }
      ]
    },
    {
      "cell_type": "code",
      "metadata": {
        "id": "Ql0Y5KY149ER"
      },
      "source": [
        "df['Item_Type_Combined'] = df['Item_Identifier'].apply(lambda x: x[0:2])\n",
        "df['Item_Type_Combined'] = df['Item_Type_Combined'].map({'FD':'Food',\n",
        "                                                         'NC':'Non-Consumable',\n",
        "                                                         'DR':'Drinks'})                                                      "
      ],
      "execution_count": 156,
      "outputs": []
    },
    {
      "cell_type": "code",
      "metadata": {
        "id": "ToKQIt_t_KLf"
      },
      "source": [
        "food = df['Item_Type_Combined'] == 'Food'\n",
        "nonc = df['Item_Type_Combined'] == 'Non-Consumable'\n",
        "drinks = df['Item_Type_Combined'] == 'Drinks'\n",
        "\n",
        "food_sales = df.loc[food, 'Item_Outlet_Sales']"
      ],
      "execution_count": 157,
      "outputs": []
    },
    {
      "cell_type": "code",
      "metadata": {
        "colab": {
          "base_uri": "https://localhost:8080/"
        },
        "id": "gF2D5nm7zMJ7",
        "outputId": "976a66f0-4200-4a11-d4dc-7111ce4bf8f8"
      },
      "source": [
        "foodSold = df[food].groupby(['Outlet_Identifier'])['Item_Outlet_Sales'].sum()\n",
        "ncSold = df[nonc].groupby(['Outlet_Identifier'])['Item_Outlet_Sales'].sum()\n",
        "drinksSold = df[drinks].groupby(['Outlet_Identifier'])['Item_Outlet_Sales'].sum()\n",
        "foodSold"
      ],
      "execution_count": 158,
      "outputs": [
        {
          "output_type": "execute_result",
          "data": {
            "text/plain": [
              "Outlet_Identifier\n",
              "OUT010    1.295594e+05\n",
              "OUT013    1.547201e+06\n",
              "OUT017    1.576697e+06\n",
              "OUT018    1.349399e+06\n",
              "OUT019    1.319469e+05\n",
              "OUT027    2.575792e+06\n",
              "OUT035    1.654342e+06\n",
              "OUT045    1.471357e+06\n",
              "OUT046    1.559509e+06\n",
              "OUT049    1.573241e+06\n",
              "Name: Item_Outlet_Sales, dtype: float64"
            ]
          },
          "metadata": {
            "tags": []
          },
          "execution_count": 158
        }
      ]
    },
    {
      "cell_type": "code",
      "metadata": {
        "id": "s7mY9EbkEGtE",
        "outputId": "896352e2-a99d-455b-d29c-83a46431b699",
        "colab": {
          "base_uri": "https://localhost:8080/"
        }
      },
      "source": [
        "plt.style.available"
      ],
      "execution_count": 159,
      "outputs": [
        {
          "output_type": "execute_result",
          "data": {
            "text/plain": [
              "['Solarize_Light2',\n",
              " '_classic_test_patch',\n",
              " 'bmh',\n",
              " 'classic',\n",
              " 'dark_background',\n",
              " 'fast',\n",
              " 'fivethirtyeight',\n",
              " 'ggplot',\n",
              " 'grayscale',\n",
              " 'seaborn',\n",
              " 'seaborn-bright',\n",
              " 'seaborn-colorblind',\n",
              " 'seaborn-dark',\n",
              " 'seaborn-dark-palette',\n",
              " 'seaborn-darkgrid',\n",
              " 'seaborn-deep',\n",
              " 'seaborn-muted',\n",
              " 'seaborn-notebook',\n",
              " 'seaborn-paper',\n",
              " 'seaborn-pastel',\n",
              " 'seaborn-poster',\n",
              " 'seaborn-talk',\n",
              " 'seaborn-ticks',\n",
              " 'seaborn-white',\n",
              " 'seaborn-whitegrid',\n",
              " 'tableau-colorblind10']"
            ]
          },
          "metadata": {
            "tags": []
          },
          "execution_count": 159
        }
      ]
    },
    {
      "cell_type": "code",
      "metadata": {
        "id": "q_zu-4Fh7ECM",
        "outputId": "2aa6572f-1f11-4552-f67d-05e6bc2bebbd",
        "colab": {
          "base_uri": "https://localhost:8080/",
          "height": 406
        }
      },
      "source": [
        "\n",
        "plt.style.use('seaborn-colorblind')\n",
        "plt.bar(foodSold.index, foodSold.values, data=df, width=.3, align='edge', label='Food')\n",
        "plt.bar(ncSold.index, ncSold.values, width=.3, align='center', label='Non-Consumables')\n",
        "plt.bar(drinksSold.index, drinksSold.values, width = -.3, align='edge', label='Drinks')\n",
        "plt.xticks(rotation= 45);\n",
        "plt.ticklabel_format(style='plain', axis='y')\n",
        "plt.title('Items Sales by Outlet', fontsize = 18)\n",
        "plt.xlabel('Outlet Identifier', fontsize = 15)\n",
        "plt.xlabel('(in order of Year Established 1985-2009)', fontsize = 13)\n",
        "plt.ylabel('Sales', fontsize = 15);\n",
        "plt.legend(facecolor='gray', fontsize='medium');"
      ],
      "execution_count": 403,
      "outputs": [
        {
          "output_type": "display_data",
          "data": {
            "image/png": "[encoded data removed]",
            "text/plain": [
              "<Figure size 576x396 with 1 Axes>"
            ]
          },
          "metadata": {
            "tags": []
          }
        }
      ]
    },
    {
      "cell_type": "code",
      "metadata": {
        "id": "pVQWUArnUb5c"
      },
      "source": [
        "consumables = df['Item_Type_Combined'] != 'Non-Consumable'"
      ],
      "execution_count": 161,
      "outputs": []
    },
    {
      "cell_type": "code",
      "metadata": {
        "id": "P8P1yQpdVl63",
        "outputId": "9d464c5c-4dda-48e2-de10-e8d0fc1ecfa9",
        "colab": {
          "base_uri": "https://localhost:8080/"
        }
      },
      "source": [
        "conSales = df[consumables].groupby(['Item_Type_Combined'])['Item_Outlet_Sales'].sum()\n",
        "conSales"
      ],
      "execution_count": 162,
      "outputs": [
        {
          "output_type": "execute_result",
          "data": {
            "text/plain": [
              "Item_Type_Combined\n",
              "Drinks    1.595869e+06\n",
              "Food      1.356904e+07\n",
              "Name: Item_Outlet_Sales, dtype: float64"
            ]
          },
          "metadata": {
            "tags": []
          },
          "execution_count": 162
        }
      ]
    },
    {
      "cell_type": "code",
      "metadata": {
        "id": "nwXtkuPOGCXV",
        "outputId": "402fff30-e324-462b-e4bc-062872cf48ad",
        "colab": {
          "base_uri": "https://localhost:8080/",
          "height": 446
        }
      },
      "source": [
        "sns.countplot(consumables);\n",
        "plt.xticks([0,1], ['Low-Fat', 'Regular'], fontsize=15);\n",
        "plt.title('Fat Content of Consumable Items Sold', fontsize=20)\n",
        "plt.ylabel('Count', fontsize=18)\n",
        "plt.xlabel('Fat Content', fontsize=18);"
      ],
      "execution_count": 163,
      "outputs": [
        {
          "output_type": "stream",
          "text": [
            "/usr/local/lib/python3.7/dist-packages/seaborn/_decorators.py:43: FutureWarning: Pass the following variable as a keyword arg: x. From version 0.12, the only valid positional argument will be `data`, and passing other arguments without an explicit keyword will result in an error or misinterpretation.\n",
            "  FutureWarning\n"
          ],
          "name": "stderr"
        },
        {
          "output_type": "display_data",
          "data": {
            "image/png": "[encoded data removed]",
            "text/plain": [
              "<Figure size 576x396 with 1 Axes>"
            ]
          },
          "metadata": {
            "tags": []
          }
        }
      ]
    },
    {
      "cell_type": "code",
      "metadata": {
        "id": "RAfc0gbYR3z5",
        "outputId": "15cf632f-7f42-41bb-a88c-0b175c5a8aa9",
        "colab": {
          "base_uri": "https://localhost:8080/",
          "height": 474
        }
      },
      "source": [
        "from matplotlib.ticker import ScalarFormatter\n",
        "\n",
        "fig, axs = plt.subplots(figsize=(8, 6))\n",
        "sns.barplot(conSales.index, conSales.values, palette='OrRd');\n",
        "plt.xticks([0,1], ['Low-Fat', 'Regular'], fontsize=15);\n",
        "axs.yaxis.set_major_formatter(ScalarFormatter(useOffset=True))\n",
        "axs.ticklabel_format(style='plain', axis='y')\n",
        "plt.title('Fat Content of Consumable Items Sold', fontsize=20)\n",
        "plt.ylabel('Sales', fontsize=18)\n",
        "plt.xlabel('Fat Content', fontsize=18);"
      ],
      "execution_count": 188,
      "outputs": [
        {
          "output_type": "stream",
          "text": [
            "/usr/local/lib/python3.7/dist-packages/seaborn/_decorators.py:43: FutureWarning: Pass the following variables as keyword args: x, y. From version 0.12, the only valid positional argument will be `data`, and passing other arguments without an explicit keyword will result in an error or misinterpretation.\n",
            "  FutureWarning\n"
          ],
          "name": "stderr"
        },
        {
          "output_type": "display_data",
          "data": {
            "image/png": "[encoded data removed]",
            "text/plain": [
              "<Figure size 576x432 with 1 Axes>"
            ]
          },
          "metadata": {
            "tags": []
          }
        }
      ]
    },
    {
      "cell_type": "code",
      "metadata": {
        "id": "7LHMsPMaYfXP"
      },
      "source": [
        "X = mod_sales_X\n",
        "y = mod_sales.loc[:, 'Item_Outlet_Sales']"
      ],
      "execution_count": 374,
      "outputs": []
    },
    {
      "cell_type": "code",
      "metadata": {
        "id": "YEVA4OdIr6_m"
      },
      "source": [
        "from sklearn.model_selection import train_test_split\n",
        "X_train, X_test, y_train, y_test = train_test_split(X, y, test_size= 0.25, random_state=42)"
      ],
      "execution_count": 289,
      "outputs": []
    },
    {
      "cell_type": "code",
      "metadata": {
        "id": "DAoxgYq9r_lQ"
      },
      "source": [
        "from sklearn.ensemble import GradientBoostingRegressor\n",
        "\n",
        "gbm = GradientBoostingRegressor(\n",
        "    n_estimators = 500,\n",
        "    learning_rate = .03,\n",
        "    n_iter_no_change = 10,\n",
        "    validation_fraction =0.2,\n",
        "    verbose = 1,\n",
        "    random_state=42)"
      ],
      "execution_count": 290,
      "outputs": []
    },
    {
      "cell_type": "code",
      "metadata": {
        "id": "X4b1Q0GBs3AW",
        "outputId": "875caa3a-094d-4c70-f370-ab927d784619",
        "colab": {
          "base_uri": "https://localhost:8080/"
        }
      },
      "source": [
        "gbm.fit(X_train, y_train)"
      ],
      "execution_count": 291,
      "outputs": [
        {
          "output_type": "stream",
          "text": [
            "      Iter       Train Loss   Remaining Time \n",
            "         1     2846290.3317            4.07s\n",
            "         2     2759672.3494            4.25s\n",
            "         3     2678173.4460            4.30s\n",
            "         4     2601694.0708            4.31s\n",
            "         5     2529187.1423            4.32s\n",
            "         6     2461199.2366            4.33s\n",
            "         7     2396596.7129            4.32s\n",
            "         8     2335753.6306            4.34s\n",
            "         9     2277471.3301            4.38s\n",
            "        10     2223088.9786            4.39s\n",
            "        20     1811056.0336            4.06s\n",
            "        30     1562861.6985            3.90s\n",
            "        40     1410639.4228            3.71s\n",
            "        50     1316954.1580            3.60s\n",
            "        60     1258466.2315            3.66s\n",
            "        70     1220459.6359            3.54s\n",
            "        80     1195205.1208            3.46s\n",
            "        90     1177858.3353            3.37s\n",
            "       100     1165442.8886            3.27s\n"
          ],
          "name": "stdout"
        },
        {
          "output_type": "execute_result",
          "data": {
            "text/plain": [
              "GradientBoostingRegressor(alpha=0.9, ccp_alpha=0.0, criterion='friedman_mse',\n",
              "                          init=None, learning_rate=0.03, loss='ls', max_depth=3,\n",
              "                          max_features=None, max_leaf_nodes=None,\n",
              "                          min_impurity_decrease=0.0, min_impurity_split=None,\n",
              "                          min_samples_leaf=1, min_samples_split=2,\n",
              "                          min_weight_fraction_leaf=0.0, n_estimators=500,\n",
              "                          n_iter_no_change=10, presort='deprecated',\n",
              "                          random_state=42, subsample=1.0, tol=0.0001,\n",
              "                          validation_fraction=0.2, verbose=1, warm_start=False)"
            ]
          },
          "metadata": {
            "tags": []
          },
          "execution_count": 291
        }
      ]
    },
    {
      "cell_type": "code",
      "metadata": {
        "id": "R4XI-QrmtHTa",
        "outputId": "1e09efb7-7ac4-443c-cf2a-09b599963ed4",
        "colab": {
          "base_uri": "https://localhost:8080/"
        }
      },
      "source": [
        "len(gbm.train_score_)"
      ],
      "execution_count": 292,
      "outputs": [
        {
          "output_type": "execute_result",
          "data": {
            "text/plain": [
              "194"
            ]
          },
          "metadata": {
            "tags": []
          },
          "execution_count": 292
        }
      ]
    },
    {
      "cell_type": "code",
      "metadata": {
        "id": "5JDr-iK0tQ5Z"
      },
      "source": [
        "gbm = GradientBoostingRegressor(\n",
        "    n_estimators = 184,\n",
        "    learning_rate = .03,\n",
        "    n_iter_no_change = 10)"
      ],
      "execution_count": 293,
      "outputs": []
    },
    {
      "cell_type": "code",
      "metadata": {
        "id": "K_zX8PnstluG",
        "outputId": "9904e9e2-b5d6-40b9-956b-df6d04c15331",
        "colab": {
          "base_uri": "https://localhost:8080/"
        }
      },
      "source": [
        "X_train, X_val, y_train, y_val = train_test_split(X_train, y_train, test_size=0.2, random_state=42)\n",
        "\n",
        "gbm.fit(X_train, y_train)\n",
        "gbm.score(X_val, y_val)"
      ],
      "execution_count": 294,
      "outputs": [
        {
          "output_type": "execute_result",
          "data": {
            "text/plain": [
              "0.609049692943207"
            ]
          },
          "metadata": {
            "tags": []
          },
          "execution_count": 294
        }
      ]
    },
    {
      "cell_type": "code",
      "metadata": {
        "id": "qkEaUKBeuDw_",
        "outputId": "8ed13f82-fbe0-4658-d071-5d19792ead78",
        "colab": {
          "base_uri": "https://localhost:8080/"
        }
      },
      "source": [
        "gbm.score(X_train, y_train), gbm.score(X_val, y_val)"
      ],
      "execution_count": 295,
      "outputs": [
        {
          "output_type": "execute_result",
          "data": {
            "text/plain": [
              "(0.6129344363002971, 0.609049692943207)"
            ]
          },
          "metadata": {
            "tags": []
          },
          "execution_count": 295
        }
      ]
    },
    {
      "cell_type": "code",
      "metadata": {
        "id": "wfgUzJlxxNnE"
      },
      "source": [
        "mod_sales['prediction'] = gbm.predict(X)"
      ],
      "execution_count": 297,
      "outputs": []
    },
    {
      "cell_type": "code",
      "metadata": {
        "id": "q9BBAMSdxdCc",
        "outputId": "38f351eb-c69f-4c0e-da3e-1ccaf147ed0e",
        "colab": {
          "base_uri": "https://localhost:8080/"
        }
      },
      "source": [
        "gbm.feature_importances_"
      ],
      "execution_count": 298,
      "outputs": [
        {
          "output_type": "execute_result",
          "data": {
            "text/plain": [
              "array([2.68967448e-02, 6.09692492e-04, 5.46311348e-01, 3.09918862e-02,\n",
              "       7.86470488e-04, 9.85440196e-05, 3.55828871e-01, 0.00000000e+00,\n",
              "       0.00000000e+00, 5.72174993e-04, 3.14496590e-05, 8.42909178e-06,\n",
              "       0.00000000e+00, 2.40070756e-04, 2.08949173e-04, 3.70567174e-06,\n",
              "       8.10561271e-05, 5.59379885e-06, 0.00000000e+00, 4.06562169e-04,\n",
              "       8.87966325e-06, 0.00000000e+00, 1.43627088e-04, 0.00000000e+00,\n",
              "       5.78317934e-04, 1.95138335e-04, 2.04682041e-03, 0.00000000e+00,\n",
              "       3.34932342e-02, 2.80630216e-04, 1.71803110e-04, 0.00000000e+00,\n",
              "       0.00000000e+00])"
            ]
          },
          "metadata": {
            "tags": []
          },
          "execution_count": 298
        }
      ]
    },
    {
      "cell_type": "code",
      "metadata": {
        "id": "Akufim_Exipw"
      },
      "source": [
        "feats = pd.DataFrame({'Column' : X.columns,\n",
        "                      'Importance' : gbm.feature_importances_}).sort_values(by= 'Importance', ascending=False)"
      ],
      "execution_count": 301,
      "outputs": []
    },
    {
      "cell_type": "code",
      "metadata": {
        "id": "3BrgrrxSyEft",
        "outputId": "f175e691-d5c6-4148-9e67-f86254355ab2",
        "colab": {
          "base_uri": "https://localhost:8080/",
          "height": 1000
        }
      },
      "source": [
        "feats"
      ],
      "execution_count": 302,
      "outputs": [
        {
          "output_type": "execute_result",
          "data": {
            "text/html": [
              "<div>\n",
              "<style scoped>\n",
              "    .dataframe tbody tr th:only-of-type {\n",
              "        vertical-align: middle;\n",
              "    }\n",
              "\n",
              "    .dataframe tbody tr th {\n",
              "        vertical-align: top;\n",
              "    }\n",
              "\n",
              "    .dataframe thead th {\n",
              "        text-align: right;\n",
              "    }\n",
              "</style>\n",
              "<table border=\"1\" class=\"dataframe\">\n",
              "  <thead>\n",
              "    <tr style=\"text-align: right;\">\n",
              "      <th></th>\n",
              "      <th>Column</th>\n",
              "      <th>Importance</th>\n",
              "    </tr>\n",
              "  </thead>\n",
              "  <tbody>\n",
              "    <tr>\n",
              "      <th>2</th>\n",
              "      <td>Item_MRP</td>\n",
              "      <td>0.546311</td>\n",
              "    </tr>\n",
              "    <tr>\n",
              "      <th>6</th>\n",
              "      <td>Outlet_Type</td>\n",
              "      <td>0.355829</td>\n",
              "    </tr>\n",
              "    <tr>\n",
              "      <th>28</th>\n",
              "      <td>Outlet_Identifier_OUT027</td>\n",
              "      <td>0.033493</td>\n",
              "    </tr>\n",
              "    <tr>\n",
              "      <th>3</th>\n",
              "      <td>Outlet_Establishment_Year</td>\n",
              "      <td>0.030992</td>\n",
              "    </tr>\n",
              "    <tr>\n",
              "      <th>0</th>\n",
              "      <td>Item_Weight</td>\n",
              "      <td>0.026897</td>\n",
              "    </tr>\n",
              "    <tr>\n",
              "      <th>26</th>\n",
              "      <td>Outlet_Identifier_OUT018</td>\n",
              "      <td>0.002047</td>\n",
              "    </tr>\n",
              "    <tr>\n",
              "      <th>4</th>\n",
              "      <td>Outlet_Size</td>\n",
              "      <td>0.000786</td>\n",
              "    </tr>\n",
              "    <tr>\n",
              "      <th>1</th>\n",
              "      <td>Item_Fat_Content</td>\n",
              "      <td>0.000610</td>\n",
              "    </tr>\n",
              "    <tr>\n",
              "      <th>24</th>\n",
              "      <td>Outlet_Identifier_OUT013</td>\n",
              "      <td>0.000578</td>\n",
              "    </tr>\n",
              "    <tr>\n",
              "      <th>9</th>\n",
              "      <td>Breakfast</td>\n",
              "      <td>0.000572</td>\n",
              "    </tr>\n",
              "    <tr>\n",
              "      <th>19</th>\n",
              "      <td>Seafood</td>\n",
              "      <td>0.000407</td>\n",
              "    </tr>\n",
              "    <tr>\n",
              "      <th>29</th>\n",
              "      <td>Outlet_Identifier_OUT035</td>\n",
              "      <td>0.000281</td>\n",
              "    </tr>\n",
              "    <tr>\n",
              "      <th>13</th>\n",
              "      <td>Fruits and Vegetables</td>\n",
              "      <td>0.000240</td>\n",
              "    </tr>\n",
              "    <tr>\n",
              "      <th>14</th>\n",
              "      <td>Hard Drinks</td>\n",
              "      <td>0.000209</td>\n",
              "    </tr>\n",
              "    <tr>\n",
              "      <th>25</th>\n",
              "      <td>Outlet_Identifier_OUT017</td>\n",
              "      <td>0.000195</td>\n",
              "    </tr>\n",
              "    <tr>\n",
              "      <th>30</th>\n",
              "      <td>Outlet_Identifier_OUT045</td>\n",
              "      <td>0.000172</td>\n",
              "    </tr>\n",
              "    <tr>\n",
              "      <th>22</th>\n",
              "      <td>Starchy Foods</td>\n",
              "      <td>0.000144</td>\n",
              "    </tr>\n",
              "    <tr>\n",
              "      <th>5</th>\n",
              "      <td>Outlet_Location_Type</td>\n",
              "      <td>0.000099</td>\n",
              "    </tr>\n",
              "    <tr>\n",
              "      <th>16</th>\n",
              "      <td>Household</td>\n",
              "      <td>0.000081</td>\n",
              "    </tr>\n",
              "    <tr>\n",
              "      <th>10</th>\n",
              "      <td>Canned</td>\n",
              "      <td>0.000031</td>\n",
              "    </tr>\n",
              "    <tr>\n",
              "      <th>20</th>\n",
              "      <td>Snack Foods</td>\n",
              "      <td>0.000009</td>\n",
              "    </tr>\n",
              "    <tr>\n",
              "      <th>11</th>\n",
              "      <td>Dairy</td>\n",
              "      <td>0.000008</td>\n",
              "    </tr>\n",
              "    <tr>\n",
              "      <th>17</th>\n",
              "      <td>Meat</td>\n",
              "      <td>0.000006</td>\n",
              "    </tr>\n",
              "    <tr>\n",
              "      <th>15</th>\n",
              "      <td>Health and Hygiene</td>\n",
              "      <td>0.000004</td>\n",
              "    </tr>\n",
              "    <tr>\n",
              "      <th>18</th>\n",
              "      <td>Others</td>\n",
              "      <td>0.000000</td>\n",
              "    </tr>\n",
              "    <tr>\n",
              "      <th>21</th>\n",
              "      <td>Soft Drinks</td>\n",
              "      <td>0.000000</td>\n",
              "    </tr>\n",
              "    <tr>\n",
              "      <th>23</th>\n",
              "      <td>Outlet_Identifier_OUT010</td>\n",
              "      <td>0.000000</td>\n",
              "    </tr>\n",
              "    <tr>\n",
              "      <th>12</th>\n",
              "      <td>Frozen Foods</td>\n",
              "      <td>0.000000</td>\n",
              "    </tr>\n",
              "    <tr>\n",
              "      <th>27</th>\n",
              "      <td>Outlet_Identifier_OUT019</td>\n",
              "      <td>0.000000</td>\n",
              "    </tr>\n",
              "    <tr>\n",
              "      <th>8</th>\n",
              "      <td>Breads</td>\n",
              "      <td>0.000000</td>\n",
              "    </tr>\n",
              "    <tr>\n",
              "      <th>7</th>\n",
              "      <td>Baking Goods</td>\n",
              "      <td>0.000000</td>\n",
              "    </tr>\n",
              "    <tr>\n",
              "      <th>31</th>\n",
              "      <td>Outlet_Identifier_OUT046</td>\n",
              "      <td>0.000000</td>\n",
              "    </tr>\n",
              "    <tr>\n",
              "      <th>32</th>\n",
              "      <td>Outlet_Identifier_OUT049</td>\n",
              "      <td>0.000000</td>\n",
              "    </tr>\n",
              "  </tbody>\n",
              "</table>\n",
              "</div>"
            ],
            "text/plain": [
              "                       Column  Importance\n",
              "2                    Item_MRP    0.546311\n",
              "6                 Outlet_Type    0.355829\n",
              "28   Outlet_Identifier_OUT027    0.033493\n",
              "3   Outlet_Establishment_Year    0.030992\n",
              "0                 Item_Weight    0.026897\n",
              "26   Outlet_Identifier_OUT018    0.002047\n",
              "4                 Outlet_Size    0.000786\n",
              "1            Item_Fat_Content    0.000610\n",
              "24   Outlet_Identifier_OUT013    0.000578\n",
              "9                   Breakfast    0.000572\n",
              "19                    Seafood    0.000407\n",
              "29   Outlet_Identifier_OUT035    0.000281\n",
              "13      Fruits and Vegetables    0.000240\n",
              "14                Hard Drinks    0.000209\n",
              "25   Outlet_Identifier_OUT017    0.000195\n",
              "30   Outlet_Identifier_OUT045    0.000172\n",
              "22              Starchy Foods    0.000144\n",
              "5        Outlet_Location_Type    0.000099\n",
              "16                  Household    0.000081\n",
              "10                     Canned    0.000031\n",
              "20                Snack Foods    0.000009\n",
              "11                      Dairy    0.000008\n",
              "17                       Meat    0.000006\n",
              "15         Health and Hygiene    0.000004\n",
              "18                     Others    0.000000\n",
              "21                Soft Drinks    0.000000\n",
              "23   Outlet_Identifier_OUT010    0.000000\n",
              "12               Frozen Foods    0.000000\n",
              "27   Outlet_Identifier_OUT019    0.000000\n",
              "8                      Breads    0.000000\n",
              "7                Baking Goods    0.000000\n",
              "31   Outlet_Identifier_OUT046    0.000000\n",
              "32   Outlet_Identifier_OUT049    0.000000"
            ]
          },
          "metadata": {
            "tags": []
          },
          "execution_count": 302
        }
      ]
    },
    {
      "cell_type": "code",
      "metadata": {
        "id": "hmkDwbK5yX_Q"
      },
      "source": [
        "X = mod_sales_X.loc[:, ['Item_MRP','Outlet_Type','Outlet_Identifier_OUT027', 'Outlet_Establishment_Year']]\n",
        "\n",
        "y = mod_sales.loc[:, 'Item_Outlet_Sales']"
      ],
      "execution_count": 376,
      "outputs": []
    },
    {
      "cell_type": "code",
      "metadata": {
        "id": "IW3CmnPjzZVg"
      },
      "source": [
        "X_train, X_test, y_train, y_test = train_test_split(X, y, test_size= 0.2, random_state=42)"
      ],
      "execution_count": 377,
      "outputs": []
    },
    {
      "cell_type": "code",
      "metadata": {
        "id": "jreFy5yZzwaA"
      },
      "source": [
        "gbm = GradientBoostingRegressor(\n",
        "    n_estimators = 500,\n",
        "    learning_rate = .05,\n",
        "    n_iter_no_change = 10,\n",
        "    validation_fraction =0.2,\n",
        "    verbose = 1,\n",
        "    random_state=42)"
      ],
      "execution_count": 383,
      "outputs": []
    },
    {
      "cell_type": "code",
      "metadata": {
        "id": "07JSveGL0Dts",
        "outputId": "ebf3f83a-f873-4899-cfc3-3c93146b58b7",
        "colab": {
          "base_uri": "https://localhost:8080/"
        }
      },
      "source": [
        "gbm.fit(X_train, y_train)"
      ],
      "execution_count": 384,
      "outputs": [
        {
          "output_type": "stream",
          "text": [
            "      Iter       Train Loss   Remaining Time \n",
            "         1     2824137.8943            2.51s\n",
            "         2     2687120.7612            2.16s\n",
            "         3     2560282.6117            1.98s\n",
            "         4     2447739.0494            1.87s\n",
            "         5     2343389.1864            1.80s\n",
            "         6     2247805.1062            1.76s\n",
            "         7     2162079.3337            1.72s\n",
            "         8     2082305.6256            1.70s\n",
            "         9     2009127.7318            1.68s\n",
            "        10     1943027.0791            1.67s\n",
            "        20     1512579.1833            1.61s\n",
            "        30     1322826.6465            1.52s\n",
            "        40     1236327.5202            1.47s\n",
            "        50     1193143.8516            1.42s\n",
            "        60     1169733.2958            1.39s\n",
            "        70     1154538.8938            1.39s\n",
            "        80     1143010.5199            1.34s\n",
            "        90     1135005.9626            1.31s\n"
          ],
          "name": "stdout"
        },
        {
          "output_type": "execute_result",
          "data": {
            "text/plain": [
              "GradientBoostingRegressor(alpha=0.9, ccp_alpha=0.0, criterion='friedman_mse',\n",
              "                          init=None, learning_rate=0.05, loss='ls', max_depth=3,\n",
              "                          max_features=None, max_leaf_nodes=None,\n",
              "                          min_impurity_decrease=0.0, min_impurity_split=None,\n",
              "                          min_samples_leaf=1, min_samples_split=2,\n",
              "                          min_weight_fraction_leaf=0.0, n_estimators=500,\n",
              "                          n_iter_no_change=10, presort='deprecated',\n",
              "                          random_state=42, subsample=1.0, tol=0.0001,\n",
              "                          validation_fraction=0.2, verbose=1, warm_start=False)"
            ]
          },
          "metadata": {
            "tags": []
          },
          "execution_count": 384
        }
      ]
    },
    {
      "cell_type": "code",
      "metadata": {
        "id": "8dIgQU__0PcN",
        "outputId": "3b4dcc8a-3c7d-4804-f8e1-6cf4d58f7c50",
        "colab": {
          "base_uri": "https://localhost:8080/"
        }
      },
      "source": [
        "len(gbm.train_score_)"
      ],
      "execution_count": 385,
      "outputs": [
        {
          "output_type": "execute_result",
          "data": {
            "text/plain": [
              "95"
            ]
          },
          "metadata": {
            "tags": []
          },
          "execution_count": 385
        }
      ]
    },
    {
      "cell_type": "code",
      "metadata": {
        "id": "m9ftbGvX0TJl"
      },
      "source": [
        "gbm = GradientBoostingRegressor(\n",
        "    n_estimators = 85,\n",
        "    learning_rate = .4,\n",
        "    n_iter_no_change = 10)"
      ],
      "execution_count": 390,
      "outputs": []
    },
    {
      "cell_type": "code",
      "metadata": {
        "id": "8nC0uS0u0YFr",
        "outputId": "f0bfae89-65a2-4795-e196-50620210128c",
        "colab": {
          "base_uri": "https://localhost:8080/"
        }
      },
      "source": [
        "X_train, X_val, y_train, y_val = train_test_split(X_train, y_train, test_size=0.2, random_state=42)\n",
        "\n",
        "gbm.fit(X_train, y_train)\n",
        "gbm.score(X_val, y_val)"
      ],
      "execution_count": 391,
      "outputs": [
        {
          "output_type": "execute_result",
          "data": {
            "text/plain": [
              "0.6066128426500059"
            ]
          },
          "metadata": {
            "tags": []
          },
          "execution_count": 391
        }
      ]
    },
    {
      "cell_type": "code",
      "metadata": {
        "id": "sYGDTT5y0cQj",
        "outputId": "629b1a93-34e3-4091-c7a7-32ab3fb1ae4b",
        "colab": {
          "base_uri": "https://localhost:8080/"
        }
      },
      "source": [
        "gbm.score(X_train, y_train), gbm.score(X_val, y_val)"
      ],
      "execution_count": 392,
      "outputs": [
        {
          "output_type": "execute_result",
          "data": {
            "text/plain": [
              "(0.6216470965138505, 0.6066128426500059)"
            ]
          },
          "metadata": {
            "tags": []
          },
          "execution_count": 392
        }
      ]
    },
    {
      "cell_type": "code",
      "metadata": {
        "id": "PKJW1_aQ0jBW"
      },
      "source": [
        "X_train = pd.concat([X_train, X_val])\n",
        "y_train = pd.concat([y_train, y_val])"
      ],
      "execution_count": 393,
      "outputs": []
    },
    {
      "cell_type": "code",
      "metadata": {
        "id": "Ew4EctIE2LbL",
        "outputId": "a2ce14eb-aab4-498b-f8a7-9a9cc01e16a8",
        "colab": {
          "base_uri": "https://localhost:8080/"
        }
      },
      "source": [
        "gbm.fit(X_train, y_train)\n",
        "gbm.score(X_test, y_test)"
      ],
      "execution_count": 394,
      "outputs": [
        {
          "output_type": "execute_result",
          "data": {
            "text/plain": [
              "0.5977039369096595"
            ]
          },
          "metadata": {
            "tags": []
          },
          "execution_count": 394
        }
      ]
    },
    {
      "cell_type": "code",
      "metadata": {
        "id": "oxJZoivm2-0N",
        "outputId": "26eb0c83-ed08-4c09-8f14-953642bba9ac",
        "colab": {
          "base_uri": "https://localhost:8080/",
          "height": 240
        }
      },
      "source": [
        "mod_sales.head()"
      ],
      "execution_count": 395,
      "outputs": [
        {
          "output_type": "execute_result",
          "data": {
            "text/html": [
              "<div>\n",
              "<style scoped>\n",
              "    .dataframe tbody tr th:only-of-type {\n",
              "        vertical-align: middle;\n",
              "    }\n",
              "\n",
              "    .dataframe tbody tr th {\n",
              "        vertical-align: top;\n",
              "    }\n",
              "\n",
              "    .dataframe thead th {\n",
              "        text-align: right;\n",
              "    }\n",
              "</style>\n",
              "<table border=\"1\" class=\"dataframe\">\n",
              "  <thead>\n",
              "    <tr style=\"text-align: right;\">\n",
              "      <th></th>\n",
              "      <th>Item_Identifier</th>\n",
              "      <th>Item_Weight</th>\n",
              "      <th>Item_Fat_Content</th>\n",
              "      <th>Item_Type</th>\n",
              "      <th>transformed_Item_Type</th>\n",
              "      <th>Item_MRP</th>\n",
              "      <th>Outlet_Identifier</th>\n",
              "      <th>transformed_Outlet_Identifier</th>\n",
              "      <th>Outlet_Establishment_Year</th>\n",
              "      <th>Outlet_Size</th>\n",
              "      <th>Outlet_Location_Type</th>\n",
              "      <th>Outlet_Type</th>\n",
              "      <th>Item_Outlet_Sales</th>\n",
              "      <th>Item_Type_Combined</th>\n",
              "      <th>prediction</th>\n",
              "    </tr>\n",
              "  </thead>\n",
              "  <tbody>\n",
              "    <tr>\n",
              "      <th>0</th>\n",
              "      <td>FDA15</td>\n",
              "      <td>9.30</td>\n",
              "      <td>0</td>\n",
              "      <td>Dairy</td>\n",
              "      <td>4</td>\n",
              "      <td>249.8092</td>\n",
              "      <td>OUT049</td>\n",
              "      <td>9</td>\n",
              "      <td>4</td>\n",
              "      <td>2</td>\n",
              "      <td>1</td>\n",
              "      <td>1</td>\n",
              "      <td>3735.1380</td>\n",
              "      <td>Food</td>\n",
              "      <td>3910.422041</td>\n",
              "    </tr>\n",
              "    <tr>\n",
              "      <th>1</th>\n",
              "      <td>DRC01</td>\n",
              "      <td>5.92</td>\n",
              "      <td>1</td>\n",
              "      <td>Soft Drinks</td>\n",
              "      <td>14</td>\n",
              "      <td>48.2692</td>\n",
              "      <td>OUT018</td>\n",
              "      <td>3</td>\n",
              "      <td>8</td>\n",
              "      <td>2</td>\n",
              "      <td>3</td>\n",
              "      <td>2</td>\n",
              "      <td>443.4228</td>\n",
              "      <td>Drinks</td>\n",
              "      <td>752.072132</td>\n",
              "    </tr>\n",
              "    <tr>\n",
              "      <th>2</th>\n",
              "      <td>FDN15</td>\n",
              "      <td>17.50</td>\n",
              "      <td>0</td>\n",
              "      <td>Meat</td>\n",
              "      <td>10</td>\n",
              "      <td>141.6180</td>\n",
              "      <td>OUT049</td>\n",
              "      <td>9</td>\n",
              "      <td>4</td>\n",
              "      <td>2</td>\n",
              "      <td>1</td>\n",
              "      <td>1</td>\n",
              "      <td>2097.2700</td>\n",
              "      <td>Food</td>\n",
              "      <td>2230.552843</td>\n",
              "    </tr>\n",
              "    <tr>\n",
              "      <th>3</th>\n",
              "      <td>FDX07</td>\n",
              "      <td>19.20</td>\n",
              "      <td>1</td>\n",
              "      <td>Fruits and Vegetables</td>\n",
              "      <td>6</td>\n",
              "      <td>182.0950</td>\n",
              "      <td>OUT010</td>\n",
              "      <td>0</td>\n",
              "      <td>3</td>\n",
              "      <td>0</td>\n",
              "      <td>3</td>\n",
              "      <td>0</td>\n",
              "      <td>732.3800</td>\n",
              "      <td>Food</td>\n",
              "      <td>586.884155</td>\n",
              "    </tr>\n",
              "    <tr>\n",
              "      <th>4</th>\n",
              "      <td>NCD19</td>\n",
              "      <td>8.93</td>\n",
              "      <td>0</td>\n",
              "      <td>Household</td>\n",
              "      <td>9</td>\n",
              "      <td>53.8614</td>\n",
              "      <td>OUT013</td>\n",
              "      <td>1</td>\n",
              "      <td>1</td>\n",
              "      <td>3</td>\n",
              "      <td>3</td>\n",
              "      <td>1</td>\n",
              "      <td>994.7052</td>\n",
              "      <td>Non-Consumable</td>\n",
              "      <td>969.954150</td>\n",
              "    </tr>\n",
              "  </tbody>\n",
              "</table>\n",
              "</div>"
            ],
            "text/plain": [
              "  Item_Identifier  Item_Weight  ...  Item_Type_Combined   prediction\n",
              "0           FDA15         9.30  ...                Food  3910.422041\n",
              "1           DRC01         5.92  ...              Drinks   752.072132\n",
              "2           FDN15        17.50  ...                Food  2230.552843\n",
              "3           FDX07        19.20  ...                Food   586.884155\n",
              "4           NCD19         8.93  ...      Non-Consumable   969.954150\n",
              "\n",
              "[5 rows x 15 columns]"
            ]
          },
          "metadata": {
            "tags": []
          },
          "execution_count": 395
        }
      ]
    },
    {
      "cell_type": "code",
      "metadata": {
        "id": "If1462tc3LKU"
      },
      "source": [
        "food = mod_sales['Item_Type_Combined'] == 'Food'\n",
        "nonc =  mod_sales['Item_Type_Combined'] == 'Non-Consumable'\n",
        "drinks = mod_sales['Item_Type_Combined'] == 'Drinks'\n",
        "\n",
        "food_sales = mod_sales.loc[food, 'prediction']"
      ],
      "execution_count": 397,
      "outputs": []
    },
    {
      "cell_type": "code",
      "metadata": {
        "id": "z3Mehk-F3vr6",
        "outputId": "f8336e2c-a236-40d3-a147-c6a5128f292d",
        "colab": {
          "base_uri": "https://localhost:8080/"
        }
      },
      "source": [
        "foodpred = mod_sales[food].groupby(['Outlet_Identifier'])['prediction'].sum()\n",
        "ncpred = mod_sales[nonc].groupby(['Outlet_Identifier'])['prediction'].sum()\n",
        "drinkspred = mod_sales[drinks].groupby(['Outlet_Identifier'])['prediction'].sum()\n",
        "foodpred"
      ],
      "execution_count": 400,
      "outputs": [
        {
          "output_type": "execute_result",
          "data": {
            "text/plain": [
              "Outlet_Identifier\n",
              "OUT010    1.763328e+05\n",
              "OUT013    1.550539e+06\n",
              "OUT017    1.515879e+06\n",
              "OUT018    1.461737e+06\n",
              "OUT019    1.709429e+05\n",
              "OUT027    2.509147e+06\n",
              "OUT035    1.587464e+06\n",
              "OUT045    1.538840e+06\n",
              "OUT046    1.544905e+06\n",
              "OUT049    1.556644e+06\n",
              "Name: prediction, dtype: float64"
            ]
          },
          "metadata": {
            "tags": []
          },
          "execution_count": 400
        }
      ]
    },
    {
      "cell_type": "code",
      "metadata": {
        "id": "DK8FYUAg3lxQ",
        "outputId": "25138345-4ea6-4ab9-8eaa-53fb971d40fa",
        "colab": {
          "base_uri": "https://localhost:8080/",
          "height": 406
        }
      },
      "source": [
        "plt.style.use('seaborn-colorblind')\n",
        "plt.bar(foodpred.index, foodpred.values, data=df, width=.3, align='edge', label='Food')\n",
        "plt.bar(ncpred.index, ncpred.values, width=.3, align='center', label='Non-Consumables')\n",
        "plt.bar(drinkspred.index, drinkspred.values, width = -.3, align='edge', label='Drinks')\n",
        "plt.xticks(rotation= 45);\n",
        "plt.ticklabel_format(style='plain', axis='y')\n",
        "plt.title('Predicted Items Sales by Outlet', fontsize = 18)\n",
        "plt.xlabel('Outlet Identifier', fontsize = 15)\n",
        "plt.xlabel('(in order of Year Established 1985-2009)', fontsize = 13)\n",
        "plt.ylabel('Presdicted Sales', fontsize = 15);\n",
        "plt.legend(facecolor='gray', fontsize='medium');"
      ],
      "execution_count": 402,
      "outputs": [
        {
          "output_type": "display_data",
          "data": {
            "image/png": "[encoded data removed]",
            "text/plain": [
              "<Figure size 576x396 with 1 Axes>"
            ]
          },
          "metadata": {
            "tags": []
          }
        }
      ]
    },
    {
      "cell_type": "code",
      "metadata": {
        "id": "KAsef-dQ5DvS"
      },
      "source": [
        ""
      ],
      "execution_count": 402,
      "outputs": []
    }
  ]
}