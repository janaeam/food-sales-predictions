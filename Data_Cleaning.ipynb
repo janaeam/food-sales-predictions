{
  "nbformat": 4,
  "nbformat_minor": 0,
  "metadata": {
    "colab": {
      "name": "Data_Cleaning.ipynb",
      "provenance": [],
      "collapsed_sections": [],
      "include_colab_link": true
    },
    "kernelspec": {
      "name": "python3",
      "display_name": "Python 3"
    },
    "language_info": {
      "name": "python"
    }
  },
  "cells": [
    {
      "cell_type": "markdown",
      "metadata": {
        "id": "view-in-github",
        "colab_type": "text"
      },
      "source": [
        "<a href=\"https://colab.research.google.com/github/janaeam/food-sales-predictions/blob/main/Data_Cleaning.ipynb\" target=\"_parent\"><img src=\"https://colab.research.google.com/assets/colab-badge.svg\" alt=\"Open In Colab\"/></a>"
      ]
    },
    {
      "cell_type": "markdown",
      "metadata": {
        "id": "l0e-FBGkbIyi"
      },
      "source": [
        "# Getting to Know My Data\n",
        "\n"
      ]
    },
    {
      "cell_type": "code",
      "metadata": {
        "id": "w84yAjARaMWV"
      },
      "source": [
        "import pandas as pd\n",
        "import numpy as np"
      ],
      "execution_count": 1,
      "outputs": []
    },
    {
      "cell_type": "code",
      "metadata": {
        "colab": {
          "base_uri": "https://localhost:8080/"
        },
        "id": "UO-JM52n9jIM",
        "outputId": "7a607b30-13e6-4123-fd7d-7439a23b0037"
      },
      "source": [
        "from google.colab import drive\n",
        "drive.mount('/content/drive')"
      ],
      "execution_count": 2,
      "outputs": [
        {
          "output_type": "stream",
          "text": [
            "Drive already mounted at /content/drive; to attempt to forcibly remount, call drive.mount(\"/content/drive\", force_remount=True).\n"
          ],
          "name": "stdout"
        }
      ]
    },
    {
      "cell_type": "code",
      "metadata": {
        "id": "rRSsGCKAaROD"
      },
      "source": [
        "filename = '/content/drive/MyDrive/Coding Dojo/Project 1/sales_predictions.csv'\n",
        "sales = pd.read_csv(filename)"
      ],
      "execution_count": 3,
      "outputs": []
    },
    {
      "cell_type": "code",
      "metadata": {
        "colab": {
          "base_uri": "https://localhost:8080/",
          "height": 307
        },
        "id": "MkToetXaa_8D",
        "outputId": "6d3add6c-2b2d-4955-ddbf-c56da9b0c384"
      },
      "source": [
        "sales.head()"
      ],
      "execution_count": 4,
      "outputs": [
        {
          "output_type": "execute_result",
          "data": {
            "text/html": [
              "<div>\n",
              "<style scoped>\n",
              "    .dataframe tbody tr th:only-of-type {\n",
              "        vertical-align: middle;\n",
              "    }\n",
              "\n",
              "    .dataframe tbody tr th {\n",
              "        vertical-align: top;\n",
              "    }\n",
              "\n",
              "    .dataframe thead th {\n",
              "        text-align: right;\n",
              "    }\n",
              "</style>\n",
              "<table border=\"1\" class=\"dataframe\">\n",
              "  <thead>\n",
              "    <tr style=\"text-align: right;\">\n",
              "      <th></th>\n",
              "      <th>Item_Identifier</th>\n",
              "      <th>Item_Weight</th>\n",
              "      <th>Item_Fat_Content</th>\n",
              "      <th>Item_Visibility</th>\n",
              "      <th>Item_Type</th>\n",
              "      <th>Item_MRP</th>\n",
              "      <th>Outlet_Identifier</th>\n",
              "      <th>Outlet_Establishment_Year</th>\n",
              "      <th>Outlet_Size</th>\n",
              "      <th>Outlet_Location_Type</th>\n",
              "      <th>Outlet_Type</th>\n",
              "      <th>Item_Outlet_Sales</th>\n",
              "    </tr>\n",
              "  </thead>\n",
              "  <tbody>\n",
              "    <tr>\n",
              "      <th>0</th>\n",
              "      <td>FDA15</td>\n",
              "      <td>9.30</td>\n",
              "      <td>Low Fat</td>\n",
              "      <td>0.016047</td>\n",
              "      <td>Dairy</td>\n",
              "      <td>249.8092</td>\n",
              "      <td>OUT049</td>\n",
              "      <td>1999</td>\n",
              "      <td>Medium</td>\n",
              "      <td>Tier 1</td>\n",
              "      <td>Supermarket Type1</td>\n",
              "      <td>3735.1380</td>\n",
              "    </tr>\n",
              "    <tr>\n",
              "      <th>1</th>\n",
              "      <td>DRC01</td>\n",
              "      <td>5.92</td>\n",
              "      <td>Regular</td>\n",
              "      <td>0.019278</td>\n",
              "      <td>Soft Drinks</td>\n",
              "      <td>48.2692</td>\n",
              "      <td>OUT018</td>\n",
              "      <td>2009</td>\n",
              "      <td>Medium</td>\n",
              "      <td>Tier 3</td>\n",
              "      <td>Supermarket Type2</td>\n",
              "      <td>443.4228</td>\n",
              "    </tr>\n",
              "    <tr>\n",
              "      <th>2</th>\n",
              "      <td>FDN15</td>\n",
              "      <td>17.50</td>\n",
              "      <td>Low Fat</td>\n",
              "      <td>0.016760</td>\n",
              "      <td>Meat</td>\n",
              "      <td>141.6180</td>\n",
              "      <td>OUT049</td>\n",
              "      <td>1999</td>\n",
              "      <td>Medium</td>\n",
              "      <td>Tier 1</td>\n",
              "      <td>Supermarket Type1</td>\n",
              "      <td>2097.2700</td>\n",
              "    </tr>\n",
              "    <tr>\n",
              "      <th>3</th>\n",
              "      <td>FDX07</td>\n",
              "      <td>19.20</td>\n",
              "      <td>Regular</td>\n",
              "      <td>0.000000</td>\n",
              "      <td>Fruits and Vegetables</td>\n",
              "      <td>182.0950</td>\n",
              "      <td>OUT010</td>\n",
              "      <td>1998</td>\n",
              "      <td>NaN</td>\n",
              "      <td>Tier 3</td>\n",
              "      <td>Grocery Store</td>\n",
              "      <td>732.3800</td>\n",
              "    </tr>\n",
              "    <tr>\n",
              "      <th>4</th>\n",
              "      <td>NCD19</td>\n",
              "      <td>8.93</td>\n",
              "      <td>Low Fat</td>\n",
              "      <td>0.000000</td>\n",
              "      <td>Household</td>\n",
              "      <td>53.8614</td>\n",
              "      <td>OUT013</td>\n",
              "      <td>1987</td>\n",
              "      <td>High</td>\n",
              "      <td>Tier 3</td>\n",
              "      <td>Supermarket Type1</td>\n",
              "      <td>994.7052</td>\n",
              "    </tr>\n",
              "  </tbody>\n",
              "</table>\n",
              "</div>"
            ],
            "text/plain": [
              "  Item_Identifier  Item_Weight  ...        Outlet_Type  Item_Outlet_Sales\n",
              "0           FDA15         9.30  ...  Supermarket Type1          3735.1380\n",
              "1           DRC01         5.92  ...  Supermarket Type2           443.4228\n",
              "2           FDN15        17.50  ...  Supermarket Type1          2097.2700\n",
              "3           FDX07        19.20  ...      Grocery Store           732.3800\n",
              "4           NCD19         8.93  ...  Supermarket Type1           994.7052\n",
              "\n",
              "[5 rows x 12 columns]"
            ]
          },
          "metadata": {
            "tags": []
          },
          "execution_count": 4
        }
      ]
    },
    {
      "cell_type": "markdown",
      "metadata": {
        "id": "vJaYJ-gquJt5"
      },
      "source": [
        "### EDA"
      ]
    },
    {
      "cell_type": "code",
      "metadata": {
        "colab": {
          "base_uri": "https://localhost:8080/"
        },
        "id": "7NfBv44XbCeL",
        "outputId": "3f0a47d9-1e7c-4012-ae15-9cfe1be81587"
      },
      "source": [
        "# Are the dtypes consistent with the presumed column category\n",
        "\n",
        "sales.dtypes"
      ],
      "execution_count": 5,
      "outputs": [
        {
          "output_type": "execute_result",
          "data": {
            "text/plain": [
              "Item_Identifier               object\n",
              "Item_Weight                  float64\n",
              "Item_Fat_Content              object\n",
              "Item_Visibility              float64\n",
              "Item_Type                     object\n",
              "Item_MRP                     float64\n",
              "Outlet_Identifier             object\n",
              "Outlet_Establishment_Year      int64\n",
              "Outlet_Size                   object\n",
              "Outlet_Location_Type          object\n",
              "Outlet_Type                   object\n",
              "Item_Outlet_Sales            float64\n",
              "dtype: object"
            ]
          },
          "metadata": {
            "tags": []
          },
          "execution_count": 5
        }
      ]
    },
    {
      "cell_type": "code",
      "metadata": {
        "colab": {
          "base_uri": "https://localhost:8080/"
        },
        "id": "7W_p3keMbyH8",
        "outputId": "c135c5bd-f239-4563-ee6c-6e5ad1f8ba7d"
      },
      "source": [
        "# Which columns have missing values?\n",
        "\n",
        "sales.info()"
      ],
      "execution_count": 6,
      "outputs": [
        {
          "output_type": "stream",
          "text": [
            "<class 'pandas.core.frame.DataFrame'>\n",
            "RangeIndex: 8523 entries, 0 to 8522\n",
            "Data columns (total 12 columns):\n",
            " #   Column                     Non-Null Count  Dtype  \n",
            "---  ------                     --------------  -----  \n",
            " 0   Item_Identifier            8523 non-null   object \n",
            " 1   Item_Weight                7060 non-null   float64\n",
            " 2   Item_Fat_Content           8523 non-null   object \n",
            " 3   Item_Visibility            8523 non-null   float64\n",
            " 4   Item_Type                  8523 non-null   object \n",
            " 5   Item_MRP                   8523 non-null   float64\n",
            " 6   Outlet_Identifier          8523 non-null   object \n",
            " 7   Outlet_Establishment_Year  8523 non-null   int64  \n",
            " 8   Outlet_Size                6113 non-null   object \n",
            " 9   Outlet_Location_Type       8523 non-null   object \n",
            " 10  Outlet_Type                8523 non-null   object \n",
            " 11  Item_Outlet_Sales          8523 non-null   float64\n",
            "dtypes: float64(4), int64(1), object(7)\n",
            "memory usage: 799.2+ KB\n"
          ],
          "name": "stdout"
        }
      ]
    },
    {
      "cell_type": "markdown",
      "metadata": {
        "id": "fQ_GZjorWd6d"
      },
      "source": [
        "Item_Weight and Outlet_Size columns are both missing data\n",
        "\n",
        "I will explore further below"
      ]
    },
    {
      "cell_type": "markdown",
      "metadata": {
        "id": "EMImvFSxTfQJ"
      },
      "source": [
        "# Checking each column for unique value counts"
      ]
    },
    {
      "cell_type": "code",
      "metadata": {
        "colab": {
          "base_uri": "https://localhost:8080/"
        },
        "id": "YBB12Tvz9g6x",
        "outputId": "14932b36-d821-45da-b8e9-079282a7f6ab"
      },
      "source": [
        "sales['Item_Fat_Content'].value_counts()"
      ],
      "execution_count": 7,
      "outputs": [
        {
          "output_type": "execute_result",
          "data": {
            "text/plain": [
              "Low Fat    5089\n",
              "Regular    2889\n",
              "LF          316\n",
              "reg         117\n",
              "low fat     112\n",
              "Name: Item_Fat_Content, dtype: int64"
            ]
          },
          "metadata": {
            "tags": []
          },
          "execution_count": 7
        }
      ]
    },
    {
      "cell_type": "code",
      "metadata": {
        "id": "RdQ6n42Ipoud"
      },
      "source": [
        "sales.loc[ : , 'Item_Fat_Content'].replace( {'LF' : 'Low Fat',\n",
        "                                            'low fat' : 'Low Fat',\n",
        "                                             'reg' : 'Regular'}, inplace=True)"
      ],
      "execution_count": 8,
      "outputs": []
    },
    {
      "cell_type": "code",
      "metadata": {
        "colab": {
          "base_uri": "https://localhost:8080/"
        },
        "id": "1qFqMy9rs1Li",
        "outputId": "a6874c58-0494-448e-a888-3820f44c34a9"
      },
      "source": [
        "sales['Item_Fat_Content'].value_counts()"
      ],
      "execution_count": 9,
      "outputs": [
        {
          "output_type": "execute_result",
          "data": {
            "text/plain": [
              "Low Fat    5517\n",
              "Regular    3006\n",
              "Name: Item_Fat_Content, dtype: int64"
            ]
          },
          "metadata": {
            "tags": []
          },
          "execution_count": 9
        }
      ]
    },
    {
      "cell_type": "code",
      "metadata": {
        "colab": {
          "base_uri": "https://localhost:8080/"
        },
        "id": "OF7c5d7y-aUz",
        "outputId": "e5c1cb0d-11e7-4af0-df9d-4c0bc64244fa"
      },
      "source": [
        "sales['Item_Identifier'].value_counts()"
      ],
      "execution_count": 10,
      "outputs": [
        {
          "output_type": "execute_result",
          "data": {
            "text/plain": [
              "FDG33    10\n",
              "FDW13    10\n",
              "NCF42     9\n",
              "FDX04     9\n",
              "NCL31     9\n",
              "         ..\n",
              "FDQ60     1\n",
              "FDC23     1\n",
              "FDK57     1\n",
              "DRF48     1\n",
              "FDO33     1\n",
              "Name: Item_Identifier, Length: 1559, dtype: int64"
            ]
          },
          "metadata": {
            "tags": []
          },
          "execution_count": 10
        }
      ]
    },
    {
      "cell_type": "code",
      "metadata": {
        "colab": {
          "base_uri": "https://localhost:8080/"
        },
        "id": "B3G59-WT-8ry",
        "outputId": "1cabc9f8-07e7-427a-ca6b-52d3cf3677ca"
      },
      "source": [
        "sales['Item_MRP'].value_counts()"
      ],
      "execution_count": 11,
      "outputs": [
        {
          "output_type": "execute_result",
          "data": {
            "text/plain": [
              "172.0422    7\n",
              "188.1872    6\n",
              "170.5422    6\n",
              "109.5228    6\n",
              "196.5084    6\n",
              "           ..\n",
              "212.8218    1\n",
              "190.3872    1\n",
              "162.6868    1\n",
              "189.1214    1\n",
              "51.3008     1\n",
              "Name: Item_MRP, Length: 5938, dtype: int64"
            ]
          },
          "metadata": {
            "tags": []
          },
          "execution_count": 11
        }
      ]
    },
    {
      "cell_type": "code",
      "metadata": {
        "colab": {
          "base_uri": "https://localhost:8080/"
        },
        "id": "cSdlzLqS_0Yo",
        "outputId": "08b306a2-513d-41b1-adb1-7ca2db29cb4c"
      },
      "source": [
        "sales['Item_Outlet_Sales'].value_counts()"
      ],
      "execution_count": 12,
      "outputs": [
        {
          "output_type": "execute_result",
          "data": {
            "text/plain": [
              "958.7520     17\n",
              "1342.2528    16\n",
              "1845.5976    15\n",
              "703.0848     15\n",
              "1278.3360    14\n",
              "             ..\n",
              "3167.8764     1\n",
              "2226.4352     1\n",
              "1684.4740     1\n",
              "1574.6170     1\n",
              "6692.6216     1\n",
              "Name: Item_Outlet_Sales, Length: 3493, dtype: int64"
            ]
          },
          "metadata": {
            "tags": []
          },
          "execution_count": 12
        }
      ]
    },
    {
      "cell_type": "code",
      "metadata": {
        "colab": {
          "base_uri": "https://localhost:8080/"
        },
        "id": "QDlPaJkq__RV",
        "outputId": "335ece21-ab91-4e4a-eacc-631e408b0fab"
      },
      "source": [
        "sales['Item_Type'].value_counts()"
      ],
      "execution_count": 13,
      "outputs": [
        {
          "output_type": "execute_result",
          "data": {
            "text/plain": [
              "Fruits and Vegetables    1232\n",
              "Snack Foods              1200\n",
              "Household                 910\n",
              "Frozen Foods              856\n",
              "Dairy                     682\n",
              "Canned                    649\n",
              "Baking Goods              648\n",
              "Health and Hygiene        520\n",
              "Soft Drinks               445\n",
              "Meat                      425\n",
              "Breads                    251\n",
              "Hard Drinks               214\n",
              "Others                    169\n",
              "Starchy Foods             148\n",
              "Breakfast                 110\n",
              "Seafood                    64\n",
              "Name: Item_Type, dtype: int64"
            ]
          },
          "metadata": {
            "tags": []
          },
          "execution_count": 13
        }
      ]
    },
    {
      "cell_type": "code",
      "metadata": {
        "colab": {
          "base_uri": "https://localhost:8080/"
        },
        "id": "oauVANoEAJhv",
        "outputId": "279c9ec5-4d40-4711-f36c-f8ef81d314cb"
      },
      "source": [
        "sales['Item_Weight'].value_counts()"
      ],
      "execution_count": 14,
      "outputs": [
        {
          "output_type": "execute_result",
          "data": {
            "text/plain": [
              "12.150    86\n",
              "17.600    82\n",
              "13.650    77\n",
              "11.800    76\n",
              "15.100    68\n",
              "          ..\n",
              "7.560      2\n",
              "9.420      1\n",
              "5.400      1\n",
              "6.520      1\n",
              "7.685      1\n",
              "Name: Item_Weight, Length: 415, dtype: int64"
            ]
          },
          "metadata": {
            "tags": []
          },
          "execution_count": 14
        }
      ]
    },
    {
      "cell_type": "code",
      "metadata": {
        "colab": {
          "base_uri": "https://localhost:8080/"
        },
        "id": "jE6oQo13K5zQ",
        "outputId": "0a271e0c-1172-495a-f887-35efdc53a455"
      },
      "source": [
        "sales['Outlet_Establishment_Year'].value_counts()"
      ],
      "execution_count": 15,
      "outputs": [
        {
          "output_type": "execute_result",
          "data": {
            "text/plain": [
              "1985    1463\n",
              "1987     932\n",
              "1999     930\n",
              "1997     930\n",
              "2004     930\n",
              "2002     929\n",
              "2009     928\n",
              "2007     926\n",
              "1998     555\n",
              "Name: Outlet_Establishment_Year, dtype: int64"
            ]
          },
          "metadata": {
            "tags": []
          },
          "execution_count": 15
        }
      ]
    },
    {
      "cell_type": "code",
      "metadata": {
        "colab": {
          "base_uri": "https://localhost:8080/"
        },
        "id": "yWhWzx0IQLC7",
        "outputId": "30e31393-b012-4560-c63c-ea445bc57b80"
      },
      "source": [
        "sales['Outlet_Identifier'].value_counts()"
      ],
      "execution_count": 16,
      "outputs": [
        {
          "output_type": "execute_result",
          "data": {
            "text/plain": [
              "OUT027    935\n",
              "OUT013    932\n",
              "OUT049    930\n",
              "OUT035    930\n",
              "OUT046    930\n",
              "OUT045    929\n",
              "OUT018    928\n",
              "OUT017    926\n",
              "OUT010    555\n",
              "OUT019    528\n",
              "Name: Outlet_Identifier, dtype: int64"
            ]
          },
          "metadata": {
            "tags": []
          },
          "execution_count": 16
        }
      ]
    },
    {
      "cell_type": "code",
      "metadata": {
        "colab": {
          "base_uri": "https://localhost:8080/"
        },
        "id": "WpFNa_2XQOzE",
        "outputId": "97ad5bb8-a5c6-4908-e2ad-d0a4726565d9"
      },
      "source": [
        "sales['Outlet_Location_Type'].value_counts()"
      ],
      "execution_count": 17,
      "outputs": [
        {
          "output_type": "execute_result",
          "data": {
            "text/plain": [
              "Tier 3    3350\n",
              "Tier 2    2785\n",
              "Tier 1    2388\n",
              "Name: Outlet_Location_Type, dtype: int64"
            ]
          },
          "metadata": {
            "tags": []
          },
          "execution_count": 17
        }
      ]
    },
    {
      "cell_type": "code",
      "metadata": {
        "colab": {
          "base_uri": "https://localhost:8080/"
        },
        "id": "1Y6pzxpyQW6l",
        "outputId": "5ce7e993-ae11-45f6-8046-ea2f0dcccbab"
      },
      "source": [
        "sales['Outlet_Size'].value_counts()"
      ],
      "execution_count": 18,
      "outputs": [
        {
          "output_type": "execute_result",
          "data": {
            "text/plain": [
              "Medium    2793\n",
              "Small     2388\n",
              "High       932\n",
              "Name: Outlet_Size, dtype: int64"
            ]
          },
          "metadata": {
            "tags": []
          },
          "execution_count": 18
        }
      ]
    },
    {
      "cell_type": "code",
      "metadata": {
        "colab": {
          "base_uri": "https://localhost:8080/"
        },
        "id": "NGLmTk-FQ3ez",
        "outputId": "9d621b96-b38a-4132-9c9e-51c617f8084a"
      },
      "source": [
        "sales['Outlet_Type'].value_counts()"
      ],
      "execution_count": 19,
      "outputs": [
        {
          "output_type": "execute_result",
          "data": {
            "text/plain": [
              "Supermarket Type1    5577\n",
              "Grocery Store        1083\n",
              "Supermarket Type3     935\n",
              "Supermarket Type2     928\n",
              "Name: Outlet_Type, dtype: int64"
            ]
          },
          "metadata": {
            "tags": []
          },
          "execution_count": 19
        }
      ]
    },
    {
      "cell_type": "markdown",
      "metadata": {
        "id": "rkpSQde7RRnU"
      },
      "source": [
        "## Columns to Drop\n",
        "\n",
        "I will drop only the \"Item_Visibility\" column for now. Initially I thought this column would prove to be useful in predicting sales baased on the visibility of each individual product, however, since the lowest visibility products, including those with zero visibility, account for the majority of the dataset (77%). There is no need to qualify this coulumn's data values beecause it is irrelevent. \n",
        "Also, the products with the highest visibiilty, both above .3 and .2, account for only 1.4%, further proving this column's irrelevance.\n",
        "\n",
        "#### It is my belief that we can assume the product's visibility value has very little to do with it's sale value."
      ]
    },
    {
      "cell_type": "code",
      "metadata": {
        "colab": {
          "base_uri": "https://localhost:8080/"
        },
        "id": "bxsZEFv5ADg6",
        "outputId": "02abcc75-583f-47fa-83ec-c6894e44bf06"
      },
      "source": [
        "vis_filter = sales['Item_Visibility'].count()\n",
        "vis_filter1 = (sales['Item_Visibility'] >= .0) & (sales['Item_Visibility'] < .1)\n",
        "vis_filter2 = (sales['Item_Visibility'] >= .1) & (sales['Item_Visibility'] < .2)\n",
        "vis_filter3 = (sales['Item_Visibility'] >= .2) & (sales['Item_Visibility'] < .3)\n",
        "vis_filter4 = sales['Item_Visibility'] >= .3\n",
        "\n",
        "vis_count1 = sales.loc[vis_filter1, 'Item_Visibility'].count()\n",
        "vis_count2 = sales.loc[vis_filter2, 'Item_Visibility'].count()\n",
        "vis_count3 = sales.loc[vis_filter3, 'Item_Visibility'].count()\n",
        "vis_count4 = sales.loc[vis_filter4, 'Item_Visibility'].count()\n",
        "\n",
        "print(vis_count1)\n",
        "print(round(vis_count1/vis_filter, 2))\n",
        "print(vis_count2)\n",
        "print(round(vis_count2/vis_filter, 2))\n",
        "print(vis_count3)\n",
        "print(round(vis_count3/vis_filter, 3))\n",
        "print(vis_count4)\n",
        "print(round(vis_count4/vis_filter, 4))"
      ],
      "execution_count": 20,
      "outputs": [
        {
          "output_type": "stream",
          "text": [
            "6593\n",
            "0.77\n",
            "1796\n",
            "0.21\n",
            "122\n",
            "0.014\n",
            "12\n",
            "0.0014\n"
          ],
          "name": "stdout"
        }
      ]
    },
    {
      "cell_type": "code",
      "metadata": {
        "id": "EW139y8tTCTq"
      },
      "source": [
        "sales.drop(columns = 'Item_Visibility', inplace = True)"
      ],
      "execution_count": 21,
      "outputs": []
    },
    {
      "cell_type": "markdown",
      "metadata": {
        "id": "_XFNeUzxWtxz"
      },
      "source": [
        "## Exploring the relevance of missing data in the Item_Weight and Outlet_Size columns"
      ]
    },
    {
      "cell_type": "markdown",
      "metadata": {
        "id": "cB1RAy0lXzd6"
      },
      "source": [
        "\n",
        "\n",
        "---\n",
        "\n",
        "----- First... look at Outlet_Size column"
      ]
    },
    {
      "cell_type": "code",
      "metadata": {
        "colab": {
          "base_uri": "https://localhost:8080/",
          "height": 307
        },
        "id": "9U2xMveaew_F",
        "outputId": "9baa3f00-81e3-4399-880c-cc284577b55b"
      },
      "source": [
        "outlet_missing = sales['Outlet_Size'].isna()\n",
        "sales.loc[outlet_missing, :].head()"
      ],
      "execution_count": 22,
      "outputs": [
        {
          "output_type": "execute_result",
          "data": {
            "text/html": [
              "<div>\n",
              "<style scoped>\n",
              "    .dataframe tbody tr th:only-of-type {\n",
              "        vertical-align: middle;\n",
              "    }\n",
              "\n",
              "    .dataframe tbody tr th {\n",
              "        vertical-align: top;\n",
              "    }\n",
              "\n",
              "    .dataframe thead th {\n",
              "        text-align: right;\n",
              "    }\n",
              "</style>\n",
              "<table border=\"1\" class=\"dataframe\">\n",
              "  <thead>\n",
              "    <tr style=\"text-align: right;\">\n",
              "      <th></th>\n",
              "      <th>Item_Identifier</th>\n",
              "      <th>Item_Weight</th>\n",
              "      <th>Item_Fat_Content</th>\n",
              "      <th>Item_Type</th>\n",
              "      <th>Item_MRP</th>\n",
              "      <th>Outlet_Identifier</th>\n",
              "      <th>Outlet_Establishment_Year</th>\n",
              "      <th>Outlet_Size</th>\n",
              "      <th>Outlet_Location_Type</th>\n",
              "      <th>Outlet_Type</th>\n",
              "      <th>Item_Outlet_Sales</th>\n",
              "    </tr>\n",
              "  </thead>\n",
              "  <tbody>\n",
              "    <tr>\n",
              "      <th>3</th>\n",
              "      <td>FDX07</td>\n",
              "      <td>19.200</td>\n",
              "      <td>Regular</td>\n",
              "      <td>Fruits and Vegetables</td>\n",
              "      <td>182.0950</td>\n",
              "      <td>OUT010</td>\n",
              "      <td>1998</td>\n",
              "      <td>NaN</td>\n",
              "      <td>Tier 3</td>\n",
              "      <td>Grocery Store</td>\n",
              "      <td>732.3800</td>\n",
              "    </tr>\n",
              "    <tr>\n",
              "      <th>8</th>\n",
              "      <td>FDH17</td>\n",
              "      <td>16.200</td>\n",
              "      <td>Regular</td>\n",
              "      <td>Frozen Foods</td>\n",
              "      <td>96.9726</td>\n",
              "      <td>OUT045</td>\n",
              "      <td>2002</td>\n",
              "      <td>NaN</td>\n",
              "      <td>Tier 2</td>\n",
              "      <td>Supermarket Type1</td>\n",
              "      <td>1076.5986</td>\n",
              "    </tr>\n",
              "    <tr>\n",
              "      <th>9</th>\n",
              "      <td>FDU28</td>\n",
              "      <td>19.200</td>\n",
              "      <td>Regular</td>\n",
              "      <td>Frozen Foods</td>\n",
              "      <td>187.8214</td>\n",
              "      <td>OUT017</td>\n",
              "      <td>2007</td>\n",
              "      <td>NaN</td>\n",
              "      <td>Tier 2</td>\n",
              "      <td>Supermarket Type1</td>\n",
              "      <td>4710.5350</td>\n",
              "    </tr>\n",
              "    <tr>\n",
              "      <th>25</th>\n",
              "      <td>NCD06</td>\n",
              "      <td>13.000</td>\n",
              "      <td>Low Fat</td>\n",
              "      <td>Household</td>\n",
              "      <td>45.9060</td>\n",
              "      <td>OUT017</td>\n",
              "      <td>2007</td>\n",
              "      <td>NaN</td>\n",
              "      <td>Tier 2</td>\n",
              "      <td>Supermarket Type1</td>\n",
              "      <td>838.9080</td>\n",
              "    </tr>\n",
              "    <tr>\n",
              "      <th>28</th>\n",
              "      <td>FDE51</td>\n",
              "      <td>5.925</td>\n",
              "      <td>Regular</td>\n",
              "      <td>Dairy</td>\n",
              "      <td>45.5086</td>\n",
              "      <td>OUT010</td>\n",
              "      <td>1998</td>\n",
              "      <td>NaN</td>\n",
              "      <td>Tier 3</td>\n",
              "      <td>Grocery Store</td>\n",
              "      <td>178.4344</td>\n",
              "    </tr>\n",
              "  </tbody>\n",
              "</table>\n",
              "</div>"
            ],
            "text/plain": [
              "   Item_Identifier  Item_Weight  ...        Outlet_Type Item_Outlet_Sales\n",
              "3            FDX07       19.200  ...      Grocery Store          732.3800\n",
              "8            FDH17       16.200  ...  Supermarket Type1         1076.5986\n",
              "9            FDU28       19.200  ...  Supermarket Type1         4710.5350\n",
              "25           NCD06       13.000  ...  Supermarket Type1          838.9080\n",
              "28           FDE51        5.925  ...      Grocery Store          178.4344\n",
              "\n",
              "[5 rows x 11 columns]"
            ]
          },
          "metadata": {
            "tags": []
          },
          "execution_count": 22
        }
      ]
    },
    {
      "cell_type": "code",
      "metadata": {
        "colab": {
          "base_uri": "https://localhost:8080/"
        },
        "id": "9D6pEgHffkfU",
        "outputId": "f9e4bf84-9856-4fd0-e6fa-19b0c870d9e1"
      },
      "source": [
        "sales[outlet_missing].shape"
      ],
      "execution_count": 23,
      "outputs": [
        {
          "output_type": "execute_result",
          "data": {
            "text/plain": [
              "(2410, 11)"
            ]
          },
          "metadata": {
            "tags": []
          },
          "execution_count": 23
        }
      ]
    },
    {
      "cell_type": "code",
      "metadata": {
        "colab": {
          "base_uri": "https://localhost:8080/"
        },
        "id": "v13zcCG930E1",
        "outputId": "cd7ca1c9-8559-4fd0-d321-dc5cc2261e82"
      },
      "source": [
        "# Checking value counts with the outlet_missing filter on the Outlet_Identifier column to see how \n",
        "# the missing Outlet_Size values compare to the Outlet_Identifier value counts already checked above\n",
        "\n",
        "sales.loc[outlet_missing, 'Outlet_Identifier'].value_counts()"
      ],
      "execution_count": 24,
      "outputs": [
        {
          "output_type": "execute_result",
          "data": {
            "text/plain": [
              "OUT045    929\n",
              "OUT017    926\n",
              "OUT010    555\n",
              "Name: Outlet_Identifier, dtype: int64"
            ]
          },
          "metadata": {
            "tags": []
          },
          "execution_count": 24
        }
      ]
    },
    {
      "cell_type": "code",
      "metadata": {
        "colab": {
          "base_uri": "https://localhost:8080/"
        },
        "id": "ift-485z3Bty",
        "outputId": "6cd0f170-e3aa-4c1e-eb5a-2dbcbc468db5"
      },
      "source": [
        "# Checking how the Outlet_Type and Outlet_Identifier columns compare together with the missing\n",
        "# values from the Outlet_Size column\n",
        "\n",
        "sales.loc[outlet_missing, ['Outlet_Identifier', 'Outlet_Type', 'Outlet_Establishment_Year', 'Outlet_Location_Type']].value_counts()"
      ],
      "execution_count": 25,
      "outputs": [
        {
          "output_type": "execute_result",
          "data": {
            "text/plain": [
              "Outlet_Identifier  Outlet_Type        Outlet_Establishment_Year  Outlet_Location_Type\n",
              "OUT045             Supermarket Type1  2002                       Tier 2                  929\n",
              "OUT017             Supermarket Type1  2007                       Tier 2                  926\n",
              "OUT010             Grocery Store      1998                       Tier 3                  555\n",
              "dtype: int64"
            ]
          },
          "metadata": {
            "tags": []
          },
          "execution_count": 25
        }
      ]
    },
    {
      "cell_type": "markdown",
      "metadata": {
        "id": "ZWP0iKdC_L2i"
      },
      "source": [
        "#### In the above cell where the value counts for the Outlet_Type column \"Supermarket Type1\" accounted for 5577 cells I will check to see if all the other Outlet_Type rows with \"Supermarket Type1\" contain a consistent Outlet_Size as this will allow me to see what the Outlet_Size values should be."
      ]
    },
    {
      "cell_type": "code",
      "metadata": {
        "colab": {
          "base_uri": "https://localhost:8080/"
        },
        "cellView": "code",
        "id": "UPXkdhRB3BfV",
        "outputId": "d2b24480-40e7-40b7-f9cf-00c7ce0a2cd2"
      },
      "source": [
        "# Checking value counts with the outlet_missing filter on the Outlet_Type column to see how \n",
        "# the missing Outlet_Size values compare to the Outlet_Type value counts already checked above\n",
        "\n",
        "print(sales.loc[outlet_missing, 'Outlet_Type'].value_counts())\n",
        "print(sales.loc[outlet_missing, 'Outlet_Establishment_Year'].value_counts()) #All Years correspond with missing values\n",
        "print(sales.loc[outlet_missing, 'Outlet_Location_Type'].value_counts()) #Tier 3 = 555 (same as Grocery and OUT010 and 1998)\n",
        "print(sales.loc[outlet_missing, 'Item_Outlet_Sales'].value_counts().sort_values())\n",
        "print(sales.loc[outlet_missing, 'Item_Outlet_Sales'].max())"
      ],
      "execution_count": 26,
      "outputs": [
        {
          "output_type": "stream",
          "text": [
            "Supermarket Type1    1855\n",
            "Grocery Store         555\n",
            "Name: Outlet_Type, dtype: int64\n",
            "2002    929\n",
            "2007    926\n",
            "1998    555\n",
            "Name: Outlet_Establishment_Year, dtype: int64\n",
            "Tier 2    1855\n",
            "Tier 3     555\n",
            "Name: Outlet_Location_Type, dtype: int64\n",
            "95.8752      1\n",
            "237.6906     1\n",
            "8760.5964    1\n",
            "2366.9190    1\n",
            "2646.5550    1\n",
            "            ..\n",
            "2302.3364    5\n",
            "1230.3984    6\n",
            "1225.0720    6\n",
            "958.7520     6\n",
            "838.9080     7\n",
            "Name: Item_Outlet_Sales, Length: 1627, dtype: int64\n",
            "9664.7528\n"
          ],
          "name": "stdout"
        }
      ]
    },
    {
      "cell_type": "code",
      "metadata": {
        "colab": {
          "base_uri": "https://localhost:8080/"
        },
        "id": "4sJ5lJk-2dGW",
        "outputId": "491f2f68-2974-4904-f082-0a511608f094"
      },
      "source": [
        "# there's no clear correlation between location tier and store size\n",
        "tier1_filter = sales['Outlet_Location_Type'] == 'Tier 1'\n",
        "tier2_filter = sales['Outlet_Location_Type'] == 'Tier 2'\n",
        "tier3_filter = sales['Outlet_Location_Type'] == 'Tier 3'\n",
        "\n",
        "print(sales.loc[tier1_filter, 'Outlet_Size'].value_counts())\n",
        "print(sales.loc[tier2_filter, 'Outlet_Size'].value_counts())\n",
        "print(sales.loc[tier3_filter, 'Outlet_Size'].value_counts())"
      ],
      "execution_count": 27,
      "outputs": [
        {
          "output_type": "stream",
          "text": [
            "Small     1458\n",
            "Medium     930\n",
            "Name: Outlet_Size, dtype: int64\n",
            "Small    930\n",
            "Name: Outlet_Size, dtype: int64\n",
            "Medium    1863\n",
            "High       932\n",
            "Name: Outlet_Size, dtype: int64\n"
          ],
          "name": "stdout"
        }
      ]
    },
    {
      "cell_type": "code",
      "metadata": {
        "colab": {
          "base_uri": "https://localhost:8080/"
        },
        "id": "XEM8-ZOiQfCv",
        "outputId": "dea669a3-cc46-43b7-f50f-5f0d3585a861"
      },
      "source": [
        "# These 3 years only correlate with the missing values ... no evidence of store size imputation\n",
        "\n",
        "year98est_filter = sales['Outlet_Establishment_Year'] == 1998\n",
        "year02est_filter = sales['Outlet_Establishment_Year'] == 2002\n",
        "year07est_filter = sales['Outlet_Establishment_Year'] == 2007\n",
        "\n",
        "print(sales.loc[year98est_filter, 'Outlet_Size'].value_counts())\n",
        "print(sales.loc[year02est_filter, 'Outlet_Size'].value_counts())\n",
        "print(sales.loc[year07est_filter, 'Outlet_Size'].value_counts())"
      ],
      "execution_count": 28,
      "outputs": [
        {
          "output_type": "stream",
          "text": [
            "Series([], Name: Outlet_Size, dtype: int64)\n",
            "Series([], Name: Outlet_Size, dtype: int64)\n",
            "Series([], Name: Outlet_Size, dtype: int64)\n"
          ],
          "name": "stdout"
        }
      ]
    },
    {
      "cell_type": "code",
      "metadata": {
        "colab": {
          "base_uri": "https://localhost:8080/"
        },
        "id": "ZDl3snzr4D8f",
        "outputId": "96314b77-023c-4025-f5a8-b132ca1d87e2"
      },
      "source": [
        "# Grocery Store is only listed as Small. All other rows that contain 'Grocery Store' show NAN for the Outlet Size \n",
        "\n",
        "sup1Type_filter = sales['Outlet_Type'] == 'Supermarket Type1'\n",
        "grocType_filter = sales['Outlet_Type'] == 'Grocery Store'\n",
        "\n",
        "print(sales.loc[sup1Type_filter, 'Outlet_Size'].value_counts())\n",
        "print(sales.loc[grocType_filter, 'Outlet_Size'].value_counts())"
      ],
      "execution_count": 29,
      "outputs": [
        {
          "output_type": "stream",
          "text": [
            "Small     1860\n",
            "High       932\n",
            "Medium     930\n",
            "Name: Outlet_Size, dtype: int64\n",
            "Small    528\n",
            "Name: Outlet_Size, dtype: int64\n"
          ],
          "name": "stdout"
        }
      ]
    },
    {
      "cell_type": "code",
      "metadata": {
        "colab": {
          "base_uri": "https://localhost:8080/",
          "height": 417
        },
        "id": "mCfniV03Kz1U",
        "outputId": "4a49ca1b-1fd0-40b8-908d-e5a71b51f4d1"
      },
      "source": [
        "# All rows containing OUT010, 1998 and Grocery Store occupy the same 555 rows.\n",
        "# These 555 rows are missing a value for Outlet Size and are all in location Tier 3.\n",
        "# I believe that since the only other mention of Grocery is small and that Tier 3 is \n",
        "\n",
        "sales.loc[outlet_missing & tier3_filter, [ 'Outlet_Type', 'Outlet_Identifier', 'Outlet_Establishment_Year']]"
      ],
      "execution_count": 30,
      "outputs": [
        {
          "output_type": "execute_result",
          "data": {
            "text/html": [
              "<div>\n",
              "<style scoped>\n",
              "    .dataframe tbody tr th:only-of-type {\n",
              "        vertical-align: middle;\n",
              "    }\n",
              "\n",
              "    .dataframe tbody tr th {\n",
              "        vertical-align: top;\n",
              "    }\n",
              "\n",
              "    .dataframe thead th {\n",
              "        text-align: right;\n",
              "    }\n",
              "</style>\n",
              "<table border=\"1\" class=\"dataframe\">\n",
              "  <thead>\n",
              "    <tr style=\"text-align: right;\">\n",
              "      <th></th>\n",
              "      <th>Outlet_Type</th>\n",
              "      <th>Outlet_Identifier</th>\n",
              "      <th>Outlet_Establishment_Year</th>\n",
              "    </tr>\n",
              "  </thead>\n",
              "  <tbody>\n",
              "    <tr>\n",
              "      <th>3</th>\n",
              "      <td>Grocery Store</td>\n",
              "      <td>OUT010</td>\n",
              "      <td>1998</td>\n",
              "    </tr>\n",
              "    <tr>\n",
              "      <th>28</th>\n",
              "      <td>Grocery Store</td>\n",
              "      <td>OUT010</td>\n",
              "      <td>1998</td>\n",
              "    </tr>\n",
              "    <tr>\n",
              "      <th>30</th>\n",
              "      <td>Grocery Store</td>\n",
              "      <td>OUT010</td>\n",
              "      <td>1998</td>\n",
              "    </tr>\n",
              "    <tr>\n",
              "      <th>45</th>\n",
              "      <td>Grocery Store</td>\n",
              "      <td>OUT010</td>\n",
              "      <td>1998</td>\n",
              "    </tr>\n",
              "    <tr>\n",
              "      <th>65</th>\n",
              "      <td>Grocery Store</td>\n",
              "      <td>OUT010</td>\n",
              "      <td>1998</td>\n",
              "    </tr>\n",
              "    <tr>\n",
              "      <th>...</th>\n",
              "      <td>...</td>\n",
              "      <td>...</td>\n",
              "      <td>...</td>\n",
              "    </tr>\n",
              "    <tr>\n",
              "      <th>8400</th>\n",
              "      <td>Grocery Store</td>\n",
              "      <td>OUT010</td>\n",
              "      <td>1998</td>\n",
              "    </tr>\n",
              "    <tr>\n",
              "      <th>8432</th>\n",
              "      <td>Grocery Store</td>\n",
              "      <td>OUT010</td>\n",
              "      <td>1998</td>\n",
              "    </tr>\n",
              "    <tr>\n",
              "      <th>8473</th>\n",
              "      <td>Grocery Store</td>\n",
              "      <td>OUT010</td>\n",
              "      <td>1998</td>\n",
              "    </tr>\n",
              "    <tr>\n",
              "      <th>8486</th>\n",
              "      <td>Grocery Store</td>\n",
              "      <td>OUT010</td>\n",
              "      <td>1998</td>\n",
              "    </tr>\n",
              "    <tr>\n",
              "      <th>8509</th>\n",
              "      <td>Grocery Store</td>\n",
              "      <td>OUT010</td>\n",
              "      <td>1998</td>\n",
              "    </tr>\n",
              "  </tbody>\n",
              "</table>\n",
              "<p>555 rows × 3 columns</p>\n",
              "</div>"
            ],
            "text/plain": [
              "        Outlet_Type Outlet_Identifier  Outlet_Establishment_Year\n",
              "3     Grocery Store            OUT010                       1998\n",
              "28    Grocery Store            OUT010                       1998\n",
              "30    Grocery Store            OUT010                       1998\n",
              "45    Grocery Store            OUT010                       1998\n",
              "65    Grocery Store            OUT010                       1998\n",
              "...             ...               ...                        ...\n",
              "8400  Grocery Store            OUT010                       1998\n",
              "8432  Grocery Store            OUT010                       1998\n",
              "8473  Grocery Store            OUT010                       1998\n",
              "8486  Grocery Store            OUT010                       1998\n",
              "8509  Grocery Store            OUT010                       1998\n",
              "\n",
              "[555 rows x 3 columns]"
            ]
          },
          "metadata": {
            "tags": []
          },
          "execution_count": 30
        }
      ]
    },
    {
      "cell_type": "code",
      "metadata": {
        "colab": {
          "base_uri": "https://localhost:8080/"
        },
        "id": "Lk8tHVSA50Op",
        "outputId": "f0109879-c62a-476c-9532-444004355c41"
      },
      "source": [
        "# Without further exploring the Item Sales agaisnt other information there is no clear correlation\n",
        "# between the item sales and Outlet Size\n",
        "\n",
        "size = sales['Outlet_Size'] == 'Small'\n",
        "\n",
        "itSales1_filter = sales['Item_Outlet_Sales'] <= 100\n",
        "itSales2_filter = (sales['Item_Outlet_Sales'] >= 101) & (sales['Item_Outlet_Sales'] <= 200)\n",
        "itSales3_filter = (sales['Item_Outlet_Sales'] >= 201) & (sales['Item_Outlet_Sales'] <= 300)\n",
        "itSales4_filter = (sales['Item_Outlet_Sales'] >= 301) & (sales['Item_Outlet_Sales'] <= 400)\n",
        "itSales5_filter = (sales['Item_Outlet_Sales'] >= 401) & (sales['Item_Outlet_Sales'] <= 500)\n",
        "itSales6_filter = (sales['Item_Outlet_Sales'] >= 501) & (sales['Item_Outlet_Sales'] <= 600)\n",
        "itSales7_filter = (sales['Item_Outlet_Sales'] >= 601) & (sales['Item_Outlet_Sales'] <= 700)\n",
        "itSales8_filter = (sales['Item_Outlet_Sales'] >= 701) & (sales['Item_Outlet_Sales'] <= 800)\n",
        "itSales9_filter = (sales['Item_Outlet_Sales'] >= 801) & (sales['Item_Outlet_Sales'] <= 900)\n",
        "itSales10_filter = sales['Item_Outlet_Sales'] >= 901\n",
        "\n",
        "print(sales.loc[itSales1_filter, 'Outlet_Size'].value_counts())\n",
        "print(sales.loc[itSales1_filter & outlet_missing, 'Item_Outlet_Sales'].count())\n",
        "print(sales.loc[itSales2_filter, 'Outlet_Size'].value_counts())\n",
        "print(sales.loc[itSales2_filter & outlet_missing, 'Item_Outlet_Sales'].count())\n",
        "print(sales.loc[itSales3_filter, 'Outlet_Size'].value_counts())\n",
        "print(sales.loc[itSales3_filter & outlet_missing, 'Item_Outlet_Sales'].count())\n",
        "print(sales.loc[itSales4_filter, 'Outlet_Size'].value_counts())\n",
        "print(sales.loc[itSales4_filter & outlet_missing, 'Item_Outlet_Sales'].count())\n",
        "print(sales.loc[itSales5_filter, 'Outlet_Size'].value_counts())\n",
        "print(sales.loc[itSales5_filter & outlet_missing, 'Item_Outlet_Sales'].count())\n",
        "print(sales.loc[itSales6_filter, 'Outlet_Size'].value_counts())\n",
        "print(sales.loc[itSales6_filter & outlet_missing, 'Item_Outlet_Sales'].count())\n",
        "print(sales.loc[itSales7_filter, 'Outlet_Size'].value_counts())\n",
        "print(sales.loc[itSales7_filter & outlet_missing, 'Item_Outlet_Sales'].count())\n",
        "print(sales.loc[itSales8_filter, 'Outlet_Size'].value_counts())\n",
        "print(sales.loc[itSales8_filter & outlet_missing, 'Item_Outlet_Sales'].count())\n",
        "print(sales.loc[itSales9_filter, 'Outlet_Size'].value_counts())\n",
        "print(sales.loc[itSales9_filter & outlet_missing, 'Item_Outlet_Sales'].count())\n",
        "print(sales.loc[itSales10_filter, 'Outlet_Size'].value_counts())\n",
        "print(sales.loc[itSales10_filter & outlet_missing, 'Item_Outlet_Sales'].count())"
      ],
      "execution_count": 31,
      "outputs": [
        {
          "output_type": "stream",
          "text": [
            "Small     54\n",
            "Medium     3\n",
            "High       1\n",
            "Name: Outlet_Size, dtype: int64\n",
            "66\n",
            "Small     148\n",
            "Medium     17\n",
            "High       10\n",
            "Name: Outlet_Size, dtype: int64\n",
            "179\n",
            "Small     107\n",
            "Medium     27\n",
            "High       17\n",
            "Name: Outlet_Size, dtype: int64\n",
            "104\n",
            "Small     106\n",
            "Medium     37\n",
            "High       30\n",
            "Name: Outlet_Size, dtype: int64\n",
            "96\n",
            "Small     95\n",
            "Medium    52\n",
            "High      15\n",
            "Name: Outlet_Size, dtype: int64\n",
            "92\n",
            "Small     84\n",
            "Medium    69\n",
            "High      25\n",
            "Name: Outlet_Size, dtype: int64\n",
            "98\n",
            "Small     70\n",
            "Medium    67\n",
            "High      36\n",
            "Name: Outlet_Size, dtype: int64\n",
            "70\n",
            "Small     83\n",
            "Medium    71\n",
            "High      28\n",
            "Name: Outlet_Size, dtype: int64\n",
            "93\n",
            "Medium    69\n",
            "Small     67\n",
            "High      21\n",
            "Name: Outlet_Size, dtype: int64\n",
            "76\n",
            "Medium    2380\n",
            "Small     1571\n",
            "High       749\n",
            "Name: Outlet_Size, dtype: int64\n",
            "1533\n"
          ],
          "name": "stdout"
        }
      ]
    },
    {
      "cell_type": "code",
      "metadata": {
        "colab": {
          "base_uri": "https://localhost:8080/"
        },
        "id": "sCSWpOuMBEnc",
        "outputId": "7329b39a-eb48-42f0-9944-171de6f7b718"
      },
      "source": [
        "# Further proof that Grocery Story is either listed as Small in the Outlet Size column or Nan\n",
        "# There are 555 rows containing Grocery and no specification of Outlet Size\n",
        "# There are 528 rows containing Grocery and Small Outlet Size\n",
        "\n",
        "print(sales.loc[grocType_filter, 'Outlet_Type'].value_counts())\n",
        "print(sales[grocType_filter & ~outlet_missing].count())"
      ],
      "execution_count": 32,
      "outputs": [
        {
          "output_type": "stream",
          "text": [
            "Grocery Store    1083\n",
            "Name: Outlet_Type, dtype: int64\n",
            "Item_Identifier              528\n",
            "Item_Weight                    0\n",
            "Item_Fat_Content             528\n",
            "Item_Type                    528\n",
            "Item_MRP                     528\n",
            "Outlet_Identifier            528\n",
            "Outlet_Establishment_Year    528\n",
            "Outlet_Size                  528\n",
            "Outlet_Location_Type         528\n",
            "Outlet_Type                  528\n",
            "Item_Outlet_Sales            528\n",
            "dtype: int64\n"
          ],
          "name": "stdout"
        }
      ]
    },
    {
      "cell_type": "code",
      "metadata": {
        "colab": {
          "base_uri": "https://localhost:8080/"
        },
        "id": "8xiL6_CKEy-K",
        "outputId": "efce74df-234d-43a0-9327-a88cdb66d49d"
      },
      "source": [
        "sales[grocType_filter & outlet_missing].count()"
      ],
      "execution_count": 33,
      "outputs": [
        {
          "output_type": "execute_result",
          "data": {
            "text/plain": [
              "Item_Identifier              555\n",
              "Item_Weight                  555\n",
              "Item_Fat_Content             555\n",
              "Item_Type                    555\n",
              "Item_MRP                     555\n",
              "Outlet_Identifier            555\n",
              "Outlet_Establishment_Year    555\n",
              "Outlet_Size                    0\n",
              "Outlet_Location_Type         555\n",
              "Outlet_Type                  555\n",
              "Item_Outlet_Sales            555\n",
              "dtype: int64"
            ]
          },
          "metadata": {
            "tags": []
          },
          "execution_count": 33
        }
      ]
    },
    {
      "cell_type": "code",
      "metadata": {
        "colab": {
          "base_uri": "https://localhost:8080/"
        },
        "id": "n6Z7RuFjFtxN",
        "outputId": "28ad02c7-9916-49b6-e742-2142b6c305ed"
      },
      "source": [
        "# Further proving that these Outlet Idenifier numbers are missing from the Outlet Size column\n",
        "# this not help impute size for these outlet stores\n",
        "\n",
        "OUT045_filter = sales['Outlet_Identifier'] == 'OUT045'\n",
        "OUT017_filter = sales['Outlet_Identifier'] == 'OUT017'\n",
        "OUT010_filter = sales['Outlet_Identifier'] == 'OUT010'\n",
        "\n",
        "sales.loc[OUT010_filter | OUT017_filter | OUT045_filter, 'Outlet_Size'].count()"
      ],
      "execution_count": 34,
      "outputs": [
        {
          "output_type": "execute_result",
          "data": {
            "text/plain": [
              "0"
            ]
          },
          "metadata": {
            "tags": []
          },
          "execution_count": 34
        }
      ]
    },
    {
      "cell_type": "markdown",
      "metadata": {
        "id": "itKkVwuUeiuA"
      },
      "source": [
        "\n",
        "\n",
        "---\n",
        "\n",
        "---- Second... Look at Item_Weight column\n"
      ]
    },
    {
      "cell_type": "code",
      "metadata": {
        "colab": {
          "base_uri": "https://localhost:8080/",
          "height": 307
        },
        "id": "UIeFXGHzdn7e",
        "outputId": "72caa458-578b-4a8a-ed30-1f4bfb0ed65b"
      },
      "source": [
        "weight_missing = sales['Item_Weight'].isna()\n",
        "sales.loc[weight_missing, :].head()"
      ],
      "execution_count": 35,
      "outputs": [
        {
          "output_type": "execute_result",
          "data": {
            "text/html": [
              "<div>\n",
              "<style scoped>\n",
              "    .dataframe tbody tr th:only-of-type {\n",
              "        vertical-align: middle;\n",
              "    }\n",
              "\n",
              "    .dataframe tbody tr th {\n",
              "        vertical-align: top;\n",
              "    }\n",
              "\n",
              "    .dataframe thead th {\n",
              "        text-align: right;\n",
              "    }\n",
              "</style>\n",
              "<table border=\"1\" class=\"dataframe\">\n",
              "  <thead>\n",
              "    <tr style=\"text-align: right;\">\n",
              "      <th></th>\n",
              "      <th>Item_Identifier</th>\n",
              "      <th>Item_Weight</th>\n",
              "      <th>Item_Fat_Content</th>\n",
              "      <th>Item_Type</th>\n",
              "      <th>Item_MRP</th>\n",
              "      <th>Outlet_Identifier</th>\n",
              "      <th>Outlet_Establishment_Year</th>\n",
              "      <th>Outlet_Size</th>\n",
              "      <th>Outlet_Location_Type</th>\n",
              "      <th>Outlet_Type</th>\n",
              "      <th>Item_Outlet_Sales</th>\n",
              "    </tr>\n",
              "  </thead>\n",
              "  <tbody>\n",
              "    <tr>\n",
              "      <th>7</th>\n",
              "      <td>FDP10</td>\n",
              "      <td>NaN</td>\n",
              "      <td>Low Fat</td>\n",
              "      <td>Snack Foods</td>\n",
              "      <td>107.7622</td>\n",
              "      <td>OUT027</td>\n",
              "      <td>1985</td>\n",
              "      <td>Medium</td>\n",
              "      <td>Tier 3</td>\n",
              "      <td>Supermarket Type3</td>\n",
              "      <td>4022.7636</td>\n",
              "    </tr>\n",
              "    <tr>\n",
              "      <th>18</th>\n",
              "      <td>DRI11</td>\n",
              "      <td>NaN</td>\n",
              "      <td>Low Fat</td>\n",
              "      <td>Hard Drinks</td>\n",
              "      <td>113.2834</td>\n",
              "      <td>OUT027</td>\n",
              "      <td>1985</td>\n",
              "      <td>Medium</td>\n",
              "      <td>Tier 3</td>\n",
              "      <td>Supermarket Type3</td>\n",
              "      <td>2303.6680</td>\n",
              "    </tr>\n",
              "    <tr>\n",
              "      <th>21</th>\n",
              "      <td>FDW12</td>\n",
              "      <td>NaN</td>\n",
              "      <td>Regular</td>\n",
              "      <td>Baking Goods</td>\n",
              "      <td>144.5444</td>\n",
              "      <td>OUT027</td>\n",
              "      <td>1985</td>\n",
              "      <td>Medium</td>\n",
              "      <td>Tier 3</td>\n",
              "      <td>Supermarket Type3</td>\n",
              "      <td>4064.0432</td>\n",
              "    </tr>\n",
              "    <tr>\n",
              "      <th>23</th>\n",
              "      <td>FDC37</td>\n",
              "      <td>NaN</td>\n",
              "      <td>Low Fat</td>\n",
              "      <td>Baking Goods</td>\n",
              "      <td>107.6938</td>\n",
              "      <td>OUT019</td>\n",
              "      <td>1985</td>\n",
              "      <td>Small</td>\n",
              "      <td>Tier 1</td>\n",
              "      <td>Grocery Store</td>\n",
              "      <td>214.3876</td>\n",
              "    </tr>\n",
              "    <tr>\n",
              "      <th>29</th>\n",
              "      <td>FDC14</td>\n",
              "      <td>NaN</td>\n",
              "      <td>Regular</td>\n",
              "      <td>Canned</td>\n",
              "      <td>43.6454</td>\n",
              "      <td>OUT019</td>\n",
              "      <td>1985</td>\n",
              "      <td>Small</td>\n",
              "      <td>Tier 1</td>\n",
              "      <td>Grocery Store</td>\n",
              "      <td>125.8362</td>\n",
              "    </tr>\n",
              "  </tbody>\n",
              "</table>\n",
              "</div>"
            ],
            "text/plain": [
              "   Item_Identifier  Item_Weight  ...        Outlet_Type Item_Outlet_Sales\n",
              "7            FDP10          NaN  ...  Supermarket Type3         4022.7636\n",
              "18           DRI11          NaN  ...  Supermarket Type3         2303.6680\n",
              "21           FDW12          NaN  ...  Supermarket Type3         4064.0432\n",
              "23           FDC37          NaN  ...      Grocery Store          214.3876\n",
              "29           FDC14          NaN  ...      Grocery Store          125.8362\n",
              "\n",
              "[5 rows x 11 columns]"
            ]
          },
          "metadata": {
            "tags": []
          },
          "execution_count": 35
        }
      ]
    },
    {
      "cell_type": "code",
      "metadata": {
        "colab": {
          "base_uri": "https://localhost:8080/"
        },
        "id": "ESI0A1eChDYE",
        "outputId": "56ea2a3d-9c9c-422d-ae51-8d18bf0e1755"
      },
      "source": [
        "sales[weight_missing].shape"
      ],
      "execution_count": 36,
      "outputs": [
        {
          "output_type": "execute_result",
          "data": {
            "text/plain": [
              "(1463, 11)"
            ]
          },
          "metadata": {
            "tags": []
          },
          "execution_count": 36
        }
      ]
    },
    {
      "cell_type": "code",
      "metadata": {
        "colab": {
          "base_uri": "https://localhost:8080/"
        },
        "id": "znfgDHFo9MiI",
        "outputId": "682126d0-0a5b-4e82-d2c0-bb10d1db471e"
      },
      "source": [
        "sales['Item_Weight'].value_counts()"
      ],
      "execution_count": 37,
      "outputs": [
        {
          "output_type": "execute_result",
          "data": {
            "text/plain": [
              "12.150    86\n",
              "17.600    82\n",
              "13.650    77\n",
              "11.800    76\n",
              "15.100    68\n",
              "          ..\n",
              "7.560      2\n",
              "9.420      1\n",
              "5.400      1\n",
              "6.520      1\n",
              "7.685      1\n",
              "Name: Item_Weight, Length: 415, dtype: int64"
            ]
          },
          "metadata": {
            "tags": []
          },
          "execution_count": 37
        }
      ]
    },
    {
      "cell_type": "code",
      "metadata": {
        "colab": {
          "base_uri": "https://localhost:8080/"
        },
        "id": "Uf8aKdSI-XGK",
        "outputId": "98b79f0b-0b2a-45be-a5e1-51944c42f17b"
      },
      "source": [
        "sales.loc[weight_missing, 'Item_Type'].value_counts()"
      ],
      "execution_count": 38,
      "outputs": [
        {
          "output_type": "execute_result",
          "data": {
            "text/plain": [
              "Fruits and Vegetables    213\n",
              "Snack Foods              212\n",
              "Household                151\n",
              "Frozen Foods             138\n",
              "Dairy                    116\n",
              "Baking Goods             112\n",
              "Canned                   110\n",
              "Health and Hygiene        90\n",
              "Meat                      88\n",
              "Soft Drinks               71\n",
              "Breads                    47\n",
              "Others                    32\n",
              "Hard Drinks               31\n",
              "Breakfast                 21\n",
              "Starchy Foods             18\n",
              "Seafood                   13\n",
              "Name: Item_Type, dtype: int64"
            ]
          },
          "metadata": {
            "tags": []
          },
          "execution_count": 38
        }
      ]
    },
    {
      "cell_type": "code",
      "metadata": {
        "colab": {
          "base_uri": "https://localhost:8080/",
          "height": 942
        },
        "id": "hxp2VIH0CCp6",
        "outputId": "2aab3c56-6a2a-462f-b969-1c3993fad5dd"
      },
      "source": [
        "sales.loc[weight_missing, :].groupby(['Item_Type','Item_Fat_Content'])[['Item_Weight','Item_MRP']].count()\n"
      ],
      "execution_count": 39,
      "outputs": [
        {
          "output_type": "execute_result",
          "data": {
            "text/html": [
              "<div>\n",
              "<style scoped>\n",
              "    .dataframe tbody tr th:only-of-type {\n",
              "        vertical-align: middle;\n",
              "    }\n",
              "\n",
              "    .dataframe tbody tr th {\n",
              "        vertical-align: top;\n",
              "    }\n",
              "\n",
              "    .dataframe thead th {\n",
              "        text-align: right;\n",
              "    }\n",
              "</style>\n",
              "<table border=\"1\" class=\"dataframe\">\n",
              "  <thead>\n",
              "    <tr style=\"text-align: right;\">\n",
              "      <th></th>\n",
              "      <th></th>\n",
              "      <th>Item_Weight</th>\n",
              "      <th>Item_MRP</th>\n",
              "    </tr>\n",
              "    <tr>\n",
              "      <th>Item_Type</th>\n",
              "      <th>Item_Fat_Content</th>\n",
              "      <th></th>\n",
              "      <th></th>\n",
              "    </tr>\n",
              "  </thead>\n",
              "  <tbody>\n",
              "    <tr>\n",
              "      <th rowspan=\"2\" valign=\"top\">Baking Goods</th>\n",
              "      <th>Low Fat</th>\n",
              "      <td>0</td>\n",
              "      <td>67</td>\n",
              "    </tr>\n",
              "    <tr>\n",
              "      <th>Regular</th>\n",
              "      <td>0</td>\n",
              "      <td>45</td>\n",
              "    </tr>\n",
              "    <tr>\n",
              "      <th rowspan=\"2\" valign=\"top\">Breads</th>\n",
              "      <th>Low Fat</th>\n",
              "      <td>0</td>\n",
              "      <td>27</td>\n",
              "    </tr>\n",
              "    <tr>\n",
              "      <th>Regular</th>\n",
              "      <td>0</td>\n",
              "      <td>20</td>\n",
              "    </tr>\n",
              "    <tr>\n",
              "      <th rowspan=\"2\" valign=\"top\">Breakfast</th>\n",
              "      <th>Low Fat</th>\n",
              "      <td>0</td>\n",
              "      <td>7</td>\n",
              "    </tr>\n",
              "    <tr>\n",
              "      <th>Regular</th>\n",
              "      <td>0</td>\n",
              "      <td>14</td>\n",
              "    </tr>\n",
              "    <tr>\n",
              "      <th rowspan=\"2\" valign=\"top\">Canned</th>\n",
              "      <th>Low Fat</th>\n",
              "      <td>0</td>\n",
              "      <td>55</td>\n",
              "    </tr>\n",
              "    <tr>\n",
              "      <th>Regular</th>\n",
              "      <td>0</td>\n",
              "      <td>55</td>\n",
              "    </tr>\n",
              "    <tr>\n",
              "      <th rowspan=\"2\" valign=\"top\">Dairy</th>\n",
              "      <th>Low Fat</th>\n",
              "      <td>0</td>\n",
              "      <td>64</td>\n",
              "    </tr>\n",
              "    <tr>\n",
              "      <th>Regular</th>\n",
              "      <td>0</td>\n",
              "      <td>52</td>\n",
              "    </tr>\n",
              "    <tr>\n",
              "      <th rowspan=\"2\" valign=\"top\">Frozen Foods</th>\n",
              "      <th>Low Fat</th>\n",
              "      <td>0</td>\n",
              "      <td>75</td>\n",
              "    </tr>\n",
              "    <tr>\n",
              "      <th>Regular</th>\n",
              "      <td>0</td>\n",
              "      <td>63</td>\n",
              "    </tr>\n",
              "    <tr>\n",
              "      <th rowspan=\"2\" valign=\"top\">Fruits and Vegetables</th>\n",
              "      <th>Low Fat</th>\n",
              "      <td>0</td>\n",
              "      <td>112</td>\n",
              "    </tr>\n",
              "    <tr>\n",
              "      <th>Regular</th>\n",
              "      <td>0</td>\n",
              "      <td>101</td>\n",
              "    </tr>\n",
              "    <tr>\n",
              "      <th>Hard Drinks</th>\n",
              "      <th>Low Fat</th>\n",
              "      <td>0</td>\n",
              "      <td>31</td>\n",
              "    </tr>\n",
              "    <tr>\n",
              "      <th>Health and Hygiene</th>\n",
              "      <th>Low Fat</th>\n",
              "      <td>0</td>\n",
              "      <td>90</td>\n",
              "    </tr>\n",
              "    <tr>\n",
              "      <th>Household</th>\n",
              "      <th>Low Fat</th>\n",
              "      <td>0</td>\n",
              "      <td>151</td>\n",
              "    </tr>\n",
              "    <tr>\n",
              "      <th rowspan=\"2\" valign=\"top\">Meat</th>\n",
              "      <th>Low Fat</th>\n",
              "      <td>0</td>\n",
              "      <td>38</td>\n",
              "    </tr>\n",
              "    <tr>\n",
              "      <th>Regular</th>\n",
              "      <td>0</td>\n",
              "      <td>50</td>\n",
              "    </tr>\n",
              "    <tr>\n",
              "      <th>Others</th>\n",
              "      <th>Low Fat</th>\n",
              "      <td>0</td>\n",
              "      <td>32</td>\n",
              "    </tr>\n",
              "    <tr>\n",
              "      <th rowspan=\"2\" valign=\"top\">Seafood</th>\n",
              "      <th>Low Fat</th>\n",
              "      <td>0</td>\n",
              "      <td>8</td>\n",
              "    </tr>\n",
              "    <tr>\n",
              "      <th>Regular</th>\n",
              "      <td>0</td>\n",
              "      <td>5</td>\n",
              "    </tr>\n",
              "    <tr>\n",
              "      <th rowspan=\"2\" valign=\"top\">Snack Foods</th>\n",
              "      <th>Low Fat</th>\n",
              "      <td>0</td>\n",
              "      <td>127</td>\n",
              "    </tr>\n",
              "    <tr>\n",
              "      <th>Regular</th>\n",
              "      <td>0</td>\n",
              "      <td>85</td>\n",
              "    </tr>\n",
              "    <tr>\n",
              "      <th rowspan=\"2\" valign=\"top\">Soft Drinks</th>\n",
              "      <th>Low Fat</th>\n",
              "      <td>0</td>\n",
              "      <td>59</td>\n",
              "    </tr>\n",
              "    <tr>\n",
              "      <th>Regular</th>\n",
              "      <td>0</td>\n",
              "      <td>12</td>\n",
              "    </tr>\n",
              "    <tr>\n",
              "      <th rowspan=\"2\" valign=\"top\">Starchy Foods</th>\n",
              "      <th>Low Fat</th>\n",
              "      <td>0</td>\n",
              "      <td>8</td>\n",
              "    </tr>\n",
              "    <tr>\n",
              "      <th>Regular</th>\n",
              "      <td>0</td>\n",
              "      <td>10</td>\n",
              "    </tr>\n",
              "  </tbody>\n",
              "</table>\n",
              "</div>"
            ],
            "text/plain": [
              "                                        Item_Weight  Item_MRP\n",
              "Item_Type             Item_Fat_Content                       \n",
              "Baking Goods          Low Fat                     0        67\n",
              "                      Regular                     0        45\n",
              "Breads                Low Fat                     0        27\n",
              "                      Regular                     0        20\n",
              "Breakfast             Low Fat                     0         7\n",
              "                      Regular                     0        14\n",
              "Canned                Low Fat                     0        55\n",
              "                      Regular                     0        55\n",
              "Dairy                 Low Fat                     0        64\n",
              "                      Regular                     0        52\n",
              "Frozen Foods          Low Fat                     0        75\n",
              "                      Regular                     0        63\n",
              "Fruits and Vegetables Low Fat                     0       112\n",
              "                      Regular                     0       101\n",
              "Hard Drinks           Low Fat                     0        31\n",
              "Health and Hygiene    Low Fat                     0        90\n",
              "Household             Low Fat                     0       151\n",
              "Meat                  Low Fat                     0        38\n",
              "                      Regular                     0        50\n",
              "Others                Low Fat                     0        32\n",
              "Seafood               Low Fat                     0         8\n",
              "                      Regular                     0         5\n",
              "Snack Foods           Low Fat                     0       127\n",
              "                      Regular                     0        85\n",
              "Soft Drinks           Low Fat                     0        59\n",
              "                      Regular                     0        12\n",
              "Starchy Foods         Low Fat                     0         8\n",
              "                      Regular                     0        10"
            ]
          },
          "metadata": {
            "tags": []
          },
          "execution_count": 39
        }
      ]
    },
    {
      "cell_type": "code",
      "metadata": {
        "colab": {
          "base_uri": "https://localhost:8080/",
          "height": 942
        },
        "id": "SKMa-pLZESX0",
        "outputId": "6ffc6f92-ec25-4158-d28e-d19bded44d76"
      },
      "source": [
        "sales.loc[~weight_missing, :].groupby(['Item_Type','Item_Fat_Content'])[['Item_Weight','Item_MRP']].count()"
      ],
      "execution_count": 40,
      "outputs": [
        {
          "output_type": "execute_result",
          "data": {
            "text/html": [
              "<div>\n",
              "<style scoped>\n",
              "    .dataframe tbody tr th:only-of-type {\n",
              "        vertical-align: middle;\n",
              "    }\n",
              "\n",
              "    .dataframe tbody tr th {\n",
              "        vertical-align: top;\n",
              "    }\n",
              "\n",
              "    .dataframe thead th {\n",
              "        text-align: right;\n",
              "    }\n",
              "</style>\n",
              "<table border=\"1\" class=\"dataframe\">\n",
              "  <thead>\n",
              "    <tr style=\"text-align: right;\">\n",
              "      <th></th>\n",
              "      <th></th>\n",
              "      <th>Item_Weight</th>\n",
              "      <th>Item_MRP</th>\n",
              "    </tr>\n",
              "    <tr>\n",
              "      <th>Item_Type</th>\n",
              "      <th>Item_Fat_Content</th>\n",
              "      <th></th>\n",
              "      <th></th>\n",
              "    </tr>\n",
              "  </thead>\n",
              "  <tbody>\n",
              "    <tr>\n",
              "      <th rowspan=\"2\" valign=\"top\">Baking Goods</th>\n",
              "      <th>Low Fat</th>\n",
              "      <td>262</td>\n",
              "      <td>262</td>\n",
              "    </tr>\n",
              "    <tr>\n",
              "      <th>Regular</th>\n",
              "      <td>274</td>\n",
              "      <td>274</td>\n",
              "    </tr>\n",
              "    <tr>\n",
              "      <th rowspan=\"2\" valign=\"top\">Breads</th>\n",
              "      <th>Low Fat</th>\n",
              "      <td>113</td>\n",
              "      <td>113</td>\n",
              "    </tr>\n",
              "    <tr>\n",
              "      <th>Regular</th>\n",
              "      <td>91</td>\n",
              "      <td>91</td>\n",
              "    </tr>\n",
              "    <tr>\n",
              "      <th rowspan=\"2\" valign=\"top\">Breakfast</th>\n",
              "      <th>Low Fat</th>\n",
              "      <td>34</td>\n",
              "      <td>34</td>\n",
              "    </tr>\n",
              "    <tr>\n",
              "      <th>Regular</th>\n",
              "      <td>55</td>\n",
              "      <td>55</td>\n",
              "    </tr>\n",
              "    <tr>\n",
              "      <th rowspan=\"2\" valign=\"top\">Canned</th>\n",
              "      <th>Low Fat</th>\n",
              "      <td>286</td>\n",
              "      <td>286</td>\n",
              "    </tr>\n",
              "    <tr>\n",
              "      <th>Regular</th>\n",
              "      <td>253</td>\n",
              "      <td>253</td>\n",
              "    </tr>\n",
              "    <tr>\n",
              "      <th rowspan=\"2\" valign=\"top\">Dairy</th>\n",
              "      <th>Low Fat</th>\n",
              "      <td>354</td>\n",
              "      <td>354</td>\n",
              "    </tr>\n",
              "    <tr>\n",
              "      <th>Regular</th>\n",
              "      <td>212</td>\n",
              "      <td>212</td>\n",
              "    </tr>\n",
              "    <tr>\n",
              "      <th rowspan=\"2\" valign=\"top\">Frozen Foods</th>\n",
              "      <th>Low Fat</th>\n",
              "      <td>375</td>\n",
              "      <td>375</td>\n",
              "    </tr>\n",
              "    <tr>\n",
              "      <th>Regular</th>\n",
              "      <td>343</td>\n",
              "      <td>343</td>\n",
              "    </tr>\n",
              "    <tr>\n",
              "      <th rowspan=\"2\" valign=\"top\">Fruits and Vegetables</th>\n",
              "      <th>Low Fat</th>\n",
              "      <td>518</td>\n",
              "      <td>518</td>\n",
              "    </tr>\n",
              "    <tr>\n",
              "      <th>Regular</th>\n",
              "      <td>501</td>\n",
              "      <td>501</td>\n",
              "    </tr>\n",
              "    <tr>\n",
              "      <th>Hard Drinks</th>\n",
              "      <th>Low Fat</th>\n",
              "      <td>183</td>\n",
              "      <td>183</td>\n",
              "    </tr>\n",
              "    <tr>\n",
              "      <th>Health and Hygiene</th>\n",
              "      <th>Low Fat</th>\n",
              "      <td>430</td>\n",
              "      <td>430</td>\n",
              "    </tr>\n",
              "    <tr>\n",
              "      <th>Household</th>\n",
              "      <th>Low Fat</th>\n",
              "      <td>759</td>\n",
              "      <td>759</td>\n",
              "    </tr>\n",
              "    <tr>\n",
              "      <th rowspan=\"2\" valign=\"top\">Meat</th>\n",
              "      <th>Low Fat</th>\n",
              "      <td>132</td>\n",
              "      <td>132</td>\n",
              "    </tr>\n",
              "    <tr>\n",
              "      <th>Regular</th>\n",
              "      <td>205</td>\n",
              "      <td>205</td>\n",
              "    </tr>\n",
              "    <tr>\n",
              "      <th>Others</th>\n",
              "      <th>Low Fat</th>\n",
              "      <td>137</td>\n",
              "      <td>137</td>\n",
              "    </tr>\n",
              "    <tr>\n",
              "      <th rowspan=\"2\" valign=\"top\">Seafood</th>\n",
              "      <th>Low Fat</th>\n",
              "      <td>29</td>\n",
              "      <td>29</td>\n",
              "    </tr>\n",
              "    <tr>\n",
              "      <th>Regular</th>\n",
              "      <td>22</td>\n",
              "      <td>22</td>\n",
              "    </tr>\n",
              "    <tr>\n",
              "      <th rowspan=\"2\" valign=\"top\">Snack Foods</th>\n",
              "      <th>Low Fat</th>\n",
              "      <td>565</td>\n",
              "      <td>565</td>\n",
              "    </tr>\n",
              "    <tr>\n",
              "      <th>Regular</th>\n",
              "      <td>423</td>\n",
              "      <td>423</td>\n",
              "    </tr>\n",
              "    <tr>\n",
              "      <th rowspan=\"2\" valign=\"top\">Soft Drinks</th>\n",
              "      <th>Low Fat</th>\n",
              "      <td>315</td>\n",
              "      <td>315</td>\n",
              "    </tr>\n",
              "    <tr>\n",
              "      <th>Regular</th>\n",
              "      <td>59</td>\n",
              "      <td>59</td>\n",
              "    </tr>\n",
              "    <tr>\n",
              "      <th rowspan=\"2\" valign=\"top\">Starchy Foods</th>\n",
              "      <th>Low Fat</th>\n",
              "      <td>74</td>\n",
              "      <td>74</td>\n",
              "    </tr>\n",
              "    <tr>\n",
              "      <th>Regular</th>\n",
              "      <td>56</td>\n",
              "      <td>56</td>\n",
              "    </tr>\n",
              "  </tbody>\n",
              "</table>\n",
              "</div>"
            ],
            "text/plain": [
              "                                        Item_Weight  Item_MRP\n",
              "Item_Type             Item_Fat_Content                       \n",
              "Baking Goods          Low Fat                   262       262\n",
              "                      Regular                   274       274\n",
              "Breads                Low Fat                   113       113\n",
              "                      Regular                    91        91\n",
              "Breakfast             Low Fat                    34        34\n",
              "                      Regular                    55        55\n",
              "Canned                Low Fat                   286       286\n",
              "                      Regular                   253       253\n",
              "Dairy                 Low Fat                   354       354\n",
              "                      Regular                   212       212\n",
              "Frozen Foods          Low Fat                   375       375\n",
              "                      Regular                   343       343\n",
              "Fruits and Vegetables Low Fat                   518       518\n",
              "                      Regular                   501       501\n",
              "Hard Drinks           Low Fat                   183       183\n",
              "Health and Hygiene    Low Fat                   430       430\n",
              "Household             Low Fat                   759       759\n",
              "Meat                  Low Fat                   132       132\n",
              "                      Regular                   205       205\n",
              "Others                Low Fat                   137       137\n",
              "Seafood               Low Fat                    29        29\n",
              "                      Regular                    22        22\n",
              "Snack Foods           Low Fat                   565       565\n",
              "                      Regular                   423       423\n",
              "Soft Drinks           Low Fat                   315       315\n",
              "                      Regular                    59        59\n",
              "Starchy Foods         Low Fat                    74        74\n",
              "                      Regular                    56        56"
            ]
          },
          "metadata": {
            "tags": []
          },
          "execution_count": 40
        }
      ]
    },
    {
      "cell_type": "code",
      "metadata": {
        "colab": {
          "base_uri": "https://localhost:8080/"
        },
        "id": "Tf2pucJn-rYk",
        "outputId": "70d6f5a5-b2a2-4a53-d301-ccc87cb199cf"
      },
      "source": [
        "sales.groupby(['Item_Type'])['Item_Weight'].mean()"
      ],
      "execution_count": 41,
      "outputs": [
        {
          "output_type": "execute_result",
          "data": {
            "text/plain": [
              "Item_Type\n",
              "Baking Goods             12.277108\n",
              "Breads                   11.346936\n",
              "Breakfast                12.768202\n",
              "Canned                   12.305705\n",
              "Dairy                    13.426069\n",
              "Frozen Foods             12.867061\n",
              "Fruits and Vegetables    13.224769\n",
              "Hard Drinks              11.400328\n",
              "Health and Hygiene       13.142314\n",
              "Household                13.384736\n",
              "Meat                     12.817344\n",
              "Others                   13.853285\n",
              "Seafood                  12.552843\n",
              "Snack Foods              12.987880\n",
              "Soft Drinks              11.847460\n",
              "Starchy Foods            13.690731\n",
              "Name: Item_Weight, dtype: float64"
            ]
          },
          "metadata": {
            "tags": []
          },
          "execution_count": 41
        }
      ]
    },
    {
      "cell_type": "code",
      "metadata": {
        "colab": {
          "base_uri": "https://localhost:8080/"
        },
        "id": "Eupk3Q1o_rKB",
        "outputId": "c41bdaa5-c2a3-4e93-9f3c-d4a62f7622bf"
      },
      "source": [
        "sales.groupby(['Item_Type'])['Item_Weight'].max()"
      ],
      "execution_count": 42,
      "outputs": [
        {
          "output_type": "execute_result",
          "data": {
            "text/plain": [
              "Item_Type\n",
              "Baking Goods             20.85\n",
              "Breads                   20.85\n",
              "Breakfast                21.10\n",
              "Canned                   21.35\n",
              "Dairy                    20.70\n",
              "Frozen Foods             20.85\n",
              "Fruits and Vegetables    21.35\n",
              "Hard Drinks              19.70\n",
              "Health and Hygiene       21.25\n",
              "Household                21.25\n",
              "Meat                     21.25\n",
              "Others                   20.50\n",
              "Seafood                  20.75\n",
              "Snack Foods              21.25\n",
              "Soft Drinks              20.75\n",
              "Starchy Foods            21.20\n",
              "Name: Item_Weight, dtype: float64"
            ]
          },
          "metadata": {
            "tags": []
          },
          "execution_count": 42
        }
      ]
    },
    {
      "cell_type": "code",
      "metadata": {
        "colab": {
          "base_uri": "https://localhost:8080/"
        },
        "id": "89bapIJS_4WE",
        "outputId": "e464dd5d-0df7-404b-c0cc-0361ca156c94"
      },
      "source": [
        "print(sales.groupby(['Item_Type'])['Item_Weight'].min())"
      ],
      "execution_count": 43,
      "outputs": [
        {
          "output_type": "stream",
          "text": [
            "Item_Type\n",
            "Baking Goods             4.880\n",
            "Breads                   4.635\n",
            "Breakfast                6.425\n",
            "Canned                   4.615\n",
            "Dairy                    4.805\n",
            "Frozen Foods             4.555\n",
            "Fruits and Vegetables    5.460\n",
            "Hard Drinks              4.610\n",
            "Health and Hygiene       5.175\n",
            "Household                5.030\n",
            "Meat                     5.150\n",
            "Others                   5.500\n",
            "Seafood                  5.365\n",
            "Snack Foods              5.095\n",
            "Soft Drinks              4.590\n",
            "Starchy Foods            6.695\n",
            "Name: Item_Weight, dtype: float64\n"
          ],
          "name": "stdout"
        }
      ]
    },
    {
      "cell_type": "code",
      "metadata": {
        "colab": {
          "base_uri": "https://localhost:8080/"
        },
        "id": "RFfNnaV-J8yg",
        "outputId": "cb1f64d5-0aa7-477d-ba8e-1d1950f8dd0b"
      },
      "source": [
        "sales.loc[weight_missing, 'Item_Identifier'].count()"
      ],
      "execution_count": 44,
      "outputs": [
        {
          "output_type": "execute_result",
          "data": {
            "text/plain": [
              "1463"
            ]
          },
          "metadata": {
            "tags": []
          },
          "execution_count": 44
        }
      ]
    },
    {
      "cell_type": "code",
      "metadata": {
        "colab": {
          "base_uri": "https://localhost:8080/"
        },
        "id": "nPiRvEYiOy-u",
        "outputId": "9a588818-e93e-42dd-829d-8d521cdc1382"
      },
      "source": [
        "sales.loc[weight_missing, 'Item_Identifier'].nunique()"
      ],
      "execution_count": 45,
      "outputs": [
        {
          "output_type": "execute_result",
          "data": {
            "text/plain": [
              "1142"
            ]
          },
          "metadata": {
            "tags": []
          },
          "execution_count": 45
        }
      ]
    },
    {
      "cell_type": "code",
      "metadata": {
        "colab": {
          "base_uri": "https://localhost:8080/"
        },
        "id": "enwOy6T0BUzf",
        "outputId": "b9da0fad-dd8f-4f64-e5db-8287529db070"
      },
      "source": [
        "sales.groupby(['Item_Type', 'Item_Identifier'])['Item_Weight'].count()"
      ],
      "execution_count": 46,
      "outputs": [
        {
          "output_type": "execute_result",
          "data": {
            "text/plain": [
              "Item_Type      Item_Identifier\n",
              "Baking Goods   FDA11              4\n",
              "               FDA23              5\n",
              "               FDA35              3\n",
              "               FDA36              2\n",
              "               FDA47              5\n",
              "                                 ..\n",
              "Starchy Foods  FDG59              5\n",
              "               FDH35              5\n",
              "               FDH47              6\n",
              "               FDI35              3\n",
              "               FDZ34              3\n",
              "Name: Item_Weight, Length: 1559, dtype: int64"
            ]
          },
          "metadata": {
            "tags": []
          },
          "execution_count": 46
        }
      ]
    },
    {
      "cell_type": "code",
      "metadata": {
        "colab": {
          "base_uri": "https://localhost:8080/"
        },
        "id": "CwMQqOYRFNJY",
        "outputId": "e40239d6-4137-481e-b260-db998293f75a"
      },
      "source": [
        "# Found 2 of the NAN values that share a Type ID with 8 others. Easy to know\n",
        "# these weights are specific to this Type ID\n",
        "\n",
        "typeID_FDW13 = sales['Item_Identifier'] == 'FDW13'\n",
        "\n",
        "sales['Item_Weight'][typeID_FDW13].fillna(8.5)"
      ],
      "execution_count": 47,
      "outputs": [
        {
          "output_type": "execute_result",
          "data": {
            "text/plain": [
              "256     8.5\n",
              "1141    8.5\n",
              "2190    8.5\n",
              "3928    8.5\n",
              "3978    8.5\n",
              "6499    8.5\n",
              "6587    8.5\n",
              "7029    8.5\n",
              "8025    8.5\n",
              "8032    8.5\n",
              "Name: Item_Weight, dtype: float64"
            ]
          },
          "metadata": {
            "tags": []
          },
          "execution_count": 47
        }
      ]
    },
    {
      "cell_type": "markdown",
      "metadata": {
        "id": "MLDFncyRvIWZ"
      },
      "source": [
        "I have no idea how to make these values apply. I tried renaming the dataframe, but it not work. I also tried creating a function, but I obviously still have no idea how to work with those. Either way, I will be moving on from this strategy and filling in all missing values by either creating another category or by imputing the \"best fit\" for that column."
      ]
    },
    {
      "cell_type": "code",
      "metadata": {
        "id": "WTbDHx77Kpkr"
      },
      "source": [
        "sales['Outlet_Size'].fillna('Not Specified', inplace=True)"
      ],
      "execution_count": 48,
      "outputs": []
    },
    {
      "cell_type": "code",
      "metadata": {
        "colab": {
          "base_uri": "https://localhost:8080/"
        },
        "id": "5hZJ8A3zLgBl",
        "outputId": "b2ab35b8-81d8-4447-a067-e4c341c4b968"
      },
      "source": [
        "sales['Outlet_Size'].value_counts()"
      ],
      "execution_count": 49,
      "outputs": [
        {
          "output_type": "execute_result",
          "data": {
            "text/plain": [
              "Medium           2793\n",
              "Not Specified    2410\n",
              "Small            2388\n",
              "High              932\n",
              "Name: Outlet_Size, dtype: int64"
            ]
          },
          "metadata": {
            "tags": []
          },
          "execution_count": 49
        }
      ]
    },
    {
      "cell_type": "code",
      "metadata": {
        "id": "Zh8B9oxRv4WI"
      },
      "source": [
        "sales['Item_Weight'].fillna(0.000, inplace=True)"
      ],
      "execution_count": 50,
      "outputs": []
    },
    {
      "cell_type": "code",
      "metadata": {
        "colab": {
          "base_uri": "https://localhost:8080/"
        },
        "id": "F7LJ2pE3PnYw",
        "outputId": "ff4e6d47-07ff-4edf-bb3c-235ba9592538"
      },
      "source": [
        "sales['Item_Weight'].value_counts()"
      ],
      "execution_count": 51,
      "outputs": [
        {
          "output_type": "execute_result",
          "data": {
            "text/plain": [
              "0.000     1463\n",
              "12.150      86\n",
              "17.600      82\n",
              "13.650      77\n",
              "11.800      76\n",
              "          ... \n",
              "5.675        2\n",
              "9.420        1\n",
              "6.520        1\n",
              "7.685        1\n",
              "5.400        1\n",
              "Name: Item_Weight, Length: 416, dtype: int64"
            ]
          },
          "metadata": {
            "tags": []
          },
          "execution_count": 51
        }
      ]
    },
    {
      "cell_type": "code",
      "metadata": {
        "colab": {
          "base_uri": "https://localhost:8080/"
        },
        "id": "xlz3dGRsP-pw",
        "outputId": "1d304128-0070-4b20-f291-e66dd99f12e1"
      },
      "source": [
        "sales.isnull().sum()"
      ],
      "execution_count": 52,
      "outputs": [
        {
          "output_type": "execute_result",
          "data": {
            "text/plain": [
              "Item_Identifier              0\n",
              "Item_Weight                  0\n",
              "Item_Fat_Content             0\n",
              "Item_Type                    0\n",
              "Item_MRP                     0\n",
              "Outlet_Identifier            0\n",
              "Outlet_Establishment_Year    0\n",
              "Outlet_Size                  0\n",
              "Outlet_Location_Type         0\n",
              "Outlet_Type                  0\n",
              "Item_Outlet_Sales            0\n",
              "dtype: int64"
            ]
          },
          "metadata": {
            "tags": []
          },
          "execution_count": 52
        }
      ]
    },
    {
      "cell_type": "markdown",
      "metadata": {
        "id": "D2RaEQjgXc0H"
      },
      "source": [
        "## Removing Unwanted Data Observations"
      ]
    },
    {
      "cell_type": "code",
      "metadata": {
        "id": "JEJLUdXYTMJU",
        "colab": {
          "base_uri": "https://localhost:8080/"
        },
        "outputId": "fdc551a3-cc23-41a1-ee2f-b1ef48a97c84"
      },
      "source": [
        "# Checking for duplicates\n",
        "\n",
        "sales.duplicated().any()"
      ],
      "execution_count": 53,
      "outputs": [
        {
          "output_type": "execute_result",
          "data": {
            "text/plain": [
              "False"
            ]
          },
          "metadata": {
            "tags": []
          },
          "execution_count": 53
        }
      ]
    },
    {
      "cell_type": "markdown",
      "metadata": {
        "id": "kHo3B2T77cd9"
      },
      "source": [
        "# Part 3"
      ]
    },
    {
      "cell_type": "code",
      "metadata": {
        "id": "iWzbVl56Zpu5",
        "colab": {
          "base_uri": "https://localhost:8080/"
        },
        "outputId": "7ba3545d-dc10-4bba-8f1c-b769982e5087"
      },
      "source": [
        "sales.info()"
      ],
      "execution_count": 54,
      "outputs": [
        {
          "output_type": "stream",
          "text": [
            "<class 'pandas.core.frame.DataFrame'>\n",
            "RangeIndex: 8523 entries, 0 to 8522\n",
            "Data columns (total 11 columns):\n",
            " #   Column                     Non-Null Count  Dtype  \n",
            "---  ------                     --------------  -----  \n",
            " 0   Item_Identifier            8523 non-null   object \n",
            " 1   Item_Weight                8523 non-null   float64\n",
            " 2   Item_Fat_Content           8523 non-null   object \n",
            " 3   Item_Type                  8523 non-null   object \n",
            " 4   Item_MRP                   8523 non-null   float64\n",
            " 5   Outlet_Identifier          8523 non-null   object \n",
            " 6   Outlet_Establishment_Year  8523 non-null   int64  \n",
            " 7   Outlet_Size                8523 non-null   object \n",
            " 8   Outlet_Location_Type       8523 non-null   object \n",
            " 9   Outlet_Type                8523 non-null   object \n",
            " 10  Item_Outlet_Sales          8523 non-null   float64\n",
            "dtypes: float64(3), int64(1), object(7)\n",
            "memory usage: 732.6+ KB\n"
          ],
          "name": "stdout"
        }
      ]
    },
    {
      "cell_type": "code",
      "metadata": {
        "id": "_IGS6OUk6YlZ",
        "colab": {
          "base_uri": "https://localhost:8080/",
          "height": 393
        },
        "outputId": "eb988ef2-1aea-42bb-cdcf-f47e2d705ea2"
      },
      "source": [
        "import matplotlib.pyplot as plt\n",
        "\n",
        "plt.style.use('seaborn-muted')\n",
        "plt.figure(figsize = (9,6))\n",
        "sales['Item_MRP'].hist(bins = 30, color='#77AC30', edgecolor='white');\n",
        "plt.xlim(left = 0, right = 275)\n",
        "plt.ylim(top=475)\n",
        "plt.xlabel('MRP', fontsize = 16)\n",
        "plt.ylabel('Number of Items at MRP', fontsize = 16)\n",
        "plt.grid(axis = 'x')"
      ],
      "execution_count": 55,
      "outputs": [
        {
          "output_type": "display_data",
          "data": {
            "image/png": "[encoded data removed]",
            "text/plain": [
              "<Figure size 648x432 with 1 Axes>"
            ]
          },
          "metadata": {
            "tags": [],
            "needs_background": "light"
          }
        }
      ]
    },
    {
      "cell_type": "code",
      "metadata": {
        "id": "LW0dKDER6w9X",
        "colab": {
          "base_uri": "https://localhost:8080/"
        },
        "outputId": "1d81155f-0d26-48b6-c1c9-6c33dd1b3ba3"
      },
      "source": [
        "plt.style.available"
      ],
      "execution_count": 56,
      "outputs": [
        {
          "output_type": "execute_result",
          "data": {
            "text/plain": [
              "['Solarize_Light2',\n",
              " '_classic_test_patch',\n",
              " 'bmh',\n",
              " 'classic',\n",
              " 'dark_background',\n",
              " 'fast',\n",
              " 'fivethirtyeight',\n",
              " 'ggplot',\n",
              " 'grayscale',\n",
              " 'seaborn',\n",
              " 'seaborn-bright',\n",
              " 'seaborn-colorblind',\n",
              " 'seaborn-dark',\n",
              " 'seaborn-dark-palette',\n",
              " 'seaborn-darkgrid',\n",
              " 'seaborn-deep',\n",
              " 'seaborn-muted',\n",
              " 'seaborn-notebook',\n",
              " 'seaborn-paper',\n",
              " 'seaborn-pastel',\n",
              " 'seaborn-poster',\n",
              " 'seaborn-talk',\n",
              " 'seaborn-ticks',\n",
              " 'seaborn-white',\n",
              " 'seaborn-whitegrid',\n",
              " 'tableau-colorblind10']"
            ]
          },
          "metadata": {
            "tags": []
          },
          "execution_count": 56
        }
      ]
    },
    {
      "cell_type": "code",
      "metadata": {
        "id": "1LIWqvLmCgwM",
        "colab": {
          "base_uri": "https://localhost:8080/"
        },
        "outputId": "177b357b-7e7f-40f7-a321-32dd8605a95d"
      },
      "source": [
        "sales.info()"
      ],
      "execution_count": 57,
      "outputs": [
        {
          "output_type": "stream",
          "text": [
            "<class 'pandas.core.frame.DataFrame'>\n",
            "RangeIndex: 8523 entries, 0 to 8522\n",
            "Data columns (total 11 columns):\n",
            " #   Column                     Non-Null Count  Dtype  \n",
            "---  ------                     --------------  -----  \n",
            " 0   Item_Identifier            8523 non-null   object \n",
            " 1   Item_Weight                8523 non-null   float64\n",
            " 2   Item_Fat_Content           8523 non-null   object \n",
            " 3   Item_Type                  8523 non-null   object \n",
            " 4   Item_MRP                   8523 non-null   float64\n",
            " 5   Outlet_Identifier          8523 non-null   object \n",
            " 6   Outlet_Establishment_Year  8523 non-null   int64  \n",
            " 7   Outlet_Size                8523 non-null   object \n",
            " 8   Outlet_Location_Type       8523 non-null   object \n",
            " 9   Outlet_Type                8523 non-null   object \n",
            " 10  Item_Outlet_Sales          8523 non-null   float64\n",
            "dtypes: float64(3), int64(1), object(7)\n",
            "memory usage: 732.6+ KB\n"
          ],
          "name": "stdout"
        }
      ]
    },
    {
      "cell_type": "code",
      "metadata": {
        "id": "c1v6uMLyCBFL",
        "colab": {
          "base_uri": "https://localhost:8080/"
        },
        "outputId": "083a92af-c4d4-47bc-f4e6-2e32e2f95830"
      },
      "source": [
        "sales['Outlet_Size'].value_counts()"
      ],
      "execution_count": 58,
      "outputs": [
        {
          "output_type": "execute_result",
          "data": {
            "text/plain": [
              "Medium           2793\n",
              "Not Specified    2410\n",
              "Small            2388\n",
              "High              932\n",
              "Name: Outlet_Size, dtype: int64"
            ]
          },
          "metadata": {
            "tags": []
          },
          "execution_count": 58
        }
      ]
    },
    {
      "cell_type": "code",
      "metadata": {
        "id": "VF7hmuAs73KL",
        "colab": {
          "base_uri": "https://localhost:8080/",
          "height": 498
        },
        "outputId": "a8aba066-6668-404c-e9ba-29a7f4bd6add"
      },
      "source": [
        "plt.style.use('seaborn-talk')\n",
        "small = sales.loc[sales['Outlet_Size']=='Small', 'Item_Outlet_Sales'].values\n",
        "medium = sales.loc[sales['Outlet_Size']=='Medium', 'Item_Outlet_Sales'].values\n",
        "high = sales.loc[sales['Outlet_Size']=='High', 'Item_Outlet_Sales'].values\n",
        "plt.boxplot([small, medium, high], labels=['Smaller', 'Medium', 'Larger']);"
      ],
      "execution_count": 59,
      "outputs": [
        {
          "output_type": "stream",
          "text": [
            "/usr/local/lib/python3.7/dist-packages/numpy/core/_asarray.py:83: VisibleDeprecationWarning: Creating an ndarray from ragged nested sequences (which is a list-or-tuple of lists-or-tuples-or ndarrays with different lengths or shapes) is deprecated. If you meant to do this, you must specify 'dtype=object' when creating the ndarray\n",
            "  return array(a, dtype, copy=False, order=order)\n"
          ],
          "name": "stderr"
        },
        {
          "output_type": "display_data",
          "data": {
            "image/png": "[encoded data removed]",
            "text/plain": [
              "<Figure size 748.8x514.8 with 1 Axes>"
            ]
          },
          "metadata": {
            "tags": [],
            "needs_background": "light"
          }
        }
      ]
    },
    {
      "cell_type": "code",
      "metadata": {
        "id": "dL_lZ4AaDVr6",
        "colab": {
          "base_uri": "https://localhost:8080/",
          "height": 464
        },
        "outputId": "cd7ae77a-ca1f-4aab-a7e7-7c6d4cd289ed"
      },
      "source": [
        "import seaborn as sns\n",
        "sns.boxplot(x= 'Outlet_Size', y= 'Item_Outlet_Sales',  data= sales)\n",
        "plt.ylabel('Outlet Sales by Item', fontsize=16)\n",
        "plt.xlabel('Outlet Sales by Size', fontsize = 16);"
      ],
      "execution_count": 60,
      "outputs": [
        {
          "output_type": "display_data",
          "data": {
            "image/png": "[encoded data removed]",
            "text/plain": [
              "<Figure size 748.8x514.8 with 1 Axes>"
            ]
          },
          "metadata": {
            "tags": [],
            "needs_background": "light"
          }
        }
      ]
    },
    {
      "cell_type": "code",
      "metadata": {
        "id": "Lho73-Z7EE6B",
        "colab": {
          "base_uri": "https://localhost:8080/",
          "height": 536
        },
        "outputId": "22b6964a-803e-453f-8634-f9213d1300b7"
      },
      "source": [
        "# The only true correlation is between the item MRP and the item sales. Makes sense\n",
        "corr = sales.corr()\n",
        "\n",
        "sns.heatmap(corr, cmap= 'Pastel2', annot =True);\n",
        "plt.xticks(np.array([0.3,1.3,2,3.2]), rotation=30);"
      ],
      "execution_count": 61,
      "outputs": [
        {
          "output_type": "display_data",
          "data": {
            "image/png": "[encoded data removed]",
            "text/plain": [
              "<Figure size 748.8x514.8 with 2 Axes>"
            ]
          },
          "metadata": {
            "tags": [],
            "needs_background": "light"
          }
        }
      ]
    },
    {
      "cell_type": "code",
      "metadata": {
        "id": "sCMcxdNNGE9N",
        "colab": {
          "base_uri": "https://localhost:8080/",
          "height": 536
        },
        "outputId": "97d8a327-c714-4567-a8c8-b7680f0ccc73"
      },
      "source": [
        "# The next 3 heat maps will be based on the size of the Outlet\n",
        "# filtering will be done in order from smallest sq footage to highest\n",
        "\n",
        "sm_filter = sales.loc[sales['Outlet_Size']=='Small', :]\n",
        "sm_filter = sm_filter.corr()\n",
        "\n",
        "sns.heatmap(sm_filter, cmap = 'Purples', annot=True);\n",
        "plt.xticks(np.array([0.3,1.3,2,3.2]), rotation=30);"
      ],
      "execution_count": 62,
      "outputs": [
        {
          "output_type": "display_data",
          "data": {
            "image/png": "[encoded data removed]",
            "text/plain": [
              "<Figure size 748.8x514.8 with 2 Axes>"
            ]
          },
          "metadata": {
            "tags": [],
            "needs_background": "light"
          }
        }
      ]
    },
    {
      "cell_type": "code",
      "metadata": {
        "id": "_DsHVbtwHQRs",
        "colab": {
          "base_uri": "https://localhost:8080/",
          "height": 667
        },
        "outputId": "7be1fb81-6385-45f4-fba6-b3c1a0dbd14e"
      },
      "source": [
        "md_filter = sales.loc[sales['Outlet_Size']=='Medium', :]\n",
        "md_filter = md_filter.corr()\n",
        "\n",
        "sns.heatmap(md_filter, cmap = 'Reds', annot=True);\n",
        "plt.xticks([0.3,1.3,2,3.2], ['Item Weight', 'Item MRP', 'Outlet Establishment Year', 'Item Outlet Sales'], rotation=30)"
      ],
      "execution_count": 63,
      "outputs": [
        {
          "output_type": "execute_result",
          "data": {
            "text/plain": [
              "([<matplotlib.axis.XTick at 0x7efcc1d01a90>,\n",
              "  <matplotlib.axis.XTick at 0x7efcc1cfca10>,\n",
              "  <matplotlib.axis.XTick at 0x7efccf833890>,\n",
              "  <matplotlib.axis.XTick at 0x7efccf8920d0>],\n",
              " [Text(0.5, 0, 'Item Weight'),\n",
              "  Text(1.5, 0, 'Item MRP'),\n",
              "  Text(2.5, 0, 'Outlet Establishment Year'),\n",
              "  Text(3.5, 0, 'Item Outlet Sales')])"
            ]
          },
          "metadata": {
            "tags": []
          },
          "execution_count": 63
        },
        {
          "output_type": "display_data",
          "data": {
            "image/png": "[encoded data removed]",
            "text/plain": [
              "<Figure size 748.8x514.8 with 2 Axes>"
            ]
          },
          "metadata": {
            "tags": [],
            "needs_background": "light"
          }
        }
      ]
    },
    {
      "cell_type": "code",
      "metadata": {
        "id": "XzGNvHCEHm7E",
        "colab": {
          "base_uri": "https://localhost:8080/",
          "height": 467
        },
        "outputId": "6dcfdc03-c1b2-446e-9952-4d72706dd31f"
      },
      "source": [
        "lg_filter = sales.loc[sales['Outlet_Size']=='High', ['Item_Weight', 'Item_MRP', 'Item_Outlet_Sales']]\n",
        "lg_filter = lg_filter.corr()\n",
        "\n",
        "sns.heatmap(lg_filter, cmap = 'copper_r', annot=True);\n",
        "plt.yticks(rotation=360)"
      ],
      "execution_count": 64,
      "outputs": [
        {
          "output_type": "execute_result",
          "data": {
            "text/plain": [
              "(array([0.5, 1.5, 2.5]), <a list of 3 Text major ticklabel objects>)"
            ]
          },
          "metadata": {
            "tags": []
          },
          "execution_count": 64
        },
        {
          "output_type": "display_data",
          "data": {
            "image/png": "[encoded data removed]",
            "text/plain": [
              "<Figure size 748.8x514.8 with 2 Axes>"
            ]
          },
          "metadata": {
            "tags": [],
            "needs_background": "light"
          }
        }
      ]
    },
    {
      "cell_type": "markdown",
      "metadata": {
        "id": "b9iD8hPs6PJS"
      },
      "source": [
        "# Part 4"
      ]
    },
    {
      "cell_type": "markdown",
      "metadata": {
        "id": "0tRSaxR5uAVj"
      },
      "source": [
        "### Creating a bar chart for Location-based Sales"
      ]
    },
    {
      "cell_type": "code",
      "metadata": {
        "id": "eRjDolCBEmqA",
        "outputId": "89dae339-020d-47f8-8049-1adf41ae84bb",
        "colab": {
          "base_uri": "https://localhost:8080/"
        }
      },
      "source": [
        "spd = pd.read_csv(filename)\n",
        "meh3 = spd['Outlet_Type'] == 'Supermarket Type3'\n",
        "spd.loc[meh3, 'Outlet_Identifier'].value_counts()"
      ],
      "execution_count": 65,
      "outputs": [
        {
          "output_type": "execute_result",
          "data": {
            "text/plain": [
              "OUT027    935\n",
              "Name: Outlet_Identifier, dtype: int64"
            ]
          },
          "metadata": {
            "tags": []
          },
          "execution_count": 65
        }
      ]
    },
    {
      "cell_type": "code",
      "metadata": {
        "id": "N8R3GexfiPEt",
        "outputId": "0944d689-466c-4ec0-b14a-8dcf8a50729d",
        "colab": {
          "base_uri": "https://localhost:8080/"
        }
      },
      "source": [
        "tier = spd['Outlet_Location_Type'] == 'Tier 1'\n",
        "spd.loc[tier, ['Outlet_Type', 'Outlet_Identifier']].value_counts()"
      ],
      "execution_count": 242,
      "outputs": [
        {
          "output_type": "execute_result",
          "data": {
            "text/plain": [
              "Outlet_Type        Outlet_Identifier\n",
              "Supermarket Type1  OUT049               930\n",
              "                   OUT046               930\n",
              "Grocery Store      OUT019               528\n",
              "dtype: int64"
            ]
          },
          "metadata": {
            "tags": []
          },
          "execution_count": 242
        }
      ]
    },
    {
      "cell_type": "code",
      "metadata": {
        "id": "zJqNWU-fJH_7"
      },
      "source": [
        "spd['Outlet_Size'] = spd['Outlet_Size'].fillna('Unspecified')"
      ],
      "execution_count": 66,
      "outputs": []
    },
    {
      "cell_type": "code",
      "metadata": {
        "id": "3Y-e8zqOGlqF",
        "outputId": "b78914d6-0374-4a9b-cf09-24201f57279c",
        "colab": {
          "base_uri": "https://localhost:8080/"
        }
      },
      "source": [
        "tier_group = spd.groupby(['Outlet_Location_Type','Outlet_Size', 'Outlet_Type'])['Item_Outlet_Sales'].sum()\n",
        "tier_group"
      ],
      "execution_count": 67,
      "outputs": [
        {
          "output_type": "execute_result",
          "data": {
            "text/plain": [
              "Outlet_Location_Type  Outlet_Size  Outlet_Type      \n",
              "Tier 1                Medium       Supermarket Type1    2.183970e+06\n",
              "                      Small        Grocery Store        1.796941e+05\n",
              "                                   Supermarket Type1    2.118395e+06\n",
              "Tier 2                Small        Supermarket Type1    2.268123e+06\n",
              "                      Unspecified  Supermarket Type1    4.204191e+06\n",
              "Tier 3                High         Supermarket Type1    2.142664e+06\n",
              "                      Medium       Supermarket Type2    1.851823e+06\n",
              "                                   Supermarket Type3    3.453926e+06\n",
              "                      Unspecified  Grocery Store        1.883402e+05\n",
              "Name: Item_Outlet_Sales, dtype: float64"
            ]
          },
          "metadata": {
            "tags": []
          },
          "execution_count": 67
        }
      ]
    },
    {
      "cell_type": "code",
      "metadata": {
        "id": "6jfufB8ia1is",
        "outputId": "91be4543-2795-4130-ce68-255b1410fbba",
        "colab": {
          "base_uri": "https://localhost:8080/",
          "height": 80
        }
      },
      "source": [
        "spd.pivot_table(values='Item_Outlet_Sales',\n",
        "                 columns='Outlet_Location_Type',aggfunc=lambda x:x.sum())"
      ],
      "execution_count": 68,
      "outputs": [
        {
          "output_type": "execute_result",
          "data": {
            "text/html": [
              "<div>\n",
              "<style scoped>\n",
              "    .dataframe tbody tr th:only-of-type {\n",
              "        vertical-align: middle;\n",
              "    }\n",
              "\n",
              "    .dataframe tbody tr th {\n",
              "        vertical-align: top;\n",
              "    }\n",
              "\n",
              "    .dataframe thead th {\n",
              "        text-align: right;\n",
              "    }\n",
              "</style>\n",
              "<table border=\"1\" class=\"dataframe\">\n",
              "  <thead>\n",
              "    <tr style=\"text-align: right;\">\n",
              "      <th>Outlet_Location_Type</th>\n",
              "      <th>Tier 1</th>\n",
              "      <th>Tier 2</th>\n",
              "      <th>Tier 3</th>\n",
              "    </tr>\n",
              "  </thead>\n",
              "  <tbody>\n",
              "    <tr>\n",
              "      <th>Item_Outlet_Sales</th>\n",
              "      <td>4482059.072</td>\n",
              "      <td>6.472314e+06</td>\n",
              "      <td>7636752.632</td>\n",
              "    </tr>\n",
              "  </tbody>\n",
              "</table>\n",
              "</div>"
            ],
            "text/plain": [
              "Outlet_Location_Type       Tier 1        Tier 2       Tier 3\n",
              "Item_Outlet_Sales     4482059.072  6.472314e+06  7636752.632"
            ]
          },
          "metadata": {
            "tags": []
          },
          "execution_count": 68
        }
      ]
    },
    {
      "cell_type": "code",
      "metadata": {
        "id": "b2AJbolFN0Tf",
        "outputId": "8d93e04b-9d10-4687-c721-b1733466a044",
        "colab": {
          "base_uri": "https://localhost:8080/",
          "height": 360
        }
      },
      "source": [
        "import matplotlib.pyplot as plt\n",
        "import seaborn as sns\n",
        "\n",
        "plt.style.use('seaborn')\n",
        "Sales_byLoc = spd.pivot_table(index='Outlet_Location_Type',\n",
        "                 values='Item_Outlet_Sales',aggfunc=lambda x:x.sum())\n",
        "Sales_byLoc.plot(kind='bar',figsize=(8,5), colormap='PuBu_r', width=.8)\n",
        "plt.xlabel('Outlet Location Tier', fontsize=16)\n",
        "plt.ylabel('Total Sales', fontsize=16)\n",
        "plt.title('Sales by Location', fontsize=20)\n",
        "plt.xticks(rotation=0)\n",
        "plt.grid(axis='x')\n",
        "plt.ticklabel_format(style='Plain', axis='y')"
      ],
      "execution_count": 69,
      "outputs": [
        {
          "output_type": "display_data",
          "data": {
            "image/png": "[encoded data removed]",
            "text/plain": [
              "<Figure size 576x360 with 1 Axes>"
            ]
          },
          "metadata": {
            "tags": []
          }
        }
      ]
    },
    {
      "cell_type": "code",
      "metadata": {
        "id": "YX51jb6atEpp",
        "outputId": "87d0e654-a7bf-4a91-c8ba-91f66b13edb4",
        "colab": {
          "base_uri": "https://localhost:8080/"
        }
      },
      "source": [
        "sales['Outlet_Location_Type'].value_counts()"
      ],
      "execution_count": 70,
      "outputs": [
        {
          "output_type": "execute_result",
          "data": {
            "text/plain": [
              "Tier 3    3350\n",
              "Tier 2    2785\n",
              "Tier 1    2388\n",
              "Name: Outlet_Location_Type, dtype: int64"
            ]
          },
          "metadata": {
            "tags": []
          },
          "execution_count": 70
        }
      ]
    },
    {
      "cell_type": "code",
      "metadata": {
        "id": "KZu_DiVitjKQ",
        "outputId": "316b37b9-8ca5-4a8d-ffcd-d49311b9bba0",
        "colab": {
          "base_uri": "https://localhost:8080/"
        }
      },
      "source": [
        "print('Tier 1 =' + str((round(2388/len(sales['Outlet_Location_Type']), 2))))\n",
        "print('Tier 2 =' + str((round(2785/len(sales['Outlet_Location_Type']), 2))))\n",
        "print('Tier 3 =' + str((round(3350/len(sales['Outlet_Location_Type']), 2))))"
      ],
      "execution_count": 71,
      "outputs": [
        {
          "output_type": "stream",
          "text": [
            "Tier 1 =0.28\n",
            "Tier 2 =0.33\n",
            "Tier 3 =0.39\n"
          ],
          "name": "stdout"
        }
      ]
    },
    {
      "cell_type": "code",
      "metadata": {
        "id": "bKhxX0nyTa4j"
      },
      "source": [
        "import matplotlib.pyplot as plt\n",
        "import numpy as np\n",
        "import seaborn as sns"
      ],
      "execution_count": 72,
      "outputs": []
    },
    {
      "cell_type": "code",
      "metadata": {
        "id": "P0aFATvXYG-g",
        "colab": {
          "base_uri": "https://localhost:8080/"
        },
        "outputId": "efbc1d5f-695f-48e7-be51-a719abf381ad"
      },
      "source": [
        "uniqueItems = sales.groupby(['Outlet_Establishment_Year'])['Outlet_Identifier'].nunique()\n",
        "\n",
        "uniqueItems"
      ],
      "execution_count": 73,
      "outputs": [
        {
          "output_type": "execute_result",
          "data": {
            "text/plain": [
              "Outlet_Establishment_Year\n",
              "1985    2\n",
              "1987    1\n",
              "1997    1\n",
              "1998    1\n",
              "1999    1\n",
              "2002    1\n",
              "2004    1\n",
              "2007    1\n",
              "2009    1\n",
              "Name: Outlet_Identifier, dtype: int64"
            ]
          },
          "metadata": {
            "tags": []
          },
          "execution_count": 73
        }
      ]
    },
    {
      "cell_type": "code",
      "metadata": {
        "id": "521EWnipat9D",
        "colab": {
          "base_uri": "https://localhost:8080/",
          "height": 381
        },
        "outputId": "e6ebbcff-13ca-401d-d7d3-c32ae3112e2d"
      },
      "source": [
        "plt.bar(uniqueItems.index, uniqueItems.values)\n",
        "plt.yticks(np.arange(3), [0, 1, 2])\n",
        "plt.title('Number of Outlets Established by Year', fontsize = 16)\n",
        "plt.ylabel('Count', fontsize= 13)\n",
        "plt.xlabel('Year of Establishment', fontsize = 13);"
      ],
      "execution_count": 74,
      "outputs": [
        {
          "output_type": "display_data",
          "data": {
            "image/png": "[encoded data removed]",
            "text/plain": [
              "<Figure size 576x396 with 1 Axes>"
            ]
          },
          "metadata": {
            "tags": []
          }
        }
      ]
    },
    {
      "cell_type": "code",
      "metadata": {
        "colab": {
          "base_uri": "https://localhost:8080/"
        },
        "id": "TEonY0G_XXEc",
        "outputId": "126a813b-f55f-4075-c0a7-7afb4bea34a3"
      },
      "source": [
        "itemsSold = sales.groupby(['Outlet_Establishment_Year', 'Outlet_Identifier'])['Item_Identifier'].nunique()\n",
        "\n",
        "itemsSold"
      ],
      "execution_count": 75,
      "outputs": [
        {
          "output_type": "execute_result",
          "data": {
            "text/plain": [
              "Outlet_Establishment_Year  Outlet_Identifier\n",
              "1985                       OUT019               528\n",
              "                           OUT027               935\n",
              "1987                       OUT013               932\n",
              "1997                       OUT046               930\n",
              "1998                       OUT010               555\n",
              "1999                       OUT049               930\n",
              "2002                       OUT045               929\n",
              "2004                       OUT035               930\n",
              "2007                       OUT017               926\n",
              "2009                       OUT018               928\n",
              "Name: Item_Identifier, dtype: int64"
            ]
          },
          "metadata": {
            "tags": []
          },
          "execution_count": 75
        }
      ]
    },
    {
      "cell_type": "code",
      "metadata": {
        "colab": {
          "base_uri": "https://localhost:8080/"
        },
        "id": "wXVfP2BUSetK",
        "outputId": "bbbb3591-5f5d-43e1-9561-1ef808bf30a2"
      },
      "source": [
        "soldbyOutlet = itemsSold.index.droplevel(level=0)\n",
        "\n",
        "soldbyOutlet"
      ],
      "execution_count": 76,
      "outputs": [
        {
          "output_type": "execute_result",
          "data": {
            "text/plain": [
              "Index(['OUT019', 'OUT027', 'OUT013', 'OUT046', 'OUT010', 'OUT049', 'OUT045',\n",
              "       'OUT035', 'OUT017', 'OUT018'],\n",
              "      dtype='object', name='Outlet_Identifier')"
            ]
          },
          "metadata": {
            "tags": []
          },
          "execution_count": 76
        }
      ]
    },
    {
      "cell_type": "code",
      "metadata": {
        "id": "frsdgwtnffS9",
        "colab": {
          "base_uri": "https://localhost:8080/"
        },
        "outputId": "55d40406-98c1-41d2-8912-5c7ee1a1c2d6"
      },
      "source": [
        "itemsSold.values"
      ],
      "execution_count": 77,
      "outputs": [
        {
          "output_type": "execute_result",
          "data": {
            "text/plain": [
              "array([528, 935, 932, 930, 555, 930, 929, 930, 926, 928])"
            ]
          },
          "metadata": {
            "tags": []
          },
          "execution_count": 77
        }
      ]
    },
    {
      "cell_type": "code",
      "metadata": {
        "id": "iGA62RRhjhO5",
        "colab": {
          "base_uri": "https://localhost:8080/",
          "height": 410
        },
        "outputId": "f423eeb5-9e69-46b8-b7ba-a2f5dbf943b7"
      },
      "source": [
        "sns.barplot(x = soldbyOutlet, y = itemsSold.values)\n",
        "plt.xticks(rotation= 90);\n",
        "plt.title('Number of Items Sold by Outlet', fontsize = 18)\n",
        "plt.xlabel('Outlet Identifier', fontsize = 15)\n",
        "plt.xlabel('(in order of Year Established 1985-2009)', fontsize = 13)\n",
        "plt.ylabel('Total', fontsize = 15);"
      ],
      "execution_count": 78,
      "outputs": [
        {
          "output_type": "display_data",
          "data": {
            "image/png": "[encoded data removed]",
            "text/plain": [
              "<Figure size 576x396 with 1 Axes>"
            ]
          },
          "metadata": {
            "tags": []
          }
        }
      ]
    },
    {
      "cell_type": "code",
      "metadata": {
        "colab": {
          "base_uri": "https://localhost:8080/"
        },
        "id": "CQpv-M4CUteW",
        "outputId": "6f7c6ecd-b9e9-4c09-a725-817df4696ffc"
      },
      "source": [
        "salesbyLocation = sales.groupby(['Outlet_Location_Type'])['Item_Outlet_Sales'].mean()\n",
        "\n",
        "salesbyLocation"
      ],
      "execution_count": 79,
      "outputs": [
        {
          "output_type": "execute_result",
          "data": {
            "text/plain": [
              "Outlet_Location_Type\n",
              "Tier 1    1876.909159\n",
              "Tier 2    2323.990559\n",
              "Tier 3    2279.627651\n",
              "Name: Item_Outlet_Sales, dtype: float64"
            ]
          },
          "metadata": {
            "tags": []
          },
          "execution_count": 79
        }
      ]
    },
    {
      "cell_type": "markdown",
      "metadata": {
        "id": "gCexfOAvmlqJ"
      },
      "source": [
        "# Part 5"
      ]
    },
    {
      "cell_type": "code",
      "metadata": {
        "id": "ku0-QQOTkfZ3"
      },
      "source": [
        "from sklearn.linear_model import LinearRegression\n",
        "from sklearn.neighbors import KNeighborsRegressor\n",
        "from sklearn.preprocessing import StandardScaler\n",
        "from sklearn.metrics import r2_score, mean_squared_error, mean_absolute_error"
      ],
      "execution_count": 80,
      "outputs": []
    },
    {
      "cell_type": "code",
      "metadata": {
        "id": "qOtSofNKH9cz",
        "colab": {
          "base_uri": "https://localhost:8080/"
        },
        "outputId": "8de9fa7b-af36-4b8a-92a1-f525c883a61c"
      },
      "source": [
        "sales.info()"
      ],
      "execution_count": 81,
      "outputs": [
        {
          "output_type": "stream",
          "text": [
            "<class 'pandas.core.frame.DataFrame'>\n",
            "RangeIndex: 8523 entries, 0 to 8522\n",
            "Data columns (total 11 columns):\n",
            " #   Column                     Non-Null Count  Dtype  \n",
            "---  ------                     --------------  -----  \n",
            " 0   Item_Identifier            8523 non-null   object \n",
            " 1   Item_Weight                8523 non-null   float64\n",
            " 2   Item_Fat_Content           8523 non-null   object \n",
            " 3   Item_Type                  8523 non-null   object \n",
            " 4   Item_MRP                   8523 non-null   float64\n",
            " 5   Outlet_Identifier          8523 non-null   object \n",
            " 6   Outlet_Establishment_Year  8523 non-null   int64  \n",
            " 7   Outlet_Size                8523 non-null   object \n",
            " 8   Outlet_Location_Type       8523 non-null   object \n",
            " 9   Outlet_Type                8523 non-null   object \n",
            " 10  Item_Outlet_Sales          8523 non-null   float64\n",
            "dtypes: float64(3), int64(1), object(7)\n",
            "memory usage: 732.6+ KB\n"
          ],
          "name": "stdout"
        }
      ]
    },
    {
      "cell_type": "code",
      "metadata": {
        "id": "oq6be8Dcmre0",
        "colab": {
          "base_uri": "https://localhost:8080/"
        },
        "outputId": "07f494e4-fd26-437e-d0a1-1d68c71cb53c"
      },
      "source": [
        "sales['Outlet_Size'].value_counts()"
      ],
      "execution_count": 82,
      "outputs": [
        {
          "output_type": "execute_result",
          "data": {
            "text/plain": [
              "Medium           2793\n",
              "Not Specified    2410\n",
              "Small            2388\n",
              "High              932\n",
              "Name: Outlet_Size, dtype: int64"
            ]
          },
          "metadata": {
            "tags": []
          },
          "execution_count": 82
        }
      ]
    },
    {
      "cell_type": "code",
      "metadata": {
        "id": "SBZ-ifo-nb_w",
        "colab": {
          "base_uri": "https://localhost:8080/",
          "height": 287
        },
        "outputId": "0928c9d9-d604-496b-a9c0-0b09a8bab875"
      },
      "source": [
        "# Outlet_Size is ordinal so I am replacing the store sizes with numbered columns.\n",
        "# For now I am keeping the Not Specified data as it's a substantial portion of this\n",
        "# ths columns data. I don't want to rid of this column because I believe this column\n",
        "# in terms of predicting individual item sales. However, it's possible the Outlet_Identifier\n",
        "# is a sufficient replacement for the outlet size column.\n",
        "\n",
        "mod_sales = sales\n",
        "mod_sales['Outlet_Size'] = sales['Outlet_Size'].replace({'Not Specified' : 0,\n",
        "                                                     'Small' : 1,\n",
        "                                                     'Medium' : 2,\n",
        "                                                     'High' : 3})\n",
        "mod_sales.head()"
      ],
      "execution_count": 83,
      "outputs": [
        {
          "output_type": "execute_result",
          "data": {
            "text/html": [
              "<div>\n",
              "<style scoped>\n",
              "    .dataframe tbody tr th:only-of-type {\n",
              "        vertical-align: middle;\n",
              "    }\n",
              "\n",
              "    .dataframe tbody tr th {\n",
              "        vertical-align: top;\n",
              "    }\n",
              "\n",
              "    .dataframe thead th {\n",
              "        text-align: right;\n",
              "    }\n",
              "</style>\n",
              "<table border=\"1\" class=\"dataframe\">\n",
              "  <thead>\n",
              "    <tr style=\"text-align: right;\">\n",
              "      <th></th>\n",
              "      <th>Item_Identifier</th>\n",
              "      <th>Item_Weight</th>\n",
              "      <th>Item_Fat_Content</th>\n",
              "      <th>Item_Type</th>\n",
              "      <th>Item_MRP</th>\n",
              "      <th>Outlet_Identifier</th>\n",
              "      <th>Outlet_Establishment_Year</th>\n",
              "      <th>Outlet_Size</th>\n",
              "      <th>Outlet_Location_Type</th>\n",
              "      <th>Outlet_Type</th>\n",
              "      <th>Item_Outlet_Sales</th>\n",
              "    </tr>\n",
              "  </thead>\n",
              "  <tbody>\n",
              "    <tr>\n",
              "      <th>0</th>\n",
              "      <td>FDA15</td>\n",
              "      <td>9.30</td>\n",
              "      <td>Low Fat</td>\n",
              "      <td>Dairy</td>\n",
              "      <td>249.8092</td>\n",
              "      <td>OUT049</td>\n",
              "      <td>1999</td>\n",
              "      <td>2</td>\n",
              "      <td>Tier 1</td>\n",
              "      <td>Supermarket Type1</td>\n",
              "      <td>3735.1380</td>\n",
              "    </tr>\n",
              "    <tr>\n",
              "      <th>1</th>\n",
              "      <td>DRC01</td>\n",
              "      <td>5.92</td>\n",
              "      <td>Regular</td>\n",
              "      <td>Soft Drinks</td>\n",
              "      <td>48.2692</td>\n",
              "      <td>OUT018</td>\n",
              "      <td>2009</td>\n",
              "      <td>2</td>\n",
              "      <td>Tier 3</td>\n",
              "      <td>Supermarket Type2</td>\n",
              "      <td>443.4228</td>\n",
              "    </tr>\n",
              "    <tr>\n",
              "      <th>2</th>\n",
              "      <td>FDN15</td>\n",
              "      <td>17.50</td>\n",
              "      <td>Low Fat</td>\n",
              "      <td>Meat</td>\n",
              "      <td>141.6180</td>\n",
              "      <td>OUT049</td>\n",
              "      <td>1999</td>\n",
              "      <td>2</td>\n",
              "      <td>Tier 1</td>\n",
              "      <td>Supermarket Type1</td>\n",
              "      <td>2097.2700</td>\n",
              "    </tr>\n",
              "    <tr>\n",
              "      <th>3</th>\n",
              "      <td>FDX07</td>\n",
              "      <td>19.20</td>\n",
              "      <td>Regular</td>\n",
              "      <td>Fruits and Vegetables</td>\n",
              "      <td>182.0950</td>\n",
              "      <td>OUT010</td>\n",
              "      <td>1998</td>\n",
              "      <td>0</td>\n",
              "      <td>Tier 3</td>\n",
              "      <td>Grocery Store</td>\n",
              "      <td>732.3800</td>\n",
              "    </tr>\n",
              "    <tr>\n",
              "      <th>4</th>\n",
              "      <td>NCD19</td>\n",
              "      <td>8.93</td>\n",
              "      <td>Low Fat</td>\n",
              "      <td>Household</td>\n",
              "      <td>53.8614</td>\n",
              "      <td>OUT013</td>\n",
              "      <td>1987</td>\n",
              "      <td>3</td>\n",
              "      <td>Tier 3</td>\n",
              "      <td>Supermarket Type1</td>\n",
              "      <td>994.7052</td>\n",
              "    </tr>\n",
              "  </tbody>\n",
              "</table>\n",
              "</div>"
            ],
            "text/plain": [
              "  Item_Identifier  Item_Weight  ...        Outlet_Type Item_Outlet_Sales\n",
              "0           FDA15         9.30  ...  Supermarket Type1         3735.1380\n",
              "1           DRC01         5.92  ...  Supermarket Type2          443.4228\n",
              "2           FDN15        17.50  ...  Supermarket Type1         2097.2700\n",
              "3           FDX07        19.20  ...      Grocery Store          732.3800\n",
              "4           NCD19         8.93  ...  Supermarket Type1          994.7052\n",
              "\n",
              "[5 rows x 11 columns]"
            ]
          },
          "metadata": {
            "tags": []
          },
          "execution_count": 83
        }
      ]
    },
    {
      "cell_type": "code",
      "metadata": {
        "id": "lLorBvWAok4y",
        "colab": {
          "base_uri": "https://localhost:8080/",
          "height": 617
        },
        "outputId": "236e429c-e36b-456e-8194-104af184c48f"
      },
      "source": [
        "# This confirms that I will not use the Item_Weight initially as a column for my features.\n",
        "# There are way too many zero'd figures to rely on this column to teach our model appropriately.\n",
        "# Removing the rows with zeros at this point will impact this dataset too greatly so I may\n",
        "# run another model with the rows containing zeros filtered out. It will just be a smaller dataset.\n",
        "\n",
        "mod_sales.loc[:,:].hist(bins=25,\n",
        "                 figsize=(16, 10),\n",
        "                 xlabelsize='10',\n",
        "                 ylabelsize='10', xrot=-25);"
      ],
      "execution_count": 84,
      "outputs": [
        {
          "output_type": "display_data",
          "data": {
            "image/png": "[encoded data removed]",
            "text/plain": [
              "<Figure size 1152x720 with 6 Axes>"
            ]
          },
          "metadata": {
            "tags": []
          }
        }
      ]
    },
    {
      "cell_type": "code",
      "metadata": {
        "id": "1lEqjkucw8Fl",
        "outputId": "b08ae41f-f21f-4519-f7f6-41a15882f099",
        "colab": {
          "base_uri": "https://localhost:8080/"
        }
      },
      "source": [
        "plt.style.available"
      ],
      "execution_count": 85,
      "outputs": [
        {
          "output_type": "execute_result",
          "data": {
            "text/plain": [
              "['Solarize_Light2',\n",
              " '_classic_test_patch',\n",
              " 'bmh',\n",
              " 'classic',\n",
              " 'dark_background',\n",
              " 'fast',\n",
              " 'fivethirtyeight',\n",
              " 'ggplot',\n",
              " 'grayscale',\n",
              " 'seaborn',\n",
              " 'seaborn-bright',\n",
              " 'seaborn-colorblind',\n",
              " 'seaborn-dark',\n",
              " 'seaborn-dark-palette',\n",
              " 'seaborn-darkgrid',\n",
              " 'seaborn-deep',\n",
              " 'seaborn-muted',\n",
              " 'seaborn-notebook',\n",
              " 'seaborn-paper',\n",
              " 'seaborn-pastel',\n",
              " 'seaborn-poster',\n",
              " 'seaborn-talk',\n",
              " 'seaborn-ticks',\n",
              " 'seaborn-white',\n",
              " 'seaborn-whitegrid',\n",
              " 'tableau-colorblind10']"
            ]
          },
          "metadata": {
            "tags": []
          },
          "execution_count": 85
        }
      ]
    },
    {
      "cell_type": "code",
      "metadata": {
        "id": "Qvbb-oLEKgZm",
        "outputId": "eee7a81e-6090-4d8d-84d8-415d1f5c7613",
        "colab": {
          "base_uri": "https://localhost:8080/"
        }
      },
      "source": [
        "mod_sales['Item_Outlet_Sales'].max()"
      ],
      "execution_count": 86,
      "outputs": [
        {
          "output_type": "execute_result",
          "data": {
            "text/plain": [
              "13086.9648"
            ]
          },
          "metadata": {
            "tags": []
          },
          "execution_count": 86
        }
      ]
    },
    {
      "cell_type": "code",
      "metadata": {
        "id": "CgzsL_GlvzMk",
        "outputId": "026246f2-8d56-49bc-f048-ad5b03d51975",
        "colab": {
          "base_uri": "https://localhost:8080/",
          "height": 387
        }
      },
      "source": [
        "plt.style.use('ggplot')\n",
        "mod_sales['Item_Outlet_Sales'].hist(bins=25, edgecolor='black')\n",
        "plt.title('Outlet Sales', fontsize=20)\n",
        "plt.xlabel('Items Sold', fontsize=16)\n",
        "plt.ylabel('Sales Price of Items Sold', fontsize=16);"
      ],
      "execution_count": 87,
      "outputs": [
        {
          "output_type": "display_data",
          "data": {
            "image/png": "[encoded data removed]",
            "text/plain": [
              "<Figure size 576x396 with 1 Axes>"
            ]
          },
          "metadata": {
            "tags": []
          }
        }
      ]
    },
    {
      "cell_type": "code",
      "metadata": {
        "id": "pbuQjUK27R1F",
        "outputId": "1d0b60cc-0039-42aa-83d2-be23fb7931a6",
        "colab": {
          "base_uri": "https://localhost:8080/"
        }
      },
      "source": [
        "mod_sales['Item_Outlet_Sales'].count()"
      ],
      "execution_count": 88,
      "outputs": [
        {
          "output_type": "execute_result",
          "data": {
            "text/plain": [
              "8523"
            ]
          },
          "metadata": {
            "tags": []
          },
          "execution_count": 88
        }
      ]
    },
    {
      "cell_type": "code",
      "metadata": {
        "id": "lb6iCigG5kd3",
        "outputId": "f51f467d-a5a2-4305-c064-072465970831",
        "colab": {
          "base_uri": "https://localhost:8080/"
        }
      },
      "source": [
        "print(mod_sales['Item_Outlet_Sales'].max())\n",
        "print(mod_sales['Item_Outlet_Sales'].min())\n",
        "print(mod_sales['Item_Outlet_Sales'].mean())\n",
        "print(mod_sales['Item_Outlet_Sales'].sum())"
      ],
      "execution_count": 89,
      "outputs": [
        {
          "output_type": "stream",
          "text": [
            "13086.9648\n",
            "33.29\n",
            "2181.2889135750365\n",
            "18591125.410399996\n"
          ],
          "name": "stdout"
        }
      ]
    },
    {
      "cell_type": "code",
      "metadata": {
        "id": "i8Tirl9A8Jbn",
        "outputId": "bcf0826d-3294-4f9d-acc5-b7a1cdc6eec2",
        "colab": {
          "base_uri": "https://localhost:8080/"
        }
      },
      "source": [
        "13086.9648/2"
      ],
      "execution_count": 90,
      "outputs": [
        {
          "output_type": "execute_result",
          "data": {
            "text/plain": [
              "6543.4824"
            ]
          },
          "metadata": {
            "tags": []
          },
          "execution_count": 90
        }
      ]
    },
    {
      "cell_type": "code",
      "metadata": {
        "id": "6Vi3Jd9Q6CSc"
      },
      "source": [
        "prices = mod_sales['Item_Outlet_Sales'] <= 6543.4824"
      ],
      "execution_count": 91,
      "outputs": []
    },
    {
      "cell_type": "code",
      "metadata": {
        "id": "e94Whqj46QCT",
        "outputId": "9a90eab0-41f0-4455-e509-2906951cb613",
        "colab": {
          "base_uri": "https://localhost:8080/"
        }
      },
      "source": [
        "mod_sales.loc[prices, 'Item_Outlet_Sales'].count()"
      ],
      "execution_count": 92,
      "outputs": [
        {
          "output_type": "execute_result",
          "data": {
            "text/plain": [
              "8343"
            ]
          },
          "metadata": {
            "tags": []
          },
          "execution_count": 92
        }
      ]
    },
    {
      "cell_type": "code",
      "metadata": {
        "id": "83rZzlix7-iW",
        "outputId": "c447ca19-8c94-4c47-b904-c18deca1ce46",
        "colab": {
          "base_uri": "https://localhost:8080/"
        }
      },
      "source": [
        "8343/8523"
      ],
      "execution_count": 93,
      "outputs": [
        {
          "output_type": "execute_result",
          "data": {
            "text/plain": [
              "0.9788806758183738"
            ]
          },
          "metadata": {
            "tags": []
          },
          "execution_count": 93
        }
      ]
    },
    {
      "cell_type": "code",
      "metadata": {
        "id": "ukcRBnFz-4wF",
        "colab": {
          "base_uri": "https://localhost:8080/"
        },
        "outputId": "e8765c82-b465-42d6-90b1-60e2969669ce"
      },
      "source": [
        "sales['Item_Fat_Content'].value_counts()"
      ],
      "execution_count": 94,
      "outputs": [
        {
          "output_type": "execute_result",
          "data": {
            "text/plain": [
              "Low Fat    5517\n",
              "Regular    3006\n",
              "Name: Item_Fat_Content, dtype: int64"
            ]
          },
          "metadata": {
            "tags": []
          },
          "execution_count": 94
        }
      ]
    },
    {
      "cell_type": "code",
      "metadata": {
        "id": "ig0ZtVHy8LBh"
      },
      "source": [
        "# The Item_Fat_Content column can be considered ordinal\n",
        "\n",
        "mod_sales['Item_Fat_Content'].replace({'Low Fat' : 0,\n",
        "                                       'Regular' : 1}, inplace=True)"
      ],
      "execution_count": 95,
      "outputs": []
    },
    {
      "cell_type": "code",
      "metadata": {
        "id": "iJexNucv_IsB",
        "colab": {
          "base_uri": "https://localhost:8080/",
          "height": 287
        },
        "outputId": "56ddf9ae-ead2-4fd7-f707-8c6b44ddee6d"
      },
      "source": [
        "mod_sales.head()"
      ],
      "execution_count": 96,
      "outputs": [
        {
          "output_type": "execute_result",
          "data": {
            "text/html": [
              "<div>\n",
              "<style scoped>\n",
              "    .dataframe tbody tr th:only-of-type {\n",
              "        vertical-align: middle;\n",
              "    }\n",
              "\n",
              "    .dataframe tbody tr th {\n",
              "        vertical-align: top;\n",
              "    }\n",
              "\n",
              "    .dataframe thead th {\n",
              "        text-align: right;\n",
              "    }\n",
              "</style>\n",
              "<table border=\"1\" class=\"dataframe\">\n",
              "  <thead>\n",
              "    <tr style=\"text-align: right;\">\n",
              "      <th></th>\n",
              "      <th>Item_Identifier</th>\n",
              "      <th>Item_Weight</th>\n",
              "      <th>Item_Fat_Content</th>\n",
              "      <th>Item_Type</th>\n",
              "      <th>Item_MRP</th>\n",
              "      <th>Outlet_Identifier</th>\n",
              "      <th>Outlet_Establishment_Year</th>\n",
              "      <th>Outlet_Size</th>\n",
              "      <th>Outlet_Location_Type</th>\n",
              "      <th>Outlet_Type</th>\n",
              "      <th>Item_Outlet_Sales</th>\n",
              "    </tr>\n",
              "  </thead>\n",
              "  <tbody>\n",
              "    <tr>\n",
              "      <th>0</th>\n",
              "      <td>FDA15</td>\n",
              "      <td>9.30</td>\n",
              "      <td>0</td>\n",
              "      <td>Dairy</td>\n",
              "      <td>249.8092</td>\n",
              "      <td>OUT049</td>\n",
              "      <td>1999</td>\n",
              "      <td>2</td>\n",
              "      <td>Tier 1</td>\n",
              "      <td>Supermarket Type1</td>\n",
              "      <td>3735.1380</td>\n",
              "    </tr>\n",
              "    <tr>\n",
              "      <th>1</th>\n",
              "      <td>DRC01</td>\n",
              "      <td>5.92</td>\n",
              "      <td>1</td>\n",
              "      <td>Soft Drinks</td>\n",
              "      <td>48.2692</td>\n",
              "      <td>OUT018</td>\n",
              "      <td>2009</td>\n",
              "      <td>2</td>\n",
              "      <td>Tier 3</td>\n",
              "      <td>Supermarket Type2</td>\n",
              "      <td>443.4228</td>\n",
              "    </tr>\n",
              "    <tr>\n",
              "      <th>2</th>\n",
              "      <td>FDN15</td>\n",
              "      <td>17.50</td>\n",
              "      <td>0</td>\n",
              "      <td>Meat</td>\n",
              "      <td>141.6180</td>\n",
              "      <td>OUT049</td>\n",
              "      <td>1999</td>\n",
              "      <td>2</td>\n",
              "      <td>Tier 1</td>\n",
              "      <td>Supermarket Type1</td>\n",
              "      <td>2097.2700</td>\n",
              "    </tr>\n",
              "    <tr>\n",
              "      <th>3</th>\n",
              "      <td>FDX07</td>\n",
              "      <td>19.20</td>\n",
              "      <td>1</td>\n",
              "      <td>Fruits and Vegetables</td>\n",
              "      <td>182.0950</td>\n",
              "      <td>OUT010</td>\n",
              "      <td>1998</td>\n",
              "      <td>0</td>\n",
              "      <td>Tier 3</td>\n",
              "      <td>Grocery Store</td>\n",
              "      <td>732.3800</td>\n",
              "    </tr>\n",
              "    <tr>\n",
              "      <th>4</th>\n",
              "      <td>NCD19</td>\n",
              "      <td>8.93</td>\n",
              "      <td>0</td>\n",
              "      <td>Household</td>\n",
              "      <td>53.8614</td>\n",
              "      <td>OUT013</td>\n",
              "      <td>1987</td>\n",
              "      <td>3</td>\n",
              "      <td>Tier 3</td>\n",
              "      <td>Supermarket Type1</td>\n",
              "      <td>994.7052</td>\n",
              "    </tr>\n",
              "  </tbody>\n",
              "</table>\n",
              "</div>"
            ],
            "text/plain": [
              "  Item_Identifier  Item_Weight  ...        Outlet_Type Item_Outlet_Sales\n",
              "0           FDA15         9.30  ...  Supermarket Type1         3735.1380\n",
              "1           DRC01         5.92  ...  Supermarket Type2          443.4228\n",
              "2           FDN15        17.50  ...  Supermarket Type1         2097.2700\n",
              "3           FDX07        19.20  ...      Grocery Store          732.3800\n",
              "4           NCD19         8.93  ...  Supermarket Type1          994.7052\n",
              "\n",
              "[5 rows x 11 columns]"
            ]
          },
          "metadata": {
            "tags": []
          },
          "execution_count": 96
        }
      ]
    },
    {
      "cell_type": "code",
      "metadata": {
        "id": "kB18thyI_KYx",
        "colab": {
          "base_uri": "https://localhost:8080/"
        },
        "outputId": "5aefd3eb-8b5d-4eae-b2a5-3abc5363e224"
      },
      "source": [
        "sales['Item_Type'].value_counts()"
      ],
      "execution_count": 97,
      "outputs": [
        {
          "output_type": "execute_result",
          "data": {
            "text/plain": [
              "Fruits and Vegetables    1232\n",
              "Snack Foods              1200\n",
              "Household                 910\n",
              "Frozen Foods              856\n",
              "Dairy                     682\n",
              "Canned                    649\n",
              "Baking Goods              648\n",
              "Health and Hygiene        520\n",
              "Soft Drinks               445\n",
              "Meat                      425\n",
              "Breads                    251\n",
              "Hard Drinks               214\n",
              "Others                    169\n",
              "Starchy Foods             148\n",
              "Breakfast                 110\n",
              "Seafood                    64\n",
              "Name: Item_Type, dtype: int64"
            ]
          },
          "metadata": {
            "tags": []
          },
          "execution_count": 97
        }
      ]
    },
    {
      "cell_type": "code",
      "metadata": {
        "id": "1pBoFIYW_guc",
        "colab": {
          "base_uri": "https://localhost:8080/"
        },
        "outputId": "15f30cba-ba11-41cd-853b-7e33319e1112"
      },
      "source": [
        "sales['Outlet_Establishment_Year'].value_counts()"
      ],
      "execution_count": 98,
      "outputs": [
        {
          "output_type": "execute_result",
          "data": {
            "text/plain": [
              "1985    1463\n",
              "1987     932\n",
              "1999     930\n",
              "1997     930\n",
              "2004     930\n",
              "2002     929\n",
              "2009     928\n",
              "2007     926\n",
              "1998     555\n",
              "Name: Outlet_Establishment_Year, dtype: int64"
            ]
          },
          "metadata": {
            "tags": []
          },
          "execution_count": 98
        }
      ]
    },
    {
      "cell_type": "code",
      "metadata": {
        "id": "hTjI195GAMhx"
      },
      "source": [
        "# The Outlet_Establishment_Year column is also ordinal\n",
        "\n",
        "mod_sales['Outlet_Establishment_Year'].replace({1985 : 0,\n",
        "                                            1987 : 1,\n",
        "                                            1997 : 2,\n",
        "                                            1998 : 3,\n",
        "                                            1999 : 4,\n",
        "                                            2002 : 5,\n",
        "                                            2004 : 6,\n",
        "                                            2007 : 7,\n",
        "                                            2009 : 8}, inplace= True)"
      ],
      "execution_count": 99,
      "outputs": []
    },
    {
      "cell_type": "code",
      "metadata": {
        "id": "quEDxPeWCju7",
        "colab": {
          "base_uri": "https://localhost:8080/",
          "height": 287
        },
        "outputId": "91f21e4f-9799-48e6-87c7-74bf890e7f8c"
      },
      "source": [
        "mod_sales.head()"
      ],
      "execution_count": 100,
      "outputs": [
        {
          "output_type": "execute_result",
          "data": {
            "text/html": [
              "<div>\n",
              "<style scoped>\n",
              "    .dataframe tbody tr th:only-of-type {\n",
              "        vertical-align: middle;\n",
              "    }\n",
              "\n",
              "    .dataframe tbody tr th {\n",
              "        vertical-align: top;\n",
              "    }\n",
              "\n",
              "    .dataframe thead th {\n",
              "        text-align: right;\n",
              "    }\n",
              "</style>\n",
              "<table border=\"1\" class=\"dataframe\">\n",
              "  <thead>\n",
              "    <tr style=\"text-align: right;\">\n",
              "      <th></th>\n",
              "      <th>Item_Identifier</th>\n",
              "      <th>Item_Weight</th>\n",
              "      <th>Item_Fat_Content</th>\n",
              "      <th>Item_Type</th>\n",
              "      <th>Item_MRP</th>\n",
              "      <th>Outlet_Identifier</th>\n",
              "      <th>Outlet_Establishment_Year</th>\n",
              "      <th>Outlet_Size</th>\n",
              "      <th>Outlet_Location_Type</th>\n",
              "      <th>Outlet_Type</th>\n",
              "      <th>Item_Outlet_Sales</th>\n",
              "    </tr>\n",
              "  </thead>\n",
              "  <tbody>\n",
              "    <tr>\n",
              "      <th>0</th>\n",
              "      <td>FDA15</td>\n",
              "      <td>9.30</td>\n",
              "      <td>0</td>\n",
              "      <td>Dairy</td>\n",
              "      <td>249.8092</td>\n",
              "      <td>OUT049</td>\n",
              "      <td>4</td>\n",
              "      <td>2</td>\n",
              "      <td>Tier 1</td>\n",
              "      <td>Supermarket Type1</td>\n",
              "      <td>3735.1380</td>\n",
              "    </tr>\n",
              "    <tr>\n",
              "      <th>1</th>\n",
              "      <td>DRC01</td>\n",
              "      <td>5.92</td>\n",
              "      <td>1</td>\n",
              "      <td>Soft Drinks</td>\n",
              "      <td>48.2692</td>\n",
              "      <td>OUT018</td>\n",
              "      <td>8</td>\n",
              "      <td>2</td>\n",
              "      <td>Tier 3</td>\n",
              "      <td>Supermarket Type2</td>\n",
              "      <td>443.4228</td>\n",
              "    </tr>\n",
              "    <tr>\n",
              "      <th>2</th>\n",
              "      <td>FDN15</td>\n",
              "      <td>17.50</td>\n",
              "      <td>0</td>\n",
              "      <td>Meat</td>\n",
              "      <td>141.6180</td>\n",
              "      <td>OUT049</td>\n",
              "      <td>4</td>\n",
              "      <td>2</td>\n",
              "      <td>Tier 1</td>\n",
              "      <td>Supermarket Type1</td>\n",
              "      <td>2097.2700</td>\n",
              "    </tr>\n",
              "    <tr>\n",
              "      <th>3</th>\n",
              "      <td>FDX07</td>\n",
              "      <td>19.20</td>\n",
              "      <td>1</td>\n",
              "      <td>Fruits and Vegetables</td>\n",
              "      <td>182.0950</td>\n",
              "      <td>OUT010</td>\n",
              "      <td>3</td>\n",
              "      <td>0</td>\n",
              "      <td>Tier 3</td>\n",
              "      <td>Grocery Store</td>\n",
              "      <td>732.3800</td>\n",
              "    </tr>\n",
              "    <tr>\n",
              "      <th>4</th>\n",
              "      <td>NCD19</td>\n",
              "      <td>8.93</td>\n",
              "      <td>0</td>\n",
              "      <td>Household</td>\n",
              "      <td>53.8614</td>\n",
              "      <td>OUT013</td>\n",
              "      <td>1</td>\n",
              "      <td>3</td>\n",
              "      <td>Tier 3</td>\n",
              "      <td>Supermarket Type1</td>\n",
              "      <td>994.7052</td>\n",
              "    </tr>\n",
              "  </tbody>\n",
              "</table>\n",
              "</div>"
            ],
            "text/plain": [
              "  Item_Identifier  Item_Weight  ...        Outlet_Type Item_Outlet_Sales\n",
              "0           FDA15         9.30  ...  Supermarket Type1         3735.1380\n",
              "1           DRC01         5.92  ...  Supermarket Type2          443.4228\n",
              "2           FDN15        17.50  ...  Supermarket Type1         2097.2700\n",
              "3           FDX07        19.20  ...      Grocery Store          732.3800\n",
              "4           NCD19         8.93  ...  Supermarket Type1          994.7052\n",
              "\n",
              "[5 rows x 11 columns]"
            ]
          },
          "metadata": {
            "tags": []
          },
          "execution_count": 100
        }
      ]
    },
    {
      "cell_type": "code",
      "metadata": {
        "id": "6n-QP5itCmn0",
        "colab": {
          "base_uri": "https://localhost:8080/"
        },
        "outputId": "7ca5f4e1-7879-4c5b-ec63-5e11a1407ff0"
      },
      "source": [
        "sales['Outlet_Type'].value_counts()"
      ],
      "execution_count": 101,
      "outputs": [
        {
          "output_type": "execute_result",
          "data": {
            "text/plain": [
              "Supermarket Type1    5577\n",
              "Grocery Store        1083\n",
              "Supermarket Type3     935\n",
              "Supermarket Type2     928\n",
              "Name: Outlet_Type, dtype: int64"
            ]
          },
          "metadata": {
            "tags": []
          },
          "execution_count": 101
        }
      ]
    },
    {
      "cell_type": "code",
      "metadata": {
        "id": "zZMCw_4BC2Kr"
      },
      "source": [
        "# I am going to the values on the Outle_Type column and make those ordinal as well.\n",
        "# They are pretty much alreay in order\n",
        "\n",
        "mod_sales['Outlet_Type'].replace({'Grocery Store' : 0,\n",
        "                              'Supermarket Type1' : 1,\n",
        "                              'Supermarket Type2' : 2,\n",
        "                              'Supermarket Type3' : 3}, inplace=True)"
      ],
      "execution_count": 102,
      "outputs": []
    },
    {
      "cell_type": "code",
      "metadata": {
        "id": "QcEgxDlyDJ3v",
        "colab": {
          "base_uri": "https://localhost:8080/",
          "height": 220
        },
        "outputId": "a2a5abf9-855a-4011-dd2c-85ee718be958"
      },
      "source": [
        "mod_sales.head()"
      ],
      "execution_count": 103,
      "outputs": [
        {
          "output_type": "execute_result",
          "data": {
            "text/html": [
              "<div>\n",
              "<style scoped>\n",
              "    .dataframe tbody tr th:only-of-type {\n",
              "        vertical-align: middle;\n",
              "    }\n",
              "\n",
              "    .dataframe tbody tr th {\n",
              "        vertical-align: top;\n",
              "    }\n",
              "\n",
              "    .dataframe thead th {\n",
              "        text-align: right;\n",
              "    }\n",
              "</style>\n",
              "<table border=\"1\" class=\"dataframe\">\n",
              "  <thead>\n",
              "    <tr style=\"text-align: right;\">\n",
              "      <th></th>\n",
              "      <th>Item_Identifier</th>\n",
              "      <th>Item_Weight</th>\n",
              "      <th>Item_Fat_Content</th>\n",
              "      <th>Item_Type</th>\n",
              "      <th>Item_MRP</th>\n",
              "      <th>Outlet_Identifier</th>\n",
              "      <th>Outlet_Establishment_Year</th>\n",
              "      <th>Outlet_Size</th>\n",
              "      <th>Outlet_Location_Type</th>\n",
              "      <th>Outlet_Type</th>\n",
              "      <th>Item_Outlet_Sales</th>\n",
              "    </tr>\n",
              "  </thead>\n",
              "  <tbody>\n",
              "    <tr>\n",
              "      <th>0</th>\n",
              "      <td>FDA15</td>\n",
              "      <td>9.30</td>\n",
              "      <td>0</td>\n",
              "      <td>Dairy</td>\n",
              "      <td>249.8092</td>\n",
              "      <td>OUT049</td>\n",
              "      <td>4</td>\n",
              "      <td>2</td>\n",
              "      <td>Tier 1</td>\n",
              "      <td>1</td>\n",
              "      <td>3735.1380</td>\n",
              "    </tr>\n",
              "    <tr>\n",
              "      <th>1</th>\n",
              "      <td>DRC01</td>\n",
              "      <td>5.92</td>\n",
              "      <td>1</td>\n",
              "      <td>Soft Drinks</td>\n",
              "      <td>48.2692</td>\n",
              "      <td>OUT018</td>\n",
              "      <td>8</td>\n",
              "      <td>2</td>\n",
              "      <td>Tier 3</td>\n",
              "      <td>2</td>\n",
              "      <td>443.4228</td>\n",
              "    </tr>\n",
              "    <tr>\n",
              "      <th>2</th>\n",
              "      <td>FDN15</td>\n",
              "      <td>17.50</td>\n",
              "      <td>0</td>\n",
              "      <td>Meat</td>\n",
              "      <td>141.6180</td>\n",
              "      <td>OUT049</td>\n",
              "      <td>4</td>\n",
              "      <td>2</td>\n",
              "      <td>Tier 1</td>\n",
              "      <td>1</td>\n",
              "      <td>2097.2700</td>\n",
              "    </tr>\n",
              "    <tr>\n",
              "      <th>3</th>\n",
              "      <td>FDX07</td>\n",
              "      <td>19.20</td>\n",
              "      <td>1</td>\n",
              "      <td>Fruits and Vegetables</td>\n",
              "      <td>182.0950</td>\n",
              "      <td>OUT010</td>\n",
              "      <td>3</td>\n",
              "      <td>0</td>\n",
              "      <td>Tier 3</td>\n",
              "      <td>0</td>\n",
              "      <td>732.3800</td>\n",
              "    </tr>\n",
              "    <tr>\n",
              "      <th>4</th>\n",
              "      <td>NCD19</td>\n",
              "      <td>8.93</td>\n",
              "      <td>0</td>\n",
              "      <td>Household</td>\n",
              "      <td>53.8614</td>\n",
              "      <td>OUT013</td>\n",
              "      <td>1</td>\n",
              "      <td>3</td>\n",
              "      <td>Tier 3</td>\n",
              "      <td>1</td>\n",
              "      <td>994.7052</td>\n",
              "    </tr>\n",
              "  </tbody>\n",
              "</table>\n",
              "</div>"
            ],
            "text/plain": [
              "  Item_Identifier  Item_Weight  ...  Outlet_Type Item_Outlet_Sales\n",
              "0           FDA15         9.30  ...            1         3735.1380\n",
              "1           DRC01         5.92  ...            2          443.4228\n",
              "2           FDN15        17.50  ...            1         2097.2700\n",
              "3           FDX07        19.20  ...            0          732.3800\n",
              "4           NCD19         8.93  ...            1          994.7052\n",
              "\n",
              "[5 rows x 11 columns]"
            ]
          },
          "metadata": {
            "tags": []
          },
          "execution_count": 103
        }
      ]
    },
    {
      "cell_type": "code",
      "metadata": {
        "id": "gJAF_e-FFS_W",
        "colab": {
          "base_uri": "https://localhost:8080/"
        },
        "outputId": "3d69967a-7e4f-4d14-c393-62e4903c4749"
      },
      "source": [
        "sales['Outlet_Location_Type'].value_counts()"
      ],
      "execution_count": 104,
      "outputs": [
        {
          "output_type": "execute_result",
          "data": {
            "text/plain": [
              "Tier 3    3350\n",
              "Tier 2    2785\n",
              "Tier 1    2388\n",
              "Name: Outlet_Location_Type, dtype: int64"
            ]
          },
          "metadata": {
            "tags": []
          },
          "execution_count": 104
        }
      ]
    },
    {
      "cell_type": "code",
      "metadata": {
        "id": "JOIxV4uKE6Ah"
      },
      "source": [
        "# Outlet_Location_Type is already nubered as well so I will also arrange this as ordinal\n",
        "\n",
        "mod_sales['Outlet_Location_Type'].replace({'Tier 1' : 1,\n",
        "                                           'Tier 2' : 2,\n",
        "                                           'Tier 3' : 3}, inplace=True)"
      ],
      "execution_count": 105,
      "outputs": []
    },
    {
      "cell_type": "code",
      "metadata": {
        "id": "lFcSBrSAFpgy",
        "colab": {
          "base_uri": "https://localhost:8080/",
          "height": 220
        },
        "outputId": "15eb0aa4-1e58-49a9-e6b6-68697163d39c"
      },
      "source": [
        "mod_sales.head()"
      ],
      "execution_count": 106,
      "outputs": [
        {
          "output_type": "execute_result",
          "data": {
            "text/html": [
              "<div>\n",
              "<style scoped>\n",
              "    .dataframe tbody tr th:only-of-type {\n",
              "        vertical-align: middle;\n",
              "    }\n",
              "\n",
              "    .dataframe tbody tr th {\n",
              "        vertical-align: top;\n",
              "    }\n",
              "\n",
              "    .dataframe thead th {\n",
              "        text-align: right;\n",
              "    }\n",
              "</style>\n",
              "<table border=\"1\" class=\"dataframe\">\n",
              "  <thead>\n",
              "    <tr style=\"text-align: right;\">\n",
              "      <th></th>\n",
              "      <th>Item_Identifier</th>\n",
              "      <th>Item_Weight</th>\n",
              "      <th>Item_Fat_Content</th>\n",
              "      <th>Item_Type</th>\n",
              "      <th>Item_MRP</th>\n",
              "      <th>Outlet_Identifier</th>\n",
              "      <th>Outlet_Establishment_Year</th>\n",
              "      <th>Outlet_Size</th>\n",
              "      <th>Outlet_Location_Type</th>\n",
              "      <th>Outlet_Type</th>\n",
              "      <th>Item_Outlet_Sales</th>\n",
              "    </tr>\n",
              "  </thead>\n",
              "  <tbody>\n",
              "    <tr>\n",
              "      <th>0</th>\n",
              "      <td>FDA15</td>\n",
              "      <td>9.30</td>\n",
              "      <td>0</td>\n",
              "      <td>Dairy</td>\n",
              "      <td>249.8092</td>\n",
              "      <td>OUT049</td>\n",
              "      <td>4</td>\n",
              "      <td>2</td>\n",
              "      <td>1</td>\n",
              "      <td>1</td>\n",
              "      <td>3735.1380</td>\n",
              "    </tr>\n",
              "    <tr>\n",
              "      <th>1</th>\n",
              "      <td>DRC01</td>\n",
              "      <td>5.92</td>\n",
              "      <td>1</td>\n",
              "      <td>Soft Drinks</td>\n",
              "      <td>48.2692</td>\n",
              "      <td>OUT018</td>\n",
              "      <td>8</td>\n",
              "      <td>2</td>\n",
              "      <td>3</td>\n",
              "      <td>2</td>\n",
              "      <td>443.4228</td>\n",
              "    </tr>\n",
              "    <tr>\n",
              "      <th>2</th>\n",
              "      <td>FDN15</td>\n",
              "      <td>17.50</td>\n",
              "      <td>0</td>\n",
              "      <td>Meat</td>\n",
              "      <td>141.6180</td>\n",
              "      <td>OUT049</td>\n",
              "      <td>4</td>\n",
              "      <td>2</td>\n",
              "      <td>1</td>\n",
              "      <td>1</td>\n",
              "      <td>2097.2700</td>\n",
              "    </tr>\n",
              "    <tr>\n",
              "      <th>3</th>\n",
              "      <td>FDX07</td>\n",
              "      <td>19.20</td>\n",
              "      <td>1</td>\n",
              "      <td>Fruits and Vegetables</td>\n",
              "      <td>182.0950</td>\n",
              "      <td>OUT010</td>\n",
              "      <td>3</td>\n",
              "      <td>0</td>\n",
              "      <td>3</td>\n",
              "      <td>0</td>\n",
              "      <td>732.3800</td>\n",
              "    </tr>\n",
              "    <tr>\n",
              "      <th>4</th>\n",
              "      <td>NCD19</td>\n",
              "      <td>8.93</td>\n",
              "      <td>0</td>\n",
              "      <td>Household</td>\n",
              "      <td>53.8614</td>\n",
              "      <td>OUT013</td>\n",
              "      <td>1</td>\n",
              "      <td>3</td>\n",
              "      <td>3</td>\n",
              "      <td>1</td>\n",
              "      <td>994.7052</td>\n",
              "    </tr>\n",
              "  </tbody>\n",
              "</table>\n",
              "</div>"
            ],
            "text/plain": [
              "  Item_Identifier  Item_Weight  ...  Outlet_Type Item_Outlet_Sales\n",
              "0           FDA15         9.30  ...            1         3735.1380\n",
              "1           DRC01         5.92  ...            2          443.4228\n",
              "2           FDN15        17.50  ...            1         2097.2700\n",
              "3           FDX07        19.20  ...            0          732.3800\n",
              "4           NCD19         8.93  ...            1          994.7052\n",
              "\n",
              "[5 rows x 11 columns]"
            ]
          },
          "metadata": {
            "tags": []
          },
          "execution_count": 106
        }
      ]
    },
    {
      "cell_type": "code",
      "metadata": {
        "id": "TAyDa4jmFzE0",
        "colab": {
          "base_uri": "https://localhost:8080/"
        },
        "outputId": "a76fef22-2fdb-4e9b-823f-0c8d421fdc97"
      },
      "source": [
        "# The last 2 columns I will change are the Item_Type and Outlet_Identifier. I will transform\n",
        "# these based on nominal assigment as there isn't an obvious order. The Outlet_Identifier\n",
        "# could be based on year established or some other factor to make it ordinal, but since I\n",
        "# am changing the Item_Type column nominally I will include both columns at the same time.\n",
        "# I am adapting code from this website: https://towardsdatascience.com/understanding-feature-engineering-part-2-categorical-data-f54324193e63\n",
        "\n",
        "from sklearn.preprocessing import LabelEncoder\n",
        "\n",
        "le_item = LabelEncoder()\n",
        "item_labels = le_item.fit_transform(mod_sales['Item_Type'])\n",
        "transform_item = {index: label for index, label in enumerate(le_item.classes_)}\n",
        "\n",
        "transform_item\n"
      ],
      "execution_count": 107,
      "outputs": [
        {
          "output_type": "execute_result",
          "data": {
            "text/plain": [
              "{0: 'Baking Goods',\n",
              " 1: 'Breads',\n",
              " 2: 'Breakfast',\n",
              " 3: 'Canned',\n",
              " 4: 'Dairy',\n",
              " 5: 'Frozen Foods',\n",
              " 6: 'Fruits and Vegetables',\n",
              " 7: 'Hard Drinks',\n",
              " 8: 'Health and Hygiene',\n",
              " 9: 'Household',\n",
              " 10: 'Meat',\n",
              " 11: 'Others',\n",
              " 12: 'Seafood',\n",
              " 13: 'Snack Foods',\n",
              " 14: 'Soft Drinks',\n",
              " 15: 'Starchy Foods'}"
            ]
          },
          "metadata": {
            "tags": []
          },
          "execution_count": 107
        }
      ]
    },
    {
      "cell_type": "code",
      "metadata": {
        "id": "g_o0U74YRfTY",
        "colab": {
          "base_uri": "https://localhost:8080/"
        },
        "outputId": "52d77f68-06ce-4ca4-f953-9aa6f2aa5971"
      },
      "source": [
        "# I guess these are a little more ordinal than I had expected. They have been alphabetized\n",
        "# and chronologically numbered. I guess that's the 'enumerate' part.\n",
        "\n",
        "le_OI = LabelEncoder()\n",
        "OI_labels = le_OI.fit_transform(mod_sales['Outlet_Identifier'])\n",
        "transform_OI = {index: label for index, label in enumerate(le_OI.classes_)}\n",
        "\n",
        "transform_OI"
      ],
      "execution_count": 108,
      "outputs": [
        {
          "output_type": "execute_result",
          "data": {
            "text/plain": [
              "{0: 'OUT010',\n",
              " 1: 'OUT013',\n",
              " 2: 'OUT017',\n",
              " 3: 'OUT018',\n",
              " 4: 'OUT019',\n",
              " 5: 'OUT027',\n",
              " 6: 'OUT035',\n",
              " 7: 'OUT045',\n",
              " 8: 'OUT046',\n",
              " 9: 'OUT049'}"
            ]
          },
          "metadata": {
            "tags": []
          },
          "execution_count": 108
        }
      ]
    },
    {
      "cell_type": "code",
      "metadata": {
        "id": "j3aPGG_4IdAt"
      },
      "source": [
        "mod_sales.insert(4, 'transformed_Item_Type', item_labels)"
      ],
      "execution_count": 109,
      "outputs": []
    },
    {
      "cell_type": "code",
      "metadata": {
        "id": "IvtgOu-LR6Pm"
      },
      "source": [
        "mod_sales.insert(7, 'transformed_Outlet_Identifier', OI_labels)"
      ],
      "execution_count": 110,
      "outputs": []
    },
    {
      "cell_type": "code",
      "metadata": {
        "id": "85598CbkIwH7",
        "colab": {
          "base_uri": "https://localhost:8080/",
          "height": 240
        },
        "outputId": "a4d54f6b-cb18-4397-ead0-35446e0057f5"
      },
      "source": [
        "mod_sales.head()"
      ],
      "execution_count": 111,
      "outputs": [
        {
          "output_type": "execute_result",
          "data": {
            "text/html": [
              "<div>\n",
              "<style scoped>\n",
              "    .dataframe tbody tr th:only-of-type {\n",
              "        vertical-align: middle;\n",
              "    }\n",
              "\n",
              "    .dataframe tbody tr th {\n",
              "        vertical-align: top;\n",
              "    }\n",
              "\n",
              "    .dataframe thead th {\n",
              "        text-align: right;\n",
              "    }\n",
              "</style>\n",
              "<table border=\"1\" class=\"dataframe\">\n",
              "  <thead>\n",
              "    <tr style=\"text-align: right;\">\n",
              "      <th></th>\n",
              "      <th>Item_Identifier</th>\n",
              "      <th>Item_Weight</th>\n",
              "      <th>Item_Fat_Content</th>\n",
              "      <th>Item_Type</th>\n",
              "      <th>transformed_Item_Type</th>\n",
              "      <th>Item_MRP</th>\n",
              "      <th>Outlet_Identifier</th>\n",
              "      <th>transformed_Outlet_Identifier</th>\n",
              "      <th>Outlet_Establishment_Year</th>\n",
              "      <th>Outlet_Size</th>\n",
              "      <th>Outlet_Location_Type</th>\n",
              "      <th>Outlet_Type</th>\n",
              "      <th>Item_Outlet_Sales</th>\n",
              "    </tr>\n",
              "  </thead>\n",
              "  <tbody>\n",
              "    <tr>\n",
              "      <th>0</th>\n",
              "      <td>FDA15</td>\n",
              "      <td>9.30</td>\n",
              "      <td>0</td>\n",
              "      <td>Dairy</td>\n",
              "      <td>4</td>\n",
              "      <td>249.8092</td>\n",
              "      <td>OUT049</td>\n",
              "      <td>9</td>\n",
              "      <td>4</td>\n",
              "      <td>2</td>\n",
              "      <td>1</td>\n",
              "      <td>1</td>\n",
              "      <td>3735.1380</td>\n",
              "    </tr>\n",
              "    <tr>\n",
              "      <th>1</th>\n",
              "      <td>DRC01</td>\n",
              "      <td>5.92</td>\n",
              "      <td>1</td>\n",
              "      <td>Soft Drinks</td>\n",
              "      <td>14</td>\n",
              "      <td>48.2692</td>\n",
              "      <td>OUT018</td>\n",
              "      <td>3</td>\n",
              "      <td>8</td>\n",
              "      <td>2</td>\n",
              "      <td>3</td>\n",
              "      <td>2</td>\n",
              "      <td>443.4228</td>\n",
              "    </tr>\n",
              "    <tr>\n",
              "      <th>2</th>\n",
              "      <td>FDN15</td>\n",
              "      <td>17.50</td>\n",
              "      <td>0</td>\n",
              "      <td>Meat</td>\n",
              "      <td>10</td>\n",
              "      <td>141.6180</td>\n",
              "      <td>OUT049</td>\n",
              "      <td>9</td>\n",
              "      <td>4</td>\n",
              "      <td>2</td>\n",
              "      <td>1</td>\n",
              "      <td>1</td>\n",
              "      <td>2097.2700</td>\n",
              "    </tr>\n",
              "    <tr>\n",
              "      <th>3</th>\n",
              "      <td>FDX07</td>\n",
              "      <td>19.20</td>\n",
              "      <td>1</td>\n",
              "      <td>Fruits and Vegetables</td>\n",
              "      <td>6</td>\n",
              "      <td>182.0950</td>\n",
              "      <td>OUT010</td>\n",
              "      <td>0</td>\n",
              "      <td>3</td>\n",
              "      <td>0</td>\n",
              "      <td>3</td>\n",
              "      <td>0</td>\n",
              "      <td>732.3800</td>\n",
              "    </tr>\n",
              "    <tr>\n",
              "      <th>4</th>\n",
              "      <td>NCD19</td>\n",
              "      <td>8.93</td>\n",
              "      <td>0</td>\n",
              "      <td>Household</td>\n",
              "      <td>9</td>\n",
              "      <td>53.8614</td>\n",
              "      <td>OUT013</td>\n",
              "      <td>1</td>\n",
              "      <td>1</td>\n",
              "      <td>3</td>\n",
              "      <td>3</td>\n",
              "      <td>1</td>\n",
              "      <td>994.7052</td>\n",
              "    </tr>\n",
              "  </tbody>\n",
              "</table>\n",
              "</div>"
            ],
            "text/plain": [
              "  Item_Identifier  Item_Weight  ...  Outlet_Type Item_Outlet_Sales\n",
              "0           FDA15         9.30  ...            1         3735.1380\n",
              "1           DRC01         5.92  ...            2          443.4228\n",
              "2           FDN15        17.50  ...            1         2097.2700\n",
              "3           FDX07        19.20  ...            0          732.3800\n",
              "4           NCD19         8.93  ...            1          994.7052\n",
              "\n",
              "[5 rows x 13 columns]"
            ]
          },
          "metadata": {
            "tags": []
          },
          "execution_count": 111
        }
      ]
    },
    {
      "cell_type": "code",
      "metadata": {
        "id": "NTilZh9FTqpT"
      },
      "source": [
        "# Adding the one_hot encoding to the two columns that were numbered more ordianl than nominal\n",
        "\n",
        "from sklearn.preprocessing import OneHotEncoder"
      ],
      "execution_count": 112,
      "outputs": []
    },
    {
      "cell_type": "code",
      "metadata": {
        "id": "w9kSumcnULmG"
      },
      "source": [
        "ohe_item = OneHotEncoder()\n",
        "item_feature_arr = ohe_item.fit_transform(mod_sales[['transformed_Item_Type']]).toarray()\n",
        "item_feature_labels = list(le_item.classes_)\n",
        "item_features = pd.DataFrame(item_feature_arr, columns= item_feature_labels)\n",
        "\n",
        "ohe_OI = OneHotEncoder()\n",
        "OI_feature_arr = ohe_OI.fit_transform(mod_sales[['transformed_Outlet_Identifier']]).toarray()\n",
        "OI_feature_labels = ['Outlet_Identifier_' + str(cls_label) for cls_label in le_OI.classes_]\n",
        "OI_features = pd.DataFrame(OI_feature_arr, columns= OI_feature_labels)"
      ],
      "execution_count": 113,
      "outputs": []
    },
    {
      "cell_type": "code",
      "metadata": {
        "id": "ePWALCCYRY22",
        "colab": {
          "base_uri": "https://localhost:8080/",
          "height": 554
        },
        "outputId": "9902bf4b-0648-4434-9b8c-e86eb51d5b43"
      },
      "source": [
        "mod_sales_ohe = pd.concat([mod_sales, item_features, OI_features], axis=1)\n",
        "columns = sum([['Item_Identifier', 'Item_Weight',\t'Item_Fat_Content',\t'Item_Type',\n",
        "                'transformed_Item_Type'], item_feature_labels, ['Item_MRP', 'Outlet_Identifier',\t\n",
        "                                                                 'transformed_Outlet_Identifier'], \n",
        "               OI_feature_labels, ['Outlet_Establishment_Year',\t'Outlet_Size',\t'Outlet_Location_Type',\t\n",
        "                                   'Outlet_Type',\t'Item_Outlet_Sales']], [])\n",
        "mod_sales_ohe"
      ],
      "execution_count": 114,
      "outputs": [
        {
          "output_type": "execute_result",
          "data": {
            "text/html": [
              "<div>\n",
              "<style scoped>\n",
              "    .dataframe tbody tr th:only-of-type {\n",
              "        vertical-align: middle;\n",
              "    }\n",
              "\n",
              "    .dataframe tbody tr th {\n",
              "        vertical-align: top;\n",
              "    }\n",
              "\n",
              "    .dataframe thead th {\n",
              "        text-align: right;\n",
              "    }\n",
              "</style>\n",
              "<table border=\"1\" class=\"dataframe\">\n",
              "  <thead>\n",
              "    <tr style=\"text-align: right;\">\n",
              "      <th></th>\n",
              "      <th>Item_Identifier</th>\n",
              "      <th>Item_Weight</th>\n",
              "      <th>Item_Fat_Content</th>\n",
              "      <th>Item_Type</th>\n",
              "      <th>transformed_Item_Type</th>\n",
              "      <th>Item_MRP</th>\n",
              "      <th>Outlet_Identifier</th>\n",
              "      <th>transformed_Outlet_Identifier</th>\n",
              "      <th>Outlet_Establishment_Year</th>\n",
              "      <th>Outlet_Size</th>\n",
              "      <th>Outlet_Location_Type</th>\n",
              "      <th>Outlet_Type</th>\n",
              "      <th>Item_Outlet_Sales</th>\n",
              "      <th>Baking Goods</th>\n",
              "      <th>Breads</th>\n",
              "      <th>Breakfast</th>\n",
              "      <th>Canned</th>\n",
              "      <th>Dairy</th>\n",
              "      <th>Frozen Foods</th>\n",
              "      <th>Fruits and Vegetables</th>\n",
              "      <th>Hard Drinks</th>\n",
              "      <th>Health and Hygiene</th>\n",
              "      <th>Household</th>\n",
              "      <th>Meat</th>\n",
              "      <th>Others</th>\n",
              "      <th>Seafood</th>\n",
              "      <th>Snack Foods</th>\n",
              "      <th>Soft Drinks</th>\n",
              "      <th>Starchy Foods</th>\n",
              "      <th>Outlet_Identifier_OUT010</th>\n",
              "      <th>Outlet_Identifier_OUT013</th>\n",
              "      <th>Outlet_Identifier_OUT017</th>\n",
              "      <th>Outlet_Identifier_OUT018</th>\n",
              "      <th>Outlet_Identifier_OUT019</th>\n",
              "      <th>Outlet_Identifier_OUT027</th>\n",
              "      <th>Outlet_Identifier_OUT035</th>\n",
              "      <th>Outlet_Identifier_OUT045</th>\n",
              "      <th>Outlet_Identifier_OUT046</th>\n",
              "      <th>Outlet_Identifier_OUT049</th>\n",
              "    </tr>\n",
              "  </thead>\n",
              "  <tbody>\n",
              "    <tr>\n",
              "      <th>0</th>\n",
              "      <td>FDA15</td>\n",
              "      <td>9.300</td>\n",
              "      <td>0</td>\n",
              "      <td>Dairy</td>\n",
              "      <td>4</td>\n",
              "      <td>249.8092</td>\n",
              "      <td>OUT049</td>\n",
              "      <td>9</td>\n",
              "      <td>4</td>\n",
              "      <td>2</td>\n",
              "      <td>1</td>\n",
              "      <td>1</td>\n",
              "      <td>3735.1380</td>\n",
              "      <td>0.0</td>\n",
              "      <td>0.0</td>\n",
              "      <td>0.0</td>\n",
              "      <td>0.0</td>\n",
              "      <td>1.0</td>\n",
              "      <td>0.0</td>\n",
              "      <td>0.0</td>\n",
              "      <td>0.0</td>\n",
              "      <td>0.0</td>\n",
              "      <td>0.0</td>\n",
              "      <td>0.0</td>\n",
              "      <td>0.0</td>\n",
              "      <td>0.0</td>\n",
              "      <td>0.0</td>\n",
              "      <td>0.0</td>\n",
              "      <td>0.0</td>\n",
              "      <td>0.0</td>\n",
              "      <td>0.0</td>\n",
              "      <td>0.0</td>\n",
              "      <td>0.0</td>\n",
              "      <td>0.0</td>\n",
              "      <td>0.0</td>\n",
              "      <td>0.0</td>\n",
              "      <td>0.0</td>\n",
              "      <td>0.0</td>\n",
              "      <td>1.0</td>\n",
              "    </tr>\n",
              "    <tr>\n",
              "      <th>1</th>\n",
              "      <td>DRC01</td>\n",
              "      <td>5.920</td>\n",
              "      <td>1</td>\n",
              "      <td>Soft Drinks</td>\n",
              "      <td>14</td>\n",
              "      <td>48.2692</td>\n",
              "      <td>OUT018</td>\n",
              "      <td>3</td>\n",
              "      <td>8</td>\n",
              "      <td>2</td>\n",
              "      <td>3</td>\n",
              "      <td>2</td>\n",
              "      <td>443.4228</td>\n",
              "      <td>0.0</td>\n",
              "      <td>0.0</td>\n",
              "      <td>0.0</td>\n",
              "      <td>0.0</td>\n",
              "      <td>0.0</td>\n",
              "      <td>0.0</td>\n",
              "      <td>0.0</td>\n",
              "      <td>0.0</td>\n",
              "      <td>0.0</td>\n",
              "      <td>0.0</td>\n",
              "      <td>0.0</td>\n",
              "      <td>0.0</td>\n",
              "      <td>0.0</td>\n",
              "      <td>0.0</td>\n",
              "      <td>1.0</td>\n",
              "      <td>0.0</td>\n",
              "      <td>0.0</td>\n",
              "      <td>0.0</td>\n",
              "      <td>0.0</td>\n",
              "      <td>1.0</td>\n",
              "      <td>0.0</td>\n",
              "      <td>0.0</td>\n",
              "      <td>0.0</td>\n",
              "      <td>0.0</td>\n",
              "      <td>0.0</td>\n",
              "      <td>0.0</td>\n",
              "    </tr>\n",
              "    <tr>\n",
              "      <th>2</th>\n",
              "      <td>FDN15</td>\n",
              "      <td>17.500</td>\n",
              "      <td>0</td>\n",
              "      <td>Meat</td>\n",
              "      <td>10</td>\n",
              "      <td>141.6180</td>\n",
              "      <td>OUT049</td>\n",
              "      <td>9</td>\n",
              "      <td>4</td>\n",
              "      <td>2</td>\n",
              "      <td>1</td>\n",
              "      <td>1</td>\n",
              "      <td>2097.2700</td>\n",
              "      <td>0.0</td>\n",
              "      <td>0.0</td>\n",
              "      <td>0.0</td>\n",
              "      <td>0.0</td>\n",
              "      <td>0.0</td>\n",
              "      <td>0.0</td>\n",
              "      <td>0.0</td>\n",
              "      <td>0.0</td>\n",
              "      <td>0.0</td>\n",
              "      <td>0.0</td>\n",
              "      <td>1.0</td>\n",
              "      <td>0.0</td>\n",
              "      <td>0.0</td>\n",
              "      <td>0.0</td>\n",
              "      <td>0.0</td>\n",
              "      <td>0.0</td>\n",
              "      <td>0.0</td>\n",
              "      <td>0.0</td>\n",
              "      <td>0.0</td>\n",
              "      <td>0.0</td>\n",
              "      <td>0.0</td>\n",
              "      <td>0.0</td>\n",
              "      <td>0.0</td>\n",
              "      <td>0.0</td>\n",
              "      <td>0.0</td>\n",
              "      <td>1.0</td>\n",
              "    </tr>\n",
              "    <tr>\n",
              "      <th>3</th>\n",
              "      <td>FDX07</td>\n",
              "      <td>19.200</td>\n",
              "      <td>1</td>\n",
              "      <td>Fruits and Vegetables</td>\n",
              "      <td>6</td>\n",
              "      <td>182.0950</td>\n",
              "      <td>OUT010</td>\n",
              "      <td>0</td>\n",
              "      <td>3</td>\n",
              "      <td>0</td>\n",
              "      <td>3</td>\n",
              "      <td>0</td>\n",
              "      <td>732.3800</td>\n",
              "      <td>0.0</td>\n",
              "      <td>0.0</td>\n",
              "      <td>0.0</td>\n",
              "      <td>0.0</td>\n",
              "      <td>0.0</td>\n",
              "      <td>0.0</td>\n",
              "      <td>1.0</td>\n",
              "      <td>0.0</td>\n",
              "      <td>0.0</td>\n",
              "      <td>0.0</td>\n",
              "      <td>0.0</td>\n",
              "      <td>0.0</td>\n",
              "      <td>0.0</td>\n",
              "      <td>0.0</td>\n",
              "      <td>0.0</td>\n",
              "      <td>0.0</td>\n",
              "      <td>1.0</td>\n",
              "      <td>0.0</td>\n",
              "      <td>0.0</td>\n",
              "      <td>0.0</td>\n",
              "      <td>0.0</td>\n",
              "      <td>0.0</td>\n",
              "      <td>0.0</td>\n",
              "      <td>0.0</td>\n",
              "      <td>0.0</td>\n",
              "      <td>0.0</td>\n",
              "    </tr>\n",
              "    <tr>\n",
              "      <th>4</th>\n",
              "      <td>NCD19</td>\n",
              "      <td>8.930</td>\n",
              "      <td>0</td>\n",
              "      <td>Household</td>\n",
              "      <td>9</td>\n",
              "      <td>53.8614</td>\n",
              "      <td>OUT013</td>\n",
              "      <td>1</td>\n",
              "      <td>1</td>\n",
              "      <td>3</td>\n",
              "      <td>3</td>\n",
              "      <td>1</td>\n",
              "      <td>994.7052</td>\n",
              "      <td>0.0</td>\n",
              "      <td>0.0</td>\n",
              "      <td>0.0</td>\n",
              "      <td>0.0</td>\n",
              "      <td>0.0</td>\n",
              "      <td>0.0</td>\n",
              "      <td>0.0</td>\n",
              "      <td>0.0</td>\n",
              "      <td>0.0</td>\n",
              "      <td>1.0</td>\n",
              "      <td>0.0</td>\n",
              "      <td>0.0</td>\n",
              "      <td>0.0</td>\n",
              "      <td>0.0</td>\n",
              "      <td>0.0</td>\n",
              "      <td>0.0</td>\n",
              "      <td>0.0</td>\n",
              "      <td>1.0</td>\n",
              "      <td>0.0</td>\n",
              "      <td>0.0</td>\n",
              "      <td>0.0</td>\n",
              "      <td>0.0</td>\n",
              "      <td>0.0</td>\n",
              "      <td>0.0</td>\n",
              "      <td>0.0</td>\n",
              "      <td>0.0</td>\n",
              "    </tr>\n",
              "    <tr>\n",
              "      <th>...</th>\n",
              "      <td>...</td>\n",
              "      <td>...</td>\n",
              "      <td>...</td>\n",
              "      <td>...</td>\n",
              "      <td>...</td>\n",
              "      <td>...</td>\n",
              "      <td>...</td>\n",
              "      <td>...</td>\n",
              "      <td>...</td>\n",
              "      <td>...</td>\n",
              "      <td>...</td>\n",
              "      <td>...</td>\n",
              "      <td>...</td>\n",
              "      <td>...</td>\n",
              "      <td>...</td>\n",
              "      <td>...</td>\n",
              "      <td>...</td>\n",
              "      <td>...</td>\n",
              "      <td>...</td>\n",
              "      <td>...</td>\n",
              "      <td>...</td>\n",
              "      <td>...</td>\n",
              "      <td>...</td>\n",
              "      <td>...</td>\n",
              "      <td>...</td>\n",
              "      <td>...</td>\n",
              "      <td>...</td>\n",
              "      <td>...</td>\n",
              "      <td>...</td>\n",
              "      <td>...</td>\n",
              "      <td>...</td>\n",
              "      <td>...</td>\n",
              "      <td>...</td>\n",
              "      <td>...</td>\n",
              "      <td>...</td>\n",
              "      <td>...</td>\n",
              "      <td>...</td>\n",
              "      <td>...</td>\n",
              "      <td>...</td>\n",
              "    </tr>\n",
              "    <tr>\n",
              "      <th>8518</th>\n",
              "      <td>FDF22</td>\n",
              "      <td>6.865</td>\n",
              "      <td>0</td>\n",
              "      <td>Snack Foods</td>\n",
              "      <td>13</td>\n",
              "      <td>214.5218</td>\n",
              "      <td>OUT013</td>\n",
              "      <td>1</td>\n",
              "      <td>1</td>\n",
              "      <td>3</td>\n",
              "      <td>3</td>\n",
              "      <td>1</td>\n",
              "      <td>2778.3834</td>\n",
              "      <td>0.0</td>\n",
              "      <td>0.0</td>\n",
              "      <td>0.0</td>\n",
              "      <td>0.0</td>\n",
              "      <td>0.0</td>\n",
              "      <td>0.0</td>\n",
              "      <td>0.0</td>\n",
              "      <td>0.0</td>\n",
              "      <td>0.0</td>\n",
              "      <td>0.0</td>\n",
              "      <td>0.0</td>\n",
              "      <td>0.0</td>\n",
              "      <td>0.0</td>\n",
              "      <td>1.0</td>\n",
              "      <td>0.0</td>\n",
              "      <td>0.0</td>\n",
              "      <td>0.0</td>\n",
              "      <td>1.0</td>\n",
              "      <td>0.0</td>\n",
              "      <td>0.0</td>\n",
              "      <td>0.0</td>\n",
              "      <td>0.0</td>\n",
              "      <td>0.0</td>\n",
              "      <td>0.0</td>\n",
              "      <td>0.0</td>\n",
              "      <td>0.0</td>\n",
              "    </tr>\n",
              "    <tr>\n",
              "      <th>8519</th>\n",
              "      <td>FDS36</td>\n",
              "      <td>8.380</td>\n",
              "      <td>1</td>\n",
              "      <td>Baking Goods</td>\n",
              "      <td>0</td>\n",
              "      <td>108.1570</td>\n",
              "      <td>OUT045</td>\n",
              "      <td>7</td>\n",
              "      <td>5</td>\n",
              "      <td>0</td>\n",
              "      <td>2</td>\n",
              "      <td>1</td>\n",
              "      <td>549.2850</td>\n",
              "      <td>1.0</td>\n",
              "      <td>0.0</td>\n",
              "      <td>0.0</td>\n",
              "      <td>0.0</td>\n",
              "      <td>0.0</td>\n",
              "      <td>0.0</td>\n",
              "      <td>0.0</td>\n",
              "      <td>0.0</td>\n",
              "      <td>0.0</td>\n",
              "      <td>0.0</td>\n",
              "      <td>0.0</td>\n",
              "      <td>0.0</td>\n",
              "      <td>0.0</td>\n",
              "      <td>0.0</td>\n",
              "      <td>0.0</td>\n",
              "      <td>0.0</td>\n",
              "      <td>0.0</td>\n",
              "      <td>0.0</td>\n",
              "      <td>0.0</td>\n",
              "      <td>0.0</td>\n",
              "      <td>0.0</td>\n",
              "      <td>0.0</td>\n",
              "      <td>0.0</td>\n",
              "      <td>1.0</td>\n",
              "      <td>0.0</td>\n",
              "      <td>0.0</td>\n",
              "    </tr>\n",
              "    <tr>\n",
              "      <th>8520</th>\n",
              "      <td>NCJ29</td>\n",
              "      <td>10.600</td>\n",
              "      <td>0</td>\n",
              "      <td>Health and Hygiene</td>\n",
              "      <td>8</td>\n",
              "      <td>85.1224</td>\n",
              "      <td>OUT035</td>\n",
              "      <td>6</td>\n",
              "      <td>6</td>\n",
              "      <td>1</td>\n",
              "      <td>2</td>\n",
              "      <td>1</td>\n",
              "      <td>1193.1136</td>\n",
              "      <td>0.0</td>\n",
              "      <td>0.0</td>\n",
              "      <td>0.0</td>\n",
              "      <td>0.0</td>\n",
              "      <td>0.0</td>\n",
              "      <td>0.0</td>\n",
              "      <td>0.0</td>\n",
              "      <td>0.0</td>\n",
              "      <td>1.0</td>\n",
              "      <td>0.0</td>\n",
              "      <td>0.0</td>\n",
              "      <td>0.0</td>\n",
              "      <td>0.0</td>\n",
              "      <td>0.0</td>\n",
              "      <td>0.0</td>\n",
              "      <td>0.0</td>\n",
              "      <td>0.0</td>\n",
              "      <td>0.0</td>\n",
              "      <td>0.0</td>\n",
              "      <td>0.0</td>\n",
              "      <td>0.0</td>\n",
              "      <td>0.0</td>\n",
              "      <td>1.0</td>\n",
              "      <td>0.0</td>\n",
              "      <td>0.0</td>\n",
              "      <td>0.0</td>\n",
              "    </tr>\n",
              "    <tr>\n",
              "      <th>8521</th>\n",
              "      <td>FDN46</td>\n",
              "      <td>7.210</td>\n",
              "      <td>1</td>\n",
              "      <td>Snack Foods</td>\n",
              "      <td>13</td>\n",
              "      <td>103.1332</td>\n",
              "      <td>OUT018</td>\n",
              "      <td>3</td>\n",
              "      <td>8</td>\n",
              "      <td>2</td>\n",
              "      <td>3</td>\n",
              "      <td>2</td>\n",
              "      <td>1845.5976</td>\n",
              "      <td>0.0</td>\n",
              "      <td>0.0</td>\n",
              "      <td>0.0</td>\n",
              "      <td>0.0</td>\n",
              "      <td>0.0</td>\n",
              "      <td>0.0</td>\n",
              "      <td>0.0</td>\n",
              "      <td>0.0</td>\n",
              "      <td>0.0</td>\n",
              "      <td>0.0</td>\n",
              "      <td>0.0</td>\n",
              "      <td>0.0</td>\n",
              "      <td>0.0</td>\n",
              "      <td>1.0</td>\n",
              "      <td>0.0</td>\n",
              "      <td>0.0</td>\n",
              "      <td>0.0</td>\n",
              "      <td>0.0</td>\n",
              "      <td>0.0</td>\n",
              "      <td>1.0</td>\n",
              "      <td>0.0</td>\n",
              "      <td>0.0</td>\n",
              "      <td>0.0</td>\n",
              "      <td>0.0</td>\n",
              "      <td>0.0</td>\n",
              "      <td>0.0</td>\n",
              "    </tr>\n",
              "    <tr>\n",
              "      <th>8522</th>\n",
              "      <td>DRG01</td>\n",
              "      <td>14.800</td>\n",
              "      <td>0</td>\n",
              "      <td>Soft Drinks</td>\n",
              "      <td>14</td>\n",
              "      <td>75.4670</td>\n",
              "      <td>OUT046</td>\n",
              "      <td>8</td>\n",
              "      <td>2</td>\n",
              "      <td>1</td>\n",
              "      <td>1</td>\n",
              "      <td>1</td>\n",
              "      <td>765.6700</td>\n",
              "      <td>0.0</td>\n",
              "      <td>0.0</td>\n",
              "      <td>0.0</td>\n",
              "      <td>0.0</td>\n",
              "      <td>0.0</td>\n",
              "      <td>0.0</td>\n",
              "      <td>0.0</td>\n",
              "      <td>0.0</td>\n",
              "      <td>0.0</td>\n",
              "      <td>0.0</td>\n",
              "      <td>0.0</td>\n",
              "      <td>0.0</td>\n",
              "      <td>0.0</td>\n",
              "      <td>0.0</td>\n",
              "      <td>1.0</td>\n",
              "      <td>0.0</td>\n",
              "      <td>0.0</td>\n",
              "      <td>0.0</td>\n",
              "      <td>0.0</td>\n",
              "      <td>0.0</td>\n",
              "      <td>0.0</td>\n",
              "      <td>0.0</td>\n",
              "      <td>0.0</td>\n",
              "      <td>0.0</td>\n",
              "      <td>1.0</td>\n",
              "      <td>0.0</td>\n",
              "    </tr>\n",
              "  </tbody>\n",
              "</table>\n",
              "<p>8523 rows × 39 columns</p>\n",
              "</div>"
            ],
            "text/plain": [
              "     Item_Identifier  ...  Outlet_Identifier_OUT049\n",
              "0              FDA15  ...                       1.0\n",
              "1              DRC01  ...                       0.0\n",
              "2              FDN15  ...                       1.0\n",
              "3              FDX07  ...                       0.0\n",
              "4              NCD19  ...                       0.0\n",
              "...              ...  ...                       ...\n",
              "8518           FDF22  ...                       0.0\n",
              "8519           FDS36  ...                       0.0\n",
              "8520           NCJ29  ...                       0.0\n",
              "8521           FDN46  ...                       0.0\n",
              "8522           DRG01  ...                       0.0\n",
              "\n",
              "[8523 rows x 39 columns]"
            ]
          },
          "metadata": {
            "tags": []
          },
          "execution_count": 114
        }
      ]
    },
    {
      "cell_type": "code",
      "metadata": {
        "id": "5EQOkB4bguDC",
        "colab": {
          "base_uri": "https://localhost:8080/",
          "height": 257
        },
        "outputId": "1dc5b9a5-276f-4aee-a54d-27561ce7bada"
      },
      "source": [
        "# First feature matrix utilizing all data from dataset except columns that contain strings and\n",
        "# wrongly ordered columns that then were broken into categories in a OneHot situation\n",
        "\n",
        "ms_filter = mod_sales_ohe.loc[:, ['Item_Identifier', 'transformed_Item_Type', 'transformed_Outlet_Identifier', 'Item_Type', 'Outlet_Identifier', 'Item_Outlet_Sales']]\n",
        "mod_sales_X = mod_sales_ohe.drop(columns = ms_filter)\n",
        "\n",
        "mod_sales_X.head()"
      ],
      "execution_count": 115,
      "outputs": [
        {
          "output_type": "execute_result",
          "data": {
            "text/html": [
              "<div>\n",
              "<style scoped>\n",
              "    .dataframe tbody tr th:only-of-type {\n",
              "        vertical-align: middle;\n",
              "    }\n",
              "\n",
              "    .dataframe tbody tr th {\n",
              "        vertical-align: top;\n",
              "    }\n",
              "\n",
              "    .dataframe thead th {\n",
              "        text-align: right;\n",
              "    }\n",
              "</style>\n",
              "<table border=\"1\" class=\"dataframe\">\n",
              "  <thead>\n",
              "    <tr style=\"text-align: right;\">\n",
              "      <th></th>\n",
              "      <th>Item_Weight</th>\n",
              "      <th>Item_Fat_Content</th>\n",
              "      <th>Item_MRP</th>\n",
              "      <th>Outlet_Establishment_Year</th>\n",
              "      <th>Outlet_Size</th>\n",
              "      <th>Outlet_Location_Type</th>\n",
              "      <th>Outlet_Type</th>\n",
              "      <th>Baking Goods</th>\n",
              "      <th>Breads</th>\n",
              "      <th>Breakfast</th>\n",
              "      <th>Canned</th>\n",
              "      <th>Dairy</th>\n",
              "      <th>Frozen Foods</th>\n",
              "      <th>Fruits and Vegetables</th>\n",
              "      <th>Hard Drinks</th>\n",
              "      <th>Health and Hygiene</th>\n",
              "      <th>Household</th>\n",
              "      <th>Meat</th>\n",
              "      <th>Others</th>\n",
              "      <th>Seafood</th>\n",
              "      <th>Snack Foods</th>\n",
              "      <th>Soft Drinks</th>\n",
              "      <th>Starchy Foods</th>\n",
              "      <th>Outlet_Identifier_OUT010</th>\n",
              "      <th>Outlet_Identifier_OUT013</th>\n",
              "      <th>Outlet_Identifier_OUT017</th>\n",
              "      <th>Outlet_Identifier_OUT018</th>\n",
              "      <th>Outlet_Identifier_OUT019</th>\n",
              "      <th>Outlet_Identifier_OUT027</th>\n",
              "      <th>Outlet_Identifier_OUT035</th>\n",
              "      <th>Outlet_Identifier_OUT045</th>\n",
              "      <th>Outlet_Identifier_OUT046</th>\n",
              "      <th>Outlet_Identifier_OUT049</th>\n",
              "    </tr>\n",
              "  </thead>\n",
              "  <tbody>\n",
              "    <tr>\n",
              "      <th>0</th>\n",
              "      <td>9.30</td>\n",
              "      <td>0</td>\n",
              "      <td>249.8092</td>\n",
              "      <td>4</td>\n",
              "      <td>2</td>\n",
              "      <td>1</td>\n",
              "      <td>1</td>\n",
              "      <td>0.0</td>\n",
              "      <td>0.0</td>\n",
              "      <td>0.0</td>\n",
              "      <td>0.0</td>\n",
              "      <td>1.0</td>\n",
              "      <td>0.0</td>\n",
              "      <td>0.0</td>\n",
              "      <td>0.0</td>\n",
              "      <td>0.0</td>\n",
              "      <td>0.0</td>\n",
              "      <td>0.0</td>\n",
              "      <td>0.0</td>\n",
              "      <td>0.0</td>\n",
              "      <td>0.0</td>\n",
              "      <td>0.0</td>\n",
              "      <td>0.0</td>\n",
              "      <td>0.0</td>\n",
              "      <td>0.0</td>\n",
              "      <td>0.0</td>\n",
              "      <td>0.0</td>\n",
              "      <td>0.0</td>\n",
              "      <td>0.0</td>\n",
              "      <td>0.0</td>\n",
              "      <td>0.0</td>\n",
              "      <td>0.0</td>\n",
              "      <td>1.0</td>\n",
              "    </tr>\n",
              "    <tr>\n",
              "      <th>1</th>\n",
              "      <td>5.92</td>\n",
              "      <td>1</td>\n",
              "      <td>48.2692</td>\n",
              "      <td>8</td>\n",
              "      <td>2</td>\n",
              "      <td>3</td>\n",
              "      <td>2</td>\n",
              "      <td>0.0</td>\n",
              "      <td>0.0</td>\n",
              "      <td>0.0</td>\n",
              "      <td>0.0</td>\n",
              "      <td>0.0</td>\n",
              "      <td>0.0</td>\n",
              "      <td>0.0</td>\n",
              "      <td>0.0</td>\n",
              "      <td>0.0</td>\n",
              "      <td>0.0</td>\n",
              "      <td>0.0</td>\n",
              "      <td>0.0</td>\n",
              "      <td>0.0</td>\n",
              "      <td>0.0</td>\n",
              "      <td>1.0</td>\n",
              "      <td>0.0</td>\n",
              "      <td>0.0</td>\n",
              "      <td>0.0</td>\n",
              "      <td>0.0</td>\n",
              "      <td>1.0</td>\n",
              "      <td>0.0</td>\n",
              "      <td>0.0</td>\n",
              "      <td>0.0</td>\n",
              "      <td>0.0</td>\n",
              "      <td>0.0</td>\n",
              "      <td>0.0</td>\n",
              "    </tr>\n",
              "    <tr>\n",
              "      <th>2</th>\n",
              "      <td>17.50</td>\n",
              "      <td>0</td>\n",
              "      <td>141.6180</td>\n",
              "      <td>4</td>\n",
              "      <td>2</td>\n",
              "      <td>1</td>\n",
              "      <td>1</td>\n",
              "      <td>0.0</td>\n",
              "      <td>0.0</td>\n",
              "      <td>0.0</td>\n",
              "      <td>0.0</td>\n",
              "      <td>0.0</td>\n",
              "      <td>0.0</td>\n",
              "      <td>0.0</td>\n",
              "      <td>0.0</td>\n",
              "      <td>0.0</td>\n",
              "      <td>0.0</td>\n",
              "      <td>1.0</td>\n",
              "      <td>0.0</td>\n",
              "      <td>0.0</td>\n",
              "      <td>0.0</td>\n",
              "      <td>0.0</td>\n",
              "      <td>0.0</td>\n",
              "      <td>0.0</td>\n",
              "      <td>0.0</td>\n",
              "      <td>0.0</td>\n",
              "      <td>0.0</td>\n",
              "      <td>0.0</td>\n",
              "      <td>0.0</td>\n",
              "      <td>0.0</td>\n",
              "      <td>0.0</td>\n",
              "      <td>0.0</td>\n",
              "      <td>1.0</td>\n",
              "    </tr>\n",
              "    <tr>\n",
              "      <th>3</th>\n",
              "      <td>19.20</td>\n",
              "      <td>1</td>\n",
              "      <td>182.0950</td>\n",
              "      <td>3</td>\n",
              "      <td>0</td>\n",
              "      <td>3</td>\n",
              "      <td>0</td>\n",
              "      <td>0.0</td>\n",
              "      <td>0.0</td>\n",
              "      <td>0.0</td>\n",
              "      <td>0.0</td>\n",
              "      <td>0.0</td>\n",
              "      <td>0.0</td>\n",
              "      <td>1.0</td>\n",
              "      <td>0.0</td>\n",
              "      <td>0.0</td>\n",
              "      <td>0.0</td>\n",
              "      <td>0.0</td>\n",
              "      <td>0.0</td>\n",
              "      <td>0.0</td>\n",
              "      <td>0.0</td>\n",
              "      <td>0.0</td>\n",
              "      <td>0.0</td>\n",
              "      <td>1.0</td>\n",
              "      <td>0.0</td>\n",
              "      <td>0.0</td>\n",
              "      <td>0.0</td>\n",
              "      <td>0.0</td>\n",
              "      <td>0.0</td>\n",
              "      <td>0.0</td>\n",
              "      <td>0.0</td>\n",
              "      <td>0.0</td>\n",
              "      <td>0.0</td>\n",
              "    </tr>\n",
              "    <tr>\n",
              "      <th>4</th>\n",
              "      <td>8.93</td>\n",
              "      <td>0</td>\n",
              "      <td>53.8614</td>\n",
              "      <td>1</td>\n",
              "      <td>3</td>\n",
              "      <td>3</td>\n",
              "      <td>1</td>\n",
              "      <td>0.0</td>\n",
              "      <td>0.0</td>\n",
              "      <td>0.0</td>\n",
              "      <td>0.0</td>\n",
              "      <td>0.0</td>\n",
              "      <td>0.0</td>\n",
              "      <td>0.0</td>\n",
              "      <td>0.0</td>\n",
              "      <td>0.0</td>\n",
              "      <td>1.0</td>\n",
              "      <td>0.0</td>\n",
              "      <td>0.0</td>\n",
              "      <td>0.0</td>\n",
              "      <td>0.0</td>\n",
              "      <td>0.0</td>\n",
              "      <td>0.0</td>\n",
              "      <td>0.0</td>\n",
              "      <td>1.0</td>\n",
              "      <td>0.0</td>\n",
              "      <td>0.0</td>\n",
              "      <td>0.0</td>\n",
              "      <td>0.0</td>\n",
              "      <td>0.0</td>\n",
              "      <td>0.0</td>\n",
              "      <td>0.0</td>\n",
              "      <td>0.0</td>\n",
              "    </tr>\n",
              "  </tbody>\n",
              "</table>\n",
              "</div>"
            ],
            "text/plain": [
              "   Item_Weight  ...  Outlet_Identifier_OUT049\n",
              "0         9.30  ...                       1.0\n",
              "1         5.92  ...                       0.0\n",
              "2        17.50  ...                       1.0\n",
              "3        19.20  ...                       0.0\n",
              "4         8.93  ...                       0.0\n",
              "\n",
              "[5 rows x 33 columns]"
            ]
          },
          "metadata": {
            "tags": []
          },
          "execution_count": 115
        }
      ]
    },
    {
      "cell_type": "code",
      "metadata": {
        "id": "beVxrhGJh7gW",
        "colab": {
          "base_uri": "https://localhost:8080/"
        },
        "outputId": "9d5ff807-9c4d-41a4-f681-75a69348dee0"
      },
      "source": [
        "X = mod_sales_X.values\n",
        "X.shape"
      ],
      "execution_count": 116,
      "outputs": [
        {
          "output_type": "execute_result",
          "data": {
            "text/plain": [
              "(8523, 33)"
            ]
          },
          "metadata": {
            "tags": []
          },
          "execution_count": 116
        }
      ]
    },
    {
      "cell_type": "code",
      "metadata": {
        "id": "NNXv1CjxkEGk",
        "colab": {
          "base_uri": "https://localhost:8080/"
        },
        "outputId": "5610bebf-176a-4386-db69-ca61539221b2"
      },
      "source": [
        "#target vector\n",
        "\n",
        "y = mod_sales.loc[:, 'Item_Outlet_Sales'].values\n",
        "y.shape"
      ],
      "execution_count": 117,
      "outputs": [
        {
          "output_type": "execute_result",
          "data": {
            "text/plain": [
              "(8523,)"
            ]
          },
          "metadata": {
            "tags": []
          },
          "execution_count": 117
        }
      ]
    },
    {
      "cell_type": "code",
      "metadata": {
        "id": "GQhs9q5ckT71"
      },
      "source": [
        "reg = LinearRegression()"
      ],
      "execution_count": 118,
      "outputs": []
    },
    {
      "cell_type": "code",
      "metadata": {
        "id": "RrT89NgWl1ep",
        "colab": {
          "base_uri": "https://localhost:8080/"
        },
        "outputId": "ced64070-d0ab-4876-a391-285041443678"
      },
      "source": [
        "reg.fit(X,y)"
      ],
      "execution_count": 119,
      "outputs": [
        {
          "output_type": "execute_result",
          "data": {
            "text/plain": [
              "LinearRegression(copy_X=True, fit_intercept=True, n_jobs=None, normalize=False)"
            ]
          },
          "metadata": {
            "tags": []
          },
          "execution_count": 119
        }
      ]
    },
    {
      "cell_type": "code",
      "metadata": {
        "id": "for0JwLpl5Df",
        "colab": {
          "base_uri": "https://localhost:8080/"
        },
        "outputId": "3064d1fb-b937-4449-a138-7375fe86c8c5"
      },
      "source": [
        "pred = reg.predict(X)\n",
        "pred"
      ],
      "execution_count": 120,
      "outputs": [
        {
          "output_type": "execute_result",
          "data": {
            "text/plain": [
              "array([4004.03125   ,  548.69140625, 2359.87109375, ..., 1521.4453125 ,\n",
              "       1417.77734375, 1206.1875    ])"
            ]
          },
          "metadata": {
            "tags": []
          },
          "execution_count": 120
        }
      ]
    },
    {
      "cell_type": "code",
      "metadata": {
        "id": "mVfhG2WRrk9x",
        "colab": {
          "base_uri": "https://localhost:8080/"
        },
        "outputId": "4178d99a-255c-49a6-bf5a-2fcc151fef99"
      },
      "source": [
        "score = reg.score(X, y)\n",
        "\n",
        "score"
      ],
      "execution_count": 121,
      "outputs": [
        {
          "output_type": "execute_result",
          "data": {
            "text/plain": [
              "0.5636881077433815"
            ]
          },
          "metadata": {
            "tags": []
          },
          "execution_count": 121
        }
      ]
    },
    {
      "cell_type": "code",
      "metadata": {
        "id": "frjPdmgRsBBY",
        "colab": {
          "base_uri": "https://localhost:8080/"
        },
        "outputId": "22bde7bb-5749-4e95-a1f8-994fc59f46d9"
      },
      "source": [
        "np.sqrt(mean_squared_error(y, pred))"
      ],
      "execution_count": 122,
      "outputs": [
        {
          "output_type": "execute_result",
          "data": {
            "text/plain": [
              "1127.1435774690665"
            ]
          },
          "metadata": {
            "tags": []
          },
          "execution_count": 122
        }
      ]
    },
    {
      "cell_type": "code",
      "metadata": {
        "id": "O1BfyEJUsyXG",
        "colab": {
          "base_uri": "https://localhost:8080/",
          "height": 377
        },
        "outputId": "caef40e4-cee9-4233-dfff-c7794b12287e"
      },
      "source": [
        "sales.corr()"
      ],
      "execution_count": 123,
      "outputs": [
        {
          "output_type": "execute_result",
          "data": {
            "text/html": [
              "<div>\n",
              "<style scoped>\n",
              "    .dataframe tbody tr th:only-of-type {\n",
              "        vertical-align: middle;\n",
              "    }\n",
              "\n",
              "    .dataframe tbody tr th {\n",
              "        vertical-align: top;\n",
              "    }\n",
              "\n",
              "    .dataframe thead th {\n",
              "        text-align: right;\n",
              "    }\n",
              "</style>\n",
              "<table border=\"1\" class=\"dataframe\">\n",
              "  <thead>\n",
              "    <tr style=\"text-align: right;\">\n",
              "      <th></th>\n",
              "      <th>Item_Weight</th>\n",
              "      <th>Item_Fat_Content</th>\n",
              "      <th>transformed_Item_Type</th>\n",
              "      <th>Item_MRP</th>\n",
              "      <th>transformed_Outlet_Identifier</th>\n",
              "      <th>Outlet_Establishment_Year</th>\n",
              "      <th>Outlet_Size</th>\n",
              "      <th>Outlet_Location_Type</th>\n",
              "      <th>Outlet_Type</th>\n",
              "      <th>Item_Outlet_Sales</th>\n",
              "    </tr>\n",
              "  </thead>\n",
              "  <tbody>\n",
              "    <tr>\n",
              "      <th>Item_Weight</th>\n",
              "      <td>1.000000</td>\n",
              "      <td>-0.011943</td>\n",
              "      <td>0.019390</td>\n",
              "      <td>0.022859</td>\n",
              "      <td>0.004822</td>\n",
              "      <td>0.471542</td>\n",
              "      <td>-0.120341</td>\n",
              "      <td>-0.067122</td>\n",
              "      <td>-0.308917</td>\n",
              "      <td>-0.053222</td>\n",
              "    </tr>\n",
              "    <tr>\n",
              "      <th>Item_Fat_Content</th>\n",
              "      <td>-0.011943</td>\n",
              "      <td>1.000000</td>\n",
              "      <td>-0.139434</td>\n",
              "      <td>0.006063</td>\n",
              "      <td>0.000764</td>\n",
              "      <td>0.002447</td>\n",
              "      <td>0.001365</td>\n",
              "      <td>-0.001598</td>\n",
              "      <td>0.002199</td>\n",
              "      <td>0.018719</td>\n",
              "    </tr>\n",
              "    <tr>\n",
              "      <th>transformed_Item_Type</th>\n",
              "      <td>0.019390</td>\n",
              "      <td>-0.139434</td>\n",
              "      <td>1.000000</td>\n",
              "      <td>0.032651</td>\n",
              "      <td>0.001656</td>\n",
              "      <td>0.006527</td>\n",
              "      <td>-0.000827</td>\n",
              "      <td>0.003084</td>\n",
              "      <td>0.003053</td>\n",
              "      <td>0.017048</td>\n",
              "    </tr>\n",
              "    <tr>\n",
              "      <th>Item_MRP</th>\n",
              "      <td>0.022859</td>\n",
              "      <td>0.006063</td>\n",
              "      <td>0.032651</td>\n",
              "      <td>1.000000</td>\n",
              "      <td>0.003319</td>\n",
              "      <td>0.004162</td>\n",
              "      <td>0.002473</td>\n",
              "      <td>0.000232</td>\n",
              "      <td>-0.001975</td>\n",
              "      <td>0.567574</td>\n",
              "    </tr>\n",
              "    <tr>\n",
              "      <th>transformed_Outlet_Identifier</th>\n",
              "      <td>0.004822</td>\n",
              "      <td>0.000764</td>\n",
              "      <td>0.001656</td>\n",
              "      <td>0.003319</td>\n",
              "      <td>1.000000</td>\n",
              "      <td>-0.030969</td>\n",
              "      <td>-0.053224</td>\n",
              "      <td>-0.716176</td>\n",
              "      <td>0.099873</td>\n",
              "      <td>0.162325</td>\n",
              "    </tr>\n",
              "    <tr>\n",
              "      <th>Outlet_Establishment_Year</th>\n",
              "      <td>0.471542</td>\n",
              "      <td>0.002447</td>\n",
              "      <td>0.006527</td>\n",
              "      <td>0.004162</td>\n",
              "      <td>-0.030969</td>\n",
              "      <td>1.000000</td>\n",
              "      <td>-0.360690</td>\n",
              "      <td>0.042005</td>\n",
              "      <td>-0.040040</td>\n",
              "      <td>-0.025525</td>\n",
              "    </tr>\n",
              "    <tr>\n",
              "      <th>Outlet_Size</th>\n",
              "      <td>-0.120341</td>\n",
              "      <td>0.001365</td>\n",
              "      <td>-0.000827</td>\n",
              "      <td>0.002473</td>\n",
              "      <td>-0.053224</td>\n",
              "      <td>-0.360690</td>\n",
              "      <td>1.000000</td>\n",
              "      <td>0.290216</td>\n",
              "      <td>0.432062</td>\n",
              "      <td>0.172477</td>\n",
              "    </tr>\n",
              "    <tr>\n",
              "      <th>Outlet_Location_Type</th>\n",
              "      <td>-0.067122</td>\n",
              "      <td>-0.001598</td>\n",
              "      <td>0.003084</td>\n",
              "      <td>0.000232</td>\n",
              "      <td>-0.716176</td>\n",
              "      <td>0.042005</td>\n",
              "      <td>0.290216</td>\n",
              "      <td>1.000000</td>\n",
              "      <td>0.467219</td>\n",
              "      <td>0.089367</td>\n",
              "    </tr>\n",
              "    <tr>\n",
              "      <th>Outlet_Type</th>\n",
              "      <td>-0.308917</td>\n",
              "      <td>0.002199</td>\n",
              "      <td>0.003053</td>\n",
              "      <td>-0.001975</td>\n",
              "      <td>0.099873</td>\n",
              "      <td>-0.040040</td>\n",
              "      <td>0.432062</td>\n",
              "      <td>0.467219</td>\n",
              "      <td>1.000000</td>\n",
              "      <td>0.401522</td>\n",
              "    </tr>\n",
              "    <tr>\n",
              "      <th>Item_Outlet_Sales</th>\n",
              "      <td>-0.053222</td>\n",
              "      <td>0.018719</td>\n",
              "      <td>0.017048</td>\n",
              "      <td>0.567574</td>\n",
              "      <td>0.162325</td>\n",
              "      <td>-0.025525</td>\n",
              "      <td>0.172477</td>\n",
              "      <td>0.089367</td>\n",
              "      <td>0.401522</td>\n",
              "      <td>1.000000</td>\n",
              "    </tr>\n",
              "  </tbody>\n",
              "</table>\n",
              "</div>"
            ],
            "text/plain": [
              "                               Item_Weight  ...  Item_Outlet_Sales\n",
              "Item_Weight                       1.000000  ...          -0.053222\n",
              "Item_Fat_Content                 -0.011943  ...           0.018719\n",
              "transformed_Item_Type             0.019390  ...           0.017048\n",
              "Item_MRP                          0.022859  ...           0.567574\n",
              "transformed_Outlet_Identifier     0.004822  ...           0.162325\n",
              "Outlet_Establishment_Year         0.471542  ...          -0.025525\n",
              "Outlet_Size                      -0.120341  ...           0.172477\n",
              "Outlet_Location_Type             -0.067122  ...           0.089367\n",
              "Outlet_Type                      -0.308917  ...           0.401522\n",
              "Item_Outlet_Sales                -0.053222  ...           1.000000\n",
              "\n",
              "[10 rows x 10 columns]"
            ]
          },
          "metadata": {
            "tags": []
          },
          "execution_count": 123
        }
      ]
    },
    {
      "cell_type": "markdown",
      "metadata": {
        "id": "pVWXUBGt0n3H"
      },
      "source": [
        "\n",
        "\n",
        "\n",
        ">  Removing zero from the Item_Weight column\n",
        "\n",
        "\n",
        "\n",
        "\n"
      ]
    },
    {
      "cell_type": "code",
      "metadata": {
        "id": "OINu-5L6u-Dm"
      },
      "source": [
        "weight_filter = mod_sales_ohe.loc[:, 'Item_Weight'] <= 0\n",
        "mod_sales_weight_filter = mod_sales_X.loc[~weight_filter, :]"
      ],
      "execution_count": 124,
      "outputs": []
    },
    {
      "cell_type": "code",
      "metadata": {
        "id": "K6uxW5dWuNg_"
      },
      "source": [
        "# Second and Third Atempt... feature matrix - removing the zero I imputed in the Item_Weight column\n",
        "# during EDA (nothing weighs 0.000. I imputed to preserve the as much data as possible)\n",
        "\n",
        "mod_sales_X_2nd = mod_sales_weight_filter.loc[:, ['Item_Weight', 'Item_MRP', 'Outlet_Size', 'Outlet_Establishment_Year', 'Outlet_Type', 'Outlet_Location_Type']]\n",
        "mod_sales_X_3rd = mod_sales_weight_filter"
      ],
      "execution_count": 125,
      "outputs": []
    },
    {
      "cell_type": "code",
      "metadata": {
        "id": "HSqaYeIMHLVY",
        "colab": {
          "base_uri": "https://localhost:8080/",
          "height": 203
        },
        "outputId": "9d464080-6c3b-4e1a-8bbe-a44a7f130e74"
      },
      "source": [
        "# With the second attempt I am randomly choosing columns I think will contribute to the model\n",
        "\n",
        "mod_sales_X_2nd.head()"
      ],
      "execution_count": 126,
      "outputs": [
        {
          "output_type": "execute_result",
          "data": {
            "text/html": [
              "<div>\n",
              "<style scoped>\n",
              "    .dataframe tbody tr th:only-of-type {\n",
              "        vertical-align: middle;\n",
              "    }\n",
              "\n",
              "    .dataframe tbody tr th {\n",
              "        vertical-align: top;\n",
              "    }\n",
              "\n",
              "    .dataframe thead th {\n",
              "        text-align: right;\n",
              "    }\n",
              "</style>\n",
              "<table border=\"1\" class=\"dataframe\">\n",
              "  <thead>\n",
              "    <tr style=\"text-align: right;\">\n",
              "      <th></th>\n",
              "      <th>Item_Weight</th>\n",
              "      <th>Item_MRP</th>\n",
              "      <th>Outlet_Size</th>\n",
              "      <th>Outlet_Establishment_Year</th>\n",
              "      <th>Outlet_Type</th>\n",
              "      <th>Outlet_Location_Type</th>\n",
              "    </tr>\n",
              "  </thead>\n",
              "  <tbody>\n",
              "    <tr>\n",
              "      <th>0</th>\n",
              "      <td>9.30</td>\n",
              "      <td>249.8092</td>\n",
              "      <td>2</td>\n",
              "      <td>4</td>\n",
              "      <td>1</td>\n",
              "      <td>1</td>\n",
              "    </tr>\n",
              "    <tr>\n",
              "      <th>1</th>\n",
              "      <td>5.92</td>\n",
              "      <td>48.2692</td>\n",
              "      <td>2</td>\n",
              "      <td>8</td>\n",
              "      <td>2</td>\n",
              "      <td>3</td>\n",
              "    </tr>\n",
              "    <tr>\n",
              "      <th>2</th>\n",
              "      <td>17.50</td>\n",
              "      <td>141.6180</td>\n",
              "      <td>2</td>\n",
              "      <td>4</td>\n",
              "      <td>1</td>\n",
              "      <td>1</td>\n",
              "    </tr>\n",
              "    <tr>\n",
              "      <th>3</th>\n",
              "      <td>19.20</td>\n",
              "      <td>182.0950</td>\n",
              "      <td>0</td>\n",
              "      <td>3</td>\n",
              "      <td>0</td>\n",
              "      <td>3</td>\n",
              "    </tr>\n",
              "    <tr>\n",
              "      <th>4</th>\n",
              "      <td>8.93</td>\n",
              "      <td>53.8614</td>\n",
              "      <td>3</td>\n",
              "      <td>1</td>\n",
              "      <td>1</td>\n",
              "      <td>3</td>\n",
              "    </tr>\n",
              "  </tbody>\n",
              "</table>\n",
              "</div>"
            ],
            "text/plain": [
              "   Item_Weight  Item_MRP  ...  Outlet_Type  Outlet_Location_Type\n",
              "0         9.30  249.8092  ...            1                     1\n",
              "1         5.92   48.2692  ...            2                     3\n",
              "2        17.50  141.6180  ...            1                     1\n",
              "3        19.20  182.0950  ...            0                     3\n",
              "4         8.93   53.8614  ...            1                     3\n",
              "\n",
              "[5 rows x 6 columns]"
            ]
          },
          "metadata": {
            "tags": []
          },
          "execution_count": 126
        }
      ]
    },
    {
      "cell_type": "code",
      "metadata": {
        "id": "g9RUwkcWHNq9",
        "colab": {
          "base_uri": "https://localhost:8080/",
          "height": 257
        },
        "outputId": "13ca4dc3-9f92-463c-8f58-ba1fc290aa48"
      },
      "source": [
        "# With the third attempt I am choosing all columns, but I've still removed the zero values I\n",
        "# imputed during EDA\n",
        "\n",
        "mod_sales_X_3rd.head()"
      ],
      "execution_count": 127,
      "outputs": [
        {
          "output_type": "execute_result",
          "data": {
            "text/html": [
              "<div>\n",
              "<style scoped>\n",
              "    .dataframe tbody tr th:only-of-type {\n",
              "        vertical-align: middle;\n",
              "    }\n",
              "\n",
              "    .dataframe tbody tr th {\n",
              "        vertical-align: top;\n",
              "    }\n",
              "\n",
              "    .dataframe thead th {\n",
              "        text-align: right;\n",
              "    }\n",
              "</style>\n",
              "<table border=\"1\" class=\"dataframe\">\n",
              "  <thead>\n",
              "    <tr style=\"text-align: right;\">\n",
              "      <th></th>\n",
              "      <th>Item_Weight</th>\n",
              "      <th>Item_Fat_Content</th>\n",
              "      <th>Item_MRP</th>\n",
              "      <th>Outlet_Establishment_Year</th>\n",
              "      <th>Outlet_Size</th>\n",
              "      <th>Outlet_Location_Type</th>\n",
              "      <th>Outlet_Type</th>\n",
              "      <th>Baking Goods</th>\n",
              "      <th>Breads</th>\n",
              "      <th>Breakfast</th>\n",
              "      <th>Canned</th>\n",
              "      <th>Dairy</th>\n",
              "      <th>Frozen Foods</th>\n",
              "      <th>Fruits and Vegetables</th>\n",
              "      <th>Hard Drinks</th>\n",
              "      <th>Health and Hygiene</th>\n",
              "      <th>Household</th>\n",
              "      <th>Meat</th>\n",
              "      <th>Others</th>\n",
              "      <th>Seafood</th>\n",
              "      <th>Snack Foods</th>\n",
              "      <th>Soft Drinks</th>\n",
              "      <th>Starchy Foods</th>\n",
              "      <th>Outlet_Identifier_OUT010</th>\n",
              "      <th>Outlet_Identifier_OUT013</th>\n",
              "      <th>Outlet_Identifier_OUT017</th>\n",
              "      <th>Outlet_Identifier_OUT018</th>\n",
              "      <th>Outlet_Identifier_OUT019</th>\n",
              "      <th>Outlet_Identifier_OUT027</th>\n",
              "      <th>Outlet_Identifier_OUT035</th>\n",
              "      <th>Outlet_Identifier_OUT045</th>\n",
              "      <th>Outlet_Identifier_OUT046</th>\n",
              "      <th>Outlet_Identifier_OUT049</th>\n",
              "    </tr>\n",
              "  </thead>\n",
              "  <tbody>\n",
              "    <tr>\n",
              "      <th>0</th>\n",
              "      <td>9.30</td>\n",
              "      <td>0</td>\n",
              "      <td>249.8092</td>\n",
              "      <td>4</td>\n",
              "      <td>2</td>\n",
              "      <td>1</td>\n",
              "      <td>1</td>\n",
              "      <td>0.0</td>\n",
              "      <td>0.0</td>\n",
              "      <td>0.0</td>\n",
              "      <td>0.0</td>\n",
              "      <td>1.0</td>\n",
              "      <td>0.0</td>\n",
              "      <td>0.0</td>\n",
              "      <td>0.0</td>\n",
              "      <td>0.0</td>\n",
              "      <td>0.0</td>\n",
              "      <td>0.0</td>\n",
              "      <td>0.0</td>\n",
              "      <td>0.0</td>\n",
              "      <td>0.0</td>\n",
              "      <td>0.0</td>\n",
              "      <td>0.0</td>\n",
              "      <td>0.0</td>\n",
              "      <td>0.0</td>\n",
              "      <td>0.0</td>\n",
              "      <td>0.0</td>\n",
              "      <td>0.0</td>\n",
              "      <td>0.0</td>\n",
              "      <td>0.0</td>\n",
              "      <td>0.0</td>\n",
              "      <td>0.0</td>\n",
              "      <td>1.0</td>\n",
              "    </tr>\n",
              "    <tr>\n",
              "      <th>1</th>\n",
              "      <td>5.92</td>\n",
              "      <td>1</td>\n",
              "      <td>48.2692</td>\n",
              "      <td>8</td>\n",
              "      <td>2</td>\n",
              "      <td>3</td>\n",
              "      <td>2</td>\n",
              "      <td>0.0</td>\n",
              "      <td>0.0</td>\n",
              "      <td>0.0</td>\n",
              "      <td>0.0</td>\n",
              "      <td>0.0</td>\n",
              "      <td>0.0</td>\n",
              "      <td>0.0</td>\n",
              "      <td>0.0</td>\n",
              "      <td>0.0</td>\n",
              "      <td>0.0</td>\n",
              "      <td>0.0</td>\n",
              "      <td>0.0</td>\n",
              "      <td>0.0</td>\n",
              "      <td>0.0</td>\n",
              "      <td>1.0</td>\n",
              "      <td>0.0</td>\n",
              "      <td>0.0</td>\n",
              "      <td>0.0</td>\n",
              "      <td>0.0</td>\n",
              "      <td>1.0</td>\n",
              "      <td>0.0</td>\n",
              "      <td>0.0</td>\n",
              "      <td>0.0</td>\n",
              "      <td>0.0</td>\n",
              "      <td>0.0</td>\n",
              "      <td>0.0</td>\n",
              "    </tr>\n",
              "    <tr>\n",
              "      <th>2</th>\n",
              "      <td>17.50</td>\n",
              "      <td>0</td>\n",
              "      <td>141.6180</td>\n",
              "      <td>4</td>\n",
              "      <td>2</td>\n",
              "      <td>1</td>\n",
              "      <td>1</td>\n",
              "      <td>0.0</td>\n",
              "      <td>0.0</td>\n",
              "      <td>0.0</td>\n",
              "      <td>0.0</td>\n",
              "      <td>0.0</td>\n",
              "      <td>0.0</td>\n",
              "      <td>0.0</td>\n",
              "      <td>0.0</td>\n",
              "      <td>0.0</td>\n",
              "      <td>0.0</td>\n",
              "      <td>1.0</td>\n",
              "      <td>0.0</td>\n",
              "      <td>0.0</td>\n",
              "      <td>0.0</td>\n",
              "      <td>0.0</td>\n",
              "      <td>0.0</td>\n",
              "      <td>0.0</td>\n",
              "      <td>0.0</td>\n",
              "      <td>0.0</td>\n",
              "      <td>0.0</td>\n",
              "      <td>0.0</td>\n",
              "      <td>0.0</td>\n",
              "      <td>0.0</td>\n",
              "      <td>0.0</td>\n",
              "      <td>0.0</td>\n",
              "      <td>1.0</td>\n",
              "    </tr>\n",
              "    <tr>\n",
              "      <th>3</th>\n",
              "      <td>19.20</td>\n",
              "      <td>1</td>\n",
              "      <td>182.0950</td>\n",
              "      <td>3</td>\n",
              "      <td>0</td>\n",
              "      <td>3</td>\n",
              "      <td>0</td>\n",
              "      <td>0.0</td>\n",
              "      <td>0.0</td>\n",
              "      <td>0.0</td>\n",
              "      <td>0.0</td>\n",
              "      <td>0.0</td>\n",
              "      <td>0.0</td>\n",
              "      <td>1.0</td>\n",
              "      <td>0.0</td>\n",
              "      <td>0.0</td>\n",
              "      <td>0.0</td>\n",
              "      <td>0.0</td>\n",
              "      <td>0.0</td>\n",
              "      <td>0.0</td>\n",
              "      <td>0.0</td>\n",
              "      <td>0.0</td>\n",
              "      <td>0.0</td>\n",
              "      <td>1.0</td>\n",
              "      <td>0.0</td>\n",
              "      <td>0.0</td>\n",
              "      <td>0.0</td>\n",
              "      <td>0.0</td>\n",
              "      <td>0.0</td>\n",
              "      <td>0.0</td>\n",
              "      <td>0.0</td>\n",
              "      <td>0.0</td>\n",
              "      <td>0.0</td>\n",
              "    </tr>\n",
              "    <tr>\n",
              "      <th>4</th>\n",
              "      <td>8.93</td>\n",
              "      <td>0</td>\n",
              "      <td>53.8614</td>\n",
              "      <td>1</td>\n",
              "      <td>3</td>\n",
              "      <td>3</td>\n",
              "      <td>1</td>\n",
              "      <td>0.0</td>\n",
              "      <td>0.0</td>\n",
              "      <td>0.0</td>\n",
              "      <td>0.0</td>\n",
              "      <td>0.0</td>\n",
              "      <td>0.0</td>\n",
              "      <td>0.0</td>\n",
              "      <td>0.0</td>\n",
              "      <td>0.0</td>\n",
              "      <td>1.0</td>\n",
              "      <td>0.0</td>\n",
              "      <td>0.0</td>\n",
              "      <td>0.0</td>\n",
              "      <td>0.0</td>\n",
              "      <td>0.0</td>\n",
              "      <td>0.0</td>\n",
              "      <td>0.0</td>\n",
              "      <td>1.0</td>\n",
              "      <td>0.0</td>\n",
              "      <td>0.0</td>\n",
              "      <td>0.0</td>\n",
              "      <td>0.0</td>\n",
              "      <td>0.0</td>\n",
              "      <td>0.0</td>\n",
              "      <td>0.0</td>\n",
              "      <td>0.0</td>\n",
              "    </tr>\n",
              "  </tbody>\n",
              "</table>\n",
              "</div>"
            ],
            "text/plain": [
              "   Item_Weight  ...  Outlet_Identifier_OUT049\n",
              "0         9.30  ...                       1.0\n",
              "1         5.92  ...                       0.0\n",
              "2        17.50  ...                       1.0\n",
              "3        19.20  ...                       0.0\n",
              "4         8.93  ...                       0.0\n",
              "\n",
              "[5 rows x 33 columns]"
            ]
          },
          "metadata": {
            "tags": []
          },
          "execution_count": 127
        }
      ]
    },
    {
      "cell_type": "code",
      "metadata": {
        "id": "YZZIzeOkxZYo",
        "colab": {
          "base_uri": "https://localhost:8080/"
        },
        "outputId": "e25214e2-8b3c-4aa2-965d-3ff6e169035b"
      },
      "source": [
        "X2 = mod_sales_X_2nd.values\n",
        "X2.shape"
      ],
      "execution_count": 128,
      "outputs": [
        {
          "output_type": "execute_result",
          "data": {
            "text/plain": [
              "(7060, 6)"
            ]
          },
          "metadata": {
            "tags": []
          },
          "execution_count": 128
        }
      ]
    },
    {
      "cell_type": "code",
      "metadata": {
        "id": "dhuZyiLExGiv",
        "colab": {
          "base_uri": "https://localhost:8080/"
        },
        "outputId": "9f3f0f10-036b-4ca2-d088-ff5f4886667f"
      },
      "source": [
        "#target vector\n",
        "\n",
        "y2 = mod_sales_ohe.loc[~weight_filter, 'Item_Outlet_Sales'].values\n",
        "y2.shape"
      ],
      "execution_count": 129,
      "outputs": [
        {
          "output_type": "execute_result",
          "data": {
            "text/plain": [
              "(7060,)"
            ]
          },
          "metadata": {
            "tags": []
          },
          "execution_count": 129
        }
      ]
    },
    {
      "cell_type": "code",
      "metadata": {
        "id": "4t-ZlQP0xfl_"
      },
      "source": [
        "reg2 = LinearRegression(fit_intercept=True)"
      ],
      "execution_count": 130,
      "outputs": []
    },
    {
      "cell_type": "code",
      "metadata": {
        "id": "iy_vtE3-K7HS",
        "colab": {
          "base_uri": "https://localhost:8080/"
        },
        "outputId": "2adb479b-21e6-4bf5-a02a-f955e31d6e10"
      },
      "source": [
        "reg2.fit(X2,y2)"
      ],
      "execution_count": 131,
      "outputs": [
        {
          "output_type": "execute_result",
          "data": {
            "text/plain": [
              "LinearRegression(copy_X=True, fit_intercept=True, n_jobs=None, normalize=False)"
            ]
          },
          "metadata": {
            "tags": []
          },
          "execution_count": 131
        }
      ]
    },
    {
      "cell_type": "code",
      "metadata": {
        "id": "yGKftCEIMdxF",
        "colab": {
          "base_uri": "https://localhost:8080/"
        },
        "outputId": "db87b6c0-3d47-4aa9-bffd-6b1dafa4d5fe"
      },
      "source": [
        "p2 = reg2.predict(X2)\n",
        "p2"
      ],
      "execution_count": 132,
      "outputs": [
        {
          "output_type": "execute_result",
          "data": {
            "text/plain": [
              "array([4230.4893468 ,  987.77867213, 2574.18482421, ..., 1240.21603973,\n",
              "       1822.94685296, 1487.29725482])"
            ]
          },
          "metadata": {
            "tags": []
          },
          "execution_count": 132
        }
      ]
    },
    {
      "cell_type": "code",
      "metadata": {
        "id": "kQI4mhUlyBnB",
        "colab": {
          "base_uri": "https://localhost:8080/"
        },
        "outputId": "b83a0d47-7fd6-4029-efe4-063434457265"
      },
      "source": [
        "# Muvh Worse!\n",
        "\n",
        "reg2.score(X2,y2)"
      ],
      "execution_count": 133,
      "outputs": [
        {
          "output_type": "execute_result",
          "data": {
            "text/plain": [
              "0.4526393313239391"
            ]
          },
          "metadata": {
            "tags": []
          },
          "execution_count": 133
        }
      ]
    },
    {
      "cell_type": "code",
      "metadata": {
        "id": "NrNlZX7gy-hn",
        "colab": {
          "base_uri": "https://localhost:8080/"
        },
        "outputId": "5e02709b-0303-4f4b-a0a0-2594b77bb04f"
      },
      "source": [
        "np.sqrt(mean_squared_error(y2, p2))"
      ],
      "execution_count": 134,
      "outputs": [
        {
          "output_type": "execute_result",
          "data": {
            "text/plain": [
              "1134.4215715365553"
            ]
          },
          "metadata": {
            "tags": []
          },
          "execution_count": 134
        }
      ]
    },
    {
      "cell_type": "code",
      "metadata": {
        "id": "XSPuhCHlHaZ7",
        "colab": {
          "base_uri": "https://localhost:8080/"
        },
        "outputId": "beaeb860-41d2-462c-c8b0-c537832cfbbf"
      },
      "source": [
        "# testing with the weight filter and ALL the columns\n",
        "\n",
        "X3 = mod_sales_X_3rd.values\n",
        "X3.shape "
      ],
      "execution_count": 135,
      "outputs": [
        {
          "output_type": "execute_result",
          "data": {
            "text/plain": [
              "(7060, 33)"
            ]
          },
          "metadata": {
            "tags": []
          },
          "execution_count": 135
        }
      ]
    },
    {
      "cell_type": "code",
      "metadata": {
        "id": "CjceM_cHHmfe",
        "colab": {
          "base_uri": "https://localhost:8080/"
        },
        "outputId": "544207c7-6df0-485f-a753-a3765df0cc6c"
      },
      "source": [
        "y3 = mod_sales_ohe.loc[~weight_filter, 'Item_Outlet_Sales'].values\n",
        "y3.shape"
      ],
      "execution_count": 136,
      "outputs": [
        {
          "output_type": "execute_result",
          "data": {
            "text/plain": [
              "(7060,)"
            ]
          },
          "metadata": {
            "tags": []
          },
          "execution_count": 136
        }
      ]
    },
    {
      "cell_type": "code",
      "metadata": {
        "id": "LfA9tnEsJxmz",
        "colab": {
          "base_uri": "https://localhost:8080/"
        },
        "outputId": "d54efa84-6dde-41fc-f4e9-a319d785557a"
      },
      "source": [
        "reg3 = reg2\n",
        "reg3.fit(X3,y3)"
      ],
      "execution_count": 137,
      "outputs": [
        {
          "output_type": "execute_result",
          "data": {
            "text/plain": [
              "LinearRegression(copy_X=True, fit_intercept=True, n_jobs=None, normalize=False)"
            ]
          },
          "metadata": {
            "tags": []
          },
          "execution_count": 137
        }
      ]
    },
    {
      "cell_type": "code",
      "metadata": {
        "id": "bYX0YKrJIv1k",
        "colab": {
          "base_uri": "https://localhost:8080/"
        },
        "outputId": "64a14528-6f3b-4fd1-a8e6-6cdbdb2d13e7"
      },
      "source": [
        "p3 = reg3.predict(X3)\n",
        "p3"
      ],
      "execution_count": 138,
      "outputs": [
        {
          "output_type": "execute_result",
          "data": {
            "text/plain": [
              "array([3950.12596657,  596.9276011 , 2325.76382262, ..., 1548.24380045,\n",
              "       1442.04406828, 1236.09977952])"
            ]
          },
          "metadata": {
            "tags": []
          },
          "execution_count": 138
        }
      ]
    },
    {
      "cell_type": "code",
      "metadata": {
        "id": "zsWI2yr4JZGn",
        "colab": {
          "base_uri": "https://localhost:8080/"
        },
        "outputId": "4c564dd4-aa49-496a-9bda-c35e1627987c"
      },
      "source": [
        "# Also Worse!\n",
        "\n",
        "reg3.score(X3,y3)"
      ],
      "execution_count": 139,
      "outputs": [
        {
          "output_type": "execute_result",
          "data": {
            "text/plain": [
              "0.507408550458427"
            ]
          },
          "metadata": {
            "tags": []
          },
          "execution_count": 139
        }
      ]
    },
    {
      "cell_type": "code",
      "metadata": {
        "id": "7MKXXnQIKbbI",
        "colab": {
          "base_uri": "https://localhost:8080/"
        },
        "outputId": "bb6423c8-f8e7-46e0-f282-2dec847df716"
      },
      "source": [
        "#This is the lowest so far, but stil seems high\n",
        "\n",
        "np.sqrt(mean_squared_error(y3, p3))"
      ],
      "execution_count": 140,
      "outputs": [
        {
          "output_type": "execute_result",
          "data": {
            "text/plain": [
              "1076.1705843921097"
            ]
          },
          "metadata": {
            "tags": []
          },
          "execution_count": 140
        }
      ]
    },
    {
      "cell_type": "markdown",
      "metadata": {
        "id": "P8bSoZBs1DO0"
      },
      "source": [
        "\n",
        "\n",
        "> Trying only columns that correlate well with the sales column and I combine all the transformed categorical columns as well.\n"
      ]
    },
    {
      "cell_type": "code",
      "metadata": {
        "id": "vxZ7j2Qk2MGc",
        "colab": {
          "base_uri": "https://localhost:8080/"
        },
        "outputId": "c82baef2-c503-4742-ec38-a46a0a526054"
      },
      "source": [
        "# Am I supposed to get rid of a row from my OneHot stuff?\n",
        "\n",
        "mod_sales_ohe.info()"
      ],
      "execution_count": 141,
      "outputs": [
        {
          "output_type": "stream",
          "text": [
            "<class 'pandas.core.frame.DataFrame'>\n",
            "RangeIndex: 8523 entries, 0 to 8522\n",
            "Data columns (total 39 columns):\n",
            " #   Column                         Non-Null Count  Dtype  \n",
            "---  ------                         --------------  -----  \n",
            " 0   Item_Identifier                8523 non-null   object \n",
            " 1   Item_Weight                    8523 non-null   float64\n",
            " 2   Item_Fat_Content               8523 non-null   int64  \n",
            " 3   Item_Type                      8523 non-null   object \n",
            " 4   transformed_Item_Type          8523 non-null   int64  \n",
            " 5   Item_MRP                       8523 non-null   float64\n",
            " 6   Outlet_Identifier              8523 non-null   object \n",
            " 7   transformed_Outlet_Identifier  8523 non-null   int64  \n",
            " 8   Outlet_Establishment_Year      8523 non-null   int64  \n",
            " 9   Outlet_Size                    8523 non-null   int64  \n",
            " 10  Outlet_Location_Type           8523 non-null   int64  \n",
            " 11  Outlet_Type                    8523 non-null   int64  \n",
            " 12  Item_Outlet_Sales              8523 non-null   float64\n",
            " 13  Baking Goods                   8523 non-null   float64\n",
            " 14  Breads                         8523 non-null   float64\n",
            " 15  Breakfast                      8523 non-null   float64\n",
            " 16  Canned                         8523 non-null   float64\n",
            " 17  Dairy                          8523 non-null   float64\n",
            " 18  Frozen Foods                   8523 non-null   float64\n",
            " 19  Fruits and Vegetables          8523 non-null   float64\n",
            " 20  Hard Drinks                    8523 non-null   float64\n",
            " 21  Health and Hygiene             8523 non-null   float64\n",
            " 22  Household                      8523 non-null   float64\n",
            " 23  Meat                           8523 non-null   float64\n",
            " 24  Others                         8523 non-null   float64\n",
            " 25  Seafood                        8523 non-null   float64\n",
            " 26  Snack Foods                    8523 non-null   float64\n",
            " 27  Soft Drinks                    8523 non-null   float64\n",
            " 28  Starchy Foods                  8523 non-null   float64\n",
            " 29  Outlet_Identifier_OUT010       8523 non-null   float64\n",
            " 30  Outlet_Identifier_OUT013       8523 non-null   float64\n",
            " 31  Outlet_Identifier_OUT017       8523 non-null   float64\n",
            " 32  Outlet_Identifier_OUT018       8523 non-null   float64\n",
            " 33  Outlet_Identifier_OUT019       8523 non-null   float64\n",
            " 34  Outlet_Identifier_OUT027       8523 non-null   float64\n",
            " 35  Outlet_Identifier_OUT035       8523 non-null   float64\n",
            " 36  Outlet_Identifier_OUT045       8523 non-null   float64\n",
            " 37  Outlet_Identifier_OUT046       8523 non-null   float64\n",
            " 38  Outlet_Identifier_OUT049       8523 non-null   float64\n",
            "dtypes: float64(29), int64(7), object(3)\n",
            "memory usage: 2.5+ MB\n"
          ],
          "name": "stdout"
        }
      ]
    },
    {
      "cell_type": "code",
      "metadata": {
        "id": "Bm5UjaT54PPf",
        "colab": {
          "base_uri": "https://localhost:8080/",
          "height": 1000
        },
        "outputId": "cb321766-85ec-4cf6-c9e2-72e7625a6d0a"
      },
      "source": [
        "mod_sales_ohe.corr()"
      ],
      "execution_count": 142,
      "outputs": [
        {
          "output_type": "execute_result",
          "data": {
            "text/html": [
              "<div>\n",
              "<style scoped>\n",
              "    .dataframe tbody tr th:only-of-type {\n",
              "        vertical-align: middle;\n",
              "    }\n",
              "\n",
              "    .dataframe tbody tr th {\n",
              "        vertical-align: top;\n",
              "    }\n",
              "\n",
              "    .dataframe thead th {\n",
              "        text-align: right;\n",
              "    }\n",
              "</style>\n",
              "<table border=\"1\" class=\"dataframe\">\n",
              "  <thead>\n",
              "    <tr style=\"text-align: right;\">\n",
              "      <th></th>\n",
              "      <th>Item_Weight</th>\n",
              "      <th>Item_Fat_Content</th>\n",
              "      <th>transformed_Item_Type</th>\n",
              "      <th>Item_MRP</th>\n",
              "      <th>transformed_Outlet_Identifier</th>\n",
              "      <th>Outlet_Establishment_Year</th>\n",
              "      <th>Outlet_Size</th>\n",
              "      <th>Outlet_Location_Type</th>\n",
              "      <th>Outlet_Type</th>\n",
              "      <th>Item_Outlet_Sales</th>\n",
              "      <th>Baking Goods</th>\n",
              "      <th>Breads</th>\n",
              "      <th>Breakfast</th>\n",
              "      <th>Canned</th>\n",
              "      <th>Dairy</th>\n",
              "      <th>Frozen Foods</th>\n",
              "      <th>Fruits and Vegetables</th>\n",
              "      <th>Hard Drinks</th>\n",
              "      <th>Health and Hygiene</th>\n",
              "      <th>Household</th>\n",
              "      <th>Meat</th>\n",
              "      <th>Others</th>\n",
              "      <th>Seafood</th>\n",
              "      <th>Snack Foods</th>\n",
              "      <th>Soft Drinks</th>\n",
              "      <th>Starchy Foods</th>\n",
              "      <th>Outlet_Identifier_OUT010</th>\n",
              "      <th>Outlet_Identifier_OUT013</th>\n",
              "      <th>Outlet_Identifier_OUT017</th>\n",
              "      <th>Outlet_Identifier_OUT018</th>\n",
              "      <th>Outlet_Identifier_OUT019</th>\n",
              "      <th>Outlet_Identifier_OUT027</th>\n",
              "      <th>Outlet_Identifier_OUT035</th>\n",
              "      <th>Outlet_Identifier_OUT045</th>\n",
              "      <th>Outlet_Identifier_OUT046</th>\n",
              "      <th>Outlet_Identifier_OUT049</th>\n",
              "    </tr>\n",
              "  </thead>\n",
              "  <tbody>\n",
              "    <tr>\n",
              "      <th>Item_Weight</th>\n",
              "      <td>1.000000</td>\n",
              "      <td>-0.011943</td>\n",
              "      <td>0.019390</td>\n",
              "      <td>0.022859</td>\n",
              "      <td>0.004822</td>\n",
              "      <td>0.471542</td>\n",
              "      <td>-0.120341</td>\n",
              "      <td>-0.067122</td>\n",
              "      <td>-0.308917</td>\n",
              "      <td>-0.053222</td>\n",
              "      <td>-0.022098</td>\n",
              "      <td>-0.038687</td>\n",
              "      <td>-0.005688</td>\n",
              "      <td>-0.019221</td>\n",
              "      <td>0.022555</td>\n",
              "      <td>0.007383</td>\n",
              "      <td>0.018392</td>\n",
              "      <td>-0.022500</td>\n",
              "      <td>0.008604</td>\n",
              "      <td>0.027586</td>\n",
              "      <td>-0.017354</td>\n",
              "      <td>0.012817</td>\n",
              "      <td>-0.008758</td>\n",
              "      <td>0.002692</td>\n",
              "      <td>-0.025304</td>\n",
              "      <td>0.028421</td>\n",
              "      <td>0.092845</td>\n",
              "      <td>0.128333</td>\n",
              "      <td>0.118126</td>\n",
              "      <td>0.120806</td>\n",
              "      <td>-0.425567</td>\n",
              "      <td>-0.581302</td>\n",
              "      <td>0.118558</td>\n",
              "      <td>0.108732</td>\n",
              "      <td>0.120596</td>\n",
              "      <td>0.123352</td>\n",
              "    </tr>\n",
              "    <tr>\n",
              "      <th>Item_Fat_Content</th>\n",
              "      <td>-0.011943</td>\n",
              "      <td>1.000000</td>\n",
              "      <td>-0.139434</td>\n",
              "      <td>0.006063</td>\n",
              "      <td>0.000764</td>\n",
              "      <td>0.002447</td>\n",
              "      <td>0.001365</td>\n",
              "      <td>-0.001598</td>\n",
              "      <td>0.002199</td>\n",
              "      <td>0.018719</td>\n",
              "      <td>0.083804</td>\n",
              "      <td>0.032643</td>\n",
              "      <td>0.065711</td>\n",
              "      <td>0.073235</td>\n",
              "      <td>0.021236</td>\n",
              "      <td>0.085041</td>\n",
              "      <td>0.116955</td>\n",
              "      <td>-0.118461</td>\n",
              "      <td>-0.188156</td>\n",
              "      <td>-0.255203</td>\n",
              "      <td>0.118574</td>\n",
              "      <td>-0.104988</td>\n",
              "      <td>0.012594</td>\n",
              "      <td>0.059848</td>\n",
              "      <td>-0.094875</td>\n",
              "      <td>0.025945</td>\n",
              "      <td>0.000254</td>\n",
              "      <td>-0.002132</td>\n",
              "      <td>0.004266</td>\n",
              "      <td>0.002129</td>\n",
              "      <td>-0.004300</td>\n",
              "      <td>0.000183</td>\n",
              "      <td>-0.003154</td>\n",
              "      <td>-0.006029</td>\n",
              "      <td>0.003147</td>\n",
              "      <td>0.004722</td>\n",
              "    </tr>\n",
              "    <tr>\n",
              "      <th>transformed_Item_Type</th>\n",
              "      <td>0.019390</td>\n",
              "      <td>-0.139434</td>\n",
              "      <td>1.000000</td>\n",
              "      <td>0.032651</td>\n",
              "      <td>0.001656</td>\n",
              "      <td>0.006527</td>\n",
              "      <td>-0.000827</td>\n",
              "      <td>0.003084</td>\n",
              "      <td>0.003053</td>\n",
              "      <td>0.017048</td>\n",
              "      <td>-0.492431</td>\n",
              "      <td>-0.257651</td>\n",
              "      <td>-0.141968</td>\n",
              "      <td>-0.288249</td>\n",
              "      <td>-0.226051</td>\n",
              "      <td>-0.176737</td>\n",
              "      <td>-0.119781</td>\n",
              "      <td>-0.008642</td>\n",
              "      <td>0.046825</td>\n",
              "      <td>0.145638</td>\n",
              "      <td>0.150921</td>\n",
              "      <td>0.127486</td>\n",
              "      <td>0.098627</td>\n",
              "      <td>0.555157</td>\n",
              "      <td>0.377637</td>\n",
              "      <td>0.245465</td>\n",
              "      <td>0.000474</td>\n",
              "      <td>-0.003507</td>\n",
              "      <td>0.001083</td>\n",
              "      <td>-0.000659</td>\n",
              "      <td>-0.005167</td>\n",
              "      <td>0.002413</td>\n",
              "      <td>0.008062</td>\n",
              "      <td>0.001647</td>\n",
              "      <td>-0.011157</td>\n",
              "      <td>0.005738</td>\n",
              "    </tr>\n",
              "    <tr>\n",
              "      <th>Item_MRP</th>\n",
              "      <td>0.022859</td>\n",
              "      <td>0.006063</td>\n",
              "      <td>0.032651</td>\n",
              "      <td>1.000000</td>\n",
              "      <td>0.003319</td>\n",
              "      <td>0.004162</td>\n",
              "      <td>0.002473</td>\n",
              "      <td>0.000232</td>\n",
              "      <td>-0.001975</td>\n",
              "      <td>0.567574</td>\n",
              "      <td>-0.067311</td>\n",
              "      <td>-0.000112</td>\n",
              "      <td>0.001460</td>\n",
              "      <td>-0.005666</td>\n",
              "      <td>0.035551</td>\n",
              "      <td>-0.013358</td>\n",
              "      <td>0.023688</td>\n",
              "      <td>-0.010089</td>\n",
              "      <td>-0.041646</td>\n",
              "      <td>0.046815</td>\n",
              "      <td>-0.004086</td>\n",
              "      <td>-0.018595</td>\n",
              "      <td>0.001186</td>\n",
              "      <td>0.033817</td>\n",
              "      <td>-0.035808</td>\n",
              "      <td>0.014613</td>\n",
              "      <td>-0.000912</td>\n",
              "      <td>0.002438</td>\n",
              "      <td>-0.008812</td>\n",
              "      <td>0.003850</td>\n",
              "      <td>-0.004976</td>\n",
              "      <td>-0.006714</td>\n",
              "      <td>0.011969</td>\n",
              "      <td>-0.000239</td>\n",
              "      <td>0.005983</td>\n",
              "      <td>-0.003906</td>\n",
              "    </tr>\n",
              "    <tr>\n",
              "      <th>transformed_Outlet_Identifier</th>\n",
              "      <td>0.004822</td>\n",
              "      <td>0.000764</td>\n",
              "      <td>0.001656</td>\n",
              "      <td>0.003319</td>\n",
              "      <td>1.000000</td>\n",
              "      <td>-0.030969</td>\n",
              "      <td>-0.053224</td>\n",
              "      <td>-0.716176</td>\n",
              "      <td>0.099873</td>\n",
              "      <td>0.162325</td>\n",
              "      <td>-0.003127</td>\n",
              "      <td>0.005310</td>\n",
              "      <td>-0.008959</td>\n",
              "      <td>0.008613</td>\n",
              "      <td>-0.001158</td>\n",
              "      <td>-0.000175</td>\n",
              "      <td>0.000018</td>\n",
              "      <td>0.007251</td>\n",
              "      <td>-0.013406</td>\n",
              "      <td>-0.004322</td>\n",
              "      <td>-0.006264</td>\n",
              "      <td>0.005320</td>\n",
              "      <td>0.007078</td>\n",
              "      <td>0.009187</td>\n",
              "      <td>-0.001936</td>\n",
              "      <td>-0.002500</td>\n",
              "      <td>-0.439298</td>\n",
              "      <td>-0.459730</td>\n",
              "      <td>-0.335006</td>\n",
              "      <td>-0.212202</td>\n",
              "      <td>-0.065426</td>\n",
              "      <td>0.034362</td>\n",
              "      <td>0.157618</td>\n",
              "      <td>0.280807</td>\n",
              "      <td>0.404335</td>\n",
              "      <td>0.527694</td>\n",
              "    </tr>\n",
              "    <tr>\n",
              "      <th>Outlet_Establishment_Year</th>\n",
              "      <td>0.471542</td>\n",
              "      <td>0.002447</td>\n",
              "      <td>0.006527</td>\n",
              "      <td>0.004162</td>\n",
              "      <td>-0.030969</td>\n",
              "      <td>1.000000</td>\n",
              "      <td>-0.360690</td>\n",
              "      <td>0.042005</td>\n",
              "      <td>-0.040040</td>\n",
              "      <td>-0.025525</td>\n",
              "      <td>-0.004599</td>\n",
              "      <td>-0.003676</td>\n",
              "      <td>-0.005702</td>\n",
              "      <td>0.011803</td>\n",
              "      <td>-0.005583</td>\n",
              "      <td>0.004600</td>\n",
              "      <td>-0.003559</td>\n",
              "      <td>0.005986</td>\n",
              "      <td>-0.002362</td>\n",
              "      <td>-0.003830</td>\n",
              "      <td>-0.013434</td>\n",
              "      <td>-0.004509</td>\n",
              "      <td>-0.000798</td>\n",
              "      <td>0.005212</td>\n",
              "      <td>0.007562</td>\n",
              "      <td>0.012824</td>\n",
              "      <td>-0.076434</td>\n",
              "      <td>-0.358163</td>\n",
              "      <td>0.410401</td>\n",
              "      <td>0.538931</td>\n",
              "      <td>-0.356810</td>\n",
              "      <td>-0.487384</td>\n",
              "      <td>0.283207</td>\n",
              "      <td>0.154926</td>\n",
              "      <td>-0.229544</td>\n",
              "      <td>0.026832</td>\n",
              "    </tr>\n",
              "    <tr>\n",
              "      <th>Outlet_Size</th>\n",
              "      <td>-0.120341</td>\n",
              "      <td>0.001365</td>\n",
              "      <td>-0.000827</td>\n",
              "      <td>0.002473</td>\n",
              "      <td>-0.053224</td>\n",
              "      <td>-0.360690</td>\n",
              "      <td>1.000000</td>\n",
              "      <td>0.290216</td>\n",
              "      <td>0.432062</td>\n",
              "      <td>0.172477</td>\n",
              "      <td>-0.003061</td>\n",
              "      <td>-0.003630</td>\n",
              "      <td>0.002102</td>\n",
              "      <td>-0.000940</td>\n",
              "      <td>0.005333</td>\n",
              "      <td>-0.003424</td>\n",
              "      <td>0.007825</td>\n",
              "      <td>-0.001076</td>\n",
              "      <td>0.000945</td>\n",
              "      <td>-0.002271</td>\n",
              "      <td>0.001609</td>\n",
              "      <td>-0.005577</td>\n",
              "      <td>-0.005322</td>\n",
              "      <td>0.003285</td>\n",
              "      <td>-0.008169</td>\n",
              "      <td>0.003615</td>\n",
              "      <td>-0.337167</td>\n",
              "      <td>0.615103</td>\n",
              "      <td>-0.446023</td>\n",
              "      <td>0.260226</td>\n",
              "      <td>-0.068496</td>\n",
              "      <td>0.261326</td>\n",
              "      <td>-0.093281</td>\n",
              "      <td>-0.446833</td>\n",
              "      <td>-0.093281</td>\n",
              "      <td>0.260540</td>\n",
              "    </tr>\n",
              "    <tr>\n",
              "      <th>Outlet_Location_Type</th>\n",
              "      <td>-0.067122</td>\n",
              "      <td>-0.001598</td>\n",
              "      <td>0.003084</td>\n",
              "      <td>0.000232</td>\n",
              "      <td>-0.716176</td>\n",
              "      <td>0.042005</td>\n",
              "      <td>0.290216</td>\n",
              "      <td>1.000000</td>\n",
              "      <td>0.467219</td>\n",
              "      <td>0.089367</td>\n",
              "      <td>-0.003345</td>\n",
              "      <td>0.003987</td>\n",
              "      <td>-0.000532</td>\n",
              "      <td>-0.000138</td>\n",
              "      <td>-0.010098</td>\n",
              "      <td>-0.009422</td>\n",
              "      <td>0.008188</td>\n",
              "      <td>0.001703</td>\n",
              "      <td>0.011645</td>\n",
              "      <td>0.005277</td>\n",
              "      <td>0.003999</td>\n",
              "      <td>-0.014576</td>\n",
              "      <td>-0.005391</td>\n",
              "      <td>-0.001845</td>\n",
              "      <td>-0.001446</td>\n",
              "      <td>0.006957</td>\n",
              "      <td>0.288087</td>\n",
              "      <td>0.382481</td>\n",
              "      <td>-0.048488</td>\n",
              "      <td>0.381559</td>\n",
              "      <td>-0.351898</td>\n",
              "      <td>0.383172</td>\n",
              "      <td>-0.048605</td>\n",
              "      <td>-0.048576</td>\n",
              "      <td>-0.479230</td>\n",
              "      <td>-0.479230</td>\n",
              "    </tr>\n",
              "    <tr>\n",
              "      <th>Outlet_Type</th>\n",
              "      <td>-0.308917</td>\n",
              "      <td>0.002199</td>\n",
              "      <td>0.003053</td>\n",
              "      <td>-0.001975</td>\n",
              "      <td>0.099873</td>\n",
              "      <td>-0.040040</td>\n",
              "      <td>0.432062</td>\n",
              "      <td>0.467219</td>\n",
              "      <td>1.000000</td>\n",
              "      <td>0.401522</td>\n",
              "      <td>-0.005220</td>\n",
              "      <td>0.004787</td>\n",
              "      <td>-0.009312</td>\n",
              "      <td>0.010225</td>\n",
              "      <td>-0.012072</td>\n",
              "      <td>-0.002571</td>\n",
              "      <td>0.006325</td>\n",
              "      <td>0.000884</td>\n",
              "      <td>0.003918</td>\n",
              "      <td>-0.004346</td>\n",
              "      <td>0.004387</td>\n",
              "      <td>-0.011631</td>\n",
              "      <td>-0.003205</td>\n",
              "      <td>0.007851</td>\n",
              "      <td>-0.004995</td>\n",
              "      <td>0.002503</td>\n",
              "      <td>-0.398067</td>\n",
              "      <td>-0.088530</td>\n",
              "      <td>-0.088210</td>\n",
              "      <td>0.350590</td>\n",
              "      <td>-0.387608</td>\n",
              "      <td>0.792834</td>\n",
              "      <td>-0.088424</td>\n",
              "      <td>-0.088370</td>\n",
              "      <td>-0.088424</td>\n",
              "      <td>-0.088424</td>\n",
              "    </tr>\n",
              "    <tr>\n",
              "      <th>Item_Outlet_Sales</th>\n",
              "      <td>-0.053222</td>\n",
              "      <td>0.018719</td>\n",
              "      <td>0.017048</td>\n",
              "      <td>0.567574</td>\n",
              "      <td>0.162325</td>\n",
              "      <td>-0.025525</td>\n",
              "      <td>0.172477</td>\n",
              "      <td>0.089367</td>\n",
              "      <td>0.401522</td>\n",
              "      <td>1.000000</td>\n",
              "      <td>-0.038381</td>\n",
              "      <td>0.002332</td>\n",
              "      <td>-0.004656</td>\n",
              "      <td>0.007387</td>\n",
              "      <td>0.008858</td>\n",
              "      <td>-0.009482</td>\n",
              "      <td>0.025950</td>\n",
              "      <td>-0.003956</td>\n",
              "      <td>-0.025587</td>\n",
              "      <td>0.015701</td>\n",
              "      <td>-0.002995</td>\n",
              "      <td>-0.021267</td>\n",
              "      <td>0.007380</td>\n",
              "      <td>0.022782</td>\n",
              "      <td>-0.024040</td>\n",
              "      <td>0.015039</td>\n",
              "      <td>-0.284883</td>\n",
              "      <td>0.024170</td>\n",
              "      <td>0.032610</td>\n",
              "      <td>-0.038059</td>\n",
              "      <td>-0.277250</td>\n",
              "      <td>0.311192</td>\n",
              "      <td>0.052823</td>\n",
              "      <td>0.002274</td>\n",
              "      <td>0.019803</td>\n",
              "      <td>0.034264</td>\n",
              "    </tr>\n",
              "    <tr>\n",
              "      <th>Baking Goods</th>\n",
              "      <td>-0.022098</td>\n",
              "      <td>0.083804</td>\n",
              "      <td>-0.492431</td>\n",
              "      <td>-0.067311</td>\n",
              "      <td>-0.003127</td>\n",
              "      <td>-0.004599</td>\n",
              "      <td>-0.003061</td>\n",
              "      <td>-0.003345</td>\n",
              "      <td>-0.005220</td>\n",
              "      <td>-0.038381</td>\n",
              "      <td>1.000000</td>\n",
              "      <td>-0.049968</td>\n",
              "      <td>-0.032801</td>\n",
              "      <td>-0.082354</td>\n",
              "      <td>-0.084600</td>\n",
              "      <td>-0.095849</td>\n",
              "      <td>-0.117916</td>\n",
              "      <td>-0.046036</td>\n",
              "      <td>-0.073120</td>\n",
              "      <td>-0.099176</td>\n",
              "      <td>-0.065715</td>\n",
              "      <td>-0.040800</td>\n",
              "      <td>-0.024951</td>\n",
              "      <td>-0.116120</td>\n",
              "      <td>-0.067327</td>\n",
              "      <td>-0.038133</td>\n",
              "      <td>-0.000352</td>\n",
              "      <td>0.003036</td>\n",
              "      <td>0.003694</td>\n",
              "      <td>-0.003632</td>\n",
              "      <td>0.005245</td>\n",
              "      <td>-0.002957</td>\n",
              "      <td>-0.003844</td>\n",
              "      <td>-0.000897</td>\n",
              "      <td>0.007514</td>\n",
              "      <td>-0.006684</td>\n",
              "    </tr>\n",
              "    <tr>\n",
              "      <th>Breads</th>\n",
              "      <td>-0.038687</td>\n",
              "      <td>0.032643</td>\n",
              "      <td>-0.257651</td>\n",
              "      <td>-0.000112</td>\n",
              "      <td>0.005310</td>\n",
              "      <td>-0.003676</td>\n",
              "      <td>-0.003630</td>\n",
              "      <td>0.003987</td>\n",
              "      <td>0.004787</td>\n",
              "      <td>0.002332</td>\n",
              "      <td>-0.049968</td>\n",
              "      <td>1.000000</td>\n",
              "      <td>-0.019918</td>\n",
              "      <td>-0.050010</td>\n",
              "      <td>-0.051373</td>\n",
              "      <td>-0.058204</td>\n",
              "      <td>-0.071605</td>\n",
              "      <td>-0.027955</td>\n",
              "      <td>-0.044402</td>\n",
              "      <td>-0.060225</td>\n",
              "      <td>-0.039906</td>\n",
              "      <td>-0.024776</td>\n",
              "      <td>-0.015152</td>\n",
              "      <td>-0.070514</td>\n",
              "      <td>-0.040885</td>\n",
              "      <td>-0.023156</td>\n",
              "      <td>0.001843</td>\n",
              "      <td>-0.005442</td>\n",
              "      <td>-0.011754</td>\n",
              "      <td>-0.000734</td>\n",
              "      <td>0.001297</td>\n",
              "      <td>0.007693</td>\n",
              "      <td>0.003588</td>\n",
              "      <td>0.012563</td>\n",
              "      <td>-0.003090</td>\n",
              "      <td>-0.005316</td>\n",
              "    </tr>\n",
              "    <tr>\n",
              "      <th>Breakfast</th>\n",
              "      <td>-0.005688</td>\n",
              "      <td>0.065711</td>\n",
              "      <td>-0.141968</td>\n",
              "      <td>0.001460</td>\n",
              "      <td>-0.008959</td>\n",
              "      <td>-0.005702</td>\n",
              "      <td>0.002102</td>\n",
              "      <td>-0.000532</td>\n",
              "      <td>-0.009312</td>\n",
              "      <td>-0.004656</td>\n",
              "      <td>-0.032801</td>\n",
              "      <td>-0.019918</td>\n",
              "      <td>1.000000</td>\n",
              "      <td>-0.032828</td>\n",
              "      <td>-0.033723</td>\n",
              "      <td>-0.038207</td>\n",
              "      <td>-0.047004</td>\n",
              "      <td>-0.018351</td>\n",
              "      <td>-0.029147</td>\n",
              "      <td>-0.039533</td>\n",
              "      <td>-0.026195</td>\n",
              "      <td>-0.016264</td>\n",
              "      <td>-0.009946</td>\n",
              "      <td>-0.046288</td>\n",
              "      <td>-0.026838</td>\n",
              "      <td>-0.015201</td>\n",
              "      <td>0.007740</td>\n",
              "      <td>0.003236</td>\n",
              "      <td>0.000163</td>\n",
              "      <td>0.000077</td>\n",
              "      <td>0.013736</td>\n",
              "      <td>-0.003550</td>\n",
              "      <td>-0.006677</td>\n",
              "      <td>-0.006638</td>\n",
              "      <td>-0.006677</td>\n",
              "      <td>0.003325</td>\n",
              "    </tr>\n",
              "    <tr>\n",
              "      <th>Canned</th>\n",
              "      <td>-0.019221</td>\n",
              "      <td>0.073235</td>\n",
              "      <td>-0.288249</td>\n",
              "      <td>-0.005666</td>\n",
              "      <td>0.008613</td>\n",
              "      <td>0.011803</td>\n",
              "      <td>-0.000940</td>\n",
              "      <td>-0.000138</td>\n",
              "      <td>0.010225</td>\n",
              "      <td>0.007387</td>\n",
              "      <td>-0.082354</td>\n",
              "      <td>-0.050010</td>\n",
              "      <td>-0.032828</td>\n",
              "      <td>1.000000</td>\n",
              "      <td>-0.084670</td>\n",
              "      <td>-0.095929</td>\n",
              "      <td>-0.118015</td>\n",
              "      <td>-0.046074</td>\n",
              "      <td>-0.073181</td>\n",
              "      <td>-0.099258</td>\n",
              "      <td>-0.065770</td>\n",
              "      <td>-0.040834</td>\n",
              "      <td>-0.024972</td>\n",
              "      <td>-0.116217</td>\n",
              "      <td>-0.067383</td>\n",
              "      <td>-0.038165</td>\n",
              "      <td>-0.013019</td>\n",
              "      <td>-0.008461</td>\n",
              "      <td>-0.002149</td>\n",
              "      <td>0.010418</td>\n",
              "      <td>-0.004047</td>\n",
              "      <td>0.001136</td>\n",
              "      <td>0.011611</td>\n",
              "      <td>0.004627</td>\n",
              "      <td>0.001679</td>\n",
              "      <td>-0.005415</td>\n",
              "    </tr>\n",
              "    <tr>\n",
              "      <th>Dairy</th>\n",
              "      <td>0.022555</td>\n",
              "      <td>0.021236</td>\n",
              "      <td>-0.226051</td>\n",
              "      <td>0.035551</td>\n",
              "      <td>-0.001158</td>\n",
              "      <td>-0.005583</td>\n",
              "      <td>0.005333</td>\n",
              "      <td>-0.010098</td>\n",
              "      <td>-0.012072</td>\n",
              "      <td>0.008858</td>\n",
              "      <td>-0.084600</td>\n",
              "      <td>-0.051373</td>\n",
              "      <td>-0.033723</td>\n",
              "      <td>-0.084670</td>\n",
              "      <td>1.000000</td>\n",
              "      <td>-0.098544</td>\n",
              "      <td>-0.121232</td>\n",
              "      <td>-0.047330</td>\n",
              "      <td>-0.075176</td>\n",
              "      <td>-0.101965</td>\n",
              "      <td>-0.067563</td>\n",
              "      <td>-0.041947</td>\n",
              "      <td>-0.025653</td>\n",
              "      <td>-0.119386</td>\n",
              "      <td>-0.069220</td>\n",
              "      <td>-0.039205</td>\n",
              "      <td>-0.002472</td>\n",
              "      <td>0.007514</td>\n",
              "      <td>-0.000135</td>\n",
              "      <td>-0.001746</td>\n",
              "      <td>0.012109</td>\n",
              "      <td>-0.010817</td>\n",
              "      <td>-0.004740</td>\n",
              "      <td>-0.007406</td>\n",
              "      <td>0.004969</td>\n",
              "      <td>0.004969</td>\n",
              "    </tr>\n",
              "    <tr>\n",
              "      <th>Frozen Foods</th>\n",
              "      <td>0.007383</td>\n",
              "      <td>0.085041</td>\n",
              "      <td>-0.176737</td>\n",
              "      <td>-0.013358</td>\n",
              "      <td>-0.000175</td>\n",
              "      <td>0.004600</td>\n",
              "      <td>-0.003424</td>\n",
              "      <td>-0.009422</td>\n",
              "      <td>-0.002571</td>\n",
              "      <td>-0.009482</td>\n",
              "      <td>-0.095849</td>\n",
              "      <td>-0.058204</td>\n",
              "      <td>-0.038207</td>\n",
              "      <td>-0.095929</td>\n",
              "      <td>-0.098544</td>\n",
              "      <td>1.000000</td>\n",
              "      <td>-0.137352</td>\n",
              "      <td>-0.053624</td>\n",
              "      <td>-0.085173</td>\n",
              "      <td>-0.115523</td>\n",
              "      <td>-0.076547</td>\n",
              "      <td>-0.047525</td>\n",
              "      <td>-0.029064</td>\n",
              "      <td>-0.135260</td>\n",
              "      <td>-0.078425</td>\n",
              "      <td>-0.044418</td>\n",
              "      <td>-0.002754</td>\n",
              "      <td>-0.002007</td>\n",
              "      <td>0.016304</td>\n",
              "      <td>-0.001507</td>\n",
              "      <td>-0.006524</td>\n",
              "      <td>-0.006128</td>\n",
              "      <td>-0.001757</td>\n",
              "      <td>-0.015411</td>\n",
              "      <td>0.018274</td>\n",
              "      <td>-0.000505</td>\n",
              "    </tr>\n",
              "    <tr>\n",
              "      <th>Fruits and Vegetables</th>\n",
              "      <td>0.018392</td>\n",
              "      <td>0.116955</td>\n",
              "      <td>-0.119781</td>\n",
              "      <td>0.023688</td>\n",
              "      <td>0.000018</td>\n",
              "      <td>-0.003559</td>\n",
              "      <td>0.007825</td>\n",
              "      <td>0.008188</td>\n",
              "      <td>0.006325</td>\n",
              "      <td>0.025950</td>\n",
              "      <td>-0.117916</td>\n",
              "      <td>-0.071605</td>\n",
              "      <td>-0.047004</td>\n",
              "      <td>-0.118015</td>\n",
              "      <td>-0.121232</td>\n",
              "      <td>-0.137352</td>\n",
              "      <td>1.000000</td>\n",
              "      <td>-0.065970</td>\n",
              "      <td>-0.104782</td>\n",
              "      <td>-0.142120</td>\n",
              "      <td>-0.094171</td>\n",
              "      <td>-0.058467</td>\n",
              "      <td>-0.035755</td>\n",
              "      <td>-0.166402</td>\n",
              "      <td>-0.096481</td>\n",
              "      <td>-0.054645</td>\n",
              "      <td>-0.001657</td>\n",
              "      <td>0.007783</td>\n",
              "      <td>-0.007348</td>\n",
              "      <td>0.000919</td>\n",
              "      <td>-0.004599</td>\n",
              "      <td>0.005173</td>\n",
              "      <td>-0.005813</td>\n",
              "      <td>0.009329</td>\n",
              "      <td>-0.009023</td>\n",
              "      <td>0.003819</td>\n",
              "    </tr>\n",
              "    <tr>\n",
              "      <th>Hard Drinks</th>\n",
              "      <td>-0.022500</td>\n",
              "      <td>-0.118461</td>\n",
              "      <td>-0.008642</td>\n",
              "      <td>-0.010089</td>\n",
              "      <td>0.007251</td>\n",
              "      <td>0.005986</td>\n",
              "      <td>-0.001076</td>\n",
              "      <td>0.001703</td>\n",
              "      <td>0.000884</td>\n",
              "      <td>-0.003956</td>\n",
              "      <td>-0.046036</td>\n",
              "      <td>-0.027955</td>\n",
              "      <td>-0.018351</td>\n",
              "      <td>-0.046074</td>\n",
              "      <td>-0.047330</td>\n",
              "      <td>-0.053624</td>\n",
              "      <td>-0.065970</td>\n",
              "      <td>1.000000</td>\n",
              "      <td>-0.040908</td>\n",
              "      <td>-0.055485</td>\n",
              "      <td>-0.036765</td>\n",
              "      <td>-0.022826</td>\n",
              "      <td>-0.013959</td>\n",
              "      <td>-0.064965</td>\n",
              "      <td>-0.037667</td>\n",
              "      <td>-0.021334</td>\n",
              "      <td>0.006276</td>\n",
              "      <td>-0.000964</td>\n",
              "      <td>-0.003013</td>\n",
              "      <td>-0.003132</td>\n",
              "      <td>-0.016355</td>\n",
              "      <td>-0.001143</td>\n",
              "      <td>-0.003249</td>\n",
              "      <td>0.011248</td>\n",
              "      <td>-0.008060</td>\n",
              "      <td>0.015993</td>\n",
              "    </tr>\n",
              "    <tr>\n",
              "      <th>Health and Hygiene</th>\n",
              "      <td>0.008604</td>\n",
              "      <td>-0.188156</td>\n",
              "      <td>0.046825</td>\n",
              "      <td>-0.041646</td>\n",
              "      <td>-0.013406</td>\n",
              "      <td>-0.002362</td>\n",
              "      <td>0.000945</td>\n",
              "      <td>0.011645</td>\n",
              "      <td>0.003918</td>\n",
              "      <td>-0.025587</td>\n",
              "      <td>-0.073120</td>\n",
              "      <td>-0.044402</td>\n",
              "      <td>-0.029147</td>\n",
              "      <td>-0.073181</td>\n",
              "      <td>-0.075176</td>\n",
              "      <td>-0.085173</td>\n",
              "      <td>-0.104782</td>\n",
              "      <td>-0.040908</td>\n",
              "      <td>1.000000</td>\n",
              "      <td>-0.088129</td>\n",
              "      <td>-0.058396</td>\n",
              "      <td>-0.036255</td>\n",
              "      <td>-0.022172</td>\n",
              "      <td>-0.103186</td>\n",
              "      <td>-0.059828</td>\n",
              "      <td>-0.033885</td>\n",
              "      <td>0.006236</td>\n",
              "      <td>0.006499</td>\n",
              "      <td>0.007094</td>\n",
              "      <td>0.002174</td>\n",
              "      <td>-0.004502</td>\n",
              "      <td>0.004634</td>\n",
              "      <td>-0.010598</td>\n",
              "      <td>-0.002642</td>\n",
              "      <td>-0.001164</td>\n",
              "      <td>-0.007453</td>\n",
              "    </tr>\n",
              "    <tr>\n",
              "      <th>Household</th>\n",
              "      <td>0.027586</td>\n",
              "      <td>-0.255203</td>\n",
              "      <td>0.145638</td>\n",
              "      <td>0.046815</td>\n",
              "      <td>-0.004322</td>\n",
              "      <td>-0.003830</td>\n",
              "      <td>-0.002271</td>\n",
              "      <td>0.005277</td>\n",
              "      <td>-0.004346</td>\n",
              "      <td>0.015701</td>\n",
              "      <td>-0.099176</td>\n",
              "      <td>-0.060225</td>\n",
              "      <td>-0.039533</td>\n",
              "      <td>-0.099258</td>\n",
              "      <td>-0.101965</td>\n",
              "      <td>-0.115523</td>\n",
              "      <td>-0.142120</td>\n",
              "      <td>-0.055485</td>\n",
              "      <td>-0.088129</td>\n",
              "      <td>1.000000</td>\n",
              "      <td>-0.079204</td>\n",
              "      <td>-0.049174</td>\n",
              "      <td>-0.030073</td>\n",
              "      <td>-0.139955</td>\n",
              "      <td>-0.081147</td>\n",
              "      <td>-0.045960</td>\n",
              "      <td>0.011922</td>\n",
              "      <td>0.004249</td>\n",
              "      <td>-0.004723</td>\n",
              "      <td>-0.004979</td>\n",
              "      <td>-0.006894</td>\n",
              "      <td>-0.001009</td>\n",
              "      <td>0.003295</td>\n",
              "      <td>-0.000231</td>\n",
              "      <td>0.004514</td>\n",
              "      <td>-0.005235</td>\n",
              "    </tr>\n",
              "    <tr>\n",
              "      <th>Meat</th>\n",
              "      <td>-0.017354</td>\n",
              "      <td>0.118574</td>\n",
              "      <td>0.150921</td>\n",
              "      <td>-0.004086</td>\n",
              "      <td>-0.006264</td>\n",
              "      <td>-0.013434</td>\n",
              "      <td>0.001609</td>\n",
              "      <td>0.003999</td>\n",
              "      <td>0.004387</td>\n",
              "      <td>-0.002995</td>\n",
              "      <td>-0.065715</td>\n",
              "      <td>-0.039906</td>\n",
              "      <td>-0.026195</td>\n",
              "      <td>-0.065770</td>\n",
              "      <td>-0.067563</td>\n",
              "      <td>-0.076547</td>\n",
              "      <td>-0.094171</td>\n",
              "      <td>-0.036765</td>\n",
              "      <td>-0.058396</td>\n",
              "      <td>-0.079204</td>\n",
              "      <td>1.000000</td>\n",
              "      <td>-0.032584</td>\n",
              "      <td>-0.019927</td>\n",
              "      <td>-0.092737</td>\n",
              "      <td>-0.053769</td>\n",
              "      <td>-0.030454</td>\n",
              "      <td>0.013818</td>\n",
              "      <td>-0.009455</td>\n",
              "      <td>-0.003767</td>\n",
              "      <td>-0.000476</td>\n",
              "      <td>0.012681</td>\n",
              "      <td>0.016172</td>\n",
              "      <td>-0.005834</td>\n",
              "      <td>-0.014399</td>\n",
              "      <td>-0.004105</td>\n",
              "      <td>0.001081</td>\n",
              "    </tr>\n",
              "    <tr>\n",
              "      <th>Others</th>\n",
              "      <td>0.012817</td>\n",
              "      <td>-0.104988</td>\n",
              "      <td>0.127486</td>\n",
              "      <td>-0.018595</td>\n",
              "      <td>0.005320</td>\n",
              "      <td>-0.004509</td>\n",
              "      <td>-0.005577</td>\n",
              "      <td>-0.014576</td>\n",
              "      <td>-0.011631</td>\n",
              "      <td>-0.021267</td>\n",
              "      <td>-0.040800</td>\n",
              "      <td>-0.024776</td>\n",
              "      <td>-0.016264</td>\n",
              "      <td>-0.040834</td>\n",
              "      <td>-0.041947</td>\n",
              "      <td>-0.047525</td>\n",
              "      <td>-0.058467</td>\n",
              "      <td>-0.022826</td>\n",
              "      <td>-0.036255</td>\n",
              "      <td>-0.049174</td>\n",
              "      <td>-0.032584</td>\n",
              "      <td>1.000000</td>\n",
              "      <td>-0.012372</td>\n",
              "      <td>-0.057576</td>\n",
              "      <td>-0.033383</td>\n",
              "      <td>-0.018908</td>\n",
              "      <td>-0.003428</td>\n",
              "      <td>-0.006689</td>\n",
              "      <td>-0.006386</td>\n",
              "      <td>0.004320</td>\n",
              "      <td>0.022799</td>\n",
              "      <td>-0.009533</td>\n",
              "      <td>-0.006588</td>\n",
              "      <td>0.004265</td>\n",
              "      <td>0.009608</td>\n",
              "      <td>-0.003889</td>\n",
              "    </tr>\n",
              "    <tr>\n",
              "      <th>Seafood</th>\n",
              "      <td>-0.008758</td>\n",
              "      <td>0.012594</td>\n",
              "      <td>0.098627</td>\n",
              "      <td>0.001186</td>\n",
              "      <td>0.007078</td>\n",
              "      <td>-0.000798</td>\n",
              "      <td>-0.005322</td>\n",
              "      <td>-0.005391</td>\n",
              "      <td>-0.003205</td>\n",
              "      <td>0.007380</td>\n",
              "      <td>-0.024951</td>\n",
              "      <td>-0.015152</td>\n",
              "      <td>-0.009946</td>\n",
              "      <td>-0.024972</td>\n",
              "      <td>-0.025653</td>\n",
              "      <td>-0.029064</td>\n",
              "      <td>-0.035755</td>\n",
              "      <td>-0.013959</td>\n",
              "      <td>-0.022172</td>\n",
              "      <td>-0.030073</td>\n",
              "      <td>-0.019927</td>\n",
              "      <td>-0.012372</td>\n",
              "      <td>1.000000</td>\n",
              "      <td>-0.035211</td>\n",
              "      <td>-0.020415</td>\n",
              "      <td>-0.011563</td>\n",
              "      <td>-0.000923</td>\n",
              "      <td>-0.008703</td>\n",
              "      <td>-0.008531</td>\n",
              "      <td>0.000138</td>\n",
              "      <td>0.011474</td>\n",
              "      <td>-0.000091</td>\n",
              "      <td>0.004431</td>\n",
              "      <td>0.008827</td>\n",
              "      <td>-0.004287</td>\n",
              "      <td>0.000072</td>\n",
              "    </tr>\n",
              "    <tr>\n",
              "      <th>Snack Foods</th>\n",
              "      <td>0.002692</td>\n",
              "      <td>0.059848</td>\n",
              "      <td>0.555157</td>\n",
              "      <td>0.033817</td>\n",
              "      <td>0.009187</td>\n",
              "      <td>0.005212</td>\n",
              "      <td>0.003285</td>\n",
              "      <td>-0.001845</td>\n",
              "      <td>0.007851</td>\n",
              "      <td>0.022782</td>\n",
              "      <td>-0.116120</td>\n",
              "      <td>-0.070514</td>\n",
              "      <td>-0.046288</td>\n",
              "      <td>-0.116217</td>\n",
              "      <td>-0.119386</td>\n",
              "      <td>-0.135260</td>\n",
              "      <td>-0.166402</td>\n",
              "      <td>-0.064965</td>\n",
              "      <td>-0.103186</td>\n",
              "      <td>-0.139955</td>\n",
              "      <td>-0.092737</td>\n",
              "      <td>-0.057576</td>\n",
              "      <td>-0.035211</td>\n",
              "      <td>1.000000</td>\n",
              "      <td>-0.095011</td>\n",
              "      <td>-0.053813</td>\n",
              "      <td>-0.009764</td>\n",
              "      <td>-0.006725</td>\n",
              "      <td>-0.002576</td>\n",
              "      <td>0.001453</td>\n",
              "      <td>0.000924</td>\n",
              "      <td>0.005782</td>\n",
              "      <td>0.009803</td>\n",
              "      <td>0.002382</td>\n",
              "      <td>-0.011836</td>\n",
              "      <td>0.008721</td>\n",
              "    </tr>\n",
              "    <tr>\n",
              "      <th>Soft Drinks</th>\n",
              "      <td>-0.025304</td>\n",
              "      <td>-0.094875</td>\n",
              "      <td>0.377637</td>\n",
              "      <td>-0.035808</td>\n",
              "      <td>-0.001936</td>\n",
              "      <td>0.007562</td>\n",
              "      <td>-0.008169</td>\n",
              "      <td>-0.001446</td>\n",
              "      <td>-0.004995</td>\n",
              "      <td>-0.024040</td>\n",
              "      <td>-0.067327</td>\n",
              "      <td>-0.040885</td>\n",
              "      <td>-0.026838</td>\n",
              "      <td>-0.067383</td>\n",
              "      <td>-0.069220</td>\n",
              "      <td>-0.078425</td>\n",
              "      <td>-0.096481</td>\n",
              "      <td>-0.037667</td>\n",
              "      <td>-0.059828</td>\n",
              "      <td>-0.081147</td>\n",
              "      <td>-0.053769</td>\n",
              "      <td>-0.033383</td>\n",
              "      <td>-0.020415</td>\n",
              "      <td>-0.095011</td>\n",
              "      <td>1.000000</td>\n",
              "      <td>-0.031201</td>\n",
              "      <td>-0.002090</td>\n",
              "      <td>0.000572</td>\n",
              "      <td>0.009579</td>\n",
              "      <td>-0.004153</td>\n",
              "      <td>-0.003430</td>\n",
              "      <td>-0.006443</td>\n",
              "      <td>0.005825</td>\n",
              "      <td>0.004223</td>\n",
              "      <td>-0.000942</td>\n",
              "      <td>-0.004325</td>\n",
              "    </tr>\n",
              "    <tr>\n",
              "      <th>Starchy Foods</th>\n",
              "      <td>0.028421</td>\n",
              "      <td>0.025945</td>\n",
              "      <td>0.245465</td>\n",
              "      <td>0.014613</td>\n",
              "      <td>-0.002500</td>\n",
              "      <td>0.012824</td>\n",
              "      <td>0.003615</td>\n",
              "      <td>0.006957</td>\n",
              "      <td>0.002503</td>\n",
              "      <td>0.015039</td>\n",
              "      <td>-0.038133</td>\n",
              "      <td>-0.023156</td>\n",
              "      <td>-0.015201</td>\n",
              "      <td>-0.038165</td>\n",
              "      <td>-0.039205</td>\n",
              "      <td>-0.044418</td>\n",
              "      <td>-0.054645</td>\n",
              "      <td>-0.021334</td>\n",
              "      <td>-0.033885</td>\n",
              "      <td>-0.045960</td>\n",
              "      <td>-0.030454</td>\n",
              "      <td>-0.018908</td>\n",
              "      <td>-0.011563</td>\n",
              "      <td>-0.053813</td>\n",
              "      <td>-0.031201</td>\n",
              "      <td>1.000000</td>\n",
              "      <td>-0.002321</td>\n",
              "      <td>0.008105</td>\n",
              "      <td>0.005542</td>\n",
              "      <td>0.002553</td>\n",
              "      <td>-0.019258</td>\n",
              "      <td>-0.006427</td>\n",
              "      <td>0.008213</td>\n",
              "      <td>-0.000380</td>\n",
              "      <td>-0.003311</td>\n",
              "      <td>0.002451</td>\n",
              "    </tr>\n",
              "    <tr>\n",
              "      <th>Outlet_Identifier_OUT010</th>\n",
              "      <td>0.092845</td>\n",
              "      <td>0.000254</td>\n",
              "      <td>0.000474</td>\n",
              "      <td>-0.000912</td>\n",
              "      <td>-0.439298</td>\n",
              "      <td>-0.076434</td>\n",
              "      <td>-0.337167</td>\n",
              "      <td>0.288087</td>\n",
              "      <td>-0.398067</td>\n",
              "      <td>-0.284883</td>\n",
              "      <td>-0.000352</td>\n",
              "      <td>0.001843</td>\n",
              "      <td>0.007740</td>\n",
              "      <td>-0.013019</td>\n",
              "      <td>-0.002472</td>\n",
              "      <td>-0.002754</td>\n",
              "      <td>-0.001657</td>\n",
              "      <td>0.006276</td>\n",
              "      <td>0.006236</td>\n",
              "      <td>0.011922</td>\n",
              "      <td>0.013818</td>\n",
              "      <td>-0.003428</td>\n",
              "      <td>-0.000923</td>\n",
              "      <td>-0.009764</td>\n",
              "      <td>-0.002090</td>\n",
              "      <td>-0.002321</td>\n",
              "      <td>1.000000</td>\n",
              "      <td>-0.092476</td>\n",
              "      <td>-0.092142</td>\n",
              "      <td>-0.092253</td>\n",
              "      <td>-0.067823</td>\n",
              "      <td>-0.092643</td>\n",
              "      <td>-0.092365</td>\n",
              "      <td>-0.092309</td>\n",
              "      <td>-0.092365</td>\n",
              "      <td>-0.092365</td>\n",
              "    </tr>\n",
              "    <tr>\n",
              "      <th>Outlet_Identifier_OUT013</th>\n",
              "      <td>0.128333</td>\n",
              "      <td>-0.002132</td>\n",
              "      <td>-0.003507</td>\n",
              "      <td>0.002438</td>\n",
              "      <td>-0.459730</td>\n",
              "      <td>-0.358163</td>\n",
              "      <td>0.615103</td>\n",
              "      <td>0.382481</td>\n",
              "      <td>-0.088530</td>\n",
              "      <td>0.024170</td>\n",
              "      <td>0.003036</td>\n",
              "      <td>-0.005442</td>\n",
              "      <td>0.003236</td>\n",
              "      <td>-0.008461</td>\n",
              "      <td>0.007514</td>\n",
              "      <td>-0.002007</td>\n",
              "      <td>0.007783</td>\n",
              "      <td>-0.000964</td>\n",
              "      <td>0.006499</td>\n",
              "      <td>0.004249</td>\n",
              "      <td>-0.009455</td>\n",
              "      <td>-0.006689</td>\n",
              "      <td>-0.008703</td>\n",
              "      <td>-0.006725</td>\n",
              "      <td>0.000572</td>\n",
              "      <td>0.008105</td>\n",
              "      <td>-0.092476</td>\n",
              "      <td>1.000000</td>\n",
              "      <td>-0.122333</td>\n",
              "      <td>-0.122481</td>\n",
              "      <td>-0.090046</td>\n",
              "      <td>-0.122999</td>\n",
              "      <td>-0.122629</td>\n",
              "      <td>-0.122555</td>\n",
              "      <td>-0.122629</td>\n",
              "      <td>-0.122629</td>\n",
              "    </tr>\n",
              "    <tr>\n",
              "      <th>Outlet_Identifier_OUT017</th>\n",
              "      <td>0.118126</td>\n",
              "      <td>0.004266</td>\n",
              "      <td>0.001083</td>\n",
              "      <td>-0.008812</td>\n",
              "      <td>-0.335006</td>\n",
              "      <td>0.410401</td>\n",
              "      <td>-0.446023</td>\n",
              "      <td>-0.048488</td>\n",
              "      <td>-0.088210</td>\n",
              "      <td>0.032610</td>\n",
              "      <td>0.003694</td>\n",
              "      <td>-0.011754</td>\n",
              "      <td>0.000163</td>\n",
              "      <td>-0.002149</td>\n",
              "      <td>-0.000135</td>\n",
              "      <td>0.016304</td>\n",
              "      <td>-0.007348</td>\n",
              "      <td>-0.003013</td>\n",
              "      <td>0.007094</td>\n",
              "      <td>-0.004723</td>\n",
              "      <td>-0.003767</td>\n",
              "      <td>-0.006386</td>\n",
              "      <td>-0.008531</td>\n",
              "      <td>-0.002576</td>\n",
              "      <td>0.009579</td>\n",
              "      <td>0.005542</td>\n",
              "      <td>-0.092142</td>\n",
              "      <td>-0.122333</td>\n",
              "      <td>1.000000</td>\n",
              "      <td>-0.122038</td>\n",
              "      <td>-0.089721</td>\n",
              "      <td>-0.122554</td>\n",
              "      <td>-0.122185</td>\n",
              "      <td>-0.122112</td>\n",
              "      <td>-0.122185</td>\n",
              "      <td>-0.122185</td>\n",
              "    </tr>\n",
              "    <tr>\n",
              "      <th>Outlet_Identifier_OUT018</th>\n",
              "      <td>0.120806</td>\n",
              "      <td>0.002129</td>\n",
              "      <td>-0.000659</td>\n",
              "      <td>0.003850</td>\n",
              "      <td>-0.212202</td>\n",
              "      <td>0.538931</td>\n",
              "      <td>0.260226</td>\n",
              "      <td>0.381559</td>\n",
              "      <td>0.350590</td>\n",
              "      <td>-0.038059</td>\n",
              "      <td>-0.003632</td>\n",
              "      <td>-0.000734</td>\n",
              "      <td>0.000077</td>\n",
              "      <td>0.010418</td>\n",
              "      <td>-0.001746</td>\n",
              "      <td>-0.001507</td>\n",
              "      <td>0.000919</td>\n",
              "      <td>-0.003132</td>\n",
              "      <td>0.002174</td>\n",
              "      <td>-0.004979</td>\n",
              "      <td>-0.000476</td>\n",
              "      <td>0.004320</td>\n",
              "      <td>0.000138</td>\n",
              "      <td>0.001453</td>\n",
              "      <td>-0.004153</td>\n",
              "      <td>0.002553</td>\n",
              "      <td>-0.092253</td>\n",
              "      <td>-0.122481</td>\n",
              "      <td>-0.122038</td>\n",
              "      <td>1.000000</td>\n",
              "      <td>-0.089829</td>\n",
              "      <td>-0.122702</td>\n",
              "      <td>-0.122333</td>\n",
              "      <td>-0.122260</td>\n",
              "      <td>-0.122333</td>\n",
              "      <td>-0.122333</td>\n",
              "    </tr>\n",
              "    <tr>\n",
              "      <th>Outlet_Identifier_OUT019</th>\n",
              "      <td>-0.425567</td>\n",
              "      <td>-0.004300</td>\n",
              "      <td>-0.005167</td>\n",
              "      <td>-0.004976</td>\n",
              "      <td>-0.065426</td>\n",
              "      <td>-0.356810</td>\n",
              "      <td>-0.068496</td>\n",
              "      <td>-0.351898</td>\n",
              "      <td>-0.387608</td>\n",
              "      <td>-0.277250</td>\n",
              "      <td>0.005245</td>\n",
              "      <td>0.001297</td>\n",
              "      <td>0.013736</td>\n",
              "      <td>-0.004047</td>\n",
              "      <td>0.012109</td>\n",
              "      <td>-0.006524</td>\n",
              "      <td>-0.004599</td>\n",
              "      <td>-0.016355</td>\n",
              "      <td>-0.004502</td>\n",
              "      <td>-0.006894</td>\n",
              "      <td>0.012681</td>\n",
              "      <td>0.022799</td>\n",
              "      <td>0.011474</td>\n",
              "      <td>0.000924</td>\n",
              "      <td>-0.003430</td>\n",
              "      <td>-0.019258</td>\n",
              "      <td>-0.067823</td>\n",
              "      <td>-0.090046</td>\n",
              "      <td>-0.089721</td>\n",
              "      <td>-0.089829</td>\n",
              "      <td>1.000000</td>\n",
              "      <td>-0.090209</td>\n",
              "      <td>-0.089938</td>\n",
              "      <td>-0.089884</td>\n",
              "      <td>-0.089938</td>\n",
              "      <td>-0.089938</td>\n",
              "    </tr>\n",
              "    <tr>\n",
              "      <th>Outlet_Identifier_OUT027</th>\n",
              "      <td>-0.581302</td>\n",
              "      <td>0.000183</td>\n",
              "      <td>0.002413</td>\n",
              "      <td>-0.006714</td>\n",
              "      <td>0.034362</td>\n",
              "      <td>-0.487384</td>\n",
              "      <td>0.261326</td>\n",
              "      <td>0.383172</td>\n",
              "      <td>0.792834</td>\n",
              "      <td>0.311192</td>\n",
              "      <td>-0.002957</td>\n",
              "      <td>0.007693</td>\n",
              "      <td>-0.003550</td>\n",
              "      <td>0.001136</td>\n",
              "      <td>-0.010817</td>\n",
              "      <td>-0.006128</td>\n",
              "      <td>0.005173</td>\n",
              "      <td>-0.001143</td>\n",
              "      <td>0.004634</td>\n",
              "      <td>-0.001009</td>\n",
              "      <td>0.016172</td>\n",
              "      <td>-0.009533</td>\n",
              "      <td>-0.000091</td>\n",
              "      <td>0.005782</td>\n",
              "      <td>-0.006443</td>\n",
              "      <td>-0.006427</td>\n",
              "      <td>-0.092643</td>\n",
              "      <td>-0.122999</td>\n",
              "      <td>-0.122554</td>\n",
              "      <td>-0.122702</td>\n",
              "      <td>-0.090209</td>\n",
              "      <td>1.000000</td>\n",
              "      <td>-0.122850</td>\n",
              "      <td>-0.122776</td>\n",
              "      <td>-0.122850</td>\n",
              "      <td>-0.122850</td>\n",
              "    </tr>\n",
              "    <tr>\n",
              "      <th>Outlet_Identifier_OUT035</th>\n",
              "      <td>0.118558</td>\n",
              "      <td>-0.003154</td>\n",
              "      <td>0.008062</td>\n",
              "      <td>0.011969</td>\n",
              "      <td>0.157618</td>\n",
              "      <td>0.283207</td>\n",
              "      <td>-0.093281</td>\n",
              "      <td>-0.048605</td>\n",
              "      <td>-0.088424</td>\n",
              "      <td>0.052823</td>\n",
              "      <td>-0.003844</td>\n",
              "      <td>0.003588</td>\n",
              "      <td>-0.006677</td>\n",
              "      <td>0.011611</td>\n",
              "      <td>-0.004740</td>\n",
              "      <td>-0.001757</td>\n",
              "      <td>-0.005813</td>\n",
              "      <td>-0.003249</td>\n",
              "      <td>-0.010598</td>\n",
              "      <td>0.003295</td>\n",
              "      <td>-0.005834</td>\n",
              "      <td>-0.006588</td>\n",
              "      <td>0.004431</td>\n",
              "      <td>0.009803</td>\n",
              "      <td>0.005825</td>\n",
              "      <td>0.008213</td>\n",
              "      <td>-0.092365</td>\n",
              "      <td>-0.122629</td>\n",
              "      <td>-0.122185</td>\n",
              "      <td>-0.122333</td>\n",
              "      <td>-0.089938</td>\n",
              "      <td>-0.122850</td>\n",
              "      <td>1.000000</td>\n",
              "      <td>-0.122407</td>\n",
              "      <td>-0.122481</td>\n",
              "      <td>-0.122481</td>\n",
              "    </tr>\n",
              "    <tr>\n",
              "      <th>Outlet_Identifier_OUT045</th>\n",
              "      <td>0.108732</td>\n",
              "      <td>-0.006029</td>\n",
              "      <td>0.001647</td>\n",
              "      <td>-0.000239</td>\n",
              "      <td>0.280807</td>\n",
              "      <td>0.154926</td>\n",
              "      <td>-0.446833</td>\n",
              "      <td>-0.048576</td>\n",
              "      <td>-0.088370</td>\n",
              "      <td>0.002274</td>\n",
              "      <td>-0.000897</td>\n",
              "      <td>0.012563</td>\n",
              "      <td>-0.006638</td>\n",
              "      <td>0.004627</td>\n",
              "      <td>-0.007406</td>\n",
              "      <td>-0.015411</td>\n",
              "      <td>0.009329</td>\n",
              "      <td>0.011248</td>\n",
              "      <td>-0.002642</td>\n",
              "      <td>-0.000231</td>\n",
              "      <td>-0.014399</td>\n",
              "      <td>0.004265</td>\n",
              "      <td>0.008827</td>\n",
              "      <td>0.002382</td>\n",
              "      <td>0.004223</td>\n",
              "      <td>-0.000380</td>\n",
              "      <td>-0.092309</td>\n",
              "      <td>-0.122555</td>\n",
              "      <td>-0.122112</td>\n",
              "      <td>-0.122260</td>\n",
              "      <td>-0.089884</td>\n",
              "      <td>-0.122776</td>\n",
              "      <td>-0.122407</td>\n",
              "      <td>1.000000</td>\n",
              "      <td>-0.122407</td>\n",
              "      <td>-0.122407</td>\n",
              "    </tr>\n",
              "    <tr>\n",
              "      <th>Outlet_Identifier_OUT046</th>\n",
              "      <td>0.120596</td>\n",
              "      <td>0.003147</td>\n",
              "      <td>-0.011157</td>\n",
              "      <td>0.005983</td>\n",
              "      <td>0.404335</td>\n",
              "      <td>-0.229544</td>\n",
              "      <td>-0.093281</td>\n",
              "      <td>-0.479230</td>\n",
              "      <td>-0.088424</td>\n",
              "      <td>0.019803</td>\n",
              "      <td>0.007514</td>\n",
              "      <td>-0.003090</td>\n",
              "      <td>-0.006677</td>\n",
              "      <td>0.001679</td>\n",
              "      <td>0.004969</td>\n",
              "      <td>0.018274</td>\n",
              "      <td>-0.009023</td>\n",
              "      <td>-0.008060</td>\n",
              "      <td>-0.001164</td>\n",
              "      <td>0.004514</td>\n",
              "      <td>-0.004105</td>\n",
              "      <td>0.009608</td>\n",
              "      <td>-0.004287</td>\n",
              "      <td>-0.011836</td>\n",
              "      <td>-0.000942</td>\n",
              "      <td>-0.003311</td>\n",
              "      <td>-0.092365</td>\n",
              "      <td>-0.122629</td>\n",
              "      <td>-0.122185</td>\n",
              "      <td>-0.122333</td>\n",
              "      <td>-0.089938</td>\n",
              "      <td>-0.122850</td>\n",
              "      <td>-0.122481</td>\n",
              "      <td>-0.122407</td>\n",
              "      <td>1.000000</td>\n",
              "      <td>-0.122481</td>\n",
              "    </tr>\n",
              "    <tr>\n",
              "      <th>Outlet_Identifier_OUT049</th>\n",
              "      <td>0.123352</td>\n",
              "      <td>0.004722</td>\n",
              "      <td>0.005738</td>\n",
              "      <td>-0.003906</td>\n",
              "      <td>0.527694</td>\n",
              "      <td>0.026832</td>\n",
              "      <td>0.260540</td>\n",
              "      <td>-0.479230</td>\n",
              "      <td>-0.088424</td>\n",
              "      <td>0.034264</td>\n",
              "      <td>-0.006684</td>\n",
              "      <td>-0.005316</td>\n",
              "      <td>0.003325</td>\n",
              "      <td>-0.005415</td>\n",
              "      <td>0.004969</td>\n",
              "      <td>-0.000505</td>\n",
              "      <td>0.003819</td>\n",
              "      <td>0.015993</td>\n",
              "      <td>-0.007453</td>\n",
              "      <td>-0.005235</td>\n",
              "      <td>0.001081</td>\n",
              "      <td>-0.003889</td>\n",
              "      <td>0.000072</td>\n",
              "      <td>0.008721</td>\n",
              "      <td>-0.004325</td>\n",
              "      <td>0.002451</td>\n",
              "      <td>-0.092365</td>\n",
              "      <td>-0.122629</td>\n",
              "      <td>-0.122185</td>\n",
              "      <td>-0.122333</td>\n",
              "      <td>-0.089938</td>\n",
              "      <td>-0.122850</td>\n",
              "      <td>-0.122481</td>\n",
              "      <td>-0.122407</td>\n",
              "      <td>-0.122481</td>\n",
              "      <td>1.000000</td>\n",
              "    </tr>\n",
              "  </tbody>\n",
              "</table>\n",
              "</div>"
            ],
            "text/plain": [
              "                               Item_Weight  ...  Outlet_Identifier_OUT049\n",
              "Item_Weight                       1.000000  ...                  0.123352\n",
              "Item_Fat_Content                 -0.011943  ...                  0.004722\n",
              "transformed_Item_Type             0.019390  ...                  0.005738\n",
              "Item_MRP                          0.022859  ...                 -0.003906\n",
              "transformed_Outlet_Identifier     0.004822  ...                  0.527694\n",
              "Outlet_Establishment_Year         0.471542  ...                  0.026832\n",
              "Outlet_Size                      -0.120341  ...                  0.260540\n",
              "Outlet_Location_Type             -0.067122  ...                 -0.479230\n",
              "Outlet_Type                      -0.308917  ...                 -0.088424\n",
              "Item_Outlet_Sales                -0.053222  ...                  0.034264\n",
              "Baking Goods                     -0.022098  ...                 -0.006684\n",
              "Breads                           -0.038687  ...                 -0.005316\n",
              "Breakfast                        -0.005688  ...                  0.003325\n",
              "Canned                           -0.019221  ...                 -0.005415\n",
              "Dairy                             0.022555  ...                  0.004969\n",
              "Frozen Foods                      0.007383  ...                 -0.000505\n",
              "Fruits and Vegetables             0.018392  ...                  0.003819\n",
              "Hard Drinks                      -0.022500  ...                  0.015993\n",
              "Health and Hygiene                0.008604  ...                 -0.007453\n",
              "Household                         0.027586  ...                 -0.005235\n",
              "Meat                             -0.017354  ...                  0.001081\n",
              "Others                            0.012817  ...                 -0.003889\n",
              "Seafood                          -0.008758  ...                  0.000072\n",
              "Snack Foods                       0.002692  ...                  0.008721\n",
              "Soft Drinks                      -0.025304  ...                 -0.004325\n",
              "Starchy Foods                     0.028421  ...                  0.002451\n",
              "Outlet_Identifier_OUT010          0.092845  ...                 -0.092365\n",
              "Outlet_Identifier_OUT013          0.128333  ...                 -0.122629\n",
              "Outlet_Identifier_OUT017          0.118126  ...                 -0.122185\n",
              "Outlet_Identifier_OUT018          0.120806  ...                 -0.122333\n",
              "Outlet_Identifier_OUT019         -0.425567  ...                 -0.089938\n",
              "Outlet_Identifier_OUT027         -0.581302  ...                 -0.122850\n",
              "Outlet_Identifier_OUT035          0.118558  ...                 -0.122481\n",
              "Outlet_Identifier_OUT045          0.108732  ...                 -0.122407\n",
              "Outlet_Identifier_OUT046          0.120596  ...                 -0.122481\n",
              "Outlet_Identifier_OUT049          0.123352  ...                  1.000000\n",
              "\n",
              "[36 rows x 36 columns]"
            ]
          },
          "metadata": {
            "tags": []
          },
          "execution_count": 142
        }
      ]
    },
    {
      "cell_type": "code",
      "metadata": {
        "id": "9H3MTgMRy-eG",
        "colab": {
          "base_uri": "https://localhost:8080/",
          "height": 257
        },
        "outputId": "bfcec939-ee45-468b-b43f-571315d5e43f"
      },
      "source": [
        "# 4th Atempt... feature matrix - choosing columns with higher correlationbut preserving all the\n",
        "# OneHot columns\n",
        "\n",
        "ms_filter2 = mod_sales_ohe.loc[:, ['Item_Identifier', 'Item_Weight', 'transformed_Item_Type', 'transformed_Outlet_Identifier',\n",
        "                                   'Item_Fat_Content', 'Item_Type', 'Outlet_Identifier', 'Item_Outlet_Sales']]\n",
        "mod_sales_X_4th = mod_sales_ohe.drop(columns = ms_filter2)\n",
        "\n",
        "mod_sales_X_4th.head()"
      ],
      "execution_count": 143,
      "outputs": [
        {
          "output_type": "execute_result",
          "data": {
            "text/html": [
              "<div>\n",
              "<style scoped>\n",
              "    .dataframe tbody tr th:only-of-type {\n",
              "        vertical-align: middle;\n",
              "    }\n",
              "\n",
              "    .dataframe tbody tr th {\n",
              "        vertical-align: top;\n",
              "    }\n",
              "\n",
              "    .dataframe thead th {\n",
              "        text-align: right;\n",
              "    }\n",
              "</style>\n",
              "<table border=\"1\" class=\"dataframe\">\n",
              "  <thead>\n",
              "    <tr style=\"text-align: right;\">\n",
              "      <th></th>\n",
              "      <th>Item_MRP</th>\n",
              "      <th>Outlet_Establishment_Year</th>\n",
              "      <th>Outlet_Size</th>\n",
              "      <th>Outlet_Location_Type</th>\n",
              "      <th>Outlet_Type</th>\n",
              "      <th>Baking Goods</th>\n",
              "      <th>Breads</th>\n",
              "      <th>Breakfast</th>\n",
              "      <th>Canned</th>\n",
              "      <th>Dairy</th>\n",
              "      <th>Frozen Foods</th>\n",
              "      <th>Fruits and Vegetables</th>\n",
              "      <th>Hard Drinks</th>\n",
              "      <th>Health and Hygiene</th>\n",
              "      <th>Household</th>\n",
              "      <th>Meat</th>\n",
              "      <th>Others</th>\n",
              "      <th>Seafood</th>\n",
              "      <th>Snack Foods</th>\n",
              "      <th>Soft Drinks</th>\n",
              "      <th>Starchy Foods</th>\n",
              "      <th>Outlet_Identifier_OUT010</th>\n",
              "      <th>Outlet_Identifier_OUT013</th>\n",
              "      <th>Outlet_Identifier_OUT017</th>\n",
              "      <th>Outlet_Identifier_OUT018</th>\n",
              "      <th>Outlet_Identifier_OUT019</th>\n",
              "      <th>Outlet_Identifier_OUT027</th>\n",
              "      <th>Outlet_Identifier_OUT035</th>\n",
              "      <th>Outlet_Identifier_OUT045</th>\n",
              "      <th>Outlet_Identifier_OUT046</th>\n",
              "      <th>Outlet_Identifier_OUT049</th>\n",
              "    </tr>\n",
              "  </thead>\n",
              "  <tbody>\n",
              "    <tr>\n",
              "      <th>0</th>\n",
              "      <td>249.8092</td>\n",
              "      <td>4</td>\n",
              "      <td>2</td>\n",
              "      <td>1</td>\n",
              "      <td>1</td>\n",
              "      <td>0.0</td>\n",
              "      <td>0.0</td>\n",
              "      <td>0.0</td>\n",
              "      <td>0.0</td>\n",
              "      <td>1.0</td>\n",
              "      <td>0.0</td>\n",
              "      <td>0.0</td>\n",
              "      <td>0.0</td>\n",
              "      <td>0.0</td>\n",
              "      <td>0.0</td>\n",
              "      <td>0.0</td>\n",
              "      <td>0.0</td>\n",
              "      <td>0.0</td>\n",
              "      <td>0.0</td>\n",
              "      <td>0.0</td>\n",
              "      <td>0.0</td>\n",
              "      <td>0.0</td>\n",
              "      <td>0.0</td>\n",
              "      <td>0.0</td>\n",
              "      <td>0.0</td>\n",
              "      <td>0.0</td>\n",
              "      <td>0.0</td>\n",
              "      <td>0.0</td>\n",
              "      <td>0.0</td>\n",
              "      <td>0.0</td>\n",
              "      <td>1.0</td>\n",
              "    </tr>\n",
              "    <tr>\n",
              "      <th>1</th>\n",
              "      <td>48.2692</td>\n",
              "      <td>8</td>\n",
              "      <td>2</td>\n",
              "      <td>3</td>\n",
              "      <td>2</td>\n",
              "      <td>0.0</td>\n",
              "      <td>0.0</td>\n",
              "      <td>0.0</td>\n",
              "      <td>0.0</td>\n",
              "      <td>0.0</td>\n",
              "      <td>0.0</td>\n",
              "      <td>0.0</td>\n",
              "      <td>0.0</td>\n",
              "      <td>0.0</td>\n",
              "      <td>0.0</td>\n",
              "      <td>0.0</td>\n",
              "      <td>0.0</td>\n",
              "      <td>0.0</td>\n",
              "      <td>0.0</td>\n",
              "      <td>1.0</td>\n",
              "      <td>0.0</td>\n",
              "      <td>0.0</td>\n",
              "      <td>0.0</td>\n",
              "      <td>0.0</td>\n",
              "      <td>1.0</td>\n",
              "      <td>0.0</td>\n",
              "      <td>0.0</td>\n",
              "      <td>0.0</td>\n",
              "      <td>0.0</td>\n",
              "      <td>0.0</td>\n",
              "      <td>0.0</td>\n",
              "    </tr>\n",
              "    <tr>\n",
              "      <th>2</th>\n",
              "      <td>141.6180</td>\n",
              "      <td>4</td>\n",
              "      <td>2</td>\n",
              "      <td>1</td>\n",
              "      <td>1</td>\n",
              "      <td>0.0</td>\n",
              "      <td>0.0</td>\n",
              "      <td>0.0</td>\n",
              "      <td>0.0</td>\n",
              "      <td>0.0</td>\n",
              "      <td>0.0</td>\n",
              "      <td>0.0</td>\n",
              "      <td>0.0</td>\n",
              "      <td>0.0</td>\n",
              "      <td>0.0</td>\n",
              "      <td>1.0</td>\n",
              "      <td>0.0</td>\n",
              "      <td>0.0</td>\n",
              "      <td>0.0</td>\n",
              "      <td>0.0</td>\n",
              "      <td>0.0</td>\n",
              "      <td>0.0</td>\n",
              "      <td>0.0</td>\n",
              "      <td>0.0</td>\n",
              "      <td>0.0</td>\n",
              "      <td>0.0</td>\n",
              "      <td>0.0</td>\n",
              "      <td>0.0</td>\n",
              "      <td>0.0</td>\n",
              "      <td>0.0</td>\n",
              "      <td>1.0</td>\n",
              "    </tr>\n",
              "    <tr>\n",
              "      <th>3</th>\n",
              "      <td>182.0950</td>\n",
              "      <td>3</td>\n",
              "      <td>0</td>\n",
              "      <td>3</td>\n",
              "      <td>0</td>\n",
              "      <td>0.0</td>\n",
              "      <td>0.0</td>\n",
              "      <td>0.0</td>\n",
              "      <td>0.0</td>\n",
              "      <td>0.0</td>\n",
              "      <td>0.0</td>\n",
              "      <td>1.0</td>\n",
              "      <td>0.0</td>\n",
              "      <td>0.0</td>\n",
              "      <td>0.0</td>\n",
              "      <td>0.0</td>\n",
              "      <td>0.0</td>\n",
              "      <td>0.0</td>\n",
              "      <td>0.0</td>\n",
              "      <td>0.0</td>\n",
              "      <td>0.0</td>\n",
              "      <td>1.0</td>\n",
              "      <td>0.0</td>\n",
              "      <td>0.0</td>\n",
              "      <td>0.0</td>\n",
              "      <td>0.0</td>\n",
              "      <td>0.0</td>\n",
              "      <td>0.0</td>\n",
              "      <td>0.0</td>\n",
              "      <td>0.0</td>\n",
              "      <td>0.0</td>\n",
              "    </tr>\n",
              "    <tr>\n",
              "      <th>4</th>\n",
              "      <td>53.8614</td>\n",
              "      <td>1</td>\n",
              "      <td>3</td>\n",
              "      <td>3</td>\n",
              "      <td>1</td>\n",
              "      <td>0.0</td>\n",
              "      <td>0.0</td>\n",
              "      <td>0.0</td>\n",
              "      <td>0.0</td>\n",
              "      <td>0.0</td>\n",
              "      <td>0.0</td>\n",
              "      <td>0.0</td>\n",
              "      <td>0.0</td>\n",
              "      <td>0.0</td>\n",
              "      <td>1.0</td>\n",
              "      <td>0.0</td>\n",
              "      <td>0.0</td>\n",
              "      <td>0.0</td>\n",
              "      <td>0.0</td>\n",
              "      <td>0.0</td>\n",
              "      <td>0.0</td>\n",
              "      <td>0.0</td>\n",
              "      <td>1.0</td>\n",
              "      <td>0.0</td>\n",
              "      <td>0.0</td>\n",
              "      <td>0.0</td>\n",
              "      <td>0.0</td>\n",
              "      <td>0.0</td>\n",
              "      <td>0.0</td>\n",
              "      <td>0.0</td>\n",
              "      <td>0.0</td>\n",
              "    </tr>\n",
              "  </tbody>\n",
              "</table>\n",
              "</div>"
            ],
            "text/plain": [
              "   Item_MRP  ...  Outlet_Identifier_OUT049\n",
              "0  249.8092  ...                       1.0\n",
              "1   48.2692  ...                       0.0\n",
              "2  141.6180  ...                       1.0\n",
              "3  182.0950  ...                       0.0\n",
              "4   53.8614  ...                       0.0\n",
              "\n",
              "[5 rows x 31 columns]"
            ]
          },
          "metadata": {
            "tags": []
          },
          "execution_count": 143
        }
      ]
    },
    {
      "cell_type": "code",
      "metadata": {
        "id": "EC1IZ1VJ7CK0",
        "colab": {
          "base_uri": "https://localhost:8080/"
        },
        "outputId": "ab5820cc-730f-4fc2-ae8b-72b90d48489c"
      },
      "source": [
        "X4 = mod_sales_X_4th.values\n",
        "X4.shape "
      ],
      "execution_count": 144,
      "outputs": [
        {
          "output_type": "execute_result",
          "data": {
            "text/plain": [
              "(8523, 31)"
            ]
          },
          "metadata": {
            "tags": []
          },
          "execution_count": 144
        }
      ]
    },
    {
      "cell_type": "code",
      "metadata": {
        "id": "fN-cQwZ161L3",
        "colab": {
          "base_uri": "https://localhost:8080/"
        },
        "outputId": "2b099a6a-3a95-487d-e1b6-e636ebd04b9c"
      },
      "source": [
        "y4 = mod_sales_ohe.loc[:, 'Item_Outlet_Sales'].values\n",
        "y4.shape"
      ],
      "execution_count": 145,
      "outputs": [
        {
          "output_type": "execute_result",
          "data": {
            "text/plain": [
              "(8523,)"
            ]
          },
          "metadata": {
            "tags": []
          },
          "execution_count": 145
        }
      ]
    },
    {
      "cell_type": "code",
      "metadata": {
        "id": "kbWCDeSH7DoV",
        "colab": {
          "base_uri": "https://localhost:8080/"
        },
        "outputId": "15da752a-6ce9-416e-fdc2-1ae417e50793"
      },
      "source": [
        "reg4 = LinearRegression()\n",
        "reg4.fit(X4,y4)"
      ],
      "execution_count": 146,
      "outputs": [
        {
          "output_type": "execute_result",
          "data": {
            "text/plain": [
              "LinearRegression(copy_X=True, fit_intercept=True, n_jobs=None, normalize=False)"
            ]
          },
          "metadata": {
            "tags": []
          },
          "execution_count": 146
        }
      ]
    },
    {
      "cell_type": "code",
      "metadata": {
        "id": "LCKsO4_F7p7j",
        "colab": {
          "base_uri": "https://localhost:8080/"
        },
        "outputId": "ac5d7023-a87e-490c-fb2a-f84bf22d63b0"
      },
      "source": [
        "pred4 = reg4.predict(X4)\n",
        "pred4"
      ],
      "execution_count": 147,
      "outputs": [
        {
          "output_type": "execute_result",
          "data": {
            "text/plain": [
              "array([4017.72063024,  512.40779177, 2386.04998159, ..., 1520.04153142,\n",
              "       1392.15728672, 1214.04898021])"
            ]
          },
          "metadata": {
            "tags": []
          },
          "execution_count": 147
        }
      ]
    },
    {
      "cell_type": "code",
      "metadata": {
        "id": "o98Cs2U571WU",
        "colab": {
          "base_uri": "https://localhost:8080/"
        },
        "outputId": "bbfb2a36-ba08-4df6-9dee-c048bd9e0b3a"
      },
      "source": [
        "# Ummm, I think this is the same as my first attempt which didn't have columns pulled out.\n",
        "# this is 100th of  a percentage that the first attempt.\n",
        "\n",
        "reg4.score(X4,y4)"
      ],
      "execution_count": 148,
      "outputs": [
        {
          "output_type": "execute_result",
          "data": {
            "text/plain": [
              "0.5635845155616708"
            ]
          },
          "metadata": {
            "tags": []
          },
          "execution_count": 148
        }
      ]
    },
    {
      "cell_type": "code",
      "metadata": {
        "id": "T85ArYhhA0i-",
        "colab": {
          "base_uri": "https://localhost:8080/"
        },
        "outputId": "38fffcf8-e3db-48f1-bdb3-14eecfe635c7"
      },
      "source": [
        "# Slightly less\n",
        "\n",
        "np.sqrt(mean_squared_error(y4, pred4))"
      ],
      "execution_count": 149,
      "outputs": [
        {
          "output_type": "execute_result",
          "data": {
            "text/plain": [
              "1127.277376632579"
            ]
          },
          "metadata": {
            "tags": []
          },
          "execution_count": 149
        }
      ]
    },
    {
      "cell_type": "markdown",
      "metadata": {
        "id": "tJMM8jyX9pzo"
      },
      "source": [
        "\n",
        "\n",
        "> I'm going to run this model only with the columns that correlate well\n"
      ]
    },
    {
      "cell_type": "code",
      "metadata": {
        "id": "y5HhQPvO7-fL",
        "colab": {
          "base_uri": "https://localhost:8080/",
          "height": 203
        },
        "outputId": "65431b8e-6a8c-4154-c9b4-1ad656a84c9b"
      },
      "source": [
        "# Fifth Attempt... Feature matrix - I will strictly run columns that correlate well with \n",
        "# the sales column.\n",
        "\n",
        "mod_sales_X_5th = mod_sales.loc[:, ['Item_MRP', 'Outlet_Size', 'Outlet_Type']]\n",
        "\n",
        "mod_sales_X_5th.head()"
      ],
      "execution_count": 150,
      "outputs": [
        {
          "output_type": "execute_result",
          "data": {
            "text/html": [
              "<div>\n",
              "<style scoped>\n",
              "    .dataframe tbody tr th:only-of-type {\n",
              "        vertical-align: middle;\n",
              "    }\n",
              "\n",
              "    .dataframe tbody tr th {\n",
              "        vertical-align: top;\n",
              "    }\n",
              "\n",
              "    .dataframe thead th {\n",
              "        text-align: right;\n",
              "    }\n",
              "</style>\n",
              "<table border=\"1\" class=\"dataframe\">\n",
              "  <thead>\n",
              "    <tr style=\"text-align: right;\">\n",
              "      <th></th>\n",
              "      <th>Item_MRP</th>\n",
              "      <th>Outlet_Size</th>\n",
              "      <th>Outlet_Type</th>\n",
              "    </tr>\n",
              "  </thead>\n",
              "  <tbody>\n",
              "    <tr>\n",
              "      <th>0</th>\n",
              "      <td>249.8092</td>\n",
              "      <td>2</td>\n",
              "      <td>1</td>\n",
              "    </tr>\n",
              "    <tr>\n",
              "      <th>1</th>\n",
              "      <td>48.2692</td>\n",
              "      <td>2</td>\n",
              "      <td>2</td>\n",
              "    </tr>\n",
              "    <tr>\n",
              "      <th>2</th>\n",
              "      <td>141.6180</td>\n",
              "      <td>2</td>\n",
              "      <td>1</td>\n",
              "    </tr>\n",
              "    <tr>\n",
              "      <th>3</th>\n",
              "      <td>182.0950</td>\n",
              "      <td>0</td>\n",
              "      <td>0</td>\n",
              "    </tr>\n",
              "    <tr>\n",
              "      <th>4</th>\n",
              "      <td>53.8614</td>\n",
              "      <td>3</td>\n",
              "      <td>1</td>\n",
              "    </tr>\n",
              "  </tbody>\n",
              "</table>\n",
              "</div>"
            ],
            "text/plain": [
              "   Item_MRP  Outlet_Size  Outlet_Type\n",
              "0  249.8092            2            1\n",
              "1   48.2692            2            2\n",
              "2  141.6180            2            1\n",
              "3  182.0950            0            0\n",
              "4   53.8614            3            1"
            ]
          },
          "metadata": {
            "tags": []
          },
          "execution_count": 150
        }
      ]
    },
    {
      "cell_type": "code",
      "metadata": {
        "id": "artxtvPw_KmF",
        "colab": {
          "base_uri": "https://localhost:8080/"
        },
        "outputId": "28d07724-2f1e-4638-c7bc-e2961e31c6b6"
      },
      "source": [
        "X5 = mod_sales_X_5th.values\n",
        "y5 = mod_sales_ohe.loc[:, 'Item_Outlet_Sales'].values\n",
        "reg5 = LinearRegression()\n",
        "reg5.fit(X5, y5)"
      ],
      "execution_count": 151,
      "outputs": [
        {
          "output_type": "execute_result",
          "data": {
            "text/plain": [
              "LinearRegression(copy_X=True, fit_intercept=True, n_jobs=None, normalize=False)"
            ]
          },
          "metadata": {
            "tags": []
          },
          "execution_count": 151
        }
      ]
    },
    {
      "cell_type": "code",
      "metadata": {
        "id": "pcb8yQUUZuoC",
        "colab": {
          "base_uri": "https://localhost:8080/"
        },
        "outputId": "bd50dbf3-2657-49fa-8e78-be7203bf6f12"
      },
      "source": [
        "X5.shape"
      ],
      "execution_count": 152,
      "outputs": [
        {
          "output_type": "execute_result",
          "data": {
            "text/plain": [
              "(8523, 3)"
            ]
          },
          "metadata": {
            "tags": []
          },
          "execution_count": 152
        }
      ]
    },
    {
      "cell_type": "code",
      "metadata": {
        "id": "CEXiGlZBABGK",
        "colab": {
          "base_uri": "https://localhost:8080/"
        },
        "outputId": "c3a10b2a-b79c-4ddf-a36c-1407fe7f93ec"
      },
      "source": [
        "pred5 = reg5.predict(X5)\n",
        "pred5"
      ],
      "execution_count": 153,
      "outputs": [
        {
          "output_type": "execute_result",
          "data": {
            "text/plain": [
              "array([3697.33796343, 1424.3314988 , 2012.2454084 , ..., 1138.46169983,\n",
              "       2278.84571012,  988.07754052])"
            ]
          },
          "metadata": {
            "tags": []
          },
          "execution_count": 153
        }
      ]
    },
    {
      "cell_type": "code",
      "metadata": {
        "id": "SzJORbsEAHTY",
        "colab": {
          "base_uri": "https://localhost:8080/"
        },
        "outputId": "3431fe0a-0796-4f3a-e6a3-1b6aa275dc74"
      },
      "source": [
        "# Much Worse... The model needs more data to be more accurate\n",
        "\n",
        "reg5.score(X5,y5)"
      ],
      "execution_count": 154,
      "outputs": [
        {
          "output_type": "execute_result",
          "data": {
            "text/plain": [
              "0.4842732779418643"
            ]
          },
          "metadata": {
            "tags": []
          },
          "execution_count": 154
        }
      ]
    },
    {
      "cell_type": "code",
      "metadata": {
        "id": "CZlOu0pNAvTp",
        "colab": {
          "base_uri": "https://localhost:8080/"
        },
        "outputId": "a8a36068-6054-405d-aa3d-5980fa3eb5b5"
      },
      "source": [
        "# This is higher. This direction is not helping\n",
        "\n",
        "np.sqrt(mean_squared_error(y5, pred5))"
      ],
      "execution_count": 155,
      "outputs": [
        {
          "output_type": "execute_result",
          "data": {
            "text/plain": [
              "1225.4357130173285"
            ]
          },
          "metadata": {
            "tags": []
          },
          "execution_count": 155
        }
      ]
    },
    {
      "cell_type": "markdown",
      "metadata": {
        "id": "waU2NNJ1CXGR"
      },
      "source": [
        "\n",
        "\n",
        "> Just curious if I add a couple of the columns from the OneHot classifications if it will change the results any. A couple of the Outlets in the Outlet Identifier columns had a higher correlation with the sales column. I believe this means that those sales might conduct higher sales valume or they carry specific items that people specifcally go there to purchase. It's also possible these outlets are located in a more prime area than the other locations that correlate as well.\n",
        "\n"
      ]
    },
    {
      "cell_type": "code",
      "metadata": {
        "id": "U_OtBj-VCWkA",
        "colab": {
          "base_uri": "https://localhost:8080/",
          "height": 203
        },
        "outputId": "7f17e179-3574-4b5c-a77d-97139c49d0f3"
      },
      "source": [
        "# Sixth Attempt... I will use the same columns as attempt 5, but I will add the column for\n",
        "# Outlet 027\n",
        "\n",
        "mod_sales_X_6th = mod_sales_ohe.loc[:, ['Item_MRP', 'Outlet_Size', 'Outlet_Type', 'Outlet_Identifier_OUT027']]\n",
        "\n",
        "mod_sales_X_6th.head()"
      ],
      "execution_count": 156,
      "outputs": [
        {
          "output_type": "execute_result",
          "data": {
            "text/html": [
              "<div>\n",
              "<style scoped>\n",
              "    .dataframe tbody tr th:only-of-type {\n",
              "        vertical-align: middle;\n",
              "    }\n",
              "\n",
              "    .dataframe tbody tr th {\n",
              "        vertical-align: top;\n",
              "    }\n",
              "\n",
              "    .dataframe thead th {\n",
              "        text-align: right;\n",
              "    }\n",
              "</style>\n",
              "<table border=\"1\" class=\"dataframe\">\n",
              "  <thead>\n",
              "    <tr style=\"text-align: right;\">\n",
              "      <th></th>\n",
              "      <th>Item_MRP</th>\n",
              "      <th>Outlet_Size</th>\n",
              "      <th>Outlet_Type</th>\n",
              "      <th>Outlet_Identifier_OUT027</th>\n",
              "    </tr>\n",
              "  </thead>\n",
              "  <tbody>\n",
              "    <tr>\n",
              "      <th>0</th>\n",
              "      <td>249.8092</td>\n",
              "      <td>2</td>\n",
              "      <td>1</td>\n",
              "      <td>0.0</td>\n",
              "    </tr>\n",
              "    <tr>\n",
              "      <th>1</th>\n",
              "      <td>48.2692</td>\n",
              "      <td>2</td>\n",
              "      <td>2</td>\n",
              "      <td>0.0</td>\n",
              "    </tr>\n",
              "    <tr>\n",
              "      <th>2</th>\n",
              "      <td>141.6180</td>\n",
              "      <td>2</td>\n",
              "      <td>1</td>\n",
              "      <td>0.0</td>\n",
              "    </tr>\n",
              "    <tr>\n",
              "      <th>3</th>\n",
              "      <td>182.0950</td>\n",
              "      <td>0</td>\n",
              "      <td>0</td>\n",
              "      <td>0.0</td>\n",
              "    </tr>\n",
              "    <tr>\n",
              "      <th>4</th>\n",
              "      <td>53.8614</td>\n",
              "      <td>3</td>\n",
              "      <td>1</td>\n",
              "      <td>0.0</td>\n",
              "    </tr>\n",
              "  </tbody>\n",
              "</table>\n",
              "</div>"
            ],
            "text/plain": [
              "   Item_MRP  Outlet_Size  Outlet_Type  Outlet_Identifier_OUT027\n",
              "0  249.8092            2            1                       0.0\n",
              "1   48.2692            2            2                       0.0\n",
              "2  141.6180            2            1                       0.0\n",
              "3  182.0950            0            0                       0.0\n",
              "4   53.8614            3            1                       0.0"
            ]
          },
          "metadata": {
            "tags": []
          },
          "execution_count": 156
        }
      ]
    },
    {
      "cell_type": "code",
      "metadata": {
        "id": "8QBN-NkcBO7X",
        "colab": {
          "base_uri": "https://localhost:8080/"
        },
        "outputId": "d0f6ffab-56df-4cdf-a9b1-c19d7107996e"
      },
      "source": [
        "X6 = mod_sales_X_6th.values\n",
        "y6 = mod_sales_ohe.loc[:, 'Item_Outlet_Sales'].values\n",
        "reg6 = LinearRegression()\n",
        "reg6.fit(X6, y6)"
      ],
      "execution_count": 157,
      "outputs": [
        {
          "output_type": "execute_result",
          "data": {
            "text/plain": [
              "LinearRegression(copy_X=True, fit_intercept=True, n_jobs=None, normalize=False)"
            ]
          },
          "metadata": {
            "tags": []
          },
          "execution_count": 157
        }
      ]
    },
    {
      "cell_type": "code",
      "metadata": {
        "id": "F3ea3LAOc9gZ",
        "colab": {
          "base_uri": "https://localhost:8080/"
        },
        "outputId": "b840d21e-7b11-4287-8291-f56635d716c5"
      },
      "source": [
        "pred6 = reg6.predict(X6)\n",
        "pred6"
      ],
      "execution_count": 158,
      "outputs": [
        {
          "output_type": "execute_result",
          "data": {
            "text/plain": [
              "array([3698.54726404, 1448.11567406, 2013.63203296, ..., 1142.0802381 ,\n",
              "       2302.539964  ,  991.71190387])"
            ]
          },
          "metadata": {
            "tags": []
          },
          "execution_count": 158
        }
      ]
    },
    {
      "cell_type": "code",
      "metadata": {
        "id": "UVlgN0KddeWs",
        "colab": {
          "base_uri": "https://localhost:8080/"
        },
        "outputId": "c86c1b76-e33a-4345-d8b7-e5ed33234eeb"
      },
      "source": [
        "# A very small improvement. Almost unnoticeable\n",
        "\n",
        "reg6.score(X6,y6)"
      ],
      "execution_count": 159,
      "outputs": [
        {
          "output_type": "execute_result",
          "data": {
            "text/plain": [
              "0.4843293085832434"
            ]
          },
          "metadata": {
            "tags": []
          },
          "execution_count": 159
        }
      ]
    },
    {
      "cell_type": "code",
      "metadata": {
        "id": "aYgVUxmjdj1T",
        "colab": {
          "base_uri": "https://localhost:8080/"
        },
        "outputId": "41c37cd2-55a2-400f-e24b-c00c0206039b"
      },
      "source": [
        "np.sqrt(mean_squared_error(y6, pred6))"
      ],
      "execution_count": 160,
      "outputs": [
        {
          "output_type": "execute_result",
          "data": {
            "text/plain": [
              "1225.3691430578308"
            ]
          },
          "metadata": {
            "tags": []
          },
          "execution_count": 160
        }
      ]
    },
    {
      "cell_type": "markdown",
      "metadata": {
        "id": "m6656Wt_d8eX"
      },
      "source": [
        "\n",
        "\n",
        "> Final Attempt ... I will run the model from the sixth attempt but add in a couple specific Outlets with a negative correlation. The numbers were higher so maybe the effect on the prediction model will help.\n",
        "\n"
      ]
    },
    {
      "cell_type": "code",
      "metadata": {
        "id": "XV6ofGGqd7jT",
        "colab": {
          "base_uri": "https://localhost:8080/",
          "height": 203
        },
        "outputId": "ff84cd80-1663-44af-bdac-79df482a174f"
      },
      "source": [
        "mod_sales_X_7th = mod_sales_ohe.loc[:, ['Item_MRP', 'Outlet_Size', 'Outlet_Type', 'Outlet_Identifier_OUT027',\n",
        "                                        'Outlet_Identifier_OUT019', 'Outlet_Identifier_OUT010']]\n",
        "\n",
        "mod_sales_X_7th.head()"
      ],
      "execution_count": 161,
      "outputs": [
        {
          "output_type": "execute_result",
          "data": {
            "text/html": [
              "<div>\n",
              "<style scoped>\n",
              "    .dataframe tbody tr th:only-of-type {\n",
              "        vertical-align: middle;\n",
              "    }\n",
              "\n",
              "    .dataframe tbody tr th {\n",
              "        vertical-align: top;\n",
              "    }\n",
              "\n",
              "    .dataframe thead th {\n",
              "        text-align: right;\n",
              "    }\n",
              "</style>\n",
              "<table border=\"1\" class=\"dataframe\">\n",
              "  <thead>\n",
              "    <tr style=\"text-align: right;\">\n",
              "      <th></th>\n",
              "      <th>Item_MRP</th>\n",
              "      <th>Outlet_Size</th>\n",
              "      <th>Outlet_Type</th>\n",
              "      <th>Outlet_Identifier_OUT027</th>\n",
              "      <th>Outlet_Identifier_OUT019</th>\n",
              "      <th>Outlet_Identifier_OUT010</th>\n",
              "    </tr>\n",
              "  </thead>\n",
              "  <tbody>\n",
              "    <tr>\n",
              "      <th>0</th>\n",
              "      <td>249.8092</td>\n",
              "      <td>2</td>\n",
              "      <td>1</td>\n",
              "      <td>0.0</td>\n",
              "      <td>0.0</td>\n",
              "      <td>0.0</td>\n",
              "    </tr>\n",
              "    <tr>\n",
              "      <th>1</th>\n",
              "      <td>48.2692</td>\n",
              "      <td>2</td>\n",
              "      <td>2</td>\n",
              "      <td>0.0</td>\n",
              "      <td>0.0</td>\n",
              "      <td>0.0</td>\n",
              "    </tr>\n",
              "    <tr>\n",
              "      <th>2</th>\n",
              "      <td>141.6180</td>\n",
              "      <td>2</td>\n",
              "      <td>1</td>\n",
              "      <td>0.0</td>\n",
              "      <td>0.0</td>\n",
              "      <td>0.0</td>\n",
              "    </tr>\n",
              "    <tr>\n",
              "      <th>3</th>\n",
              "      <td>182.0950</td>\n",
              "      <td>0</td>\n",
              "      <td>0</td>\n",
              "      <td>0.0</td>\n",
              "      <td>0.0</td>\n",
              "      <td>1.0</td>\n",
              "    </tr>\n",
              "    <tr>\n",
              "      <th>4</th>\n",
              "      <td>53.8614</td>\n",
              "      <td>3</td>\n",
              "      <td>1</td>\n",
              "      <td>0.0</td>\n",
              "      <td>0.0</td>\n",
              "      <td>0.0</td>\n",
              "    </tr>\n",
              "  </tbody>\n",
              "</table>\n",
              "</div>"
            ],
            "text/plain": [
              "   Item_MRP  Outlet_Size  ...  Outlet_Identifier_OUT019  Outlet_Identifier_OUT010\n",
              "0  249.8092            2  ...                       0.0                       0.0\n",
              "1   48.2692            2  ...                       0.0                       0.0\n",
              "2  141.6180            2  ...                       0.0                       0.0\n",
              "3  182.0950            0  ...                       0.0                       1.0\n",
              "4   53.8614            3  ...                       0.0                       0.0\n",
              "\n",
              "[5 rows x 6 columns]"
            ]
          },
          "metadata": {
            "tags": []
          },
          "execution_count": 161
        }
      ]
    },
    {
      "cell_type": "code",
      "metadata": {
        "id": "7n5eJrqnfQ6x",
        "colab": {
          "base_uri": "https://localhost:8080/"
        },
        "outputId": "148e0f33-52d8-4eb7-b79f-16e790192302"
      },
      "source": [
        "X7 = mod_sales_X_7th.values\n",
        "y7 = mod_sales_ohe.loc[:, 'Item_Outlet_Sales'].values\n",
        "reg7 = LinearRegression()\n",
        "reg7.fit(X7, y7)"
      ],
      "execution_count": 162,
      "outputs": [
        {
          "output_type": "execute_result",
          "data": {
            "text/plain": [
              "LinearRegression(copy_X=True, fit_intercept=True, n_jobs=None, normalize=False)"
            ]
          },
          "metadata": {
            "tags": []
          },
          "execution_count": 162
        }
      ]
    },
    {
      "cell_type": "code",
      "metadata": {
        "id": "Ov_MeYF_d5Ip",
        "colab": {
          "base_uri": "https://localhost:8080/"
        },
        "outputId": "c4750b7d-3c0e-432d-9535-15b39b8fde47"
      },
      "source": [
        "pred7 = reg7.predict(X7)\n",
        "pred7"
      ],
      "execution_count": 163,
      "outputs": [
        {
          "output_type": "execute_result",
          "data": {
            "text/plain": [
              "array([4014.92009318,  541.92769462, 2331.32574109, ..., 1441.53228735,\n",
              "       1395.68216386, 1291.28183346])"
            ]
          },
          "metadata": {
            "tags": []
          },
          "execution_count": 163
        }
      ]
    },
    {
      "cell_type": "code",
      "metadata": {
        "id": "J7ajrXucfhcs",
        "colab": {
          "base_uri": "https://localhost:8080/"
        },
        "outputId": "86ebae3d-f235-4186-d018-e52e3d5d07db"
      },
      "source": [
        "# Definitely better, but still not as good as using all the columns.\n",
        "reg7.score(X7,y7)"
      ],
      "execution_count": 164,
      "outputs": [
        {
          "output_type": "execute_result",
          "data": {
            "text/plain": [
              "0.5620792543807296"
            ]
          },
          "metadata": {
            "tags": []
          },
          "execution_count": 164
        }
      ]
    },
    {
      "cell_type": "code",
      "metadata": {
        "id": "WmK4Y4_RfnN5",
        "colab": {
          "base_uri": "https://localhost:8080/"
        },
        "outputId": "f5172248-bed4-4e49-c244-69b0d2395c88"
      },
      "source": [
        "np.sqrt(mean_squared_error(y7, pred7))"
      ],
      "execution_count": 165,
      "outputs": [
        {
          "output_type": "execute_result",
          "data": {
            "text/plain": [
              "1129.2197758885277"
            ]
          },
          "metadata": {
            "tags": []
          },
          "execution_count": 165
        }
      ]
    },
    {
      "cell_type": "markdown",
      "metadata": {
        "id": "F1CRldcnf8yL"
      },
      "source": [
        "\n",
        "\n",
        "> I believe I was supposed to delete a column for both of the OneHot columns I converted. I've seen there are other ways to splice and randomize the dataset in order to teach the model to be predict more accurately.\n",
        "\n",
        "\n",
        "\n"
      ]
    },
    {
      "cell_type": "markdown",
      "metadata": {
        "id": "rNBmHSpOvKbh"
      },
      "source": [
        "# Part 6"
      ]
    },
    {
      "cell_type": "code",
      "metadata": {
        "colab": {
          "base_uri": "https://localhost:8080/",
          "height": 307
        },
        "id": "L4Iusw7F29gu",
        "outputId": "3237f632-774e-49e6-964d-ffcbef8cb1dc"
      },
      "source": [
        "df = pd.read_csv(filename)\n",
        "df.head()"
      ],
      "execution_count": 166,
      "outputs": [
        {
          "output_type": "execute_result",
          "data": {
            "text/html": [
              "<div>\n",
              "<style scoped>\n",
              "    .dataframe tbody tr th:only-of-type {\n",
              "        vertical-align: middle;\n",
              "    }\n",
              "\n",
              "    .dataframe tbody tr th {\n",
              "        vertical-align: top;\n",
              "    }\n",
              "\n",
              "    .dataframe thead th {\n",
              "        text-align: right;\n",
              "    }\n",
              "</style>\n",
              "<table border=\"1\" class=\"dataframe\">\n",
              "  <thead>\n",
              "    <tr style=\"text-align: right;\">\n",
              "      <th></th>\n",
              "      <th>Item_Identifier</th>\n",
              "      <th>Item_Weight</th>\n",
              "      <th>Item_Fat_Content</th>\n",
              "      <th>Item_Visibility</th>\n",
              "      <th>Item_Type</th>\n",
              "      <th>Item_MRP</th>\n",
              "      <th>Outlet_Identifier</th>\n",
              "      <th>Outlet_Establishment_Year</th>\n",
              "      <th>Outlet_Size</th>\n",
              "      <th>Outlet_Location_Type</th>\n",
              "      <th>Outlet_Type</th>\n",
              "      <th>Item_Outlet_Sales</th>\n",
              "    </tr>\n",
              "  </thead>\n",
              "  <tbody>\n",
              "    <tr>\n",
              "      <th>0</th>\n",
              "      <td>FDA15</td>\n",
              "      <td>9.30</td>\n",
              "      <td>Low Fat</td>\n",
              "      <td>0.016047</td>\n",
              "      <td>Dairy</td>\n",
              "      <td>249.8092</td>\n",
              "      <td>OUT049</td>\n",
              "      <td>1999</td>\n",
              "      <td>Medium</td>\n",
              "      <td>Tier 1</td>\n",
              "      <td>Supermarket Type1</td>\n",
              "      <td>3735.1380</td>\n",
              "    </tr>\n",
              "    <tr>\n",
              "      <th>1</th>\n",
              "      <td>DRC01</td>\n",
              "      <td>5.92</td>\n",
              "      <td>Regular</td>\n",
              "      <td>0.019278</td>\n",
              "      <td>Soft Drinks</td>\n",
              "      <td>48.2692</td>\n",
              "      <td>OUT018</td>\n",
              "      <td>2009</td>\n",
              "      <td>Medium</td>\n",
              "      <td>Tier 3</td>\n",
              "      <td>Supermarket Type2</td>\n",
              "      <td>443.4228</td>\n",
              "    </tr>\n",
              "    <tr>\n",
              "      <th>2</th>\n",
              "      <td>FDN15</td>\n",
              "      <td>17.50</td>\n",
              "      <td>Low Fat</td>\n",
              "      <td>0.016760</td>\n",
              "      <td>Meat</td>\n",
              "      <td>141.6180</td>\n",
              "      <td>OUT049</td>\n",
              "      <td>1999</td>\n",
              "      <td>Medium</td>\n",
              "      <td>Tier 1</td>\n",
              "      <td>Supermarket Type1</td>\n",
              "      <td>2097.2700</td>\n",
              "    </tr>\n",
              "    <tr>\n",
              "      <th>3</th>\n",
              "      <td>FDX07</td>\n",
              "      <td>19.20</td>\n",
              "      <td>Regular</td>\n",
              "      <td>0.000000</td>\n",
              "      <td>Fruits and Vegetables</td>\n",
              "      <td>182.0950</td>\n",
              "      <td>OUT010</td>\n",
              "      <td>1998</td>\n",
              "      <td>NaN</td>\n",
              "      <td>Tier 3</td>\n",
              "      <td>Grocery Store</td>\n",
              "      <td>732.3800</td>\n",
              "    </tr>\n",
              "    <tr>\n",
              "      <th>4</th>\n",
              "      <td>NCD19</td>\n",
              "      <td>8.93</td>\n",
              "      <td>Low Fat</td>\n",
              "      <td>0.000000</td>\n",
              "      <td>Household</td>\n",
              "      <td>53.8614</td>\n",
              "      <td>OUT013</td>\n",
              "      <td>1987</td>\n",
              "      <td>High</td>\n",
              "      <td>Tier 3</td>\n",
              "      <td>Supermarket Type1</td>\n",
              "      <td>994.7052</td>\n",
              "    </tr>\n",
              "  </tbody>\n",
              "</table>\n",
              "</div>"
            ],
            "text/plain": [
              "  Item_Identifier  Item_Weight  ...        Outlet_Type  Item_Outlet_Sales\n",
              "0           FDA15         9.30  ...  Supermarket Type1          3735.1380\n",
              "1           DRC01         5.92  ...  Supermarket Type2           443.4228\n",
              "2           FDN15        17.50  ...  Supermarket Type1          2097.2700\n",
              "3           FDX07        19.20  ...      Grocery Store           732.3800\n",
              "4           NCD19         8.93  ...  Supermarket Type1           994.7052\n",
              "\n",
              "[5 rows x 12 columns]"
            ]
          },
          "metadata": {
            "tags": []
          },
          "execution_count": 166
        }
      ]
    },
    {
      "cell_type": "code",
      "metadata": {
        "id": "OJwLErGtgwPv",
        "colab": {
          "base_uri": "https://localhost:8080/",
          "height": 240
        },
        "outputId": "73b0ce2c-a6d7-4621-e43a-34f3ed7b4002"
      },
      "source": [
        "mod_sales.head()"
      ],
      "execution_count": 167,
      "outputs": [
        {
          "output_type": "execute_result",
          "data": {
            "text/html": [
              "<div>\n",
              "<style scoped>\n",
              "    .dataframe tbody tr th:only-of-type {\n",
              "        vertical-align: middle;\n",
              "    }\n",
              "\n",
              "    .dataframe tbody tr th {\n",
              "        vertical-align: top;\n",
              "    }\n",
              "\n",
              "    .dataframe thead th {\n",
              "        text-align: right;\n",
              "    }\n",
              "</style>\n",
              "<table border=\"1\" class=\"dataframe\">\n",
              "  <thead>\n",
              "    <tr style=\"text-align: right;\">\n",
              "      <th></th>\n",
              "      <th>Item_Identifier</th>\n",
              "      <th>Item_Weight</th>\n",
              "      <th>Item_Fat_Content</th>\n",
              "      <th>Item_Type</th>\n",
              "      <th>transformed_Item_Type</th>\n",
              "      <th>Item_MRP</th>\n",
              "      <th>Outlet_Identifier</th>\n",
              "      <th>transformed_Outlet_Identifier</th>\n",
              "      <th>Outlet_Establishment_Year</th>\n",
              "      <th>Outlet_Size</th>\n",
              "      <th>Outlet_Location_Type</th>\n",
              "      <th>Outlet_Type</th>\n",
              "      <th>Item_Outlet_Sales</th>\n",
              "    </tr>\n",
              "  </thead>\n",
              "  <tbody>\n",
              "    <tr>\n",
              "      <th>0</th>\n",
              "      <td>FDA15</td>\n",
              "      <td>9.30</td>\n",
              "      <td>0</td>\n",
              "      <td>Dairy</td>\n",
              "      <td>4</td>\n",
              "      <td>249.8092</td>\n",
              "      <td>OUT049</td>\n",
              "      <td>9</td>\n",
              "      <td>4</td>\n",
              "      <td>2</td>\n",
              "      <td>1</td>\n",
              "      <td>1</td>\n",
              "      <td>3735.1380</td>\n",
              "    </tr>\n",
              "    <tr>\n",
              "      <th>1</th>\n",
              "      <td>DRC01</td>\n",
              "      <td>5.92</td>\n",
              "      <td>1</td>\n",
              "      <td>Soft Drinks</td>\n",
              "      <td>14</td>\n",
              "      <td>48.2692</td>\n",
              "      <td>OUT018</td>\n",
              "      <td>3</td>\n",
              "      <td>8</td>\n",
              "      <td>2</td>\n",
              "      <td>3</td>\n",
              "      <td>2</td>\n",
              "      <td>443.4228</td>\n",
              "    </tr>\n",
              "    <tr>\n",
              "      <th>2</th>\n",
              "      <td>FDN15</td>\n",
              "      <td>17.50</td>\n",
              "      <td>0</td>\n",
              "      <td>Meat</td>\n",
              "      <td>10</td>\n",
              "      <td>141.6180</td>\n",
              "      <td>OUT049</td>\n",
              "      <td>9</td>\n",
              "      <td>4</td>\n",
              "      <td>2</td>\n",
              "      <td>1</td>\n",
              "      <td>1</td>\n",
              "      <td>2097.2700</td>\n",
              "    </tr>\n",
              "    <tr>\n",
              "      <th>3</th>\n",
              "      <td>FDX07</td>\n",
              "      <td>19.20</td>\n",
              "      <td>1</td>\n",
              "      <td>Fruits and Vegetables</td>\n",
              "      <td>6</td>\n",
              "      <td>182.0950</td>\n",
              "      <td>OUT010</td>\n",
              "      <td>0</td>\n",
              "      <td>3</td>\n",
              "      <td>0</td>\n",
              "      <td>3</td>\n",
              "      <td>0</td>\n",
              "      <td>732.3800</td>\n",
              "    </tr>\n",
              "    <tr>\n",
              "      <th>4</th>\n",
              "      <td>NCD19</td>\n",
              "      <td>8.93</td>\n",
              "      <td>0</td>\n",
              "      <td>Household</td>\n",
              "      <td>9</td>\n",
              "      <td>53.8614</td>\n",
              "      <td>OUT013</td>\n",
              "      <td>1</td>\n",
              "      <td>1</td>\n",
              "      <td>3</td>\n",
              "      <td>3</td>\n",
              "      <td>1</td>\n",
              "      <td>994.7052</td>\n",
              "    </tr>\n",
              "  </tbody>\n",
              "</table>\n",
              "</div>"
            ],
            "text/plain": [
              "  Item_Identifier  Item_Weight  ...  Outlet_Type Item_Outlet_Sales\n",
              "0           FDA15         9.30  ...            1         3735.1380\n",
              "1           DRC01         5.92  ...            2          443.4228\n",
              "2           FDN15        17.50  ...            1         2097.2700\n",
              "3           FDX07        19.20  ...            0          732.3800\n",
              "4           NCD19         8.93  ...            1          994.7052\n",
              "\n",
              "[5 rows x 13 columns]"
            ]
          },
          "metadata": {
            "tags": []
          },
          "execution_count": 167
        }
      ]
    },
    {
      "cell_type": "code",
      "metadata": {
        "colab": {
          "base_uri": "https://localhost:8080/"
        },
        "id": "rv9y8I48vecS",
        "outputId": "e6ddbe52-dcfe-4e62-ff3f-aeb56ae9e41d"
      },
      "source": [
        "mod_sales['Item_Identifier'].nunique"
      ],
      "execution_count": 168,
      "outputs": [
        {
          "output_type": "execute_result",
          "data": {
            "text/plain": [
              "<bound method IndexOpsMixin.nunique of 0       FDA15\n",
              "1       DRC01\n",
              "2       FDN15\n",
              "3       FDX07\n",
              "4       NCD19\n",
              "        ...  \n",
              "8518    FDF22\n",
              "8519    FDS36\n",
              "8520    NCJ29\n",
              "8521    FDN46\n",
              "8522    DRG01\n",
              "Name: Item_Identifier, Length: 8523, dtype: object>"
            ]
          },
          "metadata": {
            "tags": []
          },
          "execution_count": 168
        }
      ]
    },
    {
      "cell_type": "code",
      "metadata": {
        "colab": {
          "base_uri": "https://localhost:8080/"
        },
        "id": "SNhH_TmQvuje",
        "outputId": "98cbc0a4-20e4-4dc0-8d1e-af7c53e22847"
      },
      "source": [
        "# found this code on: https://github.com/SulaimanShaik/Big_mart-Sales-Analytics/blob/master/Bigmarket_sale_prediction%20Analytics%20Vidhya.ipynb\n",
        "# this will help make the Identifier column not useless... Might show something\n",
        "#    about which types of food sell more for which Outlets\n",
        "\n",
        "#Get the first two characters of ID:\n",
        "mod_sales['Item_Type_Combined'] = mod_sales['Item_Identifier'].apply(lambda x: x[0:2])\n",
        "\n",
        "#Rename them to more intuitive categories:\n",
        "mod_sales['Item_Type_Combined'] = mod_sales['Item_Type_Combined'].map({'FD':'Food',\n",
        "                                                             'NC':'Non-Consumable','DR':'Drinks'})\n",
        "mod_sales['Item_Type_Combined'].value_counts()"
      ],
      "execution_count": 169,
      "outputs": [
        {
          "output_type": "execute_result",
          "data": {
            "text/plain": [
              "Food              6125\n",
              "Non-Consumable    1599\n",
              "Drinks             799\n",
              "Name: Item_Type_Combined, dtype: int64"
            ]
          },
          "metadata": {
            "tags": []
          },
          "execution_count": 169
        }
      ]
    },
    {
      "cell_type": "code",
      "metadata": {
        "colab": {
          "base_uri": "https://localhost:8080/",
          "height": 381
        },
        "id": "JHDKCbjpxSy4",
        "outputId": "75c5fd02-f6bb-460a-aea5-038c9848ba88"
      },
      "source": [
        "plt.style.use('seaborn')\n",
        "plt.bar(mod_sales['Item_Type_Combined'].value_counts().index, mod_sales['Item_Type_Combined'].value_counts().values);\n",
        "plt.title('Sales Items by Type', fontsize=25)\n",
        "plt.ylabel('Items Sold', fontsize=20)\n",
        "plt.xticks(fontsize=20);"
      ],
      "execution_count": 170,
      "outputs": [
        {
          "output_type": "display_data",
          "data": {
            "image/png": "[encoded data removed]",
            "text/plain": [
              "<Figure size 576x396 with 1 Axes>"
            ]
          },
          "metadata": {
            "tags": []
          }
        }
      ]
    },
    {
      "cell_type": "code",
      "metadata": {
        "id": "Ql0Y5KY149ER"
      },
      "source": [
        "df['Item_Type_Combined'] = df['Item_Identifier'].apply(lambda x: x[0:2])\n",
        "df['Item_Type_Combined'] = df['Item_Type_Combined'].map({'FD':'Food',\n",
        "                                                         'NC':'Non-Consumable',\n",
        "                                                         'DR':'Drinks'})                                                      "
      ],
      "execution_count": 171,
      "outputs": []
    },
    {
      "cell_type": "code",
      "metadata": {
        "id": "ToKQIt_t_KLf"
      },
      "source": [
        "food = df['Item_Type_Combined'] == 'Food'\n",
        "nonc = df['Item_Type_Combined'] == 'Non-Consumable'\n",
        "drinks = df['Item_Type_Combined'] == 'Drinks'\n",
        "\n",
        "food_sales = df.loc[food, 'Item_Outlet_Sales']"
      ],
      "execution_count": 172,
      "outputs": []
    },
    {
      "cell_type": "code",
      "metadata": {
        "id": "T7ueBods3qqe",
        "outputId": "13575f44-aee2-408e-9578-414ab2bee027",
        "colab": {
          "base_uri": "https://localhost:8080/"
        }
      },
      "source": [
        "df['Item_Type_Combined'].value_counts()"
      ],
      "execution_count": 173,
      "outputs": [
        {
          "output_type": "execute_result",
          "data": {
            "text/plain": [
              "Food              6125\n",
              "Non-Consumable    1599\n",
              "Drinks             799\n",
              "Name: Item_Type_Combined, dtype: int64"
            ]
          },
          "metadata": {
            "tags": []
          },
          "execution_count": 173
        }
      ]
    },
    {
      "cell_type": "code",
      "metadata": {
        "id": "YxdHjLw44ccY",
        "outputId": "5ac3fb60-8a3e-4110-8356-d1a41bd04f45",
        "colab": {
          "base_uri": "https://localhost:8080/"
        }
      },
      "source": [
        "print('Food = ' + str(round(6125/(food.count()),2)))\n",
        "print('Non-Consumables = ' + str(round(1599/(food.count()),2)))\n",
        "print('Beverages = ' + str(round(799/(food.count()),2)))"
      ],
      "execution_count": 174,
      "outputs": [
        {
          "output_type": "stream",
          "text": [
            "Food = 0.72\n",
            "Non-Consumables = 0.19\n",
            "Beverages = 0.09\n"
          ],
          "name": "stdout"
        }
      ]
    },
    {
      "cell_type": "code",
      "metadata": {
        "colab": {
          "base_uri": "https://localhost:8080/"
        },
        "id": "gF2D5nm7zMJ7",
        "outputId": "1bc75544-9ef3-4a7b-bc66-18417b55644b"
      },
      "source": [
        "foodSold = df[food].groupby(['Outlet_Identifier'])['Item_Outlet_Sales'].sum()\n",
        "ncSold = df[nonc].groupby(['Outlet_Identifier'])['Item_Outlet_Sales'].sum()\n",
        "drinksSold = df[drinks].groupby(['Outlet_Identifier'])['Item_Outlet_Sales'].sum()\n",
        "foodSold"
      ],
      "execution_count": 175,
      "outputs": [
        {
          "output_type": "execute_result",
          "data": {
            "text/plain": [
              "Outlet_Identifier\n",
              "OUT010    1.295594e+05\n",
              "OUT013    1.547201e+06\n",
              "OUT017    1.576697e+06\n",
              "OUT018    1.349399e+06\n",
              "OUT019    1.319469e+05\n",
              "OUT027    2.575792e+06\n",
              "OUT035    1.654342e+06\n",
              "OUT045    1.471357e+06\n",
              "OUT046    1.559509e+06\n",
              "OUT049    1.573241e+06\n",
              "Name: Item_Outlet_Sales, dtype: float64"
            ]
          },
          "metadata": {
            "tags": []
          },
          "execution_count": 175
        }
      ]
    },
    {
      "cell_type": "code",
      "metadata": {
        "colab": {
          "base_uri": "https://localhost:8080/",
          "height": 411
        },
        "id": "q_zu-4Fh7ECM",
        "outputId": "e093a72c-7837-440a-cd94-7b900c825b10"
      },
      "source": [
        "\n",
        "plt.style.use('seaborn-colorblind')\n",
        "plt.bar(foodSold.index, foodSold.values, data=df, width=.3, align='edge', label='Food')\n",
        "plt.bar(ncSold.index, ncSold.values, width=.3, align='center', label='Non-Consumables')\n",
        "plt.bar(drinksSold.index, drinksSold.values, width = -.3, align='edge', label='Drinks')\n",
        "plt.xticks(rotation= 35);\n",
        "plt.ticklabel_format(style='plain', axis='y')\n",
        "plt.title('Sales by Item', fontsize=25)\n",
        "plt.xlabel('Outlet Identifier', fontsize = 15)\n",
        "plt.xlabel('(in order of Year Established 1985-2009)', fontsize = 16)\n",
        "plt.ylabel('Sales', fontsize = 18);\n",
        "plt.legend(facecolor='gray', fontsize='medium');"
      ],
      "execution_count": 176,
      "outputs": [
        {
          "output_type": "display_data",
          "data": {
            "image/png": "[encoded data removed]",
            "text/plain": [
              "<Figure size 576x396 with 1 Axes>"
            ]
          },
          "metadata": {
            "tags": []
          }
        }
      ]
    },
    {
      "cell_type": "code",
      "metadata": {
        "id": "Kd8o3qeFJYFo",
        "outputId": "adf64cda-d6dc-4fac-8202-d9c223899a04",
        "colab": {
          "base_uri": "https://localhost:8080/",
          "height": 307
        }
      },
      "source": [
        "out027 = df['Outlet_Identifier'] == 'OUT019'\n",
        "df[out027].head()"
      ],
      "execution_count": 177,
      "outputs": [
        {
          "output_type": "execute_result",
          "data": {
            "text/html": [
              "<div>\n",
              "<style scoped>\n",
              "    .dataframe tbody tr th:only-of-type {\n",
              "        vertical-align: middle;\n",
              "    }\n",
              "\n",
              "    .dataframe tbody tr th {\n",
              "        vertical-align: top;\n",
              "    }\n",
              "\n",
              "    .dataframe thead th {\n",
              "        text-align: right;\n",
              "    }\n",
              "</style>\n",
              "<table border=\"1\" class=\"dataframe\">\n",
              "  <thead>\n",
              "    <tr style=\"text-align: right;\">\n",
              "      <th></th>\n",
              "      <th>Item_Identifier</th>\n",
              "      <th>Item_Weight</th>\n",
              "      <th>Item_Fat_Content</th>\n",
              "      <th>Item_Visibility</th>\n",
              "      <th>Item_Type</th>\n",
              "      <th>Item_MRP</th>\n",
              "      <th>Outlet_Identifier</th>\n",
              "      <th>Outlet_Establishment_Year</th>\n",
              "      <th>Outlet_Size</th>\n",
              "      <th>Outlet_Location_Type</th>\n",
              "      <th>Outlet_Type</th>\n",
              "      <th>Item_Outlet_Sales</th>\n",
              "      <th>Item_Type_Combined</th>\n",
              "    </tr>\n",
              "  </thead>\n",
              "  <tbody>\n",
              "    <tr>\n",
              "      <th>23</th>\n",
              "      <td>FDC37</td>\n",
              "      <td>NaN</td>\n",
              "      <td>Low Fat</td>\n",
              "      <td>0.057557</td>\n",
              "      <td>Baking Goods</td>\n",
              "      <td>107.6938</td>\n",
              "      <td>OUT019</td>\n",
              "      <td>1985</td>\n",
              "      <td>Small</td>\n",
              "      <td>Tier 1</td>\n",
              "      <td>Grocery Store</td>\n",
              "      <td>214.3876</td>\n",
              "      <td>Food</td>\n",
              "    </tr>\n",
              "    <tr>\n",
              "      <th>29</th>\n",
              "      <td>FDC14</td>\n",
              "      <td>NaN</td>\n",
              "      <td>Regular</td>\n",
              "      <td>0.072222</td>\n",
              "      <td>Canned</td>\n",
              "      <td>43.6454</td>\n",
              "      <td>OUT019</td>\n",
              "      <td>1985</td>\n",
              "      <td>Small</td>\n",
              "      <td>Tier 1</td>\n",
              "      <td>Grocery Store</td>\n",
              "      <td>125.8362</td>\n",
              "      <td>Food</td>\n",
              "    </tr>\n",
              "    <tr>\n",
              "      <th>49</th>\n",
              "      <td>FDS02</td>\n",
              "      <td>NaN</td>\n",
              "      <td>Regular</td>\n",
              "      <td>0.255395</td>\n",
              "      <td>Dairy</td>\n",
              "      <td>196.8794</td>\n",
              "      <td>OUT019</td>\n",
              "      <td>1985</td>\n",
              "      <td>Small</td>\n",
              "      <td>Tier 1</td>\n",
              "      <td>Grocery Store</td>\n",
              "      <td>780.3176</td>\n",
              "      <td>Food</td>\n",
              "    </tr>\n",
              "    <tr>\n",
              "      <th>59</th>\n",
              "      <td>FDI26</td>\n",
              "      <td>NaN</td>\n",
              "      <td>Low Fat</td>\n",
              "      <td>0.061082</td>\n",
              "      <td>Canned</td>\n",
              "      <td>180.0344</td>\n",
              "      <td>OUT019</td>\n",
              "      <td>1985</td>\n",
              "      <td>Small</td>\n",
              "      <td>Tier 1</td>\n",
              "      <td>Grocery Store</td>\n",
              "      <td>892.1720</td>\n",
              "      <td>Food</td>\n",
              "    </tr>\n",
              "    <tr>\n",
              "      <th>63</th>\n",
              "      <td>FDY40</td>\n",
              "      <td>NaN</td>\n",
              "      <td>Regular</td>\n",
              "      <td>0.150286</td>\n",
              "      <td>Frozen Foods</td>\n",
              "      <td>51.0692</td>\n",
              "      <td>OUT019</td>\n",
              "      <td>1985</td>\n",
              "      <td>Small</td>\n",
              "      <td>Tier 1</td>\n",
              "      <td>Grocery Store</td>\n",
              "      <td>147.8076</td>\n",
              "      <td>Food</td>\n",
              "    </tr>\n",
              "  </tbody>\n",
              "</table>\n",
              "</div>"
            ],
            "text/plain": [
              "   Item_Identifier  Item_Weight  ... Item_Outlet_Sales  Item_Type_Combined\n",
              "23           FDC37          NaN  ...          214.3876                Food\n",
              "29           FDC14          NaN  ...          125.8362                Food\n",
              "49           FDS02          NaN  ...          780.3176                Food\n",
              "59           FDI26          NaN  ...          892.1720                Food\n",
              "63           FDY40          NaN  ...          147.8076                Food\n",
              "\n",
              "[5 rows x 13 columns]"
            ]
          },
          "metadata": {
            "tags": []
          },
          "execution_count": 177
        }
      ]
    },
    {
      "cell_type": "code",
      "metadata": {
        "id": "pVQWUArnUb5c"
      },
      "source": [
        "consumables = sales['Item_Type_Combined'] != 'Non-Consumable'"
      ],
      "execution_count": 178,
      "outputs": []
    },
    {
      "cell_type": "code",
      "metadata": {
        "colab": {
          "base_uri": "https://localhost:8080/"
        },
        "id": "P8P1yQpdVl63",
        "outputId": "4f729761-bbae-401e-856f-33e1ff5f00d1"
      },
      "source": [
        "conSales = sales[consumables].groupby(['Item_Fat_Content'])['Item_Outlet_Sales'].sum()\n",
        "conSales"
      ],
      "execution_count": 210,
      "outputs": [
        {
          "output_type": "execute_result",
          "data": {
            "text/plain": [
              "Item_Fat_Content\n",
              "0    8.477883e+06\n",
              "1    6.687031e+06\n",
              "Name: Item_Outlet_Sales, dtype: float64"
            ]
          },
          "metadata": {
            "tags": []
          },
          "execution_count": 210
        }
      ]
    },
    {
      "cell_type": "code",
      "metadata": {
        "id": "z9GjvtOMcjIv",
        "outputId": "54145eb1-6499-4c0c-eb46-ea39e013c95a",
        "colab": {
          "base_uri": "https://localhost:8080/"
        }
      },
      "source": [
        "8.477883e+06/15164914.0"
      ],
      "execution_count": 230,
      "outputs": [
        {
          "output_type": "execute_result",
          "data": {
            "text/plain": [
              "0.5590459002932691"
            ]
          },
          "metadata": {
            "tags": []
          },
          "execution_count": 230
        }
      ]
    },
    {
      "cell_type": "code",
      "metadata": {
        "id": "fGhvu3O0SYq0",
        "outputId": "933d379e-3dda-42c0-fd48-426d5f2ed9e5",
        "colab": {
          "base_uri": "https://localhost:8080/"
        }
      },
      "source": [
        "consumablesFC = sales.loc[consumables, 'Item_Fat_Content']\n",
        "consumablesFC.value_counts()"
      ],
      "execution_count": 232,
      "outputs": [
        {
          "output_type": "execute_result",
          "data": {
            "text/plain": [
              "0    3918\n",
              "1    3006\n",
              "Name: Item_Fat_Content, dtype: int64"
            ]
          },
          "metadata": {
            "tags": []
          },
          "execution_count": 232
        }
      ]
    },
    {
      "cell_type": "code",
      "metadata": {
        "id": "pNhr2SIrdMlS",
        "outputId": "dfefa240-9f53-4b43-b1bd-78f127cba9a8",
        "colab": {
          "base_uri": "https://localhost:8080/"
        }
      },
      "source": [
        "3918/6924"
      ],
      "execution_count": 233,
      "outputs": [
        {
          "output_type": "execute_result",
          "data": {
            "text/plain": [
              "0.5658578856152513"
            ]
          },
          "metadata": {
            "tags": []
          },
          "execution_count": 233
        }
      ]
    },
    {
      "cell_type": "code",
      "metadata": {
        "colab": {
          "base_uri": "https://localhost:8080/",
          "height": 447
        },
        "id": "nwXtkuPOGCXV",
        "outputId": "491baac8-af7e-4814-b8eb-6aa572907f08"
      },
      "source": [
        "sns.countplot(consumablesFC, palette= 'Set1')\n",
        "plt.xticks([0,1], ['Low-Fat', 'Regular'], fontsize=15);\n",
        "plt.title('Number of Items Sold', fontsize=20)\n",
        "plt.ylabel('Count', fontsize=20)\n",
        "plt.xlabel(None)\n",
        "plt.yticks(fontsize=12)\n",
        "plt.xticks(fontsize=20)"
      ],
      "execution_count": 227,
      "outputs": [
        {
          "output_type": "stream",
          "text": [
            "/usr/local/lib/python3.7/dist-packages/seaborn/_decorators.py:43: FutureWarning: Pass the following variable as a keyword arg: x. From version 0.12, the only valid positional argument will be `data`, and passing other arguments without an explicit keyword will result in an error or misinterpretation.\n",
            "  FutureWarning\n"
          ],
          "name": "stderr"
        },
        {
          "output_type": "execute_result",
          "data": {
            "text/plain": [
              "(array([0, 1]), <a list of 2 Text major ticklabel objects>)"
            ]
          },
          "metadata": {
            "tags": []
          },
          "execution_count": 227
        },
        {
          "output_type": "display_data",
          "data": {
            "image/png": "[encoded data removed]",
            "text/plain": [
              "<Figure size 576x396 with 1 Axes>"
            ]
          },
          "metadata": {
            "tags": []
          }
        }
      ]
    },
    {
      "cell_type": "code",
      "metadata": {
        "id": "dKcgQHOoSMV3"
      },
      "source": [
        ""
      ],
      "execution_count": 181,
      "outputs": []
    },
    {
      "cell_type": "code",
      "metadata": {
        "colab": {
          "base_uri": "https://localhost:8080/",
          "height": 458
        },
        "id": "RAfc0gbYR3z5",
        "outputId": "d8a34394-5bd0-48ff-ea01-1afe3c81beb5"
      },
      "source": [
        "from matplotlib.ticker import ScalarFormatter\n",
        "\n",
        "fig, axs = plt.subplots(figsize=(8, 6))\n",
        "sns.barplot(conSales.index, conSales.values, palette= 'Paired_r');\n",
        "plt.xticks([0,1], ['Low-Fat', 'Regular'], fontsize=15);\n",
        "axs.yaxis.set_major_formatter(ScalarFormatter(useOffset=True))\n",
        "axs.ticklabel_format(style='plain', axis='y')\n",
        "plt.title('Revenue from Items Sold', fontsize=20)\n",
        "plt.ylabel('Sales', fontsize=20)\n",
        "plt.xlabel(None)\n",
        "plt.yticks(fontsize=12)\n",
        "plt.xticks(fontsize=20);"
      ],
      "execution_count": 228,
      "outputs": [
        {
          "output_type": "stream",
          "text": [
            "/usr/local/lib/python3.7/dist-packages/seaborn/_decorators.py:43: FutureWarning: Pass the following variables as keyword args: x, y. From version 0.12, the only valid positional argument will be `data`, and passing other arguments without an explicit keyword will result in an error or misinterpretation.\n",
            "  FutureWarning\n"
          ],
          "name": "stderr"
        },
        {
          "output_type": "display_data",
          "data": {
            "image/png": "[encoded data removed]",
            "text/plain": [
              "<Figure size 576x432 with 1 Axes>"
            ]
          },
          "metadata": {
            "tags": []
          }
        }
      ]
    },
    {
      "cell_type": "code",
      "metadata": {
        "id": "7LHMsPMaYfXP"
      },
      "source": [
        "X = mod_sales_X\n",
        "y = mod_sales.loc[:, 'Item_Outlet_Sales']"
      ],
      "execution_count": 183,
      "outputs": []
    },
    {
      "cell_type": "code",
      "metadata": {
        "id": "YEVA4OdIr6_m"
      },
      "source": [
        "from sklearn.model_selection import train_test_split\n",
        "X_train, X_test, y_train, y_test = train_test_split(X, y, test_size= 0.25, random_state=42)"
      ],
      "execution_count": 184,
      "outputs": []
    },
    {
      "cell_type": "code",
      "metadata": {
        "id": "DAoxgYq9r_lQ"
      },
      "source": [
        "from sklearn.ensemble import GradientBoostingRegressor\n",
        "\n",
        "gbm = GradientBoostingRegressor(\n",
        "    n_estimators = 500,\n",
        "    learning_rate = .03,\n",
        "    n_iter_no_change = 10,\n",
        "    validation_fraction =0.2,\n",
        "    verbose = 1,\n",
        "    random_state=42)"
      ],
      "execution_count": 185,
      "outputs": []
    },
    {
      "cell_type": "code",
      "metadata": {
        "colab": {
          "base_uri": "https://localhost:8080/"
        },
        "id": "X4b1Q0GBs3AW",
        "outputId": "1fef9413-f2b1-486f-dc12-a937b8cac3e5"
      },
      "source": [
        "gbm.fit(X_train, y_train)"
      ],
      "execution_count": 186,
      "outputs": [
        {
          "output_type": "stream",
          "text": [
            "      Iter       Train Loss   Remaining Time \n",
            "         1     2846290.3317            4.46s\n",
            "         2     2759672.3494            4.19s\n",
            "         3     2678173.4460            4.04s\n",
            "         4     2601694.0708            3.97s\n",
            "         5     2529187.1423            3.98s\n",
            "         6     2461199.2366            4.11s\n",
            "         7     2396596.7129            4.05s\n",
            "         8     2335753.6306            4.01s\n",
            "         9     2277471.3301            3.97s\n",
            "        10     2223088.9786            3.94s\n",
            "        20     1811056.0336            3.59s\n",
            "        30     1562861.6985            3.78s\n",
            "        40     1410639.4228            3.66s\n",
            "        50     1316954.1580            3.53s\n",
            "        60     1258466.2315            3.41s\n",
            "        70     1220459.6359            3.35s\n",
            "        80     1195205.1208            3.25s\n",
            "        90     1177858.3353            3.15s\n",
            "       100     1165442.8886            3.06s\n"
          ],
          "name": "stdout"
        },
        {
          "output_type": "execute_result",
          "data": {
            "text/plain": [
              "GradientBoostingRegressor(alpha=0.9, ccp_alpha=0.0, criterion='friedman_mse',\n",
              "                          init=None, learning_rate=0.03, loss='ls', max_depth=3,\n",
              "                          max_features=None, max_leaf_nodes=None,\n",
              "                          min_impurity_decrease=0.0, min_impurity_split=None,\n",
              "                          min_samples_leaf=1, min_samples_split=2,\n",
              "                          min_weight_fraction_leaf=0.0, n_estimators=500,\n",
              "                          n_iter_no_change=10, presort='deprecated',\n",
              "                          random_state=42, subsample=1.0, tol=0.0001,\n",
              "                          validation_fraction=0.2, verbose=1, warm_start=False)"
            ]
          },
          "metadata": {
            "tags": []
          },
          "execution_count": 186
        }
      ]
    },
    {
      "cell_type": "code",
      "metadata": {
        "colab": {
          "base_uri": "https://localhost:8080/"
        },
        "id": "R4XI-QrmtHTa",
        "outputId": "ced7bc54-c705-4f16-d3f8-540ce02ced24"
      },
      "source": [
        "len(gbm.train_score_)"
      ],
      "execution_count": 187,
      "outputs": [
        {
          "output_type": "execute_result",
          "data": {
            "text/plain": [
              "194"
            ]
          },
          "metadata": {
            "tags": []
          },
          "execution_count": 187
        }
      ]
    },
    {
      "cell_type": "code",
      "metadata": {
        "id": "5JDr-iK0tQ5Z"
      },
      "source": [
        "gbm = GradientBoostingRegressor(\n",
        "    n_estimators = 184,\n",
        "    learning_rate = .03,\n",
        "    n_iter_no_change = 10)"
      ],
      "execution_count": 188,
      "outputs": []
    },
    {
      "cell_type": "code",
      "metadata": {
        "colab": {
          "base_uri": "https://localhost:8080/"
        },
        "id": "K_zX8PnstluG",
        "outputId": "ca18ae2e-460a-4bbd-d408-0cd355e72385"
      },
      "source": [
        "X_train, X_val, y_train, y_val = train_test_split(X_train, y_train, test_size=0.2, random_state=42)\n",
        "\n",
        "gbm.fit(X_train, y_train)\n",
        "gbm.score(X_val, y_val)"
      ],
      "execution_count": 189,
      "outputs": [
        {
          "output_type": "execute_result",
          "data": {
            "text/plain": [
              "0.59676528090671"
            ]
          },
          "metadata": {
            "tags": []
          },
          "execution_count": 189
        }
      ]
    },
    {
      "cell_type": "code",
      "metadata": {
        "colab": {
          "base_uri": "https://localhost:8080/"
        },
        "id": "qkEaUKBeuDw_",
        "outputId": "1825c9eb-7adc-4860-a71a-6e000b301c2b"
      },
      "source": [
        "gbm.score(X_train, y_train), gbm.score(X_val, y_val)"
      ],
      "execution_count": 190,
      "outputs": [
        {
          "output_type": "execute_result",
          "data": {
            "text/plain": [
              "(0.6042703241566916, 0.59676528090671)"
            ]
          },
          "metadata": {
            "tags": []
          },
          "execution_count": 190
        }
      ]
    },
    {
      "cell_type": "code",
      "metadata": {
        "id": "wfgUzJlxxNnE"
      },
      "source": [
        "mod_sales['prediction'] = gbm.predict(X)"
      ],
      "execution_count": 191,
      "outputs": []
    },
    {
      "cell_type": "code",
      "metadata": {
        "colab": {
          "base_uri": "https://localhost:8080/"
        },
        "id": "q9BBAMSdxdCc",
        "outputId": "495cff2f-3132-43d4-f19f-8f6287ca3a69"
      },
      "source": [
        "gbm.feature_importances_"
      ],
      "execution_count": 192,
      "outputs": [
        {
          "output_type": "execute_result",
          "data": {
            "text/plain": [
              "array([1.56388906e-02, 2.08581256e-06, 5.35472945e-01, 2.41903074e-02,\n",
              "       5.95183541e-04, 0.00000000e+00, 3.75753081e-01, 0.00000000e+00,\n",
              "       0.00000000e+00, 2.32477180e-04, 0.00000000e+00, 0.00000000e+00,\n",
              "       0.00000000e+00, 1.34156796e-03, 0.00000000e+00, 0.00000000e+00,\n",
              "       0.00000000e+00, 1.01251609e-05, 0.00000000e+00, 0.00000000e+00,\n",
              "       0.00000000e+00, 1.08290072e-03, 8.15535569e-05, 0.00000000e+00,\n",
              "       2.69589653e-04, 0.00000000e+00, 1.17521080e-03, 0.00000000e+00,\n",
              "       4.40552395e-02, 9.88416255e-05, 0.00000000e+00, 0.00000000e+00,\n",
              "       0.00000000e+00])"
            ]
          },
          "metadata": {
            "tags": []
          },
          "execution_count": 192
        }
      ]
    },
    {
      "cell_type": "code",
      "metadata": {
        "id": "Akufim_Exipw"
      },
      "source": [
        "feats = pd.DataFrame({'Column' : X.columns,\n",
        "                      'Importance' : gbm.feature_importances_}).sort_values(by= 'Importance', ascending=False)"
      ],
      "execution_count": 193,
      "outputs": []
    },
    {
      "cell_type": "code",
      "metadata": {
        "colab": {
          "base_uri": "https://localhost:8080/",
          "height": 1000
        },
        "id": "3BrgrrxSyEft",
        "outputId": "b4f7dc8f-c2d9-467c-e14f-9f1c8396cb63"
      },
      "source": [
        "feats"
      ],
      "execution_count": 194,
      "outputs": [
        {
          "output_type": "execute_result",
          "data": {
            "text/html": [
              "<div>\n",
              "<style scoped>\n",
              "    .dataframe tbody tr th:only-of-type {\n",
              "        vertical-align: middle;\n",
              "    }\n",
              "\n",
              "    .dataframe tbody tr th {\n",
              "        vertical-align: top;\n",
              "    }\n",
              "\n",
              "    .dataframe thead th {\n",
              "        text-align: right;\n",
              "    }\n",
              "</style>\n",
              "<table border=\"1\" class=\"dataframe\">\n",
              "  <thead>\n",
              "    <tr style=\"text-align: right;\">\n",
              "      <th></th>\n",
              "      <th>Column</th>\n",
              "      <th>Importance</th>\n",
              "    </tr>\n",
              "  </thead>\n",
              "  <tbody>\n",
              "    <tr>\n",
              "      <th>2</th>\n",
              "      <td>Item_MRP</td>\n",
              "      <td>0.535473</td>\n",
              "    </tr>\n",
              "    <tr>\n",
              "      <th>6</th>\n",
              "      <td>Outlet_Type</td>\n",
              "      <td>0.375753</td>\n",
              "    </tr>\n",
              "    <tr>\n",
              "      <th>28</th>\n",
              "      <td>Outlet_Identifier_OUT027</td>\n",
              "      <td>0.044055</td>\n",
              "    </tr>\n",
              "    <tr>\n",
              "      <th>3</th>\n",
              "      <td>Outlet_Establishment_Year</td>\n",
              "      <td>0.024190</td>\n",
              "    </tr>\n",
              "    <tr>\n",
              "      <th>0</th>\n",
              "      <td>Item_Weight</td>\n",
              "      <td>0.015639</td>\n",
              "    </tr>\n",
              "    <tr>\n",
              "      <th>13</th>\n",
              "      <td>Fruits and Vegetables</td>\n",
              "      <td>0.001342</td>\n",
              "    </tr>\n",
              "    <tr>\n",
              "      <th>26</th>\n",
              "      <td>Outlet_Identifier_OUT018</td>\n",
              "      <td>0.001175</td>\n",
              "    </tr>\n",
              "    <tr>\n",
              "      <th>21</th>\n",
              "      <td>Soft Drinks</td>\n",
              "      <td>0.001083</td>\n",
              "    </tr>\n",
              "    <tr>\n",
              "      <th>4</th>\n",
              "      <td>Outlet_Size</td>\n",
              "      <td>0.000595</td>\n",
              "    </tr>\n",
              "    <tr>\n",
              "      <th>24</th>\n",
              "      <td>Outlet_Identifier_OUT013</td>\n",
              "      <td>0.000270</td>\n",
              "    </tr>\n",
              "    <tr>\n",
              "      <th>9</th>\n",
              "      <td>Breakfast</td>\n",
              "      <td>0.000232</td>\n",
              "    </tr>\n",
              "    <tr>\n",
              "      <th>29</th>\n",
              "      <td>Outlet_Identifier_OUT035</td>\n",
              "      <td>0.000099</td>\n",
              "    </tr>\n",
              "    <tr>\n",
              "      <th>22</th>\n",
              "      <td>Starchy Foods</td>\n",
              "      <td>0.000082</td>\n",
              "    </tr>\n",
              "    <tr>\n",
              "      <th>17</th>\n",
              "      <td>Meat</td>\n",
              "      <td>0.000010</td>\n",
              "    </tr>\n",
              "    <tr>\n",
              "      <th>1</th>\n",
              "      <td>Item_Fat_Content</td>\n",
              "      <td>0.000002</td>\n",
              "    </tr>\n",
              "    <tr>\n",
              "      <th>31</th>\n",
              "      <td>Outlet_Identifier_OUT046</td>\n",
              "      <td>0.000000</td>\n",
              "    </tr>\n",
              "    <tr>\n",
              "      <th>30</th>\n",
              "      <td>Outlet_Identifier_OUT045</td>\n",
              "      <td>0.000000</td>\n",
              "    </tr>\n",
              "    <tr>\n",
              "      <th>27</th>\n",
              "      <td>Outlet_Identifier_OUT019</td>\n",
              "      <td>0.000000</td>\n",
              "    </tr>\n",
              "    <tr>\n",
              "      <th>25</th>\n",
              "      <td>Outlet_Identifier_OUT017</td>\n",
              "      <td>0.000000</td>\n",
              "    </tr>\n",
              "    <tr>\n",
              "      <th>23</th>\n",
              "      <td>Outlet_Identifier_OUT010</td>\n",
              "      <td>0.000000</td>\n",
              "    </tr>\n",
              "    <tr>\n",
              "      <th>16</th>\n",
              "      <td>Household</td>\n",
              "      <td>0.000000</td>\n",
              "    </tr>\n",
              "    <tr>\n",
              "      <th>20</th>\n",
              "      <td>Snack Foods</td>\n",
              "      <td>0.000000</td>\n",
              "    </tr>\n",
              "    <tr>\n",
              "      <th>19</th>\n",
              "      <td>Seafood</td>\n",
              "      <td>0.000000</td>\n",
              "    </tr>\n",
              "    <tr>\n",
              "      <th>18</th>\n",
              "      <td>Others</td>\n",
              "      <td>0.000000</td>\n",
              "    </tr>\n",
              "    <tr>\n",
              "      <th>15</th>\n",
              "      <td>Health and Hygiene</td>\n",
              "      <td>0.000000</td>\n",
              "    </tr>\n",
              "    <tr>\n",
              "      <th>14</th>\n",
              "      <td>Hard Drinks</td>\n",
              "      <td>0.000000</td>\n",
              "    </tr>\n",
              "    <tr>\n",
              "      <th>12</th>\n",
              "      <td>Frozen Foods</td>\n",
              "      <td>0.000000</td>\n",
              "    </tr>\n",
              "    <tr>\n",
              "      <th>11</th>\n",
              "      <td>Dairy</td>\n",
              "      <td>0.000000</td>\n",
              "    </tr>\n",
              "    <tr>\n",
              "      <th>10</th>\n",
              "      <td>Canned</td>\n",
              "      <td>0.000000</td>\n",
              "    </tr>\n",
              "    <tr>\n",
              "      <th>8</th>\n",
              "      <td>Breads</td>\n",
              "      <td>0.000000</td>\n",
              "    </tr>\n",
              "    <tr>\n",
              "      <th>7</th>\n",
              "      <td>Baking Goods</td>\n",
              "      <td>0.000000</td>\n",
              "    </tr>\n",
              "    <tr>\n",
              "      <th>5</th>\n",
              "      <td>Outlet_Location_Type</td>\n",
              "      <td>0.000000</td>\n",
              "    </tr>\n",
              "    <tr>\n",
              "      <th>32</th>\n",
              "      <td>Outlet_Identifier_OUT049</td>\n",
              "      <td>0.000000</td>\n",
              "    </tr>\n",
              "  </tbody>\n",
              "</table>\n",
              "</div>"
            ],
            "text/plain": [
              "                       Column  Importance\n",
              "2                    Item_MRP    0.535473\n",
              "6                 Outlet_Type    0.375753\n",
              "28   Outlet_Identifier_OUT027    0.044055\n",
              "3   Outlet_Establishment_Year    0.024190\n",
              "0                 Item_Weight    0.015639\n",
              "13      Fruits and Vegetables    0.001342\n",
              "26   Outlet_Identifier_OUT018    0.001175\n",
              "21                Soft Drinks    0.001083\n",
              "4                 Outlet_Size    0.000595\n",
              "24   Outlet_Identifier_OUT013    0.000270\n",
              "9                   Breakfast    0.000232\n",
              "29   Outlet_Identifier_OUT035    0.000099\n",
              "22              Starchy Foods    0.000082\n",
              "17                       Meat    0.000010\n",
              "1            Item_Fat_Content    0.000002\n",
              "31   Outlet_Identifier_OUT046    0.000000\n",
              "30   Outlet_Identifier_OUT045    0.000000\n",
              "27   Outlet_Identifier_OUT019    0.000000\n",
              "25   Outlet_Identifier_OUT017    0.000000\n",
              "23   Outlet_Identifier_OUT010    0.000000\n",
              "16                  Household    0.000000\n",
              "20                Snack Foods    0.000000\n",
              "19                    Seafood    0.000000\n",
              "18                     Others    0.000000\n",
              "15         Health and Hygiene    0.000000\n",
              "14                Hard Drinks    0.000000\n",
              "12               Frozen Foods    0.000000\n",
              "11                      Dairy    0.000000\n",
              "10                     Canned    0.000000\n",
              "8                      Breads    0.000000\n",
              "7                Baking Goods    0.000000\n",
              "5        Outlet_Location_Type    0.000000\n",
              "32   Outlet_Identifier_OUT049    0.000000"
            ]
          },
          "metadata": {
            "tags": []
          },
          "execution_count": 194
        }
      ]
    },
    {
      "cell_type": "code",
      "metadata": {
        "id": "hmkDwbK5yX_Q"
      },
      "source": [
        "X = mod_sales_X.loc[:, ['Item_MRP','Outlet_Type','Outlet_Identifier_OUT027', 'Outlet_Establishment_Year']]\n",
        "\n",
        "y = mod_sales.loc[:, 'Item_Outlet_Sales']"
      ],
      "execution_count": 195,
      "outputs": []
    },
    {
      "cell_type": "code",
      "metadata": {
        "id": "IW3CmnPjzZVg"
      },
      "source": [
        "X_train, X_test, y_train, y_test = train_test_split(X, y, test_size= 0.2, random_state=42)"
      ],
      "execution_count": 196,
      "outputs": []
    },
    {
      "cell_type": "code",
      "metadata": {
        "id": "jreFy5yZzwaA"
      },
      "source": [
        "gbm = GradientBoostingRegressor(\n",
        "    n_estimators = 500,\n",
        "    learning_rate = .05,\n",
        "    n_iter_no_change = 10,\n",
        "    validation_fraction =0.2,\n",
        "    verbose = 1,\n",
        "    random_state=42)"
      ],
      "execution_count": 197,
      "outputs": []
    },
    {
      "cell_type": "code",
      "metadata": {
        "colab": {
          "base_uri": "https://localhost:8080/"
        },
        "id": "07JSveGL0Dts",
        "outputId": "8d28209a-7d2b-4327-e1cc-2f101d0f402f"
      },
      "source": [
        "gbm.fit(X_train, y_train)"
      ],
      "execution_count": 198,
      "outputs": [
        {
          "output_type": "stream",
          "text": [
            "      Iter       Train Loss   Remaining Time \n",
            "         1     2797690.8100            3.20s\n",
            "         2     2662168.2902            2.76s\n",
            "         3     2536592.3424            2.51s\n",
            "         4     2423239.9412            2.36s\n",
            "         5     2319786.2072            2.30s\n",
            "         6     2227192.8324            2.24s\n",
            "         7     2142782.8554            2.19s\n",
            "         8     2063536.9057            2.16s\n",
            "         9     1990390.4280            2.15s\n",
            "        10     1924304.1667            2.17s\n",
            "        20     1499056.1856            1.91s\n",
            "        30     1311360.3115            1.85s\n",
            "        40     1225591.5797            1.74s\n",
            "        50     1182587.6508            1.65s\n",
            "        60     1159639.2524            1.61s\n",
            "        70     1146007.4410            1.57s\n",
            "        80     1136095.6164            1.54s\n",
            "        90     1128634.3743            1.50s\n",
            "       100     1123228.8313            1.50s\n"
          ],
          "name": "stdout"
        },
        {
          "output_type": "execute_result",
          "data": {
            "text/plain": [
              "GradientBoostingRegressor(alpha=0.9, ccp_alpha=0.0, criterion='friedman_mse',\n",
              "                          init=None, learning_rate=0.05, loss='ls', max_depth=3,\n",
              "                          max_features=None, max_leaf_nodes=None,\n",
              "                          min_impurity_decrease=0.0, min_impurity_split=None,\n",
              "                          min_samples_leaf=1, min_samples_split=2,\n",
              "                          min_weight_fraction_leaf=0.0, n_estimators=500,\n",
              "                          n_iter_no_change=10, presort='deprecated',\n",
              "                          random_state=42, subsample=1.0, tol=0.0001,\n",
              "                          validation_fraction=0.2, verbose=1, warm_start=False)"
            ]
          },
          "metadata": {
            "tags": []
          },
          "execution_count": 198
        }
      ]
    },
    {
      "cell_type": "code",
      "metadata": {
        "colab": {
          "base_uri": "https://localhost:8080/"
        },
        "id": "8dIgQU__0PcN",
        "outputId": "fd90ae57-b904-46f1-9fac-c8e415e71842"
      },
      "source": [
        "len(gbm.train_score_)"
      ],
      "execution_count": 199,
      "outputs": [
        {
          "output_type": "execute_result",
          "data": {
            "text/plain": [
              "144"
            ]
          },
          "metadata": {
            "tags": []
          },
          "execution_count": 199
        }
      ]
    },
    {
      "cell_type": "code",
      "metadata": {
        "id": "m9ftbGvX0TJl"
      },
      "source": [
        "gbm = GradientBoostingRegressor(\n",
        "    n_estimators = 85,\n",
        "    learning_rate = .4,\n",
        "    n_iter_no_change = 10)"
      ],
      "execution_count": 200,
      "outputs": []
    },
    {
      "cell_type": "code",
      "metadata": {
        "colab": {
          "base_uri": "https://localhost:8080/"
        },
        "id": "8nC0uS0u0YFr",
        "outputId": "4b4a71de-7e3a-4fe1-f976-c600924c86cc"
      },
      "source": [
        "X_train, X_val, y_train, y_val = train_test_split(X_train, y_train, test_size=0.2, random_state=42)\n",
        "\n",
        "gbm.fit(X_train, y_train)\n",
        "gbm.score(X_val, y_val)"
      ],
      "execution_count": 201,
      "outputs": [
        {
          "output_type": "execute_result",
          "data": {
            "text/plain": [
              "0.5822916729670164"
            ]
          },
          "metadata": {
            "tags": []
          },
          "execution_count": 201
        }
      ]
    },
    {
      "cell_type": "code",
      "metadata": {
        "colab": {
          "base_uri": "https://localhost:8080/"
        },
        "id": "sYGDTT5y0cQj",
        "outputId": "954b56ca-3c92-4f40-b64f-c456b9c40dd3"
      },
      "source": [
        "gbm.score(X_train, y_train), gbm.score(X_val, y_val)"
      ],
      "execution_count": 202,
      "outputs": [
        {
          "output_type": "execute_result",
          "data": {
            "text/plain": [
              "(0.6208292196473537, 0.5822916729670164)"
            ]
          },
          "metadata": {
            "tags": []
          },
          "execution_count": 202
        }
      ]
    },
    {
      "cell_type": "code",
      "metadata": {
        "id": "PKJW1_aQ0jBW"
      },
      "source": [
        "X_train = pd.concat([X_train, X_val])\n",
        "y_train = pd.concat([y_train, y_val])"
      ],
      "execution_count": 203,
      "outputs": []
    },
    {
      "cell_type": "code",
      "metadata": {
        "colab": {
          "base_uri": "https://localhost:8080/"
        },
        "id": "Ew4EctIE2LbL",
        "outputId": "9c8c183c-3537-4933-c024-dc7f56c29fe3"
      },
      "source": [
        "gbm.fit(X_train, y_train)\n",
        "gbm.score(X_test, y_test)"
      ],
      "execution_count": 204,
      "outputs": [
        {
          "output_type": "execute_result",
          "data": {
            "text/plain": [
              "0.5915888541628109"
            ]
          },
          "metadata": {
            "tags": []
          },
          "execution_count": 204
        }
      ]
    },
    {
      "cell_type": "code",
      "metadata": {
        "colab": {
          "base_uri": "https://localhost:8080/",
          "height": 240
        },
        "id": "oxJZoivm2-0N",
        "outputId": "5a4b730b-fb65-4a66-f947-485002a5a447"
      },
      "source": [
        "mod_sales.head()"
      ],
      "execution_count": 205,
      "outputs": [
        {
          "output_type": "execute_result",
          "data": {
            "text/html": [
              "<div>\n",
              "<style scoped>\n",
              "    .dataframe tbody tr th:only-of-type {\n",
              "        vertical-align: middle;\n",
              "    }\n",
              "\n",
              "    .dataframe tbody tr th {\n",
              "        vertical-align: top;\n",
              "    }\n",
              "\n",
              "    .dataframe thead th {\n",
              "        text-align: right;\n",
              "    }\n",
              "</style>\n",
              "<table border=\"1\" class=\"dataframe\">\n",
              "  <thead>\n",
              "    <tr style=\"text-align: right;\">\n",
              "      <th></th>\n",
              "      <th>Item_Identifier</th>\n",
              "      <th>Item_Weight</th>\n",
              "      <th>Item_Fat_Content</th>\n",
              "      <th>Item_Type</th>\n",
              "      <th>transformed_Item_Type</th>\n",
              "      <th>Item_MRP</th>\n",
              "      <th>Outlet_Identifier</th>\n",
              "      <th>transformed_Outlet_Identifier</th>\n",
              "      <th>Outlet_Establishment_Year</th>\n",
              "      <th>Outlet_Size</th>\n",
              "      <th>Outlet_Location_Type</th>\n",
              "      <th>Outlet_Type</th>\n",
              "      <th>Item_Outlet_Sales</th>\n",
              "      <th>Item_Type_Combined</th>\n",
              "      <th>prediction</th>\n",
              "    </tr>\n",
              "  </thead>\n",
              "  <tbody>\n",
              "    <tr>\n",
              "      <th>0</th>\n",
              "      <td>FDA15</td>\n",
              "      <td>9.30</td>\n",
              "      <td>0</td>\n",
              "      <td>Dairy</td>\n",
              "      <td>4</td>\n",
              "      <td>249.8092</td>\n",
              "      <td>OUT049</td>\n",
              "      <td>9</td>\n",
              "      <td>4</td>\n",
              "      <td>2</td>\n",
              "      <td>1</td>\n",
              "      <td>1</td>\n",
              "      <td>3735.1380</td>\n",
              "      <td>Food</td>\n",
              "      <td>3756.434801</td>\n",
              "    </tr>\n",
              "    <tr>\n",
              "      <th>1</th>\n",
              "      <td>DRC01</td>\n",
              "      <td>5.92</td>\n",
              "      <td>1</td>\n",
              "      <td>Soft Drinks</td>\n",
              "      <td>14</td>\n",
              "      <td>48.2692</td>\n",
              "      <td>OUT018</td>\n",
              "      <td>3</td>\n",
              "      <td>8</td>\n",
              "      <td>2</td>\n",
              "      <td>3</td>\n",
              "      <td>2</td>\n",
              "      <td>443.4228</td>\n",
              "      <td>Drinks</td>\n",
              "      <td>833.844885</td>\n",
              "    </tr>\n",
              "    <tr>\n",
              "      <th>2</th>\n",
              "      <td>FDN15</td>\n",
              "      <td>17.50</td>\n",
              "      <td>0</td>\n",
              "      <td>Meat</td>\n",
              "      <td>10</td>\n",
              "      <td>141.6180</td>\n",
              "      <td>OUT049</td>\n",
              "      <td>9</td>\n",
              "      <td>4</td>\n",
              "      <td>2</td>\n",
              "      <td>1</td>\n",
              "      <td>1</td>\n",
              "      <td>2097.2700</td>\n",
              "      <td>Food</td>\n",
              "      <td>2225.467359</td>\n",
              "    </tr>\n",
              "    <tr>\n",
              "      <th>3</th>\n",
              "      <td>FDX07</td>\n",
              "      <td>19.20</td>\n",
              "      <td>1</td>\n",
              "      <td>Fruits and Vegetables</td>\n",
              "      <td>6</td>\n",
              "      <td>182.0950</td>\n",
              "      <td>OUT010</td>\n",
              "      <td>0</td>\n",
              "      <td>3</td>\n",
              "      <td>0</td>\n",
              "      <td>3</td>\n",
              "      <td>0</td>\n",
              "      <td>732.3800</td>\n",
              "      <td>Food</td>\n",
              "      <td>623.710845</td>\n",
              "    </tr>\n",
              "    <tr>\n",
              "      <th>4</th>\n",
              "      <td>NCD19</td>\n",
              "      <td>8.93</td>\n",
              "      <td>0</td>\n",
              "      <td>Household</td>\n",
              "      <td>9</td>\n",
              "      <td>53.8614</td>\n",
              "      <td>OUT013</td>\n",
              "      <td>1</td>\n",
              "      <td>1</td>\n",
              "      <td>3</td>\n",
              "      <td>3</td>\n",
              "      <td>1</td>\n",
              "      <td>994.7052</td>\n",
              "      <td>Non-Consumable</td>\n",
              "      <td>1011.312396</td>\n",
              "    </tr>\n",
              "  </tbody>\n",
              "</table>\n",
              "</div>"
            ],
            "text/plain": [
              "  Item_Identifier  Item_Weight  ...  Item_Type_Combined   prediction\n",
              "0           FDA15         9.30  ...                Food  3756.434801\n",
              "1           DRC01         5.92  ...              Drinks   833.844885\n",
              "2           FDN15        17.50  ...                Food  2225.467359\n",
              "3           FDX07        19.20  ...                Food   623.710845\n",
              "4           NCD19         8.93  ...      Non-Consumable  1011.312396\n",
              "\n",
              "[5 rows x 15 columns]"
            ]
          },
          "metadata": {
            "tags": []
          },
          "execution_count": 205
        }
      ]
    },
    {
      "cell_type": "code",
      "metadata": {
        "id": "If1462tc3LKU"
      },
      "source": [
        "food = mod_sales['Item_Type_Combined'] == 'Food'\n",
        "nonc =  mod_sales['Item_Type_Combined'] == 'Non-Consumable'\n",
        "drinks = mod_sales['Item_Type_Combined'] == 'Drinks'\n",
        "\n",
        "food_sales = mod_sales.loc[food, 'prediction']"
      ],
      "execution_count": 206,
      "outputs": []
    },
    {
      "cell_type": "code",
      "metadata": {
        "colab": {
          "base_uri": "https://localhost:8080/"
        },
        "id": "z3Mehk-F3vr6",
        "outputId": "91ebe51b-1c9b-4dd7-c163-7917871c506d"
      },
      "source": [
        "foodpred = mod_sales[food].groupby(['Outlet_Identifier'])['prediction'].sum()\n",
        "ncpred = mod_sales[nonc].groupby(['Outlet_Identifier'])['prediction'].sum()\n",
        "drinkspred = mod_sales[drinks].groupby(['Outlet_Identifier'])['prediction'].sum()\n",
        "foodpred"
      ],
      "execution_count": 207,
      "outputs": [
        {
          "output_type": "execute_result",
          "data": {
            "text/plain": [
              "Outlet_Identifier\n",
              "OUT010    2.011830e+05\n",
              "OUT013    1.540980e+06\n",
              "OUT017    1.501482e+06\n",
              "OUT018    1.494871e+06\n",
              "OUT019    1.909087e+05\n",
              "OUT027    2.460453e+06\n",
              "OUT035    1.570755e+06\n",
              "OUT045    1.536493e+06\n",
              "OUT046    1.540465e+06\n",
              "OUT049    1.552017e+06\n",
              "Name: prediction, dtype: float64"
            ]
          },
          "metadata": {
            "tags": []
          },
          "execution_count": 207
        }
      ]
    },
    {
      "cell_type": "code",
      "metadata": {
        "colab": {
          "base_uri": "https://localhost:8080/",
          "height": 406
        },
        "id": "DK8FYUAg3lxQ",
        "outputId": "f6e5cae8-dcff-46f0-8823-039ac84b6ec0"
      },
      "source": [
        "plt.style.use('seaborn-colorblind')\n",
        "plt.bar(foodpred.index, foodpred.values, data=df, width=.3, align='edge', label='Food')\n",
        "plt.bar(ncpred.index, ncpred.values, width=.3, align='center', label='Non-Consumables')\n",
        "plt.bar(drinkspred.index, drinkspred.values, width = -.3, align='edge', label='Drinks')\n",
        "plt.xticks(rotation= 45);\n",
        "plt.ticklabel_format(style='plain', axis='y')\n",
        "plt.title('Predicted Items Sales by Outlet', fontsize = 18)\n",
        "plt.xlabel('Outlet Identifier', fontsize = 15)\n",
        "plt.xlabel('(in order of Year Established 1985-2009)', fontsize = 13)\n",
        "plt.ylabel('Presdicted Sales', fontsize = 15);\n",
        "plt.legend(facecolor='gray', fontsize='medium');"
      ],
      "execution_count": 208,
      "outputs": [
        {
          "output_type": "display_data",
          "data": {
            "image/png": "[encoded data removed]",
            "text/plain": [
              "<Figure size 576x396 with 1 Axes>"
            ]
          },
          "metadata": {
            "tags": []
          }
        }
      ]
    },
    {
      "cell_type": "code",
      "metadata": {
        "id": "KAsef-dQ5DvS"
      },
      "source": [
        ""
      ],
      "execution_count": 208,
      "outputs": []
    }
  ]
}