{
  "nbformat": 4,
  "nbformat_minor": 0,
  "metadata": {
    "colab": {
      "name": "Data_Cleaning.ipynb",
      "provenance": [],
      "collapsed_sections": [],
      "include_colab_link": true
    },
    "kernelspec": {
      "name": "python3",
      "display_name": "Python 3"
    },
    "language_info": {
      "name": "python"
    }
  },
  "cells": [
    {
      "cell_type": "markdown",
      "metadata": {
        "id": "view-in-github",
        "colab_type": "text"
      },
      "source": [
        "<a href=\"https://colab.research.google.com/github/janaeam/food-sales-predictions/blob/main/Data_Cleaning.ipynb\" target=\"_parent\"><img src=\"https://colab.research.google.com/assets/colab-badge.svg\" alt=\"Open In Colab\"/></a>"
      ]
    },
    {
      "cell_type": "markdown",
      "metadata": {
        "id": "l0e-FBGkbIyi"
      },
      "source": [
        "# Getting to Know My Data\n",
        "\n"
      ]
    },
    {
      "cell_type": "code",
      "metadata": {
        "id": "w84yAjARaMWV"
      },
      "source": [
        "import pandas as pd"
      ],
      "execution_count": 1,
      "outputs": []
    },
    {
      "cell_type": "code",
      "metadata": {
        "colab": {
          "base_uri": "https://localhost:8080/"
        },
        "id": "UO-JM52n9jIM",
        "outputId": "dcd8df25-c7da-4767-94b4-21518880af10"
      },
      "source": [
        "from google.colab import drive\n",
        "drive.mount('/content/drive')"
      ],
      "execution_count": 2,
      "outputs": [
        {
          "output_type": "stream",
          "text": [
            "Drive already mounted at /content/drive; to attempt to forcibly remount, call drive.mount(\"/content/drive\", force_remount=True).\n"
          ],
          "name": "stdout"
        }
      ]
    },
    {
      "cell_type": "code",
      "metadata": {
        "id": "rRSsGCKAaROD"
      },
      "source": [
        "filename = '/content/drive/MyDrive/Coding Dojo/Project 1/sales_predictions.csv'\n",
        "sales = pd.read_csv(filename)"
      ],
      "execution_count": 3,
      "outputs": []
    },
    {
      "cell_type": "code",
      "metadata": {
        "colab": {
          "base_uri": "https://localhost:8080/",
          "height": 206
        },
        "id": "MkToetXaa_8D",
        "outputId": "6e6e80ce-bef2-4318-a063-d9bc06910452"
      },
      "source": [
        "sales.head()"
      ],
      "execution_count": 4,
      "outputs": [
        {
          "output_type": "execute_result",
          "data": {
            "text/html": [
              "<div>\n",
              "<style scoped>\n",
              "    .dataframe tbody tr th:only-of-type {\n",
              "        vertical-align: middle;\n",
              "    }\n",
              "\n",
              "    .dataframe tbody tr th {\n",
              "        vertical-align: top;\n",
              "    }\n",
              "\n",
              "    .dataframe thead th {\n",
              "        text-align: right;\n",
              "    }\n",
              "</style>\n",
              "<table border=\"1\" class=\"dataframe\">\n",
              "  <thead>\n",
              "    <tr style=\"text-align: right;\">\n",
              "      <th></th>\n",
              "      <th>Item_Identifier</th>\n",
              "      <th>Item_Weight</th>\n",
              "      <th>Item_Fat_Content</th>\n",
              "      <th>Item_Visibility</th>\n",
              "      <th>Item_Type</th>\n",
              "      <th>Item_MRP</th>\n",
              "      <th>Outlet_Identifier</th>\n",
              "      <th>Outlet_Establishment_Year</th>\n",
              "      <th>Outlet_Size</th>\n",
              "      <th>Outlet_Location_Type</th>\n",
              "      <th>Outlet_Type</th>\n",
              "      <th>Item_Outlet_Sales</th>\n",
              "    </tr>\n",
              "  </thead>\n",
              "  <tbody>\n",
              "    <tr>\n",
              "      <th>0</th>\n",
              "      <td>FDA15</td>\n",
              "      <td>9.30</td>\n",
              "      <td>Low Fat</td>\n",
              "      <td>0.016047</td>\n",
              "      <td>Dairy</td>\n",
              "      <td>249.8092</td>\n",
              "      <td>OUT049</td>\n",
              "      <td>1999</td>\n",
              "      <td>Medium</td>\n",
              "      <td>Tier 1</td>\n",
              "      <td>Supermarket Type1</td>\n",
              "      <td>3735.1380</td>\n",
              "    </tr>\n",
              "    <tr>\n",
              "      <th>1</th>\n",
              "      <td>DRC01</td>\n",
              "      <td>5.92</td>\n",
              "      <td>Regular</td>\n",
              "      <td>0.019278</td>\n",
              "      <td>Soft Drinks</td>\n",
              "      <td>48.2692</td>\n",
              "      <td>OUT018</td>\n",
              "      <td>2009</td>\n",
              "      <td>Medium</td>\n",
              "      <td>Tier 3</td>\n",
              "      <td>Supermarket Type2</td>\n",
              "      <td>443.4228</td>\n",
              "    </tr>\n",
              "    <tr>\n",
              "      <th>2</th>\n",
              "      <td>FDN15</td>\n",
              "      <td>17.50</td>\n",
              "      <td>Low Fat</td>\n",
              "      <td>0.016760</td>\n",
              "      <td>Meat</td>\n",
              "      <td>141.6180</td>\n",
              "      <td>OUT049</td>\n",
              "      <td>1999</td>\n",
              "      <td>Medium</td>\n",
              "      <td>Tier 1</td>\n",
              "      <td>Supermarket Type1</td>\n",
              "      <td>2097.2700</td>\n",
              "    </tr>\n",
              "    <tr>\n",
              "      <th>3</th>\n",
              "      <td>FDX07</td>\n",
              "      <td>19.20</td>\n",
              "      <td>Regular</td>\n",
              "      <td>0.000000</td>\n",
              "      <td>Fruits and Vegetables</td>\n",
              "      <td>182.0950</td>\n",
              "      <td>OUT010</td>\n",
              "      <td>1998</td>\n",
              "      <td>NaN</td>\n",
              "      <td>Tier 3</td>\n",
              "      <td>Grocery Store</td>\n",
              "      <td>732.3800</td>\n",
              "    </tr>\n",
              "    <tr>\n",
              "      <th>4</th>\n",
              "      <td>NCD19</td>\n",
              "      <td>8.93</td>\n",
              "      <td>Low Fat</td>\n",
              "      <td>0.000000</td>\n",
              "      <td>Household</td>\n",
              "      <td>53.8614</td>\n",
              "      <td>OUT013</td>\n",
              "      <td>1987</td>\n",
              "      <td>High</td>\n",
              "      <td>Tier 3</td>\n",
              "      <td>Supermarket Type1</td>\n",
              "      <td>994.7052</td>\n",
              "    </tr>\n",
              "  </tbody>\n",
              "</table>\n",
              "</div>"
            ],
            "text/plain": [
              "  Item_Identifier  Item_Weight  ...        Outlet_Type  Item_Outlet_Sales\n",
              "0           FDA15         9.30  ...  Supermarket Type1          3735.1380\n",
              "1           DRC01         5.92  ...  Supermarket Type2           443.4228\n",
              "2           FDN15        17.50  ...  Supermarket Type1          2097.2700\n",
              "3           FDX07        19.20  ...      Grocery Store           732.3800\n",
              "4           NCD19         8.93  ...  Supermarket Type1           994.7052\n",
              "\n",
              "[5 rows x 12 columns]"
            ]
          },
          "metadata": {
            "tags": []
          },
          "execution_count": 4
        }
      ]
    },
    {
      "cell_type": "code",
      "metadata": {
        "colab": {
          "base_uri": "https://localhost:8080/"
        },
        "id": "7NfBv44XbCeL",
        "outputId": "fa2a4189-07cc-40c9-bc34-df77aaadb561"
      },
      "source": [
        "# Are the dtypes consistent with the presumed column category\n",
        "\n",
        "sales.dtypes"
      ],
      "execution_count": 5,
      "outputs": [
        {
          "output_type": "execute_result",
          "data": {
            "text/plain": [
              "Item_Identifier               object\n",
              "Item_Weight                  float64\n",
              "Item_Fat_Content              object\n",
              "Item_Visibility              float64\n",
              "Item_Type                     object\n",
              "Item_MRP                     float64\n",
              "Outlet_Identifier             object\n",
              "Outlet_Establishment_Year      int64\n",
              "Outlet_Size                   object\n",
              "Outlet_Location_Type          object\n",
              "Outlet_Type                   object\n",
              "Item_Outlet_Sales            float64\n",
              "dtype: object"
            ]
          },
          "metadata": {
            "tags": []
          },
          "execution_count": 5
        }
      ]
    },
    {
      "cell_type": "code",
      "metadata": {
        "colab": {
          "base_uri": "https://localhost:8080/"
        },
        "id": "7W_p3keMbyH8",
        "outputId": "11b2cc8b-74cc-43f0-c1fd-55d2408eba83"
      },
      "source": [
        "# Which columns have missing values?\n",
        "\n",
        "sales.info()"
      ],
      "execution_count": 6,
      "outputs": [
        {
          "output_type": "stream",
          "text": [
            "<class 'pandas.core.frame.DataFrame'>\n",
            "RangeIndex: 8523 entries, 0 to 8522\n",
            "Data columns (total 12 columns):\n",
            " #   Column                     Non-Null Count  Dtype  \n",
            "---  ------                     --------------  -----  \n",
            " 0   Item_Identifier            8523 non-null   object \n",
            " 1   Item_Weight                7060 non-null   float64\n",
            " 2   Item_Fat_Content           8523 non-null   object \n",
            " 3   Item_Visibility            8523 non-null   float64\n",
            " 4   Item_Type                  8523 non-null   object \n",
            " 5   Item_MRP                   8523 non-null   float64\n",
            " 6   Outlet_Identifier          8523 non-null   object \n",
            " 7   Outlet_Establishment_Year  8523 non-null   int64  \n",
            " 8   Outlet_Size                6113 non-null   object \n",
            " 9   Outlet_Location_Type       8523 non-null   object \n",
            " 10  Outlet_Type                8523 non-null   object \n",
            " 11  Item_Outlet_Sales          8523 non-null   float64\n",
            "dtypes: float64(4), int64(1), object(7)\n",
            "memory usage: 799.2+ KB\n"
          ],
          "name": "stdout"
        }
      ]
    },
    {
      "cell_type": "markdown",
      "metadata": {
        "id": "fQ_GZjorWd6d"
      },
      "source": [
        "Item_Weight and Outlet_Size columns are both missing data\n",
        "\n",
        "I will explore further below"
      ]
    },
    {
      "cell_type": "markdown",
      "metadata": {
        "id": "EMImvFSxTfQJ"
      },
      "source": [
        "# Checking each column for unique value counts"
      ]
    },
    {
      "cell_type": "code",
      "metadata": {
        "colab": {
          "base_uri": "https://localhost:8080/"
        },
        "id": "YBB12Tvz9g6x",
        "outputId": "63442961-982a-472a-bb18-60b70d8daf3c"
      },
      "source": [
        "sales['Item_Fat_Content'].value_counts()"
      ],
      "execution_count": 7,
      "outputs": [
        {
          "output_type": "execute_result",
          "data": {
            "text/plain": [
              "Low Fat    5089\n",
              "Regular    2889\n",
              "LF          316\n",
              "reg         117\n",
              "low fat     112\n",
              "Name: Item_Fat_Content, dtype: int64"
            ]
          },
          "metadata": {
            "tags": []
          },
          "execution_count": 7
        }
      ]
    },
    {
      "cell_type": "code",
      "metadata": {
        "id": "RdQ6n42Ipoud"
      },
      "source": [
        "sales.loc[ : , 'Item_Fat_Content'].replace( {'LF' : 'Low Fat',\n",
        "                                            'low fat' : 'Low Fat',\n",
        "                                             'reg' : 'Regular'}, inplace=True)"
      ],
      "execution_count": 8,
      "outputs": []
    },
    {
      "cell_type": "code",
      "metadata": {
        "colab": {
          "base_uri": "https://localhost:8080/"
        },
        "id": "1qFqMy9rs1Li",
        "outputId": "efa26355-95ff-4646-aad0-c1a61f9a0932"
      },
      "source": [
        "sales['Item_Fat_Content'].value_counts()"
      ],
      "execution_count": 9,
      "outputs": [
        {
          "output_type": "execute_result",
          "data": {
            "text/plain": [
              "Low Fat    5517\n",
              "Regular    3006\n",
              "Name: Item_Fat_Content, dtype: int64"
            ]
          },
          "metadata": {
            "tags": []
          },
          "execution_count": 9
        }
      ]
    },
    {
      "cell_type": "code",
      "metadata": {
        "colab": {
          "base_uri": "https://localhost:8080/"
        },
        "id": "OF7c5d7y-aUz",
        "outputId": "b7952584-b9a5-44c8-d406-e244d7fccfb7"
      },
      "source": [
        "sales['Item_Identifier'].value_counts()"
      ],
      "execution_count": 10,
      "outputs": [
        {
          "output_type": "execute_result",
          "data": {
            "text/plain": [
              "FDW13    10\n",
              "FDG33    10\n",
              "FDQ40     9\n",
              "FDV38     9\n",
              "FDG09     9\n",
              "         ..\n",
              "FDC23     1\n",
              "FDQ60     1\n",
              "FDK57     1\n",
              "FDY43     1\n",
              "DRF48     1\n",
              "Name: Item_Identifier, Length: 1559, dtype: int64"
            ]
          },
          "metadata": {
            "tags": []
          },
          "execution_count": 10
        }
      ]
    },
    {
      "cell_type": "code",
      "metadata": {
        "colab": {
          "base_uri": "https://localhost:8080/"
        },
        "id": "B3G59-WT-8ry",
        "outputId": "cb5b0115-0421-47ea-f86d-a0420ae88627"
      },
      "source": [
        "sales['Item_MRP'].value_counts()"
      ],
      "execution_count": 11,
      "outputs": [
        {
          "output_type": "execute_result",
          "data": {
            "text/plain": [
              "172.0422    7\n",
              "188.1872    6\n",
              "170.5422    6\n",
              "109.5228    6\n",
              "196.5084    6\n",
              "           ..\n",
              "212.8218    1\n",
              "190.3872    1\n",
              "162.6868    1\n",
              "189.1214    1\n",
              "51.3008     1\n",
              "Name: Item_MRP, Length: 5938, dtype: int64"
            ]
          },
          "metadata": {
            "tags": []
          },
          "execution_count": 11
        }
      ]
    },
    {
      "cell_type": "code",
      "metadata": {
        "colab": {
          "base_uri": "https://localhost:8080/"
        },
        "id": "cSdlzLqS_0Yo",
        "outputId": "3c8bd61b-01de-42ad-ba3f-2561011b930f"
      },
      "source": [
        "sales['Item_Outlet_Sales'].value_counts()"
      ],
      "execution_count": 12,
      "outputs": [
        {
          "output_type": "execute_result",
          "data": {
            "text/plain": [
              "958.7520     17\n",
              "1342.2528    16\n",
              "1845.5976    15\n",
              "703.0848     15\n",
              "1278.3360    14\n",
              "             ..\n",
              "3167.8764     1\n",
              "2226.4352     1\n",
              "1684.4740     1\n",
              "1574.6170     1\n",
              "6692.6216     1\n",
              "Name: Item_Outlet_Sales, Length: 3493, dtype: int64"
            ]
          },
          "metadata": {
            "tags": []
          },
          "execution_count": 12
        }
      ]
    },
    {
      "cell_type": "code",
      "metadata": {
        "colab": {
          "base_uri": "https://localhost:8080/"
        },
        "id": "QDlPaJkq__RV",
        "outputId": "39e709d8-1a0f-4324-8f44-670fa01587d6"
      },
      "source": [
        "sales['Item_Type'].value_counts()"
      ],
      "execution_count": 13,
      "outputs": [
        {
          "output_type": "execute_result",
          "data": {
            "text/plain": [
              "Fruits and Vegetables    1232\n",
              "Snack Foods              1200\n",
              "Household                 910\n",
              "Frozen Foods              856\n",
              "Dairy                     682\n",
              "Canned                    649\n",
              "Baking Goods              648\n",
              "Health and Hygiene        520\n",
              "Soft Drinks               445\n",
              "Meat                      425\n",
              "Breads                    251\n",
              "Hard Drinks               214\n",
              "Others                    169\n",
              "Starchy Foods             148\n",
              "Breakfast                 110\n",
              "Seafood                    64\n",
              "Name: Item_Type, dtype: int64"
            ]
          },
          "metadata": {
            "tags": []
          },
          "execution_count": 13
        }
      ]
    },
    {
      "cell_type": "code",
      "metadata": {
        "colab": {
          "base_uri": "https://localhost:8080/"
        },
        "id": "oauVANoEAJhv",
        "outputId": "7e9c4fce-3ac8-480e-b604-97cc318e5ba4"
      },
      "source": [
        "sales['Item_Weight'].value_counts()"
      ],
      "execution_count": 14,
      "outputs": [
        {
          "output_type": "execute_result",
          "data": {
            "text/plain": [
              "12.150    86\n",
              "17.600    82\n",
              "13.650    77\n",
              "11.800    76\n",
              "15.100    68\n",
              "          ..\n",
              "7.560      2\n",
              "9.420      1\n",
              "5.400      1\n",
              "6.520      1\n",
              "7.685      1\n",
              "Name: Item_Weight, Length: 415, dtype: int64"
            ]
          },
          "metadata": {
            "tags": []
          },
          "execution_count": 14
        }
      ]
    },
    {
      "cell_type": "code",
      "metadata": {
        "colab": {
          "base_uri": "https://localhost:8080/"
        },
        "id": "jE6oQo13K5zQ",
        "outputId": "20d205a4-97f1-419e-fdc1-221a331c31da"
      },
      "source": [
        "sales['Outlet_Establishment_Year'].value_counts()"
      ],
      "execution_count": 15,
      "outputs": [
        {
          "output_type": "execute_result",
          "data": {
            "text/plain": [
              "1985    1463\n",
              "1987     932\n",
              "1999     930\n",
              "1997     930\n",
              "2004     930\n",
              "2002     929\n",
              "2009     928\n",
              "2007     926\n",
              "1998     555\n",
              "Name: Outlet_Establishment_Year, dtype: int64"
            ]
          },
          "metadata": {
            "tags": []
          },
          "execution_count": 15
        }
      ]
    },
    {
      "cell_type": "code",
      "metadata": {
        "colab": {
          "base_uri": "https://localhost:8080/"
        },
        "id": "yWhWzx0IQLC7",
        "outputId": "909be221-d95c-4afe-f78f-32a4c180345a"
      },
      "source": [
        "sales['Outlet_Identifier'].value_counts()"
      ],
      "execution_count": 16,
      "outputs": [
        {
          "output_type": "execute_result",
          "data": {
            "text/plain": [
              "OUT027    935\n",
              "OUT013    932\n",
              "OUT049    930\n",
              "OUT035    930\n",
              "OUT046    930\n",
              "OUT045    929\n",
              "OUT018    928\n",
              "OUT017    926\n",
              "OUT010    555\n",
              "OUT019    528\n",
              "Name: Outlet_Identifier, dtype: int64"
            ]
          },
          "metadata": {
            "tags": []
          },
          "execution_count": 16
        }
      ]
    },
    {
      "cell_type": "code",
      "metadata": {
        "colab": {
          "base_uri": "https://localhost:8080/"
        },
        "id": "WpFNa_2XQOzE",
        "outputId": "b2561ab1-2484-4094-fa01-db80e55202bf"
      },
      "source": [
        "sales['Outlet_Location_Type'].value_counts()"
      ],
      "execution_count": 17,
      "outputs": [
        {
          "output_type": "execute_result",
          "data": {
            "text/plain": [
              "Tier 3    3350\n",
              "Tier 2    2785\n",
              "Tier 1    2388\n",
              "Name: Outlet_Location_Type, dtype: int64"
            ]
          },
          "metadata": {
            "tags": []
          },
          "execution_count": 17
        }
      ]
    },
    {
      "cell_type": "code",
      "metadata": {
        "colab": {
          "base_uri": "https://localhost:8080/"
        },
        "id": "1Y6pzxpyQW6l",
        "outputId": "d1d7b8ec-15a2-4b72-a781-4e5852d54318"
      },
      "source": [
        "sales['Outlet_Size'].value_counts()"
      ],
      "execution_count": 18,
      "outputs": [
        {
          "output_type": "execute_result",
          "data": {
            "text/plain": [
              "Medium    2793\n",
              "Small     2388\n",
              "High       932\n",
              "Name: Outlet_Size, dtype: int64"
            ]
          },
          "metadata": {
            "tags": []
          },
          "execution_count": 18
        }
      ]
    },
    {
      "cell_type": "code",
      "metadata": {
        "colab": {
          "base_uri": "https://localhost:8080/"
        },
        "id": "NGLmTk-FQ3ez",
        "outputId": "cb001c2b-3ff7-45f3-ff8d-4e1a4bf871eb"
      },
      "source": [
        "sales['Outlet_Type'].value_counts()"
      ],
      "execution_count": 19,
      "outputs": [
        {
          "output_type": "execute_result",
          "data": {
            "text/plain": [
              "Supermarket Type1    5577\n",
              "Grocery Store        1083\n",
              "Supermarket Type3     935\n",
              "Supermarket Type2     928\n",
              "Name: Outlet_Type, dtype: int64"
            ]
          },
          "metadata": {
            "tags": []
          },
          "execution_count": 19
        }
      ]
    },
    {
      "cell_type": "markdown",
      "metadata": {
        "id": "rkpSQde7RRnU"
      },
      "source": [
        "## Columns to Drop\n",
        "\n",
        "I will drop only the \"Item_Visibility\" column for now. Initially I thought this column would prove to be useful in predicting sales baased on the visibility of each individual product, however, since the lowest visibility products, including those with zero visibility, account for the majority of the dataset (77%). There is no need to qualify this coulumn's data values beecause it is irrelevent. \n",
        "Also, the products with the highest visibiilty, both above .3 and .2, account for only 1.4%, further proving this column's irrelevance.\n",
        "\n",
        "#### It is my belief that we can assume the product's visibility value has very little to do with it's sale value."
      ]
    },
    {
      "cell_type": "code",
      "metadata": {
        "colab": {
          "base_uri": "https://localhost:8080/"
        },
        "id": "bxsZEFv5ADg6",
        "outputId": "f662a024-dec1-48e0-e886-fc62f52d781d"
      },
      "source": [
        "vis_filter = sales['Item_Visibility'].count()\n",
        "vis_filter1 = (sales['Item_Visibility'] >= .0) & (sales['Item_Visibility'] < .1)\n",
        "vis_filter2 = (sales['Item_Visibility'] >= .1) & (sales['Item_Visibility'] < .2)\n",
        "vis_filter3 = (sales['Item_Visibility'] >= .2) & (sales['Item_Visibility'] < .3)\n",
        "vis_filter4 = sales['Item_Visibility'] >= .3\n",
        "\n",
        "vis_count1 = sales.loc[vis_filter1, 'Item_Visibility'].count()\n",
        "vis_count2 = sales.loc[vis_filter2, 'Item_Visibility'].count()\n",
        "vis_count3 = sales.loc[vis_filter3, 'Item_Visibility'].count()\n",
        "vis_count4 = sales.loc[vis_filter4, 'Item_Visibility'].count()\n",
        "\n",
        "print(vis_count1)\n",
        "print(round(vis_count1/vis_filter, 2))\n",
        "print(vis_count2)\n",
        "print(round(vis_count2/vis_filter, 2))\n",
        "print(vis_count3)\n",
        "print(round(vis_count3/vis_filter, 3))\n",
        "print(vis_count4)\n",
        "print(round(vis_count4/vis_filter, 4))"
      ],
      "execution_count": 20,
      "outputs": [
        {
          "output_type": "stream",
          "text": [
            "6593\n",
            "0.77\n",
            "1796\n",
            "0.21\n",
            "122\n",
            "0.014\n",
            "12\n",
            "0.0014\n"
          ],
          "name": "stdout"
        }
      ]
    },
    {
      "cell_type": "code",
      "metadata": {
        "id": "EW139y8tTCTq"
      },
      "source": [
        "sales.drop(columns = 'Item_Visibility', inplace = True)"
      ],
      "execution_count": 21,
      "outputs": []
    },
    {
      "cell_type": "markdown",
      "metadata": {
        "id": "_XFNeUzxWtxz"
      },
      "source": [
        "## Exploring the relevance of missing data in the Item_Weight and Outlet_Size columns"
      ]
    },
    {
      "cell_type": "markdown",
      "metadata": {
        "id": "cB1RAy0lXzd6"
      },
      "source": [
        "\n",
        "\n",
        "---\n",
        "\n",
        "----- First... look at Outlet_Size column"
      ]
    },
    {
      "cell_type": "code",
      "metadata": {
        "colab": {
          "base_uri": "https://localhost:8080/",
          "height": 206
        },
        "id": "9U2xMveaew_F",
        "outputId": "0bf75c58-6326-4842-f344-e3a95c1f7d88"
      },
      "source": [
        "outlet_missing = sales['Outlet_Size'].isna()\n",
        "sales.loc[outlet_missing, :].head()"
      ],
      "execution_count": 22,
      "outputs": [
        {
          "output_type": "execute_result",
          "data": {
            "text/html": [
              "<div>\n",
              "<style scoped>\n",
              "    .dataframe tbody tr th:only-of-type {\n",
              "        vertical-align: middle;\n",
              "    }\n",
              "\n",
              "    .dataframe tbody tr th {\n",
              "        vertical-align: top;\n",
              "    }\n",
              "\n",
              "    .dataframe thead th {\n",
              "        text-align: right;\n",
              "    }\n",
              "</style>\n",
              "<table border=\"1\" class=\"dataframe\">\n",
              "  <thead>\n",
              "    <tr style=\"text-align: right;\">\n",
              "      <th></th>\n",
              "      <th>Item_Identifier</th>\n",
              "      <th>Item_Weight</th>\n",
              "      <th>Item_Fat_Content</th>\n",
              "      <th>Item_Type</th>\n",
              "      <th>Item_MRP</th>\n",
              "      <th>Outlet_Identifier</th>\n",
              "      <th>Outlet_Establishment_Year</th>\n",
              "      <th>Outlet_Size</th>\n",
              "      <th>Outlet_Location_Type</th>\n",
              "      <th>Outlet_Type</th>\n",
              "      <th>Item_Outlet_Sales</th>\n",
              "    </tr>\n",
              "  </thead>\n",
              "  <tbody>\n",
              "    <tr>\n",
              "      <th>3</th>\n",
              "      <td>FDX07</td>\n",
              "      <td>19.200</td>\n",
              "      <td>Regular</td>\n",
              "      <td>Fruits and Vegetables</td>\n",
              "      <td>182.0950</td>\n",
              "      <td>OUT010</td>\n",
              "      <td>1998</td>\n",
              "      <td>NaN</td>\n",
              "      <td>Tier 3</td>\n",
              "      <td>Grocery Store</td>\n",
              "      <td>732.3800</td>\n",
              "    </tr>\n",
              "    <tr>\n",
              "      <th>8</th>\n",
              "      <td>FDH17</td>\n",
              "      <td>16.200</td>\n",
              "      <td>Regular</td>\n",
              "      <td>Frozen Foods</td>\n",
              "      <td>96.9726</td>\n",
              "      <td>OUT045</td>\n",
              "      <td>2002</td>\n",
              "      <td>NaN</td>\n",
              "      <td>Tier 2</td>\n",
              "      <td>Supermarket Type1</td>\n",
              "      <td>1076.5986</td>\n",
              "    </tr>\n",
              "    <tr>\n",
              "      <th>9</th>\n",
              "      <td>FDU28</td>\n",
              "      <td>19.200</td>\n",
              "      <td>Regular</td>\n",
              "      <td>Frozen Foods</td>\n",
              "      <td>187.8214</td>\n",
              "      <td>OUT017</td>\n",
              "      <td>2007</td>\n",
              "      <td>NaN</td>\n",
              "      <td>Tier 2</td>\n",
              "      <td>Supermarket Type1</td>\n",
              "      <td>4710.5350</td>\n",
              "    </tr>\n",
              "    <tr>\n",
              "      <th>25</th>\n",
              "      <td>NCD06</td>\n",
              "      <td>13.000</td>\n",
              "      <td>Low Fat</td>\n",
              "      <td>Household</td>\n",
              "      <td>45.9060</td>\n",
              "      <td>OUT017</td>\n",
              "      <td>2007</td>\n",
              "      <td>NaN</td>\n",
              "      <td>Tier 2</td>\n",
              "      <td>Supermarket Type1</td>\n",
              "      <td>838.9080</td>\n",
              "    </tr>\n",
              "    <tr>\n",
              "      <th>28</th>\n",
              "      <td>FDE51</td>\n",
              "      <td>5.925</td>\n",
              "      <td>Regular</td>\n",
              "      <td>Dairy</td>\n",
              "      <td>45.5086</td>\n",
              "      <td>OUT010</td>\n",
              "      <td>1998</td>\n",
              "      <td>NaN</td>\n",
              "      <td>Tier 3</td>\n",
              "      <td>Grocery Store</td>\n",
              "      <td>178.4344</td>\n",
              "    </tr>\n",
              "  </tbody>\n",
              "</table>\n",
              "</div>"
            ],
            "text/plain": [
              "   Item_Identifier  Item_Weight  ...        Outlet_Type Item_Outlet_Sales\n",
              "3            FDX07       19.200  ...      Grocery Store          732.3800\n",
              "8            FDH17       16.200  ...  Supermarket Type1         1076.5986\n",
              "9            FDU28       19.200  ...  Supermarket Type1         4710.5350\n",
              "25           NCD06       13.000  ...  Supermarket Type1          838.9080\n",
              "28           FDE51        5.925  ...      Grocery Store          178.4344\n",
              "\n",
              "[5 rows x 11 columns]"
            ]
          },
          "metadata": {
            "tags": []
          },
          "execution_count": 22
        }
      ]
    },
    {
      "cell_type": "code",
      "metadata": {
        "colab": {
          "base_uri": "https://localhost:8080/"
        },
        "id": "9D6pEgHffkfU",
        "outputId": "701bff5f-df90-4481-dfc5-8ea6a766a79e"
      },
      "source": [
        "sales[outlet_missing].shape"
      ],
      "execution_count": 23,
      "outputs": [
        {
          "output_type": "execute_result",
          "data": {
            "text/plain": [
              "(2410, 11)"
            ]
          },
          "metadata": {
            "tags": []
          },
          "execution_count": 23
        }
      ]
    },
    {
      "cell_type": "code",
      "metadata": {
        "colab": {
          "base_uri": "https://localhost:8080/"
        },
        "id": "v13zcCG930E1",
        "outputId": "de0d077a-5674-4abc-dfda-76f63f7c1885"
      },
      "source": [
        "# Checking value counts with the outlet_missing filter on the Outlet_Identifier column to see how \n",
        "# the missing Outlet_Size values compare to the Outlet_Identifier value counts already checked above\n",
        "\n",
        "sales.loc[outlet_missing, 'Outlet_Identifier'].value_counts()"
      ],
      "execution_count": 24,
      "outputs": [
        {
          "output_type": "execute_result",
          "data": {
            "text/plain": [
              "OUT045    929\n",
              "OUT017    926\n",
              "OUT010    555\n",
              "Name: Outlet_Identifier, dtype: int64"
            ]
          },
          "metadata": {
            "tags": []
          },
          "execution_count": 24
        }
      ]
    },
    {
      "cell_type": "code",
      "metadata": {
        "colab": {
          "base_uri": "https://localhost:8080/"
        },
        "id": "ift-485z3Bty",
        "outputId": "51ca6a5f-1cb3-456c-8adc-57c2a45732f8"
      },
      "source": [
        "# Checking how the Outlet_Type and Outlet_Identifier columns compare together with the missing\n",
        "# values from the Outlet_Size column\n",
        "\n",
        "sales.loc[outlet_missing, ['Outlet_Identifier', 'Outlet_Type', 'Outlet_Establishment_Year', 'Outlet_Location_Type']].value_counts()"
      ],
      "execution_count": 25,
      "outputs": [
        {
          "output_type": "execute_result",
          "data": {
            "text/plain": [
              "Outlet_Identifier  Outlet_Type        Outlet_Establishment_Year  Outlet_Location_Type\n",
              "OUT045             Supermarket Type1  2002                       Tier 2                  929\n",
              "OUT017             Supermarket Type1  2007                       Tier 2                  926\n",
              "OUT010             Grocery Store      1998                       Tier 3                  555\n",
              "dtype: int64"
            ]
          },
          "metadata": {
            "tags": []
          },
          "execution_count": 25
        }
      ]
    },
    {
      "cell_type": "markdown",
      "metadata": {
        "id": "ZWP0iKdC_L2i"
      },
      "source": [
        "#### In the above cell where the value counts for the Outlet_Type column \"Supermarket Type1\" accounted for 5577 cells I will check to see if all the other Outlet_Type rows with \"Supermarket Type1\" contain a consistent Outlet_Size as this will allow me to see what the Outlet_Size values should be."
      ]
    },
    {
      "cell_type": "code",
      "metadata": {
        "colab": {
          "base_uri": "https://localhost:8080/"
        },
        "cellView": "code",
        "id": "UPXkdhRB3BfV",
        "outputId": "88b5598a-cf2c-487e-9679-efa64333dca5"
      },
      "source": [
        "# Checking value counts with the outlet_missing filter on the Outlet_Type column to see how \n",
        "# the missing Outlet_Size values compare to the Outlet_Type value counts already checked above\n",
        "\n",
        "print(sales.loc[outlet_missing, 'Outlet_Type'].value_counts())\n",
        "print(sales.loc[outlet_missing, 'Outlet_Establishment_Year'].value_counts()) #All Years correspond with missing values\n",
        "print(sales.loc[outlet_missing, 'Outlet_Location_Type'].value_counts()) #Tier 3 = 555 (same as Grocery and OUT010 and 1998)\n",
        "print(sales.loc[outlet_missing, 'Item_Outlet_Sales'].value_counts().sort_values())\n",
        "print(sales.loc[outlet_missing, 'Item_Outlet_Sales'].max())"
      ],
      "execution_count": 26,
      "outputs": [
        {
          "output_type": "stream",
          "text": [
            "Supermarket Type1    1855\n",
            "Grocery Store         555\n",
            "Name: Outlet_Type, dtype: int64\n",
            "2002    929\n",
            "2007    926\n",
            "1998    555\n",
            "Name: Outlet_Establishment_Year, dtype: int64\n",
            "Tier 2    1855\n",
            "Tier 3     555\n",
            "Name: Outlet_Location_Type, dtype: int64\n",
            "95.8752      1\n",
            "237.6906     1\n",
            "8760.5964    1\n",
            "2366.9190    1\n",
            "2646.5550    1\n",
            "            ..\n",
            "2302.3364    5\n",
            "1230.3984    6\n",
            "1225.0720    6\n",
            "958.7520     6\n",
            "838.9080     7\n",
            "Name: Item_Outlet_Sales, Length: 1627, dtype: int64\n",
            "9664.7528\n"
          ],
          "name": "stdout"
        }
      ]
    },
    {
      "cell_type": "code",
      "metadata": {
        "colab": {
          "base_uri": "https://localhost:8080/"
        },
        "id": "4sJ5lJk-2dGW",
        "outputId": "4f04c819-fb0d-4fe4-82c7-7cc871276735"
      },
      "source": [
        "# there's no clear correlation between location tier and store size\n",
        "tier1_filter = sales['Outlet_Location_Type'] == 'Tier 1'\n",
        "tier2_filter = sales['Outlet_Location_Type'] == 'Tier 2'\n",
        "tier3_filter = sales['Outlet_Location_Type'] == 'Tier 3'\n",
        "\n",
        "print(sales.loc[tier1_filter, 'Outlet_Size'].value_counts())\n",
        "print(sales.loc[tier2_filter, 'Outlet_Size'].value_counts())\n",
        "print(sales.loc[tier3_filter, 'Outlet_Size'].value_counts())"
      ],
      "execution_count": 27,
      "outputs": [
        {
          "output_type": "stream",
          "text": [
            "Small     1458\n",
            "Medium     930\n",
            "Name: Outlet_Size, dtype: int64\n",
            "Small    930\n",
            "Name: Outlet_Size, dtype: int64\n",
            "Medium    1863\n",
            "High       932\n",
            "Name: Outlet_Size, dtype: int64\n"
          ],
          "name": "stdout"
        }
      ]
    },
    {
      "cell_type": "code",
      "metadata": {
        "colab": {
          "base_uri": "https://localhost:8080/"
        },
        "id": "XEM8-ZOiQfCv",
        "outputId": "5020c009-a615-47c0-b278-e404f7ba1c1a"
      },
      "source": [
        "# These 3 years only correlate with the missing values ... no evidence of store size imputation\n",
        "\n",
        "year98est_filter = sales['Outlet_Establishment_Year'] == 1998\n",
        "year02est_filter = sales['Outlet_Establishment_Year'] == 2002\n",
        "year07est_filter = sales['Outlet_Establishment_Year'] == 2007\n",
        "\n",
        "print(sales.loc[year98est_filter, 'Outlet_Size'].value_counts())\n",
        "print(sales.loc[year02est_filter, 'Outlet_Size'].value_counts())\n",
        "print(sales.loc[year07est_filter, 'Outlet_Size'].value_counts())"
      ],
      "execution_count": 28,
      "outputs": [
        {
          "output_type": "stream",
          "text": [
            "Series([], Name: Outlet_Size, dtype: int64)\n",
            "Series([], Name: Outlet_Size, dtype: int64)\n",
            "Series([], Name: Outlet_Size, dtype: int64)\n"
          ],
          "name": "stdout"
        }
      ]
    },
    {
      "cell_type": "code",
      "metadata": {
        "colab": {
          "base_uri": "https://localhost:8080/"
        },
        "id": "ZDl3snzr4D8f",
        "outputId": "73e11d1d-1cc8-4ded-a4d0-bbc7f3e88e50"
      },
      "source": [
        "# Grocery Store is only listed as Small. All other rows that contain 'Grocery Store' show NAN for the Outlet Size \n",
        "\n",
        "sup1Type_filter = sales['Outlet_Type'] == 'Supermarket Type1'\n",
        "grocType_filter = sales['Outlet_Type'] == 'Grocery Store'\n",
        "\n",
        "print(sales.loc[sup1Type_filter, 'Outlet_Size'].value_counts())\n",
        "print(sales.loc[grocType_filter, 'Outlet_Size'].value_counts())"
      ],
      "execution_count": 29,
      "outputs": [
        {
          "output_type": "stream",
          "text": [
            "Small     1860\n",
            "High       932\n",
            "Medium     930\n",
            "Name: Outlet_Size, dtype: int64\n",
            "Small    528\n",
            "Name: Outlet_Size, dtype: int64\n"
          ],
          "name": "stdout"
        }
      ]
    },
    {
      "cell_type": "code",
      "metadata": {
        "colab": {
          "base_uri": "https://localhost:8080/",
          "height": 423
        },
        "id": "mCfniV03Kz1U",
        "outputId": "a6d608f0-9e95-4b6a-8cda-0406697a5bac"
      },
      "source": [
        "# All rows containing OUT010, 1998 and Grocery Store occupy the same 555 rows.\n",
        "# These 555 rows are missing a value for Outlet Size and are all in location Tier 3.\n",
        "# I believe that since the only other mention of Grocery is small and that Tier 3 is \n",
        "\n",
        "sales.loc[outlet_missing & tier3_filter, [ 'Outlet_Type', 'Outlet_Identifier', 'Outlet_Establishment_Year']]"
      ],
      "execution_count": 30,
      "outputs": [
        {
          "output_type": "execute_result",
          "data": {
            "text/html": [
              "<div>\n",
              "<style scoped>\n",
              "    .dataframe tbody tr th:only-of-type {\n",
              "        vertical-align: middle;\n",
              "    }\n",
              "\n",
              "    .dataframe tbody tr th {\n",
              "        vertical-align: top;\n",
              "    }\n",
              "\n",
              "    .dataframe thead th {\n",
              "        text-align: right;\n",
              "    }\n",
              "</style>\n",
              "<table border=\"1\" class=\"dataframe\">\n",
              "  <thead>\n",
              "    <tr style=\"text-align: right;\">\n",
              "      <th></th>\n",
              "      <th>Outlet_Type</th>\n",
              "      <th>Outlet_Identifier</th>\n",
              "      <th>Outlet_Establishment_Year</th>\n",
              "    </tr>\n",
              "  </thead>\n",
              "  <tbody>\n",
              "    <tr>\n",
              "      <th>3</th>\n",
              "      <td>Grocery Store</td>\n",
              "      <td>OUT010</td>\n",
              "      <td>1998</td>\n",
              "    </tr>\n",
              "    <tr>\n",
              "      <th>28</th>\n",
              "      <td>Grocery Store</td>\n",
              "      <td>OUT010</td>\n",
              "      <td>1998</td>\n",
              "    </tr>\n",
              "    <tr>\n",
              "      <th>30</th>\n",
              "      <td>Grocery Store</td>\n",
              "      <td>OUT010</td>\n",
              "      <td>1998</td>\n",
              "    </tr>\n",
              "    <tr>\n",
              "      <th>45</th>\n",
              "      <td>Grocery Store</td>\n",
              "      <td>OUT010</td>\n",
              "      <td>1998</td>\n",
              "    </tr>\n",
              "    <tr>\n",
              "      <th>65</th>\n",
              "      <td>Grocery Store</td>\n",
              "      <td>OUT010</td>\n",
              "      <td>1998</td>\n",
              "    </tr>\n",
              "    <tr>\n",
              "      <th>...</th>\n",
              "      <td>...</td>\n",
              "      <td>...</td>\n",
              "      <td>...</td>\n",
              "    </tr>\n",
              "    <tr>\n",
              "      <th>8400</th>\n",
              "      <td>Grocery Store</td>\n",
              "      <td>OUT010</td>\n",
              "      <td>1998</td>\n",
              "    </tr>\n",
              "    <tr>\n",
              "      <th>8432</th>\n",
              "      <td>Grocery Store</td>\n",
              "      <td>OUT010</td>\n",
              "      <td>1998</td>\n",
              "    </tr>\n",
              "    <tr>\n",
              "      <th>8473</th>\n",
              "      <td>Grocery Store</td>\n",
              "      <td>OUT010</td>\n",
              "      <td>1998</td>\n",
              "    </tr>\n",
              "    <tr>\n",
              "      <th>8486</th>\n",
              "      <td>Grocery Store</td>\n",
              "      <td>OUT010</td>\n",
              "      <td>1998</td>\n",
              "    </tr>\n",
              "    <tr>\n",
              "      <th>8509</th>\n",
              "      <td>Grocery Store</td>\n",
              "      <td>OUT010</td>\n",
              "      <td>1998</td>\n",
              "    </tr>\n",
              "  </tbody>\n",
              "</table>\n",
              "<p>555 rows × 3 columns</p>\n",
              "</div>"
            ],
            "text/plain": [
              "        Outlet_Type Outlet_Identifier  Outlet_Establishment_Year\n",
              "3     Grocery Store            OUT010                       1998\n",
              "28    Grocery Store            OUT010                       1998\n",
              "30    Grocery Store            OUT010                       1998\n",
              "45    Grocery Store            OUT010                       1998\n",
              "65    Grocery Store            OUT010                       1998\n",
              "...             ...               ...                        ...\n",
              "8400  Grocery Store            OUT010                       1998\n",
              "8432  Grocery Store            OUT010                       1998\n",
              "8473  Grocery Store            OUT010                       1998\n",
              "8486  Grocery Store            OUT010                       1998\n",
              "8509  Grocery Store            OUT010                       1998\n",
              "\n",
              "[555 rows x 3 columns]"
            ]
          },
          "metadata": {
            "tags": []
          },
          "execution_count": 30
        }
      ]
    },
    {
      "cell_type": "code",
      "metadata": {
        "colab": {
          "base_uri": "https://localhost:8080/"
        },
        "id": "Lk8tHVSA50Op",
        "outputId": "db2f5bd9-9479-40fe-e4de-0a6faf89980a"
      },
      "source": [
        "# Without further exploring the Item Sales agaisnt other information there is no clear correlation\n",
        "# between the item sales and Outlet Size\n",
        "\n",
        "size = sales['Outlet_Size'] == 'Small'\n",
        "\n",
        "itSales1_filter = sales['Item_Outlet_Sales'] <= 100\n",
        "itSales2_filter = (sales['Item_Outlet_Sales'] >= 101) & (sales['Item_Outlet_Sales'] <= 200)\n",
        "itSales3_filter = (sales['Item_Outlet_Sales'] >= 201) & (sales['Item_Outlet_Sales'] <= 300)\n",
        "itSales4_filter = (sales['Item_Outlet_Sales'] >= 301) & (sales['Item_Outlet_Sales'] <= 400)\n",
        "itSales5_filter = (sales['Item_Outlet_Sales'] >= 401) & (sales['Item_Outlet_Sales'] <= 500)\n",
        "itSales6_filter = (sales['Item_Outlet_Sales'] >= 501) & (sales['Item_Outlet_Sales'] <= 600)\n",
        "itSales7_filter = (sales['Item_Outlet_Sales'] >= 601) & (sales['Item_Outlet_Sales'] <= 700)\n",
        "itSales8_filter = (sales['Item_Outlet_Sales'] >= 701) & (sales['Item_Outlet_Sales'] <= 800)\n",
        "itSales9_filter = (sales['Item_Outlet_Sales'] >= 801) & (sales['Item_Outlet_Sales'] <= 900)\n",
        "itSales10_filter = sales['Item_Outlet_Sales'] >= 901\n",
        "\n",
        "print(sales.loc[itSales1_filter, 'Outlet_Size'].value_counts())\n",
        "print(sales.loc[itSales1_filter & outlet_missing, 'Item_Outlet_Sales'].count())\n",
        "print(sales.loc[itSales2_filter, 'Outlet_Size'].value_counts())\n",
        "print(sales.loc[itSales2_filter & outlet_missing, 'Item_Outlet_Sales'].count())\n",
        "print(sales.loc[itSales3_filter, 'Outlet_Size'].value_counts())\n",
        "print(sales.loc[itSales3_filter & outlet_missing, 'Item_Outlet_Sales'].count())\n",
        "print(sales.loc[itSales4_filter, 'Outlet_Size'].value_counts())\n",
        "print(sales.loc[itSales4_filter & outlet_missing, 'Item_Outlet_Sales'].count())\n",
        "print(sales.loc[itSales5_filter, 'Outlet_Size'].value_counts())\n",
        "print(sales.loc[itSales5_filter & outlet_missing, 'Item_Outlet_Sales'].count())\n",
        "print(sales.loc[itSales6_filter, 'Outlet_Size'].value_counts())\n",
        "print(sales.loc[itSales6_filter & outlet_missing, 'Item_Outlet_Sales'].count())\n",
        "print(sales.loc[itSales7_filter, 'Outlet_Size'].value_counts())\n",
        "print(sales.loc[itSales7_filter & outlet_missing, 'Item_Outlet_Sales'].count())\n",
        "print(sales.loc[itSales8_filter, 'Outlet_Size'].value_counts())\n",
        "print(sales.loc[itSales8_filter & outlet_missing, 'Item_Outlet_Sales'].count())\n",
        "print(sales.loc[itSales9_filter, 'Outlet_Size'].value_counts())\n",
        "print(sales.loc[itSales9_filter & outlet_missing, 'Item_Outlet_Sales'].count())\n",
        "print(sales.loc[itSales10_filter, 'Outlet_Size'].value_counts())\n",
        "print(sales.loc[itSales10_filter & outlet_missing, 'Item_Outlet_Sales'].count())"
      ],
      "execution_count": 31,
      "outputs": [
        {
          "output_type": "stream",
          "text": [
            "Small     54\n",
            "Medium     3\n",
            "High       1\n",
            "Name: Outlet_Size, dtype: int64\n",
            "66\n",
            "Small     148\n",
            "Medium     17\n",
            "High       10\n",
            "Name: Outlet_Size, dtype: int64\n",
            "179\n",
            "Small     107\n",
            "Medium     27\n",
            "High       17\n",
            "Name: Outlet_Size, dtype: int64\n",
            "104\n",
            "Small     106\n",
            "Medium     37\n",
            "High       30\n",
            "Name: Outlet_Size, dtype: int64\n",
            "96\n",
            "Small     95\n",
            "Medium    52\n",
            "High      15\n",
            "Name: Outlet_Size, dtype: int64\n",
            "92\n",
            "Small     84\n",
            "Medium    69\n",
            "High      25\n",
            "Name: Outlet_Size, dtype: int64\n",
            "98\n",
            "Small     70\n",
            "Medium    67\n",
            "High      36\n",
            "Name: Outlet_Size, dtype: int64\n",
            "70\n",
            "Small     83\n",
            "Medium    71\n",
            "High      28\n",
            "Name: Outlet_Size, dtype: int64\n",
            "93\n",
            "Medium    69\n",
            "Small     67\n",
            "High      21\n",
            "Name: Outlet_Size, dtype: int64\n",
            "76\n",
            "Medium    2380\n",
            "Small     1571\n",
            "High       749\n",
            "Name: Outlet_Size, dtype: int64\n",
            "1533\n"
          ],
          "name": "stdout"
        }
      ]
    },
    {
      "cell_type": "code",
      "metadata": {
        "colab": {
          "base_uri": "https://localhost:8080/"
        },
        "id": "sCSWpOuMBEnc",
        "outputId": "bd31916a-4192-48c2-9e02-f5ec138e64cd"
      },
      "source": [
        "# Further proof that Grocery Story is either listed as Small in the Outlet Size column or Nan\n",
        "# There are 555 rows containing Grocery and no specification of Outlet Size\n",
        "# There are 528 rows containing Grocery and Small Outlet Size\n",
        "\n",
        "print(sales.loc[grocType_filter, 'Outlet_Type'].value_counts())\n",
        "print(sales[grocType_filter & ~outlet_missing].count())"
      ],
      "execution_count": 32,
      "outputs": [
        {
          "output_type": "stream",
          "text": [
            "Grocery Store    1083\n",
            "Name: Outlet_Type, dtype: int64\n",
            "Item_Identifier              528\n",
            "Item_Weight                    0\n",
            "Item_Fat_Content             528\n",
            "Item_Type                    528\n",
            "Item_MRP                     528\n",
            "Outlet_Identifier            528\n",
            "Outlet_Establishment_Year    528\n",
            "Outlet_Size                  528\n",
            "Outlet_Location_Type         528\n",
            "Outlet_Type                  528\n",
            "Item_Outlet_Sales            528\n",
            "dtype: int64\n"
          ],
          "name": "stdout"
        }
      ]
    },
    {
      "cell_type": "code",
      "metadata": {
        "colab": {
          "base_uri": "https://localhost:8080/"
        },
        "id": "8xiL6_CKEy-K",
        "outputId": "ddcae31b-70b8-4c8d-a17d-eb9eb6b38568"
      },
      "source": [
        "sales[grocType_filter & outlet_missing].count()"
      ],
      "execution_count": 33,
      "outputs": [
        {
          "output_type": "execute_result",
          "data": {
            "text/plain": [
              "Item_Identifier              555\n",
              "Item_Weight                  555\n",
              "Item_Fat_Content             555\n",
              "Item_Type                    555\n",
              "Item_MRP                     555\n",
              "Outlet_Identifier            555\n",
              "Outlet_Establishment_Year    555\n",
              "Outlet_Size                    0\n",
              "Outlet_Location_Type         555\n",
              "Outlet_Type                  555\n",
              "Item_Outlet_Sales            555\n",
              "dtype: int64"
            ]
          },
          "metadata": {
            "tags": []
          },
          "execution_count": 33
        }
      ]
    },
    {
      "cell_type": "code",
      "metadata": {
        "colab": {
          "base_uri": "https://localhost:8080/"
        },
        "id": "n6Z7RuFjFtxN",
        "outputId": "633c3c48-e702-4cfe-cd81-66176ced654d"
      },
      "source": [
        "# Further proving that these Outlet Idenifier numbers are missing from the Outlet Size column\n",
        "# this not help impute size for these outlet stores\n",
        "\n",
        "OUT045_filter = sales['Outlet_Identifier'] == 'OUT045'\n",
        "OUT017_filter = sales['Outlet_Identifier'] == 'OUT017'\n",
        "OUT010_filter = sales['Outlet_Identifier'] == 'OUT010'\n",
        "\n",
        "sales.loc[OUT010_filter | OUT017_filter | OUT045_filter, 'Outlet_Size'].count()"
      ],
      "execution_count": 34,
      "outputs": [
        {
          "output_type": "execute_result",
          "data": {
            "text/plain": [
              "0"
            ]
          },
          "metadata": {
            "tags": []
          },
          "execution_count": 34
        }
      ]
    },
    {
      "cell_type": "markdown",
      "metadata": {
        "id": "itKkVwuUeiuA"
      },
      "source": [
        "\n",
        "\n",
        "---\n",
        "\n",
        "---- Second... Look at Item_Weight column\n"
      ]
    },
    {
      "cell_type": "code",
      "metadata": {
        "colab": {
          "base_uri": "https://localhost:8080/",
          "height": 206
        },
        "id": "UIeFXGHzdn7e",
        "outputId": "81254271-24a8-405b-e630-84ce14040191"
      },
      "source": [
        "weight_missing = sales['Item_Weight'].isna()\n",
        "sales.loc[weight_missing, :].head()"
      ],
      "execution_count": 35,
      "outputs": [
        {
          "output_type": "execute_result",
          "data": {
            "text/html": [
              "<div>\n",
              "<style scoped>\n",
              "    .dataframe tbody tr th:only-of-type {\n",
              "        vertical-align: middle;\n",
              "    }\n",
              "\n",
              "    .dataframe tbody tr th {\n",
              "        vertical-align: top;\n",
              "    }\n",
              "\n",
              "    .dataframe thead th {\n",
              "        text-align: right;\n",
              "    }\n",
              "</style>\n",
              "<table border=\"1\" class=\"dataframe\">\n",
              "  <thead>\n",
              "    <tr style=\"text-align: right;\">\n",
              "      <th></th>\n",
              "      <th>Item_Identifier</th>\n",
              "      <th>Item_Weight</th>\n",
              "      <th>Item_Fat_Content</th>\n",
              "      <th>Item_Type</th>\n",
              "      <th>Item_MRP</th>\n",
              "      <th>Outlet_Identifier</th>\n",
              "      <th>Outlet_Establishment_Year</th>\n",
              "      <th>Outlet_Size</th>\n",
              "      <th>Outlet_Location_Type</th>\n",
              "      <th>Outlet_Type</th>\n",
              "      <th>Item_Outlet_Sales</th>\n",
              "    </tr>\n",
              "  </thead>\n",
              "  <tbody>\n",
              "    <tr>\n",
              "      <th>7</th>\n",
              "      <td>FDP10</td>\n",
              "      <td>NaN</td>\n",
              "      <td>Low Fat</td>\n",
              "      <td>Snack Foods</td>\n",
              "      <td>107.7622</td>\n",
              "      <td>OUT027</td>\n",
              "      <td>1985</td>\n",
              "      <td>Medium</td>\n",
              "      <td>Tier 3</td>\n",
              "      <td>Supermarket Type3</td>\n",
              "      <td>4022.7636</td>\n",
              "    </tr>\n",
              "    <tr>\n",
              "      <th>18</th>\n",
              "      <td>DRI11</td>\n",
              "      <td>NaN</td>\n",
              "      <td>Low Fat</td>\n",
              "      <td>Hard Drinks</td>\n",
              "      <td>113.2834</td>\n",
              "      <td>OUT027</td>\n",
              "      <td>1985</td>\n",
              "      <td>Medium</td>\n",
              "      <td>Tier 3</td>\n",
              "      <td>Supermarket Type3</td>\n",
              "      <td>2303.6680</td>\n",
              "    </tr>\n",
              "    <tr>\n",
              "      <th>21</th>\n",
              "      <td>FDW12</td>\n",
              "      <td>NaN</td>\n",
              "      <td>Regular</td>\n",
              "      <td>Baking Goods</td>\n",
              "      <td>144.5444</td>\n",
              "      <td>OUT027</td>\n",
              "      <td>1985</td>\n",
              "      <td>Medium</td>\n",
              "      <td>Tier 3</td>\n",
              "      <td>Supermarket Type3</td>\n",
              "      <td>4064.0432</td>\n",
              "    </tr>\n",
              "    <tr>\n",
              "      <th>23</th>\n",
              "      <td>FDC37</td>\n",
              "      <td>NaN</td>\n",
              "      <td>Low Fat</td>\n",
              "      <td>Baking Goods</td>\n",
              "      <td>107.6938</td>\n",
              "      <td>OUT019</td>\n",
              "      <td>1985</td>\n",
              "      <td>Small</td>\n",
              "      <td>Tier 1</td>\n",
              "      <td>Grocery Store</td>\n",
              "      <td>214.3876</td>\n",
              "    </tr>\n",
              "    <tr>\n",
              "      <th>29</th>\n",
              "      <td>FDC14</td>\n",
              "      <td>NaN</td>\n",
              "      <td>Regular</td>\n",
              "      <td>Canned</td>\n",
              "      <td>43.6454</td>\n",
              "      <td>OUT019</td>\n",
              "      <td>1985</td>\n",
              "      <td>Small</td>\n",
              "      <td>Tier 1</td>\n",
              "      <td>Grocery Store</td>\n",
              "      <td>125.8362</td>\n",
              "    </tr>\n",
              "  </tbody>\n",
              "</table>\n",
              "</div>"
            ],
            "text/plain": [
              "   Item_Identifier  Item_Weight  ...        Outlet_Type Item_Outlet_Sales\n",
              "7            FDP10          NaN  ...  Supermarket Type3         4022.7636\n",
              "18           DRI11          NaN  ...  Supermarket Type3         2303.6680\n",
              "21           FDW12          NaN  ...  Supermarket Type3         4064.0432\n",
              "23           FDC37          NaN  ...      Grocery Store          214.3876\n",
              "29           FDC14          NaN  ...      Grocery Store          125.8362\n",
              "\n",
              "[5 rows x 11 columns]"
            ]
          },
          "metadata": {
            "tags": []
          },
          "execution_count": 35
        }
      ]
    },
    {
      "cell_type": "code",
      "metadata": {
        "colab": {
          "base_uri": "https://localhost:8080/"
        },
        "id": "ESI0A1eChDYE",
        "outputId": "11bcb974-9772-4779-ad41-2672b8232b6d"
      },
      "source": [
        "sales[weight_missing].shape"
      ],
      "execution_count": 36,
      "outputs": [
        {
          "output_type": "execute_result",
          "data": {
            "text/plain": [
              "(1463, 11)"
            ]
          },
          "metadata": {
            "tags": []
          },
          "execution_count": 36
        }
      ]
    },
    {
      "cell_type": "code",
      "metadata": {
        "colab": {
          "base_uri": "https://localhost:8080/"
        },
        "id": "znfgDHFo9MiI",
        "outputId": "37b34b9e-e17a-446c-bd6e-217b9f632a5e"
      },
      "source": [
        "sales['Item_Weight'].value_counts()"
      ],
      "execution_count": 37,
      "outputs": [
        {
          "output_type": "execute_result",
          "data": {
            "text/plain": [
              "12.150    86\n",
              "17.600    82\n",
              "13.650    77\n",
              "11.800    76\n",
              "15.100    68\n",
              "          ..\n",
              "7.560      2\n",
              "9.420      1\n",
              "5.400      1\n",
              "6.520      1\n",
              "7.685      1\n",
              "Name: Item_Weight, Length: 415, dtype: int64"
            ]
          },
          "metadata": {
            "tags": []
          },
          "execution_count": 37
        }
      ]
    },
    {
      "cell_type": "code",
      "metadata": {
        "colab": {
          "base_uri": "https://localhost:8080/"
        },
        "id": "Uf8aKdSI-XGK",
        "outputId": "70097bd6-50f2-4eee-bf2a-409a2c5817b4"
      },
      "source": [
        "sales.loc[weight_missing, 'Item_Type'].value_counts()"
      ],
      "execution_count": 38,
      "outputs": [
        {
          "output_type": "execute_result",
          "data": {
            "text/plain": [
              "Fruits and Vegetables    213\n",
              "Snack Foods              212\n",
              "Household                151\n",
              "Frozen Foods             138\n",
              "Dairy                    116\n",
              "Baking Goods             112\n",
              "Canned                   110\n",
              "Health and Hygiene        90\n",
              "Meat                      88\n",
              "Soft Drinks               71\n",
              "Breads                    47\n",
              "Others                    32\n",
              "Hard Drinks               31\n",
              "Breakfast                 21\n",
              "Starchy Foods             18\n",
              "Seafood                   13\n",
              "Name: Item_Type, dtype: int64"
            ]
          },
          "metadata": {
            "tags": []
          },
          "execution_count": 38
        }
      ]
    },
    {
      "cell_type": "code",
      "metadata": {
        "colab": {
          "base_uri": "https://localhost:8080/",
          "height": 958
        },
        "id": "hxp2VIH0CCp6",
        "outputId": "77710824-24e6-4f94-a319-179317bc774f"
      },
      "source": [
        "sales.loc[weight_missing, :].groupby(['Item_Type','Item_Fat_Content'])[['Item_Weight','Item_MRP']].count()\n"
      ],
      "execution_count": 39,
      "outputs": [
        {
          "output_type": "execute_result",
          "data": {
            "text/html": [
              "<div>\n",
              "<style scoped>\n",
              "    .dataframe tbody tr th:only-of-type {\n",
              "        vertical-align: middle;\n",
              "    }\n",
              "\n",
              "    .dataframe tbody tr th {\n",
              "        vertical-align: top;\n",
              "    }\n",
              "\n",
              "    .dataframe thead th {\n",
              "        text-align: right;\n",
              "    }\n",
              "</style>\n",
              "<table border=\"1\" class=\"dataframe\">\n",
              "  <thead>\n",
              "    <tr style=\"text-align: right;\">\n",
              "      <th></th>\n",
              "      <th></th>\n",
              "      <th>Item_Weight</th>\n",
              "      <th>Item_MRP</th>\n",
              "    </tr>\n",
              "    <tr>\n",
              "      <th>Item_Type</th>\n",
              "      <th>Item_Fat_Content</th>\n",
              "      <th></th>\n",
              "      <th></th>\n",
              "    </tr>\n",
              "  </thead>\n",
              "  <tbody>\n",
              "    <tr>\n",
              "      <th rowspan=\"2\" valign=\"top\">Baking Goods</th>\n",
              "      <th>Low Fat</th>\n",
              "      <td>0</td>\n",
              "      <td>67</td>\n",
              "    </tr>\n",
              "    <tr>\n",
              "      <th>Regular</th>\n",
              "      <td>0</td>\n",
              "      <td>45</td>\n",
              "    </tr>\n",
              "    <tr>\n",
              "      <th rowspan=\"2\" valign=\"top\">Breads</th>\n",
              "      <th>Low Fat</th>\n",
              "      <td>0</td>\n",
              "      <td>27</td>\n",
              "    </tr>\n",
              "    <tr>\n",
              "      <th>Regular</th>\n",
              "      <td>0</td>\n",
              "      <td>20</td>\n",
              "    </tr>\n",
              "    <tr>\n",
              "      <th rowspan=\"2\" valign=\"top\">Breakfast</th>\n",
              "      <th>Low Fat</th>\n",
              "      <td>0</td>\n",
              "      <td>7</td>\n",
              "    </tr>\n",
              "    <tr>\n",
              "      <th>Regular</th>\n",
              "      <td>0</td>\n",
              "      <td>14</td>\n",
              "    </tr>\n",
              "    <tr>\n",
              "      <th rowspan=\"2\" valign=\"top\">Canned</th>\n",
              "      <th>Low Fat</th>\n",
              "      <td>0</td>\n",
              "      <td>55</td>\n",
              "    </tr>\n",
              "    <tr>\n",
              "      <th>Regular</th>\n",
              "      <td>0</td>\n",
              "      <td>55</td>\n",
              "    </tr>\n",
              "    <tr>\n",
              "      <th rowspan=\"2\" valign=\"top\">Dairy</th>\n",
              "      <th>Low Fat</th>\n",
              "      <td>0</td>\n",
              "      <td>64</td>\n",
              "    </tr>\n",
              "    <tr>\n",
              "      <th>Regular</th>\n",
              "      <td>0</td>\n",
              "      <td>52</td>\n",
              "    </tr>\n",
              "    <tr>\n",
              "      <th rowspan=\"2\" valign=\"top\">Frozen Foods</th>\n",
              "      <th>Low Fat</th>\n",
              "      <td>0</td>\n",
              "      <td>75</td>\n",
              "    </tr>\n",
              "    <tr>\n",
              "      <th>Regular</th>\n",
              "      <td>0</td>\n",
              "      <td>63</td>\n",
              "    </tr>\n",
              "    <tr>\n",
              "      <th rowspan=\"2\" valign=\"top\">Fruits and Vegetables</th>\n",
              "      <th>Low Fat</th>\n",
              "      <td>0</td>\n",
              "      <td>112</td>\n",
              "    </tr>\n",
              "    <tr>\n",
              "      <th>Regular</th>\n",
              "      <td>0</td>\n",
              "      <td>101</td>\n",
              "    </tr>\n",
              "    <tr>\n",
              "      <th>Hard Drinks</th>\n",
              "      <th>Low Fat</th>\n",
              "      <td>0</td>\n",
              "      <td>31</td>\n",
              "    </tr>\n",
              "    <tr>\n",
              "      <th>Health and Hygiene</th>\n",
              "      <th>Low Fat</th>\n",
              "      <td>0</td>\n",
              "      <td>90</td>\n",
              "    </tr>\n",
              "    <tr>\n",
              "      <th>Household</th>\n",
              "      <th>Low Fat</th>\n",
              "      <td>0</td>\n",
              "      <td>151</td>\n",
              "    </tr>\n",
              "    <tr>\n",
              "      <th rowspan=\"2\" valign=\"top\">Meat</th>\n",
              "      <th>Low Fat</th>\n",
              "      <td>0</td>\n",
              "      <td>38</td>\n",
              "    </tr>\n",
              "    <tr>\n",
              "      <th>Regular</th>\n",
              "      <td>0</td>\n",
              "      <td>50</td>\n",
              "    </tr>\n",
              "    <tr>\n",
              "      <th>Others</th>\n",
              "      <th>Low Fat</th>\n",
              "      <td>0</td>\n",
              "      <td>32</td>\n",
              "    </tr>\n",
              "    <tr>\n",
              "      <th rowspan=\"2\" valign=\"top\">Seafood</th>\n",
              "      <th>Low Fat</th>\n",
              "      <td>0</td>\n",
              "      <td>8</td>\n",
              "    </tr>\n",
              "    <tr>\n",
              "      <th>Regular</th>\n",
              "      <td>0</td>\n",
              "      <td>5</td>\n",
              "    </tr>\n",
              "    <tr>\n",
              "      <th rowspan=\"2\" valign=\"top\">Snack Foods</th>\n",
              "      <th>Low Fat</th>\n",
              "      <td>0</td>\n",
              "      <td>127</td>\n",
              "    </tr>\n",
              "    <tr>\n",
              "      <th>Regular</th>\n",
              "      <td>0</td>\n",
              "      <td>85</td>\n",
              "    </tr>\n",
              "    <tr>\n",
              "      <th rowspan=\"2\" valign=\"top\">Soft Drinks</th>\n",
              "      <th>Low Fat</th>\n",
              "      <td>0</td>\n",
              "      <td>59</td>\n",
              "    </tr>\n",
              "    <tr>\n",
              "      <th>Regular</th>\n",
              "      <td>0</td>\n",
              "      <td>12</td>\n",
              "    </tr>\n",
              "    <tr>\n",
              "      <th rowspan=\"2\" valign=\"top\">Starchy Foods</th>\n",
              "      <th>Low Fat</th>\n",
              "      <td>0</td>\n",
              "      <td>8</td>\n",
              "    </tr>\n",
              "    <tr>\n",
              "      <th>Regular</th>\n",
              "      <td>0</td>\n",
              "      <td>10</td>\n",
              "    </tr>\n",
              "  </tbody>\n",
              "</table>\n",
              "</div>"
            ],
            "text/plain": [
              "                                        Item_Weight  Item_MRP\n",
              "Item_Type             Item_Fat_Content                       \n",
              "Baking Goods          Low Fat                     0        67\n",
              "                      Regular                     0        45\n",
              "Breads                Low Fat                     0        27\n",
              "                      Regular                     0        20\n",
              "Breakfast             Low Fat                     0         7\n",
              "                      Regular                     0        14\n",
              "Canned                Low Fat                     0        55\n",
              "                      Regular                     0        55\n",
              "Dairy                 Low Fat                     0        64\n",
              "                      Regular                     0        52\n",
              "Frozen Foods          Low Fat                     0        75\n",
              "                      Regular                     0        63\n",
              "Fruits and Vegetables Low Fat                     0       112\n",
              "                      Regular                     0       101\n",
              "Hard Drinks           Low Fat                     0        31\n",
              "Health and Hygiene    Low Fat                     0        90\n",
              "Household             Low Fat                     0       151\n",
              "Meat                  Low Fat                     0        38\n",
              "                      Regular                     0        50\n",
              "Others                Low Fat                     0        32\n",
              "Seafood               Low Fat                     0         8\n",
              "                      Regular                     0         5\n",
              "Snack Foods           Low Fat                     0       127\n",
              "                      Regular                     0        85\n",
              "Soft Drinks           Low Fat                     0        59\n",
              "                      Regular                     0        12\n",
              "Starchy Foods         Low Fat                     0         8\n",
              "                      Regular                     0        10"
            ]
          },
          "metadata": {
            "tags": []
          },
          "execution_count": 39
        }
      ]
    },
    {
      "cell_type": "code",
      "metadata": {
        "colab": {
          "base_uri": "https://localhost:8080/",
          "height": 958
        },
        "id": "SKMa-pLZESX0",
        "outputId": "4c615015-24a0-4086-d9bf-fbff7edb042e"
      },
      "source": [
        "sales.loc[~weight_missing, :].groupby(['Item_Type','Item_Fat_Content'])[['Item_Weight','Item_MRP']].count()"
      ],
      "execution_count": 40,
      "outputs": [
        {
          "output_type": "execute_result",
          "data": {
            "text/html": [
              "<div>\n",
              "<style scoped>\n",
              "    .dataframe tbody tr th:only-of-type {\n",
              "        vertical-align: middle;\n",
              "    }\n",
              "\n",
              "    .dataframe tbody tr th {\n",
              "        vertical-align: top;\n",
              "    }\n",
              "\n",
              "    .dataframe thead th {\n",
              "        text-align: right;\n",
              "    }\n",
              "</style>\n",
              "<table border=\"1\" class=\"dataframe\">\n",
              "  <thead>\n",
              "    <tr style=\"text-align: right;\">\n",
              "      <th></th>\n",
              "      <th></th>\n",
              "      <th>Item_Weight</th>\n",
              "      <th>Item_MRP</th>\n",
              "    </tr>\n",
              "    <tr>\n",
              "      <th>Item_Type</th>\n",
              "      <th>Item_Fat_Content</th>\n",
              "      <th></th>\n",
              "      <th></th>\n",
              "    </tr>\n",
              "  </thead>\n",
              "  <tbody>\n",
              "    <tr>\n",
              "      <th rowspan=\"2\" valign=\"top\">Baking Goods</th>\n",
              "      <th>Low Fat</th>\n",
              "      <td>262</td>\n",
              "      <td>262</td>\n",
              "    </tr>\n",
              "    <tr>\n",
              "      <th>Regular</th>\n",
              "      <td>274</td>\n",
              "      <td>274</td>\n",
              "    </tr>\n",
              "    <tr>\n",
              "      <th rowspan=\"2\" valign=\"top\">Breads</th>\n",
              "      <th>Low Fat</th>\n",
              "      <td>113</td>\n",
              "      <td>113</td>\n",
              "    </tr>\n",
              "    <tr>\n",
              "      <th>Regular</th>\n",
              "      <td>91</td>\n",
              "      <td>91</td>\n",
              "    </tr>\n",
              "    <tr>\n",
              "      <th rowspan=\"2\" valign=\"top\">Breakfast</th>\n",
              "      <th>Low Fat</th>\n",
              "      <td>34</td>\n",
              "      <td>34</td>\n",
              "    </tr>\n",
              "    <tr>\n",
              "      <th>Regular</th>\n",
              "      <td>55</td>\n",
              "      <td>55</td>\n",
              "    </tr>\n",
              "    <tr>\n",
              "      <th rowspan=\"2\" valign=\"top\">Canned</th>\n",
              "      <th>Low Fat</th>\n",
              "      <td>286</td>\n",
              "      <td>286</td>\n",
              "    </tr>\n",
              "    <tr>\n",
              "      <th>Regular</th>\n",
              "      <td>253</td>\n",
              "      <td>253</td>\n",
              "    </tr>\n",
              "    <tr>\n",
              "      <th rowspan=\"2\" valign=\"top\">Dairy</th>\n",
              "      <th>Low Fat</th>\n",
              "      <td>354</td>\n",
              "      <td>354</td>\n",
              "    </tr>\n",
              "    <tr>\n",
              "      <th>Regular</th>\n",
              "      <td>212</td>\n",
              "      <td>212</td>\n",
              "    </tr>\n",
              "    <tr>\n",
              "      <th rowspan=\"2\" valign=\"top\">Frozen Foods</th>\n",
              "      <th>Low Fat</th>\n",
              "      <td>375</td>\n",
              "      <td>375</td>\n",
              "    </tr>\n",
              "    <tr>\n",
              "      <th>Regular</th>\n",
              "      <td>343</td>\n",
              "      <td>343</td>\n",
              "    </tr>\n",
              "    <tr>\n",
              "      <th rowspan=\"2\" valign=\"top\">Fruits and Vegetables</th>\n",
              "      <th>Low Fat</th>\n",
              "      <td>518</td>\n",
              "      <td>518</td>\n",
              "    </tr>\n",
              "    <tr>\n",
              "      <th>Regular</th>\n",
              "      <td>501</td>\n",
              "      <td>501</td>\n",
              "    </tr>\n",
              "    <tr>\n",
              "      <th>Hard Drinks</th>\n",
              "      <th>Low Fat</th>\n",
              "      <td>183</td>\n",
              "      <td>183</td>\n",
              "    </tr>\n",
              "    <tr>\n",
              "      <th>Health and Hygiene</th>\n",
              "      <th>Low Fat</th>\n",
              "      <td>430</td>\n",
              "      <td>430</td>\n",
              "    </tr>\n",
              "    <tr>\n",
              "      <th>Household</th>\n",
              "      <th>Low Fat</th>\n",
              "      <td>759</td>\n",
              "      <td>759</td>\n",
              "    </tr>\n",
              "    <tr>\n",
              "      <th rowspan=\"2\" valign=\"top\">Meat</th>\n",
              "      <th>Low Fat</th>\n",
              "      <td>132</td>\n",
              "      <td>132</td>\n",
              "    </tr>\n",
              "    <tr>\n",
              "      <th>Regular</th>\n",
              "      <td>205</td>\n",
              "      <td>205</td>\n",
              "    </tr>\n",
              "    <tr>\n",
              "      <th>Others</th>\n",
              "      <th>Low Fat</th>\n",
              "      <td>137</td>\n",
              "      <td>137</td>\n",
              "    </tr>\n",
              "    <tr>\n",
              "      <th rowspan=\"2\" valign=\"top\">Seafood</th>\n",
              "      <th>Low Fat</th>\n",
              "      <td>29</td>\n",
              "      <td>29</td>\n",
              "    </tr>\n",
              "    <tr>\n",
              "      <th>Regular</th>\n",
              "      <td>22</td>\n",
              "      <td>22</td>\n",
              "    </tr>\n",
              "    <tr>\n",
              "      <th rowspan=\"2\" valign=\"top\">Snack Foods</th>\n",
              "      <th>Low Fat</th>\n",
              "      <td>565</td>\n",
              "      <td>565</td>\n",
              "    </tr>\n",
              "    <tr>\n",
              "      <th>Regular</th>\n",
              "      <td>423</td>\n",
              "      <td>423</td>\n",
              "    </tr>\n",
              "    <tr>\n",
              "      <th rowspan=\"2\" valign=\"top\">Soft Drinks</th>\n",
              "      <th>Low Fat</th>\n",
              "      <td>315</td>\n",
              "      <td>315</td>\n",
              "    </tr>\n",
              "    <tr>\n",
              "      <th>Regular</th>\n",
              "      <td>59</td>\n",
              "      <td>59</td>\n",
              "    </tr>\n",
              "    <tr>\n",
              "      <th rowspan=\"2\" valign=\"top\">Starchy Foods</th>\n",
              "      <th>Low Fat</th>\n",
              "      <td>74</td>\n",
              "      <td>74</td>\n",
              "    </tr>\n",
              "    <tr>\n",
              "      <th>Regular</th>\n",
              "      <td>56</td>\n",
              "      <td>56</td>\n",
              "    </tr>\n",
              "  </tbody>\n",
              "</table>\n",
              "</div>"
            ],
            "text/plain": [
              "                                        Item_Weight  Item_MRP\n",
              "Item_Type             Item_Fat_Content                       \n",
              "Baking Goods          Low Fat                   262       262\n",
              "                      Regular                   274       274\n",
              "Breads                Low Fat                   113       113\n",
              "                      Regular                    91        91\n",
              "Breakfast             Low Fat                    34        34\n",
              "                      Regular                    55        55\n",
              "Canned                Low Fat                   286       286\n",
              "                      Regular                   253       253\n",
              "Dairy                 Low Fat                   354       354\n",
              "                      Regular                   212       212\n",
              "Frozen Foods          Low Fat                   375       375\n",
              "                      Regular                   343       343\n",
              "Fruits and Vegetables Low Fat                   518       518\n",
              "                      Regular                   501       501\n",
              "Hard Drinks           Low Fat                   183       183\n",
              "Health and Hygiene    Low Fat                   430       430\n",
              "Household             Low Fat                   759       759\n",
              "Meat                  Low Fat                   132       132\n",
              "                      Regular                   205       205\n",
              "Others                Low Fat                   137       137\n",
              "Seafood               Low Fat                    29        29\n",
              "                      Regular                    22        22\n",
              "Snack Foods           Low Fat                   565       565\n",
              "                      Regular                   423       423\n",
              "Soft Drinks           Low Fat                   315       315\n",
              "                      Regular                    59        59\n",
              "Starchy Foods         Low Fat                    74        74\n",
              "                      Regular                    56        56"
            ]
          },
          "metadata": {
            "tags": []
          },
          "execution_count": 40
        }
      ]
    },
    {
      "cell_type": "code",
      "metadata": {
        "colab": {
          "base_uri": "https://localhost:8080/"
        },
        "id": "Tf2pucJn-rYk",
        "outputId": "d4ff7a3a-2af6-4df2-83a4-55ceef1b9671"
      },
      "source": [
        "sales.groupby(['Item_Type'])['Item_Weight'].mean()"
      ],
      "execution_count": 41,
      "outputs": [
        {
          "output_type": "execute_result",
          "data": {
            "text/plain": [
              "Item_Type\n",
              "Baking Goods             12.277108\n",
              "Breads                   11.346936\n",
              "Breakfast                12.768202\n",
              "Canned                   12.305705\n",
              "Dairy                    13.426069\n",
              "Frozen Foods             12.867061\n",
              "Fruits and Vegetables    13.224769\n",
              "Hard Drinks              11.400328\n",
              "Health and Hygiene       13.142314\n",
              "Household                13.384736\n",
              "Meat                     12.817344\n",
              "Others                   13.853285\n",
              "Seafood                  12.552843\n",
              "Snack Foods              12.987880\n",
              "Soft Drinks              11.847460\n",
              "Starchy Foods            13.690731\n",
              "Name: Item_Weight, dtype: float64"
            ]
          },
          "metadata": {
            "tags": []
          },
          "execution_count": 41
        }
      ]
    },
    {
      "cell_type": "code",
      "metadata": {
        "colab": {
          "base_uri": "https://localhost:8080/"
        },
        "id": "Eupk3Q1o_rKB",
        "outputId": "e32f4055-8c5e-4741-905d-07997e9d1259"
      },
      "source": [
        "sales.groupby(['Item_Type'])['Item_Weight'].max()"
      ],
      "execution_count": 42,
      "outputs": [
        {
          "output_type": "execute_result",
          "data": {
            "text/plain": [
              "Item_Type\n",
              "Baking Goods             20.85\n",
              "Breads                   20.85\n",
              "Breakfast                21.10\n",
              "Canned                   21.35\n",
              "Dairy                    20.70\n",
              "Frozen Foods             20.85\n",
              "Fruits and Vegetables    21.35\n",
              "Hard Drinks              19.70\n",
              "Health and Hygiene       21.25\n",
              "Household                21.25\n",
              "Meat                     21.25\n",
              "Others                   20.50\n",
              "Seafood                  20.75\n",
              "Snack Foods              21.25\n",
              "Soft Drinks              20.75\n",
              "Starchy Foods            21.20\n",
              "Name: Item_Weight, dtype: float64"
            ]
          },
          "metadata": {
            "tags": []
          },
          "execution_count": 42
        }
      ]
    },
    {
      "cell_type": "code",
      "metadata": {
        "colab": {
          "base_uri": "https://localhost:8080/"
        },
        "id": "89bapIJS_4WE",
        "outputId": "8bcf31f0-c7a6-4224-82e9-fba839bf5495"
      },
      "source": [
        "print(sales.groupby(['Item_Type'])['Item_Weight'].min())"
      ],
      "execution_count": 43,
      "outputs": [
        {
          "output_type": "stream",
          "text": [
            "Item_Type\n",
            "Baking Goods             4.880\n",
            "Breads                   4.635\n",
            "Breakfast                6.425\n",
            "Canned                   4.615\n",
            "Dairy                    4.805\n",
            "Frozen Foods             4.555\n",
            "Fruits and Vegetables    5.460\n",
            "Hard Drinks              4.610\n",
            "Health and Hygiene       5.175\n",
            "Household                5.030\n",
            "Meat                     5.150\n",
            "Others                   5.500\n",
            "Seafood                  5.365\n",
            "Snack Foods              5.095\n",
            "Soft Drinks              4.590\n",
            "Starchy Foods            6.695\n",
            "Name: Item_Weight, dtype: float64\n"
          ],
          "name": "stdout"
        }
      ]
    },
    {
      "cell_type": "code",
      "metadata": {
        "colab": {
          "base_uri": "https://localhost:8080/"
        },
        "id": "RFfNnaV-J8yg",
        "outputId": "d74b8118-f719-47d1-8200-989885c7f883"
      },
      "source": [
        "sales.loc[weight_missing, 'Item_Identifier'].count()"
      ],
      "execution_count": 85,
      "outputs": [
        {
          "output_type": "execute_result",
          "data": {
            "text/plain": [
              "1463"
            ]
          },
          "metadata": {
            "tags": []
          },
          "execution_count": 85
        }
      ]
    },
    {
      "cell_type": "code",
      "metadata": {
        "colab": {
          "base_uri": "https://localhost:8080/"
        },
        "id": "nPiRvEYiOy-u",
        "outputId": "c13312f7-5339-4bfc-9625-6cf323b1b611"
      },
      "source": [
        "sales.loc[weight_missing, 'Item_Identifier'].nunique()"
      ],
      "execution_count": 87,
      "outputs": [
        {
          "output_type": "execute_result",
          "data": {
            "text/plain": [
              "1142"
            ]
          },
          "metadata": {
            "tags": []
          },
          "execution_count": 87
        }
      ]
    },
    {
      "cell_type": "code",
      "metadata": {
        "colab": {
          "base_uri": "https://localhost:8080/"
        },
        "id": "enwOy6T0BUzf",
        "outputId": "5f233c14-fc4b-445e-c39b-c8c2e977fdc6"
      },
      "source": [
        "sales.groupby(['Item_Type', 'Item_Identifier'])['Item_Weight'].count()"
      ],
      "execution_count": 45,
      "outputs": [
        {
          "output_type": "execute_result",
          "data": {
            "text/plain": [
              "Item_Type      Item_Identifier\n",
              "Baking Goods   FDA11              4\n",
              "               FDA23              5\n",
              "               FDA35              3\n",
              "               FDA36              2\n",
              "               FDA47              5\n",
              "                                 ..\n",
              "Starchy Foods  FDG59              5\n",
              "               FDH35              5\n",
              "               FDH47              6\n",
              "               FDI35              3\n",
              "               FDZ34              3\n",
              "Name: Item_Weight, Length: 1559, dtype: int64"
            ]
          },
          "metadata": {
            "tags": []
          },
          "execution_count": 45
        }
      ]
    },
    {
      "cell_type": "code",
      "metadata": {
        "colab": {
          "base_uri": "https://localhost:8080/",
          "height": 131
        },
        "id": "CwMQqOYRFNJY",
        "outputId": "b068b4b3-8eb3-4800-b4ab-c066a45f5658"
      },
      "source": [
        "# Found 2 of the NAN values that share a Type ID with 8 others. Easy to know\n",
        "# these weights are specific to this Type ID\n",
        "\n",
        "typeID_FDW13 =\n",
        " sales['Item_Identifier'] == 'FDW13'\n",
        "\n",
        "sales = sales.loc[typeID_FDW13, 'Item_Weight'].\n",
        "fillna(8.5)"
      ],
      "execution_count": 46,
      "outputs": [
        {
          "output_type": "error",
          "ename": "SyntaxError",
          "evalue": "ignored",
          "traceback": [
            "\u001b[0;36m  File \u001b[0;32m\"<ipython-input-46-26f08ee2bd99>\"\u001b[0;36m, line \u001b[0;32m6\u001b[0m\n\u001b[0;31m    sales = sales.loc[typeID_FDW13, 'Item_Weight'].\u001b[0m\n\u001b[0m                                                   ^\u001b[0m\n\u001b[0;31mSyntaxError\u001b[0m\u001b[0;31m:\u001b[0m invalid syntax\n"
          ]
        }
      ]
    },
    {
      "cell_type": "code",
      "metadata": {
        "id": "HIcf84iyGSfd"
      },
      "source": [
        ""
      ],
      "execution_count": null,
      "outputs": []
    },
    {
      "cell_type": "code",
      "metadata": {
        "id": "WAPkFMk3AkOq"
      },
      "source": [
        "sales['Imputed_Weight_Values'] = "
      ],
      "execution_count": null,
      "outputs": []
    },
    {
      "cell_type": "markdown",
      "metadata": {
        "id": "D2RaEQjgXc0H"
      },
      "source": [
        "## Removing Unwanted Data Observations"
      ]
    },
    {
      "cell_type": "code",
      "metadata": {
        "id": "JEJLUdXYTMJU"
      },
      "source": [
        "# Checking for duplicates\n",
        "\n",
        "sales.duplicated().any()"
      ],
      "execution_count": null,
      "outputs": []
    },
    {
      "cell_type": "markdown",
      "metadata": {
        "id": "kHo3B2T77cd9"
      },
      "source": [
        "# Part 3"
      ]
    },
    {
      "cell_type": "code",
      "metadata": {
        "id": "bKhxX0nyTa4j"
      },
      "source": [
        ""
      ],
      "execution_count": null,
      "outputs": []
    }
  ]
}